{
 "cells": [
  {
   "cell_type": "code",
   "execution_count": 474,
   "metadata": {
    "ExecuteTime": {
     "end_time": "2021-07-17T21:25:16.604322Z",
     "start_time": "2021-07-17T21:25:16.601464Z"
    }
   },
   "outputs": [],
   "source": [
    "import pandas as pd"
   ]
  },
  {
   "cell_type": "code",
   "execution_count": 475,
   "metadata": {
    "ExecuteTime": {
     "end_time": "2021-07-17T21:25:16.648489Z",
     "start_time": "2021-07-17T21:25:16.606939Z"
    }
   },
   "outputs": [],
   "source": [
    "df_1 = pd.read_csv('/Users/ethankunin/Documents/Flatiron/Captstone/Sentiment_Tracker/data/etl_df/df_etl_am1.csv')"
   ]
  },
  {
   "cell_type": "code",
   "execution_count": 476,
   "metadata": {
    "ExecuteTime": {
     "end_time": "2021-07-17T21:25:16.660713Z",
     "start_time": "2021-07-17T21:25:16.650263Z"
    }
   },
   "outputs": [
    {
     "data": {
      "text/html": [
       "<div>\n",
       "<style scoped>\n",
       "    .dataframe tbody tr th:only-of-type {\n",
       "        vertical-align: middle;\n",
       "    }\n",
       "\n",
       "    .dataframe tbody tr th {\n",
       "        vertical-align: top;\n",
       "    }\n",
       "\n",
       "    .dataframe thead th {\n",
       "        text-align: right;\n",
       "    }\n",
       "</style>\n",
       "<table border=\"1\" class=\"dataframe\">\n",
       "  <thead>\n",
       "    <tr style=\"text-align: right;\">\n",
       "      <th></th>\n",
       "      <th>publishedAt</th>\n",
       "      <th>title</th>\n",
       "      <th>description</th>\n",
       "      <th>content</th>\n",
       "      <th>results</th>\n",
       "      <th>source2</th>\n",
       "      <th>hour</th>\n",
       "      <th>day</th>\n",
       "      <th>cont_joined</th>\n",
       "      <th>neg</th>\n",
       "      <th>neu</th>\n",
       "      <th>pos</th>\n",
       "      <th>comp</th>\n",
       "      <th>blob</th>\n",
       "      <th>comp_abs</th>\n",
       "      <th>blob_abs</th>\n",
       "      <th>c_b</th>\n",
       "      <th>Sentiment</th>\n",
       "    </tr>\n",
       "  </thead>\n",
       "  <tbody>\n",
       "    <tr>\n",
       "      <th>0</th>\n",
       "      <td>2021-06-14 09:00:00-04:00</td>\n",
       "      <td>The Motherboard Guide to the Gig Economy</td>\n",
       "      <td>On the Clock is Motherboard's reporting on the...</td>\n",
       "      <td>On the Clock is Motherboard's reporting on the...</td>\n",
       "      <td>120.0</td>\n",
       "      <td>Vice News</td>\n",
       "      <td>9.0</td>\n",
       "      <td>14.0</td>\n",
       "      <td>The Motherboard Guide to the Gig Economy; On t...</td>\n",
       "      <td>0.0</td>\n",
       "      <td>0.937</td>\n",
       "      <td>0.063</td>\n",
       "      <td>0.3612</td>\n",
       "      <td>0.000000</td>\n",
       "      <td>1</td>\n",
       "      <td>0</td>\n",
       "      <td>0.361200</td>\n",
       "      <td>1</td>\n",
       "    </tr>\n",
       "    <tr>\n",
       "      <th>1</th>\n",
       "      <td>2021-06-14 09:00:00-04:00</td>\n",
       "      <td>Money Talks: The mother and the college studen...</td>\n",
       "      <td>Getty Images/Christina Animashaun for Vox\\n \\n...</td>\n",
       "      <td>Getty Images/Christina Animashaun for Vox\\n \\n...</td>\n",
       "      <td>120.0</td>\n",
       "      <td>Vox</td>\n",
       "      <td>9.0</td>\n",
       "      <td>14.0</td>\n",
       "      <td>Money Talks: The mother and the college studen...</td>\n",
       "      <td>0.0</td>\n",
       "      <td>0.881</td>\n",
       "      <td>0.119</td>\n",
       "      <td>0.6597</td>\n",
       "      <td>0.446429</td>\n",
       "      <td>1</td>\n",
       "      <td>1</td>\n",
       "      <td>0.213271</td>\n",
       "      <td>1</td>\n",
       "    </tr>\n",
       "    <tr>\n",
       "      <th>2</th>\n",
       "      <td>2021-06-14 09:00:00-04:00</td>\n",
       "      <td>Moto G Stylus 5G: Strong budget productivity d...</td>\n",
       "      <td>Moto G Stylus is the best-selling Moto G since...</td>\n",
       "      <td>Moto G Stylus is the best-selling Moto G since...</td>\n",
       "      <td>120.0</td>\n",
       "      <td>ZDNet</td>\n",
       "      <td>9.0</td>\n",
       "      <td>14.0</td>\n",
       "      <td>Moto G Stylus 5G: Strong budget productivity d...</td>\n",
       "      <td>0.0</td>\n",
       "      <td>0.809</td>\n",
       "      <td>0.191</td>\n",
       "      <td>0.8358</td>\n",
       "      <td>0.079861</td>\n",
       "      <td>1</td>\n",
       "      <td>0</td>\n",
       "      <td>0.755939</td>\n",
       "      <td>1</td>\n",
       "    </tr>\n",
       "  </tbody>\n",
       "</table>\n",
       "</div>"
      ],
      "text/plain": [
       "                 publishedAt  \\\n",
       "0  2021-06-14 09:00:00-04:00   \n",
       "1  2021-06-14 09:00:00-04:00   \n",
       "2  2021-06-14 09:00:00-04:00   \n",
       "\n",
       "                                               title  \\\n",
       "0           The Motherboard Guide to the Gig Economy   \n",
       "1  Money Talks: The mother and the college studen...   \n",
       "2  Moto G Stylus 5G: Strong budget productivity d...   \n",
       "\n",
       "                                         description  \\\n",
       "0  On the Clock is Motherboard's reporting on the...   \n",
       "1  Getty Images/Christina Animashaun for Vox\\n \\n...   \n",
       "2  Moto G Stylus is the best-selling Moto G since...   \n",
       "\n",
       "                                             content  results    source2  \\\n",
       "0  On the Clock is Motherboard's reporting on the...    120.0  Vice News   \n",
       "1  Getty Images/Christina Animashaun for Vox\\n \\n...    120.0        Vox   \n",
       "2  Moto G Stylus is the best-selling Moto G since...    120.0      ZDNet   \n",
       "\n",
       "   hour   day                                        cont_joined  neg    neu  \\\n",
       "0   9.0  14.0  The Motherboard Guide to the Gig Economy; On t...  0.0  0.937   \n",
       "1   9.0  14.0  Money Talks: The mother and the college studen...  0.0  0.881   \n",
       "2   9.0  14.0  Moto G Stylus 5G: Strong budget productivity d...  0.0  0.809   \n",
       "\n",
       "     pos    comp      blob  comp_abs  blob_abs       c_b  Sentiment  \n",
       "0  0.063  0.3612  0.000000         1         0  0.361200          1  \n",
       "1  0.119  0.6597  0.446429         1         1  0.213271          1  \n",
       "2  0.191  0.8358  0.079861         1         0  0.755939          1  "
      ]
     },
     "execution_count": 476,
     "metadata": {},
     "output_type": "execute_result"
    }
   ],
   "source": [
    "df_1.head(3)"
   ]
  },
  {
   "cell_type": "code",
   "execution_count": 477,
   "metadata": {
    "ExecuteTime": {
     "end_time": "2021-07-17T21:25:16.910946Z",
     "start_time": "2021-07-17T21:25:16.662181Z"
    }
   },
   "outputs": [],
   "source": [
    "import os\n",
    "\n",
    "goog_df= []\n",
    "apple_df = []\n",
    "fb_df = []\n",
    "nflx_df = []\n",
    "msft_df = []\n",
    "amzn_df = []\n",
    "\n",
    "directory = '/Users/ethankunin/Documents/Flatiron/Captstone/Sentiment_Tracker/data/etl_df'\n",
    "for filename in os.listdir(directory):\n",
    "    if filename.startswith('df_etl_go'):\n",
    "        df = pd.read_csv(f\"/Users/ethankunin/Documents/Flatiron/Captstone/Sentiment_Tracker/data/etl_df/{filename}\")\n",
    "        goog_df.append(df)\n",
    "        \n",
    "    if filename.startswith('df_etl_app'):\n",
    "        df = pd.read_csv(f\"/Users/ethankunin/Documents/Flatiron/Captstone/Sentiment_Tracker/data/etl_df/{filename}\")\n",
    "        apple_df.append(df)\n",
    "        \n",
    "    if filename.startswith('df_etl_fb'):\n",
    "        df = pd.read_csv(f\"/Users/ethankunin/Documents/Flatiron/Captstone/Sentiment_Tracker/data/etl_df/{filename}\")\n",
    "        fb_df.append(df)\n",
    "        \n",
    "    if filename.startswith('df_etl_nf'):\n",
    "        df = pd.read_csv(f\"/Users/ethankunin/Documents/Flatiron/Captstone/Sentiment_Tracker/data/etl_df/{filename}\")\n",
    "        nflx_df.append(df)\n",
    "        \n",
    "    if filename.startswith('df_etl_ms'):\n",
    "        df = pd.read_csv(f\"/Users/ethankunin/Documents/Flatiron/Captstone/Sentiment_Tracker/data/etl_df/{filename}\")\n",
    "        msft_df.append(df)\n",
    "\n",
    "    if filename.startswith('df_etl_am'):\n",
    "        df = pd.read_csv(f\"/Users/ethankunin/Documents/Flatiron/Captstone/Sentiment_Tracker/data/etl_df/{filename}\")\n",
    "        amzn_df.append(df)\n",
    "        "
   ]
  },
  {
   "cell_type": "code",
   "execution_count": 478,
   "metadata": {
    "ExecuteTime": {
     "end_time": "2021-07-17T21:25:16.913509Z",
     "start_time": "2021-07-17T21:25:16.911864Z"
    }
   },
   "outputs": [],
   "source": [
    "def full_df(lst_df):\n",
    "    df = pd.concat(lst_df, axis=0)\n",
    "    return df"
   ]
  },
  {
   "cell_type": "code",
   "execution_count": 479,
   "metadata": {
    "ExecuteTime": {
     "end_time": "2021-07-17T21:25:16.917822Z",
     "start_time": "2021-07-17T21:25:16.914514Z"
    }
   },
   "outputs": [],
   "source": [
    "lst_of_lst = [goog_df,apple_df,fb_df,nflx_df,msft_df,amzn_df]\n",
    "names = ['df_google', 'df_apple', 'df_facebook', 'df_nflx', 'df_mst', 'df_amzn']"
   ]
  },
  {
   "cell_type": "code",
   "execution_count": 480,
   "metadata": {
    "ExecuteTime": {
     "end_time": "2021-07-17T21:25:16.934006Z",
     "start_time": "2021-07-17T21:25:16.918855Z"
    }
   },
   "outputs": [],
   "source": [
    "df_apple=full_df(apple_df)\n",
    "df_facebook=full_df(fb_df)\n",
    "df_nflx=full_df(nflx_df)\n",
    "df_msft=full_df(msft_df)\n",
    "df_amzn=full_df(amzn_df)\n",
    "df_google=full_df(goog_df)"
   ]
  },
  {
   "cell_type": "code",
   "execution_count": 481,
   "metadata": {
    "ExecuteTime": {
     "end_time": "2021-07-17T21:25:16.952878Z",
     "start_time": "2021-07-17T21:25:16.936306Z"
    }
   },
   "outputs": [
    {
     "data": {
      "text/html": [
       "<div>\n",
       "<style scoped>\n",
       "    .dataframe tbody tr th:only-of-type {\n",
       "        vertical-align: middle;\n",
       "    }\n",
       "\n",
       "    .dataframe tbody tr th {\n",
       "        vertical-align: top;\n",
       "    }\n",
       "\n",
       "    .dataframe thead th {\n",
       "        text-align: right;\n",
       "    }\n",
       "</style>\n",
       "<table border=\"1\" class=\"dataframe\">\n",
       "  <thead>\n",
       "    <tr style=\"text-align: right;\">\n",
       "      <th></th>\n",
       "      <th>publishedAt</th>\n",
       "      <th>title</th>\n",
       "      <th>description</th>\n",
       "      <th>content</th>\n",
       "      <th>results</th>\n",
       "      <th>source2</th>\n",
       "      <th>hour</th>\n",
       "      <th>day</th>\n",
       "      <th>cont_joined</th>\n",
       "      <th>neg</th>\n",
       "      <th>neu</th>\n",
       "      <th>pos</th>\n",
       "      <th>comp</th>\n",
       "      <th>blob</th>\n",
       "      <th>comp_abs</th>\n",
       "      <th>blob_abs</th>\n",
       "      <th>c_b</th>\n",
       "      <th>Sentiment</th>\n",
       "    </tr>\n",
       "  </thead>\n",
       "  <tbody>\n",
       "    <tr>\n",
       "      <th>0</th>\n",
       "      <td>2021-06-14 09:00:00-04:00</td>\n",
       "      <td>Business / Arts Announces Annual Award Recipie...</td>\n",
       "      <td>TORONTO, June 14, 2021 (GLOBE NEWSWIRE) -- Bus...</td>\n",
       "      <td>TORONTO, June 14, 2021 (GLOBE NEWSWIRE) -- Bus...</td>\n",
       "      <td>25.0</td>\n",
       "      <td>GlobeNewswire</td>\n",
       "      <td>9.0</td>\n",
       "      <td>14.0</td>\n",
       "      <td>Business / Arts Announces Annual Award Recipie...</td>\n",
       "      <td>0.000</td>\n",
       "      <td>0.645</td>\n",
       "      <td>0.355</td>\n",
       "      <td>0.9382</td>\n",
       "      <td>0.200000</td>\n",
       "      <td>1</td>\n",
       "      <td>1</td>\n",
       "      <td>0.738200</td>\n",
       "      <td>1</td>\n",
       "    </tr>\n",
       "    <tr>\n",
       "      <th>1</th>\n",
       "      <td>2021-06-14 09:00:00-04:00</td>\n",
       "      <td>Video Games Don’t Have To Be So Violent, And E...</td>\n",
       "      <td>When the average person approaches an event li...</td>\n",
       "      <td>When the average person approaches an event li...</td>\n",
       "      <td>25.0</td>\n",
       "      <td>UPROXX</td>\n",
       "      <td>9.0</td>\n",
       "      <td>14.0</td>\n",
       "      <td>Video Games Don’t Have To Be So Violent, And E...</td>\n",
       "      <td>0.111</td>\n",
       "      <td>0.813</td>\n",
       "      <td>0.076</td>\n",
       "      <td>-0.4576</td>\n",
       "      <td>-0.180952</td>\n",
       "      <td>-1</td>\n",
       "      <td>-1</td>\n",
       "      <td>-0.276648</td>\n",
       "      <td>-1</td>\n",
       "    </tr>\n",
       "    <tr>\n",
       "      <th>2</th>\n",
       "      <td>2021-06-14 09:00:00-04:00</td>\n",
       "      <td>Apple TV 4K (2nd Generation)</td>\n",
       "      <td>Apple has broadened its media streaming horizo...</td>\n",
       "      <td>Apple has broadened its media streaming horizo...</td>\n",
       "      <td>25.0</td>\n",
       "      <td>PCMag</td>\n",
       "      <td>9.0</td>\n",
       "      <td>14.0</td>\n",
       "      <td>Apple TV 4K (2nd Generation); Apple has broade...</td>\n",
       "      <td>0.000</td>\n",
       "      <td>1.000</td>\n",
       "      <td>0.000</td>\n",
       "      <td>0.0000</td>\n",
       "      <td>-0.150000</td>\n",
       "      <td>0</td>\n",
       "      <td>-1</td>\n",
       "      <td>0.150000</td>\n",
       "      <td>0</td>\n",
       "    </tr>\n",
       "    <tr>\n",
       "      <th>3</th>\n",
       "      <td>2021-06-14 09:00:10-04:00</td>\n",
       "      <td>‘Centaurworld’: Netflix Drops First Trailer Fo...</td>\n",
       "      <td>Netflix has dropped the first trailer for anim...</td>\n",
       "      <td>Netflix has dropped the first trailer for anim...</td>\n",
       "      <td>25.0</td>\n",
       "      <td>Deadline</td>\n",
       "      <td>9.0</td>\n",
       "      <td>14.0</td>\n",
       "      <td>‘Centaurworld’: Netflix Drops First Trailer Fo...</td>\n",
       "      <td>0.000</td>\n",
       "      <td>1.000</td>\n",
       "      <td>0.000</td>\n",
       "      <td>0.0000</td>\n",
       "      <td>0.125000</td>\n",
       "      <td>0</td>\n",
       "      <td>0</td>\n",
       "      <td>-0.125000</td>\n",
       "      <td>0</td>\n",
       "    </tr>\n",
       "    <tr>\n",
       "      <th>4</th>\n",
       "      <td>2021-06-14 09:00:58-04:00</td>\n",
       "      <td>‘Karma’s World’: Ludacris Talks Animated Netfl...</td>\n",
       "      <td>As part of its Kids and Family Sneak Peek at t...</td>\n",
       "      <td>As part of its Kids and Family Sneak Peek at t...</td>\n",
       "      <td>25.0</td>\n",
       "      <td>Deadline</td>\n",
       "      <td>9.0</td>\n",
       "      <td>14.0</td>\n",
       "      <td>‘Karma’s World’: Ludacris Talks Animated Netfl...</td>\n",
       "      <td>0.000</td>\n",
       "      <td>0.840</td>\n",
       "      <td>0.160</td>\n",
       "      <td>0.8126</td>\n",
       "      <td>0.090909</td>\n",
       "      <td>1</td>\n",
       "      <td>0</td>\n",
       "      <td>0.721691</td>\n",
       "      <td>1</td>\n",
       "    </tr>\n",
       "    <tr>\n",
       "      <th>...</th>\n",
       "      <td>...</td>\n",
       "      <td>...</td>\n",
       "      <td>...</td>\n",
       "      <td>...</td>\n",
       "      <td>...</td>\n",
       "      <td>...</td>\n",
       "      <td>...</td>\n",
       "      <td>...</td>\n",
       "      <td>...</td>\n",
       "      <td>...</td>\n",
       "      <td>...</td>\n",
       "      <td>...</td>\n",
       "      <td>...</td>\n",
       "      <td>...</td>\n",
       "      <td>...</td>\n",
       "      <td>...</td>\n",
       "      <td>...</td>\n",
       "      <td>...</td>\n",
       "    </tr>\n",
       "    <tr>\n",
       "      <th>1273</th>\n",
       "      <td>2021-06-25 15:45:04-04:00</td>\n",
       "      <td>Where to Watch Questlove’s ‘Summer of Soul’ Do...</td>\n",
       "      <td>Where to Stream:Summer of Soul (...Or, When th...</td>\n",
       "      <td>Where to Stream:Summer of Soul (...Or, When th...</td>\n",
       "      <td>25.0</td>\n",
       "      <td>Decider</td>\n",
       "      <td>15.0</td>\n",
       "      <td>25.0</td>\n",
       "      <td>Where to Watch Questlove’s ‘Summer of Soul’ Do...</td>\n",
       "      <td>0.000</td>\n",
       "      <td>1.000</td>\n",
       "      <td>0.000</td>\n",
       "      <td>0.0000</td>\n",
       "      <td>0.500000</td>\n",
       "      <td>0</td>\n",
       "      <td>1</td>\n",
       "      <td>-0.500000</td>\n",
       "      <td>0</td>\n",
       "    </tr>\n",
       "    <tr>\n",
       "      <th>1274</th>\n",
       "      <td>2021-06-25 15:51:18-04:00</td>\n",
       "      <td>New WitcherCon Trailer Teases Reveals and Surp...</td>\n",
       "      <td>WitcherCon, the celebration of all things base...</td>\n",
       "      <td>WitcherCon, the celebration of all things base...</td>\n",
       "      <td>25.0</td>\n",
       "      <td>ComingSoon</td>\n",
       "      <td>15.0</td>\n",
       "      <td>25.0</td>\n",
       "      <td>New WitcherCon Trailer Teases Reveals and Surp...</td>\n",
       "      <td>0.102</td>\n",
       "      <td>0.789</td>\n",
       "      <td>0.109</td>\n",
       "      <td>0.0772</td>\n",
       "      <td>0.197273</td>\n",
       "      <td>0</td>\n",
       "      <td>1</td>\n",
       "      <td>-0.120073</td>\n",
       "      <td>0</td>\n",
       "    </tr>\n",
       "    <tr>\n",
       "      <th>1275</th>\n",
       "      <td>2021-06-25 15:53:35-04:00</td>\n",
       "      <td>'Too Hot To Handle's Marvin: Real Job, Instagr...</td>\n",
       "      <td>With an ever-growing catalog of TV shows on Ne...</td>\n",
       "      <td>With an ever-growing catalog of TV shows on Ne...</td>\n",
       "      <td>25.0</td>\n",
       "      <td>Elite Daily</td>\n",
       "      <td>15.0</td>\n",
       "      <td>25.0</td>\n",
       "      <td>'Too Hot To Handle's Marvin: Real Job, Instagr...</td>\n",
       "      <td>0.072</td>\n",
       "      <td>0.861</td>\n",
       "      <td>0.067</td>\n",
       "      <td>0.1779</td>\n",
       "      <td>0.242100</td>\n",
       "      <td>0</td>\n",
       "      <td>1</td>\n",
       "      <td>-0.064200</td>\n",
       "      <td>0</td>\n",
       "    </tr>\n",
       "    <tr>\n",
       "      <th>1276</th>\n",
       "      <td>2021-06-25 15:58:00-04:00</td>\n",
       "      <td>Netflix rises as credit Suisse sees subscriber...</td>\n",
       "      <td>Shares of Netflix (NFLX) were higher on Friday...</td>\n",
       "      <td>Shares of Netflix (NFLX) were higher on Friday...</td>\n",
       "      <td>25.0</td>\n",
       "      <td>Toronto Star</td>\n",
       "      <td>15.0</td>\n",
       "      <td>25.0</td>\n",
       "      <td>Netflix rises as credit Suisse sees subscriber...</td>\n",
       "      <td>0.000</td>\n",
       "      <td>0.773</td>\n",
       "      <td>0.227</td>\n",
       "      <td>0.8402</td>\n",
       "      <td>0.025000</td>\n",
       "      <td>1</td>\n",
       "      <td>0</td>\n",
       "      <td>0.815200</td>\n",
       "      <td>1</td>\n",
       "    </tr>\n",
       "    <tr>\n",
       "      <th>1277</th>\n",
       "      <td>2021-06-25 16:00:00-04:00</td>\n",
       "      <td>Weekend Preview: ‘Mythic Quest’ Heads Into The...</td>\n",
       "      <td>Mythic Quest: Season 2 season finale (Apple TV...</td>\n",
       "      <td>Mythic Quest: Season 2 season finale (Apple TV...</td>\n",
       "      <td>25.0</td>\n",
       "      <td>UPROXX</td>\n",
       "      <td>16.0</td>\n",
       "      <td>25.0</td>\n",
       "      <td>Weekend Preview: ‘Mythic Quest’ Heads Into The...</td>\n",
       "      <td>0.137</td>\n",
       "      <td>0.811</td>\n",
       "      <td>0.052</td>\n",
       "      <td>-0.6249</td>\n",
       "      <td>-0.100000</td>\n",
       "      <td>-1</td>\n",
       "      <td>0</td>\n",
       "      <td>-0.524900</td>\n",
       "      <td>-1</td>\n",
       "    </tr>\n",
       "  </tbody>\n",
       "</table>\n",
       "<p>2312 rows × 18 columns</p>\n",
       "</div>"
      ],
      "text/plain": [
       "                    publishedAt  \\\n",
       "0     2021-06-14 09:00:00-04:00   \n",
       "1     2021-06-14 09:00:00-04:00   \n",
       "2     2021-06-14 09:00:00-04:00   \n",
       "3     2021-06-14 09:00:10-04:00   \n",
       "4     2021-06-14 09:00:58-04:00   \n",
       "...                         ...   \n",
       "1273  2021-06-25 15:45:04-04:00   \n",
       "1274  2021-06-25 15:51:18-04:00   \n",
       "1275  2021-06-25 15:53:35-04:00   \n",
       "1276  2021-06-25 15:58:00-04:00   \n",
       "1277  2021-06-25 16:00:00-04:00   \n",
       "\n",
       "                                                  title  \\\n",
       "0     Business / Arts Announces Annual Award Recipie...   \n",
       "1     Video Games Don’t Have To Be So Violent, And E...   \n",
       "2                          Apple TV 4K (2nd Generation)   \n",
       "3     ‘Centaurworld’: Netflix Drops First Trailer Fo...   \n",
       "4     ‘Karma’s World’: Ludacris Talks Animated Netfl...   \n",
       "...                                                 ...   \n",
       "1273  Where to Watch Questlove’s ‘Summer of Soul’ Do...   \n",
       "1274  New WitcherCon Trailer Teases Reveals and Surp...   \n",
       "1275  'Too Hot To Handle's Marvin: Real Job, Instagr...   \n",
       "1276  Netflix rises as credit Suisse sees subscriber...   \n",
       "1277  Weekend Preview: ‘Mythic Quest’ Heads Into The...   \n",
       "\n",
       "                                            description  \\\n",
       "0     TORONTO, June 14, 2021 (GLOBE NEWSWIRE) -- Bus...   \n",
       "1     When the average person approaches an event li...   \n",
       "2     Apple has broadened its media streaming horizo...   \n",
       "3     Netflix has dropped the first trailer for anim...   \n",
       "4     As part of its Kids and Family Sneak Peek at t...   \n",
       "...                                                 ...   \n",
       "1273  Where to Stream:Summer of Soul (...Or, When th...   \n",
       "1274  WitcherCon, the celebration of all things base...   \n",
       "1275  With an ever-growing catalog of TV shows on Ne...   \n",
       "1276  Shares of Netflix (NFLX) were higher on Friday...   \n",
       "1277  Mythic Quest: Season 2 season finale (Apple TV...   \n",
       "\n",
       "                                                content  results  \\\n",
       "0     TORONTO, June 14, 2021 (GLOBE NEWSWIRE) -- Bus...     25.0   \n",
       "1     When the average person approaches an event li...     25.0   \n",
       "2     Apple has broadened its media streaming horizo...     25.0   \n",
       "3     Netflix has dropped the first trailer for anim...     25.0   \n",
       "4     As part of its Kids and Family Sneak Peek at t...     25.0   \n",
       "...                                                 ...      ...   \n",
       "1273  Where to Stream:Summer of Soul (...Or, When th...     25.0   \n",
       "1274  WitcherCon, the celebration of all things base...     25.0   \n",
       "1275  With an ever-growing catalog of TV shows on Ne...     25.0   \n",
       "1276  Shares of Netflix (NFLX) were higher on Friday...     25.0   \n",
       "1277  Mythic Quest: Season 2 season finale (Apple TV...     25.0   \n",
       "\n",
       "            source2  hour   day  \\\n",
       "0     GlobeNewswire   9.0  14.0   \n",
       "1            UPROXX   9.0  14.0   \n",
       "2             PCMag   9.0  14.0   \n",
       "3          Deadline   9.0  14.0   \n",
       "4          Deadline   9.0  14.0   \n",
       "...             ...   ...   ...   \n",
       "1273        Decider  15.0  25.0   \n",
       "1274     ComingSoon  15.0  25.0   \n",
       "1275    Elite Daily  15.0  25.0   \n",
       "1276   Toronto Star  15.0  25.0   \n",
       "1277         UPROXX  16.0  25.0   \n",
       "\n",
       "                                            cont_joined    neg    neu    pos  \\\n",
       "0     Business / Arts Announces Annual Award Recipie...  0.000  0.645  0.355   \n",
       "1     Video Games Don’t Have To Be So Violent, And E...  0.111  0.813  0.076   \n",
       "2     Apple TV 4K (2nd Generation); Apple has broade...  0.000  1.000  0.000   \n",
       "3     ‘Centaurworld’: Netflix Drops First Trailer Fo...  0.000  1.000  0.000   \n",
       "4     ‘Karma’s World’: Ludacris Talks Animated Netfl...  0.000  0.840  0.160   \n",
       "...                                                 ...    ...    ...    ...   \n",
       "1273  Where to Watch Questlove’s ‘Summer of Soul’ Do...  0.000  1.000  0.000   \n",
       "1274  New WitcherCon Trailer Teases Reveals and Surp...  0.102  0.789  0.109   \n",
       "1275  'Too Hot To Handle's Marvin: Real Job, Instagr...  0.072  0.861  0.067   \n",
       "1276  Netflix rises as credit Suisse sees subscriber...  0.000  0.773  0.227   \n",
       "1277  Weekend Preview: ‘Mythic Quest’ Heads Into The...  0.137  0.811  0.052   \n",
       "\n",
       "        comp      blob  comp_abs  blob_abs       c_b  Sentiment  \n",
       "0     0.9382  0.200000         1         1  0.738200          1  \n",
       "1    -0.4576 -0.180952        -1        -1 -0.276648         -1  \n",
       "2     0.0000 -0.150000         0        -1  0.150000          0  \n",
       "3     0.0000  0.125000         0         0 -0.125000          0  \n",
       "4     0.8126  0.090909         1         0  0.721691          1  \n",
       "...      ...       ...       ...       ...       ...        ...  \n",
       "1273  0.0000  0.500000         0         1 -0.500000          0  \n",
       "1274  0.0772  0.197273         0         1 -0.120073          0  \n",
       "1275  0.1779  0.242100         0         1 -0.064200          0  \n",
       "1276  0.8402  0.025000         1         0  0.815200          1  \n",
       "1277 -0.6249 -0.100000        -1         0 -0.524900         -1  \n",
       "\n",
       "[2312 rows x 18 columns]"
      ]
     },
     "execution_count": 481,
     "metadata": {},
     "output_type": "execute_result"
    }
   ],
   "source": [
    "df_nflx"
   ]
  },
  {
   "cell_type": "code",
   "execution_count": 482,
   "metadata": {
    "ExecuteTime": {
     "end_time": "2021-07-17T21:25:16.974081Z",
     "start_time": "2021-07-17T21:25:16.954742Z"
    }
   },
   "outputs": [
    {
     "data": {
      "text/html": [
       "<div>\n",
       "<style scoped>\n",
       "    .dataframe tbody tr th:only-of-type {\n",
       "        vertical-align: middle;\n",
       "    }\n",
       "\n",
       "    .dataframe tbody tr th {\n",
       "        vertical-align: top;\n",
       "    }\n",
       "\n",
       "    .dataframe thead th {\n",
       "        text-align: right;\n",
       "    }\n",
       "</style>\n",
       "<table border=\"1\" class=\"dataframe\">\n",
       "  <thead>\n",
       "    <tr style=\"text-align: right;\">\n",
       "      <th></th>\n",
       "      <th>publishedAt</th>\n",
       "      <th>title</th>\n",
       "      <th>description</th>\n",
       "      <th>content</th>\n",
       "      <th>results</th>\n",
       "      <th>source2</th>\n",
       "      <th>hour</th>\n",
       "      <th>day</th>\n",
       "      <th>cont_joined</th>\n",
       "      <th>neg</th>\n",
       "      <th>neu</th>\n",
       "      <th>pos</th>\n",
       "      <th>comp</th>\n",
       "      <th>blob</th>\n",
       "      <th>comp_abs</th>\n",
       "      <th>blob_abs</th>\n",
       "      <th>c_b</th>\n",
       "      <th>Sentiment</th>\n",
       "    </tr>\n",
       "  </thead>\n",
       "  <tbody>\n",
       "    <tr>\n",
       "      <th>17</th>\n",
       "      <td>2021-06-14 10:00:00-04:00</td>\n",
       "      <td>Dave Chappelle’s Freewheeling Podcast</td>\n",
       "      <td>When Chappelles Show first aired, in 2003, it ...</td>\n",
       "      <td>When Chappelles Show first aired, in 2003, it ...</td>\n",
       "      <td>26.0</td>\n",
       "      <td>The New Yorker</td>\n",
       "      <td>10.0</td>\n",
       "      <td>14.0</td>\n",
       "      <td>Dave Chappelle’s Freewheeling Podcast; When Ch...</td>\n",
       "      <td>0.000</td>\n",
       "      <td>0.844</td>\n",
       "      <td>0.156</td>\n",
       "      <td>0.6249</td>\n",
       "      <td>0.200000</td>\n",
       "      <td>1</td>\n",
       "      <td>1</td>\n",
       "      <td>0.424900</td>\n",
       "      <td>1</td>\n",
       "    </tr>\n",
       "    <tr>\n",
       "      <th>18</th>\n",
       "      <td>2021-06-14 10:00:00-04:00</td>\n",
       "      <td>Dave Chappelle’s Freewheeling Podcast</td>\n",
       "      <td>When Chappelles Show first aired, in 2003, it ...</td>\n",
       "      <td>When Chappelles Show first aired, in 2003, it ...</td>\n",
       "      <td>25.0</td>\n",
       "      <td>The New Yorker</td>\n",
       "      <td>10.0</td>\n",
       "      <td>14.0</td>\n",
       "      <td>Dave Chappelle’s Freewheeling Podcast; When Ch...</td>\n",
       "      <td>0.000</td>\n",
       "      <td>0.844</td>\n",
       "      <td>0.156</td>\n",
       "      <td>0.6249</td>\n",
       "      <td>0.200000</td>\n",
       "      <td>1</td>\n",
       "      <td>1</td>\n",
       "      <td>0.424900</td>\n",
       "      <td>1</td>\n",
       "    </tr>\n",
       "    <tr>\n",
       "      <th>39</th>\n",
       "      <td>2021-06-14 11:00:00-04:00</td>\n",
       "      <td>‘Ron’s Gone Wrong’ Animation Studio Sets Direc...</td>\n",
       "      <td>Locksmith Animation, the studio behind the upc...</td>\n",
       "      <td>Locksmith Animation, the studio behind the upc...</td>\n",
       "      <td>40.0</td>\n",
       "      <td>TheWrap</td>\n",
       "      <td>11.0</td>\n",
       "      <td>14.0</td>\n",
       "      <td>‘Ron’s Gone Wrong’ Animation Studio Sets Direc...</td>\n",
       "      <td>0.000</td>\n",
       "      <td>0.945</td>\n",
       "      <td>0.055</td>\n",
       "      <td>0.4019</td>\n",
       "      <td>-0.233333</td>\n",
       "      <td>1</td>\n",
       "      <td>-1</td>\n",
       "      <td>0.635233</td>\n",
       "      <td>1</td>\n",
       "    </tr>\n",
       "    <tr>\n",
       "      <th>40</th>\n",
       "      <td>2021-06-14 11:00:00-04:00</td>\n",
       "      <td>Mandopop icon Jay Chou fuses art and entertain...</td>\n",
       "      <td>Jay Chou, the Taiwanese singer-songwriter dubb...</td>\n",
       "      <td>Jay Chou, the Taiwanese singer-songwriter dubb...</td>\n",
       "      <td>40.0</td>\n",
       "      <td>Wallpaper*</td>\n",
       "      <td>11.0</td>\n",
       "      <td>14.0</td>\n",
       "      <td>Mandopop icon Jay Chou fuses art and entertain...</td>\n",
       "      <td>0.000</td>\n",
       "      <td>0.863</td>\n",
       "      <td>0.137</td>\n",
       "      <td>0.6908</td>\n",
       "      <td>0.500000</td>\n",
       "      <td>1</td>\n",
       "      <td>1</td>\n",
       "      <td>0.190800</td>\n",
       "      <td>1</td>\n",
       "    </tr>\n",
       "    <tr>\n",
       "      <th>41</th>\n",
       "      <td>2021-06-14 11:00:00-04:00</td>\n",
       "      <td>Mandopop icon Jay Chou fuses art and entertain...</td>\n",
       "      <td>Jay Chou, the Taiwanese singer-songwriter dubb...</td>\n",
       "      <td>Jay Chou, the Taiwanese singer-songwriter dubb...</td>\n",
       "      <td>26.0</td>\n",
       "      <td>Wallpaper*</td>\n",
       "      <td>11.0</td>\n",
       "      <td>14.0</td>\n",
       "      <td>Mandopop icon Jay Chou fuses art and entertain...</td>\n",
       "      <td>0.000</td>\n",
       "      <td>0.863</td>\n",
       "      <td>0.137</td>\n",
       "      <td>0.6908</td>\n",
       "      <td>0.500000</td>\n",
       "      <td>1</td>\n",
       "      <td>1</td>\n",
       "      <td>0.190800</td>\n",
       "      <td>1</td>\n",
       "    </tr>\n",
       "    <tr>\n",
       "      <th>...</th>\n",
       "      <td>...</td>\n",
       "      <td>...</td>\n",
       "      <td>...</td>\n",
       "      <td>...</td>\n",
       "      <td>...</td>\n",
       "      <td>...</td>\n",
       "      <td>...</td>\n",
       "      <td>...</td>\n",
       "      <td>...</td>\n",
       "      <td>...</td>\n",
       "      <td>...</td>\n",
       "      <td>...</td>\n",
       "      <td>...</td>\n",
       "      <td>...</td>\n",
       "      <td>...</td>\n",
       "      <td>...</td>\n",
       "      <td>...</td>\n",
       "      <td>...</td>\n",
       "    </tr>\n",
       "    <tr>\n",
       "      <th>1253</th>\n",
       "      <td>2021-06-25 15:00:00-04:00</td>\n",
       "      <td>Netflix Announces Three New Animated Shows for...</td>\n",
       "      <td>Netflix recently announced three new animated ...</td>\n",
       "      <td>Netflix recently announced three new animated ...</td>\n",
       "      <td>25.0</td>\n",
       "      <td>GeekTyrant</td>\n",
       "      <td>15.0</td>\n",
       "      <td>25.0</td>\n",
       "      <td>Netflix Announces Three New Animated Shows for...</td>\n",
       "      <td>0.000</td>\n",
       "      <td>1.000</td>\n",
       "      <td>0.000</td>\n",
       "      <td>0.0000</td>\n",
       "      <td>0.074545</td>\n",
       "      <td>0</td>\n",
       "      <td>0</td>\n",
       "      <td>-0.074545</td>\n",
       "      <td>0</td>\n",
       "    </tr>\n",
       "    <tr>\n",
       "      <th>1254</th>\n",
       "      <td>2021-06-25 15:00:00-04:00</td>\n",
       "      <td>Netflix true crime doc explores how woman was ...</td>\n",
       "      <td>Netflixs new true-crime documentary, Murder by...</td>\n",
       "      <td>Netflixs new true-crime documentary, Murder by...</td>\n",
       "      <td>25.0</td>\n",
       "      <td>Mirror Online</td>\n",
       "      <td>15.0</td>\n",
       "      <td>25.0</td>\n",
       "      <td>Netflix true crime doc explores how woman was ...</td>\n",
       "      <td>0.382</td>\n",
       "      <td>0.565</td>\n",
       "      <td>0.053</td>\n",
       "      <td>-0.9612</td>\n",
       "      <td>-0.102727</td>\n",
       "      <td>-1</td>\n",
       "      <td>0</td>\n",
       "      <td>-0.858473</td>\n",
       "      <td>-1</td>\n",
       "    </tr>\n",
       "    <tr>\n",
       "      <th>1255</th>\n",
       "      <td>2021-06-25 15:00:00-04:00</td>\n",
       "      <td>28 In-Person Seattle Events to Check Out This ...</td>\n",
       "      <td>At a glance, this weekend looks like a test-ru...</td>\n",
       "      <td>At a glance, this weekend looks like a test-ru...</td>\n",
       "      <td>25.0</td>\n",
       "      <td>Everout</td>\n",
       "      <td>15.0</td>\n",
       "      <td>25.0</td>\n",
       "      <td>28 In-Person Seattle Events to Check Out This ...</td>\n",
       "      <td>0.000</td>\n",
       "      <td>0.893</td>\n",
       "      <td>0.107</td>\n",
       "      <td>0.5994</td>\n",
       "      <td>0.045455</td>\n",
       "      <td>1</td>\n",
       "      <td>0</td>\n",
       "      <td>0.553945</td>\n",
       "      <td>1</td>\n",
       "    </tr>\n",
       "    <tr>\n",
       "      <th>1256</th>\n",
       "      <td>2021-06-25 15:00:00-04:00</td>\n",
       "      <td>28 In-Person Seattle Events to Check Out This ...</td>\n",
       "      <td>At a glance, this weekend looks like a test-ru...</td>\n",
       "      <td>At a glance, this weekend looks like a test-ru...</td>\n",
       "      <td>31.0</td>\n",
       "      <td>Everout</td>\n",
       "      <td>15.0</td>\n",
       "      <td>25.0</td>\n",
       "      <td>28 In-Person Seattle Events to Check Out This ...</td>\n",
       "      <td>0.000</td>\n",
       "      <td>0.893</td>\n",
       "      <td>0.107</td>\n",
       "      <td>0.5994</td>\n",
       "      <td>0.045455</td>\n",
       "      <td>1</td>\n",
       "      <td>0</td>\n",
       "      <td>0.553945</td>\n",
       "      <td>1</td>\n",
       "    </tr>\n",
       "    <tr>\n",
       "      <th>1257</th>\n",
       "      <td>2021-06-25 15:00:00-04:00</td>\n",
       "      <td>Netflix Announces Three New Animated Shows for...</td>\n",
       "      <td>Netflix recently announced three new animated ...</td>\n",
       "      <td>Netflix recently announced three new animated ...</td>\n",
       "      <td>31.0</td>\n",
       "      <td>GeekTyrant</td>\n",
       "      <td>15.0</td>\n",
       "      <td>25.0</td>\n",
       "      <td>Netflix Announces Three New Animated Shows for...</td>\n",
       "      <td>0.000</td>\n",
       "      <td>1.000</td>\n",
       "      <td>0.000</td>\n",
       "      <td>0.0000</td>\n",
       "      <td>0.074545</td>\n",
       "      <td>0</td>\n",
       "      <td>0</td>\n",
       "      <td>-0.074545</td>\n",
       "      <td>0</td>\n",
       "    </tr>\n",
       "  </tbody>\n",
       "</table>\n",
       "<p>191 rows × 18 columns</p>\n",
       "</div>"
      ],
      "text/plain": [
       "                    publishedAt  \\\n",
       "17    2021-06-14 10:00:00-04:00   \n",
       "18    2021-06-14 10:00:00-04:00   \n",
       "39    2021-06-14 11:00:00-04:00   \n",
       "40    2021-06-14 11:00:00-04:00   \n",
       "41    2021-06-14 11:00:00-04:00   \n",
       "...                         ...   \n",
       "1253  2021-06-25 15:00:00-04:00   \n",
       "1254  2021-06-25 15:00:00-04:00   \n",
       "1255  2021-06-25 15:00:00-04:00   \n",
       "1256  2021-06-25 15:00:00-04:00   \n",
       "1257  2021-06-25 15:00:00-04:00   \n",
       "\n",
       "                                                  title  \\\n",
       "17                Dave Chappelle’s Freewheeling Podcast   \n",
       "18                Dave Chappelle’s Freewheeling Podcast   \n",
       "39    ‘Ron’s Gone Wrong’ Animation Studio Sets Direc...   \n",
       "40    Mandopop icon Jay Chou fuses art and entertain...   \n",
       "41    Mandopop icon Jay Chou fuses art and entertain...   \n",
       "...                                                 ...   \n",
       "1253  Netflix Announces Three New Animated Shows for...   \n",
       "1254  Netflix true crime doc explores how woman was ...   \n",
       "1255  28 In-Person Seattle Events to Check Out This ...   \n",
       "1256  28 In-Person Seattle Events to Check Out This ...   \n",
       "1257  Netflix Announces Three New Animated Shows for...   \n",
       "\n",
       "                                            description  \\\n",
       "17    When Chappelles Show first aired, in 2003, it ...   \n",
       "18    When Chappelles Show first aired, in 2003, it ...   \n",
       "39    Locksmith Animation, the studio behind the upc...   \n",
       "40    Jay Chou, the Taiwanese singer-songwriter dubb...   \n",
       "41    Jay Chou, the Taiwanese singer-songwriter dubb...   \n",
       "...                                                 ...   \n",
       "1253  Netflix recently announced three new animated ...   \n",
       "1254  Netflixs new true-crime documentary, Murder by...   \n",
       "1255  At a glance, this weekend looks like a test-ru...   \n",
       "1256  At a glance, this weekend looks like a test-ru...   \n",
       "1257  Netflix recently announced three new animated ...   \n",
       "\n",
       "                                                content  results  \\\n",
       "17    When Chappelles Show first aired, in 2003, it ...     26.0   \n",
       "18    When Chappelles Show first aired, in 2003, it ...     25.0   \n",
       "39    Locksmith Animation, the studio behind the upc...     40.0   \n",
       "40    Jay Chou, the Taiwanese singer-songwriter dubb...     40.0   \n",
       "41    Jay Chou, the Taiwanese singer-songwriter dubb...     26.0   \n",
       "...                                                 ...      ...   \n",
       "1253  Netflix recently announced three new animated ...     25.0   \n",
       "1254  Netflixs new true-crime documentary, Murder by...     25.0   \n",
       "1255  At a glance, this weekend looks like a test-ru...     25.0   \n",
       "1256  At a glance, this weekend looks like a test-ru...     31.0   \n",
       "1257  Netflix recently announced three new animated ...     31.0   \n",
       "\n",
       "             source2  hour   day  \\\n",
       "17    The New Yorker  10.0  14.0   \n",
       "18    The New Yorker  10.0  14.0   \n",
       "39           TheWrap  11.0  14.0   \n",
       "40        Wallpaper*  11.0  14.0   \n",
       "41        Wallpaper*  11.0  14.0   \n",
       "...              ...   ...   ...   \n",
       "1253      GeekTyrant  15.0  25.0   \n",
       "1254   Mirror Online  15.0  25.0   \n",
       "1255         Everout  15.0  25.0   \n",
       "1256         Everout  15.0  25.0   \n",
       "1257      GeekTyrant  15.0  25.0   \n",
       "\n",
       "                                            cont_joined    neg    neu    pos  \\\n",
       "17    Dave Chappelle’s Freewheeling Podcast; When Ch...  0.000  0.844  0.156   \n",
       "18    Dave Chappelle’s Freewheeling Podcast; When Ch...  0.000  0.844  0.156   \n",
       "39    ‘Ron’s Gone Wrong’ Animation Studio Sets Direc...  0.000  0.945  0.055   \n",
       "40    Mandopop icon Jay Chou fuses art and entertain...  0.000  0.863  0.137   \n",
       "41    Mandopop icon Jay Chou fuses art and entertain...  0.000  0.863  0.137   \n",
       "...                                                 ...    ...    ...    ...   \n",
       "1253  Netflix Announces Three New Animated Shows for...  0.000  1.000  0.000   \n",
       "1254  Netflix true crime doc explores how woman was ...  0.382  0.565  0.053   \n",
       "1255  28 In-Person Seattle Events to Check Out This ...  0.000  0.893  0.107   \n",
       "1256  28 In-Person Seattle Events to Check Out This ...  0.000  0.893  0.107   \n",
       "1257  Netflix Announces Three New Animated Shows for...  0.000  1.000  0.000   \n",
       "\n",
       "        comp      blob  comp_abs  blob_abs       c_b  Sentiment  \n",
       "17    0.6249  0.200000         1         1  0.424900          1  \n",
       "18    0.6249  0.200000         1         1  0.424900          1  \n",
       "39    0.4019 -0.233333         1        -1  0.635233          1  \n",
       "40    0.6908  0.500000         1         1  0.190800          1  \n",
       "41    0.6908  0.500000         1         1  0.190800          1  \n",
       "...      ...       ...       ...       ...       ...        ...  \n",
       "1253  0.0000  0.074545         0         0 -0.074545          0  \n",
       "1254 -0.9612 -0.102727        -1         0 -0.858473         -1  \n",
       "1255  0.5994  0.045455         1         0  0.553945          1  \n",
       "1256  0.5994  0.045455         1         0  0.553945          1  \n",
       "1257  0.0000  0.074545         0         0 -0.074545          0  \n",
       "\n",
       "[191 rows x 18 columns]"
      ]
     },
     "execution_count": 482,
     "metadata": {},
     "output_type": "execute_result"
    }
   ],
   "source": [
    "df_nflx[df_nflx.duplicated(['content', 'source2', 'description', 'title'], keep=False)]"
   ]
  },
  {
   "cell_type": "code",
   "execution_count": 483,
   "metadata": {
    "ExecuteTime": {
     "end_time": "2021-07-17T21:25:16.979129Z",
     "start_time": "2021-07-17T21:25:16.975055Z"
    }
   },
   "outputs": [],
   "source": [
    "df_nflx=df_nflx.drop_duplicates(subset=['content', 'source2'], keep='first')"
   ]
  },
  {
   "cell_type": "code",
   "execution_count": 484,
   "metadata": {
    "ExecuteTime": {
     "end_time": "2021-07-17T21:25:16.982900Z",
     "start_time": "2021-07-17T21:25:16.980041Z"
    }
   },
   "outputs": [],
   "source": [
    "top_10_all = df_nflx['source2'].value_counts().iloc[:10]"
   ]
  },
  {
   "cell_type": "code",
   "execution_count": 485,
   "metadata": {
    "ExecuteTime": {
     "end_time": "2021-07-17T21:25:16.986318Z",
     "start_time": "2021-07-17T21:25:16.984301Z"
    }
   },
   "outputs": [],
   "source": [
    "top_10_all=pd.DataFrame(top_10_all)"
   ]
  },
  {
   "cell_type": "code",
   "execution_count": 486,
   "metadata": {
    "ExecuteTime": {
     "end_time": "2021-07-17T21:25:16.988855Z",
     "start_time": "2021-07-17T21:25:16.987343Z"
    }
   },
   "outputs": [],
   "source": [
    "# top_10_all.rename(columns={'source2':'Source'}, inplace=True)"
   ]
  },
  {
   "cell_type": "code",
   "execution_count": 487,
   "metadata": {
    "ExecuteTime": {
     "end_time": "2021-07-17T21:25:16.992727Z",
     "start_time": "2021-07-17T21:25:16.990151Z"
    }
   },
   "outputs": [],
   "source": [
    "import seaborn as sns\n",
    "import matplotlib.pyplot as plt"
   ]
  },
  {
   "cell_type": "code",
   "execution_count": 488,
   "metadata": {
    "ExecuteTime": {
     "end_time": "2021-07-17T21:25:17.398442Z",
     "start_time": "2021-07-17T21:25:16.995363Z"
    }
   },
   "outputs": [
    {
     "data": {
      "text/plain": [
       "Text(0.5, 1.0, 'Top 10 Sources')"
      ]
     },
     "execution_count": 488,
     "metadata": {},
     "output_type": "execute_result"
    },
    {
     "data": {
      "image/png": "[encoded data removed]",
      "text/plain": [
       "<Figure size 1440x864 with 4 Axes>"
      ]
     },
     "metadata": {
      "needs_background": "light"
     },
     "output_type": "display_data"
    }
   ],
   "source": [
    "fig, axes = plt.subplots(nrows=2, ncols=2, figsize=(20,12))\n",
    "sns.barplot(data=top_10_all, x=top_10_all.index, y='source2', ax=axes[0,0])\n",
    "for label in axes[0,0].get_xticklabels():\n",
    "    label.set_ha(\"right\")\n",
    "    label.set_rotation(45)\n",
    "axes[0,0].set_title('Top 10 Sources')"
   ]
  },
  {
   "cell_type": "code",
   "execution_count": 489,
   "metadata": {
    "ExecuteTime": {
     "end_time": "2021-07-17T21:25:17.437513Z",
     "start_time": "2021-07-17T21:25:17.399580Z"
    }
   },
   "outputs": [
    {
     "data": {
      "text/html": [
       "<div>\n",
       "<style scoped>\n",
       "    .dataframe tbody tr th:only-of-type {\n",
       "        vertical-align: middle;\n",
       "    }\n",
       "\n",
       "    .dataframe tbody tr th {\n",
       "        vertical-align: top;\n",
       "    }\n",
       "\n",
       "    .dataframe thead th {\n",
       "        text-align: right;\n",
       "    }\n",
       "</style>\n",
       "<table border=\"1\" class=\"dataframe\">\n",
       "  <thead>\n",
       "    <tr style=\"text-align: right;\">\n",
       "      <th></th>\n",
       "      <th>publishedAt</th>\n",
       "      <th>title</th>\n",
       "      <th>description</th>\n",
       "      <th>content</th>\n",
       "      <th>results</th>\n",
       "      <th>source2</th>\n",
       "      <th>hour</th>\n",
       "      <th>day</th>\n",
       "      <th>cont_joined</th>\n",
       "      <th>neg</th>\n",
       "      <th>neu</th>\n",
       "      <th>pos</th>\n",
       "      <th>comp</th>\n",
       "      <th>blob</th>\n",
       "      <th>comp_abs</th>\n",
       "      <th>blob_abs</th>\n",
       "      <th>c_b</th>\n",
       "      <th>Sentiment</th>\n",
       "    </tr>\n",
       "  </thead>\n",
       "  <tbody>\n",
       "    <tr>\n",
       "      <th>2</th>\n",
       "      <td>2021-06-14 09:00:00-04:00</td>\n",
       "      <td>Apple TV 4K (2nd Generation)</td>\n",
       "      <td>Apple has broadened its media streaming horizo...</td>\n",
       "      <td>Apple has broadened its media streaming horizo...</td>\n",
       "      <td>25.0</td>\n",
       "      <td>PCMag</td>\n",
       "      <td>9.0</td>\n",
       "      <td>14.0</td>\n",
       "      <td>Apple TV 4K (2nd Generation); Apple has broade...</td>\n",
       "      <td>0.000</td>\n",
       "      <td>1.000</td>\n",
       "      <td>0.000</td>\n",
       "      <td>0.0000</td>\n",
       "      <td>-0.150000</td>\n",
       "      <td>0</td>\n",
       "      <td>-1</td>\n",
       "      <td>0.150000</td>\n",
       "      <td>0</td>\n",
       "    </tr>\n",
       "    <tr>\n",
       "      <th>3</th>\n",
       "      <td>2021-06-14 09:00:10-04:00</td>\n",
       "      <td>‘Centaurworld’: Netflix Drops First Trailer Fo...</td>\n",
       "      <td>Netflix has dropped the first trailer for anim...</td>\n",
       "      <td>Netflix has dropped the first trailer for anim...</td>\n",
       "      <td>25.0</td>\n",
       "      <td>Deadline</td>\n",
       "      <td>9.0</td>\n",
       "      <td>14.0</td>\n",
       "      <td>‘Centaurworld’: Netflix Drops First Trailer Fo...</td>\n",
       "      <td>0.000</td>\n",
       "      <td>1.000</td>\n",
       "      <td>0.000</td>\n",
       "      <td>0.0000</td>\n",
       "      <td>0.125000</td>\n",
       "      <td>0</td>\n",
       "      <td>0</td>\n",
       "      <td>-0.125000</td>\n",
       "      <td>0</td>\n",
       "    </tr>\n",
       "    <tr>\n",
       "      <th>7</th>\n",
       "      <td>2021-06-14 09:11:54-04:00</td>\n",
       "      <td>‘The Cable Guy’ Turns 25: How Jim Carrey’s $20...</td>\n",
       "      <td>In the 1990s, Jim Carrey was an unstoppable fo...</td>\n",
       "      <td>In the 1990s, Jim Carrey was an unstoppable fo...</td>\n",
       "      <td>25.0</td>\n",
       "      <td>Variety</td>\n",
       "      <td>9.0</td>\n",
       "      <td>14.0</td>\n",
       "      <td>‘The Cable Guy’ Turns 25: How Jim Carrey’s $20...</td>\n",
       "      <td>0.110</td>\n",
       "      <td>0.802</td>\n",
       "      <td>0.088</td>\n",
       "      <td>-0.0258</td>\n",
       "      <td>0.250000</td>\n",
       "      <td>0</td>\n",
       "      <td>1</td>\n",
       "      <td>-0.275800</td>\n",
       "      <td>0</td>\n",
       "    </tr>\n",
       "    <tr>\n",
       "      <th>9</th>\n",
       "      <td>2021-06-14 09:22:00-04:00</td>\n",
       "      <td>The Book of Boba Fett Wants to Dive Back Into ...</td>\n",
       "      <td>Mindy Kalings Velma animated series is taking ...</td>\n",
       "      <td>Mindy Kalings Velma animated series is taking ...</td>\n",
       "      <td>25.0</td>\n",
       "      <td>Gizmodo</td>\n",
       "      <td>9.0</td>\n",
       "      <td>14.0</td>\n",
       "      <td>The Book of Boba Fett Wants to Dive Back Into ...</td>\n",
       "      <td>0.114</td>\n",
       "      <td>0.786</td>\n",
       "      <td>0.100</td>\n",
       "      <td>-0.1779</td>\n",
       "      <td>0.108333</td>\n",
       "      <td>0</td>\n",
       "      <td>0</td>\n",
       "      <td>-0.286233</td>\n",
       "      <td>0</td>\n",
       "    </tr>\n",
       "    <tr>\n",
       "      <th>10</th>\n",
       "      <td>2021-06-14 09:23:18-04:00</td>\n",
       "      <td>Amazon Fire HD 10 (2021) review</td>\n",
       "      <td>Two-minute reviewThe Amazon Fire HD 10 (2021),...</td>\n",
       "      <td>Two-minute reviewThe Amazon Fire HD 10 (2021),...</td>\n",
       "      <td>25.0</td>\n",
       "      <td>TechRadar</td>\n",
       "      <td>9.0</td>\n",
       "      <td>14.0</td>\n",
       "      <td>Amazon Fire HD 10 (2021) review; Two-minute re...</td>\n",
       "      <td>0.111</td>\n",
       "      <td>0.714</td>\n",
       "      <td>0.175</td>\n",
       "      <td>0.2023</td>\n",
       "      <td>0.200000</td>\n",
       "      <td>0</td>\n",
       "      <td>1</td>\n",
       "      <td>0.002300</td>\n",
       "      <td>0</td>\n",
       "    </tr>\n",
       "    <tr>\n",
       "      <th>...</th>\n",
       "      <td>...</td>\n",
       "      <td>...</td>\n",
       "      <td>...</td>\n",
       "      <td>...</td>\n",
       "      <td>...</td>\n",
       "      <td>...</td>\n",
       "      <td>...</td>\n",
       "      <td>...</td>\n",
       "      <td>...</td>\n",
       "      <td>...</td>\n",
       "      <td>...</td>\n",
       "      <td>...</td>\n",
       "      <td>...</td>\n",
       "      <td>...</td>\n",
       "      <td>...</td>\n",
       "      <td>...</td>\n",
       "      <td>...</td>\n",
       "      <td>...</td>\n",
       "    </tr>\n",
       "    <tr>\n",
       "      <th>1262</th>\n",
       "      <td>2021-06-25 15:00:35-04:00</td>\n",
       "      <td>The Ice Road Is Somehow Both Really Smart and ...</td>\n",
       "      <td>When Liam Neesons trucker thriller The Ice Roa...</td>\n",
       "      <td>When Liam Neesons trucker thriller The Ice Roa...</td>\n",
       "      <td>25.0</td>\n",
       "      <td>Vulture</td>\n",
       "      <td>15.0</td>\n",
       "      <td>25.0</td>\n",
       "      <td>The Ice Road Is Somehow Both Really Smart and ...</td>\n",
       "      <td>0.072</td>\n",
       "      <td>0.816</td>\n",
       "      <td>0.113</td>\n",
       "      <td>0.0258</td>\n",
       "      <td>0.020493</td>\n",
       "      <td>0</td>\n",
       "      <td>0</td>\n",
       "      <td>0.005307</td>\n",
       "      <td>0</td>\n",
       "    </tr>\n",
       "    <tr>\n",
       "      <th>1263</th>\n",
       "      <td>2021-06-25 15:00:38-04:00</td>\n",
       "      <td>Netflix Says Kevin Hart’s ‘Fatherhood’ Will Be...</td>\n",
       "      <td>Kevin Hart drama “Fatherhood” hit No.1 on Netf...</td>\n",
       "      <td>Kevin Hart drama “Fatherhood” hit No.1 on Netf...</td>\n",
       "      <td>25.0</td>\n",
       "      <td>Variety</td>\n",
       "      <td>15.0</td>\n",
       "      <td>25.0</td>\n",
       "      <td>Netflix Says Kevin Hart’s ‘Fatherhood’ Will Be...</td>\n",
       "      <td>0.000</td>\n",
       "      <td>1.000</td>\n",
       "      <td>0.000</td>\n",
       "      <td>0.0000</td>\n",
       "      <td>0.250000</td>\n",
       "      <td>0</td>\n",
       "      <td>1</td>\n",
       "      <td>-0.250000</td>\n",
       "      <td>0</td>\n",
       "    </tr>\n",
       "    <tr>\n",
       "      <th>1273</th>\n",
       "      <td>2021-06-25 15:45:04-04:00</td>\n",
       "      <td>Where to Watch Questlove’s ‘Summer of Soul’ Do...</td>\n",
       "      <td>Where to Stream:Summer of Soul (...Or, When th...</td>\n",
       "      <td>Where to Stream:Summer of Soul (...Or, When th...</td>\n",
       "      <td>25.0</td>\n",
       "      <td>Decider</td>\n",
       "      <td>15.0</td>\n",
       "      <td>25.0</td>\n",
       "      <td>Where to Watch Questlove’s ‘Summer of Soul’ Do...</td>\n",
       "      <td>0.000</td>\n",
       "      <td>1.000</td>\n",
       "      <td>0.000</td>\n",
       "      <td>0.0000</td>\n",
       "      <td>0.500000</td>\n",
       "      <td>0</td>\n",
       "      <td>1</td>\n",
       "      <td>-0.500000</td>\n",
       "      <td>0</td>\n",
       "    </tr>\n",
       "    <tr>\n",
       "      <th>1274</th>\n",
       "      <td>2021-06-25 15:51:18-04:00</td>\n",
       "      <td>New WitcherCon Trailer Teases Reveals and Surp...</td>\n",
       "      <td>WitcherCon, the celebration of all things base...</td>\n",
       "      <td>WitcherCon, the celebration of all things base...</td>\n",
       "      <td>25.0</td>\n",
       "      <td>ComingSoon</td>\n",
       "      <td>15.0</td>\n",
       "      <td>25.0</td>\n",
       "      <td>New WitcherCon Trailer Teases Reveals and Surp...</td>\n",
       "      <td>0.102</td>\n",
       "      <td>0.789</td>\n",
       "      <td>0.109</td>\n",
       "      <td>0.0772</td>\n",
       "      <td>0.197273</td>\n",
       "      <td>0</td>\n",
       "      <td>1</td>\n",
       "      <td>-0.120073</td>\n",
       "      <td>0</td>\n",
       "    </tr>\n",
       "    <tr>\n",
       "      <th>1275</th>\n",
       "      <td>2021-06-25 15:53:35-04:00</td>\n",
       "      <td>'Too Hot To Handle's Marvin: Real Job, Instagr...</td>\n",
       "      <td>With an ever-growing catalog of TV shows on Ne...</td>\n",
       "      <td>With an ever-growing catalog of TV shows on Ne...</td>\n",
       "      <td>25.0</td>\n",
       "      <td>Elite Daily</td>\n",
       "      <td>15.0</td>\n",
       "      <td>25.0</td>\n",
       "      <td>'Too Hot To Handle's Marvin: Real Job, Instagr...</td>\n",
       "      <td>0.072</td>\n",
       "      <td>0.861</td>\n",
       "      <td>0.067</td>\n",
       "      <td>0.1779</td>\n",
       "      <td>0.242100</td>\n",
       "      <td>0</td>\n",
       "      <td>1</td>\n",
       "      <td>-0.064200</td>\n",
       "      <td>0</td>\n",
       "    </tr>\n",
       "  </tbody>\n",
       "</table>\n",
       "<p>668 rows × 18 columns</p>\n",
       "</div>"
      ],
      "text/plain": [
       "                    publishedAt  \\\n",
       "2     2021-06-14 09:00:00-04:00   \n",
       "3     2021-06-14 09:00:10-04:00   \n",
       "7     2021-06-14 09:11:54-04:00   \n",
       "9     2021-06-14 09:22:00-04:00   \n",
       "10    2021-06-14 09:23:18-04:00   \n",
       "...                         ...   \n",
       "1262  2021-06-25 15:00:35-04:00   \n",
       "1263  2021-06-25 15:00:38-04:00   \n",
       "1273  2021-06-25 15:45:04-04:00   \n",
       "1274  2021-06-25 15:51:18-04:00   \n",
       "1275  2021-06-25 15:53:35-04:00   \n",
       "\n",
       "                                                  title  \\\n",
       "2                          Apple TV 4K (2nd Generation)   \n",
       "3     ‘Centaurworld’: Netflix Drops First Trailer Fo...   \n",
       "7     ‘The Cable Guy’ Turns 25: How Jim Carrey’s $20...   \n",
       "9     The Book of Boba Fett Wants to Dive Back Into ...   \n",
       "10                      Amazon Fire HD 10 (2021) review   \n",
       "...                                                 ...   \n",
       "1262  The Ice Road Is Somehow Both Really Smart and ...   \n",
       "1263  Netflix Says Kevin Hart’s ‘Fatherhood’ Will Be...   \n",
       "1273  Where to Watch Questlove’s ‘Summer of Soul’ Do...   \n",
       "1274  New WitcherCon Trailer Teases Reveals and Surp...   \n",
       "1275  'Too Hot To Handle's Marvin: Real Job, Instagr...   \n",
       "\n",
       "                                            description  \\\n",
       "2     Apple has broadened its media streaming horizo...   \n",
       "3     Netflix has dropped the first trailer for anim...   \n",
       "7     In the 1990s, Jim Carrey was an unstoppable fo...   \n",
       "9     Mindy Kalings Velma animated series is taking ...   \n",
       "10    Two-minute reviewThe Amazon Fire HD 10 (2021),...   \n",
       "...                                                 ...   \n",
       "1262  When Liam Neesons trucker thriller The Ice Roa...   \n",
       "1263  Kevin Hart drama “Fatherhood” hit No.1 on Netf...   \n",
       "1273  Where to Stream:Summer of Soul (...Or, When th...   \n",
       "1274  WitcherCon, the celebration of all things base...   \n",
       "1275  With an ever-growing catalog of TV shows on Ne...   \n",
       "\n",
       "                                                content  results      source2  \\\n",
       "2     Apple has broadened its media streaming horizo...     25.0        PCMag   \n",
       "3     Netflix has dropped the first trailer for anim...     25.0     Deadline   \n",
       "7     In the 1990s, Jim Carrey was an unstoppable fo...     25.0      Variety   \n",
       "9     Mindy Kalings Velma animated series is taking ...     25.0      Gizmodo   \n",
       "10    Two-minute reviewThe Amazon Fire HD 10 (2021),...     25.0    TechRadar   \n",
       "...                                                 ...      ...          ...   \n",
       "1262  When Liam Neesons trucker thriller The Ice Roa...     25.0      Vulture   \n",
       "1263  Kevin Hart drama “Fatherhood” hit No.1 on Netf...     25.0      Variety   \n",
       "1273  Where to Stream:Summer of Soul (...Or, When th...     25.0      Decider   \n",
       "1274  WitcherCon, the celebration of all things base...     25.0   ComingSoon   \n",
       "1275  With an ever-growing catalog of TV shows on Ne...     25.0  Elite Daily   \n",
       "\n",
       "      hour   day                                        cont_joined    neg  \\\n",
       "2      9.0  14.0  Apple TV 4K (2nd Generation); Apple has broade...  0.000   \n",
       "3      9.0  14.0  ‘Centaurworld’: Netflix Drops First Trailer Fo...  0.000   \n",
       "7      9.0  14.0  ‘The Cable Guy’ Turns 25: How Jim Carrey’s $20...  0.110   \n",
       "9      9.0  14.0  The Book of Boba Fett Wants to Dive Back Into ...  0.114   \n",
       "10     9.0  14.0  Amazon Fire HD 10 (2021) review; Two-minute re...  0.111   \n",
       "...    ...   ...                                                ...    ...   \n",
       "1262  15.0  25.0  The Ice Road Is Somehow Both Really Smart and ...  0.072   \n",
       "1263  15.0  25.0  Netflix Says Kevin Hart’s ‘Fatherhood’ Will Be...  0.000   \n",
       "1273  15.0  25.0  Where to Watch Questlove’s ‘Summer of Soul’ Do...  0.000   \n",
       "1274  15.0  25.0  New WitcherCon Trailer Teases Reveals and Surp...  0.102   \n",
       "1275  15.0  25.0  'Too Hot To Handle's Marvin: Real Job, Instagr...  0.072   \n",
       "\n",
       "        neu    pos    comp      blob  comp_abs  blob_abs       c_b  Sentiment  \n",
       "2     1.000  0.000  0.0000 -0.150000         0        -1  0.150000          0  \n",
       "3     1.000  0.000  0.0000  0.125000         0         0 -0.125000          0  \n",
       "7     0.802  0.088 -0.0258  0.250000         0         1 -0.275800          0  \n",
       "9     0.786  0.100 -0.1779  0.108333         0         0 -0.286233          0  \n",
       "10    0.714  0.175  0.2023  0.200000         0         1  0.002300          0  \n",
       "...     ...    ...     ...       ...       ...       ...       ...        ...  \n",
       "1262  0.816  0.113  0.0258  0.020493         0         0  0.005307          0  \n",
       "1263  1.000  0.000  0.0000  0.250000         0         1 -0.250000          0  \n",
       "1273  1.000  0.000  0.0000  0.500000         0         1 -0.500000          0  \n",
       "1274  0.789  0.109  0.0772  0.197273         0         1 -0.120073          0  \n",
       "1275  0.861  0.067  0.1779  0.242100         0         1 -0.064200          0  \n",
       "\n",
       "[668 rows x 18 columns]"
      ]
     },
     "execution_count": 489,
     "metadata": {},
     "output_type": "execute_result"
    }
   ],
   "source": [
    "df_nflx[df_nflx['Sentiment']==1]\n",
    "df_nflx[df_nflx['Sentiment']==0]"
   ]
  },
  {
   "cell_type": "code",
   "execution_count": 490,
   "metadata": {
    "ExecuteTime": {
     "end_time": "2021-07-17T21:25:17.440244Z",
     "start_time": "2021-07-17T21:25:17.438620Z"
    }
   },
   "outputs": [],
   "source": [
    "# sns.barplot(data=df_nflx[df_nflx['Sentiment']==1]['source2'], x=top_10_all.index, y='source2', ax=axes[0,1])\n",
    "# for label in axes[0,1].get_xticklabels():\n",
    "#     label.set_ha(\"right\")\n",
    "#     label.set_rotation(45)\n",
    "# axes[0,1].set_title('Top 10 Sources')"
   ]
  },
  {
   "cell_type": "code",
   "execution_count": 491,
   "metadata": {
    "ExecuteTime": {
     "end_time": "2021-07-17T21:25:17.443892Z",
     "start_time": "2021-07-17T21:25:17.441077Z"
    }
   },
   "outputs": [],
   "source": [
    "data=df_nflx[df_nflx['Sentiment']==1]['source2']"
   ]
  },
  {
   "cell_type": "code",
   "execution_count": null,
   "metadata": {
    "ExecuteTime": {
     "end_time": "2021-07-17T19:27:18.617369Z",
     "start_time": "2021-07-17T19:27:18.615161Z"
    }
   },
   "outputs": [],
   "source": []
  },
  {
   "cell_type": "code",
   "execution_count": 492,
   "metadata": {
    "ExecuteTime": {
     "end_time": "2021-07-17T21:25:17.447493Z",
     "start_time": "2021-07-17T21:25:17.444820Z"
    }
   },
   "outputs": [],
   "source": [
    "def top_10_sources(df, company):\n",
    "    df=df.drop_duplicates(subset=['content', 'source2'], keep='first')\n",
    "    top_10 = pd.DataFrame(df['source2'].value_counts().iloc[:10])\n",
    "    ax=sns.barplot(data=top_10, x=top_10.index, y='source2')\n",
    "    for label in ax.get_xticklabels():\n",
    "        label.set_ha(\"right\")\n",
    "        label.set_rotation(45)\n",
    "    ax.set_title(f'Top 10 Sources for {company}')\n",
    "    ax.set_ylabel('Count')\n",
    "    return ax;"
   ]
  },
  {
   "cell_type": "code",
   "execution_count": 493,
   "metadata": {
    "ExecuteTime": {
     "end_time": "2021-07-17T21:25:17.450601Z",
     "start_time": "2021-07-17T21:25:17.448529Z"
    }
   },
   "outputs": [],
   "source": [
    "def top_10_sources_only(df, company):\n",
    "    df=df.drop_duplicates(subset=['content', 'source2'], keep='first')\n",
    "    top_10 = pd.DataFrame(df['source2'].value_counts().iloc[:10])\n",
    "    return top_10"
   ]
  },
  {
   "cell_type": "code",
   "execution_count": 494,
   "metadata": {
    "ExecuteTime": {
     "end_time": "2021-07-17T21:25:17.488859Z",
     "start_time": "2021-07-17T21:25:17.451547Z"
    }
   },
   "outputs": [],
   "source": [
    "am10 = top_10_sources_only(df_amzn, 'Amazon')\n",
    "goog10 = top_10_sources_only(df_google, 'Google')\n",
    "fb10 = top_10_sources_only(df_facebook, 'Facebook')\n",
    "nflx10 = top_10_sources_only(df_nflx, 'Netflix')\n",
    "app10 = top_10_sources_only(df_apple, 'Apple')\n",
    "msft10 = top_10_sources_only(df_msft, 'Microsoft')"
   ]
  },
  {
   "cell_type": "code",
   "execution_count": 495,
   "metadata": {
    "ExecuteTime": {
     "end_time": "2021-07-17T21:25:17.494328Z",
     "start_time": "2021-07-17T21:25:17.489861Z"
    }
   },
   "outputs": [
    {
     "data": {
      "text/html": [
       "<div>\n",
       "<style scoped>\n",
       "    .dataframe tbody tr th:only-of-type {\n",
       "        vertical-align: middle;\n",
       "    }\n",
       "\n",
       "    .dataframe tbody tr th {\n",
       "        vertical-align: top;\n",
       "    }\n",
       "\n",
       "    .dataframe thead th {\n",
       "        text-align: right;\n",
       "    }\n",
       "</style>\n",
       "<table border=\"1\" class=\"dataframe\">\n",
       "  <thead>\n",
       "    <tr style=\"text-align: right;\">\n",
       "      <th></th>\n",
       "      <th>source2</th>\n",
       "    </tr>\n",
       "  </thead>\n",
       "  <tbody>\n",
       "    <tr>\n",
       "      <th>CNET</th>\n",
       "      <td>167</td>\n",
       "    </tr>\n",
       "    <tr>\n",
       "      <th>Forbes</th>\n",
       "      <td>126</td>\n",
       "    </tr>\n",
       "    <tr>\n",
       "      <th>BGR</th>\n",
       "      <td>121</td>\n",
       "    </tr>\n",
       "    <tr>\n",
       "      <th>Android Central</th>\n",
       "      <td>96</td>\n",
       "    </tr>\n",
       "    <tr>\n",
       "      <th>Business Insider</th>\n",
       "      <td>84</td>\n",
       "    </tr>\n",
       "    <tr>\n",
       "      <th>SiliconANGLE News</th>\n",
       "      <td>82</td>\n",
       "    </tr>\n",
       "    <tr>\n",
       "      <th>USA Today</th>\n",
       "      <td>80</td>\n",
       "    </tr>\n",
       "    <tr>\n",
       "      <th>TechRadar</th>\n",
       "      <td>79</td>\n",
       "    </tr>\n",
       "    <tr>\n",
       "      <th>Winter is Coming</th>\n",
       "      <td>73</td>\n",
       "    </tr>\n",
       "    <tr>\n",
       "      <th>Notebookcheck</th>\n",
       "      <td>65</td>\n",
       "    </tr>\n",
       "  </tbody>\n",
       "</table>\n",
       "</div>"
      ],
      "text/plain": [
       "                   source2\n",
       "CNET                   167\n",
       "Forbes                 126\n",
       "BGR                    121\n",
       "Android Central         96\n",
       "Business Insider        84\n",
       "SiliconANGLE News       82\n",
       "USA Today               80\n",
       "TechRadar               79\n",
       "Winter is Coming        73\n",
       "Notebookcheck           65"
      ]
     },
     "execution_count": 495,
     "metadata": {},
     "output_type": "execute_result"
    }
   ],
   "source": [
    "am10"
   ]
  },
  {
   "cell_type": "code",
   "execution_count": 496,
   "metadata": {
    "ExecuteTime": {
     "end_time": "2021-07-17T21:25:18.241493Z",
     "start_time": "2021-07-17T21:25:17.499460Z"
    }
   },
   "outputs": [
    {
     "data": {
      "image/png": "[encoded data removed]",
      "text/plain": [
       "<Figure size 1440x1296 with 6 Axes>"
      ]
     },
     "metadata": {
      "needs_background": "light"
     },
     "output_type": "display_data"
    }
   ],
   "source": [
    "sources = [am10, goog10, fb10, nflx10, app10, msft10]\n",
    "company = ['Amazon', 'Google', 'Facebook', 'Netflix', 'Apple', 'Microsoft']\n",
    "fig, axes = plt.subplots(nrows=3, ncols=2, figsize=(20,18))\n",
    "for ax, src, comp in zip(axes.flatten(), sources, company):\n",
    "    sns.barplot(data=src, x=src.index, y='source2', ax=ax)\n",
    "    for label in ax.get_xticklabels():\n",
    "        label.set_ha(\"right\")\n",
    "        label.set_rotation(45)\n",
    "    ax.set_title(f'Top 10 Sources for {comp}')\n",
    "    ax.set_ylabel('Count')\n",
    "fig.tight_layout()\n",
    "    "
   ]
  },
  {
   "cell_type": "code",
   "execution_count": null,
   "metadata": {},
   "outputs": [],
   "source": []
  },
  {
   "cell_type": "code",
   "execution_count": null,
   "metadata": {},
   "outputs": [],
   "source": []
  },
  {
   "cell_type": "code",
   "execution_count": 497,
   "metadata": {
    "ExecuteTime": {
     "end_time": "2021-07-17T21:25:18.334496Z",
     "start_time": "2021-07-17T21:25:18.244189Z"
    }
   },
   "outputs": [
    {
     "data": {
      "image/png": "[encoded data removed]",
      "text/plain": [
       "<Figure size 432x288 with 1 Axes>"
      ]
     },
     "metadata": {
      "needs_background": "light"
     },
     "output_type": "display_data"
    }
   ],
   "source": [
    "ax = top_10_sources(df_nflx, 'Netflix');"
   ]
  },
  {
   "cell_type": "code",
   "execution_count": 498,
   "metadata": {
    "ExecuteTime": {
     "end_time": "2021-07-17T21:25:18.398469Z",
     "start_time": "2021-07-17T21:25:18.335680Z"
    }
   },
   "outputs": [
    {
     "data": {
      "image/png": "[encoded data removed]",
      "text/plain": [
       "<Figure size 432x288 with 1 Axes>"
      ]
     },
     "execution_count": 498,
     "metadata": {},
     "output_type": "execute_result"
    }
   ],
   "source": [
    "ax.get_figure()"
   ]
  },
  {
   "cell_type": "code",
   "execution_count": 499,
   "metadata": {
    "ExecuteTime": {
     "end_time": "2021-07-17T21:25:18.707785Z",
     "start_time": "2021-07-17T21:25:18.399882Z"
    }
   },
   "outputs": [
    {
     "data": {
      "image/png": "[encoded data removed]",
      "text/plain": [
       "<Figure size 1440x864 with 6 Axes>"
      ]
     },
     "metadata": {
      "needs_background": "light"
     },
     "output_type": "display_data"
    }
   ],
   "source": [
    "fig, axes = plt.subplots(nrows=3, ncols=2, figsize=(20,12))\n",
    "axes[2,1] = top_10_sources(df_nflx, \"Netflix\").get_figure()\n",
    "\n",
    "\n",
    "\n",
    "    \n",
    "    "
   ]
  },
  {
   "cell_type": "markdown",
   "metadata": {},
   "source": [
    "# Graph Various Results over time"
   ]
  },
  {
   "cell_type": "code",
   "execution_count": 500,
   "metadata": {
    "ExecuteTime": {
     "end_time": "2021-07-17T21:25:18.716250Z",
     "start_time": "2021-07-17T21:25:18.708739Z"
    }
   },
   "outputs": [],
   "source": [
    "apple_results = pd.DataFrame(df_apple.groupby(['day', 'hour']).agg('first')['results']).reset_index()['results']"
   ]
  },
  {
   "cell_type": "code",
   "execution_count": 501,
   "metadata": {
    "ExecuteTime": {
     "end_time": "2021-07-17T21:25:18.720242Z",
     "start_time": "2021-07-17T21:25:18.717205Z"
    }
   },
   "outputs": [
    {
     "data": {
      "text/plain": [
       "0     124.0\n",
       "1     124.0\n",
       "2     120.0\n",
       "3      97.0\n",
       "4      95.0\n",
       "      ...  \n",
       "72     99.0\n",
       "73     99.0\n",
       "74     58.0\n",
       "75     51.0\n",
       "76     51.0\n",
       "Name: results, Length: 77, dtype: float64"
      ]
     },
     "execution_count": 501,
     "metadata": {},
     "output_type": "execute_result"
    }
   ],
   "source": [
    "apple_results"
   ]
  },
  {
   "cell_type": "code",
   "execution_count": 502,
   "metadata": {
    "ExecuteTime": {
     "end_time": "2021-07-17T21:25:18.792196Z",
     "start_time": "2021-07-17T21:25:18.721209Z"
    }
   },
   "outputs": [
    {
     "data": {
      "text/plain": [
       "<AxesSubplot:>"
      ]
     },
     "execution_count": 502,
     "metadata": {},
     "output_type": "execute_result"
    },
    {
     "data": {
      "image/png": "[encoded data removed]",
      "text/plain": [
       "<Figure size 432x288 with 1 Axes>"
      ]
     },
     "metadata": {
      "needs_background": "light"
     },
     "output_type": "display_data"
    }
   ],
   "source": [
    "apple_results.plot()"
   ]
  },
  {
   "cell_type": "code",
   "execution_count": 503,
   "metadata": {
    "ExecuteTime": {
     "end_time": "2021-07-17T21:25:18.795741Z",
     "start_time": "2021-07-17T21:25:18.793157Z"
    }
   },
   "outputs": [
    {
     "name": "stdout",
     "output_type": "stream",
     "text": [
      "[datetime.datetime(2021, 6, 14, 0, 0), datetime.datetime(2021, 6, 14, 1, 0), datetime.datetime(2021, 6, 14, 2, 0), datetime.datetime(2021, 6, 14, 3, 0), datetime.datetime(2021, 6, 14, 4, 0), datetime.datetime(2021, 6, 14, 5, 0), datetime.datetime(2021, 6, 14, 6, 0), datetime.datetime(2021, 6, 14, 7, 0), datetime.datetime(2021, 6, 14, 8, 0), datetime.datetime(2021, 6, 14, 9, 0), datetime.datetime(2021, 6, 14, 10, 0), datetime.datetime(2021, 6, 14, 11, 0), datetime.datetime(2021, 6, 14, 12, 0), datetime.datetime(2021, 6, 14, 13, 0), datetime.datetime(2021, 6, 14, 14, 0), datetime.datetime(2021, 6, 14, 15, 0), datetime.datetime(2021, 6, 14, 16, 0), datetime.datetime(2021, 6, 14, 17, 0), datetime.datetime(2021, 6, 14, 18, 0), datetime.datetime(2021, 6, 14, 19, 0), datetime.datetime(2021, 6, 14, 20, 0), datetime.datetime(2021, 6, 14, 21, 0), datetime.datetime(2021, 6, 14, 22, 0), datetime.datetime(2021, 6, 14, 23, 0), datetime.datetime(2021, 6, 15, 0, 0), datetime.datetime(2021, 6, 15, 1, 0), datetime.datetime(2021, 6, 15, 2, 0), datetime.datetime(2021, 6, 15, 3, 0), datetime.datetime(2021, 6, 15, 4, 0), datetime.datetime(2021, 6, 15, 5, 0), datetime.datetime(2021, 6, 15, 6, 0), datetime.datetime(2021, 6, 15, 7, 0), datetime.datetime(2021, 6, 15, 8, 0), datetime.datetime(2021, 6, 15, 9, 0), datetime.datetime(2021, 6, 15, 10, 0), datetime.datetime(2021, 6, 15, 11, 0), datetime.datetime(2021, 6, 15, 12, 0), datetime.datetime(2021, 6, 15, 13, 0), datetime.datetime(2021, 6, 15, 14, 0), datetime.datetime(2021, 6, 15, 15, 0), datetime.datetime(2021, 6, 15, 16, 0), datetime.datetime(2021, 6, 15, 17, 0), datetime.datetime(2021, 6, 15, 18, 0), datetime.datetime(2021, 6, 15, 19, 0), datetime.datetime(2021, 6, 15, 20, 0), datetime.datetime(2021, 6, 15, 21, 0), datetime.datetime(2021, 6, 15, 22, 0), datetime.datetime(2021, 6, 15, 23, 0), datetime.datetime(2021, 6, 16, 0, 0), datetime.datetime(2021, 6, 16, 1, 0), datetime.datetime(2021, 6, 16, 2, 0), datetime.datetime(2021, 6, 16, 3, 0), datetime.datetime(2021, 6, 16, 4, 0), datetime.datetime(2021, 6, 16, 5, 0), datetime.datetime(2021, 6, 16, 6, 0), datetime.datetime(2021, 6, 16, 7, 0), datetime.datetime(2021, 6, 16, 8, 0), datetime.datetime(2021, 6, 16, 9, 0), datetime.datetime(2021, 6, 16, 10, 0), datetime.datetime(2021, 6, 16, 11, 0), datetime.datetime(2021, 6, 16, 12, 0), datetime.datetime(2021, 6, 16, 13, 0), datetime.datetime(2021, 6, 16, 14, 0), datetime.datetime(2021, 6, 16, 15, 0), datetime.datetime(2021, 6, 16, 16, 0), datetime.datetime(2021, 6, 16, 17, 0), datetime.datetime(2021, 6, 16, 18, 0), datetime.datetime(2021, 6, 16, 19, 0), datetime.datetime(2021, 6, 16, 20, 0), datetime.datetime(2021, 6, 16, 21, 0), datetime.datetime(2021, 6, 16, 22, 0), datetime.datetime(2021, 6, 16, 23, 0), datetime.datetime(2021, 6, 17, 0, 0), datetime.datetime(2021, 6, 17, 1, 0), datetime.datetime(2021, 6, 17, 2, 0), datetime.datetime(2021, 6, 17, 3, 0), datetime.datetime(2021, 6, 17, 4, 0), datetime.datetime(2021, 6, 17, 5, 0), datetime.datetime(2021, 6, 17, 6, 0), datetime.datetime(2021, 6, 17, 7, 0), datetime.datetime(2021, 6, 17, 8, 0), datetime.datetime(2021, 6, 17, 9, 0), datetime.datetime(2021, 6, 17, 10, 0), datetime.datetime(2021, 6, 17, 11, 0), datetime.datetime(2021, 6, 17, 12, 0), datetime.datetime(2021, 6, 17, 13, 0), datetime.datetime(2021, 6, 17, 14, 0), datetime.datetime(2021, 6, 17, 15, 0), datetime.datetime(2021, 6, 17, 16, 0), datetime.datetime(2021, 6, 17, 17, 0), datetime.datetime(2021, 6, 17, 18, 0), datetime.datetime(2021, 6, 17, 19, 0), datetime.datetime(2021, 6, 17, 20, 0), datetime.datetime(2021, 6, 17, 21, 0), datetime.datetime(2021, 6, 17, 22, 0), datetime.datetime(2021, 6, 17, 23, 0), datetime.datetime(2021, 6, 18, 0, 0), datetime.datetime(2021, 6, 18, 1, 0), datetime.datetime(2021, 6, 18, 2, 0), datetime.datetime(2021, 6, 18, 3, 0), datetime.datetime(2021, 6, 18, 4, 0), datetime.datetime(2021, 6, 18, 5, 0), datetime.datetime(2021, 6, 18, 6, 0), datetime.datetime(2021, 6, 18, 7, 0), datetime.datetime(2021, 6, 18, 8, 0), datetime.datetime(2021, 6, 18, 9, 0), datetime.datetime(2021, 6, 18, 10, 0), datetime.datetime(2021, 6, 18, 11, 0), datetime.datetime(2021, 6, 18, 12, 0), datetime.datetime(2021, 6, 18, 13, 0), datetime.datetime(2021, 6, 18, 14, 0), datetime.datetime(2021, 6, 18, 15, 0)]\n"
     ]
    }
   ],
   "source": [
    "import datetime\n",
    "\n",
    "a = datetime.datetime(2021, 6, 14, 0)\n",
    "numhours = 112\n",
    "dateList = []\n",
    "for x in range (0, numhours):\n",
    "    dateList.append(a + datetime.timedelta(hours = x))\n",
    "print(dateList)"
   ]
  },
  {
   "cell_type": "code",
   "execution_count": 504,
   "metadata": {
    "ExecuteTime": {
     "end_time": "2021-07-17T21:25:18.798553Z",
     "start_time": "2021-07-17T21:25:18.796708Z"
    }
   },
   "outputs": [],
   "source": [
    "test = pd.Series(dateList)"
   ]
  },
  {
   "cell_type": "code",
   "execution_count": 505,
   "metadata": {
    "ExecuteTime": {
     "end_time": "2021-07-17T21:25:18.801180Z",
     "start_time": "2021-07-17T21:25:18.799523Z"
    }
   },
   "outputs": [],
   "source": [
    "test=pd.DataFrame(test)"
   ]
  },
  {
   "cell_type": "code",
   "execution_count": 506,
   "metadata": {
    "ExecuteTime": {
     "end_time": "2021-07-17T21:25:18.804641Z",
     "start_time": "2021-07-17T21:25:18.802102Z"
    }
   },
   "outputs": [
    {
     "data": {
      "text/plain": [
       "112"
      ]
     },
     "execution_count": 506,
     "metadata": {},
     "output_type": "execute_result"
    }
   ],
   "source": [
    "len(test)"
   ]
  },
  {
   "cell_type": "code",
   "execution_count": 507,
   "metadata": {
    "ExecuteTime": {
     "end_time": "2021-07-17T21:25:18.807439Z",
     "start_time": "2021-07-17T21:25:18.805552Z"
    }
   },
   "outputs": [],
   "source": [
    "import numpy as np\n",
    "vals = np.random.randint(low=5, high=10, size=112)\n",
    "vals = pd.Series(vals)\n"
   ]
  },
  {
   "cell_type": "code",
   "execution_count": 508,
   "metadata": {
    "ExecuteTime": {
     "end_time": "2021-07-17T21:25:18.810615Z",
     "start_time": "2021-07-17T21:25:18.808364Z"
    }
   },
   "outputs": [],
   "source": [
    "test = pd.concat([test,vals.rename('col')], axis=1)"
   ]
  },
  {
   "cell_type": "code",
   "execution_count": 509,
   "metadata": {
    "ExecuteTime": {
     "end_time": "2021-07-17T21:25:18.813913Z",
     "start_time": "2021-07-17T21:25:18.811653Z"
    }
   },
   "outputs": [],
   "source": [
    "test[0] = pd.to_datetime(test[0])"
   ]
  },
  {
   "cell_type": "code",
   "execution_count": 510,
   "metadata": {
    "ExecuteTime": {
     "end_time": "2021-07-17T21:25:18.816944Z",
     "start_time": "2021-07-17T21:25:18.814814Z"
    }
   },
   "outputs": [],
   "source": [
    "test.set_index(0, inplace=True)"
   ]
  },
  {
   "cell_type": "code",
   "execution_count": 511,
   "metadata": {
    "ExecuteTime": {
     "end_time": "2021-07-17T21:25:18.820220Z",
     "start_time": "2021-07-17T21:25:18.817893Z"
    }
   },
   "outputs": [],
   "source": [
    "test['hr'] = test.index.hour"
   ]
  },
  {
   "cell_type": "code",
   "execution_count": 512,
   "metadata": {
    "ExecuteTime": {
     "end_time": "2021-07-17T21:25:18.826029Z",
     "start_time": "2021-07-17T21:25:18.821201Z"
    }
   },
   "outputs": [],
   "source": [
    "test = test[test['hr'].isin(range(9,16))]"
   ]
  },
  {
   "cell_type": "code",
   "execution_count": 513,
   "metadata": {
    "ExecuteTime": {
     "end_time": "2021-07-17T21:25:18.830318Z",
     "start_time": "2021-07-17T21:25:18.827376Z"
    }
   },
   "outputs": [
    {
     "data": {
      "text/plain": [
       "35"
      ]
     },
     "execution_count": 513,
     "metadata": {},
     "output_type": "execute_result"
    }
   ],
   "source": [
    "len(test)"
   ]
  },
  {
   "cell_type": "code",
   "execution_count": 514,
   "metadata": {
    "ExecuteTime": {
     "end_time": "2021-07-17T21:25:18.833942Z",
     "start_time": "2021-07-17T21:25:18.831225Z"
    }
   },
   "outputs": [
    {
     "name": "stdout",
     "output_type": "stream",
     "text": [
      "[datetime.datetime(2021, 6, 21, 0, 0), datetime.datetime(2021, 6, 21, 1, 0), datetime.datetime(2021, 6, 21, 2, 0), datetime.datetime(2021, 6, 21, 3, 0), datetime.datetime(2021, 6, 21, 4, 0), datetime.datetime(2021, 6, 21, 5, 0), datetime.datetime(2021, 6, 21, 6, 0), datetime.datetime(2021, 6, 21, 7, 0), datetime.datetime(2021, 6, 21, 8, 0), datetime.datetime(2021, 6, 21, 9, 0), datetime.datetime(2021, 6, 21, 10, 0), datetime.datetime(2021, 6, 21, 11, 0), datetime.datetime(2021, 6, 21, 12, 0), datetime.datetime(2021, 6, 21, 13, 0), datetime.datetime(2021, 6, 21, 14, 0), datetime.datetime(2021, 6, 21, 15, 0), datetime.datetime(2021, 6, 21, 16, 0), datetime.datetime(2021, 6, 21, 17, 0), datetime.datetime(2021, 6, 21, 18, 0), datetime.datetime(2021, 6, 21, 19, 0), datetime.datetime(2021, 6, 21, 20, 0), datetime.datetime(2021, 6, 21, 21, 0), datetime.datetime(2021, 6, 21, 22, 0), datetime.datetime(2021, 6, 21, 23, 0), datetime.datetime(2021, 6, 22, 0, 0), datetime.datetime(2021, 6, 22, 1, 0), datetime.datetime(2021, 6, 22, 2, 0), datetime.datetime(2021, 6, 22, 3, 0), datetime.datetime(2021, 6, 22, 4, 0), datetime.datetime(2021, 6, 22, 5, 0), datetime.datetime(2021, 6, 22, 6, 0), datetime.datetime(2021, 6, 22, 7, 0), datetime.datetime(2021, 6, 22, 8, 0), datetime.datetime(2021, 6, 22, 9, 0), datetime.datetime(2021, 6, 22, 10, 0), datetime.datetime(2021, 6, 22, 11, 0), datetime.datetime(2021, 6, 22, 12, 0), datetime.datetime(2021, 6, 22, 13, 0), datetime.datetime(2021, 6, 22, 14, 0), datetime.datetime(2021, 6, 22, 15, 0), datetime.datetime(2021, 6, 22, 16, 0), datetime.datetime(2021, 6, 22, 17, 0), datetime.datetime(2021, 6, 22, 18, 0), datetime.datetime(2021, 6, 22, 19, 0), datetime.datetime(2021, 6, 22, 20, 0), datetime.datetime(2021, 6, 22, 21, 0), datetime.datetime(2021, 6, 22, 22, 0), datetime.datetime(2021, 6, 22, 23, 0), datetime.datetime(2021, 6, 23, 0, 0), datetime.datetime(2021, 6, 23, 1, 0), datetime.datetime(2021, 6, 23, 2, 0), datetime.datetime(2021, 6, 23, 3, 0), datetime.datetime(2021, 6, 23, 4, 0), datetime.datetime(2021, 6, 23, 5, 0), datetime.datetime(2021, 6, 23, 6, 0), datetime.datetime(2021, 6, 23, 7, 0), datetime.datetime(2021, 6, 23, 8, 0), datetime.datetime(2021, 6, 23, 9, 0), datetime.datetime(2021, 6, 23, 10, 0), datetime.datetime(2021, 6, 23, 11, 0), datetime.datetime(2021, 6, 23, 12, 0), datetime.datetime(2021, 6, 23, 13, 0), datetime.datetime(2021, 6, 23, 14, 0), datetime.datetime(2021, 6, 23, 15, 0), datetime.datetime(2021, 6, 23, 16, 0), datetime.datetime(2021, 6, 23, 17, 0), datetime.datetime(2021, 6, 23, 18, 0), datetime.datetime(2021, 6, 23, 19, 0), datetime.datetime(2021, 6, 23, 20, 0), datetime.datetime(2021, 6, 23, 21, 0), datetime.datetime(2021, 6, 23, 22, 0), datetime.datetime(2021, 6, 23, 23, 0), datetime.datetime(2021, 6, 24, 0, 0), datetime.datetime(2021, 6, 24, 1, 0), datetime.datetime(2021, 6, 24, 2, 0), datetime.datetime(2021, 6, 24, 3, 0), datetime.datetime(2021, 6, 24, 4, 0), datetime.datetime(2021, 6, 24, 5, 0), datetime.datetime(2021, 6, 24, 6, 0), datetime.datetime(2021, 6, 24, 7, 0), datetime.datetime(2021, 6, 24, 8, 0), datetime.datetime(2021, 6, 24, 9, 0), datetime.datetime(2021, 6, 24, 10, 0), datetime.datetime(2021, 6, 24, 11, 0), datetime.datetime(2021, 6, 24, 12, 0), datetime.datetime(2021, 6, 24, 13, 0), datetime.datetime(2021, 6, 24, 14, 0), datetime.datetime(2021, 6, 24, 15, 0), datetime.datetime(2021, 6, 24, 16, 0), datetime.datetime(2021, 6, 24, 17, 0), datetime.datetime(2021, 6, 24, 18, 0), datetime.datetime(2021, 6, 24, 19, 0), datetime.datetime(2021, 6, 24, 20, 0), datetime.datetime(2021, 6, 24, 21, 0), datetime.datetime(2021, 6, 24, 22, 0), datetime.datetime(2021, 6, 24, 23, 0), datetime.datetime(2021, 6, 25, 0, 0), datetime.datetime(2021, 6, 25, 1, 0), datetime.datetime(2021, 6, 25, 2, 0), datetime.datetime(2021, 6, 25, 3, 0), datetime.datetime(2021, 6, 25, 4, 0), datetime.datetime(2021, 6, 25, 5, 0), datetime.datetime(2021, 6, 25, 6, 0), datetime.datetime(2021, 6, 25, 7, 0), datetime.datetime(2021, 6, 25, 8, 0), datetime.datetime(2021, 6, 25, 9, 0), datetime.datetime(2021, 6, 25, 10, 0), datetime.datetime(2021, 6, 25, 11, 0), datetime.datetime(2021, 6, 25, 12, 0), datetime.datetime(2021, 6, 25, 13, 0), datetime.datetime(2021, 6, 25, 14, 0), datetime.datetime(2021, 6, 25, 15, 0)]\n"
     ]
    }
   ],
   "source": [
    "b = datetime.datetime(2021, 6, 21, 0)\n",
    "numhours = 112\n",
    "dateList2 = []\n",
    "for x in range (0, numhours):\n",
    "    dateList2.append(b + datetime.timedelta(hours = x))\n",
    "print(dateList2)"
   ]
  },
  {
   "cell_type": "code",
   "execution_count": 515,
   "metadata": {
    "ExecuteTime": {
     "end_time": "2021-07-17T21:25:18.836570Z",
     "start_time": "2021-07-17T21:25:18.834865Z"
    }
   },
   "outputs": [],
   "source": [
    "test2 = pd.Series(dateList2)"
   ]
  },
  {
   "cell_type": "code",
   "execution_count": 516,
   "metadata": {
    "ExecuteTime": {
     "end_time": "2021-07-17T21:25:18.839324Z",
     "start_time": "2021-07-17T21:25:18.837541Z"
    }
   },
   "outputs": [],
   "source": [
    "test2=pd.DataFrame(test2)"
   ]
  },
  {
   "cell_type": "code",
   "execution_count": 517,
   "metadata": {
    "ExecuteTime": {
     "end_time": "2021-07-17T21:25:18.844760Z",
     "start_time": "2021-07-17T21:25:18.840231Z"
    }
   },
   "outputs": [
    {
     "data": {
      "text/html": [
       "<div>\n",
       "<style scoped>\n",
       "    .dataframe tbody tr th:only-of-type {\n",
       "        vertical-align: middle;\n",
       "    }\n",
       "\n",
       "    .dataframe tbody tr th {\n",
       "        vertical-align: top;\n",
       "    }\n",
       "\n",
       "    .dataframe thead th {\n",
       "        text-align: right;\n",
       "    }\n",
       "</style>\n",
       "<table border=\"1\" class=\"dataframe\">\n",
       "  <thead>\n",
       "    <tr style=\"text-align: right;\">\n",
       "      <th></th>\n",
       "      <th>0</th>\n",
       "    </tr>\n",
       "  </thead>\n",
       "  <tbody>\n",
       "    <tr>\n",
       "      <th>0</th>\n",
       "      <td>2021-06-21 00:00:00</td>\n",
       "    </tr>\n",
       "    <tr>\n",
       "      <th>1</th>\n",
       "      <td>2021-06-21 01:00:00</td>\n",
       "    </tr>\n",
       "    <tr>\n",
       "      <th>2</th>\n",
       "      <td>2021-06-21 02:00:00</td>\n",
       "    </tr>\n",
       "    <tr>\n",
       "      <th>3</th>\n",
       "      <td>2021-06-21 03:00:00</td>\n",
       "    </tr>\n",
       "    <tr>\n",
       "      <th>4</th>\n",
       "      <td>2021-06-21 04:00:00</td>\n",
       "    </tr>\n",
       "    <tr>\n",
       "      <th>...</th>\n",
       "      <td>...</td>\n",
       "    </tr>\n",
       "    <tr>\n",
       "      <th>107</th>\n",
       "      <td>2021-06-25 11:00:00</td>\n",
       "    </tr>\n",
       "    <tr>\n",
       "      <th>108</th>\n",
       "      <td>2021-06-25 12:00:00</td>\n",
       "    </tr>\n",
       "    <tr>\n",
       "      <th>109</th>\n",
       "      <td>2021-06-25 13:00:00</td>\n",
       "    </tr>\n",
       "    <tr>\n",
       "      <th>110</th>\n",
       "      <td>2021-06-25 14:00:00</td>\n",
       "    </tr>\n",
       "    <tr>\n",
       "      <th>111</th>\n",
       "      <td>2021-06-25 15:00:00</td>\n",
       "    </tr>\n",
       "  </tbody>\n",
       "</table>\n",
       "<p>112 rows × 1 columns</p>\n",
       "</div>"
      ],
      "text/plain": [
       "                      0\n",
       "0   2021-06-21 00:00:00\n",
       "1   2021-06-21 01:00:00\n",
       "2   2021-06-21 02:00:00\n",
       "3   2021-06-21 03:00:00\n",
       "4   2021-06-21 04:00:00\n",
       "..                  ...\n",
       "107 2021-06-25 11:00:00\n",
       "108 2021-06-25 12:00:00\n",
       "109 2021-06-25 13:00:00\n",
       "110 2021-06-25 14:00:00\n",
       "111 2021-06-25 15:00:00\n",
       "\n",
       "[112 rows x 1 columns]"
      ]
     },
     "execution_count": 517,
     "metadata": {},
     "output_type": "execute_result"
    }
   ],
   "source": [
    "test2"
   ]
  },
  {
   "cell_type": "code",
   "execution_count": 518,
   "metadata": {
    "ExecuteTime": {
     "end_time": "2021-07-17T21:25:18.847751Z",
     "start_time": "2021-07-17T21:25:18.845665Z"
    }
   },
   "outputs": [],
   "source": [
    "import numpy as np\n",
    "vals = np.random.randint(low=5, high=10, size=112)\n",
    "vals = pd.Series(vals)"
   ]
  },
  {
   "cell_type": "code",
   "execution_count": 519,
   "metadata": {
    "ExecuteTime": {
     "end_time": "2021-07-17T21:25:18.851001Z",
     "start_time": "2021-07-17T21:25:18.848602Z"
    }
   },
   "outputs": [],
   "source": [
    "test2 = pd.concat([test2,vals.rename('col')], axis=1)"
   ]
  },
  {
   "cell_type": "code",
   "execution_count": 520,
   "metadata": {
    "ExecuteTime": {
     "end_time": "2021-07-17T21:25:18.857108Z",
     "start_time": "2021-07-17T21:25:18.851919Z"
    }
   },
   "outputs": [
    {
     "data": {
      "text/html": [
       "<div>\n",
       "<style scoped>\n",
       "    .dataframe tbody tr th:only-of-type {\n",
       "        vertical-align: middle;\n",
       "    }\n",
       "\n",
       "    .dataframe tbody tr th {\n",
       "        vertical-align: top;\n",
       "    }\n",
       "\n",
       "    .dataframe thead th {\n",
       "        text-align: right;\n",
       "    }\n",
       "</style>\n",
       "<table border=\"1\" class=\"dataframe\">\n",
       "  <thead>\n",
       "    <tr style=\"text-align: right;\">\n",
       "      <th></th>\n",
       "      <th>0</th>\n",
       "      <th>col</th>\n",
       "    </tr>\n",
       "  </thead>\n",
       "  <tbody>\n",
       "    <tr>\n",
       "      <th>0</th>\n",
       "      <td>2021-06-21 00:00:00</td>\n",
       "      <td>5</td>\n",
       "    </tr>\n",
       "    <tr>\n",
       "      <th>1</th>\n",
       "      <td>2021-06-21 01:00:00</td>\n",
       "      <td>7</td>\n",
       "    </tr>\n",
       "    <tr>\n",
       "      <th>2</th>\n",
       "      <td>2021-06-21 02:00:00</td>\n",
       "      <td>8</td>\n",
       "    </tr>\n",
       "    <tr>\n",
       "      <th>3</th>\n",
       "      <td>2021-06-21 03:00:00</td>\n",
       "      <td>5</td>\n",
       "    </tr>\n",
       "    <tr>\n",
       "      <th>4</th>\n",
       "      <td>2021-06-21 04:00:00</td>\n",
       "      <td>8</td>\n",
       "    </tr>\n",
       "    <tr>\n",
       "      <th>...</th>\n",
       "      <td>...</td>\n",
       "      <td>...</td>\n",
       "    </tr>\n",
       "    <tr>\n",
       "      <th>107</th>\n",
       "      <td>2021-06-25 11:00:00</td>\n",
       "      <td>6</td>\n",
       "    </tr>\n",
       "    <tr>\n",
       "      <th>108</th>\n",
       "      <td>2021-06-25 12:00:00</td>\n",
       "      <td>5</td>\n",
       "    </tr>\n",
       "    <tr>\n",
       "      <th>109</th>\n",
       "      <td>2021-06-25 13:00:00</td>\n",
       "      <td>9</td>\n",
       "    </tr>\n",
       "    <tr>\n",
       "      <th>110</th>\n",
       "      <td>2021-06-25 14:00:00</td>\n",
       "      <td>8</td>\n",
       "    </tr>\n",
       "    <tr>\n",
       "      <th>111</th>\n",
       "      <td>2021-06-25 15:00:00</td>\n",
       "      <td>9</td>\n",
       "    </tr>\n",
       "  </tbody>\n",
       "</table>\n",
       "<p>112 rows × 2 columns</p>\n",
       "</div>"
      ],
      "text/plain": [
       "                      0  col\n",
       "0   2021-06-21 00:00:00    5\n",
       "1   2021-06-21 01:00:00    7\n",
       "2   2021-06-21 02:00:00    8\n",
       "3   2021-06-21 03:00:00    5\n",
       "4   2021-06-21 04:00:00    8\n",
       "..                  ...  ...\n",
       "107 2021-06-25 11:00:00    6\n",
       "108 2021-06-25 12:00:00    5\n",
       "109 2021-06-25 13:00:00    9\n",
       "110 2021-06-25 14:00:00    8\n",
       "111 2021-06-25 15:00:00    9\n",
       "\n",
       "[112 rows x 2 columns]"
      ]
     },
     "execution_count": 520,
     "metadata": {},
     "output_type": "execute_result"
    }
   ],
   "source": [
    "test2"
   ]
  },
  {
   "cell_type": "code",
   "execution_count": 521,
   "metadata": {
    "ExecuteTime": {
     "end_time": "2021-07-17T21:25:18.860327Z",
     "start_time": "2021-07-17T21:25:18.858138Z"
    }
   },
   "outputs": [],
   "source": [
    "test2[0] = pd.to_datetime(test2[0])"
   ]
  },
  {
   "cell_type": "code",
   "execution_count": 522,
   "metadata": {
    "ExecuteTime": {
     "end_time": "2021-07-17T21:25:18.863304Z",
     "start_time": "2021-07-17T21:25:18.861279Z"
    }
   },
   "outputs": [],
   "source": [
    "test2.set_index(0, inplace=True)"
   ]
  },
  {
   "cell_type": "code",
   "execution_count": 523,
   "metadata": {
    "ExecuteTime": {
     "end_time": "2021-07-17T21:25:18.867946Z",
     "start_time": "2021-07-17T21:25:18.864284Z"
    }
   },
   "outputs": [],
   "source": [
    "test2['hr'] = test2.index.hour"
   ]
  },
  {
   "cell_type": "code",
   "execution_count": 524,
   "metadata": {
    "ExecuteTime": {
     "end_time": "2021-07-17T21:25:18.872787Z",
     "start_time": "2021-07-17T21:25:18.870302Z"
    }
   },
   "outputs": [],
   "source": [
    "test2 = test2[test2['hr'].isin(range(9,16))]"
   ]
  },
  {
   "cell_type": "code",
   "execution_count": 525,
   "metadata": {
    "ExecuteTime": {
     "end_time": "2021-07-17T21:25:18.876243Z",
     "start_time": "2021-07-17T21:25:18.873748Z"
    }
   },
   "outputs": [],
   "source": [
    "dr = pd.concat([test, test2], axis=1)"
   ]
  },
  {
   "cell_type": "code",
   "execution_count": 526,
   "metadata": {
    "ExecuteTime": {
     "end_time": "2021-07-17T21:25:18.884175Z",
     "start_time": "2021-07-17T21:25:18.877193Z"
    }
   },
   "outputs": [
    {
     "data": {
      "text/html": [
       "<div>\n",
       "<style scoped>\n",
       "    .dataframe tbody tr th:only-of-type {\n",
       "        vertical-align: middle;\n",
       "    }\n",
       "\n",
       "    .dataframe tbody tr th {\n",
       "        vertical-align: top;\n",
       "    }\n",
       "\n",
       "    .dataframe thead th {\n",
       "        text-align: right;\n",
       "    }\n",
       "</style>\n",
       "<table border=\"1\" class=\"dataframe\">\n",
       "  <thead>\n",
       "    <tr style=\"text-align: right;\">\n",
       "      <th></th>\n",
       "      <th>col</th>\n",
       "      <th>hr</th>\n",
       "      <th>col</th>\n",
       "      <th>hr</th>\n",
       "    </tr>\n",
       "    <tr>\n",
       "      <th>0</th>\n",
       "      <th></th>\n",
       "      <th></th>\n",
       "      <th></th>\n",
       "      <th></th>\n",
       "    </tr>\n",
       "  </thead>\n",
       "  <tbody>\n",
       "    <tr>\n",
       "      <th>2021-06-14 09:00:00</th>\n",
       "      <td>8.0</td>\n",
       "      <td>9.0</td>\n",
       "      <td>NaN</td>\n",
       "      <td>NaN</td>\n",
       "    </tr>\n",
       "    <tr>\n",
       "      <th>2021-06-14 10:00:00</th>\n",
       "      <td>7.0</td>\n",
       "      <td>10.0</td>\n",
       "      <td>NaN</td>\n",
       "      <td>NaN</td>\n",
       "    </tr>\n",
       "    <tr>\n",
       "      <th>2021-06-14 11:00:00</th>\n",
       "      <td>9.0</td>\n",
       "      <td>11.0</td>\n",
       "      <td>NaN</td>\n",
       "      <td>NaN</td>\n",
       "    </tr>\n",
       "    <tr>\n",
       "      <th>2021-06-14 12:00:00</th>\n",
       "      <td>8.0</td>\n",
       "      <td>12.0</td>\n",
       "      <td>NaN</td>\n",
       "      <td>NaN</td>\n",
       "    </tr>\n",
       "    <tr>\n",
       "      <th>2021-06-14 13:00:00</th>\n",
       "      <td>5.0</td>\n",
       "      <td>13.0</td>\n",
       "      <td>NaN</td>\n",
       "      <td>NaN</td>\n",
       "    </tr>\n",
       "    <tr>\n",
       "      <th>...</th>\n",
       "      <td>...</td>\n",
       "      <td>...</td>\n",
       "      <td>...</td>\n",
       "      <td>...</td>\n",
       "    </tr>\n",
       "    <tr>\n",
       "      <th>2021-06-25 11:00:00</th>\n",
       "      <td>NaN</td>\n",
       "      <td>NaN</td>\n",
       "      <td>6.0</td>\n",
       "      <td>11.0</td>\n",
       "    </tr>\n",
       "    <tr>\n",
       "      <th>2021-06-25 12:00:00</th>\n",
       "      <td>NaN</td>\n",
       "      <td>NaN</td>\n",
       "      <td>5.0</td>\n",
       "      <td>12.0</td>\n",
       "    </tr>\n",
       "    <tr>\n",
       "      <th>2021-06-25 13:00:00</th>\n",
       "      <td>NaN</td>\n",
       "      <td>NaN</td>\n",
       "      <td>9.0</td>\n",
       "      <td>13.0</td>\n",
       "    </tr>\n",
       "    <tr>\n",
       "      <th>2021-06-25 14:00:00</th>\n",
       "      <td>NaN</td>\n",
       "      <td>NaN</td>\n",
       "      <td>8.0</td>\n",
       "      <td>14.0</td>\n",
       "    </tr>\n",
       "    <tr>\n",
       "      <th>2021-06-25 15:00:00</th>\n",
       "      <td>NaN</td>\n",
       "      <td>NaN</td>\n",
       "      <td>9.0</td>\n",
       "      <td>15.0</td>\n",
       "    </tr>\n",
       "  </tbody>\n",
       "</table>\n",
       "<p>70 rows × 4 columns</p>\n",
       "</div>"
      ],
      "text/plain": [
       "                     col    hr  col    hr\n",
       "0                                        \n",
       "2021-06-14 09:00:00  8.0   9.0  NaN   NaN\n",
       "2021-06-14 10:00:00  7.0  10.0  NaN   NaN\n",
       "2021-06-14 11:00:00  9.0  11.0  NaN   NaN\n",
       "2021-06-14 12:00:00  8.0  12.0  NaN   NaN\n",
       "2021-06-14 13:00:00  5.0  13.0  NaN   NaN\n",
       "...                  ...   ...  ...   ...\n",
       "2021-06-25 11:00:00  NaN   NaN  6.0  11.0\n",
       "2021-06-25 12:00:00  NaN   NaN  5.0  12.0\n",
       "2021-06-25 13:00:00  NaN   NaN  9.0  13.0\n",
       "2021-06-25 14:00:00  NaN   NaN  8.0  14.0\n",
       "2021-06-25 15:00:00  NaN   NaN  9.0  15.0\n",
       "\n",
       "[70 rows x 4 columns]"
      ]
     },
     "execution_count": 526,
     "metadata": {},
     "output_type": "execute_result"
    }
   ],
   "source": [
    "dr"
   ]
  },
  {
   "cell_type": "code",
   "execution_count": 527,
   "metadata": {
    "ExecuteTime": {
     "end_time": "2021-07-17T21:25:18.886559Z",
     "start_time": "2021-07-17T21:25:18.885141Z"
    }
   },
   "outputs": [],
   "source": [
    "# a = datetime.datetime.today()\n",
    "# numdays = 100\n",
    "# dateList = []\n",
    "# for x in range (0, numdays):\n",
    "#     dateList.append(a - datetime.timedelta(days = x))\n",
    "# print(dateList)"
   ]
  },
  {
   "cell_type": "code",
   "execution_count": 528,
   "metadata": {
    "ExecuteTime": {
     "end_time": "2021-07-17T21:25:18.888820Z",
     "start_time": "2021-07-17T21:25:18.887455Z"
    }
   },
   "outputs": [],
   "source": [
    "# from datetime import datetime, timedelta\n",
    "\n",
    "# x = datetime(2021, 6, 14, 0)\n",
    "# num_hours=100\n",
    "# dateList = []\n",
    "# for x in range(0, num_hours):\n",
    "#     dateList.append(x + timedelta(days = x))"
   ]
  },
  {
   "cell_type": "code",
   "execution_count": 529,
   "metadata": {
    "ExecuteTime": {
     "end_time": "2021-07-17T21:25:18.891136Z",
     "start_time": "2021-07-17T21:25:18.889660Z"
    }
   },
   "outputs": [],
   "source": [
    "# timedelta"
   ]
  },
  {
   "cell_type": "code",
   "execution_count": 530,
   "metadata": {
    "ExecuteTime": {
     "end_time": "2021-07-17T21:25:18.898785Z",
     "start_time": "2021-07-17T21:25:18.891977Z"
    }
   },
   "outputs": [],
   "source": [
    "apple_results = pd.DataFrame(df_apple.groupby(['day', 'hour']).agg('first')).reset_index()"
   ]
  },
  {
   "cell_type": "code",
   "execution_count": 531,
   "metadata": {
    "ExecuteTime": {
     "end_time": "2021-07-17T21:25:18.902156Z",
     "start_time": "2021-07-17T21:25:18.899695Z"
    }
   },
   "outputs": [],
   "source": [
    "apple_results=apple_results[apple_results['hour'].isin(range(9,16))]"
   ]
  },
  {
   "cell_type": "code",
   "execution_count": 532,
   "metadata": {
    "ExecuteTime": {
     "end_time": "2021-07-17T21:25:18.904773Z",
     "start_time": "2021-07-17T21:25:18.903064Z"
    }
   },
   "outputs": [],
   "source": [
    "app_res = apple_results['results']"
   ]
  },
  {
   "cell_type": "code",
   "execution_count": 533,
   "metadata": {
    "ExecuteTime": {
     "end_time": "2021-07-17T21:25:18.907741Z",
     "start_time": "2021-07-17T21:25:18.905670Z"
    }
   },
   "outputs": [
    {
     "data": {
      "text/plain": [
       "70"
      ]
     },
     "execution_count": 533,
     "metadata": {},
     "output_type": "execute_result"
    }
   ],
   "source": [
    "len(app_res)"
   ]
  },
  {
   "cell_type": "code",
   "execution_count": 534,
   "metadata": {
    "ExecuteTime": {
     "end_time": "2021-07-17T21:25:18.911896Z",
     "start_time": "2021-07-17T21:25:18.908707Z"
    }
   },
   "outputs": [],
   "source": [
    "apple_ress = pd.concat([dr.reset_index(), app_res.rename('apple').reset_index()],axis=1)"
   ]
  },
  {
   "cell_type": "code",
   "execution_count": null,
   "metadata": {
    "ExecuteTime": {
     "end_time": "2021-07-17T21:23:48.083934Z",
     "start_time": "2021-07-17T21:23:48.054112Z"
    }
   },
   "outputs": [],
   "source": []
  },
  {
   "cell_type": "code",
   "execution_count": 535,
   "metadata": {
    "ExecuteTime": {
     "end_time": "2021-07-17T21:25:18.915861Z",
     "start_time": "2021-07-17T21:25:18.912874Z"
    }
   },
   "outputs": [],
   "source": [
    "apple_ress[0] = pd.to_datetime(apple_ress[0])"
   ]
  },
  {
   "cell_type": "code",
   "execution_count": 536,
   "metadata": {
    "ExecuteTime": {
     "end_time": "2021-07-17T21:25:18.919186Z",
     "start_time": "2021-07-17T21:25:18.916833Z"
    }
   },
   "outputs": [],
   "source": [
    "apple_ress.set_index(0,inplace=True)"
   ]
  },
  {
   "cell_type": "code",
   "execution_count": 537,
   "metadata": {
    "ExecuteTime": {
     "end_time": "2021-07-17T21:25:19.006600Z",
     "start_time": "2021-07-17T21:25:18.920136Z"
    }
   },
   "outputs": [
    {
     "data": {
      "text/plain": [
       "<AxesSubplot:xlabel='0'>"
      ]
     },
     "execution_count": 537,
     "metadata": {},
     "output_type": "execute_result"
    },
    {
     "data": {
      "image/png": "[encoded data removed]",
      "text/plain": [
       "<Figure size 432x288 with 1 Axes>"
      ]
     },
     "metadata": {
      "needs_background": "light"
     },
     "output_type": "display_data"
    }
   ],
   "source": [
    "apple_ress['apple'].plot()"
   ]
  },
  {
   "cell_type": "code",
   "execution_count": 538,
   "metadata": {
    "ExecuteTime": {
     "end_time": "2021-07-17T21:25:19.010122Z",
     "start_time": "2021-07-17T21:25:19.007727Z"
    }
   },
   "outputs": [],
   "source": [
    "apple_ress.drop(columns=['col', 'hr'], inplace=True)"
   ]
  },
  {
   "cell_type": "code",
   "execution_count": 539,
   "metadata": {
    "ExecuteTime": {
     "end_time": "2021-07-17T21:25:19.016975Z",
     "start_time": "2021-07-17T21:25:19.011037Z"
    }
   },
   "outputs": [
    {
     "data": {
      "text/html": [
       "<div>\n",
       "<style scoped>\n",
       "    .dataframe tbody tr th:only-of-type {\n",
       "        vertical-align: middle;\n",
       "    }\n",
       "\n",
       "    .dataframe tbody tr th {\n",
       "        vertical-align: top;\n",
       "    }\n",
       "\n",
       "    .dataframe thead th {\n",
       "        text-align: right;\n",
       "    }\n",
       "</style>\n",
       "<table border=\"1\" class=\"dataframe\">\n",
       "  <thead>\n",
       "    <tr style=\"text-align: right;\">\n",
       "      <th></th>\n",
       "      <th>index</th>\n",
       "      <th>apple</th>\n",
       "    </tr>\n",
       "    <tr>\n",
       "      <th>0</th>\n",
       "      <th></th>\n",
       "      <th></th>\n",
       "    </tr>\n",
       "  </thead>\n",
       "  <tbody>\n",
       "    <tr>\n",
       "      <th>2021-06-14 09:00:00</th>\n",
       "      <td>0</td>\n",
       "      <td>124.0</td>\n",
       "    </tr>\n",
       "    <tr>\n",
       "      <th>2021-06-14 10:00:00</th>\n",
       "      <td>1</td>\n",
       "      <td>124.0</td>\n",
       "    </tr>\n",
       "    <tr>\n",
       "      <th>2021-06-14 11:00:00</th>\n",
       "      <td>2</td>\n",
       "      <td>120.0</td>\n",
       "    </tr>\n",
       "    <tr>\n",
       "      <th>2021-06-14 12:00:00</th>\n",
       "      <td>3</td>\n",
       "      <td>97.0</td>\n",
       "    </tr>\n",
       "    <tr>\n",
       "      <th>2021-06-14 13:00:00</th>\n",
       "      <td>4</td>\n",
       "      <td>95.0</td>\n",
       "    </tr>\n",
       "    <tr>\n",
       "      <th>...</th>\n",
       "      <td>...</td>\n",
       "      <td>...</td>\n",
       "    </tr>\n",
       "    <tr>\n",
       "      <th>2021-06-25 11:00:00</th>\n",
       "      <td>71</td>\n",
       "      <td>112.0</td>\n",
       "    </tr>\n",
       "    <tr>\n",
       "      <th>2021-06-25 12:00:00</th>\n",
       "      <td>72</td>\n",
       "      <td>99.0</td>\n",
       "    </tr>\n",
       "    <tr>\n",
       "      <th>2021-06-25 13:00:00</th>\n",
       "      <td>73</td>\n",
       "      <td>99.0</td>\n",
       "    </tr>\n",
       "    <tr>\n",
       "      <th>2021-06-25 14:00:00</th>\n",
       "      <td>74</td>\n",
       "      <td>58.0</td>\n",
       "    </tr>\n",
       "    <tr>\n",
       "      <th>2021-06-25 15:00:00</th>\n",
       "      <td>75</td>\n",
       "      <td>51.0</td>\n",
       "    </tr>\n",
       "  </tbody>\n",
       "</table>\n",
       "<p>70 rows × 2 columns</p>\n",
       "</div>"
      ],
      "text/plain": [
       "                     index  apple\n",
       "0                                \n",
       "2021-06-14 09:00:00      0  124.0\n",
       "2021-06-14 10:00:00      1  124.0\n",
       "2021-06-14 11:00:00      2  120.0\n",
       "2021-06-14 12:00:00      3   97.0\n",
       "2021-06-14 13:00:00      4   95.0\n",
       "...                    ...    ...\n",
       "2021-06-25 11:00:00     71  112.0\n",
       "2021-06-25 12:00:00     72   99.0\n",
       "2021-06-25 13:00:00     73   99.0\n",
       "2021-06-25 14:00:00     74   58.0\n",
       "2021-06-25 15:00:00     75   51.0\n",
       "\n",
       "[70 rows x 2 columns]"
      ]
     },
     "execution_count": 539,
     "metadata": {},
     "output_type": "execute_result"
    }
   ],
   "source": [
    "apple_ress"
   ]
  },
  {
   "cell_type": "code",
   "execution_count": 540,
   "metadata": {
    "ExecuteTime": {
     "end_time": "2021-07-17T21:25:19.020193Z",
     "start_time": "2021-07-17T21:25:19.017959Z"
    }
   },
   "outputs": [],
   "source": [
    "def num_articles(df):\n",
    "    comp_vol = pd.DataFrame(df.groupby(['day', 'hour']).agg('first')['results']).reset_index()\n",
    "    comp_vol=comp_vol[comp_vol['hour'].isin(range(9,16))]\n",
    "    comp_vol = comp_vol['results']\n",
    "    return comp_vol"
   ]
  },
  {
   "cell_type": "code",
   "execution_count": 541,
   "metadata": {
    "ExecuteTime": {
     "end_time": "2021-07-17T21:25:19.033692Z",
     "start_time": "2021-07-17T21:25:19.027649Z"
    }
   },
   "outputs": [],
   "source": [
    "list_of_df = [df_apple, df_facebook, df_nflx, df_msft, df_amzn, df_google]"
   ]
  },
  {
   "cell_type": "code",
   "execution_count": 542,
   "metadata": {
    "ExecuteTime": {
     "end_time": "2021-07-17T21:25:19.064785Z",
     "start_time": "2021-07-17T21:25:19.035881Z"
    }
   },
   "outputs": [],
   "source": [
    "comp_vols = []\n",
    "for df_ in list_of_df:\n",
    "    comp_vols.append(num_articles(df_))"
   ]
  },
  {
   "cell_type": "code",
   "execution_count": 543,
   "metadata": {
    "ExecuteTime": {
     "end_time": "2021-07-17T21:25:19.067916Z",
     "start_time": "2021-07-17T21:25:19.065858Z"
    }
   },
   "outputs": [
    {
     "name": "stdout",
     "output_type": "stream",
     "text": [
      "70\n",
      "70\n",
      "70\n",
      "70\n",
      "70\n",
      "70\n"
     ]
    }
   ],
   "source": [
    "for i in range(len(comp_vols)):\n",
    "    print(len(comp_vols[i]))"
   ]
  },
  {
   "cell_type": "code",
   "execution_count": 544,
   "metadata": {
    "ExecuteTime": {
     "end_time": "2021-07-17T21:25:19.071868Z",
     "start_time": "2021-07-17T21:25:19.068808Z"
    }
   },
   "outputs": [],
   "source": [
    "all_res = pd.concat(comp_vols, axis=1)"
   ]
  },
  {
   "cell_type": "code",
   "execution_count": 545,
   "metadata": {
    "ExecuteTime": {
     "end_time": "2021-07-17T21:25:19.075133Z",
     "start_time": "2021-07-17T21:25:19.072801Z"
    }
   },
   "outputs": [],
   "source": [
    "all_res.columns = ['apple', 'fb', 'nflx', 'msft', 'amzn', 'google']"
   ]
  },
  {
   "cell_type": "code",
   "execution_count": 546,
   "metadata": {
    "ExecuteTime": {
     "end_time": "2021-07-17T21:25:19.080108Z",
     "start_time": "2021-07-17T21:25:19.077788Z"
    }
   },
   "outputs": [],
   "source": [
    "all_res=all_res.ffill()"
   ]
  },
  {
   "cell_type": "code",
   "execution_count": 547,
   "metadata": {
    "ExecuteTime": {
     "end_time": "2021-07-17T21:25:19.082837Z",
     "start_time": "2021-07-17T21:25:19.081155Z"
    }
   },
   "outputs": [],
   "source": [
    "all_res = all_res.iloc[:70]"
   ]
  },
  {
   "cell_type": "code",
   "execution_count": 548,
   "metadata": {
    "ExecuteTime": {
     "end_time": "2021-07-17T21:25:19.086682Z",
     "start_time": "2021-07-17T21:25:19.083801Z"
    }
   },
   "outputs": [],
   "source": [
    "all_res = pd.concat([apple_ress.reset_index(), all_res.reset_index()], axis=1)"
   ]
  },
  {
   "cell_type": "code",
   "execution_count": 549,
   "metadata": {
    "ExecuteTime": {
     "end_time": "2021-07-17T21:25:19.098935Z",
     "start_time": "2021-07-17T21:25:19.087573Z"
    }
   },
   "outputs": [
    {
     "data": {
      "text/html": [
       "<div>\n",
       "<style scoped>\n",
       "    .dataframe tbody tr th:only-of-type {\n",
       "        vertical-align: middle;\n",
       "    }\n",
       "\n",
       "    .dataframe tbody tr th {\n",
       "        vertical-align: top;\n",
       "    }\n",
       "\n",
       "    .dataframe thead th {\n",
       "        text-align: right;\n",
       "    }\n",
       "</style>\n",
       "<table border=\"1\" class=\"dataframe\">\n",
       "  <thead>\n",
       "    <tr style=\"text-align: right;\">\n",
       "      <th></th>\n",
       "      <th>0</th>\n",
       "      <th>index</th>\n",
       "      <th>apple</th>\n",
       "      <th>index</th>\n",
       "      <th>apple</th>\n",
       "      <th>fb</th>\n",
       "      <th>nflx</th>\n",
       "      <th>msft</th>\n",
       "      <th>amzn</th>\n",
       "      <th>google</th>\n",
       "    </tr>\n",
       "  </thead>\n",
       "  <tbody>\n",
       "    <tr>\n",
       "      <th>0</th>\n",
       "      <td>2021-06-14 09:00:00</td>\n",
       "      <td>0</td>\n",
       "      <td>124.0</td>\n",
       "      <td>0</td>\n",
       "      <td>124.0</td>\n",
       "      <td>133.0</td>\n",
       "      <td>25.0</td>\n",
       "      <td>67.0</td>\n",
       "      <td>120.0</td>\n",
       "      <td>133.0</td>\n",
       "    </tr>\n",
       "    <tr>\n",
       "      <th>1</th>\n",
       "      <td>2021-06-14 10:00:00</td>\n",
       "      <td>1</td>\n",
       "      <td>124.0</td>\n",
       "      <td>1</td>\n",
       "      <td>124.0</td>\n",
       "      <td>133.0</td>\n",
       "      <td>26.0</td>\n",
       "      <td>49.0</td>\n",
       "      <td>120.0</td>\n",
       "      <td>133.0</td>\n",
       "    </tr>\n",
       "    <tr>\n",
       "      <th>2</th>\n",
       "      <td>2021-06-14 11:00:00</td>\n",
       "      <td>2</td>\n",
       "      <td>120.0</td>\n",
       "      <td>2</td>\n",
       "      <td>120.0</td>\n",
       "      <td>120.0</td>\n",
       "      <td>40.0</td>\n",
       "      <td>49.0</td>\n",
       "      <td>119.0</td>\n",
       "      <td>132.0</td>\n",
       "    </tr>\n",
       "    <tr>\n",
       "      <th>3</th>\n",
       "      <td>2021-06-14 12:00:00</td>\n",
       "      <td>3</td>\n",
       "      <td>97.0</td>\n",
       "      <td>3</td>\n",
       "      <td>97.0</td>\n",
       "      <td>107.0</td>\n",
       "      <td>28.0</td>\n",
       "      <td>59.0</td>\n",
       "      <td>119.0</td>\n",
       "      <td>112.0</td>\n",
       "    </tr>\n",
       "    <tr>\n",
       "      <th>4</th>\n",
       "      <td>2021-06-14 13:00:00</td>\n",
       "      <td>4</td>\n",
       "      <td>95.0</td>\n",
       "      <td>4</td>\n",
       "      <td>95.0</td>\n",
       "      <td>84.0</td>\n",
       "      <td>28.0</td>\n",
       "      <td>46.0</td>\n",
       "      <td>96.0</td>\n",
       "      <td>112.0</td>\n",
       "    </tr>\n",
       "    <tr>\n",
       "      <th>...</th>\n",
       "      <td>...</td>\n",
       "      <td>...</td>\n",
       "      <td>...</td>\n",
       "      <td>...</td>\n",
       "      <td>...</td>\n",
       "      <td>...</td>\n",
       "      <td>...</td>\n",
       "      <td>...</td>\n",
       "      <td>...</td>\n",
       "      <td>...</td>\n",
       "    </tr>\n",
       "    <tr>\n",
       "      <th>65</th>\n",
       "      <td>2021-06-25 11:00:00</td>\n",
       "      <td>71</td>\n",
       "      <td>112.0</td>\n",
       "      <td>65</td>\n",
       "      <td>108.0</td>\n",
       "      <td>154.0</td>\n",
       "      <td>34.0</td>\n",
       "      <td>161.0</td>\n",
       "      <td>124.0</td>\n",
       "      <td>167.0</td>\n",
       "    </tr>\n",
       "    <tr>\n",
       "      <th>66</th>\n",
       "      <td>2021-06-25 12:00:00</td>\n",
       "      <td>72</td>\n",
       "      <td>99.0</td>\n",
       "      <td>66</td>\n",
       "      <td>80.0</td>\n",
       "      <td>126.0</td>\n",
       "      <td>39.0</td>\n",
       "      <td>106.0</td>\n",
       "      <td>131.0</td>\n",
       "      <td>120.0</td>\n",
       "    </tr>\n",
       "    <tr>\n",
       "      <th>67</th>\n",
       "      <td>2021-06-25 13:00:00</td>\n",
       "      <td>73</td>\n",
       "      <td>99.0</td>\n",
       "      <td>67</td>\n",
       "      <td>84.0</td>\n",
       "      <td>98.0</td>\n",
       "      <td>39.0</td>\n",
       "      <td>81.0</td>\n",
       "      <td>152.0</td>\n",
       "      <td>130.0</td>\n",
       "    </tr>\n",
       "    <tr>\n",
       "      <th>68</th>\n",
       "      <td>2021-06-25 14:00:00</td>\n",
       "      <td>74</td>\n",
       "      <td>58.0</td>\n",
       "      <td>68</td>\n",
       "      <td>84.0</td>\n",
       "      <td>92.0</td>\n",
       "      <td>41.0</td>\n",
       "      <td>81.0</td>\n",
       "      <td>111.0</td>\n",
       "      <td>130.0</td>\n",
       "    </tr>\n",
       "    <tr>\n",
       "      <th>69</th>\n",
       "      <td>2021-06-25 15:00:00</td>\n",
       "      <td>75</td>\n",
       "      <td>51.0</td>\n",
       "      <td>69</td>\n",
       "      <td>89.0</td>\n",
       "      <td>92.0</td>\n",
       "      <td>41.0</td>\n",
       "      <td>81.0</td>\n",
       "      <td>94.0</td>\n",
       "      <td>130.0</td>\n",
       "    </tr>\n",
       "  </tbody>\n",
       "</table>\n",
       "<p>70 rows × 10 columns</p>\n",
       "</div>"
      ],
      "text/plain": [
       "                     0  index  apple  index  apple     fb  nflx   msft   amzn  \\\n",
       "0  2021-06-14 09:00:00      0  124.0      0  124.0  133.0  25.0   67.0  120.0   \n",
       "1  2021-06-14 10:00:00      1  124.0      1  124.0  133.0  26.0   49.0  120.0   \n",
       "2  2021-06-14 11:00:00      2  120.0      2  120.0  120.0  40.0   49.0  119.0   \n",
       "3  2021-06-14 12:00:00      3   97.0      3   97.0  107.0  28.0   59.0  119.0   \n",
       "4  2021-06-14 13:00:00      4   95.0      4   95.0   84.0  28.0   46.0   96.0   \n",
       "..                 ...    ...    ...    ...    ...    ...   ...    ...    ...   \n",
       "65 2021-06-25 11:00:00     71  112.0     65  108.0  154.0  34.0  161.0  124.0   \n",
       "66 2021-06-25 12:00:00     72   99.0     66   80.0  126.0  39.0  106.0  131.0   \n",
       "67 2021-06-25 13:00:00     73   99.0     67   84.0   98.0  39.0   81.0  152.0   \n",
       "68 2021-06-25 14:00:00     74   58.0     68   84.0   92.0  41.0   81.0  111.0   \n",
       "69 2021-06-25 15:00:00     75   51.0     69   89.0   92.0  41.0   81.0   94.0   \n",
       "\n",
       "    google  \n",
       "0    133.0  \n",
       "1    133.0  \n",
       "2    132.0  \n",
       "3    112.0  \n",
       "4    112.0  \n",
       "..     ...  \n",
       "65   167.0  \n",
       "66   120.0  \n",
       "67   130.0  \n",
       "68   130.0  \n",
       "69   130.0  \n",
       "\n",
       "[70 rows x 10 columns]"
      ]
     },
     "execution_count": 549,
     "metadata": {},
     "output_type": "execute_result"
    }
   ],
   "source": [
    "all_res"
   ]
  },
  {
   "cell_type": "code",
   "execution_count": 551,
   "metadata": {
    "ExecuteTime": {
     "end_time": "2021-07-17T21:25:30.731245Z",
     "start_time": "2021-07-17T21:25:30.723466Z"
    }
   },
   "outputs": [],
   "source": [
    "all_res.drop(columns='index', inplace=True)"
   ]
  },
  {
   "cell_type": "code",
   "execution_count": 553,
   "metadata": {
    "ExecuteTime": {
     "end_time": "2021-07-17T21:26:24.462700Z",
     "start_time": "2021-07-17T21:26:24.458776Z"
    }
   },
   "outputs": [],
   "source": [
    "all_res.columns = ['date' ,'apple', 'apple2', 'fb', 'nflx', 'msft', 'amzn', 'google']"
   ]
  },
  {
   "cell_type": "code",
   "execution_count": 555,
   "metadata": {
    "ExecuteTime": {
     "end_time": "2021-07-17T21:26:44.115271Z",
     "start_time": "2021-07-17T21:26:44.107246Z"
    }
   },
   "outputs": [],
   "source": [
    "all_res.drop(columns='apple2', inplace=True)"
   ]
  },
  {
   "cell_type": "code",
   "execution_count": 556,
   "metadata": {
    "ExecuteTime": {
     "end_time": "2021-07-17T21:26:47.749843Z",
     "start_time": "2021-07-17T21:26:47.722487Z"
    }
   },
   "outputs": [
    {
     "data": {
      "text/html": [
       "<div>\n",
       "<style scoped>\n",
       "    .dataframe tbody tr th:only-of-type {\n",
       "        vertical-align: middle;\n",
       "    }\n",
       "\n",
       "    .dataframe tbody tr th {\n",
       "        vertical-align: top;\n",
       "    }\n",
       "\n",
       "    .dataframe thead th {\n",
       "        text-align: right;\n",
       "    }\n",
       "</style>\n",
       "<table border=\"1\" class=\"dataframe\">\n",
       "  <thead>\n",
       "    <tr style=\"text-align: right;\">\n",
       "      <th></th>\n",
       "      <th>date</th>\n",
       "      <th>apple</th>\n",
       "      <th>fb</th>\n",
       "      <th>nflx</th>\n",
       "      <th>msft</th>\n",
       "      <th>amzn</th>\n",
       "      <th>google</th>\n",
       "    </tr>\n",
       "  </thead>\n",
       "  <tbody>\n",
       "    <tr>\n",
       "      <th>0</th>\n",
       "      <td>2021-06-14 09:00:00</td>\n",
       "      <td>124.0</td>\n",
       "      <td>133.0</td>\n",
       "      <td>25.0</td>\n",
       "      <td>67.0</td>\n",
       "      <td>120.0</td>\n",
       "      <td>133.0</td>\n",
       "    </tr>\n",
       "    <tr>\n",
       "      <th>1</th>\n",
       "      <td>2021-06-14 10:00:00</td>\n",
       "      <td>124.0</td>\n",
       "      <td>133.0</td>\n",
       "      <td>26.0</td>\n",
       "      <td>49.0</td>\n",
       "      <td>120.0</td>\n",
       "      <td>133.0</td>\n",
       "    </tr>\n",
       "    <tr>\n",
       "      <th>2</th>\n",
       "      <td>2021-06-14 11:00:00</td>\n",
       "      <td>120.0</td>\n",
       "      <td>120.0</td>\n",
       "      <td>40.0</td>\n",
       "      <td>49.0</td>\n",
       "      <td>119.0</td>\n",
       "      <td>132.0</td>\n",
       "    </tr>\n",
       "    <tr>\n",
       "      <th>3</th>\n",
       "      <td>2021-06-14 12:00:00</td>\n",
       "      <td>97.0</td>\n",
       "      <td>107.0</td>\n",
       "      <td>28.0</td>\n",
       "      <td>59.0</td>\n",
       "      <td>119.0</td>\n",
       "      <td>112.0</td>\n",
       "    </tr>\n",
       "    <tr>\n",
       "      <th>4</th>\n",
       "      <td>2021-06-14 13:00:00</td>\n",
       "      <td>95.0</td>\n",
       "      <td>84.0</td>\n",
       "      <td>28.0</td>\n",
       "      <td>46.0</td>\n",
       "      <td>96.0</td>\n",
       "      <td>112.0</td>\n",
       "    </tr>\n",
       "    <tr>\n",
       "      <th>...</th>\n",
       "      <td>...</td>\n",
       "      <td>...</td>\n",
       "      <td>...</td>\n",
       "      <td>...</td>\n",
       "      <td>...</td>\n",
       "      <td>...</td>\n",
       "      <td>...</td>\n",
       "    </tr>\n",
       "    <tr>\n",
       "      <th>65</th>\n",
       "      <td>2021-06-25 11:00:00</td>\n",
       "      <td>112.0</td>\n",
       "      <td>154.0</td>\n",
       "      <td>34.0</td>\n",
       "      <td>161.0</td>\n",
       "      <td>124.0</td>\n",
       "      <td>167.0</td>\n",
       "    </tr>\n",
       "    <tr>\n",
       "      <th>66</th>\n",
       "      <td>2021-06-25 12:00:00</td>\n",
       "      <td>99.0</td>\n",
       "      <td>126.0</td>\n",
       "      <td>39.0</td>\n",
       "      <td>106.0</td>\n",
       "      <td>131.0</td>\n",
       "      <td>120.0</td>\n",
       "    </tr>\n",
       "    <tr>\n",
       "      <th>67</th>\n",
       "      <td>2021-06-25 13:00:00</td>\n",
       "      <td>99.0</td>\n",
       "      <td>98.0</td>\n",
       "      <td>39.0</td>\n",
       "      <td>81.0</td>\n",
       "      <td>152.0</td>\n",
       "      <td>130.0</td>\n",
       "    </tr>\n",
       "    <tr>\n",
       "      <th>68</th>\n",
       "      <td>2021-06-25 14:00:00</td>\n",
       "      <td>58.0</td>\n",
       "      <td>92.0</td>\n",
       "      <td>41.0</td>\n",
       "      <td>81.0</td>\n",
       "      <td>111.0</td>\n",
       "      <td>130.0</td>\n",
       "    </tr>\n",
       "    <tr>\n",
       "      <th>69</th>\n",
       "      <td>2021-06-25 15:00:00</td>\n",
       "      <td>51.0</td>\n",
       "      <td>92.0</td>\n",
       "      <td>41.0</td>\n",
       "      <td>81.0</td>\n",
       "      <td>94.0</td>\n",
       "      <td>130.0</td>\n",
       "    </tr>\n",
       "  </tbody>\n",
       "</table>\n",
       "<p>70 rows × 7 columns</p>\n",
       "</div>"
      ],
      "text/plain": [
       "                  date  apple     fb  nflx   msft   amzn  google\n",
       "0  2021-06-14 09:00:00  124.0  133.0  25.0   67.0  120.0   133.0\n",
       "1  2021-06-14 10:00:00  124.0  133.0  26.0   49.0  120.0   133.0\n",
       "2  2021-06-14 11:00:00  120.0  120.0  40.0   49.0  119.0   132.0\n",
       "3  2021-06-14 12:00:00   97.0  107.0  28.0   59.0  119.0   112.0\n",
       "4  2021-06-14 13:00:00   95.0   84.0  28.0   46.0   96.0   112.0\n",
       "..                 ...    ...    ...   ...    ...    ...     ...\n",
       "65 2021-06-25 11:00:00  112.0  154.0  34.0  161.0  124.0   167.0\n",
       "66 2021-06-25 12:00:00   99.0  126.0  39.0  106.0  131.0   120.0\n",
       "67 2021-06-25 13:00:00   99.0   98.0  39.0   81.0  152.0   130.0\n",
       "68 2021-06-25 14:00:00   58.0   92.0  41.0   81.0  111.0   130.0\n",
       "69 2021-06-25 15:00:00   51.0   92.0  41.0   81.0   94.0   130.0\n",
       "\n",
       "[70 rows x 7 columns]"
      ]
     },
     "execution_count": 556,
     "metadata": {},
     "output_type": "execute_result"
    }
   ],
   "source": [
    "all_res"
   ]
  },
  {
   "cell_type": "code",
   "execution_count": 558,
   "metadata": {
    "ExecuteTime": {
     "end_time": "2021-07-17T21:27:13.724468Z",
     "start_time": "2021-07-17T21:27:13.717721Z"
    }
   },
   "outputs": [],
   "source": [
    "all_res['date'] = pd.to_datetime(all_res['date'])"
   ]
  },
  {
   "cell_type": "code",
   "execution_count": 559,
   "metadata": {
    "ExecuteTime": {
     "end_time": "2021-07-17T21:27:18.775554Z",
     "start_time": "2021-07-17T21:27:18.749097Z"
    }
   },
   "outputs": [
    {
     "data": {
      "text/html": [
       "<div>\n",
       "<style scoped>\n",
       "    .dataframe tbody tr th:only-of-type {\n",
       "        vertical-align: middle;\n",
       "    }\n",
       "\n",
       "    .dataframe tbody tr th {\n",
       "        vertical-align: top;\n",
       "    }\n",
       "\n",
       "    .dataframe thead th {\n",
       "        text-align: right;\n",
       "    }\n",
       "</style>\n",
       "<table border=\"1\" class=\"dataframe\">\n",
       "  <thead>\n",
       "    <tr style=\"text-align: right;\">\n",
       "      <th></th>\n",
       "      <th>date</th>\n",
       "      <th>apple</th>\n",
       "      <th>fb</th>\n",
       "      <th>nflx</th>\n",
       "      <th>msft</th>\n",
       "      <th>amzn</th>\n",
       "      <th>google</th>\n",
       "    </tr>\n",
       "  </thead>\n",
       "  <tbody>\n",
       "    <tr>\n",
       "      <th>0</th>\n",
       "      <td>2021-06-14 09:00:00</td>\n",
       "      <td>124.0</td>\n",
       "      <td>133.0</td>\n",
       "      <td>25.0</td>\n",
       "      <td>67.0</td>\n",
       "      <td>120.0</td>\n",
       "      <td>133.0</td>\n",
       "    </tr>\n",
       "    <tr>\n",
       "      <th>1</th>\n",
       "      <td>2021-06-14 10:00:00</td>\n",
       "      <td>124.0</td>\n",
       "      <td>133.0</td>\n",
       "      <td>26.0</td>\n",
       "      <td>49.0</td>\n",
       "      <td>120.0</td>\n",
       "      <td>133.0</td>\n",
       "    </tr>\n",
       "    <tr>\n",
       "      <th>2</th>\n",
       "      <td>2021-06-14 11:00:00</td>\n",
       "      <td>120.0</td>\n",
       "      <td>120.0</td>\n",
       "      <td>40.0</td>\n",
       "      <td>49.0</td>\n",
       "      <td>119.0</td>\n",
       "      <td>132.0</td>\n",
       "    </tr>\n",
       "    <tr>\n",
       "      <th>3</th>\n",
       "      <td>2021-06-14 12:00:00</td>\n",
       "      <td>97.0</td>\n",
       "      <td>107.0</td>\n",
       "      <td>28.0</td>\n",
       "      <td>59.0</td>\n",
       "      <td>119.0</td>\n",
       "      <td>112.0</td>\n",
       "    </tr>\n",
       "    <tr>\n",
       "      <th>4</th>\n",
       "      <td>2021-06-14 13:00:00</td>\n",
       "      <td>95.0</td>\n",
       "      <td>84.0</td>\n",
       "      <td>28.0</td>\n",
       "      <td>46.0</td>\n",
       "      <td>96.0</td>\n",
       "      <td>112.0</td>\n",
       "    </tr>\n",
       "    <tr>\n",
       "      <th>...</th>\n",
       "      <td>...</td>\n",
       "      <td>...</td>\n",
       "      <td>...</td>\n",
       "      <td>...</td>\n",
       "      <td>...</td>\n",
       "      <td>...</td>\n",
       "      <td>...</td>\n",
       "    </tr>\n",
       "    <tr>\n",
       "      <th>65</th>\n",
       "      <td>2021-06-25 11:00:00</td>\n",
       "      <td>112.0</td>\n",
       "      <td>154.0</td>\n",
       "      <td>34.0</td>\n",
       "      <td>161.0</td>\n",
       "      <td>124.0</td>\n",
       "      <td>167.0</td>\n",
       "    </tr>\n",
       "    <tr>\n",
       "      <th>66</th>\n",
       "      <td>2021-06-25 12:00:00</td>\n",
       "      <td>99.0</td>\n",
       "      <td>126.0</td>\n",
       "      <td>39.0</td>\n",
       "      <td>106.0</td>\n",
       "      <td>131.0</td>\n",
       "      <td>120.0</td>\n",
       "    </tr>\n",
       "    <tr>\n",
       "      <th>67</th>\n",
       "      <td>2021-06-25 13:00:00</td>\n",
       "      <td>99.0</td>\n",
       "      <td>98.0</td>\n",
       "      <td>39.0</td>\n",
       "      <td>81.0</td>\n",
       "      <td>152.0</td>\n",
       "      <td>130.0</td>\n",
       "    </tr>\n",
       "    <tr>\n",
       "      <th>68</th>\n",
       "      <td>2021-06-25 14:00:00</td>\n",
       "      <td>58.0</td>\n",
       "      <td>92.0</td>\n",
       "      <td>41.0</td>\n",
       "      <td>81.0</td>\n",
       "      <td>111.0</td>\n",
       "      <td>130.0</td>\n",
       "    </tr>\n",
       "    <tr>\n",
       "      <th>69</th>\n",
       "      <td>2021-06-25 15:00:00</td>\n",
       "      <td>51.0</td>\n",
       "      <td>92.0</td>\n",
       "      <td>41.0</td>\n",
       "      <td>81.0</td>\n",
       "      <td>94.0</td>\n",
       "      <td>130.0</td>\n",
       "    </tr>\n",
       "  </tbody>\n",
       "</table>\n",
       "<p>70 rows × 7 columns</p>\n",
       "</div>"
      ],
      "text/plain": [
       "                  date  apple     fb  nflx   msft   amzn  google\n",
       "0  2021-06-14 09:00:00  124.0  133.0  25.0   67.0  120.0   133.0\n",
       "1  2021-06-14 10:00:00  124.0  133.0  26.0   49.0  120.0   133.0\n",
       "2  2021-06-14 11:00:00  120.0  120.0  40.0   49.0  119.0   132.0\n",
       "3  2021-06-14 12:00:00   97.0  107.0  28.0   59.0  119.0   112.0\n",
       "4  2021-06-14 13:00:00   95.0   84.0  28.0   46.0   96.0   112.0\n",
       "..                 ...    ...    ...   ...    ...    ...     ...\n",
       "65 2021-06-25 11:00:00  112.0  154.0  34.0  161.0  124.0   167.0\n",
       "66 2021-06-25 12:00:00   99.0  126.0  39.0  106.0  131.0   120.0\n",
       "67 2021-06-25 13:00:00   99.0   98.0  39.0   81.0  152.0   130.0\n",
       "68 2021-06-25 14:00:00   58.0   92.0  41.0   81.0  111.0   130.0\n",
       "69 2021-06-25 15:00:00   51.0   92.0  41.0   81.0   94.0   130.0\n",
       "\n",
       "[70 rows x 7 columns]"
      ]
     },
     "execution_count": 559,
     "metadata": {},
     "output_type": "execute_result"
    }
   ],
   "source": [
    "all_res"
   ]
  },
  {
   "cell_type": "code",
   "execution_count": 560,
   "metadata": {
    "ExecuteTime": {
     "end_time": "2021-07-17T21:27:27.316341Z",
     "start_time": "2021-07-17T21:27:27.308867Z"
    }
   },
   "outputs": [],
   "source": [
    "all_res.set_index('date', inplace=True)"
   ]
  },
  {
   "cell_type": "code",
   "execution_count": 561,
   "metadata": {
    "ExecuteTime": {
     "end_time": "2021-07-17T21:27:28.781052Z",
     "start_time": "2021-07-17T21:27:28.755996Z"
    }
   },
   "outputs": [
    {
     "data": {
      "text/html": [
       "<div>\n",
       "<style scoped>\n",
       "    .dataframe tbody tr th:only-of-type {\n",
       "        vertical-align: middle;\n",
       "    }\n",
       "\n",
       "    .dataframe tbody tr th {\n",
       "        vertical-align: top;\n",
       "    }\n",
       "\n",
       "    .dataframe thead th {\n",
       "        text-align: right;\n",
       "    }\n",
       "</style>\n",
       "<table border=\"1\" class=\"dataframe\">\n",
       "  <thead>\n",
       "    <tr style=\"text-align: right;\">\n",
       "      <th></th>\n",
       "      <th>apple</th>\n",
       "      <th>fb</th>\n",
       "      <th>nflx</th>\n",
       "      <th>msft</th>\n",
       "      <th>amzn</th>\n",
       "      <th>google</th>\n",
       "    </tr>\n",
       "    <tr>\n",
       "      <th>date</th>\n",
       "      <th></th>\n",
       "      <th></th>\n",
       "      <th></th>\n",
       "      <th></th>\n",
       "      <th></th>\n",
       "      <th></th>\n",
       "    </tr>\n",
       "  </thead>\n",
       "  <tbody>\n",
       "    <tr>\n",
       "      <th>2021-06-14 09:00:00</th>\n",
       "      <td>124.0</td>\n",
       "      <td>133.0</td>\n",
       "      <td>25.0</td>\n",
       "      <td>67.0</td>\n",
       "      <td>120.0</td>\n",
       "      <td>133.0</td>\n",
       "    </tr>\n",
       "    <tr>\n",
       "      <th>2021-06-14 10:00:00</th>\n",
       "      <td>124.0</td>\n",
       "      <td>133.0</td>\n",
       "      <td>26.0</td>\n",
       "      <td>49.0</td>\n",
       "      <td>120.0</td>\n",
       "      <td>133.0</td>\n",
       "    </tr>\n",
       "    <tr>\n",
       "      <th>2021-06-14 11:00:00</th>\n",
       "      <td>120.0</td>\n",
       "      <td>120.0</td>\n",
       "      <td>40.0</td>\n",
       "      <td>49.0</td>\n",
       "      <td>119.0</td>\n",
       "      <td>132.0</td>\n",
       "    </tr>\n",
       "    <tr>\n",
       "      <th>2021-06-14 12:00:00</th>\n",
       "      <td>97.0</td>\n",
       "      <td>107.0</td>\n",
       "      <td>28.0</td>\n",
       "      <td>59.0</td>\n",
       "      <td>119.0</td>\n",
       "      <td>112.0</td>\n",
       "    </tr>\n",
       "    <tr>\n",
       "      <th>2021-06-14 13:00:00</th>\n",
       "      <td>95.0</td>\n",
       "      <td>84.0</td>\n",
       "      <td>28.0</td>\n",
       "      <td>46.0</td>\n",
       "      <td>96.0</td>\n",
       "      <td>112.0</td>\n",
       "    </tr>\n",
       "    <tr>\n",
       "      <th>...</th>\n",
       "      <td>...</td>\n",
       "      <td>...</td>\n",
       "      <td>...</td>\n",
       "      <td>...</td>\n",
       "      <td>...</td>\n",
       "      <td>...</td>\n",
       "    </tr>\n",
       "    <tr>\n",
       "      <th>2021-06-25 11:00:00</th>\n",
       "      <td>112.0</td>\n",
       "      <td>154.0</td>\n",
       "      <td>34.0</td>\n",
       "      <td>161.0</td>\n",
       "      <td>124.0</td>\n",
       "      <td>167.0</td>\n",
       "    </tr>\n",
       "    <tr>\n",
       "      <th>2021-06-25 12:00:00</th>\n",
       "      <td>99.0</td>\n",
       "      <td>126.0</td>\n",
       "      <td>39.0</td>\n",
       "      <td>106.0</td>\n",
       "      <td>131.0</td>\n",
       "      <td>120.0</td>\n",
       "    </tr>\n",
       "    <tr>\n",
       "      <th>2021-06-25 13:00:00</th>\n",
       "      <td>99.0</td>\n",
       "      <td>98.0</td>\n",
       "      <td>39.0</td>\n",
       "      <td>81.0</td>\n",
       "      <td>152.0</td>\n",
       "      <td>130.0</td>\n",
       "    </tr>\n",
       "    <tr>\n",
       "      <th>2021-06-25 14:00:00</th>\n",
       "      <td>58.0</td>\n",
       "      <td>92.0</td>\n",
       "      <td>41.0</td>\n",
       "      <td>81.0</td>\n",
       "      <td>111.0</td>\n",
       "      <td>130.0</td>\n",
       "    </tr>\n",
       "    <tr>\n",
       "      <th>2021-06-25 15:00:00</th>\n",
       "      <td>51.0</td>\n",
       "      <td>92.0</td>\n",
       "      <td>41.0</td>\n",
       "      <td>81.0</td>\n",
       "      <td>94.0</td>\n",
       "      <td>130.0</td>\n",
       "    </tr>\n",
       "  </tbody>\n",
       "</table>\n",
       "<p>70 rows × 6 columns</p>\n",
       "</div>"
      ],
      "text/plain": [
       "                     apple     fb  nflx   msft   amzn  google\n",
       "date                                                         \n",
       "2021-06-14 09:00:00  124.0  133.0  25.0   67.0  120.0   133.0\n",
       "2021-06-14 10:00:00  124.0  133.0  26.0   49.0  120.0   133.0\n",
       "2021-06-14 11:00:00  120.0  120.0  40.0   49.0  119.0   132.0\n",
       "2021-06-14 12:00:00   97.0  107.0  28.0   59.0  119.0   112.0\n",
       "2021-06-14 13:00:00   95.0   84.0  28.0   46.0   96.0   112.0\n",
       "...                    ...    ...   ...    ...    ...     ...\n",
       "2021-06-25 11:00:00  112.0  154.0  34.0  161.0  124.0   167.0\n",
       "2021-06-25 12:00:00   99.0  126.0  39.0  106.0  131.0   120.0\n",
       "2021-06-25 13:00:00   99.0   98.0  39.0   81.0  152.0   130.0\n",
       "2021-06-25 14:00:00   58.0   92.0  41.0   81.0  111.0   130.0\n",
       "2021-06-25 15:00:00   51.0   92.0  41.0   81.0   94.0   130.0\n",
       "\n",
       "[70 rows x 6 columns]"
      ]
     },
     "execution_count": 561,
     "metadata": {},
     "output_type": "execute_result"
    }
   ],
   "source": [
    "all_res"
   ]
  },
  {
   "cell_type": "code",
   "execution_count": 574,
   "metadata": {
    "ExecuteTime": {
     "end_time": "2021-07-17T21:40:08.241704Z",
     "start_time": "2021-07-17T21:40:07.978224Z"
    }
   },
   "outputs": [
    {
     "data": {
      "text/plain": [
       "<AxesSubplot:xlabel='date'>"
      ]
     },
     "execution_count": 574,
     "metadata": {},
     "output_type": "execute_result"
    },
    {
     "data": {
      "image/png": "[encoded data removed]",
      "text/plain": [
       "<Figure size 1440x360 with 2 Axes>"
      ]
     },
     "metadata": {
      "needs_background": "light"
     },
     "output_type": "display_data"
    }
   ],
   "source": [
    "fig, ax = plt.subplots(ncols=2,figsize=(20,5))\n",
    "sns.lineplot(data=all_res.iloc[:35])"
   ]
  },
  {
   "cell_type": "code",
   "execution_count": 609,
   "metadata": {
    "ExecuteTime": {
     "end_time": "2021-07-17T21:54:55.316154Z",
     "start_time": "2021-07-17T21:54:55.234346Z"
    }
   },
   "outputs": [
    {
     "data": {
      "application/vnd.plotly.v1+json": {
       "config": {
        "plotlyServerURL": "https://plot.ly"
       },
       "data": [
        {
         "hovertemplate": "variable=fb<br>x=%{x}<br>value=%{y}<extra></extra>",
         "legendgroup": "fb",
         "line": {
          "color": "#636efa",
          "dash": "solid"
         },
         "mode": "lines",
         "name": "fb",
         "orientation": "v",
         "showlegend": true,
         "type": "scatter",
         "x": [
          "2021-06-14T09:00:00",
          "2021-06-14T10:00:00",
          "2021-06-14T11:00:00",
          "2021-06-14T12:00:00",
          "2021-06-14T13:00:00",
          "2021-06-14T14:00:00",
          "2021-06-14T15:00:00",
          "2021-06-15T09:00:00",
          "2021-06-15T10:00:00",
          "2021-06-15T11:00:00",
          "2021-06-15T12:00:00",
          "2021-06-15T13:00:00",
          "2021-06-15T14:00:00",
          "2021-06-15T15:00:00",
          "2021-06-16T09:00:00",
          "2021-06-16T10:00:00",
          "2021-06-16T11:00:00",
          "2021-06-16T12:00:00",
          "2021-06-16T13:00:00",
          "2021-06-16T14:00:00",
          "2021-06-16T15:00:00",
          "2021-06-17T09:00:00",
          "2021-06-17T10:00:00",
          "2021-06-17T11:00:00",
          "2021-06-17T12:00:00",
          "2021-06-17T13:00:00",
          "2021-06-17T14:00:00",
          "2021-06-17T15:00:00",
          "2021-06-18T09:00:00",
          "2021-06-18T10:00:00",
          "2021-06-18T11:00:00",
          "2021-06-18T12:00:00",
          "2021-06-18T13:00:00",
          "2021-06-18T14:00:00",
          "2021-06-18T15:00:00"
         ],
         "xaxis": "x",
         "y": [
          133,
          133,
          120,
          107,
          84,
          94,
          88,
          88,
          169,
          169,
          129,
          129,
          119,
          108,
          101,
          101,
          188,
          146,
          146,
          150,
          123,
          123,
          102,
          102,
          180,
          180,
          112,
          141,
          115,
          111,
          99,
          119,
          115,
          105,
          103
         ],
         "yaxis": "y"
        },
        {
         "hovertemplate": "variable=nflx<br>x=%{x}<br>value=%{y}<extra></extra>",
         "legendgroup": "nflx",
         "line": {
          "color": "#EF553B",
          "dash": "solid"
         },
         "mode": "lines",
         "name": "nflx",
         "orientation": "v",
         "showlegend": true,
         "type": "scatter",
         "x": [
          "2021-06-14T09:00:00",
          "2021-06-14T10:00:00",
          "2021-06-14T11:00:00",
          "2021-06-14T12:00:00",
          "2021-06-14T13:00:00",
          "2021-06-14T14:00:00",
          "2021-06-14T15:00:00",
          "2021-06-15T09:00:00",
          "2021-06-15T10:00:00",
          "2021-06-15T11:00:00",
          "2021-06-15T12:00:00",
          "2021-06-15T13:00:00",
          "2021-06-15T14:00:00",
          "2021-06-15T15:00:00",
          "2021-06-16T09:00:00",
          "2021-06-16T10:00:00",
          "2021-06-16T11:00:00",
          "2021-06-16T12:00:00",
          "2021-06-16T13:00:00",
          "2021-06-16T14:00:00",
          "2021-06-16T15:00:00",
          "2021-06-17T09:00:00",
          "2021-06-17T10:00:00",
          "2021-06-17T11:00:00",
          "2021-06-17T12:00:00",
          "2021-06-17T13:00:00",
          "2021-06-17T14:00:00",
          "2021-06-17T15:00:00",
          "2021-06-18T09:00:00",
          "2021-06-18T10:00:00",
          "2021-06-18T11:00:00",
          "2021-06-18T12:00:00",
          "2021-06-18T13:00:00",
          "2021-06-18T14:00:00",
          "2021-06-18T15:00:00"
         ],
         "xaxis": "x",
         "y": [
          25,
          26,
          40,
          28,
          28,
          40,
          40,
          40,
          46,
          46,
          43,
          30,
          30,
          30,
          33,
          33,
          36,
          36,
          33,
          49,
          35,
          35,
          27,
          26,
          26,
          31,
          40,
          40,
          41,
          37,
          37,
          34,
          34,
          34,
          36
         ],
         "yaxis": "y"
        },
        {
         "hovertemplate": "variable=apple<br>x=%{x}<br>value=%{y}<extra></extra>",
         "legendgroup": "apple",
         "line": {
          "color": "#00cc96",
          "dash": "solid"
         },
         "mode": "lines",
         "name": "apple",
         "orientation": "v",
         "showlegend": true,
         "type": "scatter",
         "x": [
          "2021-06-14T09:00:00",
          "2021-06-14T10:00:00",
          "2021-06-14T11:00:00",
          "2021-06-14T12:00:00",
          "2021-06-14T13:00:00",
          "2021-06-14T14:00:00",
          "2021-06-14T15:00:00",
          "2021-06-15T09:00:00",
          "2021-06-15T10:00:00",
          "2021-06-15T11:00:00",
          "2021-06-15T12:00:00",
          "2021-06-15T13:00:00",
          "2021-06-15T14:00:00",
          "2021-06-15T15:00:00",
          "2021-06-16T09:00:00",
          "2021-06-16T10:00:00",
          "2021-06-16T11:00:00",
          "2021-06-16T12:00:00",
          "2021-06-16T13:00:00",
          "2021-06-16T14:00:00",
          "2021-06-16T15:00:00",
          "2021-06-17T09:00:00",
          "2021-06-17T10:00:00",
          "2021-06-17T11:00:00",
          "2021-06-17T12:00:00",
          "2021-06-17T13:00:00",
          "2021-06-17T14:00:00",
          "2021-06-17T15:00:00",
          "2021-06-18T09:00:00",
          "2021-06-18T10:00:00",
          "2021-06-18T11:00:00",
          "2021-06-18T12:00:00",
          "2021-06-18T13:00:00",
          "2021-06-18T14:00:00",
          "2021-06-18T15:00:00"
         ],
         "xaxis": "x",
         "y": [
          124,
          124,
          120,
          97,
          95,
          95,
          86,
          125,
          135,
          110,
          110,
          108,
          80,
          80,
          115,
          110,
          110,
          90,
          90,
          70,
          63,
          108,
          110,
          114,
          85,
          85,
          81,
          81,
          80,
          87,
          78,
          88,
          85,
          63,
          67
         ],
         "yaxis": "y"
        },
        {
         "hovertemplate": "variable=google<br>x=%{x}<br>value=%{y}<extra></extra>",
         "legendgroup": "google",
         "line": {
          "color": "#ab63fa",
          "dash": "solid"
         },
         "mode": "lines",
         "name": "google",
         "orientation": "v",
         "showlegend": true,
         "type": "scatter",
         "x": [
          "2021-06-14T09:00:00",
          "2021-06-14T10:00:00",
          "2021-06-14T11:00:00",
          "2021-06-14T12:00:00",
          "2021-06-14T13:00:00",
          "2021-06-14T14:00:00",
          "2021-06-14T15:00:00",
          "2021-06-15T09:00:00",
          "2021-06-15T10:00:00",
          "2021-06-15T11:00:00",
          "2021-06-15T12:00:00",
          "2021-06-15T13:00:00",
          "2021-06-15T14:00:00",
          "2021-06-15T15:00:00",
          "2021-06-16T09:00:00",
          "2021-06-16T10:00:00",
          "2021-06-16T11:00:00",
          "2021-06-16T12:00:00",
          "2021-06-16T13:00:00",
          "2021-06-16T14:00:00",
          "2021-06-16T15:00:00",
          "2021-06-17T09:00:00",
          "2021-06-17T10:00:00",
          "2021-06-17T11:00:00",
          "2021-06-17T12:00:00",
          "2021-06-17T13:00:00",
          "2021-06-17T14:00:00",
          "2021-06-17T15:00:00",
          "2021-06-18T09:00:00",
          "2021-06-18T10:00:00",
          "2021-06-18T11:00:00",
          "2021-06-18T12:00:00",
          "2021-06-18T13:00:00",
          "2021-06-18T14:00:00",
          "2021-06-18T15:00:00"
         ],
         "xaxis": "x",
         "y": [
          133,
          133,
          132,
          112,
          112,
          112,
          103,
          103,
          181,
          181,
          179,
          160,
          112,
          112,
          110,
          174,
          163,
          163,
          166,
          134,
          143,
          107,
          107,
          170,
          159,
          144,
          144,
          119,
          114,
          113,
          145,
          145,
          132,
          127,
          127
         ],
         "yaxis": "y"
        },
        {
         "hovertemplate": "variable=msft<br>x=%{x}<br>value=%{y}<extra></extra>",
         "legendgroup": "msft",
         "line": {
          "color": "#FFA15A",
          "dash": "solid"
         },
         "mode": "lines",
         "name": "msft",
         "orientation": "v",
         "showlegend": true,
         "type": "scatter",
         "x": [
          "2021-06-14T09:00:00",
          "2021-06-14T10:00:00",
          "2021-06-14T11:00:00",
          "2021-06-14T12:00:00",
          "2021-06-14T13:00:00",
          "2021-06-14T14:00:00",
          "2021-06-14T15:00:00",
          "2021-06-15T09:00:00",
          "2021-06-15T10:00:00",
          "2021-06-15T11:00:00",
          "2021-06-15T12:00:00",
          "2021-06-15T13:00:00",
          "2021-06-15T14:00:00",
          "2021-06-15T15:00:00",
          "2021-06-16T09:00:00",
          "2021-06-16T10:00:00",
          "2021-06-16T11:00:00",
          "2021-06-16T12:00:00",
          "2021-06-16T13:00:00",
          "2021-06-16T14:00:00",
          "2021-06-16T15:00:00",
          "2021-06-17T09:00:00",
          "2021-06-17T10:00:00",
          "2021-06-17T11:00:00",
          "2021-06-17T12:00:00",
          "2021-06-17T13:00:00",
          "2021-06-17T14:00:00",
          "2021-06-17T15:00:00",
          "2021-06-18T09:00:00",
          "2021-06-18T10:00:00",
          "2021-06-18T11:00:00",
          "2021-06-18T12:00:00",
          "2021-06-18T13:00:00",
          "2021-06-18T14:00:00",
          "2021-06-18T15:00:00"
         ],
         "xaxis": "x",
         "y": [
          67,
          49,
          49,
          59,
          46,
          56,
          56,
          56,
          64,
          64,
          63,
          60,
          49,
          43,
          34,
          85,
          76,
          63,
          63,
          47,
          40,
          37,
          37,
          98,
          98,
          61,
          53,
          51,
          55,
          55,
          55,
          44,
          44,
          45,
          30
         ],
         "yaxis": "y"
        },
        {
         "hovertemplate": "variable=amzn<br>x=%{x}<br>value=%{y}<extra></extra>",
         "legendgroup": "amzn",
         "line": {
          "color": "#19d3f3",
          "dash": "solid"
         },
         "mode": "lines",
         "name": "amzn",
         "orientation": "v",
         "showlegend": true,
         "type": "scatter",
         "x": [
          "2021-06-14T09:00:00",
          "2021-06-14T10:00:00",
          "2021-06-14T11:00:00",
          "2021-06-14T12:00:00",
          "2021-06-14T13:00:00",
          "2021-06-14T14:00:00",
          "2021-06-14T15:00:00",
          "2021-06-15T09:00:00",
          "2021-06-15T10:00:00",
          "2021-06-15T11:00:00",
          "2021-06-15T12:00:00",
          "2021-06-15T13:00:00",
          "2021-06-15T14:00:00",
          "2021-06-15T15:00:00",
          "2021-06-16T09:00:00",
          "2021-06-16T10:00:00",
          "2021-06-16T11:00:00",
          "2021-06-16T12:00:00",
          "2021-06-16T13:00:00",
          "2021-06-16T14:00:00",
          "2021-06-16T15:00:00",
          "2021-06-17T09:00:00",
          "2021-06-17T10:00:00",
          "2021-06-17T11:00:00",
          "2021-06-17T12:00:00",
          "2021-06-17T13:00:00",
          "2021-06-17T14:00:00",
          "2021-06-17T15:00:00",
          "2021-06-18T09:00:00",
          "2021-06-18T10:00:00",
          "2021-06-18T11:00:00",
          "2021-06-18T12:00:00",
          "2021-06-18T13:00:00",
          "2021-06-18T14:00:00",
          "2021-06-18T15:00:00"
         ],
         "xaxis": "x",
         "y": [
          120,
          120,
          119,
          119,
          96,
          102,
          102,
          102,
          183,
          149,
          143,
          141,
          126,
          126,
          91,
          91,
          150,
          127,
          127,
          124,
          150,
          96,
          84,
          84,
          123,
          123,
          105,
          113,
          108,
          92,
          92,
          92,
          114,
          114,
          114
         ],
         "yaxis": "y"
        }
       ],
       "layout": {
        "legend": {
         "title": {
          "text": "variable"
         },
         "tracegroupgap": 0
        },
        "template": {
         "data": {
          "bar": [
           {
            "error_x": {
             "color": "#2a3f5f"
            },
            "error_y": {
             "color": "#2a3f5f"
            },
            "marker": {
             "line": {
              "color": "#E5ECF6",
              "width": 0.5
             }
            },
            "type": "bar"
           }
          ],
          "barpolar": [
           {
            "marker": {
             "line": {
              "color": "#E5ECF6",
              "width": 0.5
             }
            },
            "type": "barpolar"
           }
          ],
          "carpet": [
           {
            "aaxis": {
             "endlinecolor": "#2a3f5f",
             "gridcolor": "white",
             "linecolor": "white",
             "minorgridcolor": "white",
             "startlinecolor": "#2a3f5f"
            },
            "baxis": {
             "endlinecolor": "#2a3f5f",
             "gridcolor": "white",
             "linecolor": "white",
             "minorgridcolor": "white",
             "startlinecolor": "#2a3f5f"
            },
            "type": "carpet"
           }
          ],
          "choropleth": [
           {
            "colorbar": {
             "outlinewidth": 0,
             "ticks": ""
            },
            "type": "choropleth"
           }
          ],
          "contour": [
           {
            "colorbar": {
             "outlinewidth": 0,
             "ticks": ""
            },
            "colorscale": [
             [
              0,
              "#0d0887"
             ],
             [
              0.1111111111111111,
              "#46039f"
             ],
             [
              0.2222222222222222,
              "#7201a8"
             ],
             [
              0.3333333333333333,
              "#9c179e"
             ],
             [
              0.4444444444444444,
              "#bd3786"
             ],
             [
              0.5555555555555556,
              "#d8576b"
             ],
             [
              0.6666666666666666,
              "#ed7953"
             ],
             [
              0.7777777777777778,
              "#fb9f3a"
             ],
             [
              0.8888888888888888,
              "#fdca26"
             ],
             [
              1,
              "#f0f921"
             ]
            ],
            "type": "contour"
           }
          ],
          "contourcarpet": [
           {
            "colorbar": {
             "outlinewidth": 0,
             "ticks": ""
            },
            "type": "contourcarpet"
           }
          ],
          "heatmap": [
           {
            "colorbar": {
             "outlinewidth": 0,
             "ticks": ""
            },
            "colorscale": [
             [
              0,
              "#0d0887"
             ],
             [
              0.1111111111111111,
              "#46039f"
             ],
             [
              0.2222222222222222,
              "#7201a8"
             ],
             [
              0.3333333333333333,
              "#9c179e"
             ],
             [
              0.4444444444444444,
              "#bd3786"
             ],
             [
              0.5555555555555556,
              "#d8576b"
             ],
             [
              0.6666666666666666,
              "#ed7953"
             ],
             [
              0.7777777777777778,
              "#fb9f3a"
             ],
             [
              0.8888888888888888,
              "#fdca26"
             ],
             [
              1,
              "#f0f921"
             ]
            ],
            "type": "heatmap"
           }
          ],
          "heatmapgl": [
           {
            "colorbar": {
             "outlinewidth": 0,
             "ticks": ""
            },
            "colorscale": [
             [
              0,
              "#0d0887"
             ],
             [
              0.1111111111111111,
              "#46039f"
             ],
             [
              0.2222222222222222,
              "#7201a8"
             ],
             [
              0.3333333333333333,
              "#9c179e"
             ],
             [
              0.4444444444444444,
              "#bd3786"
             ],
             [
              0.5555555555555556,
              "#d8576b"
             ],
             [
              0.6666666666666666,
              "#ed7953"
             ],
             [
              0.7777777777777778,
              "#fb9f3a"
             ],
             [
              0.8888888888888888,
              "#fdca26"
             ],
             [
              1,
              "#f0f921"
             ]
            ],
            "type": "heatmapgl"
           }
          ],
          "histogram": [
           {
            "marker": {
             "colorbar": {
              "outlinewidth": 0,
              "ticks": ""
             }
            },
            "type": "histogram"
           }
          ],
          "histogram2d": [
           {
            "colorbar": {
             "outlinewidth": 0,
             "ticks": ""
            },
            "colorscale": [
             [
              0,
              "#0d0887"
             ],
             [
              0.1111111111111111,
              "#46039f"
             ],
             [
              0.2222222222222222,
              "#7201a8"
             ],
             [
              0.3333333333333333,
              "#9c179e"
             ],
             [
              0.4444444444444444,
              "#bd3786"
             ],
             [
              0.5555555555555556,
              "#d8576b"
             ],
             [
              0.6666666666666666,
              "#ed7953"
             ],
             [
              0.7777777777777778,
              "#fb9f3a"
             ],
             [
              0.8888888888888888,
              "#fdca26"
             ],
             [
              1,
              "#f0f921"
             ]
            ],
            "type": "histogram2d"
           }
          ],
          "histogram2dcontour": [
           {
            "colorbar": {
             "outlinewidth": 0,
             "ticks": ""
            },
            "colorscale": [
             [
              0,
              "#0d0887"
             ],
             [
              0.1111111111111111,
              "#46039f"
             ],
             [
              0.2222222222222222,
              "#7201a8"
             ],
             [
              0.3333333333333333,
              "#9c179e"
             ],
             [
              0.4444444444444444,
              "#bd3786"
             ],
             [
              0.5555555555555556,
              "#d8576b"
             ],
             [
              0.6666666666666666,
              "#ed7953"
             ],
             [
              0.7777777777777778,
              "#fb9f3a"
             ],
             [
              0.8888888888888888,
              "#fdca26"
             ],
             [
              1,
              "#f0f921"
             ]
            ],
            "type": "histogram2dcontour"
           }
          ],
          "mesh3d": [
           {
            "colorbar": {
             "outlinewidth": 0,
             "ticks": ""
            },
            "type": "mesh3d"
           }
          ],
          "parcoords": [
           {
            "line": {
             "colorbar": {
              "outlinewidth": 0,
              "ticks": ""
             }
            },
            "type": "parcoords"
           }
          ],
          "pie": [
           {
            "automargin": true,
            "type": "pie"
           }
          ],
          "scatter": [
           {
            "marker": {
             "colorbar": {
              "outlinewidth": 0,
              "ticks": ""
             }
            },
            "type": "scatter"
           }
          ],
          "scatter3d": [
           {
            "line": {
             "colorbar": {
              "outlinewidth": 0,
              "ticks": ""
             }
            },
            "marker": {
             "colorbar": {
              "outlinewidth": 0,
              "ticks": ""
             }
            },
            "type": "scatter3d"
           }
          ],
          "scattercarpet": [
           {
            "marker": {
             "colorbar": {
              "outlinewidth": 0,
              "ticks": ""
             }
            },
            "type": "scattercarpet"
           }
          ],
          "scattergeo": [
           {
            "marker": {
             "colorbar": {
              "outlinewidth": 0,
              "ticks": ""
             }
            },
            "type": "scattergeo"
           }
          ],
          "scattergl": [
           {
            "marker": {
             "colorbar": {
              "outlinewidth": 0,
              "ticks": ""
             }
            },
            "type": "scattergl"
           }
          ],
          "scattermapbox": [
           {
            "marker": {
             "colorbar": {
              "outlinewidth": 0,
              "ticks": ""
             }
            },
            "type": "scattermapbox"
           }
          ],
          "scatterpolar": [
           {
            "marker": {
             "colorbar": {
              "outlinewidth": 0,
              "ticks": ""
             }
            },
            "type": "scatterpolar"
           }
          ],
          "scatterpolargl": [
           {
            "marker": {
             "colorbar": {
              "outlinewidth": 0,
              "ticks": ""
             }
            },
            "type": "scatterpolargl"
           }
          ],
          "scatterternary": [
           {
            "marker": {
             "colorbar": {
              "outlinewidth": 0,
              "ticks": ""
             }
            },
            "type": "scatterternary"
           }
          ],
          "surface": [
           {
            "colorbar": {
             "outlinewidth": 0,
             "ticks": ""
            },
            "colorscale": [
             [
              0,
              "#0d0887"
             ],
             [
              0.1111111111111111,
              "#46039f"
             ],
             [
              0.2222222222222222,
              "#7201a8"
             ],
             [
              0.3333333333333333,
              "#9c179e"
             ],
             [
              0.4444444444444444,
              "#bd3786"
             ],
             [
              0.5555555555555556,
              "#d8576b"
             ],
             [
              0.6666666666666666,
              "#ed7953"
             ],
             [
              0.7777777777777778,
              "#fb9f3a"
             ],
             [
              0.8888888888888888,
              "#fdca26"
             ],
             [
              1,
              "#f0f921"
             ]
            ],
            "type": "surface"
           }
          ],
          "table": [
           {
            "cells": {
             "fill": {
              "color": "#EBF0F8"
             },
             "line": {
              "color": "white"
             }
            },
            "header": {
             "fill": {
              "color": "#C8D4E3"
             },
             "line": {
              "color": "white"
             }
            },
            "type": "table"
           }
          ]
         },
         "layout": {
          "annotationdefaults": {
           "arrowcolor": "#2a3f5f",
           "arrowhead": 0,
           "arrowwidth": 1
          },
          "coloraxis": {
           "colorbar": {
            "outlinewidth": 0,
            "ticks": ""
           }
          },
          "colorscale": {
           "diverging": [
            [
             0,
             "#8e0152"
            ],
            [
             0.1,
             "#c51b7d"
            ],
            [
             0.2,
             "#de77ae"
            ],
            [
             0.3,
             "#f1b6da"
            ],
            [
             0.4,
             "#fde0ef"
            ],
            [
             0.5,
             "#f7f7f7"
            ],
            [
             0.6,
             "#e6f5d0"
            ],
            [
             0.7,
             "#b8e186"
            ],
            [
             0.8,
             "#7fbc41"
            ],
            [
             0.9,
             "#4d9221"
            ],
            [
             1,
             "#276419"
            ]
           ],
           "sequential": [
            [
             0,
             "#0d0887"
            ],
            [
             0.1111111111111111,
             "#46039f"
            ],
            [
             0.2222222222222222,
             "#7201a8"
            ],
            [
             0.3333333333333333,
             "#9c179e"
            ],
            [
             0.4444444444444444,
             "#bd3786"
            ],
            [
             0.5555555555555556,
             "#d8576b"
            ],
            [
             0.6666666666666666,
             "#ed7953"
            ],
            [
             0.7777777777777778,
             "#fb9f3a"
            ],
            [
             0.8888888888888888,
             "#fdca26"
            ],
            [
             1,
             "#f0f921"
            ]
           ],
           "sequentialminus": [
            [
             0,
             "#0d0887"
            ],
            [
             0.1111111111111111,
             "#46039f"
            ],
            [
             0.2222222222222222,
             "#7201a8"
            ],
            [
             0.3333333333333333,
             "#9c179e"
            ],
            [
             0.4444444444444444,
             "#bd3786"
            ],
            [
             0.5555555555555556,
             "#d8576b"
            ],
            [
             0.6666666666666666,
             "#ed7953"
            ],
            [
             0.7777777777777778,
             "#fb9f3a"
            ],
            [
             0.8888888888888888,
             "#fdca26"
            ],
            [
             1,
             "#f0f921"
            ]
           ]
          },
          "colorway": [
           "#636efa",
           "#EF553B",
           "#00cc96",
           "#ab63fa",
           "#FFA15A",
           "#19d3f3",
           "#FF6692",
           "#B6E880",
           "#FF97FF",
           "#FECB52"
          ],
          "font": {
           "color": "#2a3f5f"
          },
          "geo": {
           "bgcolor": "white",
           "lakecolor": "white",
           "landcolor": "#E5ECF6",
           "showlakes": true,
           "showland": true,
           "subunitcolor": "white"
          },
          "hoverlabel": {
           "align": "left"
          },
          "hovermode": "closest",
          "mapbox": {
           "style": "light"
          },
          "paper_bgcolor": "white",
          "plot_bgcolor": "#E5ECF6",
          "polar": {
           "angularaxis": {
            "gridcolor": "white",
            "linecolor": "white",
            "ticks": ""
           },
           "bgcolor": "#E5ECF6",
           "radialaxis": {
            "gridcolor": "white",
            "linecolor": "white",
            "ticks": ""
           }
          },
          "scene": {
           "xaxis": {
            "backgroundcolor": "#E5ECF6",
            "gridcolor": "white",
            "gridwidth": 2,
            "linecolor": "white",
            "showbackground": true,
            "ticks": "",
            "zerolinecolor": "white"
           },
           "yaxis": {
            "backgroundcolor": "#E5ECF6",
            "gridcolor": "white",
            "gridwidth": 2,
            "linecolor": "white",
            "showbackground": true,
            "ticks": "",
            "zerolinecolor": "white"
           },
           "zaxis": {
            "backgroundcolor": "#E5ECF6",
            "gridcolor": "white",
            "gridwidth": 2,
            "linecolor": "white",
            "showbackground": true,
            "ticks": "",
            "zerolinecolor": "white"
           }
          },
          "shapedefaults": {
           "line": {
            "color": "#2a3f5f"
           }
          },
          "ternary": {
           "aaxis": {
            "gridcolor": "white",
            "linecolor": "white",
            "ticks": ""
           },
           "baxis": {
            "gridcolor": "white",
            "linecolor": "white",
            "ticks": ""
           },
           "bgcolor": "#E5ECF6",
           "caxis": {
            "gridcolor": "white",
            "linecolor": "white",
            "ticks": ""
           }
          },
          "title": {
           "x": 0.05
          },
          "xaxis": {
           "automargin": true,
           "gridcolor": "white",
           "linecolor": "white",
           "ticks": "",
           "title": {
            "standoff": 15
           },
           "zerolinecolor": "white",
           "zerolinewidth": 2
          },
          "yaxis": {
           "automargin": true,
           "gridcolor": "white",
           "linecolor": "white",
           "ticks": "",
           "title": {
            "standoff": 15
           },
           "zerolinecolor": "white",
           "zerolinewidth": 2
          }
         }
        },
        "title": {
         "text": "June 14th - June 18th Number of Article Mentions"
        },
        "xaxis": {
         "anchor": "y",
         "domain": [
          0,
          1
         ],
         "rangebreaks": [
          {
           "bounds": [
            17,
            9
           ],
           "pattern": "hour"
          }
         ],
         "title": {
          "text": "Date"
         }
        },
        "yaxis": {
         "anchor": "x",
         "domain": [
          0,
          1
         ],
         "title": {
          "text": "# of Articles"
         }
        }
       }
      },
      "text/html": [
       "<div>                            <div id=\"93e003c0-1c61-4984-9091-db15ef4b9ca9\" class=\"plotly-graph-div\" style=\"height:525px; width:100%;\"></div>            <script type=\"text/javascript\">                require([\"plotly\"], function(Plotly) {                    window.PLOTLYENV=window.PLOTLYENV || {};                                    if (document.getElementById(\"93e003c0-1c61-4984-9091-db15ef4b9ca9\")) {                    Plotly.newPlot(                        \"93e003c0-1c61-4984-9091-db15ef4b9ca9\",                        [{\"hovertemplate\": \"variable=fb<br>x=%{x}<br>value=%{y}<extra></extra>\", \"legendgroup\": \"fb\", \"line\": {\"color\": \"#636efa\", \"dash\": \"solid\"}, \"mode\": \"lines\", \"name\": \"fb\", \"orientation\": \"v\", \"showlegend\": true, \"type\": \"scatter\", \"x\": [\"2021-06-14T09:00:00\", \"2021-06-14T10:00:00\", \"2021-06-14T11:00:00\", \"2021-06-14T12:00:00\", \"2021-06-14T13:00:00\", \"2021-06-14T14:00:00\", \"2021-06-14T15:00:00\", \"2021-06-15T09:00:00\", \"2021-06-15T10:00:00\", \"2021-06-15T11:00:00\", \"2021-06-15T12:00:00\", \"2021-06-15T13:00:00\", \"2021-06-15T14:00:00\", \"2021-06-15T15:00:00\", \"2021-06-16T09:00:00\", \"2021-06-16T10:00:00\", \"2021-06-16T11:00:00\", \"2021-06-16T12:00:00\", \"2021-06-16T13:00:00\", \"2021-06-16T14:00:00\", \"2021-06-16T15:00:00\", \"2021-06-17T09:00:00\", \"2021-06-17T10:00:00\", \"2021-06-17T11:00:00\", \"2021-06-17T12:00:00\", \"2021-06-17T13:00:00\", \"2021-06-17T14:00:00\", \"2021-06-17T15:00:00\", \"2021-06-18T09:00:00\", \"2021-06-18T10:00:00\", \"2021-06-18T11:00:00\", \"2021-06-18T12:00:00\", \"2021-06-18T13:00:00\", \"2021-06-18T14:00:00\", \"2021-06-18T15:00:00\"], \"xaxis\": \"x\", \"y\": [133.0, 133.0, 120.0, 107.0, 84.0, 94.0, 88.0, 88.0, 169.0, 169.0, 129.0, 129.0, 119.0, 108.0, 101.0, 101.0, 188.0, 146.0, 146.0, 150.0, 123.0, 123.0, 102.0, 102.0, 180.0, 180.0, 112.0, 141.0, 115.0, 111.0, 99.0, 119.0, 115.0, 105.0, 103.0], \"yaxis\": \"y\"}, {\"hovertemplate\": \"variable=nflx<br>x=%{x}<br>value=%{y}<extra></extra>\", \"legendgroup\": \"nflx\", \"line\": {\"color\": \"#EF553B\", \"dash\": \"solid\"}, \"mode\": \"lines\", \"name\": \"nflx\", \"orientation\": \"v\", \"showlegend\": true, \"type\": \"scatter\", \"x\": [\"2021-06-14T09:00:00\", \"2021-06-14T10:00:00\", \"2021-06-14T11:00:00\", \"2021-06-14T12:00:00\", \"2021-06-14T13:00:00\", \"2021-06-14T14:00:00\", \"2021-06-14T15:00:00\", \"2021-06-15T09:00:00\", \"2021-06-15T10:00:00\", \"2021-06-15T11:00:00\", \"2021-06-15T12:00:00\", \"2021-06-15T13:00:00\", \"2021-06-15T14:00:00\", \"2021-06-15T15:00:00\", \"2021-06-16T09:00:00\", \"2021-06-16T10:00:00\", \"2021-06-16T11:00:00\", \"2021-06-16T12:00:00\", \"2021-06-16T13:00:00\", \"2021-06-16T14:00:00\", \"2021-06-16T15:00:00\", \"2021-06-17T09:00:00\", \"2021-06-17T10:00:00\", \"2021-06-17T11:00:00\", \"2021-06-17T12:00:00\", \"2021-06-17T13:00:00\", \"2021-06-17T14:00:00\", \"2021-06-17T15:00:00\", \"2021-06-18T09:00:00\", \"2021-06-18T10:00:00\", \"2021-06-18T11:00:00\", \"2021-06-18T12:00:00\", \"2021-06-18T13:00:00\", \"2021-06-18T14:00:00\", \"2021-06-18T15:00:00\"], \"xaxis\": \"x\", \"y\": [25.0, 26.0, 40.0, 28.0, 28.0, 40.0, 40.0, 40.0, 46.0, 46.0, 43.0, 30.0, 30.0, 30.0, 33.0, 33.0, 36.0, 36.0, 33.0, 49.0, 35.0, 35.0, 27.0, 26.0, 26.0, 31.0, 40.0, 40.0, 41.0, 37.0, 37.0, 34.0, 34.0, 34.0, 36.0], \"yaxis\": \"y\"}, {\"hovertemplate\": \"variable=apple<br>x=%{x}<br>value=%{y}<extra></extra>\", \"legendgroup\": \"apple\", \"line\": {\"color\": \"#00cc96\", \"dash\": \"solid\"}, \"mode\": \"lines\", \"name\": \"apple\", \"orientation\": \"v\", \"showlegend\": true, \"type\": \"scatter\", \"x\": [\"2021-06-14T09:00:00\", \"2021-06-14T10:00:00\", \"2021-06-14T11:00:00\", \"2021-06-14T12:00:00\", \"2021-06-14T13:00:00\", \"2021-06-14T14:00:00\", \"2021-06-14T15:00:00\", \"2021-06-15T09:00:00\", \"2021-06-15T10:00:00\", \"2021-06-15T11:00:00\", \"2021-06-15T12:00:00\", \"2021-06-15T13:00:00\", \"2021-06-15T14:00:00\", \"2021-06-15T15:00:00\", \"2021-06-16T09:00:00\", \"2021-06-16T10:00:00\", \"2021-06-16T11:00:00\", \"2021-06-16T12:00:00\", \"2021-06-16T13:00:00\", \"2021-06-16T14:00:00\", \"2021-06-16T15:00:00\", \"2021-06-17T09:00:00\", \"2021-06-17T10:00:00\", \"2021-06-17T11:00:00\", \"2021-06-17T12:00:00\", \"2021-06-17T13:00:00\", \"2021-06-17T14:00:00\", \"2021-06-17T15:00:00\", \"2021-06-18T09:00:00\", \"2021-06-18T10:00:00\", \"2021-06-18T11:00:00\", \"2021-06-18T12:00:00\", \"2021-06-18T13:00:00\", \"2021-06-18T14:00:00\", \"2021-06-18T15:00:00\"], \"xaxis\": \"x\", \"y\": [124.0, 124.0, 120.0, 97.0, 95.0, 95.0, 86.0, 125.0, 135.0, 110.0, 110.0, 108.0, 80.0, 80.0, 115.0, 110.0, 110.0, 90.0, 90.0, 70.0, 63.0, 108.0, 110.0, 114.0, 85.0, 85.0, 81.0, 81.0, 80.0, 87.0, 78.0, 88.0, 85.0, 63.0, 67.0], \"yaxis\": \"y\"}, {\"hovertemplate\": \"variable=google<br>x=%{x}<br>value=%{y}<extra></extra>\", \"legendgroup\": \"google\", \"line\": {\"color\": \"#ab63fa\", \"dash\": \"solid\"}, \"mode\": \"lines\", \"name\": \"google\", \"orientation\": \"v\", \"showlegend\": true, \"type\": \"scatter\", \"x\": [\"2021-06-14T09:00:00\", \"2021-06-14T10:00:00\", \"2021-06-14T11:00:00\", \"2021-06-14T12:00:00\", \"2021-06-14T13:00:00\", \"2021-06-14T14:00:00\", \"2021-06-14T15:00:00\", \"2021-06-15T09:00:00\", \"2021-06-15T10:00:00\", \"2021-06-15T11:00:00\", \"2021-06-15T12:00:00\", \"2021-06-15T13:00:00\", \"2021-06-15T14:00:00\", \"2021-06-15T15:00:00\", \"2021-06-16T09:00:00\", \"2021-06-16T10:00:00\", \"2021-06-16T11:00:00\", \"2021-06-16T12:00:00\", \"2021-06-16T13:00:00\", \"2021-06-16T14:00:00\", \"2021-06-16T15:00:00\", \"2021-06-17T09:00:00\", \"2021-06-17T10:00:00\", \"2021-06-17T11:00:00\", \"2021-06-17T12:00:00\", \"2021-06-17T13:00:00\", \"2021-06-17T14:00:00\", \"2021-06-17T15:00:00\", \"2021-06-18T09:00:00\", \"2021-06-18T10:00:00\", \"2021-06-18T11:00:00\", \"2021-06-18T12:00:00\", \"2021-06-18T13:00:00\", \"2021-06-18T14:00:00\", \"2021-06-18T15:00:00\"], \"xaxis\": \"x\", \"y\": [133.0, 133.0, 132.0, 112.0, 112.0, 112.0, 103.0, 103.0, 181.0, 181.0, 179.0, 160.0, 112.0, 112.0, 110.0, 174.0, 163.0, 163.0, 166.0, 134.0, 143.0, 107.0, 107.0, 170.0, 159.0, 144.0, 144.0, 119.0, 114.0, 113.0, 145.0, 145.0, 132.0, 127.0, 127.0], \"yaxis\": \"y\"}, {\"hovertemplate\": \"variable=msft<br>x=%{x}<br>value=%{y}<extra></extra>\", \"legendgroup\": \"msft\", \"line\": {\"color\": \"#FFA15A\", \"dash\": \"solid\"}, \"mode\": \"lines\", \"name\": \"msft\", \"orientation\": \"v\", \"showlegend\": true, \"type\": \"scatter\", \"x\": [\"2021-06-14T09:00:00\", \"2021-06-14T10:00:00\", \"2021-06-14T11:00:00\", \"2021-06-14T12:00:00\", \"2021-06-14T13:00:00\", \"2021-06-14T14:00:00\", \"2021-06-14T15:00:00\", \"2021-06-15T09:00:00\", \"2021-06-15T10:00:00\", \"2021-06-15T11:00:00\", \"2021-06-15T12:00:00\", \"2021-06-15T13:00:00\", \"2021-06-15T14:00:00\", \"2021-06-15T15:00:00\", \"2021-06-16T09:00:00\", \"2021-06-16T10:00:00\", \"2021-06-16T11:00:00\", \"2021-06-16T12:00:00\", \"2021-06-16T13:00:00\", \"2021-06-16T14:00:00\", \"2021-06-16T15:00:00\", \"2021-06-17T09:00:00\", \"2021-06-17T10:00:00\", \"2021-06-17T11:00:00\", \"2021-06-17T12:00:00\", \"2021-06-17T13:00:00\", \"2021-06-17T14:00:00\", \"2021-06-17T15:00:00\", \"2021-06-18T09:00:00\", \"2021-06-18T10:00:00\", \"2021-06-18T11:00:00\", \"2021-06-18T12:00:00\", \"2021-06-18T13:00:00\", \"2021-06-18T14:00:00\", \"2021-06-18T15:00:00\"], \"xaxis\": \"x\", \"y\": [67.0, 49.0, 49.0, 59.0, 46.0, 56.0, 56.0, 56.0, 64.0, 64.0, 63.0, 60.0, 49.0, 43.0, 34.0, 85.0, 76.0, 63.0, 63.0, 47.0, 40.0, 37.0, 37.0, 98.0, 98.0, 61.0, 53.0, 51.0, 55.0, 55.0, 55.0, 44.0, 44.0, 45.0, 30.0], \"yaxis\": \"y\"}, {\"hovertemplate\": \"variable=amzn<br>x=%{x}<br>value=%{y}<extra></extra>\", \"legendgroup\": \"amzn\", \"line\": {\"color\": \"#19d3f3\", \"dash\": \"solid\"}, \"mode\": \"lines\", \"name\": \"amzn\", \"orientation\": \"v\", \"showlegend\": true, \"type\": \"scatter\", \"x\": [\"2021-06-14T09:00:00\", \"2021-06-14T10:00:00\", \"2021-06-14T11:00:00\", \"2021-06-14T12:00:00\", \"2021-06-14T13:00:00\", \"2021-06-14T14:00:00\", \"2021-06-14T15:00:00\", \"2021-06-15T09:00:00\", \"2021-06-15T10:00:00\", \"2021-06-15T11:00:00\", \"2021-06-15T12:00:00\", \"2021-06-15T13:00:00\", \"2021-06-15T14:00:00\", \"2021-06-15T15:00:00\", \"2021-06-16T09:00:00\", \"2021-06-16T10:00:00\", \"2021-06-16T11:00:00\", \"2021-06-16T12:00:00\", \"2021-06-16T13:00:00\", \"2021-06-16T14:00:00\", \"2021-06-16T15:00:00\", \"2021-06-17T09:00:00\", \"2021-06-17T10:00:00\", \"2021-06-17T11:00:00\", \"2021-06-17T12:00:00\", \"2021-06-17T13:00:00\", \"2021-06-17T14:00:00\", \"2021-06-17T15:00:00\", \"2021-06-18T09:00:00\", \"2021-06-18T10:00:00\", \"2021-06-18T11:00:00\", \"2021-06-18T12:00:00\", \"2021-06-18T13:00:00\", \"2021-06-18T14:00:00\", \"2021-06-18T15:00:00\"], \"xaxis\": \"x\", \"y\": [120.0, 120.0, 119.0, 119.0, 96.0, 102.0, 102.0, 102.0, 183.0, 149.0, 143.0, 141.0, 126.0, 126.0, 91.0, 91.0, 150.0, 127.0, 127.0, 124.0, 150.0, 96.0, 84.0, 84.0, 123.0, 123.0, 105.0, 113.0, 108.0, 92.0, 92.0, 92.0, 114.0, 114.0, 114.0], \"yaxis\": \"y\"}],                        {\"legend\": {\"title\": {\"text\": \"variable\"}, \"tracegroupgap\": 0}, \"template\": {\"data\": {\"bar\": [{\"error_x\": {\"color\": \"#2a3f5f\"}, \"error_y\": {\"color\": \"#2a3f5f\"}, \"marker\": {\"line\": {\"color\": \"#E5ECF6\", \"width\": 0.5}}, \"type\": \"bar\"}], \"barpolar\": [{\"marker\": {\"line\": {\"color\": \"#E5ECF6\", \"width\": 0.5}}, \"type\": \"barpolar\"}], \"carpet\": [{\"aaxis\": {\"endlinecolor\": \"#2a3f5f\", \"gridcolor\": \"white\", \"linecolor\": \"white\", \"minorgridcolor\": \"white\", \"startlinecolor\": \"#2a3f5f\"}, \"baxis\": {\"endlinecolor\": \"#2a3f5f\", \"gridcolor\": \"white\", \"linecolor\": \"white\", \"minorgridcolor\": \"white\", \"startlinecolor\": \"#2a3f5f\"}, \"type\": \"carpet\"}], \"choropleth\": [{\"colorbar\": {\"outlinewidth\": 0, \"ticks\": \"\"}, \"type\": \"choropleth\"}], \"contour\": [{\"colorbar\": {\"outlinewidth\": 0, \"ticks\": \"\"}, \"colorscale\": [[0.0, \"#0d0887\"], [0.1111111111111111, \"#46039f\"], [0.2222222222222222, \"#7201a8\"], [0.3333333333333333, \"#9c179e\"], [0.4444444444444444, \"#bd3786\"], [0.5555555555555556, \"#d8576b\"], [0.6666666666666666, \"#ed7953\"], [0.7777777777777778, \"#fb9f3a\"], [0.8888888888888888, \"#fdca26\"], [1.0, \"#f0f921\"]], \"type\": \"contour\"}], \"contourcarpet\": [{\"colorbar\": {\"outlinewidth\": 0, \"ticks\": \"\"}, \"type\": \"contourcarpet\"}], \"heatmap\": [{\"colorbar\": {\"outlinewidth\": 0, \"ticks\": \"\"}, \"colorscale\": [[0.0, \"#0d0887\"], [0.1111111111111111, \"#46039f\"], [0.2222222222222222, \"#7201a8\"], [0.3333333333333333, \"#9c179e\"], [0.4444444444444444, \"#bd3786\"], [0.5555555555555556, \"#d8576b\"], [0.6666666666666666, \"#ed7953\"], [0.7777777777777778, \"#fb9f3a\"], [0.8888888888888888, \"#fdca26\"], [1.0, \"#f0f921\"]], \"type\": \"heatmap\"}], \"heatmapgl\": [{\"colorbar\": {\"outlinewidth\": 0, \"ticks\": \"\"}, \"colorscale\": [[0.0, \"#0d0887\"], [0.1111111111111111, \"#46039f\"], [0.2222222222222222, \"#7201a8\"], [0.3333333333333333, \"#9c179e\"], [0.4444444444444444, \"#bd3786\"], [0.5555555555555556, \"#d8576b\"], [0.6666666666666666, \"#ed7953\"], [0.7777777777777778, \"#fb9f3a\"], [0.8888888888888888, \"#fdca26\"], [1.0, \"#f0f921\"]], \"type\": \"heatmapgl\"}], \"histogram\": [{\"marker\": {\"colorbar\": {\"outlinewidth\": 0, \"ticks\": \"\"}}, \"type\": \"histogram\"}], \"histogram2d\": [{\"colorbar\": {\"outlinewidth\": 0, \"ticks\": \"\"}, \"colorscale\": [[0.0, \"#0d0887\"], [0.1111111111111111, \"#46039f\"], [0.2222222222222222, \"#7201a8\"], [0.3333333333333333, \"#9c179e\"], [0.4444444444444444, \"#bd3786\"], [0.5555555555555556, \"#d8576b\"], [0.6666666666666666, \"#ed7953\"], [0.7777777777777778, \"#fb9f3a\"], [0.8888888888888888, \"#fdca26\"], [1.0, \"#f0f921\"]], \"type\": \"histogram2d\"}], \"histogram2dcontour\": [{\"colorbar\": {\"outlinewidth\": 0, \"ticks\": \"\"}, \"colorscale\": [[0.0, \"#0d0887\"], [0.1111111111111111, \"#46039f\"], [0.2222222222222222, \"#7201a8\"], [0.3333333333333333, \"#9c179e\"], [0.4444444444444444, \"#bd3786\"], [0.5555555555555556, \"#d8576b\"], [0.6666666666666666, \"#ed7953\"], [0.7777777777777778, \"#fb9f3a\"], [0.8888888888888888, \"#fdca26\"], [1.0, \"#f0f921\"]], \"type\": \"histogram2dcontour\"}], \"mesh3d\": [{\"colorbar\": {\"outlinewidth\": 0, \"ticks\": \"\"}, \"type\": \"mesh3d\"}], \"parcoords\": [{\"line\": {\"colorbar\": {\"outlinewidth\": 0, \"ticks\": \"\"}}, \"type\": \"parcoords\"}], \"pie\": [{\"automargin\": true, \"type\": \"pie\"}], \"scatter\": [{\"marker\": {\"colorbar\": {\"outlinewidth\": 0, \"ticks\": \"\"}}, \"type\": \"scatter\"}], \"scatter3d\": [{\"line\": {\"colorbar\": {\"outlinewidth\": 0, \"ticks\": \"\"}}, \"marker\": {\"colorbar\": {\"outlinewidth\": 0, \"ticks\": \"\"}}, \"type\": \"scatter3d\"}], \"scattercarpet\": [{\"marker\": {\"colorbar\": {\"outlinewidth\": 0, \"ticks\": \"\"}}, \"type\": \"scattercarpet\"}], \"scattergeo\": [{\"marker\": {\"colorbar\": {\"outlinewidth\": 0, \"ticks\": \"\"}}, \"type\": \"scattergeo\"}], \"scattergl\": [{\"marker\": {\"colorbar\": {\"outlinewidth\": 0, \"ticks\": \"\"}}, \"type\": \"scattergl\"}], \"scattermapbox\": [{\"marker\": {\"colorbar\": {\"outlinewidth\": 0, \"ticks\": \"\"}}, \"type\": \"scattermapbox\"}], \"scatterpolar\": [{\"marker\": {\"colorbar\": {\"outlinewidth\": 0, \"ticks\": \"\"}}, \"type\": \"scatterpolar\"}], \"scatterpolargl\": [{\"marker\": {\"colorbar\": {\"outlinewidth\": 0, \"ticks\": \"\"}}, \"type\": \"scatterpolargl\"}], \"scatterternary\": [{\"marker\": {\"colorbar\": {\"outlinewidth\": 0, \"ticks\": \"\"}}, \"type\": \"scatterternary\"}], \"surface\": [{\"colorbar\": {\"outlinewidth\": 0, \"ticks\": \"\"}, \"colorscale\": [[0.0, \"#0d0887\"], [0.1111111111111111, \"#46039f\"], [0.2222222222222222, \"#7201a8\"], [0.3333333333333333, \"#9c179e\"], [0.4444444444444444, \"#bd3786\"], [0.5555555555555556, \"#d8576b\"], [0.6666666666666666, \"#ed7953\"], [0.7777777777777778, \"#fb9f3a\"], [0.8888888888888888, \"#fdca26\"], [1.0, \"#f0f921\"]], \"type\": \"surface\"}], \"table\": [{\"cells\": {\"fill\": {\"color\": \"#EBF0F8\"}, \"line\": {\"color\": \"white\"}}, \"header\": {\"fill\": {\"color\": \"#C8D4E3\"}, \"line\": {\"color\": \"white\"}}, \"type\": \"table\"}]}, \"layout\": {\"annotationdefaults\": {\"arrowcolor\": \"#2a3f5f\", \"arrowhead\": 0, \"arrowwidth\": 1}, \"coloraxis\": {\"colorbar\": {\"outlinewidth\": 0, \"ticks\": \"\"}}, \"colorscale\": {\"diverging\": [[0, \"#8e0152\"], [0.1, \"#c51b7d\"], [0.2, \"#de77ae\"], [0.3, \"#f1b6da\"], [0.4, \"#fde0ef\"], [0.5, \"#f7f7f7\"], [0.6, \"#e6f5d0\"], [0.7, \"#b8e186\"], [0.8, \"#7fbc41\"], [0.9, \"#4d9221\"], [1, \"#276419\"]], \"sequential\": [[0.0, \"#0d0887\"], [0.1111111111111111, \"#46039f\"], [0.2222222222222222, \"#7201a8\"], [0.3333333333333333, \"#9c179e\"], [0.4444444444444444, \"#bd3786\"], [0.5555555555555556, \"#d8576b\"], [0.6666666666666666, \"#ed7953\"], [0.7777777777777778, \"#fb9f3a\"], [0.8888888888888888, \"#fdca26\"], [1.0, \"#f0f921\"]], \"sequentialminus\": [[0.0, \"#0d0887\"], [0.1111111111111111, \"#46039f\"], [0.2222222222222222, \"#7201a8\"], [0.3333333333333333, \"#9c179e\"], [0.4444444444444444, \"#bd3786\"], [0.5555555555555556, \"#d8576b\"], [0.6666666666666666, \"#ed7953\"], [0.7777777777777778, \"#fb9f3a\"], [0.8888888888888888, \"#fdca26\"], [1.0, \"#f0f921\"]]}, \"colorway\": [\"#636efa\", \"#EF553B\", \"#00cc96\", \"#ab63fa\", \"#FFA15A\", \"#19d3f3\", \"#FF6692\", \"#B6E880\", \"#FF97FF\", \"#FECB52\"], \"font\": {\"color\": \"#2a3f5f\"}, \"geo\": {\"bgcolor\": \"white\", \"lakecolor\": \"white\", \"landcolor\": \"#E5ECF6\", \"showlakes\": true, \"showland\": true, \"subunitcolor\": \"white\"}, \"hoverlabel\": {\"align\": \"left\"}, \"hovermode\": \"closest\", \"mapbox\": {\"style\": \"light\"}, \"paper_bgcolor\": \"white\", \"plot_bgcolor\": \"#E5ECF6\", \"polar\": {\"angularaxis\": {\"gridcolor\": \"white\", \"linecolor\": \"white\", \"ticks\": \"\"}, \"bgcolor\": \"#E5ECF6\", \"radialaxis\": {\"gridcolor\": \"white\", \"linecolor\": \"white\", \"ticks\": \"\"}}, \"scene\": {\"xaxis\": {\"backgroundcolor\": \"#E5ECF6\", \"gridcolor\": \"white\", \"gridwidth\": 2, \"linecolor\": \"white\", \"showbackground\": true, \"ticks\": \"\", \"zerolinecolor\": \"white\"}, \"yaxis\": {\"backgroundcolor\": \"#E5ECF6\", \"gridcolor\": \"white\", \"gridwidth\": 2, \"linecolor\": \"white\", \"showbackground\": true, \"ticks\": \"\", \"zerolinecolor\": \"white\"}, \"zaxis\": {\"backgroundcolor\": \"#E5ECF6\", \"gridcolor\": \"white\", \"gridwidth\": 2, \"linecolor\": \"white\", \"showbackground\": true, \"ticks\": \"\", \"zerolinecolor\": \"white\"}}, \"shapedefaults\": {\"line\": {\"color\": \"#2a3f5f\"}}, \"ternary\": {\"aaxis\": {\"gridcolor\": \"white\", \"linecolor\": \"white\", \"ticks\": \"\"}, \"baxis\": {\"gridcolor\": \"white\", \"linecolor\": \"white\", \"ticks\": \"\"}, \"bgcolor\": \"#E5ECF6\", \"caxis\": {\"gridcolor\": \"white\", \"linecolor\": \"white\", \"ticks\": \"\"}}, \"title\": {\"x\": 0.05}, \"xaxis\": {\"automargin\": true, \"gridcolor\": \"white\", \"linecolor\": \"white\", \"ticks\": \"\", \"title\": {\"standoff\": 15}, \"zerolinecolor\": \"white\", \"zerolinewidth\": 2}, \"yaxis\": {\"automargin\": true, \"gridcolor\": \"white\", \"linecolor\": \"white\", \"ticks\": \"\", \"title\": {\"standoff\": 15}, \"zerolinecolor\": \"white\", \"zerolinewidth\": 2}}}, \"title\": {\"text\": \"June 14th - June 18th Number of Article Mentions\"}, \"xaxis\": {\"anchor\": \"y\", \"domain\": [0.0, 1.0], \"rangebreaks\": [{\"bounds\": [17, 9], \"pattern\": \"hour\"}], \"title\": {\"text\": \"Date\"}}, \"yaxis\": {\"anchor\": \"x\", \"domain\": [0.0, 1.0], \"title\": {\"text\": \"# of Articles\"}}},                        {\"responsive\": true}                    ).then(function(){\n",
       "                            \n",
       "var gd = document.getElementById('93e003c0-1c61-4984-9091-db15ef4b9ca9');\n",
       "var x = new MutationObserver(function (mutations, observer) {{\n",
       "        var display = window.getComputedStyle(gd).display;\n",
       "        if (!display || display === 'none') {{\n",
       "            console.log([gd, 'removed!']);\n",
       "            Plotly.purge(gd);\n",
       "            observer.disconnect();\n",
       "        }}\n",
       "}});\n",
       "\n",
       "// Listen for the removal of the full notebook cells\n",
       "var notebookContainer = gd.closest('#notebook-container');\n",
       "if (notebookContainer) {{\n",
       "    x.observe(notebookContainer, {childList: true});\n",
       "}}\n",
       "\n",
       "// Listen for the clearing of the current output cell\n",
       "var outputEl = gd.closest('.output');\n",
       "if (outputEl) {{\n",
       "    x.observe(outputEl, {childList: true});\n",
       "}}\n",
       "\n",
       "                        })                };                });            </script>        </div>"
      ]
     },
     "metadata": {},
     "output_type": "display_data"
    }
   ],
   "source": [
    "import plotly.express as px\n",
    "fig = px.line(all_res.iloc[:35], x=all_res.index[:35], y=['fb', 'nflx', 'apple', 'google', 'msft', 'amzn'],\n",
    "                 title=\"June 14th - June 18th Number of Article Mentions\")\n",
    "fig.update_xaxes(\n",
    "    rangebreaks=[\n",
    "        dict(bounds=[17, 9], pattern=\"hour\"), #hide hours outside of 9am-5pm\n",
    "    ]\n",
    ")\n",
    "fig.update_layout(\n",
    "\n",
    "    xaxis_title=\"Date\",\n",
    "    yaxis_title=\"# of Articles\")\n",
    "\n",
    "fig.show()"
   ]
  },
  {
   "cell_type": "code",
   "execution_count": 610,
   "metadata": {
    "ExecuteTime": {
     "end_time": "2021-07-17T21:54:58.328380Z",
     "start_time": "2021-07-17T21:54:58.253991Z"
    }
   },
   "outputs": [
    {
     "data": {
      "application/vnd.plotly.v1+json": {
       "config": {
        "plotlyServerURL": "https://plot.ly"
       },
       "data": [
        {
         "hovertemplate": "variable=fb<br>x=%{x}<br>value=%{y}<extra></extra>",
         "legendgroup": "fb",
         "line": {
          "color": "#636efa",
          "dash": "solid"
         },
         "mode": "lines",
         "name": "fb",
         "orientation": "v",
         "showlegend": true,
         "type": "scatter",
         "x": [
          "2021-06-21T09:00:00",
          "2021-06-21T10:00:00",
          "2021-06-21T11:00:00",
          "2021-06-21T12:00:00",
          "2021-06-21T13:00:00",
          "2021-06-21T14:00:00",
          "2021-06-21T15:00:00",
          "2021-06-22T09:00:00",
          "2021-06-22T10:00:00",
          "2021-06-22T11:00:00",
          "2021-06-22T12:00:00",
          "2021-06-22T13:00:00",
          "2021-06-22T14:00:00",
          "2021-06-22T15:00:00",
          "2021-06-23T09:00:00",
          "2021-06-23T10:00:00",
          "2021-06-23T11:00:00",
          "2021-06-23T12:00:00",
          "2021-06-23T13:00:00",
          "2021-06-23T14:00:00",
          "2021-06-23T15:00:00",
          "2021-06-24T09:00:00",
          "2021-06-24T10:00:00",
          "2021-06-24T11:00:00",
          "2021-06-24T12:00:00",
          "2021-06-24T13:00:00",
          "2021-06-24T14:00:00",
          "2021-06-24T15:00:00",
          "2021-06-25T09:00:00",
          "2021-06-25T10:00:00",
          "2021-06-25T11:00:00",
          "2021-06-25T12:00:00",
          "2021-06-25T13:00:00",
          "2021-06-25T14:00:00",
          "2021-06-25T15:00:00"
         ],
         "xaxis": "x",
         "y": [
          107,
          107,
          72,
          72,
          167,
          167,
          110,
          102,
          100,
          108,
          107,
          107,
          187,
          122,
          122,
          159,
          111,
          114,
          76,
          76,
          154,
          119,
          134,
          133,
          133,
          103,
          103,
          103,
          147,
          154,
          154,
          126,
          98,
          92,
          92
         ],
         "yaxis": "y"
        },
        {
         "hovertemplate": "variable=nflx<br>x=%{x}<br>value=%{y}<extra></extra>",
         "legendgroup": "nflx",
         "line": {
          "color": "#EF553B",
          "dash": "solid"
         },
         "mode": "lines",
         "name": "nflx",
         "orientation": "v",
         "showlegend": true,
         "type": "scatter",
         "x": [
          "2021-06-21T09:00:00",
          "2021-06-21T10:00:00",
          "2021-06-21T11:00:00",
          "2021-06-21T12:00:00",
          "2021-06-21T13:00:00",
          "2021-06-21T14:00:00",
          "2021-06-21T15:00:00",
          "2021-06-22T09:00:00",
          "2021-06-22T10:00:00",
          "2021-06-22T11:00:00",
          "2021-06-22T12:00:00",
          "2021-06-22T13:00:00",
          "2021-06-22T14:00:00",
          "2021-06-22T15:00:00",
          "2021-06-23T09:00:00",
          "2021-06-23T10:00:00",
          "2021-06-23T11:00:00",
          "2021-06-23T12:00:00",
          "2021-06-23T13:00:00",
          "2021-06-23T14:00:00",
          "2021-06-23T15:00:00",
          "2021-06-24T09:00:00",
          "2021-06-24T10:00:00",
          "2021-06-24T11:00:00",
          "2021-06-24T12:00:00",
          "2021-06-24T13:00:00",
          "2021-06-24T14:00:00",
          "2021-06-24T15:00:00",
          "2021-06-25T09:00:00",
          "2021-06-25T10:00:00",
          "2021-06-25T11:00:00",
          "2021-06-25T12:00:00",
          "2021-06-25T13:00:00",
          "2021-06-25T14:00:00",
          "2021-06-25T15:00:00"
         ],
         "xaxis": "x",
         "y": [
          28,
          33,
          33,
          34,
          34,
          40,
          72,
          72,
          52,
          44,
          44,
          42,
          35,
          55,
          47,
          47,
          40,
          27,
          50,
          46,
          46,
          42,
          42,
          41,
          36,
          45,
          38,
          44,
          52,
          52,
          34,
          39,
          39,
          41,
          41
         ],
         "yaxis": "y"
        },
        {
         "hovertemplate": "variable=apple<br>x=%{x}<br>value=%{y}<extra></extra>",
         "legendgroup": "apple",
         "line": {
          "color": "#00cc96",
          "dash": "solid"
         },
         "mode": "lines",
         "name": "apple",
         "orientation": "v",
         "showlegend": true,
         "type": "scatter",
         "x": [
          "2021-06-21T09:00:00",
          "2021-06-21T10:00:00",
          "2021-06-21T11:00:00",
          "2021-06-21T12:00:00",
          "2021-06-21T13:00:00",
          "2021-06-21T14:00:00",
          "2021-06-21T15:00:00",
          "2021-06-22T09:00:00",
          "2021-06-22T10:00:00",
          "2021-06-22T11:00:00",
          "2021-06-22T12:00:00",
          "2021-06-22T13:00:00",
          "2021-06-22T14:00:00",
          "2021-06-22T15:00:00",
          "2021-06-23T09:00:00",
          "2021-06-23T10:00:00",
          "2021-06-23T11:00:00",
          "2021-06-23T12:00:00",
          "2021-06-23T13:00:00",
          "2021-06-23T14:00:00",
          "2021-06-23T15:00:00",
          "2021-06-24T09:00:00",
          "2021-06-24T10:00:00",
          "2021-06-24T11:00:00",
          "2021-06-24T12:00:00",
          "2021-06-24T13:00:00",
          "2021-06-24T14:00:00",
          "2021-06-24T15:00:00",
          "2021-06-25T09:00:00",
          "2021-06-25T10:00:00",
          "2021-06-25T11:00:00",
          "2021-06-25T12:00:00",
          "2021-06-25T13:00:00",
          "2021-06-25T14:00:00",
          "2021-06-25T15:00:00"
         ],
         "xaxis": "x",
         "y": [
          130,
          113,
          133,
          133,
          116,
          97,
          97,
          128,
          110,
          110,
          111,
          112,
          104,
          104,
          90,
          105,
          105,
          99,
          99,
          87,
          87,
          98,
          111,
          128,
          108,
          108,
          80,
          84,
          89,
          101,
          112,
          99,
          99,
          58,
          51
         ],
         "yaxis": "y"
        },
        {
         "hovertemplate": "variable=google<br>x=%{x}<br>value=%{y}<extra></extra>",
         "legendgroup": "google",
         "line": {
          "color": "#ab63fa",
          "dash": "solid"
         },
         "mode": "lines",
         "name": "google",
         "orientation": "v",
         "showlegend": true,
         "type": "scatter",
         "x": [
          "2021-06-21T09:00:00",
          "2021-06-21T10:00:00",
          "2021-06-21T11:00:00",
          "2021-06-21T12:00:00",
          "2021-06-21T13:00:00",
          "2021-06-21T14:00:00",
          "2021-06-21T15:00:00",
          "2021-06-22T09:00:00",
          "2021-06-22T10:00:00",
          "2021-06-22T11:00:00",
          "2021-06-22T12:00:00",
          "2021-06-22T13:00:00",
          "2021-06-22T14:00:00",
          "2021-06-22T15:00:00",
          "2021-06-23T09:00:00",
          "2021-06-23T10:00:00",
          "2021-06-23T11:00:00",
          "2021-06-23T12:00:00",
          "2021-06-23T13:00:00",
          "2021-06-23T14:00:00",
          "2021-06-23T15:00:00",
          "2021-06-24T09:00:00",
          "2021-06-24T10:00:00",
          "2021-06-24T11:00:00",
          "2021-06-24T12:00:00",
          "2021-06-24T13:00:00",
          "2021-06-24T14:00:00",
          "2021-06-24T15:00:00",
          "2021-06-25T09:00:00",
          "2021-06-25T10:00:00",
          "2021-06-25T11:00:00",
          "2021-06-25T12:00:00",
          "2021-06-25T13:00:00",
          "2021-06-25T14:00:00",
          "2021-06-25T15:00:00"
         ],
         "xaxis": "x",
         "y": [
          85,
          91,
          91,
          172,
          128,
          128,
          109,
          109,
          122,
          109,
          109,
          185,
          138,
          158,
          177,
          127,
          131,
          93,
          93,
          152,
          127,
          173,
          115,
          144,
          144,
          107,
          107,
          182,
          182,
          212,
          167,
          120,
          130,
          130,
          130
         ],
         "yaxis": "y"
        },
        {
         "hovertemplate": "variable=msft<br>x=%{x}<br>value=%{y}<extra></extra>",
         "legendgroup": "msft",
         "line": {
          "color": "#FFA15A",
          "dash": "solid"
         },
         "mode": "lines",
         "name": "msft",
         "orientation": "v",
         "showlegend": true,
         "type": "scatter",
         "x": [
          "2021-06-21T09:00:00",
          "2021-06-21T10:00:00",
          "2021-06-21T11:00:00",
          "2021-06-21T12:00:00",
          "2021-06-21T13:00:00",
          "2021-06-21T14:00:00",
          "2021-06-21T15:00:00",
          "2021-06-22T09:00:00",
          "2021-06-22T10:00:00",
          "2021-06-22T11:00:00",
          "2021-06-22T12:00:00",
          "2021-06-22T13:00:00",
          "2021-06-22T14:00:00",
          "2021-06-22T15:00:00",
          "2021-06-23T09:00:00",
          "2021-06-23T10:00:00",
          "2021-06-23T11:00:00",
          "2021-06-23T12:00:00",
          "2021-06-23T13:00:00",
          "2021-06-23T14:00:00",
          "2021-06-23T15:00:00",
          "2021-06-24T09:00:00",
          "2021-06-24T10:00:00",
          "2021-06-24T11:00:00",
          "2021-06-24T12:00:00",
          "2021-06-24T13:00:00",
          "2021-06-24T14:00:00",
          "2021-06-24T15:00:00",
          "2021-06-25T09:00:00",
          "2021-06-25T10:00:00",
          "2021-06-25T11:00:00",
          "2021-06-25T12:00:00",
          "2021-06-25T13:00:00",
          "2021-06-25T14:00:00",
          "2021-06-25T15:00:00"
         ],
         "xaxis": "x",
         "y": [
          30,
          24,
          27,
          27,
          55,
          65,
          65,
          45,
          41,
          41,
          32,
          32,
          90,
          90,
          65,
          58,
          49,
          46,
          46,
          46,
          88,
          70,
          78,
          56,
          32,
          41,
          41,
          63,
          63,
          70,
          161,
          106,
          81,
          81,
          81
         ],
         "yaxis": "y"
        },
        {
         "hovertemplate": "variable=amzn<br>x=%{x}<br>value=%{y}<extra></extra>",
         "legendgroup": "amzn",
         "line": {
          "color": "#19d3f3",
          "dash": "solid"
         },
         "mode": "lines",
         "name": "amzn",
         "orientation": "v",
         "showlegend": true,
         "type": "scatter",
         "x": [
          "2021-06-21T09:00:00",
          "2021-06-21T10:00:00",
          "2021-06-21T11:00:00",
          "2021-06-21T12:00:00",
          "2021-06-21T13:00:00",
          "2021-06-21T14:00:00",
          "2021-06-21T15:00:00",
          "2021-06-22T09:00:00",
          "2021-06-22T10:00:00",
          "2021-06-22T11:00:00",
          "2021-06-22T12:00:00",
          "2021-06-22T13:00:00",
          "2021-06-22T14:00:00",
          "2021-06-22T15:00:00",
          "2021-06-23T09:00:00",
          "2021-06-23T10:00:00",
          "2021-06-23T11:00:00",
          "2021-06-23T12:00:00",
          "2021-06-23T13:00:00",
          "2021-06-23T14:00:00",
          "2021-06-23T15:00:00",
          "2021-06-24T09:00:00",
          "2021-06-24T10:00:00",
          "2021-06-24T11:00:00",
          "2021-06-24T12:00:00",
          "2021-06-24T13:00:00",
          "2021-06-24T14:00:00",
          "2021-06-24T15:00:00",
          "2021-06-25T09:00:00",
          "2021-06-25T10:00:00",
          "2021-06-25T11:00:00",
          "2021-06-25T12:00:00",
          "2021-06-25T13:00:00",
          "2021-06-25T14:00:00",
          "2021-06-25T15:00:00"
         ],
         "xaxis": "x",
         "y": [
          118,
          107,
          95,
          112,
          112,
          352,
          352,
          311,
          339,
          271,
          271,
          248,
          248,
          313,
          313,
          240,
          243,
          236,
          240,
          213,
          213,
          131,
          131,
          126,
          132,
          105,
          106,
          98,
          98,
          124,
          124,
          131,
          152,
          111,
          94
         ],
         "yaxis": "y"
        }
       ],
       "layout": {
        "legend": {
         "title": {
          "text": "variable"
         },
         "tracegroupgap": 0
        },
        "template": {
         "data": {
          "bar": [
           {
            "error_x": {
             "color": "#2a3f5f"
            },
            "error_y": {
             "color": "#2a3f5f"
            },
            "marker": {
             "line": {
              "color": "#E5ECF6",
              "width": 0.5
             }
            },
            "type": "bar"
           }
          ],
          "barpolar": [
           {
            "marker": {
             "line": {
              "color": "#E5ECF6",
              "width": 0.5
             }
            },
            "type": "barpolar"
           }
          ],
          "carpet": [
           {
            "aaxis": {
             "endlinecolor": "#2a3f5f",
             "gridcolor": "white",
             "linecolor": "white",
             "minorgridcolor": "white",
             "startlinecolor": "#2a3f5f"
            },
            "baxis": {
             "endlinecolor": "#2a3f5f",
             "gridcolor": "white",
             "linecolor": "white",
             "minorgridcolor": "white",
             "startlinecolor": "#2a3f5f"
            },
            "type": "carpet"
           }
          ],
          "choropleth": [
           {
            "colorbar": {
             "outlinewidth": 0,
             "ticks": ""
            },
            "type": "choropleth"
           }
          ],
          "contour": [
           {
            "colorbar": {
             "outlinewidth": 0,
             "ticks": ""
            },
            "colorscale": [
             [
              0,
              "#0d0887"
             ],
             [
              0.1111111111111111,
              "#46039f"
             ],
             [
              0.2222222222222222,
              "#7201a8"
             ],
             [
              0.3333333333333333,
              "#9c179e"
             ],
             [
              0.4444444444444444,
              "#bd3786"
             ],
             [
              0.5555555555555556,
              "#d8576b"
             ],
             [
              0.6666666666666666,
              "#ed7953"
             ],
             [
              0.7777777777777778,
              "#fb9f3a"
             ],
             [
              0.8888888888888888,
              "#fdca26"
             ],
             [
              1,
              "#f0f921"
             ]
            ],
            "type": "contour"
           }
          ],
          "contourcarpet": [
           {
            "colorbar": {
             "outlinewidth": 0,
             "ticks": ""
            },
            "type": "contourcarpet"
           }
          ],
          "heatmap": [
           {
            "colorbar": {
             "outlinewidth": 0,
             "ticks": ""
            },
            "colorscale": [
             [
              0,
              "#0d0887"
             ],
             [
              0.1111111111111111,
              "#46039f"
             ],
             [
              0.2222222222222222,
              "#7201a8"
             ],
             [
              0.3333333333333333,
              "#9c179e"
             ],
             [
              0.4444444444444444,
              "#bd3786"
             ],
             [
              0.5555555555555556,
              "#d8576b"
             ],
             [
              0.6666666666666666,
              "#ed7953"
             ],
             [
              0.7777777777777778,
              "#fb9f3a"
             ],
             [
              0.8888888888888888,
              "#fdca26"
             ],
             [
              1,
              "#f0f921"
             ]
            ],
            "type": "heatmap"
           }
          ],
          "heatmapgl": [
           {
            "colorbar": {
             "outlinewidth": 0,
             "ticks": ""
            },
            "colorscale": [
             [
              0,
              "#0d0887"
             ],
             [
              0.1111111111111111,
              "#46039f"
             ],
             [
              0.2222222222222222,
              "#7201a8"
             ],
             [
              0.3333333333333333,
              "#9c179e"
             ],
             [
              0.4444444444444444,
              "#bd3786"
             ],
             [
              0.5555555555555556,
              "#d8576b"
             ],
             [
              0.6666666666666666,
              "#ed7953"
             ],
             [
              0.7777777777777778,
              "#fb9f3a"
             ],
             [
              0.8888888888888888,
              "#fdca26"
             ],
             [
              1,
              "#f0f921"
             ]
            ],
            "type": "heatmapgl"
           }
          ],
          "histogram": [
           {
            "marker": {
             "colorbar": {
              "outlinewidth": 0,
              "ticks": ""
             }
            },
            "type": "histogram"
           }
          ],
          "histogram2d": [
           {
            "colorbar": {
             "outlinewidth": 0,
             "ticks": ""
            },
            "colorscale": [
             [
              0,
              "#0d0887"
             ],
             [
              0.1111111111111111,
              "#46039f"
             ],
             [
              0.2222222222222222,
              "#7201a8"
             ],
             [
              0.3333333333333333,
              "#9c179e"
             ],
             [
              0.4444444444444444,
              "#bd3786"
             ],
             [
              0.5555555555555556,
              "#d8576b"
             ],
             [
              0.6666666666666666,
              "#ed7953"
             ],
             [
              0.7777777777777778,
              "#fb9f3a"
             ],
             [
              0.8888888888888888,
              "#fdca26"
             ],
             [
              1,
              "#f0f921"
             ]
            ],
            "type": "histogram2d"
           }
          ],
          "histogram2dcontour": [
           {
            "colorbar": {
             "outlinewidth": 0,
             "ticks": ""
            },
            "colorscale": [
             [
              0,
              "#0d0887"
             ],
             [
              0.1111111111111111,
              "#46039f"
             ],
             [
              0.2222222222222222,
              "#7201a8"
             ],
             [
              0.3333333333333333,
              "#9c179e"
             ],
             [
              0.4444444444444444,
              "#bd3786"
             ],
             [
              0.5555555555555556,
              "#d8576b"
             ],
             [
              0.6666666666666666,
              "#ed7953"
             ],
             [
              0.7777777777777778,
              "#fb9f3a"
             ],
             [
              0.8888888888888888,
              "#fdca26"
             ],
             [
              1,
              "#f0f921"
             ]
            ],
            "type": "histogram2dcontour"
           }
          ],
          "mesh3d": [
           {
            "colorbar": {
             "outlinewidth": 0,
             "ticks": ""
            },
            "type": "mesh3d"
           }
          ],
          "parcoords": [
           {
            "line": {
             "colorbar": {
              "outlinewidth": 0,
              "ticks": ""
             }
            },
            "type": "parcoords"
           }
          ],
          "pie": [
           {
            "automargin": true,
            "type": "pie"
           }
          ],
          "scatter": [
           {
            "marker": {
             "colorbar": {
              "outlinewidth": 0,
              "ticks": ""
             }
            },
            "type": "scatter"
           }
          ],
          "scatter3d": [
           {
            "line": {
             "colorbar": {
              "outlinewidth": 0,
              "ticks": ""
             }
            },
            "marker": {
             "colorbar": {
              "outlinewidth": 0,
              "ticks": ""
             }
            },
            "type": "scatter3d"
           }
          ],
          "scattercarpet": [
           {
            "marker": {
             "colorbar": {
              "outlinewidth": 0,
              "ticks": ""
             }
            },
            "type": "scattercarpet"
           }
          ],
          "scattergeo": [
           {
            "marker": {
             "colorbar": {
              "outlinewidth": 0,
              "ticks": ""
             }
            },
            "type": "scattergeo"
           }
          ],
          "scattergl": [
           {
            "marker": {
             "colorbar": {
              "outlinewidth": 0,
              "ticks": ""
             }
            },
            "type": "scattergl"
           }
          ],
          "scattermapbox": [
           {
            "marker": {
             "colorbar": {
              "outlinewidth": 0,
              "ticks": ""
             }
            },
            "type": "scattermapbox"
           }
          ],
          "scatterpolar": [
           {
            "marker": {
             "colorbar": {
              "outlinewidth": 0,
              "ticks": ""
             }
            },
            "type": "scatterpolar"
           }
          ],
          "scatterpolargl": [
           {
            "marker": {
             "colorbar": {
              "outlinewidth": 0,
              "ticks": ""
             }
            },
            "type": "scatterpolargl"
           }
          ],
          "scatterternary": [
           {
            "marker": {
             "colorbar": {
              "outlinewidth": 0,
              "ticks": ""
             }
            },
            "type": "scatterternary"
           }
          ],
          "surface": [
           {
            "colorbar": {
             "outlinewidth": 0,
             "ticks": ""
            },
            "colorscale": [
             [
              0,
              "#0d0887"
             ],
             [
              0.1111111111111111,
              "#46039f"
             ],
             [
              0.2222222222222222,
              "#7201a8"
             ],
             [
              0.3333333333333333,
              "#9c179e"
             ],
             [
              0.4444444444444444,
              "#bd3786"
             ],
             [
              0.5555555555555556,
              "#d8576b"
             ],
             [
              0.6666666666666666,
              "#ed7953"
             ],
             [
              0.7777777777777778,
              "#fb9f3a"
             ],
             [
              0.8888888888888888,
              "#fdca26"
             ],
             [
              1,
              "#f0f921"
             ]
            ],
            "type": "surface"
           }
          ],
          "table": [
           {
            "cells": {
             "fill": {
              "color": "#EBF0F8"
             },
             "line": {
              "color": "white"
             }
            },
            "header": {
             "fill": {
              "color": "#C8D4E3"
             },
             "line": {
              "color": "white"
             }
            },
            "type": "table"
           }
          ]
         },
         "layout": {
          "annotationdefaults": {
           "arrowcolor": "#2a3f5f",
           "arrowhead": 0,
           "arrowwidth": 1
          },
          "coloraxis": {
           "colorbar": {
            "outlinewidth": 0,
            "ticks": ""
           }
          },
          "colorscale": {
           "diverging": [
            [
             0,
             "#8e0152"
            ],
            [
             0.1,
             "#c51b7d"
            ],
            [
             0.2,
             "#de77ae"
            ],
            [
             0.3,
             "#f1b6da"
            ],
            [
             0.4,
             "#fde0ef"
            ],
            [
             0.5,
             "#f7f7f7"
            ],
            [
             0.6,
             "#e6f5d0"
            ],
            [
             0.7,
             "#b8e186"
            ],
            [
             0.8,
             "#7fbc41"
            ],
            [
             0.9,
             "#4d9221"
            ],
            [
             1,
             "#276419"
            ]
           ],
           "sequential": [
            [
             0,
             "#0d0887"
            ],
            [
             0.1111111111111111,
             "#46039f"
            ],
            [
             0.2222222222222222,
             "#7201a8"
            ],
            [
             0.3333333333333333,
             "#9c179e"
            ],
            [
             0.4444444444444444,
             "#bd3786"
            ],
            [
             0.5555555555555556,
             "#d8576b"
            ],
            [
             0.6666666666666666,
             "#ed7953"
            ],
            [
             0.7777777777777778,
             "#fb9f3a"
            ],
            [
             0.8888888888888888,
             "#fdca26"
            ],
            [
             1,
             "#f0f921"
            ]
           ],
           "sequentialminus": [
            [
             0,
             "#0d0887"
            ],
            [
             0.1111111111111111,
             "#46039f"
            ],
            [
             0.2222222222222222,
             "#7201a8"
            ],
            [
             0.3333333333333333,
             "#9c179e"
            ],
            [
             0.4444444444444444,
             "#bd3786"
            ],
            [
             0.5555555555555556,
             "#d8576b"
            ],
            [
             0.6666666666666666,
             "#ed7953"
            ],
            [
             0.7777777777777778,
             "#fb9f3a"
            ],
            [
             0.8888888888888888,
             "#fdca26"
            ],
            [
             1,
             "#f0f921"
            ]
           ]
          },
          "colorway": [
           "#636efa",
           "#EF553B",
           "#00cc96",
           "#ab63fa",
           "#FFA15A",
           "#19d3f3",
           "#FF6692",
           "#B6E880",
           "#FF97FF",
           "#FECB52"
          ],
          "font": {
           "color": "#2a3f5f"
          },
          "geo": {
           "bgcolor": "white",
           "lakecolor": "white",
           "landcolor": "#E5ECF6",
           "showlakes": true,
           "showland": true,
           "subunitcolor": "white"
          },
          "hoverlabel": {
           "align": "left"
          },
          "hovermode": "closest",
          "mapbox": {
           "style": "light"
          },
          "paper_bgcolor": "white",
          "plot_bgcolor": "#E5ECF6",
          "polar": {
           "angularaxis": {
            "gridcolor": "white",
            "linecolor": "white",
            "ticks": ""
           },
           "bgcolor": "#E5ECF6",
           "radialaxis": {
            "gridcolor": "white",
            "linecolor": "white",
            "ticks": ""
           }
          },
          "scene": {
           "xaxis": {
            "backgroundcolor": "#E5ECF6",
            "gridcolor": "white",
            "gridwidth": 2,
            "linecolor": "white",
            "showbackground": true,
            "ticks": "",
            "zerolinecolor": "white"
           },
           "yaxis": {
            "backgroundcolor": "#E5ECF6",
            "gridcolor": "white",
            "gridwidth": 2,
            "linecolor": "white",
            "showbackground": true,
            "ticks": "",
            "zerolinecolor": "white"
           },
           "zaxis": {
            "backgroundcolor": "#E5ECF6",
            "gridcolor": "white",
            "gridwidth": 2,
            "linecolor": "white",
            "showbackground": true,
            "ticks": "",
            "zerolinecolor": "white"
           }
          },
          "shapedefaults": {
           "line": {
            "color": "#2a3f5f"
           }
          },
          "ternary": {
           "aaxis": {
            "gridcolor": "white",
            "linecolor": "white",
            "ticks": ""
           },
           "baxis": {
            "gridcolor": "white",
            "linecolor": "white",
            "ticks": ""
           },
           "bgcolor": "#E5ECF6",
           "caxis": {
            "gridcolor": "white",
            "linecolor": "white",
            "ticks": ""
           }
          },
          "title": {
           "x": 0.05
          },
          "xaxis": {
           "automargin": true,
           "gridcolor": "white",
           "linecolor": "white",
           "ticks": "",
           "title": {
            "standoff": 15
           },
           "zerolinecolor": "white",
           "zerolinewidth": 2
          },
          "yaxis": {
           "automargin": true,
           "gridcolor": "white",
           "linecolor": "white",
           "ticks": "",
           "title": {
            "standoff": 15
           },
           "zerolinecolor": "white",
           "zerolinewidth": 2
          }
         }
        },
        "title": {
         "text": "June 21st - June 25th Number of Article Mentions"
        },
        "xaxis": {
         "anchor": "y",
         "domain": [
          0,
          1
         ],
         "rangebreaks": [
          {
           "bounds": [
            17,
            9
           ],
           "pattern": "hour"
          }
         ],
         "title": {
          "text": "Date"
         }
        },
        "yaxis": {
         "anchor": "x",
         "domain": [
          0,
          1
         ],
         "title": {
          "text": "# of Articles"
         }
        }
       }
      },
      "text/html": [
       "<div>                            <div id=\"b637d669-577a-49bb-8d87-99feffd9d2b8\" class=\"plotly-graph-div\" style=\"height:525px; width:100%;\"></div>            <script type=\"text/javascript\">                require([\"plotly\"], function(Plotly) {                    window.PLOTLYENV=window.PLOTLYENV || {};                                    if (document.getElementById(\"b637d669-577a-49bb-8d87-99feffd9d2b8\")) {                    Plotly.newPlot(                        \"b637d669-577a-49bb-8d87-99feffd9d2b8\",                        [{\"hovertemplate\": \"variable=fb<br>x=%{x}<br>value=%{y}<extra></extra>\", \"legendgroup\": \"fb\", \"line\": {\"color\": \"#636efa\", \"dash\": \"solid\"}, \"mode\": \"lines\", \"name\": \"fb\", \"orientation\": \"v\", \"showlegend\": true, \"type\": \"scatter\", \"x\": [\"2021-06-21T09:00:00\", \"2021-06-21T10:00:00\", \"2021-06-21T11:00:00\", \"2021-06-21T12:00:00\", \"2021-06-21T13:00:00\", \"2021-06-21T14:00:00\", \"2021-06-21T15:00:00\", \"2021-06-22T09:00:00\", \"2021-06-22T10:00:00\", \"2021-06-22T11:00:00\", \"2021-06-22T12:00:00\", \"2021-06-22T13:00:00\", \"2021-06-22T14:00:00\", \"2021-06-22T15:00:00\", \"2021-06-23T09:00:00\", \"2021-06-23T10:00:00\", \"2021-06-23T11:00:00\", \"2021-06-23T12:00:00\", \"2021-06-23T13:00:00\", \"2021-06-23T14:00:00\", \"2021-06-23T15:00:00\", \"2021-06-24T09:00:00\", \"2021-06-24T10:00:00\", \"2021-06-24T11:00:00\", \"2021-06-24T12:00:00\", \"2021-06-24T13:00:00\", \"2021-06-24T14:00:00\", \"2021-06-24T15:00:00\", \"2021-06-25T09:00:00\", \"2021-06-25T10:00:00\", \"2021-06-25T11:00:00\", \"2021-06-25T12:00:00\", \"2021-06-25T13:00:00\", \"2021-06-25T14:00:00\", \"2021-06-25T15:00:00\"], \"xaxis\": \"x\", \"y\": [107.0, 107.0, 72.0, 72.0, 167.0, 167.0, 110.0, 102.0, 100.0, 108.0, 107.0, 107.0, 187.0, 122.0, 122.0, 159.0, 111.0, 114.0, 76.0, 76.0, 154.0, 119.0, 134.0, 133.0, 133.0, 103.0, 103.0, 103.0, 147.0, 154.0, 154.0, 126.0, 98.0, 92.0, 92.0], \"yaxis\": \"y\"}, {\"hovertemplate\": \"variable=nflx<br>x=%{x}<br>value=%{y}<extra></extra>\", \"legendgroup\": \"nflx\", \"line\": {\"color\": \"#EF553B\", \"dash\": \"solid\"}, \"mode\": \"lines\", \"name\": \"nflx\", \"orientation\": \"v\", \"showlegend\": true, \"type\": \"scatter\", \"x\": [\"2021-06-21T09:00:00\", \"2021-06-21T10:00:00\", \"2021-06-21T11:00:00\", \"2021-06-21T12:00:00\", \"2021-06-21T13:00:00\", \"2021-06-21T14:00:00\", \"2021-06-21T15:00:00\", \"2021-06-22T09:00:00\", \"2021-06-22T10:00:00\", \"2021-06-22T11:00:00\", \"2021-06-22T12:00:00\", \"2021-06-22T13:00:00\", \"2021-06-22T14:00:00\", \"2021-06-22T15:00:00\", \"2021-06-23T09:00:00\", \"2021-06-23T10:00:00\", \"2021-06-23T11:00:00\", \"2021-06-23T12:00:00\", \"2021-06-23T13:00:00\", \"2021-06-23T14:00:00\", \"2021-06-23T15:00:00\", \"2021-06-24T09:00:00\", \"2021-06-24T10:00:00\", \"2021-06-24T11:00:00\", \"2021-06-24T12:00:00\", \"2021-06-24T13:00:00\", \"2021-06-24T14:00:00\", \"2021-06-24T15:00:00\", \"2021-06-25T09:00:00\", \"2021-06-25T10:00:00\", \"2021-06-25T11:00:00\", \"2021-06-25T12:00:00\", \"2021-06-25T13:00:00\", \"2021-06-25T14:00:00\", \"2021-06-25T15:00:00\"], \"xaxis\": \"x\", \"y\": [28.0, 33.0, 33.0, 34.0, 34.0, 40.0, 72.0, 72.0, 52.0, 44.0, 44.0, 42.0, 35.0, 55.0, 47.0, 47.0, 40.0, 27.0, 50.0, 46.0, 46.0, 42.0, 42.0, 41.0, 36.0, 45.0, 38.0, 44.0, 52.0, 52.0, 34.0, 39.0, 39.0, 41.0, 41.0], \"yaxis\": \"y\"}, {\"hovertemplate\": \"variable=apple<br>x=%{x}<br>value=%{y}<extra></extra>\", \"legendgroup\": \"apple\", \"line\": {\"color\": \"#00cc96\", \"dash\": \"solid\"}, \"mode\": \"lines\", \"name\": \"apple\", \"orientation\": \"v\", \"showlegend\": true, \"type\": \"scatter\", \"x\": [\"2021-06-21T09:00:00\", \"2021-06-21T10:00:00\", \"2021-06-21T11:00:00\", \"2021-06-21T12:00:00\", \"2021-06-21T13:00:00\", \"2021-06-21T14:00:00\", \"2021-06-21T15:00:00\", \"2021-06-22T09:00:00\", \"2021-06-22T10:00:00\", \"2021-06-22T11:00:00\", \"2021-06-22T12:00:00\", \"2021-06-22T13:00:00\", \"2021-06-22T14:00:00\", \"2021-06-22T15:00:00\", \"2021-06-23T09:00:00\", \"2021-06-23T10:00:00\", \"2021-06-23T11:00:00\", \"2021-06-23T12:00:00\", \"2021-06-23T13:00:00\", \"2021-06-23T14:00:00\", \"2021-06-23T15:00:00\", \"2021-06-24T09:00:00\", \"2021-06-24T10:00:00\", \"2021-06-24T11:00:00\", \"2021-06-24T12:00:00\", \"2021-06-24T13:00:00\", \"2021-06-24T14:00:00\", \"2021-06-24T15:00:00\", \"2021-06-25T09:00:00\", \"2021-06-25T10:00:00\", \"2021-06-25T11:00:00\", \"2021-06-25T12:00:00\", \"2021-06-25T13:00:00\", \"2021-06-25T14:00:00\", \"2021-06-25T15:00:00\"], \"xaxis\": \"x\", \"y\": [130.0, 113.0, 133.0, 133.0, 116.0, 97.0, 97.0, 128.0, 110.0, 110.0, 111.0, 112.0, 104.0, 104.0, 90.0, 105.0, 105.0, 99.0, 99.0, 87.0, 87.0, 98.0, 111.0, 128.0, 108.0, 108.0, 80.0, 84.0, 89.0, 101.0, 112.0, 99.0, 99.0, 58.0, 51.0], \"yaxis\": \"y\"}, {\"hovertemplate\": \"variable=google<br>x=%{x}<br>value=%{y}<extra></extra>\", \"legendgroup\": \"google\", \"line\": {\"color\": \"#ab63fa\", \"dash\": \"solid\"}, \"mode\": \"lines\", \"name\": \"google\", \"orientation\": \"v\", \"showlegend\": true, \"type\": \"scatter\", \"x\": [\"2021-06-21T09:00:00\", \"2021-06-21T10:00:00\", \"2021-06-21T11:00:00\", \"2021-06-21T12:00:00\", \"2021-06-21T13:00:00\", \"2021-06-21T14:00:00\", \"2021-06-21T15:00:00\", \"2021-06-22T09:00:00\", \"2021-06-22T10:00:00\", \"2021-06-22T11:00:00\", \"2021-06-22T12:00:00\", \"2021-06-22T13:00:00\", \"2021-06-22T14:00:00\", \"2021-06-22T15:00:00\", \"2021-06-23T09:00:00\", \"2021-06-23T10:00:00\", \"2021-06-23T11:00:00\", \"2021-06-23T12:00:00\", \"2021-06-23T13:00:00\", \"2021-06-23T14:00:00\", \"2021-06-23T15:00:00\", \"2021-06-24T09:00:00\", \"2021-06-24T10:00:00\", \"2021-06-24T11:00:00\", \"2021-06-24T12:00:00\", \"2021-06-24T13:00:00\", \"2021-06-24T14:00:00\", \"2021-06-24T15:00:00\", \"2021-06-25T09:00:00\", \"2021-06-25T10:00:00\", \"2021-06-25T11:00:00\", \"2021-06-25T12:00:00\", \"2021-06-25T13:00:00\", \"2021-06-25T14:00:00\", \"2021-06-25T15:00:00\"], \"xaxis\": \"x\", \"y\": [85.0, 91.0, 91.0, 172.0, 128.0, 128.0, 109.0, 109.0, 122.0, 109.0, 109.0, 185.0, 138.0, 158.0, 177.0, 127.0, 131.0, 93.0, 93.0, 152.0, 127.0, 173.0, 115.0, 144.0, 144.0, 107.0, 107.0, 182.0, 182.0, 212.0, 167.0, 120.0, 130.0, 130.0, 130.0], \"yaxis\": \"y\"}, {\"hovertemplate\": \"variable=msft<br>x=%{x}<br>value=%{y}<extra></extra>\", \"legendgroup\": \"msft\", \"line\": {\"color\": \"#FFA15A\", \"dash\": \"solid\"}, \"mode\": \"lines\", \"name\": \"msft\", \"orientation\": \"v\", \"showlegend\": true, \"type\": \"scatter\", \"x\": [\"2021-06-21T09:00:00\", \"2021-06-21T10:00:00\", \"2021-06-21T11:00:00\", \"2021-06-21T12:00:00\", \"2021-06-21T13:00:00\", \"2021-06-21T14:00:00\", \"2021-06-21T15:00:00\", \"2021-06-22T09:00:00\", \"2021-06-22T10:00:00\", \"2021-06-22T11:00:00\", \"2021-06-22T12:00:00\", \"2021-06-22T13:00:00\", \"2021-06-22T14:00:00\", \"2021-06-22T15:00:00\", \"2021-06-23T09:00:00\", \"2021-06-23T10:00:00\", \"2021-06-23T11:00:00\", \"2021-06-23T12:00:00\", \"2021-06-23T13:00:00\", \"2021-06-23T14:00:00\", \"2021-06-23T15:00:00\", \"2021-06-24T09:00:00\", \"2021-06-24T10:00:00\", \"2021-06-24T11:00:00\", \"2021-06-24T12:00:00\", \"2021-06-24T13:00:00\", \"2021-06-24T14:00:00\", \"2021-06-24T15:00:00\", \"2021-06-25T09:00:00\", \"2021-06-25T10:00:00\", \"2021-06-25T11:00:00\", \"2021-06-25T12:00:00\", \"2021-06-25T13:00:00\", \"2021-06-25T14:00:00\", \"2021-06-25T15:00:00\"], \"xaxis\": \"x\", \"y\": [30.0, 24.0, 27.0, 27.0, 55.0, 65.0, 65.0, 45.0, 41.0, 41.0, 32.0, 32.0, 90.0, 90.0, 65.0, 58.0, 49.0, 46.0, 46.0, 46.0, 88.0, 70.0, 78.0, 56.0, 32.0, 41.0, 41.0, 63.0, 63.0, 70.0, 161.0, 106.0, 81.0, 81.0, 81.0], \"yaxis\": \"y\"}, {\"hovertemplate\": \"variable=amzn<br>x=%{x}<br>value=%{y}<extra></extra>\", \"legendgroup\": \"amzn\", \"line\": {\"color\": \"#19d3f3\", \"dash\": \"solid\"}, \"mode\": \"lines\", \"name\": \"amzn\", \"orientation\": \"v\", \"showlegend\": true, \"type\": \"scatter\", \"x\": [\"2021-06-21T09:00:00\", \"2021-06-21T10:00:00\", \"2021-06-21T11:00:00\", \"2021-06-21T12:00:00\", \"2021-06-21T13:00:00\", \"2021-06-21T14:00:00\", \"2021-06-21T15:00:00\", \"2021-06-22T09:00:00\", \"2021-06-22T10:00:00\", \"2021-06-22T11:00:00\", \"2021-06-22T12:00:00\", \"2021-06-22T13:00:00\", \"2021-06-22T14:00:00\", \"2021-06-22T15:00:00\", \"2021-06-23T09:00:00\", \"2021-06-23T10:00:00\", \"2021-06-23T11:00:00\", \"2021-06-23T12:00:00\", \"2021-06-23T13:00:00\", \"2021-06-23T14:00:00\", \"2021-06-23T15:00:00\", \"2021-06-24T09:00:00\", \"2021-06-24T10:00:00\", \"2021-06-24T11:00:00\", \"2021-06-24T12:00:00\", \"2021-06-24T13:00:00\", \"2021-06-24T14:00:00\", \"2021-06-24T15:00:00\", \"2021-06-25T09:00:00\", \"2021-06-25T10:00:00\", \"2021-06-25T11:00:00\", \"2021-06-25T12:00:00\", \"2021-06-25T13:00:00\", \"2021-06-25T14:00:00\", \"2021-06-25T15:00:00\"], \"xaxis\": \"x\", \"y\": [118.0, 107.0, 95.0, 112.0, 112.0, 352.0, 352.0, 311.0, 339.0, 271.0, 271.0, 248.0, 248.0, 313.0, 313.0, 240.0, 243.0, 236.0, 240.0, 213.0, 213.0, 131.0, 131.0, 126.0, 132.0, 105.0, 106.0, 98.0, 98.0, 124.0, 124.0, 131.0, 152.0, 111.0, 94.0], \"yaxis\": \"y\"}],                        {\"legend\": {\"title\": {\"text\": \"variable\"}, \"tracegroupgap\": 0}, \"template\": {\"data\": {\"bar\": [{\"error_x\": {\"color\": \"#2a3f5f\"}, \"error_y\": {\"color\": \"#2a3f5f\"}, \"marker\": {\"line\": {\"color\": \"#E5ECF6\", \"width\": 0.5}}, \"type\": \"bar\"}], \"barpolar\": [{\"marker\": {\"line\": {\"color\": \"#E5ECF6\", \"width\": 0.5}}, \"type\": \"barpolar\"}], \"carpet\": [{\"aaxis\": {\"endlinecolor\": \"#2a3f5f\", \"gridcolor\": \"white\", \"linecolor\": \"white\", \"minorgridcolor\": \"white\", \"startlinecolor\": \"#2a3f5f\"}, \"baxis\": {\"endlinecolor\": \"#2a3f5f\", \"gridcolor\": \"white\", \"linecolor\": \"white\", \"minorgridcolor\": \"white\", \"startlinecolor\": \"#2a3f5f\"}, \"type\": \"carpet\"}], \"choropleth\": [{\"colorbar\": {\"outlinewidth\": 0, \"ticks\": \"\"}, \"type\": \"choropleth\"}], \"contour\": [{\"colorbar\": {\"outlinewidth\": 0, \"ticks\": \"\"}, \"colorscale\": [[0.0, \"#0d0887\"], [0.1111111111111111, \"#46039f\"], [0.2222222222222222, \"#7201a8\"], [0.3333333333333333, \"#9c179e\"], [0.4444444444444444, \"#bd3786\"], [0.5555555555555556, \"#d8576b\"], [0.6666666666666666, \"#ed7953\"], [0.7777777777777778, \"#fb9f3a\"], [0.8888888888888888, \"#fdca26\"], [1.0, \"#f0f921\"]], \"type\": \"contour\"}], \"contourcarpet\": [{\"colorbar\": {\"outlinewidth\": 0, \"ticks\": \"\"}, \"type\": \"contourcarpet\"}], \"heatmap\": [{\"colorbar\": {\"outlinewidth\": 0, \"ticks\": \"\"}, \"colorscale\": [[0.0, \"#0d0887\"], [0.1111111111111111, \"#46039f\"], [0.2222222222222222, \"#7201a8\"], [0.3333333333333333, \"#9c179e\"], [0.4444444444444444, \"#bd3786\"], [0.5555555555555556, \"#d8576b\"], [0.6666666666666666, \"#ed7953\"], [0.7777777777777778, \"#fb9f3a\"], [0.8888888888888888, \"#fdca26\"], [1.0, \"#f0f921\"]], \"type\": \"heatmap\"}], \"heatmapgl\": [{\"colorbar\": {\"outlinewidth\": 0, \"ticks\": \"\"}, \"colorscale\": [[0.0, \"#0d0887\"], [0.1111111111111111, \"#46039f\"], [0.2222222222222222, \"#7201a8\"], [0.3333333333333333, \"#9c179e\"], [0.4444444444444444, \"#bd3786\"], [0.5555555555555556, \"#d8576b\"], [0.6666666666666666, \"#ed7953\"], [0.7777777777777778, \"#fb9f3a\"], [0.8888888888888888, \"#fdca26\"], [1.0, \"#f0f921\"]], \"type\": \"heatmapgl\"}], \"histogram\": [{\"marker\": {\"colorbar\": {\"outlinewidth\": 0, \"ticks\": \"\"}}, \"type\": \"histogram\"}], \"histogram2d\": [{\"colorbar\": {\"outlinewidth\": 0, \"ticks\": \"\"}, \"colorscale\": [[0.0, \"#0d0887\"], [0.1111111111111111, \"#46039f\"], [0.2222222222222222, \"#7201a8\"], [0.3333333333333333, \"#9c179e\"], [0.4444444444444444, \"#bd3786\"], [0.5555555555555556, \"#d8576b\"], [0.6666666666666666, \"#ed7953\"], [0.7777777777777778, \"#fb9f3a\"], [0.8888888888888888, \"#fdca26\"], [1.0, \"#f0f921\"]], \"type\": \"histogram2d\"}], \"histogram2dcontour\": [{\"colorbar\": {\"outlinewidth\": 0, \"ticks\": \"\"}, \"colorscale\": [[0.0, \"#0d0887\"], [0.1111111111111111, \"#46039f\"], [0.2222222222222222, \"#7201a8\"], [0.3333333333333333, \"#9c179e\"], [0.4444444444444444, \"#bd3786\"], [0.5555555555555556, \"#d8576b\"], [0.6666666666666666, \"#ed7953\"], [0.7777777777777778, \"#fb9f3a\"], [0.8888888888888888, \"#fdca26\"], [1.0, \"#f0f921\"]], \"type\": \"histogram2dcontour\"}], \"mesh3d\": [{\"colorbar\": {\"outlinewidth\": 0, \"ticks\": \"\"}, \"type\": \"mesh3d\"}], \"parcoords\": [{\"line\": {\"colorbar\": {\"outlinewidth\": 0, \"ticks\": \"\"}}, \"type\": \"parcoords\"}], \"pie\": [{\"automargin\": true, \"type\": \"pie\"}], \"scatter\": [{\"marker\": {\"colorbar\": {\"outlinewidth\": 0, \"ticks\": \"\"}}, \"type\": \"scatter\"}], \"scatter3d\": [{\"line\": {\"colorbar\": {\"outlinewidth\": 0, \"ticks\": \"\"}}, \"marker\": {\"colorbar\": {\"outlinewidth\": 0, \"ticks\": \"\"}}, \"type\": \"scatter3d\"}], \"scattercarpet\": [{\"marker\": {\"colorbar\": {\"outlinewidth\": 0, \"ticks\": \"\"}}, \"type\": \"scattercarpet\"}], \"scattergeo\": [{\"marker\": {\"colorbar\": {\"outlinewidth\": 0, \"ticks\": \"\"}}, \"type\": \"scattergeo\"}], \"scattergl\": [{\"marker\": {\"colorbar\": {\"outlinewidth\": 0, \"ticks\": \"\"}}, \"type\": \"scattergl\"}], \"scattermapbox\": [{\"marker\": {\"colorbar\": {\"outlinewidth\": 0, \"ticks\": \"\"}}, \"type\": \"scattermapbox\"}], \"scatterpolar\": [{\"marker\": {\"colorbar\": {\"outlinewidth\": 0, \"ticks\": \"\"}}, \"type\": \"scatterpolar\"}], \"scatterpolargl\": [{\"marker\": {\"colorbar\": {\"outlinewidth\": 0, \"ticks\": \"\"}}, \"type\": \"scatterpolargl\"}], \"scatterternary\": [{\"marker\": {\"colorbar\": {\"outlinewidth\": 0, \"ticks\": \"\"}}, \"type\": \"scatterternary\"}], \"surface\": [{\"colorbar\": {\"outlinewidth\": 0, \"ticks\": \"\"}, \"colorscale\": [[0.0, \"#0d0887\"], [0.1111111111111111, \"#46039f\"], [0.2222222222222222, \"#7201a8\"], [0.3333333333333333, \"#9c179e\"], [0.4444444444444444, \"#bd3786\"], [0.5555555555555556, \"#d8576b\"], [0.6666666666666666, \"#ed7953\"], [0.7777777777777778, \"#fb9f3a\"], [0.8888888888888888, \"#fdca26\"], [1.0, \"#f0f921\"]], \"type\": \"surface\"}], \"table\": [{\"cells\": {\"fill\": {\"color\": \"#EBF0F8\"}, \"line\": {\"color\": \"white\"}}, \"header\": {\"fill\": {\"color\": \"#C8D4E3\"}, \"line\": {\"color\": \"white\"}}, \"type\": \"table\"}]}, \"layout\": {\"annotationdefaults\": {\"arrowcolor\": \"#2a3f5f\", \"arrowhead\": 0, \"arrowwidth\": 1}, \"coloraxis\": {\"colorbar\": {\"outlinewidth\": 0, \"ticks\": \"\"}}, \"colorscale\": {\"diverging\": [[0, \"#8e0152\"], [0.1, \"#c51b7d\"], [0.2, \"#de77ae\"], [0.3, \"#f1b6da\"], [0.4, \"#fde0ef\"], [0.5, \"#f7f7f7\"], [0.6, \"#e6f5d0\"], [0.7, \"#b8e186\"], [0.8, \"#7fbc41\"], [0.9, \"#4d9221\"], [1, \"#276419\"]], \"sequential\": [[0.0, \"#0d0887\"], [0.1111111111111111, \"#46039f\"], [0.2222222222222222, \"#7201a8\"], [0.3333333333333333, \"#9c179e\"], [0.4444444444444444, \"#bd3786\"], [0.5555555555555556, \"#d8576b\"], [0.6666666666666666, \"#ed7953\"], [0.7777777777777778, \"#fb9f3a\"], [0.8888888888888888, \"#fdca26\"], [1.0, \"#f0f921\"]], \"sequentialminus\": [[0.0, \"#0d0887\"], [0.1111111111111111, \"#46039f\"], [0.2222222222222222, \"#7201a8\"], [0.3333333333333333, \"#9c179e\"], [0.4444444444444444, \"#bd3786\"], [0.5555555555555556, \"#d8576b\"], [0.6666666666666666, \"#ed7953\"], [0.7777777777777778, \"#fb9f3a\"], [0.8888888888888888, \"#fdca26\"], [1.0, \"#f0f921\"]]}, \"colorway\": [\"#636efa\", \"#EF553B\", \"#00cc96\", \"#ab63fa\", \"#FFA15A\", \"#19d3f3\", \"#FF6692\", \"#B6E880\", \"#FF97FF\", \"#FECB52\"], \"font\": {\"color\": \"#2a3f5f\"}, \"geo\": {\"bgcolor\": \"white\", \"lakecolor\": \"white\", \"landcolor\": \"#E5ECF6\", \"showlakes\": true, \"showland\": true, \"subunitcolor\": \"white\"}, \"hoverlabel\": {\"align\": \"left\"}, \"hovermode\": \"closest\", \"mapbox\": {\"style\": \"light\"}, \"paper_bgcolor\": \"white\", \"plot_bgcolor\": \"#E5ECF6\", \"polar\": {\"angularaxis\": {\"gridcolor\": \"white\", \"linecolor\": \"white\", \"ticks\": \"\"}, \"bgcolor\": \"#E5ECF6\", \"radialaxis\": {\"gridcolor\": \"white\", \"linecolor\": \"white\", \"ticks\": \"\"}}, \"scene\": {\"xaxis\": {\"backgroundcolor\": \"#E5ECF6\", \"gridcolor\": \"white\", \"gridwidth\": 2, \"linecolor\": \"white\", \"showbackground\": true, \"ticks\": \"\", \"zerolinecolor\": \"white\"}, \"yaxis\": {\"backgroundcolor\": \"#E5ECF6\", \"gridcolor\": \"white\", \"gridwidth\": 2, \"linecolor\": \"white\", \"showbackground\": true, \"ticks\": \"\", \"zerolinecolor\": \"white\"}, \"zaxis\": {\"backgroundcolor\": \"#E5ECF6\", \"gridcolor\": \"white\", \"gridwidth\": 2, \"linecolor\": \"white\", \"showbackground\": true, \"ticks\": \"\", \"zerolinecolor\": \"white\"}}, \"shapedefaults\": {\"line\": {\"color\": \"#2a3f5f\"}}, \"ternary\": {\"aaxis\": {\"gridcolor\": \"white\", \"linecolor\": \"white\", \"ticks\": \"\"}, \"baxis\": {\"gridcolor\": \"white\", \"linecolor\": \"white\", \"ticks\": \"\"}, \"bgcolor\": \"#E5ECF6\", \"caxis\": {\"gridcolor\": \"white\", \"linecolor\": \"white\", \"ticks\": \"\"}}, \"title\": {\"x\": 0.05}, \"xaxis\": {\"automargin\": true, \"gridcolor\": \"white\", \"linecolor\": \"white\", \"ticks\": \"\", \"title\": {\"standoff\": 15}, \"zerolinecolor\": \"white\", \"zerolinewidth\": 2}, \"yaxis\": {\"automargin\": true, \"gridcolor\": \"white\", \"linecolor\": \"white\", \"ticks\": \"\", \"title\": {\"standoff\": 15}, \"zerolinecolor\": \"white\", \"zerolinewidth\": 2}}}, \"title\": {\"text\": \"June 21st - June 25th Number of Article Mentions\"}, \"xaxis\": {\"anchor\": \"y\", \"domain\": [0.0, 1.0], \"rangebreaks\": [{\"bounds\": [17, 9], \"pattern\": \"hour\"}], \"title\": {\"text\": \"Date\"}}, \"yaxis\": {\"anchor\": \"x\", \"domain\": [0.0, 1.0], \"title\": {\"text\": \"# of Articles\"}}},                        {\"responsive\": true}                    ).then(function(){\n",
       "                            \n",
       "var gd = document.getElementById('b637d669-577a-49bb-8d87-99feffd9d2b8');\n",
       "var x = new MutationObserver(function (mutations, observer) {{\n",
       "        var display = window.getComputedStyle(gd).display;\n",
       "        if (!display || display === 'none') {{\n",
       "            console.log([gd, 'removed!']);\n",
       "            Plotly.purge(gd);\n",
       "            observer.disconnect();\n",
       "        }}\n",
       "}});\n",
       "\n",
       "// Listen for the removal of the full notebook cells\n",
       "var notebookContainer = gd.closest('#notebook-container');\n",
       "if (notebookContainer) {{\n",
       "    x.observe(notebookContainer, {childList: true});\n",
       "}}\n",
       "\n",
       "// Listen for the clearing of the current output cell\n",
       "var outputEl = gd.closest('.output');\n",
       "if (outputEl) {{\n",
       "    x.observe(outputEl, {childList: true});\n",
       "}}\n",
       "\n",
       "                        })                };                });            </script>        </div>"
      ]
     },
     "metadata": {},
     "output_type": "display_data"
    }
   ],
   "source": [
    "fig = px.line(all_res.iloc[35:], x=all_res.index[35:], y=['fb', 'nflx', 'apple', 'google', 'msft', 'amzn'],\n",
    "                 title=\"June 21st - June 25th Number of Article Mentions\")\n",
    "fig.update_xaxes(\n",
    "    rangebreaks=[\n",
    "        dict(bounds=[17, 9], pattern=\"hour\"), #hide hours outside of 9am-5pm\n",
    "    ]\n",
    ")\n",
    "fig.update_layout(\n",
    "\n",
    "    xaxis_title=\"Date\",\n",
    "    yaxis_title=\"# of Articles\")\n",
    "\n",
    "fig.show()"
   ]
  },
  {
   "cell_type": "code",
   "execution_count": 588,
   "metadata": {
    "ExecuteTime": {
     "end_time": "2021-07-17T21:44:14.292629Z",
     "start_time": "2021-07-17T21:44:14.285403Z"
    }
   },
   "outputs": [
    {
     "data": {
      "text/plain": [
       "DatetimeIndex(['2021-06-14 09:00:00', '2021-06-14 10:00:00',\n",
       "               '2021-06-14 11:00:00', '2021-06-14 12:00:00',\n",
       "               '2021-06-14 13:00:00', '2021-06-14 14:00:00',\n",
       "               '2021-06-14 15:00:00', '2021-06-15 09:00:00',\n",
       "               '2021-06-15 10:00:00', '2021-06-15 11:00:00',\n",
       "               '2021-06-15 12:00:00', '2021-06-15 13:00:00',\n",
       "               '2021-06-15 14:00:00', '2021-06-15 15:00:00',\n",
       "               '2021-06-16 09:00:00', '2021-06-16 10:00:00',\n",
       "               '2021-06-16 11:00:00', '2021-06-16 12:00:00',\n",
       "               '2021-06-16 13:00:00', '2021-06-16 14:00:00',\n",
       "               '2021-06-16 15:00:00', '2021-06-17 09:00:00',\n",
       "               '2021-06-17 10:00:00', '2021-06-17 11:00:00',\n",
       "               '2021-06-17 12:00:00', '2021-06-17 13:00:00',\n",
       "               '2021-06-17 14:00:00', '2021-06-17 15:00:00',\n",
       "               '2021-06-18 09:00:00', '2021-06-18 10:00:00',\n",
       "               '2021-06-18 11:00:00', '2021-06-18 12:00:00',\n",
       "               '2021-06-18 13:00:00', '2021-06-18 14:00:00',\n",
       "               '2021-06-18 15:00:00', '2021-06-21 09:00:00',\n",
       "               '2021-06-21 10:00:00', '2021-06-21 11:00:00',\n",
       "               '2021-06-21 12:00:00', '2021-06-21 13:00:00',\n",
       "               '2021-06-21 14:00:00', '2021-06-21 15:00:00',\n",
       "               '2021-06-22 09:00:00', '2021-06-22 10:00:00',\n",
       "               '2021-06-22 11:00:00', '2021-06-22 12:00:00',\n",
       "               '2021-06-22 13:00:00', '2021-06-22 14:00:00',\n",
       "               '2021-06-22 15:00:00', '2021-06-23 09:00:00',\n",
       "               '2021-06-23 10:00:00', '2021-06-23 11:00:00',\n",
       "               '2021-06-23 12:00:00', '2021-06-23 13:00:00',\n",
       "               '2021-06-23 14:00:00', '2021-06-23 15:00:00',\n",
       "               '2021-06-24 09:00:00', '2021-06-24 10:00:00',\n",
       "               '2021-06-24 11:00:00', '2021-06-24 12:00:00',\n",
       "               '2021-06-24 13:00:00', '2021-06-24 14:00:00',\n",
       "               '2021-06-24 15:00:00', '2021-06-25 09:00:00',\n",
       "               '2021-06-25 10:00:00', '2021-06-25 11:00:00',\n",
       "               '2021-06-25 12:00:00', '2021-06-25 13:00:00',\n",
       "               '2021-06-25 14:00:00', '2021-06-25 15:00:00'],\n",
       "              dtype='datetime64[ns]', name='date', freq=None)"
      ]
     },
     "execution_count": 588,
     "metadata": {},
     "output_type": "execute_result"
    }
   ],
   "source": [
    "all_res.index"
   ]
  },
  {
   "cell_type": "code",
   "execution_count": 613,
   "metadata": {
    "ExecuteTime": {
     "end_time": "2021-07-17T21:59:57.416479Z",
     "start_time": "2021-07-17T21:59:57.406773Z"
    }
   },
   "outputs": [],
   "source": [
    "tst = df_google['Sentiment'].value_counts(1)"
   ]
  },
  {
   "cell_type": "code",
   "execution_count": 614,
   "metadata": {
    "ExecuteTime": {
     "end_time": "2021-07-17T21:59:59.546777Z",
     "start_time": "2021-07-17T21:59:59.538733Z"
    }
   },
   "outputs": [
    {
     "data": {
      "text/plain": [
       " 1    0.463436\n",
       " 0    0.342887\n",
       "-1    0.193677\n",
       "Name: Sentiment, dtype: float64"
      ]
     },
     "execution_count": 614,
     "metadata": {},
     "output_type": "execute_result"
    }
   ],
   "source": [
    "tst"
   ]
  },
  {
   "cell_type": "code",
   "execution_count": null,
   "metadata": {},
   "outputs": [],
   "source": []
  },
  {
   "cell_type": "code",
   "execution_count": 675,
   "metadata": {
    "ExecuteTime": {
     "end_time": "2021-07-17T22:37:31.268661Z",
     "start_time": "2021-07-17T22:37:31.255563Z"
    }
   },
   "outputs": [],
   "source": [
    "def sent_vals(df):\n",
    "    vals = df['Sentiment'].value_counts(1) \n",
    "    return vals"
   ]
  },
  {
   "cell_type": "code",
   "execution_count": 678,
   "metadata": {
    "ExecuteTime": {
     "end_time": "2021-07-17T22:46:56.559723Z",
     "start_time": "2021-07-17T22:46:56.469801Z"
    }
   },
   "outputs": [
    {
     "data": {
      "text/plain": [
       "[                    publishedAt  \\\n",
       " 0     2021-06-14 09:00:00-04:00   \n",
       " 1     2021-06-14 09:00:00-04:00   \n",
       " 2     2021-06-14 09:00:02-04:00   \n",
       " 3     2021-06-14 09:00:26-04:00   \n",
       " 4     2021-06-14 09:00:33-04:00   \n",
       " ...                         ...   \n",
       " 2560  2021-06-25 15:57:03-04:00   \n",
       " 2561  2021-06-25 15:58:35-04:00   \n",
       " 2562  2021-06-25 15:59:28-04:00   \n",
       " 2563  2021-06-25 16:00:00-04:00   \n",
       " 2564  2021-06-25 16:00:00-04:00   \n",
       " \n",
       "                                                   title  \\\n",
       " 0     Lululemon (NASDAQ: LULU) Lines Up For A Run At...   \n",
       " 1     ‘The Morning Show’ Season 2 Teaser Reveals the...   \n",
       " 2     Fitbit Luxe review: A luxury fitness tracker f...   \n",
       " 3     We can’t believe how cheap these Apple product...   \n",
       " 4     ‘The Morning Show’ Season 2 Trailer: Aniston, ...   \n",
       " ...                                                 ...   \n",
       " 2560  Derek Chauvin sentenced to 22.5 YEARS in priso...   \n",
       " 2561  Denver Nuggets’ Michael Malone End of Season P...   \n",
       " 2562  Police officer Derek Chauvin jailed for 22.5 y...   \n",
       " 2563  Weekend Preview: ‘Mythic Quest’ Heads Into The...   \n",
       " 2564  Poll of the Week: What's the best phone of 202...   \n",
       " \n",
       "                                             description  \\\n",
       " 0     This story originally appeared on MarketBeatFo...   \n",
       " 1     Apple TV+ released the first teaser and premie...   \n",
       " 2     Source: Jeramy Johnson / Android CentralIt's n...   \n",
       " 3     Technically, Prime Day deals aren’t officially...   \n",
       " 4     Apple has announced its flagship drama series ...   \n",
       " ...                                                 ...   \n",
       " 2560  Pushing for the harshest possible sentence on ...   \n",
       " 2561  The Nuggets season came to an end just under t...   \n",
       " 2562  The former police officer George Floyd's murde...   \n",
       " 2563  Mythic Quest: Season 2 season finale (Apple TV...   \n",
       " 2564  Next week finally sees the long-awaited MWC in...   \n",
       " \n",
       "                                                 content  results  \\\n",
       " 0     This story originally appeared on MarketBeatFo...    124.0   \n",
       " 1     Apple TV+ released the first teaser and premie...    124.0   \n",
       " 2     Source: Jeramy Johnson / Android CentralIt's n...    124.0   \n",
       " 3     Technically, Prime Day deals aren’t officially...    124.0   \n",
       " 4     Apple has announced its flagship drama series ...    124.0   \n",
       " ...                                                 ...      ...   \n",
       " 2560  Pushing for the harshest possible sentence on ...     51.0   \n",
       " 2561  The Nuggets season came to an end just under t...     51.0   \n",
       " 2562  The former police officer George Floyd's murde...     51.0   \n",
       " 2563  Mythic Quest: Season 2 season finale (Apple TV...     51.0   \n",
       " 2564  Next week finally sees the long-awaited MWC in...     51.0   \n",
       " \n",
       "               source2  hour   day  \\\n",
       " 0          MarketBeat   9.0  14.0   \n",
       " 1             TheWrap   9.0  14.0   \n",
       " 2     Android Central   9.0  14.0   \n",
       " 3      Digital Trends   9.0  14.0   \n",
       " 4           IndieWire   9.0  14.0   \n",
       " ...               ...   ...   ...   \n",
       " 2560               RT  15.0  25.0   \n",
       " 2561             Heat  15.0  25.0   \n",
       " 2562    Mirror Online  15.0  25.0   \n",
       " 2563           UPROXX  16.0  25.0   \n",
       " 2564          Nextpit  16.0  25.0   \n",
       " \n",
       "                                             cont_joined    neg    neu    pos  \\\n",
       " 0     Lululemon (NASDAQ: LULU) Lines Up For A Run At...  0.000  0.930  0.070   \n",
       " 1     ‘The Morning Show’ Season 2 Teaser Reveals the...  0.133  0.867  0.000   \n",
       " 2     Fitbit Luxe review: A luxury fitness tracker f...  0.035  0.790  0.175   \n",
       " 3     We can’t believe how cheap these Apple product...  0.047  0.856  0.098   \n",
       " 4     ‘The Morning Show’ Season 2 Trailer: Aniston, ...  0.041  0.798  0.162   \n",
       " ...                                                 ...    ...    ...    ...   \n",
       " 2560  Derek Chauvin sentenced to 22.5 YEARS in priso...  0.258  0.716  0.026   \n",
       " 2561  Denver Nuggets’ Michael Malone End of Season P...  0.000  0.921  0.079   \n",
       " 2562  Police officer Derek Chauvin jailed for 22.5 y...  0.249  0.751  0.000   \n",
       " 2563  Weekend Preview: ‘Mythic Quest’ Heads Into The...  0.137  0.811  0.052   \n",
       " 2564  Poll of the Week: What's the best phone of 202...  0.077  0.840  0.082   \n",
       " \n",
       "         comp      blob  comp_abs  blob_abs       c_b  Sentiment  \n",
       " 0     0.4173  0.317500         1         1  0.099800          1  \n",
       " 1    -0.7096  0.125000        -1         0 -0.834600         -1  \n",
       " 2     0.6593  0.257143         1         1  0.402157          1  \n",
       " 3     0.5499  0.271429         1         1  0.278471          1  \n",
       " 4     0.7096  0.195455         1         1  0.514145          1  \n",
       " ...      ...       ...       ...       ...       ...        ...  \n",
       " 2560 -0.9136 -0.055556        -1         0 -0.858044         -1  \n",
       " 2561  0.5927  0.000000         1         0  0.592700          1  \n",
       " 2562 -0.9274 -0.200000        -1        -1 -0.727400         -1  \n",
       " 2563 -0.6249 -0.100000        -1         0 -0.524900         -1  \n",
       " 2564  0.3045  0.163542         1         1  0.140958          1  \n",
       " \n",
       " [4953 rows x 18 columns],\n",
       "                     publishedAt  \\\n",
       " 0     2021-06-21 09:00:00-04:00   \n",
       " 1     2021-06-21 09:00:00-04:00   \n",
       " 2     2021-06-21 09:00:00-04:00   \n",
       " 3     2021-06-21 09:00:00-04:00   \n",
       " 4     2021-06-21 09:00:00-04:00   \n",
       " ...                         ...   \n",
       " 2505  2021-06-18 15:59:00-04:00   \n",
       " 2506  2021-06-18 15:59:39-04:00   \n",
       " 2507  2021-06-18 15:59:51-04:00   \n",
       " 2508  2021-06-18 16:00:00-04:00   \n",
       " 2509  2021-06-18 16:00:00-04:00   \n",
       " \n",
       "                                                   title  \\\n",
       " 0     How to Promote Word-of-Mouth Referrals Through...   \n",
       " 1     New Custom 10mm 1911 on Offer from Kinsey’s an...   \n",
       " 2     Steelhead Outdoors open for business in Prior ...   \n",
       " 3     Affordable Housing Lottery Opens for 27 Units ...   \n",
       " 4     My Life as a Meme: 'I Can’t Believe You’ve Don...   \n",
       " ...                                                 ...   \n",
       " 2505  Plane crashes in St. Marys River on Florida-Ge...   \n",
       " 2506  WATCH: Tom Izzo interviewed outside Fiserv For...   \n",
       " 2507  Conservatives launch publishing company for ri...   \n",
       " 2508            The Weekly Photography Challenge – Dogs   \n",
       " 2509  ‘Juneteenth Way’ Unveiled in Prospect Park as ...   \n",
       " \n",
       "                                             description  \\\n",
       " 0     Word-of-mouth marketing is one of the most val...   \n",
       " 1     I sometimes struggle to read what the gun indu...   \n",
       " 2     Longtime friends Charlie Pehrson and Corey Mey...   \n",
       " 3     An affordable housing lottery has opened for 2...   \n",
       " 4     In November 2007, an entirely contextless vide...   \n",
       " ...                                                 ...   \n",
       " 2505  NASSAU COUNTY, Fla. — Two bodies have been rec...   \n",
       " 2506  SNY NBA Insider Ian Begley explains how too ma...   \n",
       " 2507  Skip to comments.Conservatives launch publishi...   \n",
       " 2508  A Post By: SimeThey’re everywhere! Pets, runni...   \n",
       " 2509  A tree-sheltered walkway in Prospect Park with...   \n",
       " \n",
       "                                                 content  results  \\\n",
       " 0     Word-of-mouth marketing is one of the most val...    167.0   \n",
       " 1     I sometimes struggle to read what the gun indu...    167.0   \n",
       " 2     Longtime friends Charlie Pehrson and Corey Mey...    167.0   \n",
       " 3     An affordable housing lottery has opened for 2...    167.0   \n",
       " 4     In November 2007, an entirely contextless vide...    167.0   \n",
       " ...                                                 ...      ...   \n",
       " 2505  NASSAU COUNTY, Fla. — Two bodies have been rec...     63.0   \n",
       " 2506  SNY NBA Insider Ian Begley explains how too ma...     63.0   \n",
       " 2507  Skip to comments.Conservatives launch publishi...     63.0   \n",
       " 2508  A Post By: SimeThey’re everywhere! Pets, runni...     63.0   \n",
       " 2509  A tree-sheltered walkway in Prospect Park with...     63.0   \n",
       " \n",
       "                          source2  hour   day  \\\n",
       " 0                      Neilpatel   9.0  21.0   \n",
       " 1                 Thefirearmblog   9.0  21.0   \n",
       " 2                  SW News Media   9.0  21.0   \n",
       " 3                    Brownstoner   9.0  21.0   \n",
       " 4                      Vice News   9.0  21.0   \n",
       " ...                          ...   ...   ...   \n",
       " 2505               ActionNewsJax  15.0  18.0   \n",
       " 2506                   USA Today  15.0  18.0   \n",
       " 2507                Freerepublic  15.0  18.0   \n",
       " 2508  Digital-photography-school  16.0  18.0   \n",
       " 2509                 Brownstoner  16.0  18.0   \n",
       " \n",
       "                                             cont_joined    neg    neu    pos  \\\n",
       " 0     How to Promote Word-of-Mouth Referrals Through...  0.000  0.766  0.234   \n",
       " 1     New Custom 10mm 1911 on Offer from Kinsey’s an...  0.093  0.830  0.077   \n",
       " 2     Steelhead Outdoors open for business in Prior ...  0.000  0.860  0.140   \n",
       " 3     Affordable Housing Lottery Opens for 27 Units ...  0.000  0.941  0.059   \n",
       " 4     My Life as a Meme: 'I Can’t Believe You’ve Don...  0.072  0.928  0.000   \n",
       " ...                                                 ...    ...    ...    ...   \n",
       " 2505  Plane crashes in St. Marys River on Florida-Ge...  0.165  0.835  0.000   \n",
       " 2506  WATCH: Tom Izzo interviewed outside Fiserv For...  0.058  0.858  0.084   \n",
       " 2507  Conservatives launch publishing company for ri...  0.161  0.714  0.125   \n",
       " 2508  The Weekly Photography Challenge – Dogs; A Pos...  0.000  0.768  0.232   \n",
       " 2509  ‘Juneteenth Way’ Unveiled in Prospect Park as ...  0.000  0.901  0.099   \n",
       " \n",
       "         comp      blob  comp_abs  blob_abs       c_b  Sentiment  \n",
       " 0     0.8553  0.500000         1         1  0.355300          1  \n",
       " 1     0.0516  0.259091         0         1 -0.207491          0  \n",
       " 2     0.6124  0.013766         1         0  0.598634          1  \n",
       " 3     0.4019  0.000000         1         0  0.401900          1  \n",
       " 4    -0.5423 -0.350000        -1        -1 -0.192300         -1  \n",
       " ...      ...       ...       ...       ...       ...        ...  \n",
       " 2505 -0.8176  0.050000        -1         0 -0.867600         -1  \n",
       " 2506  0.1027 -0.183333         0        -1  0.286033          0  \n",
       " 2507 -0.1531  0.000000         0         0 -0.153100          0  \n",
       " 2508  0.8516  0.500000         1         1  0.351600          1  \n",
       " 2509  0.5267  0.068182         1         0  0.458518          1  \n",
       " \n",
       " [5035 rows x 18 columns],\n",
       "                     publishedAt  \\\n",
       " 0     2021-06-14 09:00:00-04:00   \n",
       " 1     2021-06-14 09:00:00-04:00   \n",
       " 2     2021-06-14 09:00:00-04:00   \n",
       " 3     2021-06-14 09:00:10-04:00   \n",
       " 4     2021-06-14 09:00:58-04:00   \n",
       " ...                         ...   \n",
       " 1273  2021-06-25 15:45:04-04:00   \n",
       " 1274  2021-06-25 15:51:18-04:00   \n",
       " 1275  2021-06-25 15:53:35-04:00   \n",
       " 1276  2021-06-25 15:58:00-04:00   \n",
       " 1277  2021-06-25 16:00:00-04:00   \n",
       " \n",
       "                                                   title  \\\n",
       " 0     Business / Arts Announces Annual Award Recipie...   \n",
       " 1     Video Games Don’t Have To Be So Violent, And E...   \n",
       " 2                          Apple TV 4K (2nd Generation)   \n",
       " 3     ‘Centaurworld’: Netflix Drops First Trailer Fo...   \n",
       " 4     ‘Karma’s World’: Ludacris Talks Animated Netfl...   \n",
       " ...                                                 ...   \n",
       " 1273  Where to Watch Questlove’s ‘Summer of Soul’ Do...   \n",
       " 1274  New WitcherCon Trailer Teases Reveals and Surp...   \n",
       " 1275  'Too Hot To Handle's Marvin: Real Job, Instagr...   \n",
       " 1276  Netflix rises as credit Suisse sees subscriber...   \n",
       " 1277  Weekend Preview: ‘Mythic Quest’ Heads Into The...   \n",
       " \n",
       "                                             description  \\\n",
       " 0     TORONTO, June 14, 2021 (GLOBE NEWSWIRE) -- Bus...   \n",
       " 1     When the average person approaches an event li...   \n",
       " 2     Apple has broadened its media streaming horizo...   \n",
       " 3     Netflix has dropped the first trailer for anim...   \n",
       " 4     As part of its Kids and Family Sneak Peek at t...   \n",
       " ...                                                 ...   \n",
       " 1273  Where to Stream:Summer of Soul (...Or, When th...   \n",
       " 1274  WitcherCon, the celebration of all things base...   \n",
       " 1275  With an ever-growing catalog of TV shows on Ne...   \n",
       " 1276  Shares of Netflix (NFLX) were higher on Friday...   \n",
       " 1277  Mythic Quest: Season 2 season finale (Apple TV...   \n",
       " \n",
       "                                                 content  results  \\\n",
       " 0     TORONTO, June 14, 2021 (GLOBE NEWSWIRE) -- Bus...     25.0   \n",
       " 1     When the average person approaches an event li...     25.0   \n",
       " 2     Apple has broadened its media streaming horizo...     25.0   \n",
       " 3     Netflix has dropped the first trailer for anim...     25.0   \n",
       " 4     As part of its Kids and Family Sneak Peek at t...     25.0   \n",
       " ...                                                 ...      ...   \n",
       " 1273  Where to Stream:Summer of Soul (...Or, When th...     25.0   \n",
       " 1274  WitcherCon, the celebration of all things base...     25.0   \n",
       " 1275  With an ever-growing catalog of TV shows on Ne...     25.0   \n",
       " 1276  Shares of Netflix (NFLX) were higher on Friday...     25.0   \n",
       " 1277  Mythic Quest: Season 2 season finale (Apple TV...     25.0   \n",
       " \n",
       "             source2  hour   day  \\\n",
       " 0     GlobeNewswire   9.0  14.0   \n",
       " 1            UPROXX   9.0  14.0   \n",
       " 2             PCMag   9.0  14.0   \n",
       " 3          Deadline   9.0  14.0   \n",
       " 4          Deadline   9.0  14.0   \n",
       " ...             ...   ...   ...   \n",
       " 1273        Decider  15.0  25.0   \n",
       " 1274     ComingSoon  15.0  25.0   \n",
       " 1275    Elite Daily  15.0  25.0   \n",
       " 1276   Toronto Star  15.0  25.0   \n",
       " 1277         UPROXX  16.0  25.0   \n",
       " \n",
       "                                             cont_joined    neg    neu    pos  \\\n",
       " 0     Business / Arts Announces Annual Award Recipie...  0.000  0.645  0.355   \n",
       " 1     Video Games Don’t Have To Be So Violent, And E...  0.111  0.813  0.076   \n",
       " 2     Apple TV 4K (2nd Generation); Apple has broade...  0.000  1.000  0.000   \n",
       " 3     ‘Centaurworld’: Netflix Drops First Trailer Fo...  0.000  1.000  0.000   \n",
       " 4     ‘Karma’s World’: Ludacris Talks Animated Netfl...  0.000  0.840  0.160   \n",
       " ...                                                 ...    ...    ...    ...   \n",
       " 1273  Where to Watch Questlove’s ‘Summer of Soul’ Do...  0.000  1.000  0.000   \n",
       " 1274  New WitcherCon Trailer Teases Reveals and Surp...  0.102  0.789  0.109   \n",
       " 1275  'Too Hot To Handle's Marvin: Real Job, Instagr...  0.072  0.861  0.067   \n",
       " 1276  Netflix rises as credit Suisse sees subscriber...  0.000  0.773  0.227   \n",
       " 1277  Weekend Preview: ‘Mythic Quest’ Heads Into The...  0.137  0.811  0.052   \n",
       " \n",
       "         comp      blob  comp_abs  blob_abs       c_b  Sentiment  \n",
       " 0     0.9382  0.200000         1         1  0.738200          1  \n",
       " 1    -0.4576 -0.180952        -1        -1 -0.276648         -1  \n",
       " 2     0.0000 -0.150000         0        -1  0.150000          0  \n",
       " 3     0.0000  0.125000         0         0 -0.125000          0  \n",
       " 4     0.8126  0.090909         1         0  0.721691          1  \n",
       " ...      ...       ...       ...       ...       ...        ...  \n",
       " 1273  0.0000  0.500000         0         1 -0.500000          0  \n",
       " 1274  0.0772  0.197273         0         1 -0.120073          0  \n",
       " 1275  0.1779  0.242100         0         1 -0.064200          0  \n",
       " 1276  0.8402  0.025000         1         0  0.815200          1  \n",
       " 1277 -0.6249 -0.100000        -1         0 -0.524900         -1  \n",
       " \n",
       " [2177 rows x 18 columns],\n",
       "                     publishedAt  \\\n",
       " 0     2021-06-14 09:00:00-04:00   \n",
       " 1     2021-06-14 09:00:00-04:00   \n",
       " 2     2021-06-14 09:00:00-04:00   \n",
       " 3     2021-06-14 09:00:07-04:00   \n",
       " 4     2021-06-14 09:03:31-04:00   \n",
       " ...                         ...   \n",
       " 1782  2021-06-25 15:54:39-04:00   \n",
       " 1783  2021-06-25 15:54:45-04:00   \n",
       " 1784  2021-06-25 15:58:47-04:00   \n",
       " 1785  2021-06-25 16:00:00-04:00   \n",
       " 1786  2021-06-25 16:00:00-04:00   \n",
       " \n",
       "                                                   title  \\\n",
       " 0     Microsoft Teams: Vulnerability in Microsoft Po...   \n",
       " 1                      monday.com IPO: A Tough Business   \n",
       " 2                   Here's What You Missed at E3 So Far   \n",
       " 3     Beta Tools combination wrench manufacturing pr...   \n",
       " 4     Camera app development for iPhone: Halide Team...   \n",
       " ...                                                 ...   \n",
       " 1782   Is The Stock Market At A Style Inflection Point?   \n",
       " 1783  Adafruit Interviews Texas Instruments Educatio...   \n",
       " 1784  Microsoft tracked people’s brain activity for ...   \n",
       " 1785  3 Popular Myths About Cryptocurrency (and the ...   \n",
       " 1786  Bandwidth: Xbox Game Pass and Amazon Luna anno...   \n",
       " \n",
       "                                             description  \\\n",
       " 0     A flaw in Microsoft Power Apps could allow att...   \n",
       " 1     NicoElNino/iStock via Getty ImagesThe monday.c...   \n",
       " 2     Good morning. It’s Monday and the game industr...   \n",
       " 3     Stop breadboarding and soldering – start makin...   \n",
       " 4     Lux Optics, the maker of Halide for iPhone and...   \n",
       " ...                                                 ...   \n",
       " 1782  Getty ImagesThe COVID bull market that began t...   \n",
       " 1783  In May of 2021 we saw that there was a fork of...   \n",
       " 1784  Microsoft measured peoples brains to record th...   \n",
       " 1785  Opinions expressed by Entrepreneur contributor...   \n",
       " 1786  July is almost here, and with it, new games fo...   \n",
       " \n",
       "                                                 content  results  \\\n",
       " 0     A flaw in Microsoft Power Apps could allow att...     67.0   \n",
       " 1     NicoElNino/iStock via Getty ImagesThe monday.c...     67.0   \n",
       " 2     Good morning. It’s Monday and the game industr...     67.0   \n",
       " 3     Stop breadboarding and soldering – start makin...     67.0   \n",
       " 4     Lux Optics, the maker of Halide for iPhone and...     67.0   \n",
       " ...                                                 ...      ...   \n",
       " 1782  Getty ImagesThe COVID bull market that began t...     41.0   \n",
       " 1783  In May of 2021 we saw that there was a fork of...     41.0   \n",
       " 1784  Microsoft measured peoples brains to record th...     41.0   \n",
       " 1785  Opinions expressed by Entrepreneur contributor...     41.0   \n",
       " 1786  July is almost here, and with it, new games fo...     41.0   \n",
       " \n",
       "             source2  hour   day  \\\n",
       " 0           Tenable   9.0  14.0   \n",
       " 1     Seeking Alpha   9.0  14.0   \n",
       " 2         Vice News   9.0  14.0   \n",
       " 3          Adafruit   9.0  14.0   \n",
       " 4      AppleInsider   9.0  14.0   \n",
       " ...             ...   ...   ...   \n",
       " 1782         Forbes  15.0  25.0   \n",
       " 1783       Adafruit  15.0  25.0   \n",
       " 1784    Independent  15.0  25.0   \n",
       " 1785   Entrepreneur  16.0  25.0   \n",
       " 1786     9to5google  16.0  25.0   \n",
       " \n",
       "                                             cont_joined    neg    neu    pos  \\\n",
       " 0     Microsoft Teams: Vulnerability in Microsoft Po...  0.230  0.730  0.041   \n",
       " 1     monday.com IPO: A Tough Business; NicoElNino/i...  0.048  0.866  0.085   \n",
       " 2     Here's What You Missed at E3 So Far; Good morn...  0.087  0.843  0.071   \n",
       " 3     Beta Tools combination wrench manufacturing pr...  0.074  0.926  0.000   \n",
       " 4     Camera app development for iPhone: Halide Team...  0.000  0.940  0.060   \n",
       " ...                                                 ...    ...    ...    ...   \n",
       " 1782  Is The Stock Market At A Style Inflection Poin...  0.000  1.000  0.000   \n",
       " 1783  Adafruit Interviews Texas Instruments Educatio...  0.000  0.967  0.033   \n",
       " 1784  Microsoft tracked people’s brain activity for ...  0.000  0.876  0.124   \n",
       " 1785  3 Popular Myths About Cryptocurrency (and the ...  0.000  0.846  0.154   \n",
       " 1786  Bandwidth: Xbox Game Pass and Amazon Luna anno...  0.000  0.882  0.118   \n",
       " \n",
       "         comp      blob  comp_abs  blob_abs       c_b  Sentiment  \n",
       " 0    -0.8316  0.250000        -1         1 -1.081600         -1  \n",
       " 1     0.2878  0.022222         0         0  0.265578          0  \n",
       " 2     0.0717 -0.057143         0         0  0.128843          0  \n",
       " 3    -0.3595  0.500000        -1         1 -0.859500         -1  \n",
       " 4     0.4019  0.357143         1         1  0.044757          1  \n",
       " ...      ...       ...       ...       ...       ...        ...  \n",
       " 1782  0.0000  0.166667         0         1 -0.166667          0  \n",
       " 1783  0.1739  0.397727         0         1 -0.223827          0  \n",
       " 1784  0.6597  0.136364         1         0  0.523336          1  \n",
       " 1785  0.6369  0.180000         1         1  0.456900          1  \n",
       " 1786  0.5423 -0.212727         1        -1  0.755027          1  \n",
       " \n",
       " [3352 rows x 18 columns],\n",
       "                     publishedAt  \\\n",
       " 0     2021-06-14 09:00:00-04:00   \n",
       " 1     2021-06-14 09:00:00-04:00   \n",
       " 2     2021-06-14 09:00:00-04:00   \n",
       " 3     2021-06-14 09:00:00-04:00   \n",
       " 4     2021-06-14 09:00:00-04:00   \n",
       " ...                         ...   \n",
       " 2600  2021-06-25 16:00:00-04:00   \n",
       " 2601  2021-06-25 16:00:00-04:00   \n",
       " 2602  2021-06-25 16:00:00-04:00   \n",
       " 2603  2021-06-25 16:00:00-04:00   \n",
       " 2604  2021-06-25 16:00:00-04:00   \n",
       " \n",
       "                                                   title  \\\n",
       " 0              The Motherboard Guide to the Gig Economy   \n",
       " 1     Money Talks: The mother and the college studen...   \n",
       " 2     Moto G Stylus 5G: Strong budget productivity d...   \n",
       " 3     Webinar: Using External Data to Accelerate Bus...   \n",
       " 4     Setting Up Grapes: Color & Stitching Considera...   \n",
       " ...                                                 ...   \n",
       " 2600  Weekend Preview: ‘Mythic Quest’ Heads Into The...   \n",
       " 2601  Bandwidth: Xbox Game Pass and Amazon Luna anno...   \n",
       " 2602                                           Main EDC   \n",
       " 2603  3 New Superhero Characters Cast in THE BOYS Se...   \n",
       " 2604  Virgin Galactic Gets Official Clearance to Sta...   \n",
       " \n",
       "                                             description  \\\n",
       " 0     On the Clock is Motherboard's reporting on the...   \n",
       " 1     Getty Images/Christina Animashaun for Vox\\n \\n...   \n",
       " 2     Moto G Stylus is the best-selling Moto G since...   \n",
       " 3     Registrations have been disabledLearn how data...   \n",
       " 4     A couple weeks ago, I sneak-peeked the colors ...   \n",
       " ...                                                 ...   \n",
       " 2600  Mythic Quest: Season 2 season finale (Apple TV...   \n",
       " 2601  July is almost here, and with it, new games fo...   \n",
       " 2602  Disclosure : Everyday Carry is a participant i...   \n",
       " 2603  Three more superhero characters have been cast...   \n",
       " 2604  An upgraded FAA operators license now allows V...   \n",
       " \n",
       "                                                 content  results  \\\n",
       " 0     On the Clock is Motherboard's reporting on the...    120.0   \n",
       " 1     Getty Images/Christina Animashaun for Vox\\n \\n...    120.0   \n",
       " 2     Moto G Stylus is the best-selling Moto G since...    120.0   \n",
       " 3     Registrations have been disabledLearn how data...    120.0   \n",
       " 4     A couple weeks ago, I sneak-peeked the colors ...    120.0   \n",
       " ...                                                 ...      ...   \n",
       " 2600  Mythic Quest: Season 2 season finale (Apple TV...     71.0   \n",
       " 2601  July is almost here, and with it, new games fo...     71.0   \n",
       " 2602  Disclosure : Everyday Carry is a participant i...     71.0   \n",
       " 2603  Three more superhero characters have been cast...     71.0   \n",
       " 2604  An upgraded FAA operators license now allows V...     71.0   \n",
       " \n",
       "             source2  hour   day  \\\n",
       " 0         Vice News   9.0  14.0   \n",
       " 1               Vox   9.0  14.0   \n",
       " 2             ZDNet   9.0  14.0   \n",
       " 3     insideBIGDATA   9.0  14.0   \n",
       " 4     Needlenthread   9.0  14.0   \n",
       " ...             ...   ...   ...   \n",
       " 2600         UPROXX  16.0  25.0   \n",
       " 2601     9to5google  16.0  25.0   \n",
       " 2602  Everydaycarry  16.0  25.0   \n",
       " 2603     GeekTyrant  16.0  25.0   \n",
       " 2604        Gizmodo  16.0  25.0   \n",
       " \n",
       "                                             cont_joined    neg    neu    pos  \\\n",
       " 0     The Motherboard Guide to the Gig Economy; On t...  0.000  0.937  0.063   \n",
       " 1     Money Talks: The mother and the college studen...  0.000  0.881  0.119   \n",
       " 2     Moto G Stylus 5G: Strong budget productivity d...  0.000  0.809  0.191   \n",
       " 3     Webinar: Using External Data to Accelerate Bus...  0.000  0.943  0.057   \n",
       " 4     Setting Up Grapes: Color & Stitching Considera...  0.000  1.000  0.000   \n",
       " ...                                                 ...    ...    ...    ...   \n",
       " 2600  Weekend Preview: ‘Mythic Quest’ Heads Into The...  0.137  0.811  0.052   \n",
       " 2601  Bandwidth: Xbox Game Pass and Amazon Luna anno...  0.000  0.882  0.118   \n",
       " 2602  Main EDC; Disclosure : Everyday Carry is a par...  0.000  0.945  0.055   \n",
       " 2603  3 New Superhero Characters Cast in THE BOYS Se...  0.026  0.974  0.000   \n",
       " 2604  Virgin Galactic Gets Official Clearance to Sta...  0.000  1.000  0.000   \n",
       " \n",
       "         comp      blob  comp_abs  blob_abs       c_b  Sentiment  \n",
       " 0     0.3612  0.000000         1         0  0.361200          1  \n",
       " 1     0.6597  0.446429         1         1  0.213271          1  \n",
       " 2     0.8358  0.079861         1         0  0.755939          1  \n",
       " 3     0.2732  0.000000         0         0  0.273200          0  \n",
       " 4     0.0000  0.166667         0         1 -0.166667          0  \n",
       " ...      ...       ...       ...       ...       ...        ...  \n",
       " 2600 -0.6249 -0.100000        -1         0 -0.524900         -1  \n",
       " 2601  0.5423 -0.212727         1        -1  0.755027          1  \n",
       " 2602  0.1779 -0.016667         0         0  0.194567          0  \n",
       " 2603 -0.0258  0.212121         0         1 -0.237921          0  \n",
       " 2604  0.0000  0.062500         0         0 -0.062500          0  \n",
       " \n",
       " [5063 rows x 18 columns],\n",
       "                     publishedAt  \\\n",
       " 0     2021-06-14 09:00:00-04:00   \n",
       " 1     2021-06-14 09:00:00-04:00   \n",
       " 2     2021-06-14 09:00:00-04:00   \n",
       " 3     2021-06-14 09:00:00-04:00   \n",
       " 4     2021-06-14 09:00:00-04:00   \n",
       " ...                         ...   \n",
       " 2895  2021-06-25 15:59:38-04:00   \n",
       " 2896  2021-06-25 16:00:00-04:00   \n",
       " 2897  2021-06-25 16:00:00-04:00   \n",
       " 2898  2021-06-25 16:00:00-04:00   \n",
       " 2899  2021-06-25 16:00:00-04:00   \n",
       " \n",
       "                                                   title  \\\n",
       " 0     Rosetta Type Foundry’s David Březina on his in...   \n",
       " 1     Moto G Stylus 5G: Strong budget productivity d...   \n",
       " 2      Tech Companies Are Training AI to Read Your Lips   \n",
       " 3     Lululemon (NASDAQ: LULU) Lines Up For A Run At...   \n",
       " 4     Affordable Housing Lottery Opens for 175 Units...   \n",
       " ...                                                 ...   \n",
       " 2895  Utah reports 14 more deaths caused by COVID-19...   \n",
       " 2896  How to Tell When Apps Sneakily Access Your Cam...   \n",
       " 2897  Got the same name as a serial killer? Google m...   \n",
       " 2898  Poll of the Week: What's the best phone of 202...   \n",
       " 2899  Bandwidth: Xbox Game Pass and Amazon Luna anno...   \n",
       " \n",
       "                                             description  \\\n",
       " 0     Another notable feature of the Handjet is the ...   \n",
       " 1     Moto G Stylus is the best-selling Moto G since...   \n",
       " 2     It seems like a simple interaction, and in som...   \n",
       " 3     This story originally appeared on MarketBeatFo...   \n",
       " 4     An affordable housing lottery has opened for a...   \n",
       " ...                                                 ...   \n",
       " 2895  Editors note: The Salt Lake Tribune is providi...   \n",
       " 2896  As with previous Android versions, Google is m...   \n",
       " 2897  One man Recode spoke to said Google attached h...   \n",
       " 2898  Next week finally sees the long-awaited MWC in...   \n",
       " 2899  July is almost here, and with it, new games fo...   \n",
       " \n",
       "                                                 content  results  \\\n",
       " 0     Another notable feature of the Handjet is the ...    133.0   \n",
       " 1     Moto G Stylus is the best-selling Moto G since...    133.0   \n",
       " 2     It seems like a simple interaction, and in som...    133.0   \n",
       " 3     This story originally appeared on MarketBeatFo...    133.0   \n",
       " 4     An affordable housing lottery has opened for a...    133.0   \n",
       " ...                                                 ...      ...   \n",
       " 2895  Editors note: The Salt Lake Tribune is providi...     86.0   \n",
       " 2896  As with previous Android versions, Google is m...     86.0   \n",
       " 2897  One man Recode spoke to said Google attached h...     86.0   \n",
       " 2898  Next week finally sees the long-awaited MWC in...     86.0   \n",
       " 2899  July is almost here, and with it, new games fo...     86.0   \n",
       " \n",
       "                 source2  hour   day  \\\n",
       " 0           Itsnicethat   9.0  14.0   \n",
       " 1                 ZDNet   9.0  14.0   \n",
       " 2             Vice News   9.0  14.0   \n",
       " 3            MarketBeat   9.0  14.0   \n",
       " 4           Brownstoner   9.0  14.0   \n",
       " ...                 ...   ...   ...   \n",
       " 2895  Salt Lake Tribune  15.0  25.0   \n",
       " 2896          MakeUseOf  16.0  25.0   \n",
       " 2897                Vox  16.0  25.0   \n",
       " 2898            Nextpit  16.0  25.0   \n",
       " 2899         9to5google  16.0  25.0   \n",
       " \n",
       "                                             cont_joined    neg    neu    pos  \\\n",
       " 0     Rosetta Type Foundry’s David Březina on his in...  0.000  0.971  0.029   \n",
       " 1     Moto G Stylus 5G: Strong budget productivity d...  0.000  0.809  0.191   \n",
       " 2     Tech Companies Are Training AI to Read Your Li...  0.000  0.826  0.174   \n",
       " 3     Lululemon (NASDAQ: LULU) Lines Up For A Run At...  0.000  0.930  0.070   \n",
       " 4     Affordable Housing Lottery Opens for 175 Units...  0.000  1.000  0.000   \n",
       " ...                                                 ...    ...    ...    ...   \n",
       " 2895  Utah reports 14 more deaths caused by COVID-19...  0.046  0.798  0.156   \n",
       " 2896  How to Tell When Apps Sneakily Access Your Cam...  0.000  1.000  0.000   \n",
       " 2897  Got the same name as a serial killer? Google m...  0.173  0.827  0.000   \n",
       " 2898  Poll of the Week: What's the best phone of 202...  0.077  0.840  0.082   \n",
       " 2899  Bandwidth: Xbox Game Pass and Amazon Luna anno...  0.000  0.882  0.118   \n",
       " \n",
       "         comp      blob  comp_abs  blob_abs       c_b  Sentiment  \n",
       " 0     0.0772  0.500000         0         1 -0.422800          0  \n",
       " 1     0.8358  0.079861         1         0  0.755939          1  \n",
       " 2     0.7906 -0.090000         1         0  0.880600          1  \n",
       " 3     0.4173  0.317500         1         1  0.099800          1  \n",
       " 4     0.0000  0.090909         0         0 -0.090909          0  \n",
       " ...      ...       ...       ...       ...       ...        ...  \n",
       " 2895  0.6705  0.350000         1         1  0.320500          1  \n",
       " 2896  0.0000 -0.007576         0         0  0.007576          0  \n",
       " 2897 -0.8625  0.033333        -1         0 -0.895833         -1  \n",
       " 2898  0.3045  0.163542         1         1  0.140958          1  \n",
       " 2899  0.5423 -0.212727         1        -1  0.755027          1  \n",
       " \n",
       " [5757 rows x 18 columns]]"
      ]
     },
     "execution_count": 678,
     "metadata": {},
     "output_type": "execute_result"
    }
   ],
   "source": []
  },
  {
   "cell_type": "code",
   "execution_count": 676,
   "metadata": {
    "ExecuteTime": {
     "end_time": "2021-07-17T22:46:33.723233Z",
     "start_time": "2021-07-17T22:46:33.674869Z"
    }
   },
   "outputs": [],
   "source": [
    "sent_vals_lst = []\n",
    "for df_ in list_of_df:\n",
    "    sent_vals_lst.append(sent_vals(df_))\n",
    "    "
   ]
  },
  {
   "cell_type": "code",
   "execution_count": 680,
   "metadata": {
    "ExecuteTime": {
     "end_time": "2021-07-17T22:48:24.133138Z",
     "start_time": "2021-07-17T22:48:24.127455Z"
    }
   },
   "outputs": [],
   "source": [
    "apple_sent, facebook_sent, nflx_sent,msft_sent,amzn_sent,google_sent = sent_vals_lst"
   ]
  },
  {
   "cell_type": "code",
   "execution_count": null,
   "metadata": {
    "ExecuteTime": {
     "end_time": "2021-07-17T22:48:27.124737Z",
     "start_time": "2021-07-17T22:48:27.117394Z"
    }
   },
   "outputs": [],
   "source": []
  },
  {
   "cell_type": "code",
   "execution_count": null,
   "metadata": {},
   "outputs": [],
   "source": []
  },
  {
   "cell_type": "code",
   "execution_count": null,
   "metadata": {},
   "outputs": [],
   "source": []
  },
  {
   "cell_type": "code",
   "execution_count": 615,
   "metadata": {
    "ExecuteTime": {
     "end_time": "2021-07-17T22:00:18.096840Z",
     "start_time": "2021-07-17T22:00:17.973137Z"
    }
   },
   "outputs": [
    {
     "data": {
      "application/vnd.plotly.v1+json": {
       "config": {
        "plotlyServerURL": "https://plot.ly"
       },
       "data": [
        {
         "domain": {
          "x": [
           0,
           1
          ],
          "y": [
           0,
           1
          ]
         },
         "hovertemplate": "index=%{label}<br>value=%{value}<extra></extra>",
         "labels": [
          1,
          0,
          -1
         ],
         "legendgroup": "",
         "name": "",
         "showlegend": true,
         "type": "pie",
         "values": [
          0.46343581726593713,
          0.34288692027097445,
          0.19367726246308842
         ]
        }
       ],
       "layout": {
        "legend": {
         "tracegroupgap": 0
        },
        "margin": {
         "t": 60
        },
        "template": {
         "data": {
          "bar": [
           {
            "error_x": {
             "color": "#2a3f5f"
            },
            "error_y": {
             "color": "#2a3f5f"
            },
            "marker": {
             "line": {
              "color": "#E5ECF6",
              "width": 0.5
             }
            },
            "type": "bar"
           }
          ],
          "barpolar": [
           {
            "marker": {
             "line": {
              "color": "#E5ECF6",
              "width": 0.5
             }
            },
            "type": "barpolar"
           }
          ],
          "carpet": [
           {
            "aaxis": {
             "endlinecolor": "#2a3f5f",
             "gridcolor": "white",
             "linecolor": "white",
             "minorgridcolor": "white",
             "startlinecolor": "#2a3f5f"
            },
            "baxis": {
             "endlinecolor": "#2a3f5f",
             "gridcolor": "white",
             "linecolor": "white",
             "minorgridcolor": "white",
             "startlinecolor": "#2a3f5f"
            },
            "type": "carpet"
           }
          ],
          "choropleth": [
           {
            "colorbar": {
             "outlinewidth": 0,
             "ticks": ""
            },
            "type": "choropleth"
           }
          ],
          "contour": [
           {
            "colorbar": {
             "outlinewidth": 0,
             "ticks": ""
            },
            "colorscale": [
             [
              0,
              "#0d0887"
             ],
             [
              0.1111111111111111,
              "#46039f"
             ],
             [
              0.2222222222222222,
              "#7201a8"
             ],
             [
              0.3333333333333333,
              "#9c179e"
             ],
             [
              0.4444444444444444,
              "#bd3786"
             ],
             [
              0.5555555555555556,
              "#d8576b"
             ],
             [
              0.6666666666666666,
              "#ed7953"
             ],
             [
              0.7777777777777778,
              "#fb9f3a"
             ],
             [
              0.8888888888888888,
              "#fdca26"
             ],
             [
              1,
              "#f0f921"
             ]
            ],
            "type": "contour"
           }
          ],
          "contourcarpet": [
           {
            "colorbar": {
             "outlinewidth": 0,
             "ticks": ""
            },
            "type": "contourcarpet"
           }
          ],
          "heatmap": [
           {
            "colorbar": {
             "outlinewidth": 0,
             "ticks": ""
            },
            "colorscale": [
             [
              0,
              "#0d0887"
             ],
             [
              0.1111111111111111,
              "#46039f"
             ],
             [
              0.2222222222222222,
              "#7201a8"
             ],
             [
              0.3333333333333333,
              "#9c179e"
             ],
             [
              0.4444444444444444,
              "#bd3786"
             ],
             [
              0.5555555555555556,
              "#d8576b"
             ],
             [
              0.6666666666666666,
              "#ed7953"
             ],
             [
              0.7777777777777778,
              "#fb9f3a"
             ],
             [
              0.8888888888888888,
              "#fdca26"
             ],
             [
              1,
              "#f0f921"
             ]
            ],
            "type": "heatmap"
           }
          ],
          "heatmapgl": [
           {
            "colorbar": {
             "outlinewidth": 0,
             "ticks": ""
            },
            "colorscale": [
             [
              0,
              "#0d0887"
             ],
             [
              0.1111111111111111,
              "#46039f"
             ],
             [
              0.2222222222222222,
              "#7201a8"
             ],
             [
              0.3333333333333333,
              "#9c179e"
             ],
             [
              0.4444444444444444,
              "#bd3786"
             ],
             [
              0.5555555555555556,
              "#d8576b"
             ],
             [
              0.6666666666666666,
              "#ed7953"
             ],
             [
              0.7777777777777778,
              "#fb9f3a"
             ],
             [
              0.8888888888888888,
              "#fdca26"
             ],
             [
              1,
              "#f0f921"
             ]
            ],
            "type": "heatmapgl"
           }
          ],
          "histogram": [
           {
            "marker": {
             "colorbar": {
              "outlinewidth": 0,
              "ticks": ""
             }
            },
            "type": "histogram"
           }
          ],
          "histogram2d": [
           {
            "colorbar": {
             "outlinewidth": 0,
             "ticks": ""
            },
            "colorscale": [
             [
              0,
              "#0d0887"
             ],
             [
              0.1111111111111111,
              "#46039f"
             ],
             [
              0.2222222222222222,
              "#7201a8"
             ],
             [
              0.3333333333333333,
              "#9c179e"
             ],
             [
              0.4444444444444444,
              "#bd3786"
             ],
             [
              0.5555555555555556,
              "#d8576b"
             ],
             [
              0.6666666666666666,
              "#ed7953"
             ],
             [
              0.7777777777777778,
              "#fb9f3a"
             ],
             [
              0.8888888888888888,
              "#fdca26"
             ],
             [
              1,
              "#f0f921"
             ]
            ],
            "type": "histogram2d"
           }
          ],
          "histogram2dcontour": [
           {
            "colorbar": {
             "outlinewidth": 0,
             "ticks": ""
            },
            "colorscale": [
             [
              0,
              "#0d0887"
             ],
             [
              0.1111111111111111,
              "#46039f"
             ],
             [
              0.2222222222222222,
              "#7201a8"
             ],
             [
              0.3333333333333333,
              "#9c179e"
             ],
             [
              0.4444444444444444,
              "#bd3786"
             ],
             [
              0.5555555555555556,
              "#d8576b"
             ],
             [
              0.6666666666666666,
              "#ed7953"
             ],
             [
              0.7777777777777778,
              "#fb9f3a"
             ],
             [
              0.8888888888888888,
              "#fdca26"
             ],
             [
              1,
              "#f0f921"
             ]
            ],
            "type": "histogram2dcontour"
           }
          ],
          "mesh3d": [
           {
            "colorbar": {
             "outlinewidth": 0,
             "ticks": ""
            },
            "type": "mesh3d"
           }
          ],
          "parcoords": [
           {
            "line": {
             "colorbar": {
              "outlinewidth": 0,
              "ticks": ""
             }
            },
            "type": "parcoords"
           }
          ],
          "pie": [
           {
            "automargin": true,
            "type": "pie"
           }
          ],
          "scatter": [
           {
            "marker": {
             "colorbar": {
              "outlinewidth": 0,
              "ticks": ""
             }
            },
            "type": "scatter"
           }
          ],
          "scatter3d": [
           {
            "line": {
             "colorbar": {
              "outlinewidth": 0,
              "ticks": ""
             }
            },
            "marker": {
             "colorbar": {
              "outlinewidth": 0,
              "ticks": ""
             }
            },
            "type": "scatter3d"
           }
          ],
          "scattercarpet": [
           {
            "marker": {
             "colorbar": {
              "outlinewidth": 0,
              "ticks": ""
             }
            },
            "type": "scattercarpet"
           }
          ],
          "scattergeo": [
           {
            "marker": {
             "colorbar": {
              "outlinewidth": 0,
              "ticks": ""
             }
            },
            "type": "scattergeo"
           }
          ],
          "scattergl": [
           {
            "marker": {
             "colorbar": {
              "outlinewidth": 0,
              "ticks": ""
             }
            },
            "type": "scattergl"
           }
          ],
          "scattermapbox": [
           {
            "marker": {
             "colorbar": {
              "outlinewidth": 0,
              "ticks": ""
             }
            },
            "type": "scattermapbox"
           }
          ],
          "scatterpolar": [
           {
            "marker": {
             "colorbar": {
              "outlinewidth": 0,
              "ticks": ""
             }
            },
            "type": "scatterpolar"
           }
          ],
          "scatterpolargl": [
           {
            "marker": {
             "colorbar": {
              "outlinewidth": 0,
              "ticks": ""
             }
            },
            "type": "scatterpolargl"
           }
          ],
          "scatterternary": [
           {
            "marker": {
             "colorbar": {
              "outlinewidth": 0,
              "ticks": ""
             }
            },
            "type": "scatterternary"
           }
          ],
          "surface": [
           {
            "colorbar": {
             "outlinewidth": 0,
             "ticks": ""
            },
            "colorscale": [
             [
              0,
              "#0d0887"
             ],
             [
              0.1111111111111111,
              "#46039f"
             ],
             [
              0.2222222222222222,
              "#7201a8"
             ],
             [
              0.3333333333333333,
              "#9c179e"
             ],
             [
              0.4444444444444444,
              "#bd3786"
             ],
             [
              0.5555555555555556,
              "#d8576b"
             ],
             [
              0.6666666666666666,
              "#ed7953"
             ],
             [
              0.7777777777777778,
              "#fb9f3a"
             ],
             [
              0.8888888888888888,
              "#fdca26"
             ],
             [
              1,
              "#f0f921"
             ]
            ],
            "type": "surface"
           }
          ],
          "table": [
           {
            "cells": {
             "fill": {
              "color": "#EBF0F8"
             },
             "line": {
              "color": "white"
             }
            },
            "header": {
             "fill": {
              "color": "#C8D4E3"
             },
             "line": {
              "color": "white"
             }
            },
            "type": "table"
           }
          ]
         },
         "layout": {
          "annotationdefaults": {
           "arrowcolor": "#2a3f5f",
           "arrowhead": 0,
           "arrowwidth": 1
          },
          "coloraxis": {
           "colorbar": {
            "outlinewidth": 0,
            "ticks": ""
           }
          },
          "colorscale": {
           "diverging": [
            [
             0,
             "#8e0152"
            ],
            [
             0.1,
             "#c51b7d"
            ],
            [
             0.2,
             "#de77ae"
            ],
            [
             0.3,
             "#f1b6da"
            ],
            [
             0.4,
             "#fde0ef"
            ],
            [
             0.5,
             "#f7f7f7"
            ],
            [
             0.6,
             "#e6f5d0"
            ],
            [
             0.7,
             "#b8e186"
            ],
            [
             0.8,
             "#7fbc41"
            ],
            [
             0.9,
             "#4d9221"
            ],
            [
             1,
             "#276419"
            ]
           ],
           "sequential": [
            [
             0,
             "#0d0887"
            ],
            [
             0.1111111111111111,
             "#46039f"
            ],
            [
             0.2222222222222222,
             "#7201a8"
            ],
            [
             0.3333333333333333,
             "#9c179e"
            ],
            [
             0.4444444444444444,
             "#bd3786"
            ],
            [
             0.5555555555555556,
             "#d8576b"
            ],
            [
             0.6666666666666666,
             "#ed7953"
            ],
            [
             0.7777777777777778,
             "#fb9f3a"
            ],
            [
             0.8888888888888888,
             "#fdca26"
            ],
            [
             1,
             "#f0f921"
            ]
           ],
           "sequentialminus": [
            [
             0,
             "#0d0887"
            ],
            [
             0.1111111111111111,
             "#46039f"
            ],
            [
             0.2222222222222222,
             "#7201a8"
            ],
            [
             0.3333333333333333,
             "#9c179e"
            ],
            [
             0.4444444444444444,
             "#bd3786"
            ],
            [
             0.5555555555555556,
             "#d8576b"
            ],
            [
             0.6666666666666666,
             "#ed7953"
            ],
            [
             0.7777777777777778,
             "#fb9f3a"
            ],
            [
             0.8888888888888888,
             "#fdca26"
            ],
            [
             1,
             "#f0f921"
            ]
           ]
          },
          "colorway": [
           "#636efa",
           "#EF553B",
           "#00cc96",
           "#ab63fa",
           "#FFA15A",
           "#19d3f3",
           "#FF6692",
           "#B6E880",
           "#FF97FF",
           "#FECB52"
          ],
          "font": {
           "color": "#2a3f5f"
          },
          "geo": {
           "bgcolor": "white",
           "lakecolor": "white",
           "landcolor": "#E5ECF6",
           "showlakes": true,
           "showland": true,
           "subunitcolor": "white"
          },
          "hoverlabel": {
           "align": "left"
          },
          "hovermode": "closest",
          "mapbox": {
           "style": "light"
          },
          "paper_bgcolor": "white",
          "plot_bgcolor": "#E5ECF6",
          "polar": {
           "angularaxis": {
            "gridcolor": "white",
            "linecolor": "white",
            "ticks": ""
           },
           "bgcolor": "#E5ECF6",
           "radialaxis": {
            "gridcolor": "white",
            "linecolor": "white",
            "ticks": ""
           }
          },
          "scene": {
           "xaxis": {
            "backgroundcolor": "#E5ECF6",
            "gridcolor": "white",
            "gridwidth": 2,
            "linecolor": "white",
            "showbackground": true,
            "ticks": "",
            "zerolinecolor": "white"
           },
           "yaxis": {
            "backgroundcolor": "#E5ECF6",
            "gridcolor": "white",
            "gridwidth": 2,
            "linecolor": "white",
            "showbackground": true,
            "ticks": "",
            "zerolinecolor": "white"
           },
           "zaxis": {
            "backgroundcolor": "#E5ECF6",
            "gridcolor": "white",
            "gridwidth": 2,
            "linecolor": "white",
            "showbackground": true,
            "ticks": "",
            "zerolinecolor": "white"
           }
          },
          "shapedefaults": {
           "line": {
            "color": "#2a3f5f"
           }
          },
          "ternary": {
           "aaxis": {
            "gridcolor": "white",
            "linecolor": "white",
            "ticks": ""
           },
           "baxis": {
            "gridcolor": "white",
            "linecolor": "white",
            "ticks": ""
           },
           "bgcolor": "#E5ECF6",
           "caxis": {
            "gridcolor": "white",
            "linecolor": "white",
            "ticks": ""
           }
          },
          "title": {
           "x": 0.05
          },
          "xaxis": {
           "automargin": true,
           "gridcolor": "white",
           "linecolor": "white",
           "ticks": "",
           "title": {
            "standoff": 15
           },
           "zerolinecolor": "white",
           "zerolinewidth": 2
          },
          "yaxis": {
           "automargin": true,
           "gridcolor": "white",
           "linecolor": "white",
           "ticks": "",
           "title": {
            "standoff": 15
           },
           "zerolinecolor": "white",
           "zerolinewidth": 2
          }
         }
        }
       }
      },
      "text/html": [
       "<div>                            <div id=\"c670eaac-2283-4ff7-8da1-89515d9f0157\" class=\"plotly-graph-div\" style=\"height:525px; width:100%;\"></div>            <script type=\"text/javascript\">                require([\"plotly\"], function(Plotly) {                    window.PLOTLYENV=window.PLOTLYENV || {};                                    if (document.getElementById(\"c670eaac-2283-4ff7-8da1-89515d9f0157\")) {                    Plotly.newPlot(                        \"c670eaac-2283-4ff7-8da1-89515d9f0157\",                        [{\"domain\": {\"x\": [0.0, 1.0], \"y\": [0.0, 1.0]}, \"hovertemplate\": \"index=%{label}<br>value=%{value}<extra></extra>\", \"labels\": [1, 0, -1], \"legendgroup\": \"\", \"name\": \"\", \"showlegend\": true, \"type\": \"pie\", \"values\": [0.46343581726593713, 0.34288692027097445, 0.19367726246308842]}],                        {\"legend\": {\"tracegroupgap\": 0}, \"margin\": {\"t\": 60}, \"template\": {\"data\": {\"bar\": [{\"error_x\": {\"color\": \"#2a3f5f\"}, \"error_y\": {\"color\": \"#2a3f5f\"}, \"marker\": {\"line\": {\"color\": \"#E5ECF6\", \"width\": 0.5}}, \"type\": \"bar\"}], \"barpolar\": [{\"marker\": {\"line\": {\"color\": \"#E5ECF6\", \"width\": 0.5}}, \"type\": \"barpolar\"}], \"carpet\": [{\"aaxis\": {\"endlinecolor\": \"#2a3f5f\", \"gridcolor\": \"white\", \"linecolor\": \"white\", \"minorgridcolor\": \"white\", \"startlinecolor\": \"#2a3f5f\"}, \"baxis\": {\"endlinecolor\": \"#2a3f5f\", \"gridcolor\": \"white\", \"linecolor\": \"white\", \"minorgridcolor\": \"white\", \"startlinecolor\": \"#2a3f5f\"}, \"type\": \"carpet\"}], \"choropleth\": [{\"colorbar\": {\"outlinewidth\": 0, \"ticks\": \"\"}, \"type\": \"choropleth\"}], \"contour\": [{\"colorbar\": {\"outlinewidth\": 0, \"ticks\": \"\"}, \"colorscale\": [[0.0, \"#0d0887\"], [0.1111111111111111, \"#46039f\"], [0.2222222222222222, \"#7201a8\"], [0.3333333333333333, \"#9c179e\"], [0.4444444444444444, \"#bd3786\"], [0.5555555555555556, \"#d8576b\"], [0.6666666666666666, \"#ed7953\"], [0.7777777777777778, \"#fb9f3a\"], [0.8888888888888888, \"#fdca26\"], [1.0, \"#f0f921\"]], \"type\": \"contour\"}], \"contourcarpet\": [{\"colorbar\": {\"outlinewidth\": 0, \"ticks\": \"\"}, \"type\": \"contourcarpet\"}], \"heatmap\": [{\"colorbar\": {\"outlinewidth\": 0, \"ticks\": \"\"}, \"colorscale\": [[0.0, \"#0d0887\"], [0.1111111111111111, \"#46039f\"], [0.2222222222222222, \"#7201a8\"], [0.3333333333333333, \"#9c179e\"], [0.4444444444444444, \"#bd3786\"], [0.5555555555555556, \"#d8576b\"], [0.6666666666666666, \"#ed7953\"], [0.7777777777777778, \"#fb9f3a\"], [0.8888888888888888, \"#fdca26\"], [1.0, \"#f0f921\"]], \"type\": \"heatmap\"}], \"heatmapgl\": [{\"colorbar\": {\"outlinewidth\": 0, \"ticks\": \"\"}, \"colorscale\": [[0.0, \"#0d0887\"], [0.1111111111111111, \"#46039f\"], [0.2222222222222222, \"#7201a8\"], [0.3333333333333333, \"#9c179e\"], [0.4444444444444444, \"#bd3786\"], [0.5555555555555556, \"#d8576b\"], [0.6666666666666666, \"#ed7953\"], [0.7777777777777778, \"#fb9f3a\"], [0.8888888888888888, \"#fdca26\"], [1.0, \"#f0f921\"]], \"type\": \"heatmapgl\"}], \"histogram\": [{\"marker\": {\"colorbar\": {\"outlinewidth\": 0, \"ticks\": \"\"}}, \"type\": \"histogram\"}], \"histogram2d\": [{\"colorbar\": {\"outlinewidth\": 0, \"ticks\": \"\"}, \"colorscale\": [[0.0, \"#0d0887\"], [0.1111111111111111, \"#46039f\"], [0.2222222222222222, \"#7201a8\"], [0.3333333333333333, \"#9c179e\"], [0.4444444444444444, \"#bd3786\"], [0.5555555555555556, \"#d8576b\"], [0.6666666666666666, \"#ed7953\"], [0.7777777777777778, \"#fb9f3a\"], [0.8888888888888888, \"#fdca26\"], [1.0, \"#f0f921\"]], \"type\": \"histogram2d\"}], \"histogram2dcontour\": [{\"colorbar\": {\"outlinewidth\": 0, \"ticks\": \"\"}, \"colorscale\": [[0.0, \"#0d0887\"], [0.1111111111111111, \"#46039f\"], [0.2222222222222222, \"#7201a8\"], [0.3333333333333333, \"#9c179e\"], [0.4444444444444444, \"#bd3786\"], [0.5555555555555556, \"#d8576b\"], [0.6666666666666666, \"#ed7953\"], [0.7777777777777778, \"#fb9f3a\"], [0.8888888888888888, \"#fdca26\"], [1.0, \"#f0f921\"]], \"type\": \"histogram2dcontour\"}], \"mesh3d\": [{\"colorbar\": {\"outlinewidth\": 0, \"ticks\": \"\"}, \"type\": \"mesh3d\"}], \"parcoords\": [{\"line\": {\"colorbar\": {\"outlinewidth\": 0, \"ticks\": \"\"}}, \"type\": \"parcoords\"}], \"pie\": [{\"automargin\": true, \"type\": \"pie\"}], \"scatter\": [{\"marker\": {\"colorbar\": {\"outlinewidth\": 0, \"ticks\": \"\"}}, \"type\": \"scatter\"}], \"scatter3d\": [{\"line\": {\"colorbar\": {\"outlinewidth\": 0, \"ticks\": \"\"}}, \"marker\": {\"colorbar\": {\"outlinewidth\": 0, \"ticks\": \"\"}}, \"type\": \"scatter3d\"}], \"scattercarpet\": [{\"marker\": {\"colorbar\": {\"outlinewidth\": 0, \"ticks\": \"\"}}, \"type\": \"scattercarpet\"}], \"scattergeo\": [{\"marker\": {\"colorbar\": {\"outlinewidth\": 0, \"ticks\": \"\"}}, \"type\": \"scattergeo\"}], \"scattergl\": [{\"marker\": {\"colorbar\": {\"outlinewidth\": 0, \"ticks\": \"\"}}, \"type\": \"scattergl\"}], \"scattermapbox\": [{\"marker\": {\"colorbar\": {\"outlinewidth\": 0, \"ticks\": \"\"}}, \"type\": \"scattermapbox\"}], \"scatterpolar\": [{\"marker\": {\"colorbar\": {\"outlinewidth\": 0, \"ticks\": \"\"}}, \"type\": \"scatterpolar\"}], \"scatterpolargl\": [{\"marker\": {\"colorbar\": {\"outlinewidth\": 0, \"ticks\": \"\"}}, \"type\": \"scatterpolargl\"}], \"scatterternary\": [{\"marker\": {\"colorbar\": {\"outlinewidth\": 0, \"ticks\": \"\"}}, \"type\": \"scatterternary\"}], \"surface\": [{\"colorbar\": {\"outlinewidth\": 0, \"ticks\": \"\"}, \"colorscale\": [[0.0, \"#0d0887\"], [0.1111111111111111, \"#46039f\"], [0.2222222222222222, \"#7201a8\"], [0.3333333333333333, \"#9c179e\"], [0.4444444444444444, \"#bd3786\"], [0.5555555555555556, \"#d8576b\"], [0.6666666666666666, \"#ed7953\"], [0.7777777777777778, \"#fb9f3a\"], [0.8888888888888888, \"#fdca26\"], [1.0, \"#f0f921\"]], \"type\": \"surface\"}], \"table\": [{\"cells\": {\"fill\": {\"color\": \"#EBF0F8\"}, \"line\": {\"color\": \"white\"}}, \"header\": {\"fill\": {\"color\": \"#C8D4E3\"}, \"line\": {\"color\": \"white\"}}, \"type\": \"table\"}]}, \"layout\": {\"annotationdefaults\": {\"arrowcolor\": \"#2a3f5f\", \"arrowhead\": 0, \"arrowwidth\": 1}, \"coloraxis\": {\"colorbar\": {\"outlinewidth\": 0, \"ticks\": \"\"}}, \"colorscale\": {\"diverging\": [[0, \"#8e0152\"], [0.1, \"#c51b7d\"], [0.2, \"#de77ae\"], [0.3, \"#f1b6da\"], [0.4, \"#fde0ef\"], [0.5, \"#f7f7f7\"], [0.6, \"#e6f5d0\"], [0.7, \"#b8e186\"], [0.8, \"#7fbc41\"], [0.9, \"#4d9221\"], [1, \"#276419\"]], \"sequential\": [[0.0, \"#0d0887\"], [0.1111111111111111, \"#46039f\"], [0.2222222222222222, \"#7201a8\"], [0.3333333333333333, \"#9c179e\"], [0.4444444444444444, \"#bd3786\"], [0.5555555555555556, \"#d8576b\"], [0.6666666666666666, \"#ed7953\"], [0.7777777777777778, \"#fb9f3a\"], [0.8888888888888888, \"#fdca26\"], [1.0, \"#f0f921\"]], \"sequentialminus\": [[0.0, \"#0d0887\"], [0.1111111111111111, \"#46039f\"], [0.2222222222222222, \"#7201a8\"], [0.3333333333333333, \"#9c179e\"], [0.4444444444444444, \"#bd3786\"], [0.5555555555555556, \"#d8576b\"], [0.6666666666666666, \"#ed7953\"], [0.7777777777777778, \"#fb9f3a\"], [0.8888888888888888, \"#fdca26\"], [1.0, \"#f0f921\"]]}, \"colorway\": [\"#636efa\", \"#EF553B\", \"#00cc96\", \"#ab63fa\", \"#FFA15A\", \"#19d3f3\", \"#FF6692\", \"#B6E880\", \"#FF97FF\", \"#FECB52\"], \"font\": {\"color\": \"#2a3f5f\"}, \"geo\": {\"bgcolor\": \"white\", \"lakecolor\": \"white\", \"landcolor\": \"#E5ECF6\", \"showlakes\": true, \"showland\": true, \"subunitcolor\": \"white\"}, \"hoverlabel\": {\"align\": \"left\"}, \"hovermode\": \"closest\", \"mapbox\": {\"style\": \"light\"}, \"paper_bgcolor\": \"white\", \"plot_bgcolor\": \"#E5ECF6\", \"polar\": {\"angularaxis\": {\"gridcolor\": \"white\", \"linecolor\": \"white\", \"ticks\": \"\"}, \"bgcolor\": \"#E5ECF6\", \"radialaxis\": {\"gridcolor\": \"white\", \"linecolor\": \"white\", \"ticks\": \"\"}}, \"scene\": {\"xaxis\": {\"backgroundcolor\": \"#E5ECF6\", \"gridcolor\": \"white\", \"gridwidth\": 2, \"linecolor\": \"white\", \"showbackground\": true, \"ticks\": \"\", \"zerolinecolor\": \"white\"}, \"yaxis\": {\"backgroundcolor\": \"#E5ECF6\", \"gridcolor\": \"white\", \"gridwidth\": 2, \"linecolor\": \"white\", \"showbackground\": true, \"ticks\": \"\", \"zerolinecolor\": \"white\"}, \"zaxis\": {\"backgroundcolor\": \"#E5ECF6\", \"gridcolor\": \"white\", \"gridwidth\": 2, \"linecolor\": \"white\", \"showbackground\": true, \"ticks\": \"\", \"zerolinecolor\": \"white\"}}, \"shapedefaults\": {\"line\": {\"color\": \"#2a3f5f\"}}, \"ternary\": {\"aaxis\": {\"gridcolor\": \"white\", \"linecolor\": \"white\", \"ticks\": \"\"}, \"baxis\": {\"gridcolor\": \"white\", \"linecolor\": \"white\", \"ticks\": \"\"}, \"bgcolor\": \"#E5ECF6\", \"caxis\": {\"gridcolor\": \"white\", \"linecolor\": \"white\", \"ticks\": \"\"}}, \"title\": {\"x\": 0.05}, \"xaxis\": {\"automargin\": true, \"gridcolor\": \"white\", \"linecolor\": \"white\", \"ticks\": \"\", \"title\": {\"standoff\": 15}, \"zerolinecolor\": \"white\", \"zerolinewidth\": 2}, \"yaxis\": {\"automargin\": true, \"gridcolor\": \"white\", \"linecolor\": \"white\", \"ticks\": \"\", \"title\": {\"standoff\": 15}, \"zerolinecolor\": \"white\", \"zerolinewidth\": 2}}}},                        {\"responsive\": true}                    ).then(function(){\n",
       "                            \n",
       "var gd = document.getElementById('c670eaac-2283-4ff7-8da1-89515d9f0157');\n",
       "var x = new MutationObserver(function (mutations, observer) {{\n",
       "        var display = window.getComputedStyle(gd).display;\n",
       "        if (!display || display === 'none') {{\n",
       "            console.log([gd, 'removed!']);\n",
       "            Plotly.purge(gd);\n",
       "            observer.disconnect();\n",
       "        }}\n",
       "}});\n",
       "\n",
       "// Listen for the removal of the full notebook cells\n",
       "var notebookContainer = gd.closest('#notebook-container');\n",
       "if (notebookContainer) {{\n",
       "    x.observe(notebookContainer, {childList: true});\n",
       "}}\n",
       "\n",
       "// Listen for the clearing of the current output cell\n",
       "var outputEl = gd.closest('.output');\n",
       "if (outputEl) {{\n",
       "    x.observe(outputEl, {childList: true});\n",
       "}}\n",
       "\n",
       "                        })                };                });            </script>        </div>"
      ]
     },
     "metadata": {},
     "output_type": "display_data"
    }
   ],
   "source": [
    "df = px.data.tips()\n",
    "fig = px.pie(tst, values=tst.values, names=tst.index)\n",
    "fig.show()"
   ]
  },
  {
   "cell_type": "code",
   "execution_count": 629,
   "metadata": {
    "ExecuteTime": {
     "end_time": "2021-07-17T22:05:47.912911Z",
     "start_time": "2021-07-17T22:05:47.873175Z"
    }
   },
   "outputs": [
    {
     "ename": "ValueError",
     "evalue": "Invalid property specified for object of type plotly.graph_objs.Pie: 'names'\n\n    Valid properties:\n        automargin\n            Determines whether outside text labels can push the\n            margins.\n        customdata\n            Assigns extra data each datum. This may be useful when\n            listening to hover, click and selection events. Note\n            that, \"scatter\" traces also appends customdata items in\n            the markers DOM elements\n        customdatasrc\n            Sets the source reference on Chart Studio Cloud for\n            customdata .\n        direction\n            Specifies the direction at which succeeding sectors\n            follow one another.\n        dlabel\n            Sets the label step. See `label0` for more info.\n        domain\n            :class:`plotly.graph_objects.pie.Domain` instance or\n            dict with compatible properties\n        hole\n            Sets the fraction of the radius to cut out of the pie.\n            Use this to make a donut chart.\n        hoverinfo\n            Determines which trace information appear on hover. If\n            `none` or `skip` are set, no information is displayed\n            upon hovering. But, if `none` is set, click and hover\n            events are still fired.\n        hoverinfosrc\n            Sets the source reference on Chart Studio Cloud for\n            hoverinfo .\n        hoverlabel\n            :class:`plotly.graph_objects.pie.Hoverlabel` instance\n            or dict with compatible properties\n        hovertemplate\n            Template string used for rendering the information that\n            appear on hover box. Note that this will override\n            `hoverinfo`. Variables are inserted using %{variable},\n            for example \"y: %{y}\". Numbers are formatted using\n            d3-format's syntax %{variable:d3-format}, for example\n            \"Price: %{y:$.2f}\". https://github.com/d3/d3-3.x-api-\n            reference/blob/master/Formatting.md#d3_format for\n            details on the formatting syntax. Dates are formatted\n            using d3-time-format's syntax %{variable|d3-time-\n            format}, for example \"Day: %{2019-01-01|%A}\".\n            https://github.com/d3/d3-time-format#locale_format for\n            details on the date formatting syntax. The variables\n            available in `hovertemplate` are the ones emitted as\n            event data described at this link\n            https://plotly.com/javascript/plotlyjs-events/#event-\n            data. Additionally, every attributes that can be\n            specified per-point (the ones that are `arrayOk: true`)\n            are available. variables `label`, `color`, `value`,\n            `percent` and `text`. Anything contained in tag\n            `<extra>` is displayed in the secondary box, for\n            example \"<extra>{fullData.name}</extra>\". To hide the\n            secondary box completely, use an empty tag\n            `<extra></extra>`.\n        hovertemplatesrc\n            Sets the source reference on Chart Studio Cloud for\n            hovertemplate .\n        hovertext\n            Sets hover text elements associated with each sector.\n            If a single string, the same string appears for all\n            data points. If an array of string, the items are\n            mapped in order of this trace's sectors. To be seen,\n            trace `hoverinfo` must contain a \"text\" flag.\n        hovertextsrc\n            Sets the source reference on Chart Studio Cloud for\n            hovertext .\n        ids\n            Assigns id labels to each datum. These ids for object\n            constancy of data points during animation. Should be an\n            array of strings, not numbers or any other type.\n        idssrc\n            Sets the source reference on Chart Studio Cloud for\n            ids .\n        insidetextfont\n            Sets the font used for `textinfo` lying inside the\n            sector.\n        insidetextorientation\n            Controls the orientation of the text inside chart\n            sectors. When set to \"auto\", text may be oriented in\n            any direction in order to be as big as possible in the\n            middle of a sector. The \"horizontal\" option orients\n            text to be parallel with the bottom of the chart, and\n            may make text smaller in order to achieve that goal.\n            The \"radial\" option orients text along the radius of\n            the sector. The \"tangential\" option orients text\n            perpendicular to the radius of the sector.\n        label0\n            Alternate to `labels`. Builds a numeric set of labels.\n            Use with `dlabel` where `label0` is the starting label\n            and `dlabel` the step.\n        labels\n            Sets the sector labels. If `labels` entries are\n            duplicated, we sum associated `values` or simply count\n            occurrences if `values` is not provided. For other\n            array attributes (including color) we use the first\n            non-empty entry among all occurrences of the label.\n        labelssrc\n            Sets the source reference on Chart Studio Cloud for\n            labels .\n        legendgroup\n            Sets the legend group for this trace. Traces part of\n            the same legend group hide/show at the same time when\n            toggling legend items.\n        marker\n            :class:`plotly.graph_objects.pie.Marker` instance or\n            dict with compatible properties\n        meta\n            Assigns extra meta information associated with this\n            trace that can be used in various text attributes.\n            Attributes such as trace `name`, graph, axis and\n            colorbar `title.text`, annotation `text`\n            `rangeselector`, `updatemenues` and `sliders` `label`\n            text all support `meta`. To access the trace `meta`\n            values in an attribute in the same trace, simply use\n            `%{meta[i]}` where `i` is the index or key of the\n            `meta` item in question. To access trace `meta` in\n            layout attributes, use `%{data[n[.meta[i]}` where `i`\n            is the index or key of the `meta` and `n` is the trace\n            index.\n        metasrc\n            Sets the source reference on Chart Studio Cloud for\n            meta .\n        name\n            Sets the trace name. The trace name appear as the\n            legend item and on hover.\n        opacity\n            Sets the opacity of the trace.\n        outsidetextfont\n            Sets the font used for `textinfo` lying outside the\n            sector.\n        pull\n            Sets the fraction of larger radius to pull the sectors\n            out from the center. This can be a constant to pull all\n            slices apart from each other equally or an array to\n            highlight one or more slices.\n        pullsrc\n            Sets the source reference on Chart Studio Cloud for\n            pull .\n        rotation\n            Instead of the first slice starting at 12 o'clock,\n            rotate to some other angle.\n        scalegroup\n            If there are multiple pie charts that should be sized\n            according to their totals, link them by providing a\n            non-empty group id here shared by every trace in the\n            same group.\n        showlegend\n            Determines whether or not an item corresponding to this\n            trace is shown in the legend.\n        sort\n            Determines whether or not the sectors are reordered\n            from largest to smallest.\n        stream\n            :class:`plotly.graph_objects.pie.Stream` instance or\n            dict with compatible properties\n        text\n            Sets text elements associated with each sector. If\n            trace `textinfo` contains a \"text\" flag, these elements\n            will be seen on the chart. If trace `hoverinfo`\n            contains a \"text\" flag and \"hovertext\" is not set,\n            these elements will be seen in the hover labels.\n        textfont\n            Sets the font used for `textinfo`.\n        textinfo\n            Determines which trace information appear on the graph.\n        textposition\n            Specifies the location of the `textinfo`.\n        textpositionsrc\n            Sets the source reference on Chart Studio Cloud for\n            textposition .\n        textsrc\n            Sets the source reference on Chart Studio Cloud for\n            text .\n        texttemplate\n            Template string used for rendering the information text\n            that appear on points. Note that this will override\n            `textinfo`. Variables are inserted using %{variable},\n            for example \"y: %{y}\". Numbers are formatted using\n            d3-format's syntax %{variable:d3-format}, for example\n            \"Price: %{y:$.2f}\". https://github.com/d3/d3-3.x-api-\n            reference/blob/master/Formatting.md#d3_format for\n            details on the formatting syntax. Dates are formatted\n            using d3-time-format's syntax %{variable|d3-time-\n            format}, for example \"Day: %{2019-01-01|%A}\".\n            https://github.com/d3/d3-time-format#locale_format for\n            details on the date formatting syntax. Every attributes\n            that can be specified per-point (the ones that are\n            `arrayOk: true`) are available. variables `label`,\n            `color`, `value`, `percent` and `text`.\n        texttemplatesrc\n            Sets the source reference on Chart Studio Cloud for\n            texttemplate .\n        title\n            :class:`plotly.graph_objects.pie.Title` instance or\n            dict with compatible properties\n        titlefont\n            Deprecated: Please use pie.title.font instead. Sets the\n            font used for `title`. Note that the title's font used\n            to be set by the now deprecated `titlefont` attribute.\n        titleposition\n            Deprecated: Please use pie.title.position instead.\n            Specifies the location of the `title`. Note that the\n            title's position used to be set by the now deprecated\n            `titleposition` attribute.\n        uid\n            Assign an id to this trace, Use this to provide object\n            constancy between traces during animations and\n            transitions.\n        uirevision\n            Controls persistence of some user-driven changes to the\n            trace: `constraintrange` in `parcoords` traces, as well\n            as some `editable: true` modifications such as `name`\n            and `colorbar.title`. Defaults to `layout.uirevision`.\n            Note that other user-driven trace attribute changes are\n            controlled by `layout` attributes: `trace.visible` is\n            controlled by `layout.legend.uirevision`,\n            `selectedpoints` is controlled by\n            `layout.selectionrevision`, and `colorbar.(x|y)`\n            (accessible with `config: {editable: true}`) is\n            controlled by `layout.editrevision`. Trace changes are\n            tracked by `uid`, which only falls back on trace index\n            if no `uid` is provided. So if your app can add/remove\n            traces before the end of the `data` array, such that\n            the same trace has a different index, you can still\n            preserve user-driven changes if you give each trace a\n            `uid` that stays with it as it moves.\n        values\n            Sets the values of the sectors. If omitted, we count\n            occurrences of each label.\n        valuessrc\n            Sets the source reference on Chart Studio Cloud for\n            values .\n        visible\n            Determines whether or not this trace is visible. If\n            \"legendonly\", the trace is not drawn, but can appear as\n            a legend item (provided that the legend itself is\n            visible).\n        ",
     "output_type": "error",
     "traceback": [
      "\u001b[0;31m---------------------------------------------------------------------------\u001b[0m",
      "\u001b[0;31mValueError\u001b[0m                                Traceback (most recent call last)",
      "\u001b[0;32m<ipython-input-629-cda46871df79>\u001b[0m in \u001b[0;36m<module>\u001b[0;34m\u001b[0m\n\u001b[1;32m      6\u001b[0m     subplot_titles=(\"Apple\", \"Facebook\", \"Google\", \"Microsoft\"))\n\u001b[1;32m      7\u001b[0m \u001b[0;34m\u001b[0m\u001b[0m\n\u001b[0;32m----> 8\u001b[0;31m \u001b[0mfig\u001b[0m\u001b[0;34m.\u001b[0m\u001b[0madd_trace\u001b[0m\u001b[0;34m(\u001b[0m\u001b[0mgo\u001b[0m\u001b[0;34m.\u001b[0m\u001b[0mPie\u001b[0m\u001b[0;34m(\u001b[0m\u001b[0mvalues\u001b[0m\u001b[0;34m=\u001b[0m\u001b[0;34m[\u001b[0m\u001b[0;36m1\u001b[0m\u001b[0;34m,\u001b[0m \u001b[0;36m2\u001b[0m\u001b[0;34m,\u001b[0m \u001b[0;36m3\u001b[0m\u001b[0;34m]\u001b[0m\u001b[0;34m,\u001b[0m \u001b[0mnames\u001b[0m\u001b[0;34m=\u001b[0m\u001b[0;34m[\u001b[0m\u001b[0;36m4\u001b[0m\u001b[0;34m,\u001b[0m \u001b[0;36m5\u001b[0m\u001b[0;34m,\u001b[0m \u001b[0;36m6\u001b[0m\u001b[0;34m]\u001b[0m\u001b[0;34m)\u001b[0m\u001b[0;34m)\u001b[0m\u001b[0;34m,\u001b[0m\u001b[0;31m#,\u001b[0m\u001b[0;34m\u001b[0m\u001b[0;34m\u001b[0m\u001b[0m\n\u001b[0m\u001b[1;32m      9\u001b[0m               \u001b[0;31m#row=1, col=1)\u001b[0m\u001b[0;34m\u001b[0m\u001b[0;34m\u001b[0m\u001b[0;34m\u001b[0m\u001b[0m\n\u001b[1;32m     10\u001b[0m \u001b[0;34m\u001b[0m\u001b[0m\n",
      "\u001b[0;32m~/opt/anaconda3/envs/learn-env/lib/python3.8/site-packages/plotly/graph_objs/_pie.py\u001b[0m in \u001b[0;36m__init__\u001b[0;34m(self, arg, automargin, customdata, customdatasrc, direction, dlabel, domain, hole, hoverinfo, hoverinfosrc, hoverlabel, hovertemplate, hovertemplatesrc, hovertext, hovertextsrc, ids, idssrc, insidetextfont, insidetextorientation, label0, labels, labelssrc, legendgroup, marker, meta, metasrc, name, opacity, outsidetextfont, pull, pullsrc, rotation, scalegroup, showlegend, sort, stream, text, textfont, textinfo, textposition, textpositionsrc, textsrc, texttemplate, texttemplatesrc, title, titlefont, titleposition, uid, uirevision, values, valuessrc, visible, **kwargs)\u001b[0m\n\u001b[1;32m   2274\u001b[0m         \u001b[0;31m# Process unknown kwargs\u001b[0m\u001b[0;34m\u001b[0m\u001b[0;34m\u001b[0m\u001b[0;34m\u001b[0m\u001b[0m\n\u001b[1;32m   2275\u001b[0m         \u001b[0;31m# ----------------------\u001b[0m\u001b[0;34m\u001b[0m\u001b[0;34m\u001b[0m\u001b[0;34m\u001b[0m\u001b[0m\n\u001b[0;32m-> 2276\u001b[0;31m         \u001b[0mself\u001b[0m\u001b[0;34m.\u001b[0m\u001b[0m_process_kwargs\u001b[0m\u001b[0;34m(\u001b[0m\u001b[0;34m**\u001b[0m\u001b[0mdict\u001b[0m\u001b[0;34m(\u001b[0m\u001b[0marg\u001b[0m\u001b[0;34m,\u001b[0m \u001b[0;34m**\u001b[0m\u001b[0mkwargs\u001b[0m\u001b[0;34m)\u001b[0m\u001b[0;34m)\u001b[0m\u001b[0;34m\u001b[0m\u001b[0;34m\u001b[0m\u001b[0m\n\u001b[0m\u001b[1;32m   2277\u001b[0m \u001b[0;34m\u001b[0m\u001b[0m\n\u001b[1;32m   2278\u001b[0m         \u001b[0;31m# Reset skip_invalid\u001b[0m\u001b[0;34m\u001b[0m\u001b[0;34m\u001b[0m\u001b[0;34m\u001b[0m\u001b[0m\n",
      "\u001b[0;32m~/opt/anaconda3/envs/learn-env/lib/python3.8/site-packages/plotly/basedatatypes.py\u001b[0m in \u001b[0;36m_process_kwargs\u001b[0;34m(self, **kwargs)\u001b[0m\n\u001b[1;32m   3547\u001b[0m \u001b[0;34m\u001b[0m\u001b[0m\n\u001b[1;32m   3548\u001b[0m         \u001b[0;32mif\u001b[0m \u001b[0minvalid_kwargs\u001b[0m \u001b[0;32mand\u001b[0m \u001b[0;32mnot\u001b[0m \u001b[0mself\u001b[0m\u001b[0;34m.\u001b[0m\u001b[0m_skip_invalid\u001b[0m\u001b[0;34m:\u001b[0m\u001b[0;34m\u001b[0m\u001b[0;34m\u001b[0m\u001b[0m\n\u001b[0;32m-> 3549\u001b[0;31m             \u001b[0mself\u001b[0m\u001b[0;34m.\u001b[0m\u001b[0m_raise_on_invalid_property_error\u001b[0m\u001b[0;34m(\u001b[0m\u001b[0;34m*\u001b[0m\u001b[0minvalid_kwargs\u001b[0m\u001b[0;34m.\u001b[0m\u001b[0mkeys\u001b[0m\u001b[0;34m(\u001b[0m\u001b[0;34m)\u001b[0m\u001b[0;34m)\u001b[0m\u001b[0;34m\u001b[0m\u001b[0;34m\u001b[0m\u001b[0m\n\u001b[0m\u001b[1;32m   3550\u001b[0m \u001b[0;34m\u001b[0m\u001b[0m\n\u001b[1;32m   3551\u001b[0m     \u001b[0;34m@\u001b[0m\u001b[0mproperty\u001b[0m\u001b[0;34m\u001b[0m\u001b[0;34m\u001b[0m\u001b[0m\n",
      "\u001b[0;32m~/opt/anaconda3/envs/learn-env/lib/python3.8/site-packages/plotly/basedatatypes.py\u001b[0m in \u001b[0;36m_raise_on_invalid_property_error\u001b[0;34m(self, *args)\u001b[0m\n\u001b[1;32m   4215\u001b[0m                 \u001b[0mfull_obj_name\u001b[0m \u001b[0;34m=\u001b[0m \u001b[0mmodule_root\u001b[0m \u001b[0;34m+\u001b[0m \u001b[0mself\u001b[0m\u001b[0;34m.\u001b[0m\u001b[0m__class__\u001b[0m\u001b[0;34m.\u001b[0m\u001b[0m__name__\u001b[0m\u001b[0;34m\u001b[0m\u001b[0;34m\u001b[0m\u001b[0m\n\u001b[1;32m   4216\u001b[0m \u001b[0;34m\u001b[0m\u001b[0m\n\u001b[0;32m-> 4217\u001b[0;31m             raise ValueError(\n\u001b[0m\u001b[1;32m   4218\u001b[0m                 \u001b[0;34m\"Invalid {prop_str} specified for object of type \"\u001b[0m\u001b[0;34m\u001b[0m\u001b[0;34m\u001b[0m\u001b[0m\n\u001b[1;32m   4219\u001b[0m                 \u001b[0;34m\"{full_obj_name}: {invalid_str}\\n\\n\"\u001b[0m\u001b[0;34m\u001b[0m\u001b[0;34m\u001b[0m\u001b[0m\n",
      "\u001b[0;31mValueError\u001b[0m: Invalid property specified for object of type plotly.graph_objs.Pie: 'names'\n\n    Valid properties:\n        automargin\n            Determines whether outside text labels can push the\n            margins.\n        customdata\n            Assigns extra data each datum. This may be useful when\n            listening to hover, click and selection events. Note\n            that, \"scatter\" traces also appends customdata items in\n            the markers DOM elements\n        customdatasrc\n            Sets the source reference on Chart Studio Cloud for\n            customdata .\n        direction\n            Specifies the direction at which succeeding sectors\n            follow one another.\n        dlabel\n            Sets the label step. See `label0` for more info.\n        domain\n            :class:`plotly.graph_objects.pie.Domain` instance or\n            dict with compatible properties\n        hole\n            Sets the fraction of the radius to cut out of the pie.\n            Use this to make a donut chart.\n        hoverinfo\n            Determines which trace information appear on hover. If\n            `none` or `skip` are set, no information is displayed\n            upon hovering. But, if `none` is set, click and hover\n            events are still fired.\n        hoverinfosrc\n            Sets the source reference on Chart Studio Cloud for\n            hoverinfo .\n        hoverlabel\n            :class:`plotly.graph_objects.pie.Hoverlabel` instance\n            or dict with compatible properties\n        hovertemplate\n            Template string used for rendering the information that\n            appear on hover box. Note that this will override\n            `hoverinfo`. Variables are inserted using %{variable},\n            for example \"y: %{y}\". Numbers are formatted using\n            d3-format's syntax %{variable:d3-format}, for example\n            \"Price: %{y:$.2f}\". https://github.com/d3/d3-3.x-api-\n            reference/blob/master/Formatting.md#d3_format for\n            details on the formatting syntax. Dates are formatted\n            using d3-time-format's syntax %{variable|d3-time-\n            format}, for example \"Day: %{2019-01-01|%A}\".\n            https://github.com/d3/d3-time-format#locale_format for\n            details on the date formatting syntax. The variables\n            available in `hovertemplate` are the ones emitted as\n            event data described at this link\n            https://plotly.com/javascript/plotlyjs-events/#event-\n            data. Additionally, every attributes that can be\n            specified per-point (the ones that are `arrayOk: true`)\n            are available. variables `label`, `color`, `value`,\n            `percent` and `text`. Anything contained in tag\n            `<extra>` is displayed in the secondary box, for\n            example \"<extra>{fullData.name}</extra>\". To hide the\n            secondary box completely, use an empty tag\n            `<extra></extra>`.\n        hovertemplatesrc\n            Sets the source reference on Chart Studio Cloud for\n            hovertemplate .\n        hovertext\n            Sets hover text elements associated with each sector.\n            If a single string, the same string appears for all\n            data points. If an array of string, the items are\n            mapped in order of this trace's sectors. To be seen,\n            trace `hoverinfo` must contain a \"text\" flag.\n        hovertextsrc\n            Sets the source reference on Chart Studio Cloud for\n            hovertext .\n        ids\n            Assigns id labels to each datum. These ids for object\n            constancy of data points during animation. Should be an\n            array of strings, not numbers or any other type.\n        idssrc\n            Sets the source reference on Chart Studio Cloud for\n            ids .\n        insidetextfont\n            Sets the font used for `textinfo` lying inside the\n            sector.\n        insidetextorientation\n            Controls the orientation of the text inside chart\n            sectors. When set to \"auto\", text may be oriented in\n            any direction in order to be as big as possible in the\n            middle of a sector. The \"horizontal\" option orients\n            text to be parallel with the bottom of the chart, and\n            may make text smaller in order to achieve that goal.\n            The \"radial\" option orients text along the radius of\n            the sector. The \"tangential\" option orients text\n            perpendicular to the radius of the sector.\n        label0\n            Alternate to `labels`. Builds a numeric set of labels.\n            Use with `dlabel` where `label0` is the starting label\n            and `dlabel` the step.\n        labels\n            Sets the sector labels. If `labels` entries are\n            duplicated, we sum associated `values` or simply count\n            occurrences if `values` is not provided. For other\n            array attributes (including color) we use the first\n            non-empty entry among all occurrences of the label.\n        labelssrc\n            Sets the source reference on Chart Studio Cloud for\n            labels .\n        legendgroup\n            Sets the legend group for this trace. Traces part of\n            the same legend group hide/show at the same time when\n            toggling legend items.\n        marker\n            :class:`plotly.graph_objects.pie.Marker` instance or\n            dict with compatible properties\n        meta\n            Assigns extra meta information associated with this\n            trace that can be used in various text attributes.\n            Attributes such as trace `name`, graph, axis and\n            colorbar `title.text`, annotation `text`\n            `rangeselector`, `updatemenues` and `sliders` `label`\n            text all support `meta`. To access the trace `meta`\n            values in an attribute in the same trace, simply use\n            `%{meta[i]}` where `i` is the index or key of the\n            `meta` item in question. To access trace `meta` in\n            layout attributes, use `%{data[n[.meta[i]}` where `i`\n            is the index or key of the `meta` and `n` is the trace\n            index.\n        metasrc\n            Sets the source reference on Chart Studio Cloud for\n            meta .\n        name\n            Sets the trace name. The trace name appear as the\n            legend item and on hover.\n        opacity\n            Sets the opacity of the trace.\n        outsidetextfont\n            Sets the font used for `textinfo` lying outside the\n            sector.\n        pull\n            Sets the fraction of larger radius to pull the sectors\n            out from the center. This can be a constant to pull all\n            slices apart from each other equally or an array to\n            highlight one or more slices.\n        pullsrc\n            Sets the source reference on Chart Studio Cloud for\n            pull .\n        rotation\n            Instead of the first slice starting at 12 o'clock,\n            rotate to some other angle.\n        scalegroup\n            If there are multiple pie charts that should be sized\n            according to their totals, link them by providing a\n            non-empty group id here shared by every trace in the\n            same group.\n        showlegend\n            Determines whether or not an item corresponding to this\n            trace is shown in the legend.\n        sort\n            Determines whether or not the sectors are reordered\n            from largest to smallest.\n        stream\n            :class:`plotly.graph_objects.pie.Stream` instance or\n            dict with compatible properties\n        text\n            Sets text elements associated with each sector. If\n            trace `textinfo` contains a \"text\" flag, these elements\n            will be seen on the chart. If trace `hoverinfo`\n            contains a \"text\" flag and \"hovertext\" is not set,\n            these elements will be seen in the hover labels.\n        textfont\n            Sets the font used for `textinfo`.\n        textinfo\n            Determines which trace information appear on the graph.\n        textposition\n            Specifies the location of the `textinfo`.\n        textpositionsrc\n            Sets the source reference on Chart Studio Cloud for\n            textposition .\n        textsrc\n            Sets the source reference on Chart Studio Cloud for\n            text .\n        texttemplate\n            Template string used for rendering the information text\n            that appear on points. Note that this will override\n            `textinfo`. Variables are inserted using %{variable},\n            for example \"y: %{y}\". Numbers are formatted using\n            d3-format's syntax %{variable:d3-format}, for example\n            \"Price: %{y:$.2f}\". https://github.com/d3/d3-3.x-api-\n            reference/blob/master/Formatting.md#d3_format for\n            details on the formatting syntax. Dates are formatted\n            using d3-time-format's syntax %{variable|d3-time-\n            format}, for example \"Day: %{2019-01-01|%A}\".\n            https://github.com/d3/d3-time-format#locale_format for\n            details on the date formatting syntax. Every attributes\n            that can be specified per-point (the ones that are\n            `arrayOk: true`) are available. variables `label`,\n            `color`, `value`, `percent` and `text`.\n        texttemplatesrc\n            Sets the source reference on Chart Studio Cloud for\n            texttemplate .\n        title\n            :class:`plotly.graph_objects.pie.Title` instance or\n            dict with compatible properties\n        titlefont\n            Deprecated: Please use pie.title.font instead. Sets the\n            font used for `title`. Note that the title's font used\n            to be set by the now deprecated `titlefont` attribute.\n        titleposition\n            Deprecated: Please use pie.title.position instead.\n            Specifies the location of the `title`. Note that the\n            title's position used to be set by the now deprecated\n            `titleposition` attribute.\n        uid\n            Assign an id to this trace, Use this to provide object\n            constancy between traces during animations and\n            transitions.\n        uirevision\n            Controls persistence of some user-driven changes to the\n            trace: `constraintrange` in `parcoords` traces, as well\n            as some `editable: true` modifications such as `name`\n            and `colorbar.title`. Defaults to `layout.uirevision`.\n            Note that other user-driven trace attribute changes are\n            controlled by `layout` attributes: `trace.visible` is\n            controlled by `layout.legend.uirevision`,\n            `selectedpoints` is controlled by\n            `layout.selectionrevision`, and `colorbar.(x|y)`\n            (accessible with `config: {editable: true}`) is\n            controlled by `layout.editrevision`. Trace changes are\n            tracked by `uid`, which only falls back on trace index\n            if no `uid` is provided. So if your app can add/remove\n            traces before the end of the `data` array, such that\n            the same trace has a different index, you can still\n            preserve user-driven changes if you give each trace a\n            `uid` that stays with it as it moves.\n        values\n            Sets the values of the sectors. If omitted, we count\n            occurrences of each label.\n        valuessrc\n            Sets the source reference on Chart Studio Cloud for\n            values .\n        visible\n            Determines whether or not this trace is visible. If\n            \"legendonly\", the trace is not drawn, but can appear as\n            a legend item (provided that the legend itself is\n            visible).\n        "
     ]
    }
   ],
   "source": [
    "from plotly.subplots import make_subplots\n",
    "import plotly.graph_objects as go\n",
    "\n",
    "fig = make_subplots(\n",
    "    rows=2, cols=2,\n",
    "    subplot_titles=(\"Apple\", \"Facebook\", \"Google\", \"Microsoft\"))\n",
    "\n",
    "fig.add_trace(go.Pie(values=[1, 2, 3], names=[4, 5, 6])),#,\n",
    "              #row=1, col=1)\n",
    "\n",
    "fig.add_trace(go.Scatter(x=[20, 30, 40], y=[50, 60, 70]),\n",
    "              row=1, col=2)\n",
    "\n",
    "fig.add_trace(go.Scatter(x=[300, 400, 500], y=[600, 700, 800]),\n",
    "              row=2, col=1)\n",
    "\n",
    "fig.add_trace(go.Scatter(x=[4000, 5000, 6000], y=[7000, 8000, 9000]),\n",
    "              row=2, col=2)\n",
    "\n",
    "fig.update_layout(height=500, width=700,\n",
    "                  title_text=\"Multiple Subplots with Titles\")\n",
    "\n",
    "fig.show()"
   ]
  },
  {
   "cell_type": "code",
   "execution_count": null,
   "metadata": {},
   "outputs": [],
   "source": [
    "# apple_sent, facebook_sent, nflx_sent,msft_sent,amzn_sent,google_sent"
   ]
  },
  {
   "cell_type": "code",
   "execution_count": 736,
   "metadata": {
    "ExecuteTime": {
     "end_time": "2021-07-17T23:05:57.752120Z",
     "start_time": "2021-07-17T23:05:57.709048Z"
    }
   },
   "outputs": [
    {
     "data": {
      "application/vnd.plotly.v1+json": {
       "config": {
        "plotlyServerURL": "https://plot.ly"
       },
       "data": [
        {
         "domain": {
          "x": [
           0,
           0.45
          ],
          "y": [
           0.7333333333333333,
           1
          ]
         },
         "hole": 0.4,
         "hoverinfo": "label+percent+name",
         "labels": [
          "Pos",
          "Neu",
          "Neg"
         ],
         "marker": {
          "colors": [
           "Green",
           "Yellow",
           "Red"
          ]
         },
         "type": "pie",
         "values": [
          0.5501716131637392,
          0.30991318392893197,
          0.1399152029073289
         ]
        },
        {
         "domain": {
          "x": [
           0.55,
           1
          ],
          "y": [
           0.7333333333333333,
           1
          ]
         },
         "hole": 0.4,
         "hoverinfo": "label+percent+name",
         "labels": [
          "Pos",
          "Neu",
          "Neg"
         ],
         "marker": {
          "colors": [
           "Green",
           "Yellow",
           "Red"
          ]
         },
         "type": "pie",
         "values": [
          0.4472691161866931,
          0.30566037735849055,
          0.2470705064548163
         ]
        },
        {
         "domain": {
          "x": [
           0,
           0.45
          ],
          "y": [
           0.36666666666666664,
           0.6333333333333333
          ]
         },
         "hole": 0.4,
         "hoverinfo": "label+percent+name",
         "labels": [
          "Pos",
          "Neu",
          "Neg"
         ],
         "marker": {
          "colors": [
           "Green",
           "Yellow",
           "Red"
          ]
         },
         "type": "pie",
         "values": [
          0.5195222783647221,
          0.30684428112080847,
          0.17363344051446947
         ]
        },
        {
         "domain": {
          "x": [
           0.55,
           1
          ],
          "y": [
           0.36666666666666664,
           0.6333333333333333
          ]
         },
         "hole": 0.4,
         "hoverinfo": "label+percent+name",
         "labels": [
          "Pos",
          "Neu",
          "Neg"
         ],
         "marker": {
          "colors": [
           "Green",
           "Yellow",
           "Red"
          ]
         },
         "type": "pie",
         "values": [
          0.5223747016706444,
          0.3460620525059666,
          0.13156324582338902
         ]
        },
        {
         "domain": {
          "x": [
           0,
           0.45
          ],
          "y": [
           0,
           0.26666666666666666
          ]
         },
         "hole": 0.4,
         "hoverinfo": "label+percent+name",
         "labels": [
          "Pos",
          "Neu",
          "Neg"
         ],
         "marker": {
          "colors": [
           "Green",
           "Yellow",
           "Red"
          ]
         },
         "type": "pie",
         "values": [
          0.6381591941536638,
          0.25538218447560734,
          0.10645862137072881
         ]
        },
        {
         "domain": {
          "x": [
           0.55,
           1
          ],
          "y": [
           0,
           0.26666666666666666
          ]
         },
         "hole": 0.4,
         "hoverinfo": "label+percent+name",
         "labels": [
          "Pos",
          "Neu",
          "Neg"
         ],
         "marker": {
          "colors": [
           "Green",
           "Yellow",
           "Red"
          ]
         },
         "type": "pie",
         "values": [
          0.46343581726593713,
          0.34288692027097445,
          0.19367726246308842
         ]
        }
       ],
       "layout": {
        "annotations": [
         {
          "font": {
           "size": 15
          },
          "showarrow": false,
          "text": "Apple",
          "x": 0.185,
          "y": 0.884
         },
         {
          "font": {
           "size": 15
          },
          "showarrow": false,
          "text": "Facebook",
          "x": 0.84,
          "y": 0.88
         },
         {
          "font": {
           "size": 15
          },
          "showarrow": false,
          "text": "Netflix",
          "x": 0.18,
          "y": 0.5
         },
         {
          "font": {
           "size": 15
          },
          "showarrow": false,
          "text": "Microsoft",
          "x": 0.83,
          "y": 0.5
         },
         {
          "font": {
           "size": 15
          },
          "showarrow": false,
          "text": "Amazon",
          "x": 0.175,
          "y": 0.12
         },
         {
          "font": {
           "size": 15
          },
          "showarrow": false,
          "text": "Google",
          "x": 0.825,
          "y": 0.12
         }
        ],
        "height": 1000,
        "template": {
         "data": {
          "bar": [
           {
            "error_x": {
             "color": "#2a3f5f"
            },
            "error_y": {
             "color": "#2a3f5f"
            },
            "marker": {
             "line": {
              "color": "#E5ECF6",
              "width": 0.5
             }
            },
            "type": "bar"
           }
          ],
          "barpolar": [
           {
            "marker": {
             "line": {
              "color": "#E5ECF6",
              "width": 0.5
             }
            },
            "type": "barpolar"
           }
          ],
          "carpet": [
           {
            "aaxis": {
             "endlinecolor": "#2a3f5f",
             "gridcolor": "white",
             "linecolor": "white",
             "minorgridcolor": "white",
             "startlinecolor": "#2a3f5f"
            },
            "baxis": {
             "endlinecolor": "#2a3f5f",
             "gridcolor": "white",
             "linecolor": "white",
             "minorgridcolor": "white",
             "startlinecolor": "#2a3f5f"
            },
            "type": "carpet"
           }
          ],
          "choropleth": [
           {
            "colorbar": {
             "outlinewidth": 0,
             "ticks": ""
            },
            "type": "choropleth"
           }
          ],
          "contour": [
           {
            "colorbar": {
             "outlinewidth": 0,
             "ticks": ""
            },
            "colorscale": [
             [
              0,
              "#0d0887"
             ],
             [
              0.1111111111111111,
              "#46039f"
             ],
             [
              0.2222222222222222,
              "#7201a8"
             ],
             [
              0.3333333333333333,
              "#9c179e"
             ],
             [
              0.4444444444444444,
              "#bd3786"
             ],
             [
              0.5555555555555556,
              "#d8576b"
             ],
             [
              0.6666666666666666,
              "#ed7953"
             ],
             [
              0.7777777777777778,
              "#fb9f3a"
             ],
             [
              0.8888888888888888,
              "#fdca26"
             ],
             [
              1,
              "#f0f921"
             ]
            ],
            "type": "contour"
           }
          ],
          "contourcarpet": [
           {
            "colorbar": {
             "outlinewidth": 0,
             "ticks": ""
            },
            "type": "contourcarpet"
           }
          ],
          "heatmap": [
           {
            "colorbar": {
             "outlinewidth": 0,
             "ticks": ""
            },
            "colorscale": [
             [
              0,
              "#0d0887"
             ],
             [
              0.1111111111111111,
              "#46039f"
             ],
             [
              0.2222222222222222,
              "#7201a8"
             ],
             [
              0.3333333333333333,
              "#9c179e"
             ],
             [
              0.4444444444444444,
              "#bd3786"
             ],
             [
              0.5555555555555556,
              "#d8576b"
             ],
             [
              0.6666666666666666,
              "#ed7953"
             ],
             [
              0.7777777777777778,
              "#fb9f3a"
             ],
             [
              0.8888888888888888,
              "#fdca26"
             ],
             [
              1,
              "#f0f921"
             ]
            ],
            "type": "heatmap"
           }
          ],
          "heatmapgl": [
           {
            "colorbar": {
             "outlinewidth": 0,
             "ticks": ""
            },
            "colorscale": [
             [
              0,
              "#0d0887"
             ],
             [
              0.1111111111111111,
              "#46039f"
             ],
             [
              0.2222222222222222,
              "#7201a8"
             ],
             [
              0.3333333333333333,
              "#9c179e"
             ],
             [
              0.4444444444444444,
              "#bd3786"
             ],
             [
              0.5555555555555556,
              "#d8576b"
             ],
             [
              0.6666666666666666,
              "#ed7953"
             ],
             [
              0.7777777777777778,
              "#fb9f3a"
             ],
             [
              0.8888888888888888,
              "#fdca26"
             ],
             [
              1,
              "#f0f921"
             ]
            ],
            "type": "heatmapgl"
           }
          ],
          "histogram": [
           {
            "marker": {
             "colorbar": {
              "outlinewidth": 0,
              "ticks": ""
             }
            },
            "type": "histogram"
           }
          ],
          "histogram2d": [
           {
            "colorbar": {
             "outlinewidth": 0,
             "ticks": ""
            },
            "colorscale": [
             [
              0,
              "#0d0887"
             ],
             [
              0.1111111111111111,
              "#46039f"
             ],
             [
              0.2222222222222222,
              "#7201a8"
             ],
             [
              0.3333333333333333,
              "#9c179e"
             ],
             [
              0.4444444444444444,
              "#bd3786"
             ],
             [
              0.5555555555555556,
              "#d8576b"
             ],
             [
              0.6666666666666666,
              "#ed7953"
             ],
             [
              0.7777777777777778,
              "#fb9f3a"
             ],
             [
              0.8888888888888888,
              "#fdca26"
             ],
             [
              1,
              "#f0f921"
             ]
            ],
            "type": "histogram2d"
           }
          ],
          "histogram2dcontour": [
           {
            "colorbar": {
             "outlinewidth": 0,
             "ticks": ""
            },
            "colorscale": [
             [
              0,
              "#0d0887"
             ],
             [
              0.1111111111111111,
              "#46039f"
             ],
             [
              0.2222222222222222,
              "#7201a8"
             ],
             [
              0.3333333333333333,
              "#9c179e"
             ],
             [
              0.4444444444444444,
              "#bd3786"
             ],
             [
              0.5555555555555556,
              "#d8576b"
             ],
             [
              0.6666666666666666,
              "#ed7953"
             ],
             [
              0.7777777777777778,
              "#fb9f3a"
             ],
             [
              0.8888888888888888,
              "#fdca26"
             ],
             [
              1,
              "#f0f921"
             ]
            ],
            "type": "histogram2dcontour"
           }
          ],
          "mesh3d": [
           {
            "colorbar": {
             "outlinewidth": 0,
             "ticks": ""
            },
            "type": "mesh3d"
           }
          ],
          "parcoords": [
           {
            "line": {
             "colorbar": {
              "outlinewidth": 0,
              "ticks": ""
             }
            },
            "type": "parcoords"
           }
          ],
          "pie": [
           {
            "automargin": true,
            "type": "pie"
           }
          ],
          "scatter": [
           {
            "marker": {
             "colorbar": {
              "outlinewidth": 0,
              "ticks": ""
             }
            },
            "type": "scatter"
           }
          ],
          "scatter3d": [
           {
            "line": {
             "colorbar": {
              "outlinewidth": 0,
              "ticks": ""
             }
            },
            "marker": {
             "colorbar": {
              "outlinewidth": 0,
              "ticks": ""
             }
            },
            "type": "scatter3d"
           }
          ],
          "scattercarpet": [
           {
            "marker": {
             "colorbar": {
              "outlinewidth": 0,
              "ticks": ""
             }
            },
            "type": "scattercarpet"
           }
          ],
          "scattergeo": [
           {
            "marker": {
             "colorbar": {
              "outlinewidth": 0,
              "ticks": ""
             }
            },
            "type": "scattergeo"
           }
          ],
          "scattergl": [
           {
            "marker": {
             "colorbar": {
              "outlinewidth": 0,
              "ticks": ""
             }
            },
            "type": "scattergl"
           }
          ],
          "scattermapbox": [
           {
            "marker": {
             "colorbar": {
              "outlinewidth": 0,
              "ticks": ""
             }
            },
            "type": "scattermapbox"
           }
          ],
          "scatterpolar": [
           {
            "marker": {
             "colorbar": {
              "outlinewidth": 0,
              "ticks": ""
             }
            },
            "type": "scatterpolar"
           }
          ],
          "scatterpolargl": [
           {
            "marker": {
             "colorbar": {
              "outlinewidth": 0,
              "ticks": ""
             }
            },
            "type": "scatterpolargl"
           }
          ],
          "scatterternary": [
           {
            "marker": {
             "colorbar": {
              "outlinewidth": 0,
              "ticks": ""
             }
            },
            "type": "scatterternary"
           }
          ],
          "surface": [
           {
            "colorbar": {
             "outlinewidth": 0,
             "ticks": ""
            },
            "colorscale": [
             [
              0,
              "#0d0887"
             ],
             [
              0.1111111111111111,
              "#46039f"
             ],
             [
              0.2222222222222222,
              "#7201a8"
             ],
             [
              0.3333333333333333,
              "#9c179e"
             ],
             [
              0.4444444444444444,
              "#bd3786"
             ],
             [
              0.5555555555555556,
              "#d8576b"
             ],
             [
              0.6666666666666666,
              "#ed7953"
             ],
             [
              0.7777777777777778,
              "#fb9f3a"
             ],
             [
              0.8888888888888888,
              "#fdca26"
             ],
             [
              1,
              "#f0f921"
             ]
            ],
            "type": "surface"
           }
          ],
          "table": [
           {
            "cells": {
             "fill": {
              "color": "#EBF0F8"
             },
             "line": {
              "color": "white"
             }
            },
            "header": {
             "fill": {
              "color": "#C8D4E3"
             },
             "line": {
              "color": "white"
             }
            },
            "type": "table"
           }
          ]
         },
         "layout": {
          "annotationdefaults": {
           "arrowcolor": "#2a3f5f",
           "arrowhead": 0,
           "arrowwidth": 1
          },
          "coloraxis": {
           "colorbar": {
            "outlinewidth": 0,
            "ticks": ""
           }
          },
          "colorscale": {
           "diverging": [
            [
             0,
             "#8e0152"
            ],
            [
             0.1,
             "#c51b7d"
            ],
            [
             0.2,
             "#de77ae"
            ],
            [
             0.3,
             "#f1b6da"
            ],
            [
             0.4,
             "#fde0ef"
            ],
            [
             0.5,
             "#f7f7f7"
            ],
            [
             0.6,
             "#e6f5d0"
            ],
            [
             0.7,
             "#b8e186"
            ],
            [
             0.8,
             "#7fbc41"
            ],
            [
             0.9,
             "#4d9221"
            ],
            [
             1,
             "#276419"
            ]
           ],
           "sequential": [
            [
             0,
             "#0d0887"
            ],
            [
             0.1111111111111111,
             "#46039f"
            ],
            [
             0.2222222222222222,
             "#7201a8"
            ],
            [
             0.3333333333333333,
             "#9c179e"
            ],
            [
             0.4444444444444444,
             "#bd3786"
            ],
            [
             0.5555555555555556,
             "#d8576b"
            ],
            [
             0.6666666666666666,
             "#ed7953"
            ],
            [
             0.7777777777777778,
             "#fb9f3a"
            ],
            [
             0.8888888888888888,
             "#fdca26"
            ],
            [
             1,
             "#f0f921"
            ]
           ],
           "sequentialminus": [
            [
             0,
             "#0d0887"
            ],
            [
             0.1111111111111111,
             "#46039f"
            ],
            [
             0.2222222222222222,
             "#7201a8"
            ],
            [
             0.3333333333333333,
             "#9c179e"
            ],
            [
             0.4444444444444444,
             "#bd3786"
            ],
            [
             0.5555555555555556,
             "#d8576b"
            ],
            [
             0.6666666666666666,
             "#ed7953"
            ],
            [
             0.7777777777777778,
             "#fb9f3a"
            ],
            [
             0.8888888888888888,
             "#fdca26"
            ],
            [
             1,
             "#f0f921"
            ]
           ]
          },
          "colorway": [
           "#636efa",
           "#EF553B",
           "#00cc96",
           "#ab63fa",
           "#FFA15A",
           "#19d3f3",
           "#FF6692",
           "#B6E880",
           "#FF97FF",
           "#FECB52"
          ],
          "font": {
           "color": "#2a3f5f"
          },
          "geo": {
           "bgcolor": "white",
           "lakecolor": "white",
           "landcolor": "#E5ECF6",
           "showlakes": true,
           "showland": true,
           "subunitcolor": "white"
          },
          "hoverlabel": {
           "align": "left"
          },
          "hovermode": "closest",
          "mapbox": {
           "style": "light"
          },
          "paper_bgcolor": "white",
          "plot_bgcolor": "#E5ECF6",
          "polar": {
           "angularaxis": {
            "gridcolor": "white",
            "linecolor": "white",
            "ticks": ""
           },
           "bgcolor": "#E5ECF6",
           "radialaxis": {
            "gridcolor": "white",
            "linecolor": "white",
            "ticks": ""
           }
          },
          "scene": {
           "xaxis": {
            "backgroundcolor": "#E5ECF6",
            "gridcolor": "white",
            "gridwidth": 2,
            "linecolor": "white",
            "showbackground": true,
            "ticks": "",
            "zerolinecolor": "white"
           },
           "yaxis": {
            "backgroundcolor": "#E5ECF6",
            "gridcolor": "white",
            "gridwidth": 2,
            "linecolor": "white",
            "showbackground": true,
            "ticks": "",
            "zerolinecolor": "white"
           },
           "zaxis": {
            "backgroundcolor": "#E5ECF6",
            "gridcolor": "white",
            "gridwidth": 2,
            "linecolor": "white",
            "showbackground": true,
            "ticks": "",
            "zerolinecolor": "white"
           }
          },
          "shapedefaults": {
           "line": {
            "color": "#2a3f5f"
           }
          },
          "ternary": {
           "aaxis": {
            "gridcolor": "white",
            "linecolor": "white",
            "ticks": ""
           },
           "baxis": {
            "gridcolor": "white",
            "linecolor": "white",
            "ticks": ""
           },
           "bgcolor": "#E5ECF6",
           "caxis": {
            "gridcolor": "white",
            "linecolor": "white",
            "ticks": ""
           }
          },
          "title": {
           "x": 0.05
          },
          "xaxis": {
           "automargin": true,
           "gridcolor": "white",
           "linecolor": "white",
           "ticks": "",
           "title": {
            "standoff": 15
           },
           "zerolinecolor": "white",
           "zerolinewidth": 2
          },
          "yaxis": {
           "automargin": true,
           "gridcolor": "white",
           "linecolor": "white",
           "ticks": "",
           "title": {
            "standoff": 15
           },
           "zerolinecolor": "white",
           "zerolinewidth": 2
          }
         }
        },
        "title": {
         "text": "Newsheadline Sentiment",
         "x": 0.5
        },
        "width": 800
       }
      },
      "text/html": [
       "<div>                            <div id=\"eec89ce4-b061-4ce8-a664-82f7899e4699\" class=\"plotly-graph-div\" style=\"height:1000px; width:800px;\"></div>            <script type=\"text/javascript\">                require([\"plotly\"], function(Plotly) {                    window.PLOTLYENV=window.PLOTLYENV || {};                                    if (document.getElementById(\"eec89ce4-b061-4ce8-a664-82f7899e4699\")) {                    Plotly.newPlot(                        \"eec89ce4-b061-4ce8-a664-82f7899e4699\",                        [{\"domain\": {\"x\": [0.0, 0.45], \"y\": [0.7333333333333333, 1.0]}, \"hole\": 0.4, \"hoverinfo\": \"label+percent+name\", \"labels\": [\"Pos\", \"Neu\", \"Neg\"], \"marker\": {\"colors\": [\"Green\", \"Yellow\", \"Red\"]}, \"type\": \"pie\", \"values\": [0.5501716131637392, 0.30991318392893197, 0.1399152029073289]}, {\"domain\": {\"x\": [0.55, 1.0], \"y\": [0.7333333333333333, 1.0]}, \"hole\": 0.4, \"hoverinfo\": \"label+percent+name\", \"labels\": [\"Pos\", \"Neu\", \"Neg\"], \"marker\": {\"colors\": [\"Green\", \"Yellow\", \"Red\"]}, \"type\": \"pie\", \"values\": [0.4472691161866931, 0.30566037735849055, 0.2470705064548163]}, {\"domain\": {\"x\": [0.0, 0.45], \"y\": [0.36666666666666664, 0.6333333333333333]}, \"hole\": 0.4, \"hoverinfo\": \"label+percent+name\", \"labels\": [\"Pos\", \"Neu\", \"Neg\"], \"marker\": {\"colors\": [\"Green\", \"Yellow\", \"Red\"]}, \"type\": \"pie\", \"values\": [0.5195222783647221, 0.30684428112080847, 0.17363344051446947]}, {\"domain\": {\"x\": [0.55, 1.0], \"y\": [0.36666666666666664, 0.6333333333333333]}, \"hole\": 0.4, \"hoverinfo\": \"label+percent+name\", \"labels\": [\"Pos\", \"Neu\", \"Neg\"], \"marker\": {\"colors\": [\"Green\", \"Yellow\", \"Red\"]}, \"type\": \"pie\", \"values\": [0.5223747016706444, 0.3460620525059666, 0.13156324582338902]}, {\"domain\": {\"x\": [0.0, 0.45], \"y\": [0.0, 0.26666666666666666]}, \"hole\": 0.4, \"hoverinfo\": \"label+percent+name\", \"labels\": [\"Pos\", \"Neu\", \"Neg\"], \"marker\": {\"colors\": [\"Green\", \"Yellow\", \"Red\"]}, \"type\": \"pie\", \"values\": [0.6381591941536638, 0.25538218447560734, 0.10645862137072881]}, {\"domain\": {\"x\": [0.55, 1.0], \"y\": [0.0, 0.26666666666666666]}, \"hole\": 0.4, \"hoverinfo\": \"label+percent+name\", \"labels\": [\"Pos\", \"Neu\", \"Neg\"], \"marker\": {\"colors\": [\"Green\", \"Yellow\", \"Red\"]}, \"type\": \"pie\", \"values\": [0.46343581726593713, 0.34288692027097445, 0.19367726246308842]}],                        {\"annotations\": [{\"font\": {\"size\": 15}, \"showarrow\": false, \"text\": \"Apple\", \"x\": 0.185, \"y\": 0.884}, {\"font\": {\"size\": 15}, \"showarrow\": false, \"text\": \"Facebook\", \"x\": 0.84, \"y\": 0.88}, {\"font\": {\"size\": 15}, \"showarrow\": false, \"text\": \"Netflix\", \"x\": 0.18, \"y\": 0.5}, {\"font\": {\"size\": 15}, \"showarrow\": false, \"text\": \"Microsoft\", \"x\": 0.83, \"y\": 0.5}, {\"font\": {\"size\": 15}, \"showarrow\": false, \"text\": \"Amazon\", \"x\": 0.175, \"y\": 0.12}, {\"font\": {\"size\": 15}, \"showarrow\": false, \"text\": \"Google\", \"x\": 0.825, \"y\": 0.12}], \"height\": 1000, \"template\": {\"data\": {\"bar\": [{\"error_x\": {\"color\": \"#2a3f5f\"}, \"error_y\": {\"color\": \"#2a3f5f\"}, \"marker\": {\"line\": {\"color\": \"#E5ECF6\", \"width\": 0.5}}, \"type\": \"bar\"}], \"barpolar\": [{\"marker\": {\"line\": {\"color\": \"#E5ECF6\", \"width\": 0.5}}, \"type\": \"barpolar\"}], \"carpet\": [{\"aaxis\": {\"endlinecolor\": \"#2a3f5f\", \"gridcolor\": \"white\", \"linecolor\": \"white\", \"minorgridcolor\": \"white\", \"startlinecolor\": \"#2a3f5f\"}, \"baxis\": {\"endlinecolor\": \"#2a3f5f\", \"gridcolor\": \"white\", \"linecolor\": \"white\", \"minorgridcolor\": \"white\", \"startlinecolor\": \"#2a3f5f\"}, \"type\": \"carpet\"}], \"choropleth\": [{\"colorbar\": {\"outlinewidth\": 0, \"ticks\": \"\"}, \"type\": \"choropleth\"}], \"contour\": [{\"colorbar\": {\"outlinewidth\": 0, \"ticks\": \"\"}, \"colorscale\": [[0.0, \"#0d0887\"], [0.1111111111111111, \"#46039f\"], [0.2222222222222222, \"#7201a8\"], [0.3333333333333333, \"#9c179e\"], [0.4444444444444444, \"#bd3786\"], [0.5555555555555556, \"#d8576b\"], [0.6666666666666666, \"#ed7953\"], [0.7777777777777778, \"#fb9f3a\"], [0.8888888888888888, \"#fdca26\"], [1.0, \"#f0f921\"]], \"type\": \"contour\"}], \"contourcarpet\": [{\"colorbar\": {\"outlinewidth\": 0, \"ticks\": \"\"}, \"type\": \"contourcarpet\"}], \"heatmap\": [{\"colorbar\": {\"outlinewidth\": 0, \"ticks\": \"\"}, \"colorscale\": [[0.0, \"#0d0887\"], [0.1111111111111111, \"#46039f\"], [0.2222222222222222, \"#7201a8\"], [0.3333333333333333, \"#9c179e\"], [0.4444444444444444, \"#bd3786\"], [0.5555555555555556, \"#d8576b\"], [0.6666666666666666, \"#ed7953\"], [0.7777777777777778, \"#fb9f3a\"], [0.8888888888888888, \"#fdca26\"], [1.0, \"#f0f921\"]], \"type\": \"heatmap\"}], \"heatmapgl\": [{\"colorbar\": {\"outlinewidth\": 0, \"ticks\": \"\"}, \"colorscale\": [[0.0, \"#0d0887\"], [0.1111111111111111, \"#46039f\"], [0.2222222222222222, \"#7201a8\"], [0.3333333333333333, \"#9c179e\"], [0.4444444444444444, \"#bd3786\"], [0.5555555555555556, \"#d8576b\"], [0.6666666666666666, \"#ed7953\"], [0.7777777777777778, \"#fb9f3a\"], [0.8888888888888888, \"#fdca26\"], [1.0, \"#f0f921\"]], \"type\": \"heatmapgl\"}], \"histogram\": [{\"marker\": {\"colorbar\": {\"outlinewidth\": 0, \"ticks\": \"\"}}, \"type\": \"histogram\"}], \"histogram2d\": [{\"colorbar\": {\"outlinewidth\": 0, \"ticks\": \"\"}, \"colorscale\": [[0.0, \"#0d0887\"], [0.1111111111111111, \"#46039f\"], [0.2222222222222222, \"#7201a8\"], [0.3333333333333333, \"#9c179e\"], [0.4444444444444444, \"#bd3786\"], [0.5555555555555556, \"#d8576b\"], [0.6666666666666666, \"#ed7953\"], [0.7777777777777778, \"#fb9f3a\"], [0.8888888888888888, \"#fdca26\"], [1.0, \"#f0f921\"]], \"type\": \"histogram2d\"}], \"histogram2dcontour\": [{\"colorbar\": {\"outlinewidth\": 0, \"ticks\": \"\"}, \"colorscale\": [[0.0, \"#0d0887\"], [0.1111111111111111, \"#46039f\"], [0.2222222222222222, \"#7201a8\"], [0.3333333333333333, \"#9c179e\"], [0.4444444444444444, \"#bd3786\"], [0.5555555555555556, \"#d8576b\"], [0.6666666666666666, \"#ed7953\"], [0.7777777777777778, \"#fb9f3a\"], [0.8888888888888888, \"#fdca26\"], [1.0, \"#f0f921\"]], \"type\": \"histogram2dcontour\"}], \"mesh3d\": [{\"colorbar\": {\"outlinewidth\": 0, \"ticks\": \"\"}, \"type\": \"mesh3d\"}], \"parcoords\": [{\"line\": {\"colorbar\": {\"outlinewidth\": 0, \"ticks\": \"\"}}, \"type\": \"parcoords\"}], \"pie\": [{\"automargin\": true, \"type\": \"pie\"}], \"scatter\": [{\"marker\": {\"colorbar\": {\"outlinewidth\": 0, \"ticks\": \"\"}}, \"type\": \"scatter\"}], \"scatter3d\": [{\"line\": {\"colorbar\": {\"outlinewidth\": 0, \"ticks\": \"\"}}, \"marker\": {\"colorbar\": {\"outlinewidth\": 0, \"ticks\": \"\"}}, \"type\": \"scatter3d\"}], \"scattercarpet\": [{\"marker\": {\"colorbar\": {\"outlinewidth\": 0, \"ticks\": \"\"}}, \"type\": \"scattercarpet\"}], \"scattergeo\": [{\"marker\": {\"colorbar\": {\"outlinewidth\": 0, \"ticks\": \"\"}}, \"type\": \"scattergeo\"}], \"scattergl\": [{\"marker\": {\"colorbar\": {\"outlinewidth\": 0, \"ticks\": \"\"}}, \"type\": \"scattergl\"}], \"scattermapbox\": [{\"marker\": {\"colorbar\": {\"outlinewidth\": 0, \"ticks\": \"\"}}, \"type\": \"scattermapbox\"}], \"scatterpolar\": [{\"marker\": {\"colorbar\": {\"outlinewidth\": 0, \"ticks\": \"\"}}, \"type\": \"scatterpolar\"}], \"scatterpolargl\": [{\"marker\": {\"colorbar\": {\"outlinewidth\": 0, \"ticks\": \"\"}}, \"type\": \"scatterpolargl\"}], \"scatterternary\": [{\"marker\": {\"colorbar\": {\"outlinewidth\": 0, \"ticks\": \"\"}}, \"type\": \"scatterternary\"}], \"surface\": [{\"colorbar\": {\"outlinewidth\": 0, \"ticks\": \"\"}, \"colorscale\": [[0.0, \"#0d0887\"], [0.1111111111111111, \"#46039f\"], [0.2222222222222222, \"#7201a8\"], [0.3333333333333333, \"#9c179e\"], [0.4444444444444444, \"#bd3786\"], [0.5555555555555556, \"#d8576b\"], [0.6666666666666666, \"#ed7953\"], [0.7777777777777778, \"#fb9f3a\"], [0.8888888888888888, \"#fdca26\"], [1.0, \"#f0f921\"]], \"type\": \"surface\"}], \"table\": [{\"cells\": {\"fill\": {\"color\": \"#EBF0F8\"}, \"line\": {\"color\": \"white\"}}, \"header\": {\"fill\": {\"color\": \"#C8D4E3\"}, \"line\": {\"color\": \"white\"}}, \"type\": \"table\"}]}, \"layout\": {\"annotationdefaults\": {\"arrowcolor\": \"#2a3f5f\", \"arrowhead\": 0, \"arrowwidth\": 1}, \"coloraxis\": {\"colorbar\": {\"outlinewidth\": 0, \"ticks\": \"\"}}, \"colorscale\": {\"diverging\": [[0, \"#8e0152\"], [0.1, \"#c51b7d\"], [0.2, \"#de77ae\"], [0.3, \"#f1b6da\"], [0.4, \"#fde0ef\"], [0.5, \"#f7f7f7\"], [0.6, \"#e6f5d0\"], [0.7, \"#b8e186\"], [0.8, \"#7fbc41\"], [0.9, \"#4d9221\"], [1, \"#276419\"]], \"sequential\": [[0.0, \"#0d0887\"], [0.1111111111111111, \"#46039f\"], [0.2222222222222222, \"#7201a8\"], [0.3333333333333333, \"#9c179e\"], [0.4444444444444444, \"#bd3786\"], [0.5555555555555556, \"#d8576b\"], [0.6666666666666666, \"#ed7953\"], [0.7777777777777778, \"#fb9f3a\"], [0.8888888888888888, \"#fdca26\"], [1.0, \"#f0f921\"]], \"sequentialminus\": [[0.0, \"#0d0887\"], [0.1111111111111111, \"#46039f\"], [0.2222222222222222, \"#7201a8\"], [0.3333333333333333, \"#9c179e\"], [0.4444444444444444, \"#bd3786\"], [0.5555555555555556, \"#d8576b\"], [0.6666666666666666, \"#ed7953\"], [0.7777777777777778, \"#fb9f3a\"], [0.8888888888888888, \"#fdca26\"], [1.0, \"#f0f921\"]]}, \"colorway\": [\"#636efa\", \"#EF553B\", \"#00cc96\", \"#ab63fa\", \"#FFA15A\", \"#19d3f3\", \"#FF6692\", \"#B6E880\", \"#FF97FF\", \"#FECB52\"], \"font\": {\"color\": \"#2a3f5f\"}, \"geo\": {\"bgcolor\": \"white\", \"lakecolor\": \"white\", \"landcolor\": \"#E5ECF6\", \"showlakes\": true, \"showland\": true, \"subunitcolor\": \"white\"}, \"hoverlabel\": {\"align\": \"left\"}, \"hovermode\": \"closest\", \"mapbox\": {\"style\": \"light\"}, \"paper_bgcolor\": \"white\", \"plot_bgcolor\": \"#E5ECF6\", \"polar\": {\"angularaxis\": {\"gridcolor\": \"white\", \"linecolor\": \"white\", \"ticks\": \"\"}, \"bgcolor\": \"#E5ECF6\", \"radialaxis\": {\"gridcolor\": \"white\", \"linecolor\": \"white\", \"ticks\": \"\"}}, \"scene\": {\"xaxis\": {\"backgroundcolor\": \"#E5ECF6\", \"gridcolor\": \"white\", \"gridwidth\": 2, \"linecolor\": \"white\", \"showbackground\": true, \"ticks\": \"\", \"zerolinecolor\": \"white\"}, \"yaxis\": {\"backgroundcolor\": \"#E5ECF6\", \"gridcolor\": \"white\", \"gridwidth\": 2, \"linecolor\": \"white\", \"showbackground\": true, \"ticks\": \"\", \"zerolinecolor\": \"white\"}, \"zaxis\": {\"backgroundcolor\": \"#E5ECF6\", \"gridcolor\": \"white\", \"gridwidth\": 2, \"linecolor\": \"white\", \"showbackground\": true, \"ticks\": \"\", \"zerolinecolor\": \"white\"}}, \"shapedefaults\": {\"line\": {\"color\": \"#2a3f5f\"}}, \"ternary\": {\"aaxis\": {\"gridcolor\": \"white\", \"linecolor\": \"white\", \"ticks\": \"\"}, \"baxis\": {\"gridcolor\": \"white\", \"linecolor\": \"white\", \"ticks\": \"\"}, \"bgcolor\": \"#E5ECF6\", \"caxis\": {\"gridcolor\": \"white\", \"linecolor\": \"white\", \"ticks\": \"\"}}, \"title\": {\"x\": 0.05}, \"xaxis\": {\"automargin\": true, \"gridcolor\": \"white\", \"linecolor\": \"white\", \"ticks\": \"\", \"title\": {\"standoff\": 15}, \"zerolinecolor\": \"white\", \"zerolinewidth\": 2}, \"yaxis\": {\"automargin\": true, \"gridcolor\": \"white\", \"linecolor\": \"white\", \"ticks\": \"\", \"title\": {\"standoff\": 15}, \"zerolinecolor\": \"white\", \"zerolinewidth\": 2}}}, \"title\": {\"text\": \"Newsheadline Sentiment\", \"x\": 0.5}, \"width\": 800},                        {\"responsive\": true}                    ).then(function(){\n",
       "                            \n",
       "var gd = document.getElementById('eec89ce4-b061-4ce8-a664-82f7899e4699');\n",
       "var x = new MutationObserver(function (mutations, observer) {{\n",
       "        var display = window.getComputedStyle(gd).display;\n",
       "        if (!display || display === 'none') {{\n",
       "            console.log([gd, 'removed!']);\n",
       "            Plotly.purge(gd);\n",
       "            observer.disconnect();\n",
       "        }}\n",
       "}});\n",
       "\n",
       "// Listen for the removal of the full notebook cells\n",
       "var notebookContainer = gd.closest('#notebook-container');\n",
       "if (notebookContainer) {{\n",
       "    x.observe(notebookContainer, {childList: true});\n",
       "}}\n",
       "\n",
       "// Listen for the clearing of the current output cell\n",
       "var outputEl = gd.closest('.output');\n",
       "if (outputEl) {{\n",
       "    x.observe(outputEl, {childList: true});\n",
       "}}\n",
       "\n",
       "                        })                };                });            </script>        </div>"
      ]
     },
     "metadata": {},
     "output_type": "display_data"
    }
   ],
   "source": [
    "import plotly.graph_objects as go\n",
    "from plotly.subplots import make_subplots\n",
    "\n",
    "labels = [\"Pos\", \"Neu\", \"Neg\"]\n",
    "colors = ['Green', 'Yellow', 'Red']\n",
    "\n",
    "\n",
    "# Create subplots: use 'domain' type for Pie subplot\n",
    "fig = make_subplots(rows=3, cols=2, specs=[[{'type':'domain'}, {'type':'domain'}],\n",
    "                                           [{'type':'domain'}, {'type':'domain'}],\n",
    "                                           [{'type':'domain'}, {'type':'domain'}]])\n",
    "\n",
    "fig.add_trace(go.Pie(labels=labels, values=apple_sent.values),\n",
    "              1, 1)\n",
    "fig.add_trace(go.Pie(labels=labels, values=facebook_sent.values),\n",
    "              1, 2)\n",
    "\n",
    "fig.add_trace(go.Pie(labels=labels, values=nflx_sent.values),\n",
    "              2, 1)\n",
    "\n",
    "fig.add_trace(go.Pie(labels=labels, values=msft_sent.values),\n",
    "              2, 2)\n",
    "\n",
    "fig.add_trace(go.Pie(labels=labels, values=amzn_sent.values),\n",
    "              3, 1)\n",
    "\n",
    "fig.add_trace(go.Pie(labels=labels, values=google_sent.values),\n",
    "              3, 2)\n",
    "\n",
    "# Use `hole` to create a donut-like pie chart\n",
    "fig.update_traces(hole=.4, hoverinfo=\"label+percent+name\", marker=dict(colors=colors))\n",
    "\n",
    "fig.update_layout( width=800,\n",
    "    height=1000,\n",
    "    \n",
    "    title_text=\"Newsheadline Sentiment\", title_x=0.5,\n",
    "    # Add annotations in the center of the donut pies.\n",
    "    annotations=[dict(text='Apple', x=0.185, y=0.884, font_size=15, showarrow=False),\n",
    "                 dict(text='Facebook', x=0.84, y=0.88, font_size=15, showarrow=False),\n",
    "                 dict(text='Netflix', x=0.18, y=0.5, font_size=15, showarrow=False),\n",
    "                 dict(text='Microsoft', x=0.83, y=0.5, font_size=15, showarrow=False),\n",
    "                 dict(text='Amazon', x=0.175, y=0.12, font_size=15, showarrow=False),\n",
    "                 dict(text='Google', x=0.825, y=0.12, font_size=15, showarrow=False)])\n",
    "fig.show()"
   ]
  },
  {
   "cell_type": "code",
   "execution_count": 738,
   "metadata": {
    "ExecuteTime": {
     "end_time": "2021-07-18T03:10:40.541556Z",
     "start_time": "2021-07-18T03:10:39.901533Z"
    }
   },
   "outputs": [],
   "source": [
    "from wordcloud import WordCloud"
   ]
  },
  {
   "cell_type": "code",
   "execution_count": null,
   "metadata": {},
   "outputs": [],
   "source": []
  }
 ],
 "metadata": {
  "kernelspec": {
   "display_name": "learn-env",
   "language": "python",
   "name": "learn-env"
  },
  "language_info": {
   "codemirror_mode": {
    "name": "ipython",
    "version": 3
   },
   "file_extension": ".py",
   "mimetype": "text/x-python",
   "name": "python",
   "nbconvert_exporter": "python",
   "pygments_lexer": "ipython3",
   "version": "3.8.5"
  },
  "toc": {
   "base_numbering": 1,
   "nav_menu": {},
   "number_sections": true,
   "sideBar": true,
   "skip_h1_title": false,
   "title_cell": "Table of Contents",
   "title_sidebar": "Contents",
   "toc_cell": false,
   "toc_position": {},
   "toc_section_display": true,
   "toc_window_display": true
  }
 },
 "nbformat": 4,
 "nbformat_minor": 4
}
