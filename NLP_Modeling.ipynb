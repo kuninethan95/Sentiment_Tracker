{
  "nbformat": 4,
  "nbformat_minor": 0,
  "metadata": {
    "colab": {
      "name": "NLP Modeling.ipynb",
      "provenance": [],
      "collapsed_sections": [],
      "toc_visible": true,
      "mount_file_id": "1XAtv6N-m7oH2PjpBfKSYK_Ec4uLMs-RP",
      "authorship_tag": "ABX9TyNC8RyzIzpxY5IBt+X0uNsi",
      "include_colab_link": true
    },
    "kernelspec": {
      "name": "python3",
      "display_name": "Python 3"
    },
    "language_info": {
      "name": "python"
    },
    "accelerator": "TPU"
  },
  "cells": [
    {
      "cell_type": "markdown",
      "metadata": {
        "id": "view-in-github",
        "colab_type": "text"
      },
      "source": [
        "<a href=\"https://colab.research.google.com/github/kuninethan95/Sentiment_Tracker/blob/main/NLP_Modeling.ipynb\" target=\"_parent\"><img src=\"https://colab.research.google.com/assets/colab-badge.svg\" alt=\"Open In Colab\"/></a>"
      ]
    },
    {
      "cell_type": "markdown",
      "metadata": {
        "id": "OQ-jnsGEUVIN"
      },
      "source": [
        "# Building NLP Sentiment Model"
      ]
    },
    {
      "cell_type": "code",
      "metadata": {
        "id": "uz3pQB8TsrKC"
      },
      "source": [
        "import pandas as pd"
      ],
      "execution_count": 5,
      "outputs": []
    },
    {
      "cell_type": "code",
      "metadata": {
        "id": "dpWkCbWrsvkk"
      },
      "source": [
        "df = pd.read_csv('/content/drive/MyDrive/Colab Notebooks/all-data.csv', engine='python', header=None)"
      ],
      "execution_count": 6,
      "outputs": []
    },
    {
      "cell_type": "code",
      "metadata": {
        "colab": {
          "base_uri": "https://localhost:8080/"
        },
        "id": "WhgXFokesxC1",
        "outputId": "389d0036-17df-4669-9c8c-79bb316f1309"
      },
      "source": [
        "import nltk\n",
        "nltk.download('vader_lexicon')\n",
        "from nltk.sentiment.vader import SentimentIntensityAnalyzer"
      ],
      "execution_count": 7,
      "outputs": [
        {
          "output_type": "stream",
          "text": [
            "[nltk_data] Downloading package vader_lexicon to /root/nltk_data...\n"
          ],
          "name": "stdout"
        },
        {
          "output_type": "stream",
          "text": [
            "/usr/local/lib/python3.7/dist-packages/nltk/twitter/__init__.py:20: UserWarning: The twython library has not been installed. Some functionality from the twitter package will not be available.\n",
            "  warnings.warn(\"The twython library has not been installed. \"\n"
          ],
          "name": "stderr"
        }
      ]
    },
    {
      "cell_type": "code",
      "metadata": {
        "id": "yFjAjpLUs-gQ"
      },
      "source": [
        "# Rename columns\n",
        "\n",
        "df.columns = ['sentiment', 'headline']"
      ],
      "execution_count": 8,
      "outputs": []
    },
    {
      "cell_type": "code",
      "metadata": {
        "colab": {
          "base_uri": "https://localhost:8080/",
          "height": 204
        },
        "id": "LX7QLH4ZtCwY",
        "outputId": "adf90bd5-8718-433d-f0e5-eeb8c7d236de"
      },
      "source": [
        "df.head()"
      ],
      "execution_count": 9,
      "outputs": [
        {
          "output_type": "execute_result",
          "data": {
            "text/html": [
              "<div>\n",
              "<style scoped>\n",
              "    .dataframe tbody tr th:only-of-type {\n",
              "        vertical-align: middle;\n",
              "    }\n",
              "\n",
              "    .dataframe tbody tr th {\n",
              "        vertical-align: top;\n",
              "    }\n",
              "\n",
              "    .dataframe thead th {\n",
              "        text-align: right;\n",
              "    }\n",
              "</style>\n",
              "<table border=\"1\" class=\"dataframe\">\n",
              "  <thead>\n",
              "    <tr style=\"text-align: right;\">\n",
              "      <th></th>\n",
              "      <th>sentiment</th>\n",
              "      <th>headline</th>\n",
              "    </tr>\n",
              "  </thead>\n",
              "  <tbody>\n",
              "    <tr>\n",
              "      <th>0</th>\n",
              "      <td>neutral</td>\n",
              "      <td>According to Gran , the company has no plans t...</td>\n",
              "    </tr>\n",
              "    <tr>\n",
              "      <th>1</th>\n",
              "      <td>neutral</td>\n",
              "      <td>Technopolis plans to develop in stages an area...</td>\n",
              "    </tr>\n",
              "    <tr>\n",
              "      <th>2</th>\n",
              "      <td>negative</td>\n",
              "      <td>The international electronic industry company ...</td>\n",
              "    </tr>\n",
              "    <tr>\n",
              "      <th>3</th>\n",
              "      <td>positive</td>\n",
              "      <td>With the new production plant the company woul...</td>\n",
              "    </tr>\n",
              "    <tr>\n",
              "      <th>4</th>\n",
              "      <td>positive</td>\n",
              "      <td>According to the company 's updated strategy f...</td>\n",
              "    </tr>\n",
              "  </tbody>\n",
              "</table>\n",
              "</div>"
            ],
            "text/plain": [
              "  sentiment                                           headline\n",
              "0   neutral  According to Gran , the company has no plans t...\n",
              "1   neutral  Technopolis plans to develop in stages an area...\n",
              "2  negative  The international electronic industry company ...\n",
              "3  positive  With the new production plant the company woul...\n",
              "4  positive  According to the company 's updated strategy f..."
            ]
          },
          "metadata": {
            "tags": []
          },
          "execution_count": 9
        }
      ]
    },
    {
      "cell_type": "code",
      "metadata": {
        "id": "BuAvfDultISo"
      },
      "source": [
        "# Map sentiment analysis\n",
        "\n",
        "df['sentiment']=df['sentiment'].map({'neutral':0,\n",
        "                     'positive':1,\n",
        "                     'negative':-1})"
      ],
      "execution_count": 10,
      "outputs": []
    },
    {
      "cell_type": "code",
      "metadata": {
        "id": "G_fKJeFktMea"
      },
      "source": [
        "df['headline'].drop_duplicates(inplace=True)"
      ],
      "execution_count": 11,
      "outputs": []
    },
    {
      "cell_type": "code",
      "metadata": {
        "colab": {
          "base_uri": "https://localhost:8080/",
          "height": 204
        },
        "id": "dVqIBQNXtQin",
        "outputId": "0976062f-3bdb-4344-d529-f287a94c397d"
      },
      "source": [
        "df.head()"
      ],
      "execution_count": 12,
      "outputs": [
        {
          "output_type": "execute_result",
          "data": {
            "text/html": [
              "<div>\n",
              "<style scoped>\n",
              "    .dataframe tbody tr th:only-of-type {\n",
              "        vertical-align: middle;\n",
              "    }\n",
              "\n",
              "    .dataframe tbody tr th {\n",
              "        vertical-align: top;\n",
              "    }\n",
              "\n",
              "    .dataframe thead th {\n",
              "        text-align: right;\n",
              "    }\n",
              "</style>\n",
              "<table border=\"1\" class=\"dataframe\">\n",
              "  <thead>\n",
              "    <tr style=\"text-align: right;\">\n",
              "      <th></th>\n",
              "      <th>sentiment</th>\n",
              "      <th>headline</th>\n",
              "    </tr>\n",
              "  </thead>\n",
              "  <tbody>\n",
              "    <tr>\n",
              "      <th>0</th>\n",
              "      <td>0</td>\n",
              "      <td>According to Gran , the company has no plans t...</td>\n",
              "    </tr>\n",
              "    <tr>\n",
              "      <th>1</th>\n",
              "      <td>0</td>\n",
              "      <td>Technopolis plans to develop in stages an area...</td>\n",
              "    </tr>\n",
              "    <tr>\n",
              "      <th>2</th>\n",
              "      <td>-1</td>\n",
              "      <td>The international electronic industry company ...</td>\n",
              "    </tr>\n",
              "    <tr>\n",
              "      <th>3</th>\n",
              "      <td>1</td>\n",
              "      <td>With the new production plant the company woul...</td>\n",
              "    </tr>\n",
              "    <tr>\n",
              "      <th>4</th>\n",
              "      <td>1</td>\n",
              "      <td>According to the company 's updated strategy f...</td>\n",
              "    </tr>\n",
              "  </tbody>\n",
              "</table>\n",
              "</div>"
            ],
            "text/plain": [
              "   sentiment                                           headline\n",
              "0          0  According to Gran , the company has no plans t...\n",
              "1          0  Technopolis plans to develop in stages an area...\n",
              "2         -1  The international electronic industry company ...\n",
              "3          1  With the new production plant the company woul...\n",
              "4          1  According to the company 's updated strategy f..."
            ]
          },
          "metadata": {
            "tags": []
          },
          "execution_count": 12
        }
      ]
    },
    {
      "cell_type": "markdown",
      "metadata": {
        "id": "-1S8yEDa1o3d"
      },
      "source": [
        "## Build VADER Model\n",
        "- https://github.com/cjhutto/vaderSentiment"
      ]
    },
    {
      "cell_type": "code",
      "metadata": {
        "id": "XbJeT7GftYL8"
      },
      "source": [
        "# Bring in VADER object\n",
        "\n",
        "sid = SentimentIntensityAnalyzer()"
      ],
      "execution_count": 13,
      "outputs": []
    },
    {
      "cell_type": "code",
      "metadata": {
        "id": "9hy4M_sRteyy"
      },
      "source": [
        "df['vader'] = df['headline'].apply(lambda headline: sid.polarity_scores(headline))"
      ],
      "execution_count": 14,
      "outputs": []
    },
    {
      "cell_type": "code",
      "metadata": {
        "colab": {
          "base_uri": "https://localhost:8080/",
          "height": 204
        },
        "id": "E_TPHhB1w5Hb",
        "outputId": "f7797aa2-cceb-4534-c4fe-3549491bb096"
      },
      "source": [
        "df.head()"
      ],
      "execution_count": 15,
      "outputs": [
        {
          "output_type": "execute_result",
          "data": {
            "text/html": [
              "<div>\n",
              "<style scoped>\n",
              "    .dataframe tbody tr th:only-of-type {\n",
              "        vertical-align: middle;\n",
              "    }\n",
              "\n",
              "    .dataframe tbody tr th {\n",
              "        vertical-align: top;\n",
              "    }\n",
              "\n",
              "    .dataframe thead th {\n",
              "        text-align: right;\n",
              "    }\n",
              "</style>\n",
              "<table border=\"1\" class=\"dataframe\">\n",
              "  <thead>\n",
              "    <tr style=\"text-align: right;\">\n",
              "      <th></th>\n",
              "      <th>sentiment</th>\n",
              "      <th>headline</th>\n",
              "      <th>vader</th>\n",
              "    </tr>\n",
              "  </thead>\n",
              "  <tbody>\n",
              "    <tr>\n",
              "      <th>0</th>\n",
              "      <td>0</td>\n",
              "      <td>According to Gran , the company has no plans t...</td>\n",
              "      <td>{'neg': 0.092, 'neu': 0.837, 'pos': 0.071, 'co...</td>\n",
              "    </tr>\n",
              "    <tr>\n",
              "      <th>1</th>\n",
              "      <td>0</td>\n",
              "      <td>Technopolis plans to develop in stages an area...</td>\n",
              "      <td>{'neg': 0.073, 'neu': 0.927, 'pos': 0.0, 'comp...</td>\n",
              "    </tr>\n",
              "    <tr>\n",
              "      <th>2</th>\n",
              "      <td>-1</td>\n",
              "      <td>The international electronic industry company ...</td>\n",
              "      <td>{'neg': 0.0, 'neu': 1.0, 'pos': 0.0, 'compound...</td>\n",
              "    </tr>\n",
              "    <tr>\n",
              "      <th>3</th>\n",
              "      <td>1</td>\n",
              "      <td>With the new production plant the company woul...</td>\n",
              "      <td>{'neg': 0.038, 'neu': 0.66, 'pos': 0.302, 'com...</td>\n",
              "    </tr>\n",
              "    <tr>\n",
              "      <th>4</th>\n",
              "      <td>1</td>\n",
              "      <td>According to the company 's updated strategy f...</td>\n",
              "      <td>{'neg': 0.0, 'neu': 0.853, 'pos': 0.147, 'comp...</td>\n",
              "    </tr>\n",
              "  </tbody>\n",
              "</table>\n",
              "</div>"
            ],
            "text/plain": [
              "   sentiment  ...                                              vader\n",
              "0          0  ...  {'neg': 0.092, 'neu': 0.837, 'pos': 0.071, 'co...\n",
              "1          0  ...  {'neg': 0.073, 'neu': 0.927, 'pos': 0.0, 'comp...\n",
              "2         -1  ...  {'neg': 0.0, 'neu': 1.0, 'pos': 0.0, 'compound...\n",
              "3          1  ...  {'neg': 0.038, 'neu': 0.66, 'pos': 0.302, 'com...\n",
              "4          1  ...  {'neg': 0.0, 'neu': 0.853, 'pos': 0.147, 'comp...\n",
              "\n",
              "[5 rows x 3 columns]"
            ]
          },
          "metadata": {
            "tags": []
          },
          "execution_count": 15
        }
      ]
    },
    {
      "cell_type": "code",
      "metadata": {
        "id": "REt7G6Qjw9-B"
      },
      "source": [
        "# Unpack neg, neu, pos scores\n",
        "\n",
        "def unpack_scores(row):\n",
        "  row['neg'] = row['vader']['neg']\n",
        "  row['neu'] = row['vader']['neu']\n",
        "  row['pos'] = row['vader']['pos']\n",
        "  row['comp'] = row['vader']['compound']\n",
        "  return row"
      ],
      "execution_count": 16,
      "outputs": []
    },
    {
      "cell_type": "code",
      "metadata": {
        "id": "jwnLmukCxKmE"
      },
      "source": [
        "df = df.apply(unpack_scores, axis=1)"
      ],
      "execution_count": 17,
      "outputs": []
    },
    {
      "cell_type": "code",
      "metadata": {
        "colab": {
          "base_uri": "https://localhost:8080/",
          "height": 289
        },
        "id": "Bn2He5mfxOgb",
        "outputId": "5a4a5e67-a832-4c3b-f742-fa294981a38a"
      },
      "source": [
        "df.head()"
      ],
      "execution_count": 18,
      "outputs": [
        {
          "output_type": "execute_result",
          "data": {
            "text/html": [
              "<div>\n",
              "<style scoped>\n",
              "    .dataframe tbody tr th:only-of-type {\n",
              "        vertical-align: middle;\n",
              "    }\n",
              "\n",
              "    .dataframe tbody tr th {\n",
              "        vertical-align: top;\n",
              "    }\n",
              "\n",
              "    .dataframe thead th {\n",
              "        text-align: right;\n",
              "    }\n",
              "</style>\n",
              "<table border=\"1\" class=\"dataframe\">\n",
              "  <thead>\n",
              "    <tr style=\"text-align: right;\">\n",
              "      <th></th>\n",
              "      <th>sentiment</th>\n",
              "      <th>headline</th>\n",
              "      <th>vader</th>\n",
              "      <th>neg</th>\n",
              "      <th>neu</th>\n",
              "      <th>pos</th>\n",
              "      <th>comp</th>\n",
              "    </tr>\n",
              "  </thead>\n",
              "  <tbody>\n",
              "    <tr>\n",
              "      <th>0</th>\n",
              "      <td>0</td>\n",
              "      <td>According to Gran , the company has no plans t...</td>\n",
              "      <td>{'neg': 0.092, 'neu': 0.837, 'pos': 0.071, 'co...</td>\n",
              "      <td>0.092</td>\n",
              "      <td>0.837</td>\n",
              "      <td>0.071</td>\n",
              "      <td>-0.1280</td>\n",
              "    </tr>\n",
              "    <tr>\n",
              "      <th>1</th>\n",
              "      <td>0</td>\n",
              "      <td>Technopolis plans to develop in stages an area...</td>\n",
              "      <td>{'neg': 0.073, 'neu': 0.927, 'pos': 0.0, 'comp...</td>\n",
              "      <td>0.073</td>\n",
              "      <td>0.927</td>\n",
              "      <td>0.000</td>\n",
              "      <td>-0.2960</td>\n",
              "    </tr>\n",
              "    <tr>\n",
              "      <th>2</th>\n",
              "      <td>-1</td>\n",
              "      <td>The international electronic industry company ...</td>\n",
              "      <td>{'neg': 0.0, 'neu': 1.0, 'pos': 0.0, 'compound...</td>\n",
              "      <td>0.000</td>\n",
              "      <td>1.000</td>\n",
              "      <td>0.000</td>\n",
              "      <td>0.0000</td>\n",
              "    </tr>\n",
              "    <tr>\n",
              "      <th>3</th>\n",
              "      <td>1</td>\n",
              "      <td>With the new production plant the company woul...</td>\n",
              "      <td>{'neg': 0.038, 'neu': 0.66, 'pos': 0.302, 'com...</td>\n",
              "      <td>0.038</td>\n",
              "      <td>0.660</td>\n",
              "      <td>0.302</td>\n",
              "      <td>0.8555</td>\n",
              "    </tr>\n",
              "    <tr>\n",
              "      <th>4</th>\n",
              "      <td>1</td>\n",
              "      <td>According to the company 's updated strategy f...</td>\n",
              "      <td>{'neg': 0.0, 'neu': 0.853, 'pos': 0.147, 'comp...</td>\n",
              "      <td>0.000</td>\n",
              "      <td>0.853</td>\n",
              "      <td>0.147</td>\n",
              "      <td>0.6705</td>\n",
              "    </tr>\n",
              "  </tbody>\n",
              "</table>\n",
              "</div>"
            ],
            "text/plain": [
              "   sentiment                                           headline  ...    pos    comp\n",
              "0          0  According to Gran , the company has no plans t...  ...  0.071 -0.1280\n",
              "1          0  Technopolis plans to develop in stages an area...  ...  0.000 -0.2960\n",
              "2         -1  The international electronic industry company ...  ...  0.000  0.0000\n",
              "3          1  With the new production plant the company woul...  ...  0.302  0.8555\n",
              "4          1  According to the company 's updated strategy f...  ...  0.147  0.6705\n",
              "\n",
              "[5 rows x 7 columns]"
            ]
          },
          "metadata": {
            "tags": []
          },
          "execution_count": 18
        }
      ]
    },
    {
      "cell_type": "markdown",
      "metadata": {
        "id": "MDlXM79q2NQA"
      },
      "source": [
        "## Build Blob Model\n",
        "- https://textblob.readthedocs.io/en/dev/"
      ]
    },
    {
      "cell_type": "code",
      "metadata": {
        "id": "Mv7YXx8pxlTK"
      },
      "source": [
        "from textblob import TextBlob"
      ],
      "execution_count": 19,
      "outputs": []
    },
    {
      "cell_type": "code",
      "metadata": {
        "id": "rxRkOk8-xroX"
      },
      "source": [
        "# Using polarity score as opposed to subjectivity score\n",
        "\n",
        "df['blob'] = df['headline'].apply(lambda headline: TextBlob(headline).polarity)"
      ],
      "execution_count": 20,
      "outputs": []
    },
    {
      "cell_type": "code",
      "metadata": {
        "colab": {
          "base_uri": "https://localhost:8080/",
          "height": 289
        },
        "id": "Dny7KvOSxw1n",
        "outputId": "ed7b5c8a-de6e-4b74-e854-c71557aba96e"
      },
      "source": [
        "df.head()"
      ],
      "execution_count": 21,
      "outputs": [
        {
          "output_type": "execute_result",
          "data": {
            "text/html": [
              "<div>\n",
              "<style scoped>\n",
              "    .dataframe tbody tr th:only-of-type {\n",
              "        vertical-align: middle;\n",
              "    }\n",
              "\n",
              "    .dataframe tbody tr th {\n",
              "        vertical-align: top;\n",
              "    }\n",
              "\n",
              "    .dataframe thead th {\n",
              "        text-align: right;\n",
              "    }\n",
              "</style>\n",
              "<table border=\"1\" class=\"dataframe\">\n",
              "  <thead>\n",
              "    <tr style=\"text-align: right;\">\n",
              "      <th></th>\n",
              "      <th>sentiment</th>\n",
              "      <th>headline</th>\n",
              "      <th>vader</th>\n",
              "      <th>neg</th>\n",
              "      <th>neu</th>\n",
              "      <th>pos</th>\n",
              "      <th>comp</th>\n",
              "      <th>blob</th>\n",
              "    </tr>\n",
              "  </thead>\n",
              "  <tbody>\n",
              "    <tr>\n",
              "      <th>0</th>\n",
              "      <td>0</td>\n",
              "      <td>According to Gran , the company has no plans t...</td>\n",
              "      <td>{'neg': 0.092, 'neu': 0.837, 'pos': 0.071, 'co...</td>\n",
              "      <td>0.092</td>\n",
              "      <td>0.837</td>\n",
              "      <td>0.071</td>\n",
              "      <td>-0.1280</td>\n",
              "      <td>0.000000</td>\n",
              "    </tr>\n",
              "    <tr>\n",
              "      <th>1</th>\n",
              "      <td>0</td>\n",
              "      <td>Technopolis plans to develop in stages an area...</td>\n",
              "      <td>{'neg': 0.073, 'neu': 0.927, 'pos': 0.0, 'comp...</td>\n",
              "      <td>0.073</td>\n",
              "      <td>0.927</td>\n",
              "      <td>0.000</td>\n",
              "      <td>-0.2960</td>\n",
              "      <td>0.083333</td>\n",
              "    </tr>\n",
              "    <tr>\n",
              "      <th>2</th>\n",
              "      <td>-1</td>\n",
              "      <td>The international electronic industry company ...</td>\n",
              "      <td>{'neg': 0.0, 'neu': 1.0, 'pos': 0.0, 'compound...</td>\n",
              "      <td>0.000</td>\n",
              "      <td>1.000</td>\n",
              "      <td>0.000</td>\n",
              "      <td>0.0000</td>\n",
              "      <td>0.000000</td>\n",
              "    </tr>\n",
              "    <tr>\n",
              "      <th>3</th>\n",
              "      <td>1</td>\n",
              "      <td>With the new production plant the company woul...</td>\n",
              "      <td>{'neg': 0.038, 'neu': 0.66, 'pos': 0.302, 'com...</td>\n",
              "      <td>0.038</td>\n",
              "      <td>0.660</td>\n",
              "      <td>0.302</td>\n",
              "      <td>0.8555</td>\n",
              "      <td>-0.064802</td>\n",
              "    </tr>\n",
              "    <tr>\n",
              "      <th>4</th>\n",
              "      <td>1</td>\n",
              "      <td>According to the company 's updated strategy f...</td>\n",
              "      <td>{'neg': 0.0, 'neu': 0.853, 'pos': 0.147, 'comp...</td>\n",
              "      <td>0.000</td>\n",
              "      <td>0.853</td>\n",
              "      <td>0.147</td>\n",
              "      <td>0.6705</td>\n",
              "      <td>0.000000</td>\n",
              "    </tr>\n",
              "  </tbody>\n",
              "</table>\n",
              "</div>"
            ],
            "text/plain": [
              "   sentiment  ...      blob\n",
              "0          0  ...  0.000000\n",
              "1          0  ...  0.083333\n",
              "2         -1  ...  0.000000\n",
              "3          1  ... -0.064802\n",
              "4          1  ...  0.000000\n",
              "\n",
              "[5 rows x 8 columns]"
            ]
          },
          "metadata": {
            "tags": []
          },
          "execution_count": 21
        }
      ]
    },
    {
      "cell_type": "markdown",
      "metadata": {
        "id": "yqrzf6nv4Xc1"
      },
      "source": [
        "## Find Optimal Threshold Values"
      ]
    },
    {
      "cell_type": "code",
      "metadata": {
        "id": "HWmNLfw_xx1K"
      },
      "source": [
        "# Pos, neg, neu sentiment based on input threshold\n",
        "\n",
        "def create_sentiment_neutral(x, thresh=0.15):\n",
        "  if x > thresh:\n",
        "    return 1\n",
        "  elif x < -1*thresh:\n",
        "    return -1\n",
        "  else:\n",
        "    return 0"
      ],
      "execution_count": 22,
      "outputs": []
    },
    {
      "cell_type": "code",
      "metadata": {
        "colab": {
          "base_uri": "https://localhost:8080/"
        },
        "id": "hI6_Hpv_3xVd",
        "outputId": "313b44d8-3a86-4c14-9f45-04455abc0a83"
      },
      "source": [
        "# Make sure function operates correctly\n",
        "\n",
        "df['comp'].map(lambda x: create_sentiment_neutral(x,thresh=0.2))"
      ],
      "execution_count": 23,
      "outputs": [
        {
          "output_type": "execute_result",
          "data": {
            "text/plain": [
              "0       0\n",
              "1      -1\n",
              "2       0\n",
              "3       1\n",
              "4       1\n",
              "       ..\n",
              "4841   -1\n",
              "4842    0\n",
              "4843    1\n",
              "4844    1\n",
              "4845    0\n",
              "Name: comp, Length: 4846, dtype: int64"
            ]
          },
          "metadata": {
            "tags": []
          },
          "execution_count": 23
        }
      ]
    },
    {
      "cell_type": "code",
      "metadata": {
        "id": "wlV0uroTyLVw"
      },
      "source": [
        "# Tet out various threshold values\n",
        "\n",
        "import numpy as np\n",
        "from sklearn.metrics import accuracy_score, f1_score\n",
        "thresh_vals = np.linspace(0, 0.8, 30)"
      ],
      "execution_count": 24,
      "outputs": []
    },
    {
      "cell_type": "code",
      "metadata": {
        "id": "ibe7-Socy5xN"
      },
      "source": [
        "# testing thresholds for VADER\n",
        "\n",
        "accuracy_scores = []\n",
        "for t in thresh_vals:\n",
        "  df[f'sent_socre{t}'] = df['comp'].map(lambda x: create_sentiment_neutral(x, thresh=t))\n",
        "  acc = accuracy_score(df['sentiment'], df[f'sent_socre{t}'])\n",
        "  f1 = f1_score(df['sentiment'], df[f'sent_socre{t}'], average='weighted')\n",
        "  accuracy_scores.append((acc,f1,t))\n",
        "  df.drop(columns=f'sent_socre{t}', inplace=True)"
      ],
      "execution_count": 25,
      "outputs": []
    },
    {
      "cell_type": "code",
      "metadata": {
        "colab": {
          "base_uri": "https://localhost:8080/"
        },
        "id": "K1c4Iobi4hyx",
        "outputId": "1c4dfdd6-02bf-4dc5-dda6-15191bc2964e"
      },
      "source": [
        "accuracy_scores"
      ],
      "execution_count": 26,
      "outputs": [
        {
          "output_type": "execute_result",
          "data": {
            "text/plain": [
              "[(0.5427156417664053, 0.5493754485128014, 0.0),\n",
              " (0.5429219975237309, 0.5488684760395816, 0.027586206896551727),\n",
              " (0.5443664878250103, 0.5502419753714894, 0.055172413793103454),\n",
              " (0.5476681799422204, 0.5531432275750312, 0.08275862068965519),\n",
              " (0.5497317375154767, 0.5552786734179375, 0.11034482758620691),\n",
              " (0.5503508047874536, 0.5546673732440731, 0.13793103448275865),\n",
              " (0.5466364011555922, 0.5493432405258818, 0.16551724137931037),\n",
              " (0.5505571605447792, 0.5529972794208513, 0.1931034482758621),\n",
              " (0.5542715641766405, 0.556453767466886, 0.22068965517241382),\n",
              " (0.5600495253817581, 0.5612846007011016, 0.24827586206896554),\n",
              " (0.574081716879901, 0.5713571520407067, 0.2758620689655173),\n",
              " (0.590796533223277, 0.5814193630909846, 0.303448275862069),\n",
              " (0.5872884853487412, 0.5726149565634724, 0.33103448275862074),\n",
              " (0.6021460998761865, 0.5840860486784926, 0.35862068965517246),\n",
              " (0.610193974411886, 0.5863951705020266, 0.3862068965517242),\n",
              " (0.6128765992571192, 0.5841752919868188, 0.4137931034482759),\n",
              " (0.610193974411886, 0.5690000516567839, 0.44137931034482764),\n",
              " (0.6116384647131655, 0.5675159822530149, 0.46896551724137936),\n",
              " (0.6132893107717705, 0.5584618076435677, 0.4965517241379311),\n",
              " (0.6139083780437474, 0.556266798200348, 0.5241379310344828),\n",
              " (0.6184482047049112, 0.5530647590367194, 0.5517241379310346),\n",
              " (0.6099876186545604, 0.5326623805430581, 0.5793103448275863),\n",
              " (0.6093685513825836, 0.5269176324847622, 0.606896551724138),\n",
              " (0.6077177053239785, 0.5175691475631663, 0.6344827586206897),\n",
              " (0.6075113495666529, 0.5098554446548378, 0.6620689655172415),\n",
              " (0.6075113495666529, 0.5043247410279057, 0.6896551724137931),\n",
              " (0.6050350804787453, 0.49240788914472416, 0.7172413793103449),\n",
              " (0.6002888980602559, 0.4772369297263029, 0.7448275862068966),\n",
              " (0.5971935617003714, 0.46465273052929956, 0.7724137931034484),\n",
              " (0.5959554271564177, 0.4596410790269035, 0.8)]"
            ]
          },
          "metadata": {
            "tags": []
          },
          "execution_count": 26
        }
      ]
    },
    {
      "cell_type": "markdown",
      "metadata": {
        "id": "hxQJCA-K3xUN"
      },
      "source": [
        "- Optimal vader thresh = 0.30\n",
        "- Based on F1 score optimization"
      ]
    },
    {
      "cell_type": "code",
      "metadata": {
        "id": "WuK7LWvL6ncv"
      },
      "source": [
        "# testing thresholds for Blob\n",
        "\n",
        "accuracy_scores = []\n",
        "for t in thresh_vals:\n",
        "  df[f'sent_score{t}'] = df['blob'].map(lambda x: create_sentiment_neutral(x, thresh=t))\n",
        "  acc = accuracy_score(df['sentiment'], df[f'sent_score{t}'])\n",
        "  f1 = f1_score(df['sentiment'], df[f'sent_score{t}'], average='weighted')\n",
        "  accuracy_scores.append((acc,f1,t))\n",
        "  df.drop(columns=f'sent_score{t}', inplace=True)"
      ],
      "execution_count": 27,
      "outputs": []
    },
    {
      "cell_type": "code",
      "metadata": {
        "colab": {
          "base_uri": "https://localhost:8080/"
        },
        "id": "uu81Hh6S7Fhf",
        "outputId": "d0ea9f1a-4102-46df-9de1-a35b3d212059"
      },
      "source": [
        "accuracy_scores"
      ],
      "execution_count": 28,
      "outputs": [
        {
          "output_type": "execute_result",
          "data": {
            "text/plain": [
              "[(0.49112670243499795, 0.5001280781422547, 0.0),\n",
              " (0.49422203879488236, 0.5015386882608032, 0.027586206896551727),\n",
              " (0.511143210895584, 0.5126693186842001, 0.055172413793103454),\n",
              " (0.5226991333058192, 0.5189483183765978, 0.08275862068965519),\n",
              " (0.5476681799422204, 0.5328096312476923, 0.11034482758620691),\n",
              " (0.5664465538588527, 0.5407602552206763, 0.13793103448275865),\n",
              " (0.5658274865868758, 0.5319195563041487, 0.16551724137931037),\n",
              " (0.5757325629385059, 0.534124401443791, 0.1931034482758621),\n",
              " (0.5835740817168799, 0.5275340104342747, 0.22068965517241382),\n",
              " (0.5858439950474619, 0.5254305699333389, 0.24827586206896554),\n",
              " (0.5920346677672307, 0.5218515774837885, 0.2758620689655173),\n",
              " (0.5934791580685101, 0.5113534597574352, 0.303448275862069),\n",
              " (0.5930664465538589, 0.5074726594259924, 0.33103448275862074),\n",
              " (0.5932728023111845, 0.5033088950931367, 0.35862068965517246),\n",
              " (0.5912092447379282, 0.4965594019747959, 0.3862068965517242),\n",
              " (0.6004952538175815, 0.4911876787577937, 0.4137931034482759),\n",
              " (0.6015270326042097, 0.48894373814427616, 0.44137931034482764),\n",
              " (0.6025588113908378, 0.4873834026357153, 0.46896551724137936),\n",
              " (0.6021460998761865, 0.4863260400931553, 0.4965517241379311),\n",
              " (0.6019397441188609, 0.4738471566581474, 0.5241379310344828),\n",
              " (0.602971522905489, 0.4737635105381893, 0.5517241379310346),\n",
              " (0.6027651671481634, 0.47333856878666153, 0.5793103448275863),\n",
              " (0.5971935617003714, 0.4567503859623956, 0.606896551724138),\n",
              " (0.597399917457697, 0.4568565942275703, 0.6344827586206897),\n",
              " (0.5967808501857201, 0.4548131851134927, 0.6620689655172415),\n",
              " (0.5967808501857201, 0.4548131851134927, 0.6896551724137931),\n",
              " (0.5949236483697895, 0.44816470973935646, 0.7172413793103449),\n",
              " (0.5951300041271151, 0.4482653240290931, 0.7448275862068966),\n",
              " (0.5947172926124639, 0.44697940595551794, 0.7724137931034484),\n",
              " (0.5938918695831614, 0.44347175744813105, 0.8)]"
            ]
          },
          "metadata": {
            "tags": []
          },
          "execution_count": 28
        }
      ]
    },
    {
      "cell_type": "markdown",
      "metadata": {
        "id": "DDkVXK9W4MFx"
      },
      "source": [
        "- Optimal Blob thresh = 0.14\n",
        "- Based on F1 score optimization"
      ]
    },
    {
      "cell_type": "code",
      "metadata": {
        "id": "Zvnfjq4r7ThP"
      },
      "source": [
        "# Apply VADER and Blob scores\n",
        "\n",
        "df['comp_abs']=df['comp'].map(lambda x: create_sentiment_neutral(x,thresh=0.3))\n",
        "df['blob_abs']=df['blob'].map(lambda x: create_sentiment_neutral(x,thresh=0.14))"
      ],
      "execution_count": 29,
      "outputs": []
    },
    {
      "cell_type": "code",
      "metadata": {
        "colab": {
          "base_uri": "https://localhost:8080/",
          "height": 510
        },
        "id": "VmnoGAy28iFp",
        "outputId": "708c6db6-dc00-40ac-abb7-a372e35db0b4"
      },
      "source": [
        "df.head()"
      ],
      "execution_count": 30,
      "outputs": [
        {
          "output_type": "execute_result",
          "data": {
            "text/html": [
              "<div>\n",
              "<style scoped>\n",
              "    .dataframe tbody tr th:only-of-type {\n",
              "        vertical-align: middle;\n",
              "    }\n",
              "\n",
              "    .dataframe tbody tr th {\n",
              "        vertical-align: top;\n",
              "    }\n",
              "\n",
              "    .dataframe thead th {\n",
              "        text-align: right;\n",
              "    }\n",
              "</style>\n",
              "<table border=\"1\" class=\"dataframe\">\n",
              "  <thead>\n",
              "    <tr style=\"text-align: right;\">\n",
              "      <th></th>\n",
              "      <th>sentiment</th>\n",
              "      <th>headline</th>\n",
              "      <th>vader</th>\n",
              "      <th>neg</th>\n",
              "      <th>neu</th>\n",
              "      <th>pos</th>\n",
              "      <th>comp</th>\n",
              "      <th>blob</th>\n",
              "      <th>comp_abs</th>\n",
              "      <th>blob_abs</th>\n",
              "    </tr>\n",
              "  </thead>\n",
              "  <tbody>\n",
              "    <tr>\n",
              "      <th>0</th>\n",
              "      <td>0</td>\n",
              "      <td>According to Gran , the company has no plans t...</td>\n",
              "      <td>{'neg': 0.092, 'neu': 0.837, 'pos': 0.071, 'co...</td>\n",
              "      <td>0.092</td>\n",
              "      <td>0.837</td>\n",
              "      <td>0.071</td>\n",
              "      <td>-0.1280</td>\n",
              "      <td>0.000000</td>\n",
              "      <td>0</td>\n",
              "      <td>0</td>\n",
              "    </tr>\n",
              "    <tr>\n",
              "      <th>1</th>\n",
              "      <td>0</td>\n",
              "      <td>Technopolis plans to develop in stages an area...</td>\n",
              "      <td>{'neg': 0.073, 'neu': 0.927, 'pos': 0.0, 'comp...</td>\n",
              "      <td>0.073</td>\n",
              "      <td>0.927</td>\n",
              "      <td>0.000</td>\n",
              "      <td>-0.2960</td>\n",
              "      <td>0.083333</td>\n",
              "      <td>0</td>\n",
              "      <td>0</td>\n",
              "    </tr>\n",
              "    <tr>\n",
              "      <th>2</th>\n",
              "      <td>-1</td>\n",
              "      <td>The international electronic industry company ...</td>\n",
              "      <td>{'neg': 0.0, 'neu': 1.0, 'pos': 0.0, 'compound...</td>\n",
              "      <td>0.000</td>\n",
              "      <td>1.000</td>\n",
              "      <td>0.000</td>\n",
              "      <td>0.0000</td>\n",
              "      <td>0.000000</td>\n",
              "      <td>0</td>\n",
              "      <td>0</td>\n",
              "    </tr>\n",
              "    <tr>\n",
              "      <th>3</th>\n",
              "      <td>1</td>\n",
              "      <td>With the new production plant the company woul...</td>\n",
              "      <td>{'neg': 0.038, 'neu': 0.66, 'pos': 0.302, 'com...</td>\n",
              "      <td>0.038</td>\n",
              "      <td>0.660</td>\n",
              "      <td>0.302</td>\n",
              "      <td>0.8555</td>\n",
              "      <td>-0.064802</td>\n",
              "      <td>1</td>\n",
              "      <td>0</td>\n",
              "    </tr>\n",
              "    <tr>\n",
              "      <th>4</th>\n",
              "      <td>1</td>\n",
              "      <td>According to the company 's updated strategy f...</td>\n",
              "      <td>{'neg': 0.0, 'neu': 0.853, 'pos': 0.147, 'comp...</td>\n",
              "      <td>0.000</td>\n",
              "      <td>0.853</td>\n",
              "      <td>0.147</td>\n",
              "      <td>0.6705</td>\n",
              "      <td>0.000000</td>\n",
              "      <td>1</td>\n",
              "      <td>0</td>\n",
              "    </tr>\n",
              "  </tbody>\n",
              "</table>\n",
              "</div>"
            ],
            "text/plain": [
              "   sentiment  ... blob_abs\n",
              "0          0  ...        0\n",
              "1          0  ...        0\n",
              "2         -1  ...        0\n",
              "3          1  ...        0\n",
              "4          1  ...        0\n",
              "\n",
              "[5 rows x 10 columns]"
            ]
          },
          "metadata": {
            "tags": []
          },
          "execution_count": 30
        }
      ]
    },
    {
      "cell_type": "markdown",
      "metadata": {
        "id": "2KvG2_gk4iOJ"
      },
      "source": [
        "## Reconcile difference between VADER and Blob conclusions"
      ]
    },
    {
      "cell_type": "code",
      "metadata": {
        "id": "6kKqNjKZ8iex"
      },
      "source": [
        "# Column to show where VADER and Blob agree\n",
        "# Column to show where VADER and Blob differ\n",
        "\n",
        "df['same'] = (df['comp_abs']==df['blob_abs'])\n",
        "df['c_b'] = df['comp']-df['blob']"
      ],
      "execution_count": 31,
      "outputs": []
    },
    {
      "cell_type": "code",
      "metadata": {
        "id": "ReM50iyn89OF"
      },
      "source": [
        "# Column to show where VADER and Blob disagree\n",
        "# DF where VADER and blob agree\n",
        "\n",
        "df_diff = df[df['same']!=True].copy()\n",
        "df_same = df[df['same']==True].copy()"
      ],
      "execution_count": 32,
      "outputs": []
    },
    {
      "cell_type": "code",
      "metadata": {
        "colab": {
          "base_uri": "https://localhost:8080/"
        },
        "id": "4vi-nN9i_LGf",
        "outputId": "566d0024-5150-40d8-a1ef-dc74a23869dc"
      },
      "source": [
        "same_blob_acc = accuracy_score(df_same['sentiment'], df_same['blob_abs'])\n",
        "same_vader_acc = accuracy_score(df_same['sentiment'], df_same['comp_abs'])\n",
        "print(f\"Same: Blob Acc > {same_blob_acc}\")\n",
        "print(f\"Same: Vader Acc > {same_vader_acc}\")"
      ],
      "execution_count": 33,
      "outputs": [
        {
          "output_type": "stream",
          "text": [
            "Same: Blob Acc > 0.6689968542467669\n",
            "Same: Vader Acc > 0.6689968542467669\n"
          ],
          "name": "stdout"
        }
      ]
    },
    {
      "cell_type": "markdown",
      "metadata": {
        "id": "86ClvEQpAQJV"
      },
      "source": [
        "When the scores are the same, of course it doesn't matter which model is chosen"
      ]
    },
    {
      "cell_type": "code",
      "metadata": {
        "colab": {
          "base_uri": "https://localhost:8080/"
        },
        "id": "shJGb1IU_fLA",
        "outputId": "fbab5b1b-c960-4576-b072-47f1db9c95c2"
      },
      "source": [
        "diff_blob_acc = accuracy_score(df_diff['sentiment'], df_diff['blob_abs'])\n",
        "diff_vader_acc = accuracy_score(df_diff['sentiment'], df_diff['comp_abs'])\n",
        "print(f\"Diff: Blob Acc > {diff_blob_acc}\")\n",
        "print(f\"Diff: Vader Acc > {diff_vader_acc}\")"
      ],
      "execution_count": 34,
      "outputs": [
        {
          "output_type": "stream",
          "text": [
            "Diff: Blob Acc > 0.41914357682619646\n",
            "Diff: Vader Acc > 0.47858942065491183\n"
          ],
          "name": "stdout"
        }
      ]
    },
    {
      "cell_type": "markdown",
      "metadata": {
        "id": "yvaVDU_UAofM"
      },
      "source": [
        "- When the scores are different, Vader compound is a more accurate scoring method\n",
        "- Scores are less accurate when VADER and Blob disagree"
      ]
    },
    {
      "cell_type": "code",
      "metadata": {
        "colab": {
          "base_uri": "https://localhost:8080/"
        },
        "id": "A-CmGieOAowh",
        "outputId": "0d5b6ab0-e6b8-485d-c035-c09035f0916f"
      },
      "source": [
        "print('---------BASELINE---------')\n",
        "print(df['sentiment'].value_counts(1))\n",
        "print('---------SAME---------')\n",
        "print(df_same['sentiment'].value_counts(1))\n",
        "print('---------DIFFERENT---------')\n",
        "print(df_diff['sentiment'].value_counts(1))"
      ],
      "execution_count": 35,
      "outputs": [
        {
          "output_type": "stream",
          "text": [
            "---------BASELINE---------\n",
            " 0    0.594098\n",
            " 1    0.281263\n",
            "-1    0.124639\n",
            "Name: sentiment, dtype: float64\n",
            "---------SAME---------\n",
            " 0    0.652569\n",
            " 1    0.239776\n",
            "-1    0.107655\n",
            "Name: sentiment, dtype: float64\n",
            "---------DIFFERENT---------\n",
            " 0    0.509824\n",
            " 1    0.341058\n",
            "-1    0.149118\n",
            "Name: sentiment, dtype: float64\n"
          ],
          "name": "stdout"
        }
      ]
    },
    {
      "cell_type": "markdown",
      "metadata": {
        "id": "UGXFWMS6B6DX"
      },
      "source": [
        "- When VADER and Blob match -> mainly on neutral sentiment\n",
        "- When VADER and Blob differ -> mainly on pos/neg sentiment"
      ]
    },
    {
      "cell_type": "code",
      "metadata": {
        "colab": {
          "base_uri": "https://localhost:8080/",
          "height": 379
        },
        "id": "728IzcT-CGl8",
        "outputId": "ab8a486f-6b71-45e6-8089-1fbc34eae149"
      },
      "source": [
        "df_diff.corr()"
      ],
      "execution_count": 36,
      "outputs": [
        {
          "output_type": "execute_result",
          "data": {
            "text/html": [
              "<div>\n",
              "<style scoped>\n",
              "    .dataframe tbody tr th:only-of-type {\n",
              "        vertical-align: middle;\n",
              "    }\n",
              "\n",
              "    .dataframe tbody tr th {\n",
              "        vertical-align: top;\n",
              "    }\n",
              "\n",
              "    .dataframe thead th {\n",
              "        text-align: right;\n",
              "    }\n",
              "</style>\n",
              "<table border=\"1\" class=\"dataframe\">\n",
              "  <thead>\n",
              "    <tr style=\"text-align: right;\">\n",
              "      <th></th>\n",
              "      <th>sentiment</th>\n",
              "      <th>neg</th>\n",
              "      <th>neu</th>\n",
              "      <th>pos</th>\n",
              "      <th>comp</th>\n",
              "      <th>blob</th>\n",
              "      <th>comp_abs</th>\n",
              "      <th>blob_abs</th>\n",
              "      <th>same</th>\n",
              "      <th>c_b</th>\n",
              "    </tr>\n",
              "  </thead>\n",
              "  <tbody>\n",
              "    <tr>\n",
              "      <th>sentiment</th>\n",
              "      <td>1.000000</td>\n",
              "      <td>-0.245340</td>\n",
              "      <td>-0.083532</td>\n",
              "      <td>0.223168</td>\n",
              "      <td>0.294888</td>\n",
              "      <td>0.163194</td>\n",
              "      <td>0.261453</td>\n",
              "      <td>0.167550</td>\n",
              "      <td>NaN</td>\n",
              "      <td>0.169506</td>\n",
              "    </tr>\n",
              "    <tr>\n",
              "      <th>neg</th>\n",
              "      <td>-0.245340</td>\n",
              "      <td>1.000000</td>\n",
              "      <td>-0.273991</td>\n",
              "      <td>-0.299895</td>\n",
              "      <td>-0.658455</td>\n",
              "      <td>-0.022391</td>\n",
              "      <td>-0.642641</td>\n",
              "      <td>0.007050</td>\n",
              "      <td>NaN</td>\n",
              "      <td>-0.538027</td>\n",
              "    </tr>\n",
              "    <tr>\n",
              "      <th>neu</th>\n",
              "      <td>-0.083532</td>\n",
              "      <td>-0.273991</td>\n",
              "      <td>1.000000</td>\n",
              "      <td>-0.835297</td>\n",
              "      <td>-0.396727</td>\n",
              "      <td>0.146903</td>\n",
              "      <td>-0.321303</td>\n",
              "      <td>0.135994</td>\n",
              "      <td>NaN</td>\n",
              "      <td>-0.398988</td>\n",
              "    </tr>\n",
              "    <tr>\n",
              "      <th>pos</th>\n",
              "      <td>0.223168</td>\n",
              "      <td>-0.299895</td>\n",
              "      <td>-0.835297</td>\n",
              "      <td>1.000000</td>\n",
              "      <td>0.769966</td>\n",
              "      <td>-0.132922</td>\n",
              "      <td>0.686112</td>\n",
              "      <td>-0.138933</td>\n",
              "      <td>NaN</td>\n",
              "      <td>0.703362</td>\n",
              "    </tr>\n",
              "    <tr>\n",
              "      <th>comp</th>\n",
              "      <td>0.294888</td>\n",
              "      <td>-0.658455</td>\n",
              "      <td>-0.396727</td>\n",
              "      <td>0.769966</td>\n",
              "      <td>1.000000</td>\n",
              "      <td>-0.113961</td>\n",
              "      <td>0.917535</td>\n",
              "      <td>-0.140029</td>\n",
              "      <td>NaN</td>\n",
              "      <td>0.886128</td>\n",
              "    </tr>\n",
              "    <tr>\n",
              "      <th>blob</th>\n",
              "      <td>0.163194</td>\n",
              "      <td>-0.022391</td>\n",
              "      <td>0.146903</td>\n",
              "      <td>-0.132922</td>\n",
              "      <td>-0.113961</td>\n",
              "      <td>1.000000</td>\n",
              "      <td>-0.171068</td>\n",
              "      <td>0.887171</td>\n",
              "      <td>NaN</td>\n",
              "      <td>-0.561404</td>\n",
              "    </tr>\n",
              "    <tr>\n",
              "      <th>comp_abs</th>\n",
              "      <td>0.261453</td>\n",
              "      <td>-0.642641</td>\n",
              "      <td>-0.321303</td>\n",
              "      <td>0.686112</td>\n",
              "      <td>0.917535</td>\n",
              "      <td>-0.171068</td>\n",
              "      <td>1.000000</td>\n",
              "      <td>-0.199142</td>\n",
              "      <td>NaN</td>\n",
              "      <td>0.844077</td>\n",
              "    </tr>\n",
              "    <tr>\n",
              "      <th>blob_abs</th>\n",
              "      <td>0.167550</td>\n",
              "      <td>0.007050</td>\n",
              "      <td>0.135994</td>\n",
              "      <td>-0.138933</td>\n",
              "      <td>-0.140029</td>\n",
              "      <td>0.887171</td>\n",
              "      <td>-0.199142</td>\n",
              "      <td>1.000000</td>\n",
              "      <td>NaN</td>\n",
              "      <td>-0.530487</td>\n",
              "    </tr>\n",
              "    <tr>\n",
              "      <th>same</th>\n",
              "      <td>NaN</td>\n",
              "      <td>NaN</td>\n",
              "      <td>NaN</td>\n",
              "      <td>NaN</td>\n",
              "      <td>NaN</td>\n",
              "      <td>NaN</td>\n",
              "      <td>NaN</td>\n",
              "      <td>NaN</td>\n",
              "      <td>NaN</td>\n",
              "      <td>NaN</td>\n",
              "    </tr>\n",
              "    <tr>\n",
              "      <th>c_b</th>\n",
              "      <td>0.169506</td>\n",
              "      <td>-0.538027</td>\n",
              "      <td>-0.398988</td>\n",
              "      <td>0.703362</td>\n",
              "      <td>0.886128</td>\n",
              "      <td>-0.561404</td>\n",
              "      <td>0.844077</td>\n",
              "      <td>-0.530487</td>\n",
              "      <td>NaN</td>\n",
              "      <td>1.000000</td>\n",
              "    </tr>\n",
              "  </tbody>\n",
              "</table>\n",
              "</div>"
            ],
            "text/plain": [
              "           sentiment       neg       neu  ...  blob_abs  same       c_b\n",
              "sentiment   1.000000 -0.245340 -0.083532  ...  0.167550   NaN  0.169506\n",
              "neg        -0.245340  1.000000 -0.273991  ...  0.007050   NaN -0.538027\n",
              "neu        -0.083532 -0.273991  1.000000  ...  0.135994   NaN -0.398988\n",
              "pos         0.223168 -0.299895 -0.835297  ... -0.138933   NaN  0.703362\n",
              "comp        0.294888 -0.658455 -0.396727  ... -0.140029   NaN  0.886128\n",
              "blob        0.163194 -0.022391  0.146903  ...  0.887171   NaN -0.561404\n",
              "comp_abs    0.261453 -0.642641 -0.321303  ... -0.199142   NaN  0.844077\n",
              "blob_abs    0.167550  0.007050  0.135994  ...  1.000000   NaN -0.530487\n",
              "same             NaN       NaN       NaN  ...       NaN   NaN       NaN\n",
              "c_b         0.169506 -0.538027 -0.398988  ... -0.530487   NaN  1.000000\n",
              "\n",
              "[10 rows x 10 columns]"
            ]
          },
          "metadata": {
            "tags": []
          },
          "execution_count": 36
        }
      ]
    },
    {
      "cell_type": "code",
      "metadata": {
        "colab": {
          "base_uri": "https://localhost:8080/"
        },
        "id": "qnCuUYuTAgmU",
        "outputId": "a60c634a-7c10-4b99-b43b-f8f35f0ec25f"
      },
      "source": [
        "print(accuracy_score(df['sentiment'], df['comp_abs']))\n",
        "print(accuracy_score(df['sentiment'], df['blob_abs']))"
      ],
      "execution_count": 38,
      "outputs": [
        {
          "output_type": "stream",
          "text": [
            "0.5910028889806026\n",
            "0.5666529096161783\n"
          ],
          "name": "stdout"
        }
      ]
    },
    {
      "cell_type": "markdown",
      "metadata": {
        "id": "4zCaRdyeDg78"
      },
      "source": [
        "## Methodology for handling large differences in concensus"
      ]
    },
    {
      "cell_type": "code",
      "metadata": {
        "colab": {
          "base_uri": "https://localhost:8080/",
          "height": 282
        },
        "id": "F4slEmmqD-Dm",
        "outputId": "30d583a5-1020-4f7d-a755-5fe388186de5"
      },
      "source": [
        "# Distribution of differences\n",
        "\n",
        "df['c_b'].plot(kind='kde')"
      ],
      "execution_count": null,
      "outputs": [
        {
          "output_type": "execute_result",
          "data": {
            "text/plain": [
              "<matplotlib.axes._subplots.AxesSubplot at 0x7f4037913a90>"
            ]
          },
          "metadata": {
            "tags": []
          },
          "execution_count": 33
        },
        {
          "output_type": "display_data",
          "data": {
            "image/png": "[encoded data removed]",
            "text/plain": [
              "<Figure size 432x288 with 1 Axes>"
            ]
          },
          "metadata": {
            "tags": [],
            "needs_background": "light"
          }
        }
      ]
    },
    {
      "cell_type": "markdown",
      "metadata": {
        "id": "rlOUoCjt6dFH"
      },
      "source": [
        "Most of the density is between -0.5 & 0.5"
      ]
    },
    {
      "cell_type": "code",
      "metadata": {
        "colab": {
          "base_uri": "https://localhost:8080/"
        },
        "id": "7kUhocT4Djwz",
        "outputId": "52be781a-3453-4408-9cfc-ccf3e2defe7b"
      },
      "source": [
        "df_diff['c_b'].describe()"
      ],
      "execution_count": null,
      "outputs": [
        {
          "output_type": "execute_result",
          "data": {
            "text/plain": [
              "count    1985.000000\n",
              "mean        0.248246\n",
              "std         0.400512\n",
              "min        -1.001900\n",
              "25%        -0.097700\n",
              "50%         0.381800\n",
              "75%         0.526700\n",
              "max         1.024067\n",
              "Name: c_b, dtype: float64"
            ]
          },
          "metadata": {
            "tags": []
          },
          "execution_count": 34
        }
      ]
    },
    {
      "cell_type": "code",
      "metadata": {
        "colab": {
          "base_uri": "https://localhost:8080/"
        },
        "id": "hWTKLkQ0D2hF",
        "outputId": "c76a5d13-f5d6-46e0-c771-926f8ed2f61a"
      },
      "source": [
        "# High CB score = VADER > Blob\n",
        "# Low CB score = VADER < Blob\n",
        "\n",
        "df_c_b_lower = df[df['c_b']<=df['c_b'].quantile(0.10)]\n",
        "df_c_b_upper = df[df['c_b']>=df['c_b'].quantile(0.90)]\n",
        "print(len(df_c_b_lower))\n",
        "print(len(df_c_b_upper))"
      ],
      "execution_count": null,
      "outputs": [
        {
          "output_type": "stream",
          "text": [
            "494\n",
            "492\n"
          ],
          "name": "stdout"
        }
      ]
    },
    {
      "cell_type": "code",
      "metadata": {
        "colab": {
          "base_uri": "https://localhost:8080/"
        },
        "id": "Y6vRfq6PRnM8",
        "outputId": "6d44d9ec-2477-4808-86a1-c77227790869"
      },
      "source": [
        "print('-----------LOWER-----------')\n",
        "print(df_c_b_lower['sentiment'].value_counts(1))\n",
        "print('-----------UPPER-----------')\n",
        "print(df_c_b_upper['sentiment'].value_counts(1))"
      ],
      "execution_count": null,
      "outputs": [
        {
          "output_type": "stream",
          "text": [
            "-----------LOWER-----------\n",
            " 0    0.473684\n",
            "-1    0.279352\n",
            " 1    0.246964\n",
            "Name: sentiment, dtype: float64\n",
            "-----------UPPER-----------\n",
            " 1    0.457317\n",
            " 0    0.408537\n",
            "-1    0.134146\n",
            "Name: sentiment, dtype: float64\n"
          ],
          "name": "stdout"
        }
      ]
    },
    {
      "cell_type": "markdown",
      "metadata": {
        "id": "urgvTvuaSat_"
      },
      "source": [
        "When VADER is significantly > Blob: tends to be neutral sentiment\n",
        "\n",
        "When VADER is significantly < Blob: tends to be positive sentiment"
      ]
    },
    {
      "cell_type": "code",
      "metadata": {
        "colab": {
          "base_uri": "https://localhost:8080/",
          "height": 1000
        },
        "id": "gwHq4YraSn3E",
        "outputId": "7be165f8-ba52-46b8-9455-dcf0eaee11cf"
      },
      "source": [
        "# Observing where VADER < Blob\n",
        "\n",
        "pd.set_option('display.max_colwidth', None)\n",
        "df_c_b_lower.sort_values(by='c_b').head(10)"
      ],
      "execution_count": null,
      "outputs": [
        {
          "output_type": "execute_result",
          "data": {
            "text/html": [
              "<div>\n",
              "<style scoped>\n",
              "    .dataframe tbody tr th:only-of-type {\n",
              "        vertical-align: middle;\n",
              "    }\n",
              "\n",
              "    .dataframe tbody tr th {\n",
              "        vertical-align: top;\n",
              "    }\n",
              "\n",
              "    .dataframe thead th {\n",
              "        text-align: right;\n",
              "    }\n",
              "</style>\n",
              "<table border=\"1\" class=\"dataframe\">\n",
              "  <thead>\n",
              "    <tr style=\"text-align: right;\">\n",
              "      <th></th>\n",
              "      <th>sentiment</th>\n",
              "      <th>headline</th>\n",
              "      <th>vader</th>\n",
              "      <th>neg</th>\n",
              "      <th>neu</th>\n",
              "      <th>pos</th>\n",
              "      <th>comp</th>\n",
              "      <th>blob</th>\n",
              "      <th>comp_abs</th>\n",
              "      <th>blob_abs</th>\n",
              "      <th>same</th>\n",
              "      <th>c_b</th>\n",
              "    </tr>\n",
              "  </thead>\n",
              "  <tbody>\n",
              "    <tr>\n",
              "      <th>714</th>\n",
              "      <td>1</td>\n",
              "      <td>The stock price rose 70.0 ores or 0.9 % to close at SEK77 .65 , ending a two-day streak of losses .</td>\n",
              "      <td>{'neg': 0.137, 'neu': 0.863, 'pos': 0.0, 'compound': -0.4019}</td>\n",
              "      <td>0.137</td>\n",
              "      <td>0.863</td>\n",
              "      <td>0.000</td>\n",
              "      <td>-0.4019</td>\n",
              "      <td>0.60</td>\n",
              "      <td>-1</td>\n",
              "      <td>1</td>\n",
              "      <td>False</td>\n",
              "      <td>-1.0019</td>\n",
              "    </tr>\n",
              "    <tr>\n",
              "      <th>4238</th>\n",
              "      <td>0</td>\n",
              "      <td>SWOT analysis is just one method of categorization and has its own weaknesses .</td>\n",
              "      <td>{'neg': 0.172, 'neu': 0.828, 'pos': 0.0, 'compound': -0.3612}</td>\n",
              "      <td>0.172</td>\n",
              "      <td>0.828</td>\n",
              "      <td>0.000</td>\n",
              "      <td>-0.3612</td>\n",
              "      <td>0.60</td>\n",
              "      <td>-1</td>\n",
              "      <td>1</td>\n",
              "      <td>False</td>\n",
              "      <td>-0.9612</td>\n",
              "    </tr>\n",
              "    <tr>\n",
              "      <th>719</th>\n",
              "      <td>1</td>\n",
              "      <td>Operating result including non-recurring items rose to EUR 146mn from a loss of EUR 267mn in 2009 .</td>\n",
              "      <td>{'neg': 0.133, 'neu': 0.867, 'pos': 0.0, 'compound': -0.3182}</td>\n",
              "      <td>0.133</td>\n",
              "      <td>0.867</td>\n",
              "      <td>0.000</td>\n",
              "      <td>-0.3182</td>\n",
              "      <td>0.60</td>\n",
              "      <td>-1</td>\n",
              "      <td>1</td>\n",
              "      <td>False</td>\n",
              "      <td>-0.9182</td>\n",
              "    </tr>\n",
              "    <tr>\n",
              "      <th>4809</th>\n",
              "      <td>0</td>\n",
              "      <td>Pentik+�inen emphasises that the most of the internet contents media houses provide can not be free forever .</td>\n",
              "      <td>{'neg': 0.144, 'neu': 0.856, 'pos': 0.0, 'compound': -0.4023}</td>\n",
              "      <td>0.144</td>\n",
              "      <td>0.856</td>\n",
              "      <td>0.000</td>\n",
              "      <td>-0.4023</td>\n",
              "      <td>0.45</td>\n",
              "      <td>-1</td>\n",
              "      <td>1</td>\n",
              "      <td>False</td>\n",
              "      <td>-0.8523</td>\n",
              "    </tr>\n",
              "    <tr>\n",
              "      <th>4545</th>\n",
              "      <td>0</td>\n",
              "      <td>The chain has been trying to cut its own costs , pressuring vendors such as fitness equipment manufacturer Precor to slash prices .</td>\n",
              "      <td>{'neg': 0.257, 'neu': 0.661, 'pos': 0.082, 'compound': -0.5423}</td>\n",
              "      <td>0.257</td>\n",
              "      <td>0.661</td>\n",
              "      <td>0.082</td>\n",
              "      <td>-0.5423</td>\n",
              "      <td>0.30</td>\n",
              "      <td>-1</td>\n",
              "      <td>1</td>\n",
              "      <td>False</td>\n",
              "      <td>-0.8423</td>\n",
              "    </tr>\n",
              "    <tr>\n",
              "      <th>4522</th>\n",
              "      <td>1</td>\n",
              "      <td>1 Block lamp Harri Koskinen 's light was introduced in 1996 and has been a bestseller ever since .</td>\n",
              "      <td>{'neg': 0.162, 'neu': 0.838, 'pos': 0.0, 'compound': -0.4404}</td>\n",
              "      <td>0.162</td>\n",
              "      <td>0.838</td>\n",
              "      <td>0.000</td>\n",
              "      <td>-0.4404</td>\n",
              "      <td>0.40</td>\n",
              "      <td>-1</td>\n",
              "      <td>1</td>\n",
              "      <td>False</td>\n",
              "      <td>-0.8404</td>\n",
              "    </tr>\n",
              "    <tr>\n",
              "      <th>2991</th>\n",
              "      <td>0</td>\n",
              "      <td>Jeder Beta-Tester erh+�lt kostenlos sechs Monate lang Updates und hat laut eigener Aussage die M+�glichkeit , die finale Version zu beeinflussen .</td>\n",
              "      <td>{'neg': 0.302, 'neu': 0.698, 'pos': 0.0, 'compound': -0.8316}</td>\n",
              "      <td>0.302</td>\n",
              "      <td>0.698</td>\n",
              "      <td>0.000</td>\n",
              "      <td>-0.8316</td>\n",
              "      <td>0.00</td>\n",
              "      <td>-1</td>\n",
              "      <td>0</td>\n",
              "      <td>False</td>\n",
              "      <td>-0.8316</td>\n",
              "    </tr>\n",
              "    <tr>\n",
              "      <th>4421</th>\n",
              "      <td>-1</td>\n",
              "      <td>Relations with the City have been further damaged by comments from Mr Ashley criticising City investors and analysts as `` cry babies '' .</td>\n",
              "      <td>{'neg': 0.303, 'neu': 0.697, 'pos': 0.0, 'compound': -0.8271}</td>\n",
              "      <td>0.303</td>\n",
              "      <td>0.697</td>\n",
              "      <td>0.000</td>\n",
              "      <td>-0.8271</td>\n",
              "      <td>0.00</td>\n",
              "      <td>-1</td>\n",
              "      <td>0</td>\n",
              "      <td>False</td>\n",
              "      <td>-0.8271</td>\n",
              "    </tr>\n",
              "    <tr>\n",
              "      <th>1955</th>\n",
              "      <td>0</td>\n",
              "      <td>Swedish telco TeliaSonera is teaming up with Friends , a Swedish organization against bullying , to fight bullying of children and teenagers via electronic channels .</td>\n",
              "      <td>{'neg': 0.33, 'neu': 0.571, 'pos': 0.098, 'compound': -0.8074}</td>\n",
              "      <td>0.330</td>\n",
              "      <td>0.571</td>\n",
              "      <td>0.098</td>\n",
              "      <td>-0.8074</td>\n",
              "      <td>0.00</td>\n",
              "      <td>-1</td>\n",
              "      <td>0</td>\n",
              "      <td>False</td>\n",
              "      <td>-0.8074</td>\n",
              "    </tr>\n",
              "    <tr>\n",
              "      <th>2174</th>\n",
              "      <td>1</td>\n",
              "      <td>Pre-tax loss totaled EUR 0.3 mn , compared to a loss of EUR 2.2 mn in the first quarter of 2005 .</td>\n",
              "      <td>{'neg': 0.213, 'neu': 0.787, 'pos': 0.0, 'compound': -0.5574}</td>\n",
              "      <td>0.213</td>\n",
              "      <td>0.787</td>\n",
              "      <td>0.000</td>\n",
              "      <td>-0.5574</td>\n",
              "      <td>0.25</td>\n",
              "      <td>-1</td>\n",
              "      <td>1</td>\n",
              "      <td>False</td>\n",
              "      <td>-0.8074</td>\n",
              "    </tr>\n",
              "  </tbody>\n",
              "</table>\n",
              "</div>"
            ],
            "text/plain": [
              "      sentiment  ...     c_b\n",
              "714           1  ... -1.0019\n",
              "4238          0  ... -0.9612\n",
              "719           1  ... -0.9182\n",
              "4809          0  ... -0.8523\n",
              "4545          0  ... -0.8423\n",
              "4522          1  ... -0.8404\n",
              "2991          0  ... -0.8316\n",
              "4421         -1  ... -0.8271\n",
              "1955          0  ... -0.8074\n",
              "2174          1  ... -0.8074\n",
              "\n",
              "[10 rows x 12 columns]"
            ]
          },
          "metadata": {
            "tags": []
          },
          "execution_count": 37
        }
      ]
    },
    {
      "cell_type": "markdown",
      "metadata": {
        "id": "f2EmLIAyBbTn"
      },
      "source": [
        "- Generally tend to agree with VADER more, there are confounding positive and negative words \n"
      ]
    },
    {
      "cell_type": "code",
      "metadata": {
        "colab": {
          "base_uri": "https://localhost:8080/",
          "height": 1000
        },
        "id": "e27UWx1fSy2A",
        "outputId": "8cad1566-730f-4b82-e50a-924b44d366c5"
      },
      "source": [
        "# Observing where VADER > Blob\n",
        "\n",
        "pd.set_option('display.max_colwidth', None)\n",
        "df_c_b_upper.sort_values(by='c_b', ascending=False).head(10)"
      ],
      "execution_count": null,
      "outputs": [
        {
          "output_type": "execute_result",
          "data": {
            "text/html": [
              "<div>\n",
              "<style scoped>\n",
              "    .dataframe tbody tr th:only-of-type {\n",
              "        vertical-align: middle;\n",
              "    }\n",
              "\n",
              "    .dataframe tbody tr th {\n",
              "        vertical-align: top;\n",
              "    }\n",
              "\n",
              "    .dataframe thead th {\n",
              "        text-align: right;\n",
              "    }\n",
              "</style>\n",
              "<table border=\"1\" class=\"dataframe\">\n",
              "  <thead>\n",
              "    <tr style=\"text-align: right;\">\n",
              "      <th></th>\n",
              "      <th>sentiment</th>\n",
              "      <th>headline</th>\n",
              "      <th>vader</th>\n",
              "      <th>neg</th>\n",
              "      <th>neu</th>\n",
              "      <th>pos</th>\n",
              "      <th>comp</th>\n",
              "      <th>blob</th>\n",
              "      <th>comp_abs</th>\n",
              "      <th>blob_abs</th>\n",
              "      <th>same</th>\n",
              "      <th>c_b</th>\n",
              "    </tr>\n",
              "  </thead>\n",
              "  <tbody>\n",
              "    <tr>\n",
              "      <th>22</th>\n",
              "      <td>1</td>\n",
              "      <td>MegaFon 's subscriber base increased 16.1 % in 2009 to 50.5 million users as of December 31 , while its market share by the number of customers amounted to 24 % as of late 2009 , up from 23 % as of late 2008 , according to TeliaSonera estimates .</td>\n",
              "      <td>{'neg': 0.0, 'neu': 0.877, 'pos': 0.123, 'compound': 0.5574}</td>\n",
              "      <td>0.000</td>\n",
              "      <td>0.877</td>\n",
              "      <td>0.123</td>\n",
              "      <td>0.5574</td>\n",
              "      <td>-0.466667</td>\n",
              "      <td>1</td>\n",
              "      <td>-1</td>\n",
              "      <td>False</td>\n",
              "      <td>1.024067</td>\n",
              "    </tr>\n",
              "    <tr>\n",
              "      <th>4583</th>\n",
              "      <td>0</td>\n",
              "      <td>Operating profit for the six-month period decreased from EUR111 .9 m , while sales increased from EUR1 ,275 m , as compared to the corresponding period in 2006 .</td>\n",
              "      <td>{'neg': 0.0, 'neu': 0.815, 'pos': 0.185, 'compound': 0.6124}</td>\n",
              "      <td>0.000</td>\n",
              "      <td>0.815</td>\n",
              "      <td>0.185</td>\n",
              "      <td>0.6124</td>\n",
              "      <td>-0.400000</td>\n",
              "      <td>1</td>\n",
              "      <td>-1</td>\n",
              "      <td>False</td>\n",
              "      <td>1.012400</td>\n",
              "    </tr>\n",
              "    <tr>\n",
              "      <th>1387</th>\n",
              "      <td>0</td>\n",
              "      <td>The Hayward , Calif.-based target designs active , casual and dress footwear , as well as boots and sandals .</td>\n",
              "      <td>{'neg': 0.0, 'neu': 0.663, 'pos': 0.337, 'compound': 0.6808}</td>\n",
              "      <td>0.000</td>\n",
              "      <td>0.663</td>\n",
              "      <td>0.337</td>\n",
              "      <td>0.6808</td>\n",
              "      <td>-0.316667</td>\n",
              "      <td>1</td>\n",
              "      <td>-1</td>\n",
              "      <td>False</td>\n",
              "      <td>0.997467</td>\n",
              "    </tr>\n",
              "    <tr>\n",
              "      <th>3837</th>\n",
              "      <td>0</td>\n",
              "      <td>The enterprise value of Maritim Food AS has been determined as approximately EUR15m .</td>\n",
              "      <td>{'neg': 0.0, 'neu': 0.696, 'pos': 0.304, 'compound': 0.5859}</td>\n",
              "      <td>0.000</td>\n",
              "      <td>0.696</td>\n",
              "      <td>0.304</td>\n",
              "      <td>0.5859</td>\n",
              "      <td>-0.400000</td>\n",
              "      <td>1</td>\n",
              "      <td>-1</td>\n",
              "      <td>False</td>\n",
              "      <td>0.985900</td>\n",
              "    </tr>\n",
              "    <tr>\n",
              "      <th>2369</th>\n",
              "      <td>0</td>\n",
              "      <td>About 72 % of Evraz Group shares are owned by Lanebrook , whose beneficiaries , on the one hand , are Millhouse , the holding company for the assets of billionaire Roman Abramovich and his business partners 50 % ; and Evraz executives Alexander Abramov and Alexander Frolov 50 % , on the other .</td>\n",
              "      <td>{'neg': 0.0, 'neu': 0.806, 'pos': 0.194, 'compound': 0.836}</td>\n",
              "      <td>0.000</td>\n",
              "      <td>0.806</td>\n",
              "      <td>0.194</td>\n",
              "      <td>0.8360</td>\n",
              "      <td>-0.125000</td>\n",
              "      <td>1</td>\n",
              "      <td>0</td>\n",
              "      <td>False</td>\n",
              "      <td>0.961000</td>\n",
              "    </tr>\n",
              "    <tr>\n",
              "      <th>304</th>\n",
              "      <td>1</td>\n",
              "      <td>There has been some recovery of the base metals prices and increased demand for metals in China , however .</td>\n",
              "      <td>{'neg': 0.077, 'neu': 0.816, 'pos': 0.107, 'compound': 0.1531}</td>\n",
              "      <td>0.077</td>\n",
              "      <td>0.816</td>\n",
              "      <td>0.107</td>\n",
              "      <td>0.1531</td>\n",
              "      <td>-0.800000</td>\n",
              "      <td>0</td>\n",
              "      <td>-1</td>\n",
              "      <td>False</td>\n",
              "      <td>0.953100</td>\n",
              "    </tr>\n",
              "    <tr>\n",
              "      <th>1996</th>\n",
              "      <td>0</td>\n",
              "      <td>As a result of the cancellation , the maximum increase of Citycon 's share capital on the basis of the convertible bonds decreased from EUR 23,383,927.80 to EUR 22,901,784.75 .</td>\n",
              "      <td>{'neg': 0.0, 'neu': 0.847, 'pos': 0.153, 'compound': 0.5423}</td>\n",
              "      <td>0.000</td>\n",
              "      <td>0.847</td>\n",
              "      <td>0.153</td>\n",
              "      <td>0.5423</td>\n",
              "      <td>-0.400000</td>\n",
              "      <td>1</td>\n",
              "      <td>-1</td>\n",
              "      <td>False</td>\n",
              "      <td>0.942300</td>\n",
              "    </tr>\n",
              "    <tr>\n",
              "      <th>4459</th>\n",
              "      <td>1</td>\n",
              "      <td>efficiency improvement measures 20 January 2010 - Finnish stationery and gift retailer Tiimari HEL : TII1V said today that it will continue to improve its operational efficiency , by focusing on its profitable core operations .</td>\n",
              "      <td>{'neg': 0.0, 'neu': 0.609, 'pos': 0.391, 'compound': 0.9403}</td>\n",
              "      <td>0.000</td>\n",
              "      <td>0.609</td>\n",
              "      <td>0.391</td>\n",
              "      <td>0.9403</td>\n",
              "      <td>0.000000</td>\n",
              "      <td>1</td>\n",
              "      <td>0</td>\n",
              "      <td>False</td>\n",
              "      <td>0.940300</td>\n",
              "    </tr>\n",
              "    <tr>\n",
              "      <th>4472</th>\n",
              "      <td>1</td>\n",
              "      <td>The long-standing partnership and commitment enable both parties to develop their respective operations , and ESL Shipping will also have the opportunity to update its fleet and improve its efficiency .</td>\n",
              "      <td>{'neg': 0.0, 'neu': 0.585, 'pos': 0.415, 'compound': 0.936}</td>\n",
              "      <td>0.000</td>\n",
              "      <td>0.585</td>\n",
              "      <td>0.415</td>\n",
              "      <td>0.9360</td>\n",
              "      <td>0.000000</td>\n",
              "      <td>1</td>\n",
              "      <td>0</td>\n",
              "      <td>False</td>\n",
              "      <td>0.936000</td>\n",
              "    </tr>\n",
              "    <tr>\n",
              "      <th>3385</th>\n",
              "      <td>0</td>\n",
              "      <td>The transaction is subject to a final agreement between the parties , approvals of their decision-making bodies and approval by the Finnish Competition Authority .</td>\n",
              "      <td>{'neg': 0.0, 'neu': 0.636, 'pos': 0.364, 'compound': 0.8519}</td>\n",
              "      <td>0.000</td>\n",
              "      <td>0.636</td>\n",
              "      <td>0.364</td>\n",
              "      <td>0.8519</td>\n",
              "      <td>-0.083333</td>\n",
              "      <td>1</td>\n",
              "      <td>0</td>\n",
              "      <td>False</td>\n",
              "      <td>0.935233</td>\n",
              "    </tr>\n",
              "  </tbody>\n",
              "</table>\n",
              "</div>"
            ],
            "text/plain": [
              "      sentiment  ...       c_b\n",
              "22            1  ...  1.024067\n",
              "4583          0  ...  1.012400\n",
              "1387          0  ...  0.997467\n",
              "3837          0  ...  0.985900\n",
              "2369          0  ...  0.961000\n",
              "304           1  ...  0.953100\n",
              "1996          0  ...  0.942300\n",
              "4459          1  ...  0.940300\n",
              "4472          1  ...  0.936000\n",
              "3385          0  ...  0.935233\n",
              "\n",
              "[10 rows x 12 columns]"
            ]
          },
          "metadata": {
            "tags": []
          },
          "execution_count": 38
        }
      ]
    },
    {
      "cell_type": "markdown",
      "metadata": {
        "id": "_HIOmpuDDE_U"
      },
      "source": [
        "Both have difficulty with neutral values"
      ]
    },
    {
      "cell_type": "markdown",
      "metadata": {
        "id": "iM13IIvPGQnS"
      },
      "source": [
        "## Determine Optimal Reconcilliation Rules"
      ]
    },
    {
      "cell_type": "code",
      "metadata": {
        "id": "Cu5lyg_Xbifv"
      },
      "source": [
        "# Determine optimal classification value based on different thresholds\n",
        "# Potentially add functionality for greater/lesser thresholds\n",
        "\n",
        "def classification_rules(df):\n",
        "  if (df['comp_abs'] == df['blob_abs']):\n",
        "    return df['comp_abs']\n",
        "  else:\n",
        "    if df['c_b']<0.13:\n",
        "      return df['comp_abs']\n",
        "    elif df['c_b']>0.71:\n",
        "      return df['comp_abs']\n",
        "    else:\n",
        "      return df['comp_abs']"
      ],
      "execution_count": null,
      "outputs": []
    },
    {
      "cell_type": "code",
      "metadata": {
        "id": "L93vsTvAdAQ3"
      },
      "source": [
        "# Apply sentiment based on thresholds\n",
        "\n",
        "df['rules_sent'] = df.apply(classification_rules, axis=1)"
      ],
      "execution_count": null,
      "outputs": []
    },
    {
      "cell_type": "code",
      "metadata": {
        "colab": {
          "base_uri": "https://localhost:8080/",
          "height": 510
        },
        "id": "f6ehVJEFgvDi",
        "outputId": "6a2f2200-90f0-402c-ad91-f8ea5cdc0b12"
      },
      "source": [
        "pd.reset_option('^display.', silent=True)\n",
        "df.head()"
      ],
      "execution_count": null,
      "outputs": [
        {
          "output_type": "execute_result",
          "data": {
            "text/html": [
              "<div>\n",
              "<style scoped>\n",
              "    .dataframe tbody tr th:only-of-type {\n",
              "        vertical-align: middle;\n",
              "    }\n",
              "\n",
              "    .dataframe tbody tr th {\n",
              "        vertical-align: top;\n",
              "    }\n",
              "\n",
              "    .dataframe thead th {\n",
              "        text-align: right;\n",
              "    }\n",
              "</style>\n",
              "<table border=\"1\" class=\"dataframe\">\n",
              "  <thead>\n",
              "    <tr style=\"text-align: right;\">\n",
              "      <th></th>\n",
              "      <th>sentiment</th>\n",
              "      <th>headline</th>\n",
              "      <th>vader</th>\n",
              "      <th>neg</th>\n",
              "      <th>neu</th>\n",
              "      <th>pos</th>\n",
              "      <th>comp</th>\n",
              "      <th>blob</th>\n",
              "      <th>comp_abs</th>\n",
              "      <th>blob_abs</th>\n",
              "      <th>same</th>\n",
              "      <th>c_b</th>\n",
              "      <th>rules_sent</th>\n",
              "    </tr>\n",
              "  </thead>\n",
              "  <tbody>\n",
              "    <tr>\n",
              "      <th>0</th>\n",
              "      <td>0</td>\n",
              "      <td>According to Gran , the company has no plans t...</td>\n",
              "      <td>{'neg': 0.092, 'neu': 0.837, 'pos': 0.071, 'co...</td>\n",
              "      <td>0.092</td>\n",
              "      <td>0.837</td>\n",
              "      <td>0.071</td>\n",
              "      <td>-0.1280</td>\n",
              "      <td>0.000000</td>\n",
              "      <td>0</td>\n",
              "      <td>0</td>\n",
              "      <td>True</td>\n",
              "      <td>-0.128000</td>\n",
              "      <td>0</td>\n",
              "    </tr>\n",
              "    <tr>\n",
              "      <th>1</th>\n",
              "      <td>0</td>\n",
              "      <td>Technopolis plans to develop in stages an area...</td>\n",
              "      <td>{'neg': 0.073, 'neu': 0.927, 'pos': 0.0, 'comp...</td>\n",
              "      <td>0.073</td>\n",
              "      <td>0.927</td>\n",
              "      <td>0.000</td>\n",
              "      <td>-0.2960</td>\n",
              "      <td>0.083333</td>\n",
              "      <td>0</td>\n",
              "      <td>0</td>\n",
              "      <td>True</td>\n",
              "      <td>-0.379333</td>\n",
              "      <td>0</td>\n",
              "    </tr>\n",
              "    <tr>\n",
              "      <th>2</th>\n",
              "      <td>-1</td>\n",
              "      <td>The international electronic industry company ...</td>\n",
              "      <td>{'neg': 0.0, 'neu': 1.0, 'pos': 0.0, 'compound...</td>\n",
              "      <td>0.000</td>\n",
              "      <td>1.000</td>\n",
              "      <td>0.000</td>\n",
              "      <td>0.0000</td>\n",
              "      <td>0.000000</td>\n",
              "      <td>0</td>\n",
              "      <td>0</td>\n",
              "      <td>True</td>\n",
              "      <td>0.000000</td>\n",
              "      <td>0</td>\n",
              "    </tr>\n",
              "    <tr>\n",
              "      <th>3</th>\n",
              "      <td>1</td>\n",
              "      <td>With the new production plant the company woul...</td>\n",
              "      <td>{'neg': 0.038, 'neu': 0.66, 'pos': 0.302, 'com...</td>\n",
              "      <td>0.038</td>\n",
              "      <td>0.660</td>\n",
              "      <td>0.302</td>\n",
              "      <td>0.8555</td>\n",
              "      <td>-0.064802</td>\n",
              "      <td>1</td>\n",
              "      <td>0</td>\n",
              "      <td>False</td>\n",
              "      <td>0.920302</td>\n",
              "      <td>1</td>\n",
              "    </tr>\n",
              "    <tr>\n",
              "      <th>4</th>\n",
              "      <td>1</td>\n",
              "      <td>According to the company 's updated strategy f...</td>\n",
              "      <td>{'neg': 0.0, 'neu': 0.853, 'pos': 0.147, 'comp...</td>\n",
              "      <td>0.000</td>\n",
              "      <td>0.853</td>\n",
              "      <td>0.147</td>\n",
              "      <td>0.6705</td>\n",
              "      <td>0.000000</td>\n",
              "      <td>1</td>\n",
              "      <td>0</td>\n",
              "      <td>False</td>\n",
              "      <td>0.670500</td>\n",
              "      <td>1</td>\n",
              "    </tr>\n",
              "  </tbody>\n",
              "</table>\n",
              "</div>"
            ],
            "text/plain": [
              "   sentiment  ... rules_sent\n",
              "0          0  ...          0\n",
              "1          0  ...          0\n",
              "2         -1  ...          0\n",
              "3          1  ...          1\n",
              "4          1  ...          1\n",
              "\n",
              "[5 rows x 13 columns]"
            ]
          },
          "metadata": {
            "tags": []
          },
          "execution_count": 41
        }
      ]
    },
    {
      "cell_type": "code",
      "metadata": {
        "colab": {
          "base_uri": "https://localhost:8080/"
        },
        "id": "KSiSzG4igvBJ",
        "outputId": "17558294-ff50-4adf-8e5a-aa1b9628e9ce"
      },
      "source": [
        "# Calculate accurate score\n",
        "\n",
        "accuracy_score(df['sentiment'], df['rules_sent'])"
      ],
      "execution_count": null,
      "outputs": [
        {
          "output_type": "execute_result",
          "data": {
            "text/plain": [
              "0.5910028889806026"
            ]
          },
          "metadata": {
            "tags": []
          },
          "execution_count": 42
        }
      ]
    },
    {
      "cell_type": "markdown",
      "metadata": {
        "id": "mELdQU9RHc9w"
      },
      "source": [
        "- Baseline score of 59%, compared to a random guess of 33%"
      ]
    },
    {
      "cell_type": "code",
      "metadata": {
        "colab": {
          "base_uri": "https://localhost:8080/",
          "height": 510
        },
        "id": "AT1LFjVdnWk2",
        "outputId": "cc3c69e9-9cc7-4b0c-f6cb-2605244fc3c7"
      },
      "source": [
        "df.head()"
      ],
      "execution_count": null,
      "outputs": [
        {
          "output_type": "execute_result",
          "data": {
            "text/html": [
              "<div>\n",
              "<style scoped>\n",
              "    .dataframe tbody tr th:only-of-type {\n",
              "        vertical-align: middle;\n",
              "    }\n",
              "\n",
              "    .dataframe tbody tr th {\n",
              "        vertical-align: top;\n",
              "    }\n",
              "\n",
              "    .dataframe thead th {\n",
              "        text-align: right;\n",
              "    }\n",
              "</style>\n",
              "<table border=\"1\" class=\"dataframe\">\n",
              "  <thead>\n",
              "    <tr style=\"text-align: right;\">\n",
              "      <th></th>\n",
              "      <th>sentiment</th>\n",
              "      <th>headline</th>\n",
              "      <th>vader</th>\n",
              "      <th>neg</th>\n",
              "      <th>neu</th>\n",
              "      <th>pos</th>\n",
              "      <th>comp</th>\n",
              "      <th>blob</th>\n",
              "      <th>comp_abs</th>\n",
              "      <th>blob_abs</th>\n",
              "      <th>same</th>\n",
              "      <th>c_b</th>\n",
              "      <th>rules_sent</th>\n",
              "    </tr>\n",
              "  </thead>\n",
              "  <tbody>\n",
              "    <tr>\n",
              "      <th>0</th>\n",
              "      <td>0</td>\n",
              "      <td>According to Gran , the company has no plans t...</td>\n",
              "      <td>{'neg': 0.092, 'neu': 0.837, 'pos': 0.071, 'co...</td>\n",
              "      <td>0.092</td>\n",
              "      <td>0.837</td>\n",
              "      <td>0.071</td>\n",
              "      <td>-0.1280</td>\n",
              "      <td>0.000000</td>\n",
              "      <td>0</td>\n",
              "      <td>0</td>\n",
              "      <td>True</td>\n",
              "      <td>-0.128000</td>\n",
              "      <td>0</td>\n",
              "    </tr>\n",
              "    <tr>\n",
              "      <th>1</th>\n",
              "      <td>0</td>\n",
              "      <td>Technopolis plans to develop in stages an area...</td>\n",
              "      <td>{'neg': 0.073, 'neu': 0.927, 'pos': 0.0, 'comp...</td>\n",
              "      <td>0.073</td>\n",
              "      <td>0.927</td>\n",
              "      <td>0.000</td>\n",
              "      <td>-0.2960</td>\n",
              "      <td>0.083333</td>\n",
              "      <td>0</td>\n",
              "      <td>0</td>\n",
              "      <td>True</td>\n",
              "      <td>-0.379333</td>\n",
              "      <td>0</td>\n",
              "    </tr>\n",
              "    <tr>\n",
              "      <th>2</th>\n",
              "      <td>-1</td>\n",
              "      <td>The international electronic industry company ...</td>\n",
              "      <td>{'neg': 0.0, 'neu': 1.0, 'pos': 0.0, 'compound...</td>\n",
              "      <td>0.000</td>\n",
              "      <td>1.000</td>\n",
              "      <td>0.000</td>\n",
              "      <td>0.0000</td>\n",
              "      <td>0.000000</td>\n",
              "      <td>0</td>\n",
              "      <td>0</td>\n",
              "      <td>True</td>\n",
              "      <td>0.000000</td>\n",
              "      <td>0</td>\n",
              "    </tr>\n",
              "    <tr>\n",
              "      <th>3</th>\n",
              "      <td>1</td>\n",
              "      <td>With the new production plant the company woul...</td>\n",
              "      <td>{'neg': 0.038, 'neu': 0.66, 'pos': 0.302, 'com...</td>\n",
              "      <td>0.038</td>\n",
              "      <td>0.660</td>\n",
              "      <td>0.302</td>\n",
              "      <td>0.8555</td>\n",
              "      <td>-0.064802</td>\n",
              "      <td>1</td>\n",
              "      <td>0</td>\n",
              "      <td>False</td>\n",
              "      <td>0.920302</td>\n",
              "      <td>1</td>\n",
              "    </tr>\n",
              "    <tr>\n",
              "      <th>4</th>\n",
              "      <td>1</td>\n",
              "      <td>According to the company 's updated strategy f...</td>\n",
              "      <td>{'neg': 0.0, 'neu': 0.853, 'pos': 0.147, 'comp...</td>\n",
              "      <td>0.000</td>\n",
              "      <td>0.853</td>\n",
              "      <td>0.147</td>\n",
              "      <td>0.6705</td>\n",
              "      <td>0.000000</td>\n",
              "      <td>1</td>\n",
              "      <td>0</td>\n",
              "      <td>False</td>\n",
              "      <td>0.670500</td>\n",
              "      <td>1</td>\n",
              "    </tr>\n",
              "  </tbody>\n",
              "</table>\n",
              "</div>"
            ],
            "text/plain": [
              "   sentiment  ... rules_sent\n",
              "0          0  ...          0\n",
              "1          0  ...          0\n",
              "2         -1  ...          0\n",
              "3          1  ...          1\n",
              "4          1  ...          1\n",
              "\n",
              "[5 rows x 13 columns]"
            ]
          },
          "metadata": {
            "tags": []
          },
          "execution_count": 43
        }
      ]
    },
    {
      "cell_type": "code",
      "metadata": {
        "colab": {
          "base_uri": "https://localhost:8080/"
        },
        "id": "D7frcIzYni65",
        "outputId": "81696c30-07d8-4135-c000-cfb395f5729b"
      },
      "source": [
        "# Testing different outcomes for lower threshold \n",
        "\n",
        "print(accuracy_score(df_c_b_lower['sentiment'], df_c_b_lower['comp_abs']))\n",
        "print(accuracy_score(df_c_b_lower['sentiment'], df_c_b_lower['blob_abs']))\n",
        "print(accuracy_score(df_c_b_lower['sentiment'], np.zeros(shape=len(df_c_b_lower))))\n",
        "print(accuracy_score(df_c_b_lower['sentiment'], np.ones(shape=len(df_c_b_lower))))\n",
        "print(accuracy_score(df_c_b_lower['sentiment'], np.full(shape=len(df_c_b_lower), fill_value=-1)))\n"
      ],
      "execution_count": null,
      "outputs": [
        {
          "output_type": "stream",
          "text": [
            "0.5020242914979757\n",
            "0.4230769230769231\n",
            "0.47368421052631576\n",
            "0.24696356275303644\n",
            "0.2793522267206478\n"
          ],
          "name": "stdout"
        }
      ]
    },
    {
      "cell_type": "markdown",
      "metadata": {
        "id": "ZTxE2aUhHzbg"
      },
      "source": [
        "Accuracy score is highest for VADER analysis"
      ]
    },
    {
      "cell_type": "code",
      "metadata": {
        "colab": {
          "base_uri": "https://localhost:8080/"
        },
        "id": "gqVVFHB8pJRx",
        "outputId": "9c530247-64a4-41bd-d543-ea48591f823d"
      },
      "source": [
        "print(accuracy_score(df_c_b_upper['sentiment'], df_c_b_upper['blob_abs']))\n",
        "print(accuracy_score(df_c_b_upper['sentiment'], df_c_b_upper['comp_abs']))\n",
        "print(accuracy_score(df_c_b_upper['sentiment'], np.zeros(shape=len(df_c_b_upper))))\n",
        "print(accuracy_score(df_c_b_upper['sentiment'], np.ones(shape=len(df_c_b_upper))))\n",
        "print(accuracy_score(df_c_b_upper['sentiment'], np.full(shape=len(df_c_b_upper), fill_value=-1)))"
      ],
      "execution_count": null,
      "outputs": [
        {
          "output_type": "stream",
          "text": [
            "0.43089430894308944\n",
            "0.4613821138211382\n",
            "0.40853658536585363\n",
            "0.4573170731707317\n",
            "0.13414634146341464\n"
          ],
          "name": "stdout"
        }
      ]
    },
    {
      "cell_type": "markdown",
      "metadata": {
        "id": "01-JtFCwH6nF"
      },
      "source": [
        "Accuracy score is highest for VADER analysis"
      ]
    },
    {
      "cell_type": "code",
      "metadata": {
        "id": "rW7BWdtKrxDq"
      },
      "source": [
        "# Test out blob, VADER, 0, 1, -1 for various thresholds of cb values\n",
        "\n",
        "lower_ = np.linspace(0,0.15,16)\n",
        "upper_ = np.linspace(stop=0.85,start=1.00,num=16)\n",
        "lower_upper = zip(lower_, upper_)\n",
        "thresh_vals = {}\n",
        "for lower, upper in lower_upper:\n",
        "  df_c_b_lower = df[df['c_b']<=df['c_b'].quantile(lower)]\n",
        "  df_c_b_upper = df[df['c_b']>=df['c_b'].quantile(upper)]\n",
        "  blob_acc_upper = accuracy_score(df_c_b_upper['sentiment'], df_c_b_upper['blob_abs'])\n",
        "  blob_acc_lower = accuracy_score(df_c_b_lower['sentiment'], df_c_b_lower['blob_abs'])\n",
        "  vader_acc_upper = accuracy_score(df_c_b_upper['sentiment'], df_c_b_upper['comp_abs'])\n",
        "  vader_acc_lower = accuracy_score(df_c_b_lower['sentiment'], df_c_b_lower['comp_abs'])\n",
        "  upper_zeros = accuracy_score(df_c_b_upper['sentiment'], np.zeros(shape=len(df_c_b_upper)))\n",
        "  lower_zeros = accuracy_score(df_c_b_lower['sentiment'], np.zeros(shape=len(df_c_b_lower)))\n",
        "  upper_ones = accuracy_score(df_c_b_upper['sentiment'], np.ones(shape=len(df_c_b_upper)))\n",
        "  lower_ones = accuracy_score(df_c_b_lower['sentiment'], np.ones(shape=len(df_c_b_lower)))\n",
        "  upper_neg = accuracy_score(df_c_b_upper['sentiment'], np.full(shape=len(df_c_b_upper), fill_value=-1))\n",
        "  lower_neg = accuracy_score(df_c_b_lower['sentiment'], np.full(shape=len(df_c_b_lower), fill_value=-1))\n",
        "\n",
        "\n",
        "\n",
        "  thresh_vals[(upper, lower)] = [blob_acc_upper, blob_acc_lower, vader_acc_upper, vader_acc_lower,\n",
        "                                 upper_zeros, lower_zeros, upper_ones, lower_ones, upper_neg, lower_neg]\n"
      ],
      "execution_count": null,
      "outputs": []
    },
    {
      "cell_type": "code",
      "metadata": {
        "id": "zXrG5S1_tT9S"
      },
      "source": [
        "df_fresh = pd.DataFrame(thresh_vals).T"
      ],
      "execution_count": null,
      "outputs": []
    },
    {
      "cell_type": "code",
      "metadata": {
        "id": "rt5z9bYYr_U3"
      },
      "source": [
        "for a, b in lower_upper:\n",
        "  print(a)"
      ],
      "execution_count": null,
      "outputs": []
    },
    {
      "cell_type": "code",
      "metadata": {
        "id": "RhgPIfUysVaj"
      },
      "source": [
        "df_fresh.columns = ['blob_upper', 'blob_lower', 'vader_upper', 'vader_lower', 'upper_0',\n",
        "                 'lower_0', 'upper_1', 'lower_1', 'upper_neg', 'lower_neg']"
      ],
      "execution_count": null,
      "outputs": []
    },
    {
      "cell_type": "code",
      "metadata": {
        "id": "P72cfOi7s-7j"
      },
      "source": [
        ""
      ],
      "execution_count": null,
      "outputs": []
    },
    {
      "cell_type": "code",
      "metadata": {
        "colab": {
          "base_uri": "https://localhost:8080/",
          "height": 545
        },
        "id": "EcJ6McaMvwRk",
        "outputId": "454feeb1-b52e-4dfc-f92d-28488f484df3"
      },
      "source": [
        "# Best performer is 0.97 VADER\n",
        "df_fresh.iloc[:,[0,2,4,6,8]]"
      ],
      "execution_count": null,
      "outputs": [
        {
          "output_type": "execute_result",
          "data": {
            "text/html": [
              "<div>\n",
              "<style scoped>\n",
              "    .dataframe tbody tr th:only-of-type {\n",
              "        vertical-align: middle;\n",
              "    }\n",
              "\n",
              "    .dataframe tbody tr th {\n",
              "        vertical-align: top;\n",
              "    }\n",
              "\n",
              "    .dataframe thead th {\n",
              "        text-align: right;\n",
              "    }\n",
              "</style>\n",
              "<table border=\"1\" class=\"dataframe\">\n",
              "  <thead>\n",
              "    <tr style=\"text-align: right;\">\n",
              "      <th></th>\n",
              "      <th></th>\n",
              "      <th>blob_upper</th>\n",
              "      <th>vader_upper</th>\n",
              "      <th>upper_0</th>\n",
              "      <th>upper_1</th>\n",
              "      <th>upper_neg</th>\n",
              "    </tr>\n",
              "  </thead>\n",
              "  <tbody>\n",
              "    <tr>\n",
              "      <th>1.00</th>\n",
              "      <th>0.00</th>\n",
              "      <td>0.000000</td>\n",
              "      <td>1.000000</td>\n",
              "      <td>0.000000</td>\n",
              "      <td>1.000000</td>\n",
              "      <td>0.000000</td>\n",
              "    </tr>\n",
              "    <tr>\n",
              "      <th>0.99</th>\n",
              "      <th>0.01</th>\n",
              "      <td>0.464286</td>\n",
              "      <td>0.357143</td>\n",
              "      <td>0.285714</td>\n",
              "      <td>0.375000</td>\n",
              "      <td>0.339286</td>\n",
              "    </tr>\n",
              "    <tr>\n",
              "      <th>0.98</th>\n",
              "      <th>0.02</th>\n",
              "      <td>0.430233</td>\n",
              "      <td>0.372093</td>\n",
              "      <td>0.383721</td>\n",
              "      <td>0.372093</td>\n",
              "      <td>0.244186</td>\n",
              "    </tr>\n",
              "    <tr>\n",
              "      <th>0.97</th>\n",
              "      <th>0.03</th>\n",
              "      <td>0.315068</td>\n",
              "      <td>0.513699</td>\n",
              "      <td>0.308219</td>\n",
              "      <td>0.513699</td>\n",
              "      <td>0.178082</td>\n",
              "    </tr>\n",
              "    <tr>\n",
              "      <th>0.96</th>\n",
              "      <th>0.04</th>\n",
              "      <td>0.371981</td>\n",
              "      <td>0.483092</td>\n",
              "      <td>0.367150</td>\n",
              "      <td>0.478261</td>\n",
              "      <td>0.154589</td>\n",
              "    </tr>\n",
              "    <tr>\n",
              "      <th>0.95</th>\n",
              "      <th>0.05</th>\n",
              "      <td>0.370370</td>\n",
              "      <td>0.497942</td>\n",
              "      <td>0.370370</td>\n",
              "      <td>0.493827</td>\n",
              "      <td>0.135802</td>\n",
              "    </tr>\n",
              "    <tr>\n",
              "      <th>0.94</th>\n",
              "      <th>0.06</th>\n",
              "      <td>0.385906</td>\n",
              "      <td>0.489933</td>\n",
              "      <td>0.385906</td>\n",
              "      <td>0.486577</td>\n",
              "      <td>0.127517</td>\n",
              "    </tr>\n",
              "    <tr>\n",
              "      <th>0.93</th>\n",
              "      <th>0.07</th>\n",
              "      <td>0.379412</td>\n",
              "      <td>0.497059</td>\n",
              "      <td>0.385294</td>\n",
              "      <td>0.494118</td>\n",
              "      <td>0.120588</td>\n",
              "    </tr>\n",
              "    <tr>\n",
              "      <th>0.92</th>\n",
              "      <th>0.08</th>\n",
              "      <td>0.415816</td>\n",
              "      <td>0.469388</td>\n",
              "      <td>0.377551</td>\n",
              "      <td>0.464286</td>\n",
              "      <td>0.158163</td>\n",
              "    </tr>\n",
              "    <tr>\n",
              "      <th>0.91</th>\n",
              "      <th>0.09</th>\n",
              "      <td>0.416476</td>\n",
              "      <td>0.469108</td>\n",
              "      <td>0.391304</td>\n",
              "      <td>0.464531</td>\n",
              "      <td>0.144165</td>\n",
              "    </tr>\n",
              "    <tr>\n",
              "      <th>0.90</th>\n",
              "      <th>0.10</th>\n",
              "      <td>0.430894</td>\n",
              "      <td>0.461382</td>\n",
              "      <td>0.408537</td>\n",
              "      <td>0.457317</td>\n",
              "      <td>0.134146</td>\n",
              "    </tr>\n",
              "    <tr>\n",
              "      <th>0.89</th>\n",
              "      <th>0.11</th>\n",
              "      <td>0.451197</td>\n",
              "      <td>0.449355</td>\n",
              "      <td>0.429098</td>\n",
              "      <td>0.445672</td>\n",
              "      <td>0.125230</td>\n",
              "    </tr>\n",
              "    <tr>\n",
              "      <th>0.88</th>\n",
              "      <th>0.12</th>\n",
              "      <td>0.455326</td>\n",
              "      <td>0.446735</td>\n",
              "      <td>0.427835</td>\n",
              "      <td>0.441581</td>\n",
              "      <td>0.130584</td>\n",
              "    </tr>\n",
              "    <tr>\n",
              "      <th>0.87</th>\n",
              "      <th>0.13</th>\n",
              "      <td>0.460709</td>\n",
              "      <td>0.449923</td>\n",
              "      <td>0.434515</td>\n",
              "      <td>0.443760</td>\n",
              "      <td>0.121726</td>\n",
              "    </tr>\n",
              "    <tr>\n",
              "      <th>0.86</th>\n",
              "      <th>0.14</th>\n",
              "      <td>0.456395</td>\n",
              "      <td>0.453488</td>\n",
              "      <td>0.430233</td>\n",
              "      <td>0.447674</td>\n",
              "      <td>0.122093</td>\n",
              "    </tr>\n",
              "    <tr>\n",
              "      <th>0.85</th>\n",
              "      <th>0.15</th>\n",
              "      <td>0.461022</td>\n",
              "      <td>0.458333</td>\n",
              "      <td>0.436828</td>\n",
              "      <td>0.448925</td>\n",
              "      <td>0.114247</td>\n",
              "    </tr>\n",
              "  </tbody>\n",
              "</table>\n",
              "</div>"
            ],
            "text/plain": [
              "           blob_upper  vader_upper   upper_0   upper_1  upper_neg\n",
              "1.00 0.00    0.000000     1.000000  0.000000  1.000000   0.000000\n",
              "0.99 0.01    0.464286     0.357143  0.285714  0.375000   0.339286\n",
              "0.98 0.02    0.430233     0.372093  0.383721  0.372093   0.244186\n",
              "0.97 0.03    0.315068     0.513699  0.308219  0.513699   0.178082\n",
              "0.96 0.04    0.371981     0.483092  0.367150  0.478261   0.154589\n",
              "0.95 0.05    0.370370     0.497942  0.370370  0.493827   0.135802\n",
              "0.94 0.06    0.385906     0.489933  0.385906  0.486577   0.127517\n",
              "0.93 0.07    0.379412     0.497059  0.385294  0.494118   0.120588\n",
              "0.92 0.08    0.415816     0.469388  0.377551  0.464286   0.158163\n",
              "0.91 0.09    0.416476     0.469108  0.391304  0.464531   0.144165\n",
              "0.90 0.10    0.430894     0.461382  0.408537  0.457317   0.134146\n",
              "0.89 0.11    0.451197     0.449355  0.429098  0.445672   0.125230\n",
              "0.88 0.12    0.455326     0.446735  0.427835  0.441581   0.130584\n",
              "0.87 0.13    0.460709     0.449923  0.434515  0.443760   0.121726\n",
              "0.86 0.14    0.456395     0.453488  0.430233  0.447674   0.122093\n",
              "0.85 0.15    0.461022     0.458333  0.436828  0.448925   0.114247"
            ]
          },
          "metadata": {
            "tags": []
          },
          "execution_count": 50
        }
      ]
    },
    {
      "cell_type": "markdown",
      "metadata": {
        "id": "y-VcaKQgLDRc"
      },
      "source": [
        "On upper threshold - VADER 0.97 is the highest performer"
      ]
    },
    {
      "cell_type": "code",
      "metadata": {
        "colab": {
          "base_uri": "https://localhost:8080/",
          "height": 545
        },
        "id": "ncmkCcR2v4r6",
        "outputId": "9f6cf67e-d519-4e28-dcfb-135bcf51854c"
      },
      "source": [
        "# Best performer is 0.15 VADER\n",
        "df_fresh.iloc[:,[1,3,5,7,9]]"
      ],
      "execution_count": null,
      "outputs": [
        {
          "output_type": "execute_result",
          "data": {
            "text/html": [
              "<div>\n",
              "<style scoped>\n",
              "    .dataframe tbody tr th:only-of-type {\n",
              "        vertical-align: middle;\n",
              "    }\n",
              "\n",
              "    .dataframe tbody tr th {\n",
              "        vertical-align: top;\n",
              "    }\n",
              "\n",
              "    .dataframe thead th {\n",
              "        text-align: right;\n",
              "    }\n",
              "</style>\n",
              "<table border=\"1\" class=\"dataframe\">\n",
              "  <thead>\n",
              "    <tr style=\"text-align: right;\">\n",
              "      <th></th>\n",
              "      <th></th>\n",
              "      <th>blob_lower</th>\n",
              "      <th>vader_lower</th>\n",
              "      <th>lower_0</th>\n",
              "      <th>lower_1</th>\n",
              "      <th>lower_neg</th>\n",
              "    </tr>\n",
              "  </thead>\n",
              "  <tbody>\n",
              "    <tr>\n",
              "      <th>1.00</th>\n",
              "      <th>0.00</th>\n",
              "      <td>1.000000</td>\n",
              "      <td>0.000000</td>\n",
              "      <td>0.000000</td>\n",
              "      <td>1.000000</td>\n",
              "      <td>0.000000</td>\n",
              "    </tr>\n",
              "    <tr>\n",
              "      <th>0.99</th>\n",
              "      <th>0.01</th>\n",
              "      <td>0.469388</td>\n",
              "      <td>0.285714</td>\n",
              "      <td>0.448980</td>\n",
              "      <td>0.326531</td>\n",
              "      <td>0.224490</td>\n",
              "    </tr>\n",
              "    <tr>\n",
              "      <th>0.98</th>\n",
              "      <th>0.02</th>\n",
              "      <td>0.353982</td>\n",
              "      <td>0.460177</td>\n",
              "      <td>0.433628</td>\n",
              "      <td>0.265487</td>\n",
              "      <td>0.300885</td>\n",
              "    </tr>\n",
              "    <tr>\n",
              "      <th>0.97</th>\n",
              "      <th>0.03</th>\n",
              "      <td>0.363014</td>\n",
              "      <td>0.445205</td>\n",
              "      <td>0.452055</td>\n",
              "      <td>0.226027</td>\n",
              "      <td>0.321918</td>\n",
              "    </tr>\n",
              "    <tr>\n",
              "      <th>0.96</th>\n",
              "      <th>0.04</th>\n",
              "      <td>0.350515</td>\n",
              "      <td>0.453608</td>\n",
              "      <td>0.427835</td>\n",
              "      <td>0.226804</td>\n",
              "      <td>0.345361</td>\n",
              "    </tr>\n",
              "    <tr>\n",
              "      <th>0.95</th>\n",
              "      <th>0.05</th>\n",
              "      <td>0.372951</td>\n",
              "      <td>0.479508</td>\n",
              "      <td>0.467213</td>\n",
              "      <td>0.221311</td>\n",
              "      <td>0.311475</td>\n",
              "    </tr>\n",
              "    <tr>\n",
              "      <th>0.94</th>\n",
              "      <th>0.06</th>\n",
              "      <td>0.377419</td>\n",
              "      <td>0.441935</td>\n",
              "      <td>0.441935</td>\n",
              "      <td>0.251613</td>\n",
              "      <td>0.306452</td>\n",
              "    </tr>\n",
              "    <tr>\n",
              "      <th>0.93</th>\n",
              "      <th>0.07</th>\n",
              "      <td>0.395349</td>\n",
              "      <td>0.436047</td>\n",
              "      <td>0.433140</td>\n",
              "      <td>0.279070</td>\n",
              "      <td>0.287791</td>\n",
              "    </tr>\n",
              "    <tr>\n",
              "      <th>0.92</th>\n",
              "      <th>0.08</th>\n",
              "      <td>0.438776</td>\n",
              "      <td>0.477041</td>\n",
              "      <td>0.474490</td>\n",
              "      <td>0.244898</td>\n",
              "      <td>0.280612</td>\n",
              "    </tr>\n",
              "    <tr>\n",
              "      <th>0.91</th>\n",
              "      <th>0.09</th>\n",
              "      <td>0.439359</td>\n",
              "      <td>0.482838</td>\n",
              "      <td>0.459954</td>\n",
              "      <td>0.244851</td>\n",
              "      <td>0.295195</td>\n",
              "    </tr>\n",
              "    <tr>\n",
              "      <th>0.90</th>\n",
              "      <th>0.10</th>\n",
              "      <td>0.423077</td>\n",
              "      <td>0.502024</td>\n",
              "      <td>0.473684</td>\n",
              "      <td>0.246964</td>\n",
              "      <td>0.279352</td>\n",
              "    </tr>\n",
              "    <tr>\n",
              "      <th>0.89</th>\n",
              "      <th>0.11</th>\n",
              "      <td>0.426966</td>\n",
              "      <td>0.516854</td>\n",
              "      <td>0.473783</td>\n",
              "      <td>0.243446</td>\n",
              "      <td>0.282772</td>\n",
              "    </tr>\n",
              "    <tr>\n",
              "      <th>0.88</th>\n",
              "      <th>0.12</th>\n",
              "      <td>0.415808</td>\n",
              "      <td>0.529210</td>\n",
              "      <td>0.493127</td>\n",
              "      <td>0.240550</td>\n",
              "      <td>0.266323</td>\n",
              "    </tr>\n",
              "    <tr>\n",
              "      <th>0.87</th>\n",
              "      <th>0.13</th>\n",
              "      <td>0.403481</td>\n",
              "      <td>0.547468</td>\n",
              "      <td>0.506329</td>\n",
              "      <td>0.240506</td>\n",
              "      <td>0.253165</td>\n",
              "    </tr>\n",
              "    <tr>\n",
              "      <th>0.86</th>\n",
              "      <th>0.14</th>\n",
              "      <td>0.418262</td>\n",
              "      <td>0.565538</td>\n",
              "      <td>0.496318</td>\n",
              "      <td>0.256259</td>\n",
              "      <td>0.247423</td>\n",
              "    </tr>\n",
              "    <tr>\n",
              "      <th>0.85</th>\n",
              "      <th>0.15</th>\n",
              "      <td>0.449198</td>\n",
              "      <td>0.578877</td>\n",
              "      <td>0.516043</td>\n",
              "      <td>0.248663</td>\n",
              "      <td>0.235294</td>\n",
              "    </tr>\n",
              "  </tbody>\n",
              "</table>\n",
              "</div>"
            ],
            "text/plain": [
              "           blob_lower  vader_lower   lower_0   lower_1  lower_neg\n",
              "1.00 0.00    1.000000     0.000000  0.000000  1.000000   0.000000\n",
              "0.99 0.01    0.469388     0.285714  0.448980  0.326531   0.224490\n",
              "0.98 0.02    0.353982     0.460177  0.433628  0.265487   0.300885\n",
              "0.97 0.03    0.363014     0.445205  0.452055  0.226027   0.321918\n",
              "0.96 0.04    0.350515     0.453608  0.427835  0.226804   0.345361\n",
              "0.95 0.05    0.372951     0.479508  0.467213  0.221311   0.311475\n",
              "0.94 0.06    0.377419     0.441935  0.441935  0.251613   0.306452\n",
              "0.93 0.07    0.395349     0.436047  0.433140  0.279070   0.287791\n",
              "0.92 0.08    0.438776     0.477041  0.474490  0.244898   0.280612\n",
              "0.91 0.09    0.439359     0.482838  0.459954  0.244851   0.295195\n",
              "0.90 0.10    0.423077     0.502024  0.473684  0.246964   0.279352\n",
              "0.89 0.11    0.426966     0.516854  0.473783  0.243446   0.282772\n",
              "0.88 0.12    0.415808     0.529210  0.493127  0.240550   0.266323\n",
              "0.87 0.13    0.403481     0.547468  0.506329  0.240506   0.253165\n",
              "0.86 0.14    0.418262     0.565538  0.496318  0.256259   0.247423\n",
              "0.85 0.15    0.449198     0.578877  0.516043  0.248663   0.235294"
            ]
          },
          "metadata": {
            "tags": []
          },
          "execution_count": 51
        }
      ]
    },
    {
      "cell_type": "markdown",
      "metadata": {
        "id": "2J5ElW5SLYlI"
      },
      "source": [
        "On lower threshold - VADER 0.15 is the highest performer"
      ]
    },
    {
      "cell_type": "code",
      "metadata": {
        "colab": {
          "base_uri": "https://localhost:8080/"
        },
        "id": "dt5euczdtXWY",
        "outputId": "b76e1908-b702-425c-f4e8-33e97f33507b"
      },
      "source": [
        "# Threshold values\n",
        "\n",
        "print(df['c_b'].quantile(0.15))\n",
        "print(df['c_b'].quantile(0.97))"
      ],
      "execution_count": null,
      "outputs": [
        {
          "output_type": "stream",
          "text": [
            "-0.13636363636363635\n",
            "0.710965\n"
          ],
          "name": "stdout"
        }
      ]
    },
    {
      "cell_type": "markdown",
      "metadata": {
        "id": "fP8fhWp2UlRI"
      },
      "source": [
        "# Extract, Transform, Load Data\n",
        "- Performing initial test with Apple"
      ]
    },
    {
      "cell_type": "code",
      "metadata": {
        "id": "ib69JKr_nNFs"
      },
      "source": [
        "def read_in_data(filepath):\n",
        "    df = pd.read_csv(filepath)\n",
        "    df.drop(columns='Unnamed: 0', inplace=True)\n",
        "    df = df[~df['source2'].isin(bad_sources)].copy()\n",
        "    return df"
      ],
      "execution_count": null,
      "outputs": []
    },
    {
      "cell_type": "code",
      "metadata": {
        "id": "5GrIQvKUnThK"
      },
      "source": [
        "# Sources to exlude\n",
        "\n",
        "bad_sources = ['LatestLY', 'iMore', 'Phandroid - News for Android', 'Internet', 'AnandTech', 'Justcreative.com',\n",
        "      'Raywenderlich.com', 'Lifehacker Australia', 'News18', 'Zee Business', 'Geeky Gadgets', 'Business Wire',\n",
        "      'Digital Information World', 'Madshrimps.be', 'Theinventory.com', 'Ozbargain.com.au', 'Www.bgr.in',\n",
        "      \"Paul Tan's Automotive News\", 'Livemint', 'Todayifoundout.com', 'Hotukdeals.com', 'Thefutoncritic.com',\n",
        "      'Applelinkage.com', 'Worldsoccertalk.com', '9to5Toys', 'Torrentfreak.com', 'Slickdeals.net',\n",
        "      'Rock Paper Shotgun', 'Idownloadblog.com', 'Justinobeirne.com', 'Everydaycarry.com', 'Ars Technica',\n",
        "      'Intheknow.com', 'Yanko Design', 'Lefsetz.com', 'Android Community', '/FILM', 'Droid Life',\n",
        "      'Moneysavingmom.com', 'WDVM 25', 'Nextjs.org', 'ComingSoon.net', 'Hip2save.com', 'Giveawayoftheday.com',\n",
        "      'Wptavern.com', 'Visual.ly', 'Denton Record Chronicle', 'Pocket Gamer', 'Moneycontrol',\n",
        "      'Commonsensewithmoney.com', 'PC Gamer', 'Livedoor.jp', 'Trendhunter.com', 'Twit.tv', 'Prtimes.jp',\n",
        "      'NWAOnline', 'Raw Story', 'MobiHealthNews', 'guru3d.com', 'Travelcodex.com', 'T3 US/CA', 'Ctvnews.ca',\n",
        "       'Macitynet.it', 'The Hindu', 'Thekitchn.com', 'Omgubuntu.co.uk', 'DC Rainmaker', 'Foodgawker.com',\n",
        "       'Just Jared', 'Mediagazer.com', 'Theshutterwhale.com', 'Uark.edu', 'Sputnik International', 'Pinkbike.com',\n",
        "       'CNA', 'EurekAlert', 'Energy-storage.news', 'Rogerebert.com', 'Driving', 'Phys.Org', 'The Times of India',\n",
        "       'Eonline.com', 'DIYphotography', 'Food52.com', 'BMWBLOG','Eonline', 'redmondpie', 'Brooklyn Vegan', 'MMA Fighting', 'Spoilertv', 'Hotukdeals', \n",
        "        'Celebitchy', 'Michaelgeist', 'Helloglow', 'Robb Report', 'Carandbike', 'POPSUGAR',\n",
        "        'Slickdeals', 'Pyimagesearch', 'Purseblog', 'BroBible', 'Clarkesworldmagazine', 'TheGrio',\n",
        "        'Heimdalsecurity', \"Tom's Guide\", 'Siliconera', 'Gamasutra', 'Dansdeals', 'Touringplans',\n",
        "        'Ehl', 'City A', 'Southernsavers', 'Dpreview', 'Marksdailyapple', '2dopeboyz',\n",
        "         'SYFY WIRE', 'Screenanarchy', 'Top Speed', 'CBS Sports', 'Yahoo Entertainment',\n",
        "         'Hollywood Life', 'Iphone-mania']"
      ],
      "execution_count": null,
      "outputs": []
    },
    {
      "cell_type": "code",
      "metadata": {
        "id": "nauY3Qu0xr40"
      },
      "source": [
        "apple = read_in_data('/content/drive/MyDrive/Colab Notebooks/hourly_apple_articles_614_618')"
      ],
      "execution_count": null,
      "outputs": []
    },
    {
      "cell_type": "markdown",
      "metadata": {
        "id": "mpKpbirUPNYT"
      },
      "source": [
        "## Drop data after removing continued join"
      ]
    },
    {
      "cell_type": "code",
      "metadata": {
        "id": "MYIllyMimhuB"
      },
      "source": [
        "def data_drop(df):\n",
        "  df.dropna(subset=['description', 'content', 'title'], inplace=True)\n",
        "  return df"
      ],
      "execution_count": null,
      "outputs": []
    },
    {
      "cell_type": "code",
      "metadata": {
        "id": "7Rh9Tpjqmgux",
        "colab": {
          "base_uri": "https://localhost:8080/",
          "height": 164
        },
        "outputId": "10e37cfa-3c10-4b84-c8c6-d7ab268f5256"
      },
      "source": [
        "apple = data_drop(apple)"
      ],
      "execution_count": null,
      "outputs": [
        {
          "output_type": "error",
          "ename": "NameError",
          "evalue": "ignored",
          "traceback": [
            "\u001b[0;31m---------------------------------------------------------------------------\u001b[0m",
            "\u001b[0;31mNameError\u001b[0m                                 Traceback (most recent call last)",
            "\u001b[0;32m<ipython-input-57-ac2c95fbd472>\u001b[0m in \u001b[0;36m<module>\u001b[0;34m()\u001b[0m\n\u001b[0;32m----> 1\u001b[0;31m \u001b[0mapple\u001b[0m \u001b[0;34m=\u001b[0m \u001b[0mdata_drop\u001b[0m\u001b[0;34m(\u001b[0m\u001b[0mapple\u001b[0m\u001b[0;34m)\u001b[0m\u001b[0;34m\u001b[0m\u001b[0;34m\u001b[0m\u001b[0m\n\u001b[0m",
            "\u001b[0;31mNameError\u001b[0m: name 'apple' is not defined"
          ]
        }
      ]
    },
    {
      "cell_type": "markdown",
      "metadata": {
        "id": "kxmjOSofPciM"
      },
      "source": [
        "## Clean conent and description and join into one column"
      ]
    },
    {
      "cell_type": "code",
      "metadata": {
        "id": "8A0aAgHxnmna"
      },
      "source": [
        "def content_clearer_join(df):\n",
        "    \n",
        "    df['content']=df['content'].split('[')[0].replace('…', '').replace('\\r\\n', '')\\\n",
        "                                                .replace('\\xa0', '').replace('&amp', '').strip()\n",
        "    df['description']=df['content'].split('[')[0].replace('…', '').replace('\\r\\n', '')\\\n",
        "                                                .replace('\\xa0', '').replace('&amp', '').strip()\n",
        "    \n",
        "    if (df['description'][:100] == df['content'][:100]):\n",
        "        df['cont_joined'] = df['title']+ '; ' +df['description']\n",
        "    \n",
        "    else:\n",
        "        df['cont_joined'] = df['title']+ '; ' +df['description'] + '; ' +df['content']\n",
        "    \n",
        "    return df"
      ],
      "execution_count": null,
      "outputs": []
    },
    {
      "cell_type": "code",
      "metadata": {
        "id": "l8uPyvyrnmlL",
        "colab": {
          "base_uri": "https://localhost:8080/",
          "height": 164
        },
        "outputId": "c3d21af7-f9ec-446b-d113-c1df77b594a3"
      },
      "source": [
        "apple=apple.apply(content_clearer_join, axis=1)"
      ],
      "execution_count": null,
      "outputs": [
        {
          "output_type": "error",
          "ename": "NameError",
          "evalue": "ignored",
          "traceback": [
            "\u001b[0;31m---------------------------------------------------------------------------\u001b[0m",
            "\u001b[0;31mNameError\u001b[0m                                 Traceback (most recent call last)",
            "\u001b[0;32m<ipython-input-54-43f90c860dbf>\u001b[0m in \u001b[0;36m<module>\u001b[0;34m()\u001b[0m\n\u001b[0;32m----> 1\u001b[0;31m \u001b[0mapple\u001b[0m\u001b[0;34m=\u001b[0m\u001b[0mapple\u001b[0m\u001b[0;34m.\u001b[0m\u001b[0mapply\u001b[0m\u001b[0;34m(\u001b[0m\u001b[0mcontent_clearer_join\u001b[0m\u001b[0;34m,\u001b[0m \u001b[0maxis\u001b[0m\u001b[0;34m=\u001b[0m\u001b[0;36m1\u001b[0m\u001b[0;34m)\u001b[0m\u001b[0;34m\u001b[0m\u001b[0;34m\u001b[0m\u001b[0m\n\u001b[0m",
            "\u001b[0;31mNameError\u001b[0m: name 'apple' is not defined"
          ]
        }
      ]
    },
    {
      "cell_type": "code",
      "metadata": {
        "id": "cbIlik_KnmjK"
      },
      "source": [
        "def remove_columns(df):\n",
        "    df.drop(columns=['source', 'author', 'url', 'urlToImage'], inplace=True)\n",
        "    return df"
      ],
      "execution_count": null,
      "outputs": []
    },
    {
      "cell_type": "code",
      "metadata": {
        "id": "zbQHPN0fnmgu"
      },
      "source": [
        "apple=remove_columns(apple)"
      ],
      "execution_count": null,
      "outputs": []
    },
    {
      "cell_type": "code",
      "metadata": {
        "id": "pcZjqWD5nmeH"
      },
      "source": [
        "def set_idx(df):\n",
        "    df['publishedAt'] = pd.to_datetime(df['publishedAt'])\n",
        "    df.set_index('publishedAt', inplace=True)\n",
        "    df.index = df.index.tz_convert('US/Eastern')\n",
        "    df.sort_index(inplace=True)\n",
        "    df['hour'] = df.index.hour\n",
        "    df['day']=df.index.day\n",
        "    return df"
      ],
      "execution_count": null,
      "outputs": []
    },
    {
      "cell_type": "code",
      "metadata": {
        "id": "pDPuT0Pinmbm"
      },
      "source": [
        "apple = set_idx(apple)"
      ],
      "execution_count": null,
      "outputs": []
    },
    {
      "cell_type": "code",
      "metadata": {
        "colab": {
          "base_uri": "https://localhost:8080/",
          "height": 422
        },
        "id": "1IcSWmaoat8o",
        "outputId": "94fa86ac-4b87-4949-e98e-612ba0dd5535"
      },
      "source": [
        "apple.head()"
      ],
      "execution_count": null,
      "outputs": [
        {
          "output_type": "execute_result",
          "data": {
            "text/html": [
              "<div>\n",
              "<style scoped>\n",
              "    .dataframe tbody tr th:only-of-type {\n",
              "        vertical-align: middle;\n",
              "    }\n",
              "\n",
              "    .dataframe tbody tr th {\n",
              "        vertical-align: top;\n",
              "    }\n",
              "\n",
              "    .dataframe thead th {\n",
              "        text-align: right;\n",
              "    }\n",
              "</style>\n",
              "<table border=\"1\" class=\"dataframe\">\n",
              "  <thead>\n",
              "    <tr style=\"text-align: right;\">\n",
              "      <th></th>\n",
              "      <th>title</th>\n",
              "      <th>description</th>\n",
              "      <th>content</th>\n",
              "      <th>results</th>\n",
              "      <th>source2</th>\n",
              "      <th>cont_joined</th>\n",
              "      <th>hour</th>\n",
              "      <th>day</th>\n",
              "    </tr>\n",
              "    <tr>\n",
              "      <th>publishedAt</th>\n",
              "      <th></th>\n",
              "      <th></th>\n",
              "      <th></th>\n",
              "      <th></th>\n",
              "      <th></th>\n",
              "      <th></th>\n",
              "      <th></th>\n",
              "      <th></th>\n",
              "    </tr>\n",
              "  </thead>\n",
              "  <tbody>\n",
              "    <tr>\n",
              "      <th>2021-06-14 09:00:00-04:00</th>\n",
              "      <td>‘The Morning Show’ Season 2 Teaser Reveals the...</td>\n",
              "      <td>Apple TV+ released the first teaser and premie...</td>\n",
              "      <td>Apple TV+ released the first teaser and premie...</td>\n",
              "      <td>124.0</td>\n",
              "      <td>TheWrap</td>\n",
              "      <td>‘The Morning Show’ Season 2 Teaser Reveals the...</td>\n",
              "      <td>9</td>\n",
              "      <td>14</td>\n",
              "    </tr>\n",
              "    <tr>\n",
              "      <th>2021-06-14 09:00:00-04:00</th>\n",
              "      <td>Lululemon (NASDAQ: LULU) Lines Up For A Run At...</td>\n",
              "      <td>This story originally appeared on MarketBeatFo...</td>\n",
              "      <td>This story originally appeared on MarketBeatFo...</td>\n",
              "      <td>124.0</td>\n",
              "      <td>MarketBeat</td>\n",
              "      <td>Lululemon (NASDAQ: LULU) Lines Up For A Run At...</td>\n",
              "      <td>9</td>\n",
              "      <td>14</td>\n",
              "    </tr>\n",
              "    <tr>\n",
              "      <th>2021-06-14 09:00:02-04:00</th>\n",
              "      <td>Fitbit Luxe review: A luxury fitness tracker f...</td>\n",
              "      <td>Source: Jeramy Johnson / Android CentralIt's n...</td>\n",
              "      <td>Source: Jeramy Johnson / Android CentralIt's n...</td>\n",
              "      <td>124.0</td>\n",
              "      <td>Android Central</td>\n",
              "      <td>Fitbit Luxe review: A luxury fitness tracker f...</td>\n",
              "      <td>9</td>\n",
              "      <td>14</td>\n",
              "    </tr>\n",
              "    <tr>\n",
              "      <th>2021-06-14 09:00:26-04:00</th>\n",
              "      <td>We can’t believe how cheap these Apple product...</td>\n",
              "      <td>Technically, Prime Day deals aren’t officially...</td>\n",
              "      <td>Technically, Prime Day deals aren’t officially...</td>\n",
              "      <td>124.0</td>\n",
              "      <td>Digital Trends</td>\n",
              "      <td>We can’t believe how cheap these Apple product...</td>\n",
              "      <td>9</td>\n",
              "      <td>14</td>\n",
              "    </tr>\n",
              "    <tr>\n",
              "      <th>2021-06-14 09:00:33-04:00</th>\n",
              "      <td>‘The Morning Show’ Season 2 Trailer: Aniston, ...</td>\n",
              "      <td>Apple has announced its flagship drama series ...</td>\n",
              "      <td>Apple has announced its flagship drama series ...</td>\n",
              "      <td>124.0</td>\n",
              "      <td>IndieWire</td>\n",
              "      <td>‘The Morning Show’ Season 2 Trailer: Aniston, ...</td>\n",
              "      <td>9</td>\n",
              "      <td>14</td>\n",
              "    </tr>\n",
              "  </tbody>\n",
              "</table>\n",
              "</div>"
            ],
            "text/plain": [
              "                                                                       title  ... day\n",
              "publishedAt                                                                   ...    \n",
              "2021-06-14 09:00:00-04:00  ‘The Morning Show’ Season 2 Teaser Reveals the...  ...  14\n",
              "2021-06-14 09:00:00-04:00  Lululemon (NASDAQ: LULU) Lines Up For A Run At...  ...  14\n",
              "2021-06-14 09:00:02-04:00  Fitbit Luxe review: A luxury fitness tracker f...  ...  14\n",
              "2021-06-14 09:00:26-04:00  We can’t believe how cheap these Apple product...  ...  14\n",
              "2021-06-14 09:00:33-04:00  ‘The Morning Show’ Season 2 Trailer: Aniston, ...  ...  14\n",
              "\n",
              "[5 rows x 8 columns]"
            ]
          },
          "metadata": {
            "tags": []
          },
          "execution_count": 83
        }
      ]
    },
    {
      "cell_type": "code",
      "metadata": {
        "id": "H6mQLtgVNuhj"
      },
      "source": [
        "# Try adjusting frequency to hourly"
      ],
      "execution_count": null,
      "outputs": []
    },
    {
      "cell_type": "code",
      "metadata": {
        "id": "qRcLY0W6ZlRg"
      },
      "source": [
        "def add_sentiment(df):\n",
        "  df['vader'] = df['cont_joined'].apply(lambda headline: sid.polarity_scores(headline))\n",
        "  df = df.apply(unpack_scores, axis=1)\n",
        "  df['blob'] = df['cont_joined'].apply(lambda headline: TextBlob(headline).polarity)\n",
        "  df['comp_abs']=df['comp'].map(lambda x: create_sentiment_neutral(x,thresh=0.3))\n",
        "  df['blob_abs']=df['blob'].map(lambda x: create_sentiment_neutral(x,thresh=0.14))\n",
        "  df['c_b'] = df['comp']-df['blob']\n",
        "  df['Sentiment'] = df.apply(classification_rules, axis=1)\n",
        "  df.drop(columns='vader', inplace=True)\n",
        "  return df\n",
        "  "
      ],
      "execution_count": null,
      "outputs": []
    },
    {
      "cell_type": "code",
      "metadata": {
        "id": "WldS46NlZlKi"
      },
      "source": [
        "apple=add_sentiment(apple)"
      ],
      "execution_count": null,
      "outputs": []
    },
    {
      "cell_type": "code",
      "metadata": {
        "colab": {
          "base_uri": "https://localhost:8080/",
          "height": 1000
        },
        "id": "AEAJJWGbV1s2",
        "outputId": "5c9161e4-60d7-4b7d-e0a4-574059c3333d"
      },
      "source": [
        "apple"
      ],
      "execution_count": null,
      "outputs": [
        {
          "output_type": "execute_result",
          "data": {
            "text/html": [
              "<div>\n",
              "<style scoped>\n",
              "    .dataframe tbody tr th:only-of-type {\n",
              "        vertical-align: middle;\n",
              "    }\n",
              "\n",
              "    .dataframe tbody tr th {\n",
              "        vertical-align: top;\n",
              "    }\n",
              "\n",
              "    .dataframe thead th {\n",
              "        text-align: right;\n",
              "    }\n",
              "</style>\n",
              "<table border=\"1\" class=\"dataframe\">\n",
              "  <thead>\n",
              "    <tr style=\"text-align: right;\">\n",
              "      <th></th>\n",
              "      <th>title</th>\n",
              "      <th>description</th>\n",
              "      <th>content</th>\n",
              "      <th>results</th>\n",
              "      <th>source2</th>\n",
              "      <th>cont_joined</th>\n",
              "      <th>hour</th>\n",
              "      <th>day</th>\n",
              "      <th>neg</th>\n",
              "      <th>neu</th>\n",
              "      <th>pos</th>\n",
              "      <th>comp</th>\n",
              "      <th>blob</th>\n",
              "      <th>comp_abs</th>\n",
              "      <th>blob_abs</th>\n",
              "      <th>c_b</th>\n",
              "      <th>Sentiment</th>\n",
              "    </tr>\n",
              "    <tr>\n",
              "      <th>publishedAt</th>\n",
              "      <th></th>\n",
              "      <th></th>\n",
              "      <th></th>\n",
              "      <th></th>\n",
              "      <th></th>\n",
              "      <th></th>\n",
              "      <th></th>\n",
              "      <th></th>\n",
              "      <th></th>\n",
              "      <th></th>\n",
              "      <th></th>\n",
              "      <th></th>\n",
              "      <th></th>\n",
              "      <th></th>\n",
              "      <th></th>\n",
              "      <th></th>\n",
              "      <th></th>\n",
              "    </tr>\n",
              "  </thead>\n",
              "  <tbody>\n",
              "    <tr>\n",
              "      <th>2021-06-14 09:00:00-04:00</th>\n",
              "      <td>‘The Morning Show’ Season 2 Teaser Reveals the...</td>\n",
              "      <td>Apple TV+ released the first teaser and premie...</td>\n",
              "      <td>Apple TV+ released the first teaser and premie...</td>\n",
              "      <td>124.0</td>\n",
              "      <td>TheWrap</td>\n",
              "      <td>‘The Morning Show’ Season 2 Teaser Reveals the...</td>\n",
              "      <td>9</td>\n",
              "      <td>14</td>\n",
              "      <td>0.133</td>\n",
              "      <td>0.867</td>\n",
              "      <td>0.000</td>\n",
              "      <td>-0.7096</td>\n",
              "      <td>0.125000</td>\n",
              "      <td>-1</td>\n",
              "      <td>0</td>\n",
              "      <td>-0.834600</td>\n",
              "      <td>-1</td>\n",
              "    </tr>\n",
              "    <tr>\n",
              "      <th>2021-06-14 09:00:00-04:00</th>\n",
              "      <td>Lululemon (NASDAQ: LULU) Lines Up For A Run At...</td>\n",
              "      <td>This story originally appeared on MarketBeatFo...</td>\n",
              "      <td>This story originally appeared on MarketBeatFo...</td>\n",
              "      <td>124.0</td>\n",
              "      <td>MarketBeat</td>\n",
              "      <td>Lululemon (NASDAQ: LULU) Lines Up For A Run At...</td>\n",
              "      <td>9</td>\n",
              "      <td>14</td>\n",
              "      <td>0.000</td>\n",
              "      <td>0.930</td>\n",
              "      <td>0.070</td>\n",
              "      <td>0.4173</td>\n",
              "      <td>0.317500</td>\n",
              "      <td>1</td>\n",
              "      <td>1</td>\n",
              "      <td>0.099800</td>\n",
              "      <td>1</td>\n",
              "    </tr>\n",
              "    <tr>\n",
              "      <th>2021-06-14 09:00:02-04:00</th>\n",
              "      <td>Fitbit Luxe review: A luxury fitness tracker f...</td>\n",
              "      <td>Source: Jeramy Johnson / Android CentralIt's n...</td>\n",
              "      <td>Source: Jeramy Johnson / Android CentralIt's n...</td>\n",
              "      <td>124.0</td>\n",
              "      <td>Android Central</td>\n",
              "      <td>Fitbit Luxe review: A luxury fitness tracker f...</td>\n",
              "      <td>9</td>\n",
              "      <td>14</td>\n",
              "      <td>0.035</td>\n",
              "      <td>0.790</td>\n",
              "      <td>0.175</td>\n",
              "      <td>0.6593</td>\n",
              "      <td>0.257143</td>\n",
              "      <td>1</td>\n",
              "      <td>1</td>\n",
              "      <td>0.402157</td>\n",
              "      <td>1</td>\n",
              "    </tr>\n",
              "    <tr>\n",
              "      <th>2021-06-14 09:00:26-04:00</th>\n",
              "      <td>We can’t believe how cheap these Apple product...</td>\n",
              "      <td>Technically, Prime Day deals aren’t officially...</td>\n",
              "      <td>Technically, Prime Day deals aren’t officially...</td>\n",
              "      <td>124.0</td>\n",
              "      <td>Digital Trends</td>\n",
              "      <td>We can’t believe how cheap these Apple product...</td>\n",
              "      <td>9</td>\n",
              "      <td>14</td>\n",
              "      <td>0.047</td>\n",
              "      <td>0.856</td>\n",
              "      <td>0.098</td>\n",
              "      <td>0.5499</td>\n",
              "      <td>0.271429</td>\n",
              "      <td>1</td>\n",
              "      <td>1</td>\n",
              "      <td>0.278471</td>\n",
              "      <td>1</td>\n",
              "    </tr>\n",
              "    <tr>\n",
              "      <th>2021-06-14 09:00:33-04:00</th>\n",
              "      <td>‘The Morning Show’ Season 2 Trailer: Aniston, ...</td>\n",
              "      <td>Apple has announced its flagship drama series ...</td>\n",
              "      <td>Apple has announced its flagship drama series ...</td>\n",
              "      <td>124.0</td>\n",
              "      <td>IndieWire</td>\n",
              "      <td>‘The Morning Show’ Season 2 Trailer: Aniston, ...</td>\n",
              "      <td>9</td>\n",
              "      <td>14</td>\n",
              "      <td>0.041</td>\n",
              "      <td>0.798</td>\n",
              "      <td>0.162</td>\n",
              "      <td>0.7096</td>\n",
              "      <td>0.195455</td>\n",
              "      <td>1</td>\n",
              "      <td>1</td>\n",
              "      <td>0.514145</td>\n",
              "      <td>1</td>\n",
              "    </tr>\n",
              "    <tr>\n",
              "      <th>...</th>\n",
              "      <td>...</td>\n",
              "      <td>...</td>\n",
              "      <td>...</td>\n",
              "      <td>...</td>\n",
              "      <td>...</td>\n",
              "      <td>...</td>\n",
              "      <td>...</td>\n",
              "      <td>...</td>\n",
              "      <td>...</td>\n",
              "      <td>...</td>\n",
              "      <td>...</td>\n",
              "      <td>...</td>\n",
              "      <td>...</td>\n",
              "      <td>...</td>\n",
              "      <td>...</td>\n",
              "      <td>...</td>\n",
              "      <td>...</td>\n",
              "    </tr>\n",
              "    <tr>\n",
              "      <th>2021-06-18 15:49:01-04:00</th>\n",
              "      <td>Apple iPhone 6+ Firmware iOS 12.5.4 (16H50)</td>\n",
              "      <td>iOS12 brings performance improvements and exci...</td>\n",
              "      <td>iOS12 brings performance improvements and exci...</td>\n",
              "      <td>67.0</td>\n",
              "      <td>Softpedia</td>\n",
              "      <td>Apple iPhone 6+ Firmware iOS 12.5.4 (16H50); i...</td>\n",
              "      <td>15</td>\n",
              "      <td>18</td>\n",
              "      <td>0.000</td>\n",
              "      <td>0.766</td>\n",
              "      <td>0.234</td>\n",
              "      <td>0.8555</td>\n",
              "      <td>0.241818</td>\n",
              "      <td>1</td>\n",
              "      <td>1</td>\n",
              "      <td>0.613682</td>\n",
              "      <td>1</td>\n",
              "    </tr>\n",
              "    <tr>\n",
              "      <th>2021-06-18 15:51:15-04:00</th>\n",
              "      <td>Apple has put an end to Space Grey iMac Pro ac...</td>\n",
              "      <td>About three months ago, Apple announced that i...</td>\n",
              "      <td>About three months ago, Apple announced that i...</td>\n",
              "      <td>67.0</td>\n",
              "      <td>MobileSyrup</td>\n",
              "      <td>Apple has put an end to Space Grey iMac Pro ac...</td>\n",
              "      <td>15</td>\n",
              "      <td>18</td>\n",
              "      <td>0.000</td>\n",
              "      <td>0.942</td>\n",
              "      <td>0.058</td>\n",
              "      <td>0.1027</td>\n",
              "      <td>-0.033333</td>\n",
              "      <td>0</td>\n",
              "      <td>0</td>\n",
              "      <td>0.136033</td>\n",
              "      <td>0</td>\n",
              "    </tr>\n",
              "    <tr>\n",
              "      <th>2021-06-18 15:54:56-04:00</th>\n",
              "      <td>What Is Okcoin?</td>\n",
              "      <td>Cryptocurrency trading is a relatively new mar...</td>\n",
              "      <td>Cryptocurrency trading is a relatively new mar...</td>\n",
              "      <td>67.0</td>\n",
              "      <td>Investopedia</td>\n",
              "      <td>What Is Okcoin?; Cryptocurrency trading is a r...</td>\n",
              "      <td>15</td>\n",
              "      <td>18</td>\n",
              "      <td>0.000</td>\n",
              "      <td>0.841</td>\n",
              "      <td>0.159</td>\n",
              "      <td>0.6901</td>\n",
              "      <td>0.189394</td>\n",
              "      <td>1</td>\n",
              "      <td>1</td>\n",
              "      <td>0.500706</td>\n",
              "      <td>1</td>\n",
              "    </tr>\n",
              "    <tr>\n",
              "      <th>2021-06-18 15:55:45-04:00</th>\n",
              "      <td>Amazon Echo Auto Only $14.99!! (Reg. $49.99) –...</td>\n",
              "      <td>Wow! Right now if you are a Prime Member, you ...</td>\n",
              "      <td>Wow! Right now if you are a Prime Member, you ...</td>\n",
              "      <td>67.0</td>\n",
              "      <td>Commonsensewithmoney</td>\n",
              "      <td>Amazon Echo Auto Only $14.99!! (Reg. $49.99) –...</td>\n",
              "      <td>15</td>\n",
              "      <td>18</td>\n",
              "      <td>0.000</td>\n",
              "      <td>0.791</td>\n",
              "      <td>0.209</td>\n",
              "      <td>0.8852</td>\n",
              "      <td>0.165816</td>\n",
              "      <td>1</td>\n",
              "      <td>1</td>\n",
              "      <td>0.719384</td>\n",
              "      <td>1</td>\n",
              "    </tr>\n",
              "    <tr>\n",
              "      <th>2021-06-18 15:56:41-04:00</th>\n",
              "      <td>MacBook Pro M1X and Mac mini may release Intel...</td>\n",
              "      <td>The release date for a new M1X version of the ...</td>\n",
              "      <td>The release date for a new M1X version of the ...</td>\n",
              "      <td>67.0</td>\n",
              "      <td>SlashGear</td>\n",
              "      <td>MacBook Pro M1X and Mac mini may release Intel...</td>\n",
              "      <td>15</td>\n",
              "      <td>18</td>\n",
              "      <td>0.000</td>\n",
              "      <td>0.890</td>\n",
              "      <td>0.110</td>\n",
              "      <td>0.6997</td>\n",
              "      <td>0.285974</td>\n",
              "      <td>1</td>\n",
              "      <td>1</td>\n",
              "      <td>0.413726</td>\n",
              "      <td>1</td>\n",
              "    </tr>\n",
              "  </tbody>\n",
              "</table>\n",
              "<p>2405 rows × 17 columns</p>\n",
              "</div>"
            ],
            "text/plain": [
              "                                                                       title  ... Sentiment\n",
              "publishedAt                                                                   ...          \n",
              "2021-06-14 09:00:00-04:00  ‘The Morning Show’ Season 2 Teaser Reveals the...  ...        -1\n",
              "2021-06-14 09:00:00-04:00  Lululemon (NASDAQ: LULU) Lines Up For A Run At...  ...         1\n",
              "2021-06-14 09:00:02-04:00  Fitbit Luxe review: A luxury fitness tracker f...  ...         1\n",
              "2021-06-14 09:00:26-04:00  We can’t believe how cheap these Apple product...  ...         1\n",
              "2021-06-14 09:00:33-04:00  ‘The Morning Show’ Season 2 Trailer: Aniston, ...  ...         1\n",
              "...                                                                      ...  ...       ...\n",
              "2021-06-18 15:49:01-04:00        Apple iPhone 6+ Firmware iOS 12.5.4 (16H50)  ...         1\n",
              "2021-06-18 15:51:15-04:00  Apple has put an end to Space Grey iMac Pro ac...  ...         0\n",
              "2021-06-18 15:54:56-04:00                                    What Is Okcoin?  ...         1\n",
              "2021-06-18 15:55:45-04:00  Amazon Echo Auto Only $14.99!! (Reg. $49.99) –...  ...         1\n",
              "2021-06-18 15:56:41-04:00  MacBook Pro M1X and Mac mini may release Intel...  ...         1\n",
              "\n",
              "[2405 rows x 17 columns]"
            ]
          },
          "metadata": {
            "tags": []
          },
          "execution_count": 87
        }
      ]
    },
    {
      "cell_type": "code",
      "metadata": {
        "id": "PCR9I-NPTvzI"
      },
      "source": [
        "apple.to_csv('good_apple.csv')"
      ],
      "execution_count": null,
      "outputs": []
    },
    {
      "cell_type": "code",
      "metadata": {
        "id": "1vb7LzUvi-32"
      },
      "source": [
        "test = pd.read_csv('good_apple.csv', parse_dates=['publishedAt'])"
      ],
      "execution_count": null,
      "outputs": []
    },
    {
      "cell_type": "code",
      "metadata": {
        "id": "qwjEefWLjFNj"
      },
      "source": [
        "def resample(df):\n",
        "  df = df.resample('h').mean()\n",
        "  df.dropna(inplace=True)\n",
        "  df=df[~df['hour'].isin([16])].copy()\n",
        "  df['results'] = df['results'].astype('int')\n",
        "  return df\n"
      ],
      "execution_count": null,
      "outputs": []
    },
    {
      "cell_type": "code",
      "metadata": {
        "id": "3bPuNK3RYDV9"
      },
      "source": [
        "# FULL ETL FUNCTION:\n",
        "\n",
        "def etl(filepath):\n",
        "\n",
        "    # Load Data\n",
        "    df = pd.read_csv(filepath)\n",
        "\n",
        "    df['publishedAt'] = pd.to_datetime(df['publishedAt'])\n",
        "    df.set_index('publishedAt', inplace=True)\n",
        "    df.index = df.index.tz_convert('US/Eastern')\n",
        "    df.sort_index(inplace=True)\n",
        "    df['hour'] = df.index.hour\n",
        "    df['day']=df.index.day\n",
        "\n",
        "    # Drop unncessary column and remove bad sources\n",
        "    if 'Unnamed: 0' in df.columns:\n",
        "      df.drop(columns='Unnamed: 0', inplace=True)\n",
        "    else:\n",
        "      pass\n",
        "    df = df[~df['source2'].isin(bad_sources)].copy()\n",
        "\n",
        "    # Drop null columns\n",
        "    df.dropna(subset=['description', 'content', 'title'], inplace=True)\n",
        "    \n",
        "    # Create column that we will NLP models will be applied to\n",
        "    df=df.apply(content_clearer_join, axis=1)\n",
        "    \n",
        "    # Drop further unnecessary columns \n",
        "    df.drop(columns=['source', 'author', 'url', 'urlToImage'], axis=1,inplace=True)\n",
        "\n",
        "    # Drop dupblicates\n",
        "    df.drop_duplicates(inplace=True)\n",
        "\n",
        "    return df"
      ],
      "execution_count": null,
      "outputs": []
    },
    {
      "cell_type": "code",
      "metadata": {
        "id": "BvpwaYNyYDTp"
      },
      "source": [
        "# Test with Netflix\n",
        "\n",
        "df_netflix = pd.read_csv('/content/drive/MyDrive/Colab Notebooks/Data/Raw_data/hourly_msft_articles_621_625')"
      ],
      "execution_count": null,
      "outputs": []
    },
    {
      "cell_type": "code",
      "metadata": {
        "id": "atV5xTdjgpUj",
        "colab": {
          "base_uri": "https://localhost:8080/",
          "height": 502
        },
        "outputId": "818ddfc6-a287-45e1-9a6d-3151dec7e740"
      },
      "source": [
        "df_netflix.head(3)"
      ],
      "execution_count": null,
      "outputs": [
        {
          "output_type": "execute_result",
          "data": {
            "text/html": [
              "<div>\n",
              "<style scoped>\n",
              "    .dataframe tbody tr th:only-of-type {\n",
              "        vertical-align: middle;\n",
              "    }\n",
              "\n",
              "    .dataframe tbody tr th {\n",
              "        vertical-align: top;\n",
              "    }\n",
              "\n",
              "    .dataframe thead th {\n",
              "        text-align: right;\n",
              "    }\n",
              "</style>\n",
              "<table border=\"1\" class=\"dataframe\">\n",
              "  <thead>\n",
              "    <tr style=\"text-align: right;\">\n",
              "      <th></th>\n",
              "      <th>Unnamed: 0</th>\n",
              "      <th>source</th>\n",
              "      <th>author</th>\n",
              "      <th>title</th>\n",
              "      <th>description</th>\n",
              "      <th>url</th>\n",
              "      <th>urlToImage</th>\n",
              "      <th>publishedAt</th>\n",
              "      <th>content</th>\n",
              "      <th>results</th>\n",
              "      <th>source2</th>\n",
              "    </tr>\n",
              "  </thead>\n",
              "  <tbody>\n",
              "    <tr>\n",
              "      <th>0</th>\n",
              "      <td>0</td>\n",
              "      <td>{'id': None, 'name': 'Windows Central'}</td>\n",
              "      <td>Sean Endicott</td>\n",
              "      <td>You can now send tabs from Microsoft Edge to o...</td>\n",
              "      <td>Sharing pages between Edge on different device...</td>\n",
              "      <td>https://www.windowscentral.com/microsoft-edge-...</td>\n",
              "      <td>https://www.windowscentral.com/sites/wpcentral...</td>\n",
              "      <td>2021-06-21T13:54:10Z</td>\n",
              "      <td>Microsoft Edge has a new feature that makes it...</td>\n",
              "      <td>55</td>\n",
              "      <td>Windows Central</td>\n",
              "    </tr>\n",
              "    <tr>\n",
              "      <th>1</th>\n",
              "      <td>1</td>\n",
              "      <td>{'id': None, 'name': 'Destructoid'}</td>\n",
              "      <td>Chris Carter</td>\n",
              "      <td>After years of fighting it, Sony finally caves...</td>\n",
              "      <td>This has been the most annoying publisher saga...</td>\n",
              "      <td>https://www.destructoid.com/sony-cross-play-2021/</td>\n",
              "      <td>https://www.destructoid.com/wp-content/uploads...</td>\n",
              "      <td>2021-06-21T13:29:45Z</td>\n",
              "      <td>This has been the most annoying publisher saga...</td>\n",
              "      <td>55</td>\n",
              "      <td>Destructoid</td>\n",
              "    </tr>\n",
              "    <tr>\n",
              "      <th>2</th>\n",
              "      <td>2</td>\n",
              "      <td>{'id': None, 'name': 'Windows Central'}</td>\n",
              "      <td>Sean Endicott</td>\n",
              "      <td>Zoom, Skype, and video call with this discount...</td>\n",
              "      <td>With more people working and studying from hom...</td>\n",
              "      <td>https://www.windowscentral.com/webcam-44-prime...</td>\n",
              "      <td>https://www.windowscentral.com/sites/wpcentral...</td>\n",
              "      <td>2021-06-21T13:14:04Z</td>\n",
              "      <td>With more people working and studying from hom...</td>\n",
              "      <td>55</td>\n",
              "      <td>Windows Central</td>\n",
              "    </tr>\n",
              "  </tbody>\n",
              "</table>\n",
              "</div>"
            ],
            "text/plain": [
              "   Unnamed: 0  ...          source2\n",
              "0           0  ...  Windows Central\n",
              "1           1  ...      Destructoid\n",
              "2           2  ...  Windows Central\n",
              "\n",
              "[3 rows x 11 columns]"
            ]
          },
          "metadata": {
            "tags": []
          },
          "execution_count": 94
        }
      ]
    },
    {
      "cell_type": "code",
      "metadata": {
        "id": "mfvO48Bvg6K8"
      },
      "source": [
        "list_of_df = ['/content/drive/MyDrive/Colab Notebooks/Data/Raw_data/hourly_am_articles_614_618',\n",
        "              '/content/drive/MyDrive/Colab Notebooks/Data/Raw_data/hourly_am_articles_621_625',\n",
        "              '/content/drive/MyDrive/Colab Notebooks/Data/Raw_data/hourly_apple_articles_614_618',\n",
        "              '/content/drive/MyDrive/Colab Notebooks/Data/Raw_data/hourly_apple_articles_621_625',\n",
        "              '/content/drive/MyDrive/Colab Notebooks/Data/Raw_data/hourly_fb_articles_614_618',\n",
        "              '/content/drive/MyDrive/Colab Notebooks/Data/Raw_data/hourly_goog_articles_614_618',\n",
        "              '/content/drive/MyDrive/Colab Notebooks/Data/Raw_data/hourly_goog_articles_621_626',\n",
        "              '/content/drive/MyDrive/Colab Notebooks/Data/Raw_data/hourly_msft_articles_614_618',\n",
        "              '/content/drive/MyDrive/Colab Notebooks/Data/Raw_data/hourly_msft_articles_621_625',\n",
        "              '/content/drive/MyDrive/Colab Notebooks/Data/Raw_data/hourly_nf_articles_614_618',\n",
        "              '/content/drive/MyDrive/Colab Notebooks/Data/Raw_data/hourly_nf_articles_621_625']\n",
        "df_name = ['am1', 'am2', 'apple1', 'apple2', 'fb1', 'goog1', 'goog2', 'msft1', 'msft2','nflx1', 'nflx2']"
      ],
      "execution_count": null,
      "outputs": []
    },
    {
      "cell_type": "code",
      "metadata": {
        "id": "OREx-5lfg6Eg"
      },
      "source": [
        "## Create dataframes using ETL function\n",
        "\n",
        "# for file, name in zip(list_of_df, df_name):\n",
        "#   df = etl(file)\n",
        "#   df = add_sentiment(df)\n",
        "#   df.to_csv(f\"/content/drive/MyDrive/Colab Notebooks/Data/crisp_data/df_etl_{name}.csv\")\n"
      ],
      "execution_count": null,
      "outputs": []
    },
    {
      "cell_type": "markdown",
      "metadata": {
        "id": "HtfEz2onQWLz"
      },
      "source": [
        "ETL for Netflix Data"
      ]
    },
    {
      "cell_type": "code",
      "metadata": {
        "id": "pk1VfyTaQOaS"
      },
      "source": [
        "df = etl('/content/drive/MyDrive/Colab Notebooks/Data/Raw_data/hourly_fb_articles_621_625')"
      ],
      "execution_count": null,
      "outputs": []
    },
    {
      "cell_type": "code",
      "metadata": {
        "id": "YuWn2CYzSOwa"
      },
      "source": [
        "df = add_sentiment(df)"
      ],
      "execution_count": null,
      "outputs": []
    },
    {
      "cell_type": "code",
      "metadata": {
        "id": "8FKNUVVnSSmC"
      },
      "source": [
        "df.to_csv(\"/content/drive/MyDrive/Colab Notebooks/Data/crisp_data/df_etl_fb2.csv\")\n"
      ],
      "execution_count": null,
      "outputs": []
    },
    {
      "cell_type": "markdown",
      "metadata": {
        "id": "irb1UThUx5gX"
      },
      "source": [
        "# NLP Analysis w/Vectorization and RFM"
      ]
    },
    {
      "cell_type": "code",
      "metadata": {
        "id": "cvzeOXCEck5_"
      },
      "source": [
        "# Tokenize and clean text - NLTK has a tokenizer\n",
        "# Remove stopworks using NLTK - potentially add words - remove punctuation - use freqdist to see if it looks good\n",
        "# Able to build word cloud at this point\n",
        "# Possible stem/lemmatize\n",
        "# Vectorize text with WordCount Vectorizer and TF-IDF - has a built in pipeline to add tokenization/stopwords/etc\n",
        "# Train test split and use RF and get feature names out of sparse matrix to get words that made an impact\n",
        "# Use pipelines to enhanec results"
      ],
      "execution_count": null,
      "outputs": []
    },
    {
      "cell_type": "code",
      "metadata": {
        "id": "qtRvaZXVyAO1"
      },
      "source": [
        "from nltk import FreqDist,word_tokenize,RegexpTokenizer,TweetTokenizer\n",
        "from nltk.corpus import stopwords\n",
        "import string\n",
        "from wordcloud import WordCloud\n",
        "from nltk.stem.wordnet import WordNetLemmatizer"
      ],
      "execution_count": null,
      "outputs": []
    },
    {
      "cell_type": "code",
      "metadata": {
        "id": "b-PLBzOG6KUk"
      },
      "source": [
        "import pandas as pd\n",
        "import numpy as np\n",
        "apple = pd.read_csv('/content/drive/MyDrive/Colab Notebooks/Data/crisp_data/df_etl_apple1.csv')"
      ],
      "execution_count": null,
      "outputs": []
    },
    {
      "cell_type": "code",
      "metadata": {
        "id": "20y41cpS6MCU"
      },
      "source": [
        "corpus = apple['cont_joined'].to_list()"
      ],
      "execution_count": null,
      "outputs": []
    },
    {
      "cell_type": "markdown",
      "metadata": {
        "id": "DbwPTOyiOO-s"
      },
      "source": [
        "## Word Tokenizer"
      ]
    },
    {
      "cell_type": "code",
      "metadata": {
        "id": "AReS1Wdf6NUS",
        "colab": {
          "base_uri": "https://localhost:8080/"
        },
        "outputId": "cbbe8d3b-7c56-4676-eed5-2d059c3f95e1"
      },
      "source": [
        "import nltk\n",
        "nltk.download('punkt')\n",
        "\n",
        "\n",
        "tokens = word_tokenize(','.join(corpus))"
      ],
      "execution_count": null,
      "outputs": [
        {
          "output_type": "stream",
          "text": [
            "[nltk_data] Downloading package punkt to /root/nltk_data...\n",
            "[nltk_data]   Unzipping tokenizers/punkt.zip.\n"
          ],
          "name": "stdout"
        }
      ]
    },
    {
      "cell_type": "code",
      "metadata": {
        "id": "SQ37Mr7d7RwS",
        "colab": {
          "base_uri": "https://localhost:8080/"
        },
        "outputId": "19791def-6def-4fff-93a6-6077402ca4e6"
      },
      "source": [
        "tokens[:5]"
      ],
      "execution_count": null,
      "outputs": [
        {
          "output_type": "execute_result",
          "data": {
            "text/plain": [
              "['Lululemon', '(', 'NASDAQ', ':', 'LULU']"
            ]
          },
          "metadata": {
            "tags": []
          },
          "execution_count": 58
        }
      ]
    },
    {
      "cell_type": "code",
      "metadata": {
        "id": "B0ATzurp8ZHV",
        "colab": {
          "base_uri": "https://localhost:8080/"
        },
        "outputId": "4e13fe9e-2302-412c-9a61-0e5955bbe407"
      },
      "source": [
        "# Bring in stopwords from NLT\n",
        "\n",
        "import nltk\n",
        "nltk.download('stopwords')\n",
        "stopwords_list = stopwords.words('english')\n",
        "\n",
        "# Add punctuation and apple\n",
        "stopwords_list.extend(string.punctuation)\n",
        "stopwords_list.append('’')\n",
        "stopwords_list.append('‘')\n",
        "stopwords_list.append(\"apple\")\n"
      ],
      "execution_count": null,
      "outputs": [
        {
          "output_type": "stream",
          "text": [
            "[nltk_data] Downloading package stopwords to /root/nltk_data...\n",
            "[nltk_data]   Unzipping corpora/stopwords.zip.\n"
          ],
          "name": "stdout"
        }
      ]
    },
    {
      "cell_type": "code",
      "metadata": {
        "id": "kFkug7-Q8hLf",
        "colab": {
          "base_uri": "https://localhost:8080/"
        },
        "outputId": "918cbd28-9f9f-4bd1-97b2-f4f53cc938cb"
      },
      "source": [
        "stopped_tokens= [w.lower() for w in tokens  if w.lower() not in stopwords_list]\n",
        "stopped_tokens[:50]"
      ],
      "execution_count": null,
      "outputs": [
        {
          "output_type": "execute_result",
          "data": {
            "text/plain": [
              "['lululemon',\n",
              " 'nasdaq',\n",
              " 'lulu',\n",
              " 'lines',\n",
              " 'run',\n",
              " 'highs',\n",
              " 'story',\n",
              " 'originally',\n",
              " 'appeared',\n",
              " 'marketbeatfor',\n",
              " 'fashion',\n",
              " 'specifically',\n",
              " 'athletic',\n",
              " 'fashion',\n",
              " 'company',\n",
              " 'lululemon',\n",
              " 'nasdaq',\n",
              " 'lulu',\n",
              " 'trading',\n",
              " 'much',\n",
              " 'like',\n",
              " 'tech',\n",
              " 'stock',\n",
              " 'maybe',\n",
              " 'morning',\n",
              " 'show',\n",
              " 'season',\n",
              " '2',\n",
              " 'teaser',\n",
              " 'reveals',\n",
              " 'fallout',\n",
              " 'alex',\n",
              " 'bradley',\n",
              " 'on-air',\n",
              " 'bombshell',\n",
              " 'video',\n",
              " 'tv+',\n",
              " 'released',\n",
              " 'first',\n",
              " 'teaser',\n",
              " 'premiere',\n",
              " 'date',\n",
              " 'second',\n",
              " 'season',\n",
              " '“',\n",
              " 'morning',\n",
              " 'show',\n",
              " '”',\n",
              " 'monday',\n",
              " 'revealing']"
            ]
          },
          "metadata": {
            "tags": []
          },
          "execution_count": 60
        }
      ]
    },
    {
      "cell_type": "code",
      "metadata": {
        "id": "VZZKPgB98x35",
        "colab": {
          "base_uri": "https://localhost:8080/",
          "height": 979
        },
        "outputId": "6f5ae15c-0352-4be1-d04e-a464f41e0bc0"
      },
      "source": [
        "# confirm there are no stopwords or punctuation\n",
        "\n",
        "freq = FreqDist(stopped_tokens)\n",
        "pd.DataFrame(freq.items()).sort_values(by=1, ascending=False).nlargest(30, columns=1)"
      ],
      "execution_count": null,
      "outputs": [
        {
          "output_type": "execute_result",
          "data": {
            "text/html": [
              "<div>\n",
              "<style scoped>\n",
              "    .dataframe tbody tr th:only-of-type {\n",
              "        vertical-align: middle;\n",
              "    }\n",
              "\n",
              "    .dataframe tbody tr th {\n",
              "        vertical-align: top;\n",
              "    }\n",
              "\n",
              "    .dataframe thead th {\n",
              "        text-align: right;\n",
              "    }\n",
              "</style>\n",
              "<table border=\"1\" class=\"dataframe\">\n",
              "  <thead>\n",
              "    <tr style=\"text-align: right;\">\n",
              "      <th></th>\n",
              "      <th>0</th>\n",
              "      <th>1</th>\n",
              "    </tr>\n",
              "  </thead>\n",
              "  <tbody>\n",
              "    <tr>\n",
              "      <th>101</th>\n",
              "      <td>new</td>\n",
              "      <td>764</td>\n",
              "    </tr>\n",
              "    <tr>\n",
              "      <th>60</th>\n",
              "      <td>'s</td>\n",
              "      <td>566</td>\n",
              "    </tr>\n",
              "    <tr>\n",
              "      <th>76</th>\n",
              "      <td>day</td>\n",
              "      <td>300</td>\n",
              "    </tr>\n",
              "    <tr>\n",
              "      <th>156</th>\n",
              "      <td>2021</td>\n",
              "      <td>287</td>\n",
              "    </tr>\n",
              "    <tr>\n",
              "      <th>279</th>\n",
              "      <td>ios</td>\n",
              "      <td>253</td>\n",
              "    </tr>\n",
              "    <tr>\n",
              "      <th>34</th>\n",
              "      <td>first</td>\n",
              "      <td>229</td>\n",
              "    </tr>\n",
              "    <tr>\n",
              "      <th>239</th>\n",
              "      <td>one</td>\n",
              "      <td>224</td>\n",
              "    </tr>\n",
              "    <tr>\n",
              "      <th>99</th>\n",
              "      <td>series</td>\n",
              "      <td>216</td>\n",
              "    </tr>\n",
              "    <tr>\n",
              "      <th>448</th>\n",
              "      <td>amazon</td>\n",
              "      <td>211</td>\n",
              "    </tr>\n",
              "    <tr>\n",
              "      <th>17</th>\n",
              "      <td>tech</td>\n",
              "      <td>206</td>\n",
              "    </tr>\n",
              "    <tr>\n",
              "      <th>330</th>\n",
              "      <td>google</td>\n",
              "      <td>204</td>\n",
              "    </tr>\n",
              "    <tr>\n",
              "      <th>416</th>\n",
              "      <td>june</td>\n",
              "      <td>200</td>\n",
              "    </tr>\n",
              "    <tr>\n",
              "      <th>63</th>\n",
              "      <td>best</td>\n",
              "      <td>195</td>\n",
              "    </tr>\n",
              "    <tr>\n",
              "      <th>263</th>\n",
              "      <td>today</td>\n",
              "      <td>190</td>\n",
              "    </tr>\n",
              "    <tr>\n",
              "      <th>75</th>\n",
              "      <td>prime</td>\n",
              "      <td>186</td>\n",
              "    </tr>\n",
              "    <tr>\n",
              "      <th>126</th>\n",
              "      <td>iphone</td>\n",
              "      <td>183</td>\n",
              "    </tr>\n",
              "    <tr>\n",
              "      <th>171</th>\n",
              "      <td>watch</td>\n",
              "      <td>176</td>\n",
              "    </tr>\n",
              "    <tr>\n",
              "      <th>280</th>\n",
              "      <td>15</td>\n",
              "      <td>164</td>\n",
              "    </tr>\n",
              "    <tr>\n",
              "      <th>652</th>\n",
              "      <td>get</td>\n",
              "      <td>163</td>\n",
              "    </tr>\n",
              "    <tr>\n",
              "      <th>639</th>\n",
              "      <td>beats</td>\n",
              "      <td>162</td>\n",
              "    </tr>\n",
              "    <tr>\n",
              "      <th>193</th>\n",
              "      <td>app</td>\n",
              "      <td>162</td>\n",
              "    </tr>\n",
              "    <tr>\n",
              "      <th>641</th>\n",
              "      <td>pro</td>\n",
              "      <td>161</td>\n",
              "    </tr>\n",
              "    <tr>\n",
              "      <th>152</th>\n",
              "      <td>big</td>\n",
              "      <td>155</td>\n",
              "    </tr>\n",
              "    <tr>\n",
              "      <th>787</th>\n",
              "      <td>may</td>\n",
              "      <td>155</td>\n",
              "    </tr>\n",
              "    <tr>\n",
              "      <th>13</th>\n",
              "      <td>company</td>\n",
              "      <td>151</td>\n",
              "    </tr>\n",
              "    <tr>\n",
              "      <th>303</th>\n",
              "      <td>year</td>\n",
              "      <td>149</td>\n",
              "    </tr>\n",
              "    <tr>\n",
              "      <th>368</th>\n",
              "      <td>week</td>\n",
              "      <td>144</td>\n",
              "    </tr>\n",
              "    <tr>\n",
              "      <th>78</th>\n",
              "      <td>deals</td>\n",
              "      <td>143</td>\n",
              "    </tr>\n",
              "    <tr>\n",
              "      <th>32</th>\n",
              "      <td>tv+</td>\n",
              "      <td>139</td>\n",
              "    </tr>\n",
              "    <tr>\n",
              "      <th>202</th>\n",
              "      <td>ipad</td>\n",
              "      <td>136</td>\n",
              "    </tr>\n",
              "  </tbody>\n",
              "</table>\n",
              "</div>"
            ],
            "text/plain": [
              "           0    1\n",
              "101      new  764\n",
              "60        's  566\n",
              "76       day  300\n",
              "156     2021  287\n",
              "279      ios  253\n",
              "34     first  229\n",
              "239      one  224\n",
              "99    series  216\n",
              "448   amazon  211\n",
              "17      tech  206\n",
              "330   google  204\n",
              "416     june  200\n",
              "63      best  195\n",
              "263    today  190\n",
              "75     prime  186\n",
              "126   iphone  183\n",
              "171    watch  176\n",
              "280       15  164\n",
              "652      get  163\n",
              "639    beats  162\n",
              "193      app  162\n",
              "641      pro  161\n",
              "152      big  155\n",
              "787      may  155\n",
              "13   company  151\n",
              "303     year  149\n",
              "368     week  144\n",
              "78     deals  143\n",
              "32       tv+  139\n",
              "202     ipad  136"
            ]
          },
          "metadata": {
            "tags": []
          },
          "execution_count": 61
        }
      ]
    },
    {
      "cell_type": "markdown",
      "metadata": {
        "id": "3hEXt5LBOTly"
      },
      "source": [
        "## RegEx Tokenizer"
      ]
    },
    {
      "cell_type": "code",
      "metadata": {
        "id": "UgUbe7zR9DjF"
      },
      "source": [
        "pattern = \"([a-zA-Z]+(?:'[a-z]+)?)\"\n",
        "tokenizer = RegexpTokenizer(pattern)"
      ],
      "execution_count": null,
      "outputs": []
    },
    {
      "cell_type": "code",
      "metadata": {
        "id": "N1FHTJyiO9cM"
      },
      "source": [
        "tokens = tokenizer.tokenize(','.join(corpus))"
      ],
      "execution_count": null,
      "outputs": []
    },
    {
      "cell_type": "code",
      "metadata": {
        "id": "BxfndwNmPB_7",
        "colab": {
          "base_uri": "https://localhost:8080/"
        },
        "outputId": "2e651983-d5b6-412c-e457-b214687981cf"
      },
      "source": [
        "stopped_tokens= [w.lower() for w in tokens  if w.lower() not in stopwords_list]\n",
        "stopped_tokens[:5]"
      ],
      "execution_count": null,
      "outputs": [
        {
          "output_type": "execute_result",
          "data": {
            "text/plain": [
              "['lululemon', 'nasdaq', 'lulu', 'lines', 'run']"
            ]
          },
          "metadata": {
            "tags": []
          },
          "execution_count": 64
        }
      ]
    },
    {
      "cell_type": "code",
      "metadata": {
        "id": "GnmQ9Q3WPq4l",
        "colab": {
          "base_uri": "https://localhost:8080/",
          "height": 979
        },
        "outputId": "07779d98-1d13-4aec-a0f1-19c618a7fac3"
      },
      "source": [
        "# Top tokens in RegExp tokenizer\n",
        "\n",
        "freq = FreqDist(stopped_tokens)\n",
        "pd.DataFrame(freq.items()).sort_values(by=1, ascending=False).nlargest(30, columns=1)"
      ],
      "execution_count": null,
      "outputs": [
        {
          "output_type": "execute_result",
          "data": {
            "text/html": [
              "<div>\n",
              "<style scoped>\n",
              "    .dataframe tbody tr th:only-of-type {\n",
              "        vertical-align: middle;\n",
              "    }\n",
              "\n",
              "    .dataframe tbody tr th {\n",
              "        vertical-align: top;\n",
              "    }\n",
              "\n",
              "    .dataframe thead th {\n",
              "        text-align: right;\n",
              "    }\n",
              "</style>\n",
              "<table border=\"1\" class=\"dataframe\">\n",
              "  <thead>\n",
              "    <tr style=\"text-align: right;\">\n",
              "      <th></th>\n",
              "      <th>0</th>\n",
              "      <th>1</th>\n",
              "    </tr>\n",
              "  </thead>\n",
              "  <tbody>\n",
              "    <tr>\n",
              "      <th>97</th>\n",
              "      <td>new</td>\n",
              "      <td>776</td>\n",
              "    </tr>\n",
              "    <tr>\n",
              "      <th>72</th>\n",
              "      <td>day</td>\n",
              "      <td>320</td>\n",
              "    </tr>\n",
              "    <tr>\n",
              "      <th>258</th>\n",
              "      <td>ios</td>\n",
              "      <td>259</td>\n",
              "    </tr>\n",
              "    <tr>\n",
              "      <th>31</th>\n",
              "      <td>tv</td>\n",
              "      <td>251</td>\n",
              "    </tr>\n",
              "    <tr>\n",
              "      <th>33</th>\n",
              "      <td>first</td>\n",
              "      <td>250</td>\n",
              "    </tr>\n",
              "    <tr>\n",
              "      <th>221</th>\n",
              "      <td>one</td>\n",
              "      <td>245</td>\n",
              "    </tr>\n",
              "    <tr>\n",
              "      <th>17</th>\n",
              "      <td>tech</td>\n",
              "      <td>223</td>\n",
              "    </tr>\n",
              "    <tr>\n",
              "      <th>95</th>\n",
              "      <td>series</td>\n",
              "      <td>219</td>\n",
              "    </tr>\n",
              "    <tr>\n",
              "      <th>419</th>\n",
              "      <td>amazon</td>\n",
              "      <td>218</td>\n",
              "    </tr>\n",
              "    <tr>\n",
              "      <th>303</th>\n",
              "      <td>google</td>\n",
              "      <td>211</td>\n",
              "    </tr>\n",
              "    <tr>\n",
              "      <th>388</th>\n",
              "      <td>june</td>\n",
              "      <td>206</td>\n",
              "    </tr>\n",
              "    <tr>\n",
              "      <th>214</th>\n",
              "      <td>year</td>\n",
              "      <td>204</td>\n",
              "    </tr>\n",
              "    <tr>\n",
              "      <th>59</th>\n",
              "      <td>best</td>\n",
              "      <td>203</td>\n",
              "    </tr>\n",
              "    <tr>\n",
              "      <th>242</th>\n",
              "      <td>today</td>\n",
              "      <td>197</td>\n",
              "    </tr>\n",
              "    <tr>\n",
              "      <th>614</th>\n",
              "      <td>pro</td>\n",
              "      <td>195</td>\n",
              "    </tr>\n",
              "    <tr>\n",
              "      <th>71</th>\n",
              "      <td>prime</td>\n",
              "      <td>190</td>\n",
              "    </tr>\n",
              "    <tr>\n",
              "      <th>119</th>\n",
              "      <td>iphone</td>\n",
              "      <td>183</td>\n",
              "    </tr>\n",
              "    <tr>\n",
              "      <th>160</th>\n",
              "      <td>watch</td>\n",
              "      <td>179</td>\n",
              "    </tr>\n",
              "    <tr>\n",
              "      <th>180</th>\n",
              "      <td>app</td>\n",
              "      <td>178</td>\n",
              "    </tr>\n",
              "    <tr>\n",
              "      <th>623</th>\n",
              "      <td>get</td>\n",
              "      <td>165</td>\n",
              "    </tr>\n",
              "    <tr>\n",
              "      <th>612</th>\n",
              "      <td>beats</td>\n",
              "      <td>164</td>\n",
              "    </tr>\n",
              "    <tr>\n",
              "      <th>145</th>\n",
              "      <td>big</td>\n",
              "      <td>162</td>\n",
              "    </tr>\n",
              "    <tr>\n",
              "      <th>750</th>\n",
              "      <td>may</td>\n",
              "      <td>156</td>\n",
              "    </tr>\n",
              "    <tr>\n",
              "      <th>1122</th>\n",
              "      <td>time</td>\n",
              "      <td>153</td>\n",
              "    </tr>\n",
              "    <tr>\n",
              "      <th>240</th>\n",
              "      <td>two</td>\n",
              "      <td>149</td>\n",
              "    </tr>\n",
              "    <tr>\n",
              "      <th>74</th>\n",
              "      <td>deals</td>\n",
              "      <td>144</td>\n",
              "    </tr>\n",
              "    <tr>\n",
              "      <th>16</th>\n",
              "      <td>like</td>\n",
              "      <td>142</td>\n",
              "    </tr>\n",
              "    <tr>\n",
              "      <th>341</th>\n",
              "      <td>week</td>\n",
              "      <td>142</td>\n",
              "    </tr>\n",
              "    <tr>\n",
              "      <th>13</th>\n",
              "      <td>company</td>\n",
              "      <td>140</td>\n",
              "    </tr>\n",
              "    <tr>\n",
              "      <th>527</th>\n",
              "      <td>next</td>\n",
              "      <td>138</td>\n",
              "    </tr>\n",
              "  </tbody>\n",
              "</table>\n",
              "</div>"
            ],
            "text/plain": [
              "            0    1\n",
              "97        new  776\n",
              "72        day  320\n",
              "258       ios  259\n",
              "31         tv  251\n",
              "33      first  250\n",
              "221       one  245\n",
              "17       tech  223\n",
              "95     series  219\n",
              "419    amazon  218\n",
              "303    google  211\n",
              "388      june  206\n",
              "214      year  204\n",
              "59       best  203\n",
              "242     today  197\n",
              "614       pro  195\n",
              "71      prime  190\n",
              "119    iphone  183\n",
              "160     watch  179\n",
              "180       app  178\n",
              "623       get  165\n",
              "612     beats  164\n",
              "145       big  162\n",
              "750       may  156\n",
              "1122     time  153\n",
              "240       two  149\n",
              "74      deals  144\n",
              "16       like  142\n",
              "341      week  142\n",
              "13    company  140\n",
              "527      next  138"
            ]
          },
          "metadata": {
            "tags": []
          },
          "execution_count": 65
        }
      ]
    },
    {
      "cell_type": "markdown",
      "metadata": {
        "id": "mQ-l5UMfOpFu"
      },
      "source": [
        "- Removes 's\n",
        "- Removes numbers"
      ]
    },
    {
      "cell_type": "code",
      "metadata": {
        "id": "lBgc17GBQmD4",
        "colab": {
          "base_uri": "https://localhost:8080/"
        },
        "outputId": "db845ad2-f52b-4bf8-b7fe-c67d5d4affaf"
      },
      "source": [
        "# Bring in lemmatizer\n",
        "\n",
        "from nltk.stem.wordnet import WordNetLemmatizer\n",
        "nltk.download('wordnet')"
      ],
      "execution_count": null,
      "outputs": [
        {
          "output_type": "stream",
          "text": [
            "[nltk_data] Downloading package wordnet to /root/nltk_data...\n",
            "[nltk_data]   Unzipping corpora/wordnet.zip.\n"
          ],
          "name": "stdout"
        },
        {
          "output_type": "execute_result",
          "data": {
            "text/plain": [
              "True"
            ]
          },
          "metadata": {
            "tags": []
          },
          "execution_count": 66
        }
      ]
    },
    {
      "cell_type": "code",
      "metadata": {
        "id": "vYd8OfxvRFpH",
        "colab": {
          "base_uri": "https://localhost:8080/",
          "height": 35
        },
        "outputId": "57ff4217-21e5-4b16-90f1-f9160fd9c927"
      },
      "source": [
        "# Test lemmatizer\n",
        "\n",
        "lemmatizer = WordNetLemmatizer()\n",
        "lemmatizer.lemmatize('feet')"
      ],
      "execution_count": null,
      "outputs": [
        {
          "output_type": "execute_result",
          "data": {
            "application/vnd.google.colaboratory.intrinsic+json": {
              "type": "string"
            },
            "text/plain": [
              "'foot'"
            ]
          },
          "metadata": {
            "tags": []
          },
          "execution_count": 67
        }
      ]
    },
    {
      "cell_type": "code",
      "metadata": {
        "id": "XS2Sfi-ORKiA"
      },
      "source": [
        "def preprocess_text(sentence, lemma=True):\n",
        "\n",
        "  pattern = \"([a-zA-Z]+(?:'[a-z]+)?)\"\n",
        "  tokenizer = RegexpTokenizer(pattern)\n",
        "  tokens = tokenizer.tokenize(sentence)\n",
        "\n",
        "  stopwords_list = stopwords.words('english')\n",
        "  stopwords_list.extend(string.punctuation)\n",
        "  stopped_tokens= [w.lower() for w in tokens  if w.lower() not in stopwords_list]\n",
        "  \n",
        "  \n",
        "  if lemma:\n",
        "    lemmatizer = WordNetLemmatizer()\n",
        "    lemma_tokens = [lemmatizer.lemmatize(w) for w in stopped_tokens]\n",
        "    return lemma_tokens\n",
        "  \n",
        "  else:\n",
        "    return stopped_tokens\n"
      ],
      "execution_count": null,
      "outputs": []
    },
    {
      "cell_type": "code",
      "metadata": {
        "id": "tKTE16-eUABb",
        "colab": {
          "base_uri": "https://localhost:8080/"
        },
        "outputId": "99f50213-2fd0-4217-a8ad-503e4596cec4"
      },
      "source": [
        "preprocess_text(\"hello my name isn't Ethan running, jumping, feet around the block\")"
      ],
      "execution_count": null,
      "outputs": [
        {
          "output_type": "execute_result",
          "data": {
            "text/plain": [
              "['hello', 'name', 'ethan', 'running', 'jumping', 'foot', 'around', 'block']"
            ]
          },
          "metadata": {
            "tags": []
          },
          "execution_count": 69
        }
      ]
    },
    {
      "cell_type": "code",
      "metadata": {
        "id": "m4s7oCQeilry"
      },
      "source": [
        "apple['tokens']=apple['cont_joined'].map(lambda x: preprocess_text(x))"
      ],
      "execution_count": null,
      "outputs": []
    },
    {
      "cell_type": "code",
      "metadata": {
        "id": "lGCVVKZ4iumt",
        "colab": {
          "base_uri": "https://localhost:8080/",
          "height": 69
        },
        "outputId": "a13e3b1c-283a-4cbf-a5dc-ae9043be1577"
      },
      "source": [
        "# Confirm they look the same\n",
        "\n",
        "apple.iloc[5]['cont_joined']"
      ],
      "execution_count": null,
      "outputs": [
        {
          "output_type": "execute_result",
          "data": {
            "application/vnd.google.colaboratory.intrinsic+json": {
              "type": "string"
            },
            "text/plain": [
              "\"Morning Show: Apple TV+ Sets Season 2 Premiere Date, Drops Trailer Featuring Julianna Margulies' News 'Icon'; The sun will rise again on The Morning Show in three months (and change).Apple TV+ on Monday announced a Sept. 17 premiere date for Season 2 of the Jennifer Aniston-Reese Witherspoon drama, while a\""
            ]
          },
          "metadata": {
            "tags": []
          },
          "execution_count": 71
        }
      ]
    },
    {
      "cell_type": "code",
      "metadata": {
        "colab": {
          "base_uri": "https://localhost:8080/"
        },
        "id": "XuzjEupRP1Pl",
        "outputId": "7a2714ef-8050-4dc4-bddc-43340c317bc1"
      },
      "source": [
        "# Match with above cell\n",
        "\n",
        "apple.iloc[5]['tokens']"
      ],
      "execution_count": null,
      "outputs": [
        {
          "output_type": "execute_result",
          "data": {
            "text/plain": [
              "['morning',\n",
              " 'show',\n",
              " 'apple',\n",
              " 'tv',\n",
              " 'set',\n",
              " 'season',\n",
              " 'premiere',\n",
              " 'date',\n",
              " 'drop',\n",
              " 'trailer',\n",
              " 'featuring',\n",
              " 'julianna',\n",
              " 'margulies',\n",
              " 'news',\n",
              " 'icon',\n",
              " 'sun',\n",
              " 'rise',\n",
              " 'morning',\n",
              " 'show',\n",
              " 'three',\n",
              " 'month',\n",
              " 'change',\n",
              " 'apple',\n",
              " 'tv',\n",
              " 'monday',\n",
              " 'announced',\n",
              " 'sept',\n",
              " 'premiere',\n",
              " 'date',\n",
              " 'season',\n",
              " 'jennifer',\n",
              " 'aniston',\n",
              " 'reese',\n",
              " 'witherspoon',\n",
              " 'drama']"
            ]
          },
          "metadata": {
            "tags": []
          },
          "execution_count": 72
        }
      ]
    },
    {
      "cell_type": "code",
      "metadata": {
        "colab": {
          "base_uri": "https://localhost:8080/",
          "height": 649
        },
        "id": "OuZn0Ep0QNqX",
        "outputId": "86d68177-c828-4e56-be59-2cee5ce5872a"
      },
      "source": [
        "apple.head()"
      ],
      "execution_count": null,
      "outputs": [
        {
          "output_type": "execute_result",
          "data": {
            "text/html": [
              "<div>\n",
              "<style scoped>\n",
              "    .dataframe tbody tr th:only-of-type {\n",
              "        vertical-align: middle;\n",
              "    }\n",
              "\n",
              "    .dataframe tbody tr th {\n",
              "        vertical-align: top;\n",
              "    }\n",
              "\n",
              "    .dataframe thead th {\n",
              "        text-align: right;\n",
              "    }\n",
              "</style>\n",
              "<table border=\"1\" class=\"dataframe\">\n",
              "  <thead>\n",
              "    <tr style=\"text-align: right;\">\n",
              "      <th></th>\n",
              "      <th>publishedAt</th>\n",
              "      <th>title</th>\n",
              "      <th>description</th>\n",
              "      <th>content</th>\n",
              "      <th>results</th>\n",
              "      <th>source2</th>\n",
              "      <th>hour</th>\n",
              "      <th>day</th>\n",
              "      <th>cont_joined</th>\n",
              "      <th>neg</th>\n",
              "      <th>neu</th>\n",
              "      <th>pos</th>\n",
              "      <th>comp</th>\n",
              "      <th>blob</th>\n",
              "      <th>comp_abs</th>\n",
              "      <th>blob_abs</th>\n",
              "      <th>c_b</th>\n",
              "      <th>Sentiment</th>\n",
              "      <th>tokens</th>\n",
              "    </tr>\n",
              "  </thead>\n",
              "  <tbody>\n",
              "    <tr>\n",
              "      <th>0</th>\n",
              "      <td>2021-06-14 09:00:00-04:00</td>\n",
              "      <td>Lululemon (NASDAQ: LULU) Lines Up For A Run At...</td>\n",
              "      <td>This story originally appeared on MarketBeatFo...</td>\n",
              "      <td>This story originally appeared on MarketBeatFo...</td>\n",
              "      <td>124.0</td>\n",
              "      <td>MarketBeat</td>\n",
              "      <td>9.0</td>\n",
              "      <td>14.0</td>\n",
              "      <td>Lululemon (NASDAQ: LULU) Lines Up For A Run At...</td>\n",
              "      <td>0.000</td>\n",
              "      <td>0.930</td>\n",
              "      <td>0.070</td>\n",
              "      <td>0.4173</td>\n",
              "      <td>0.317500</td>\n",
              "      <td>1</td>\n",
              "      <td>1</td>\n",
              "      <td>0.099800</td>\n",
              "      <td>1</td>\n",
              "      <td>[lululemon, nasdaq, lulu, line, run, high, sto...</td>\n",
              "    </tr>\n",
              "    <tr>\n",
              "      <th>1</th>\n",
              "      <td>2021-06-14 09:00:00-04:00</td>\n",
              "      <td>‘The Morning Show’ Season 2 Teaser Reveals the...</td>\n",
              "      <td>Apple TV+ released the first teaser and premie...</td>\n",
              "      <td>Apple TV+ released the first teaser and premie...</td>\n",
              "      <td>124.0</td>\n",
              "      <td>TheWrap</td>\n",
              "      <td>9.0</td>\n",
              "      <td>14.0</td>\n",
              "      <td>‘The Morning Show’ Season 2 Teaser Reveals the...</td>\n",
              "      <td>0.133</td>\n",
              "      <td>0.867</td>\n",
              "      <td>0.000</td>\n",
              "      <td>-0.7096</td>\n",
              "      <td>0.125000</td>\n",
              "      <td>-1</td>\n",
              "      <td>0</td>\n",
              "      <td>-0.834600</td>\n",
              "      <td>-1</td>\n",
              "      <td>[morning, show, season, teaser, reveals, fallo...</td>\n",
              "    </tr>\n",
              "    <tr>\n",
              "      <th>2</th>\n",
              "      <td>2021-06-14 09:00:02-04:00</td>\n",
              "      <td>Fitbit Luxe review: A luxury fitness tracker f...</td>\n",
              "      <td>Source: Jeramy Johnson / Android CentralIt's n...</td>\n",
              "      <td>Source: Jeramy Johnson / Android CentralIt's n...</td>\n",
              "      <td>124.0</td>\n",
              "      <td>Android Central</td>\n",
              "      <td>9.0</td>\n",
              "      <td>14.0</td>\n",
              "      <td>Fitbit Luxe review: A luxury fitness tracker f...</td>\n",
              "      <td>0.035</td>\n",
              "      <td>0.790</td>\n",
              "      <td>0.175</td>\n",
              "      <td>0.6593</td>\n",
              "      <td>0.257143</td>\n",
              "      <td>1</td>\n",
              "      <td>1</td>\n",
              "      <td>0.402157</td>\n",
              "      <td>1</td>\n",
              "      <td>[fitbit, luxe, review, luxury, fitness, tracke...</td>\n",
              "    </tr>\n",
              "    <tr>\n",
              "      <th>3</th>\n",
              "      <td>2021-06-14 09:00:26-04:00</td>\n",
              "      <td>We can’t believe how cheap these Apple product...</td>\n",
              "      <td>Technically, Prime Day deals aren’t officially...</td>\n",
              "      <td>Technically, Prime Day deals aren’t officially...</td>\n",
              "      <td>124.0</td>\n",
              "      <td>Digital Trends</td>\n",
              "      <td>9.0</td>\n",
              "      <td>14.0</td>\n",
              "      <td>We can’t believe how cheap these Apple product...</td>\n",
              "      <td>0.047</td>\n",
              "      <td>0.856</td>\n",
              "      <td>0.098</td>\n",
              "      <td>0.5499</td>\n",
              "      <td>0.271429</td>\n",
              "      <td>1</td>\n",
              "      <td>1</td>\n",
              "      <td>0.278471</td>\n",
              "      <td>1</td>\n",
              "      <td>[believe, cheap, apple, product, prime, day, t...</td>\n",
              "    </tr>\n",
              "    <tr>\n",
              "      <th>4</th>\n",
              "      <td>2021-06-14 09:00:33-04:00</td>\n",
              "      <td>‘The Morning Show’ Season 2 Trailer: Aniston, ...</td>\n",
              "      <td>Apple has announced its flagship drama series ...</td>\n",
              "      <td>Apple has announced its flagship drama series ...</td>\n",
              "      <td>124.0</td>\n",
              "      <td>IndieWire</td>\n",
              "      <td>9.0</td>\n",
              "      <td>14.0</td>\n",
              "      <td>‘The Morning Show’ Season 2 Trailer: Aniston, ...</td>\n",
              "      <td>0.041</td>\n",
              "      <td>0.798</td>\n",
              "      <td>0.162</td>\n",
              "      <td>0.7096</td>\n",
              "      <td>0.195455</td>\n",
              "      <td>1</td>\n",
              "      <td>1</td>\n",
              "      <td>0.514145</td>\n",
              "      <td>1</td>\n",
              "      <td>[morning, show, season, trailer, aniston, with...</td>\n",
              "    </tr>\n",
              "  </tbody>\n",
              "</table>\n",
              "</div>"
            ],
            "text/plain": [
              "                 publishedAt  ...                                             tokens\n",
              "0  2021-06-14 09:00:00-04:00  ...  [lululemon, nasdaq, lulu, line, run, high, sto...\n",
              "1  2021-06-14 09:00:00-04:00  ...  [morning, show, season, teaser, reveals, fallo...\n",
              "2  2021-06-14 09:00:02-04:00  ...  [fitbit, luxe, review, luxury, fitness, tracke...\n",
              "3  2021-06-14 09:00:26-04:00  ...  [believe, cheap, apple, product, prime, day, t...\n",
              "4  2021-06-14 09:00:33-04:00  ...  [morning, show, season, trailer, aniston, with...\n",
              "\n",
              "[5 rows x 19 columns]"
            ]
          },
          "metadata": {
            "tags": []
          },
          "execution_count": 73
        }
      ]
    },
    {
      "cell_type": "markdown",
      "metadata": {
        "id": "kmOouEGxYhfN"
      },
      "source": [
        "**Once I have tokens here, do I need TD-IDF?**"
      ]
    },
    {
      "cell_type": "markdown",
      "metadata": {
        "id": "z5G9hSqSZogt"
      },
      "source": [
        "## TF-IDF Vectorizer"
      ]
    },
    {
      "cell_type": "code",
      "metadata": {
        "id": "kzwu09bcXuGM"
      },
      "source": [
        "# Create X and y data\n",
        "\n",
        "X = apple.iloc[:,8]\n",
        "y= apple.iloc[:,-2]"
      ],
      "execution_count": null,
      "outputs": []
    },
    {
      "cell_type": "code",
      "metadata": {
        "id": "wuruNOgQXuBC"
      },
      "source": [
        "# Perform train-test-split\n",
        "\n",
        "from sklearn.model_selection import train_test_split\n",
        "X_train, X_test, y_train, y_test = train_test_split(X,y, test_size=0.3,\n",
        "                                                    random_state=42)"
      ],
      "execution_count": null,
      "outputs": []
    },
    {
      "cell_type": "code",
      "metadata": {
        "id": "l52iFmGrXt9I",
        "colab": {
          "base_uri": "https://localhost:8080/"
        },
        "outputId": "f2b4aec5-4842-40e3-8f16-c1790c988d0f"
      },
      "source": [
        "# Check distribution\n",
        "# Add visual here\n",
        "\n",
        "y_train.value_counts(normalize=True)"
      ],
      "execution_count": null,
      "outputs": [
        {
          "output_type": "execute_result",
          "data": {
            "text/plain": [
              " 1    0.525434\n",
              " 0    0.317175\n",
              "-1    0.157391\n",
              "Name: Sentiment, dtype: float64"
            ]
          },
          "metadata": {
            "tags": []
          },
          "execution_count": 76
        }
      ]
    },
    {
      "cell_type": "code",
      "metadata": {
        "colab": {
          "base_uri": "https://localhost:8080/"
        },
        "id": "YywOJs49Q-Ce",
        "outputId": "a2cd5ff0-8d2d-411d-ff96-d843b84127c8"
      },
      "source": [
        "# Ensure shapes line up properly\n",
        "\n",
        "print(X_train.shape)\n",
        "print(X_test.shape)\n",
        "print(y_train.shape)\n",
        "print(y_test.shape)"
      ],
      "execution_count": null,
      "outputs": [
        {
          "output_type": "stream",
          "text": [
            "(1671,)\n",
            "(717,)\n",
            "(1671,)\n",
            "(717,)\n"
          ],
          "name": "stdout"
        }
      ]
    },
    {
      "cell_type": "code",
      "metadata": {
        "id": "BSj4ylxbXt5g"
      },
      "source": [
        "# Create vectorizer object\n",
        "\n",
        "from sklearn.feature_extraction.text import TfidfVectorizer\n",
        "tokenizer = RegexpTokenizer(pattern)\n",
        "\n",
        "vectorizer = TfidfVectorizer(tokenizer=tokenizer.tokenize,\n",
        "                             stop_words=stopwords_list)"
      ],
      "execution_count": null,
      "outputs": []
    },
    {
      "cell_type": "code",
      "metadata": {
        "id": "eRltwocqXt0H"
      },
      "source": [
        "# Fit transform train test, transform test data\n",
        "\n",
        "X_train_tfidf = vectorizer.fit_transform(X_train)\n",
        "X_test_tfidf = vectorizer.transform(X_test)"
      ],
      "execution_count": null,
      "outputs": []
    },
    {
      "cell_type": "code",
      "metadata": {
        "id": "panF1kXVXtmX",
        "colab": {
          "base_uri": "https://localhost:8080/"
        },
        "outputId": "0ad0a818-9a1b-4855-d5b3-814bd23873bc"
      },
      "source": [
        "# Ensure shapes match\n",
        "\n",
        "print(X_train_tfidf.shape)\n",
        "print(X_test_tfidf.shape)"
      ],
      "execution_count": null,
      "outputs": [
        {
          "output_type": "stream",
          "text": [
            "(1671, 10162)\n",
            "(717, 10162)\n"
          ],
          "name": "stdout"
        }
      ]
    },
    {
      "cell_type": "code",
      "metadata": {
        "id": "XXe3DzRGbQx6"
      },
      "source": [
        "# Bring in random forest\n",
        "\n",
        "from sklearn.ensemble import RandomForestClassifier\n",
        "rf = RandomForestClassifier(class_weight='balanced')"
      ],
      "execution_count": null,
      "outputs": []
    },
    {
      "cell_type": "code",
      "metadata": {
        "id": "ceq1WT4ndhlu",
        "colab": {
          "base_uri": "https://localhost:8080/"
        },
        "outputId": "3cb5632c-6b51-4df7-91c5-6f9ed180bd4c"
      },
      "source": [
        "# Fit model\n",
        "\n",
        "rf.fit(X_train_tfidf,y_train)"
      ],
      "execution_count": null,
      "outputs": [
        {
          "output_type": "execute_result",
          "data": {
            "text/plain": [
              "RandomForestClassifier(bootstrap=True, ccp_alpha=0.0, class_weight='balanced',\n",
              "                       criterion='gini', max_depth=None, max_features='auto',\n",
              "                       max_leaf_nodes=None, max_samples=None,\n",
              "                       min_impurity_decrease=0.0, min_impurity_split=None,\n",
              "                       min_samples_leaf=1, min_samples_split=2,\n",
              "                       min_weight_fraction_leaf=0.0, n_estimators=100,\n",
              "                       n_jobs=None, oob_score=False, random_state=None,\n",
              "                       verbose=0, warm_start=False)"
            ]
          },
          "metadata": {
            "tags": []
          },
          "execution_count": 82
        }
      ]
    },
    {
      "cell_type": "code",
      "metadata": {
        "id": "efxUmVGZkd61",
        "colab": {
          "base_uri": "https://localhost:8080/",
          "height": 445
        },
        "outputId": "d2ba3023-9d2f-477f-a92d-e34b41a09975"
      },
      "source": [
        "# Check feature importances\n",
        "# Do this with pipeline\n",
        "\n",
        "import seaborn as sns\n",
        "from sklearn.metrics import confusion_matrix, plot_confusion_matrix\n",
        "import matplotlib.pyplot as plt\n",
        "\n",
        "with plt.style.context('seaborn-talk'):\n",
        "\n",
        "    ## Get Feature Importance\n",
        "    importance = pd.Series(rf.feature_importances_,\n",
        "                           index=vectorizer.get_feature_names())\n",
        "\n",
        "    ## Take the .tail 30 and plot kind='barh'\n",
        "    importance.sort_values().tail(30).plot(kind='barh')"
      ],
      "execution_count": null,
      "outputs": [
        {
          "output_type": "display_data",
          "data": {
            "image/png": "[encoded data removed]",
            "text/plain": [
              "<Figure size 748.8x514.8 with 1 Axes>"
            ]
          },
          "metadata": {
            "tags": [],
            "needs_background": "light"
          }
        }
      ]
    },
    {
      "cell_type": "markdown",
      "metadata": {
        "id": "FtrIgDn7gcu9"
      },
      "source": [
        "## Random Forest Model"
      ]
    },
    {
      "cell_type": "code",
      "metadata": {
        "colab": {
          "base_uri": "https://localhost:8080/"
        },
        "id": "-3OV7qo8ekv1",
        "outputId": "65641505-3fca-4e97-a5b8-63e31b5fb624"
      },
      "source": [
        "# Dummy Classifier\n",
        "from sklearn.dummy import DummyClassifier\n",
        "dummy_clf = DummyClassifier(strategy=\"stratified\")\n",
        "dummy_clf.fit(X_train_tfidf,y_train)"
      ],
      "execution_count": null,
      "outputs": [
        {
          "output_type": "execute_result",
          "data": {
            "text/plain": [
              "DummyClassifier(constant=None, random_state=None, strategy='stratified')"
            ]
          },
          "metadata": {
            "tags": []
          },
          "execution_count": 84
        }
      ]
    },
    {
      "cell_type": "code",
      "metadata": {
        "id": "DVFIEEWBZBMr"
      },
      "source": [
        "from sklearn.metrics import classification_report\n",
        "\n",
        "def evaluate_model(fit_model, X_train, X_test, y_train, y_test, cmap='Blues', normalize='true'):\n",
        "    \"\"\"\n",
        "    Returns results of a fit model\n",
        "    Parameters: fit model, training and test data, can optionally adjust color palette and normalized matrix\n",
        "    Returns: Classification report, ROC curve, AUC score, confusion matrix, and training vs test F1 results\n",
        "    \"\"\"\n",
        "    \n",
        "    y_hat_test = fit_model.predict(X_test)\n",
        "    y_hat_train = fit_model.predict(X_train)\n",
        "    print('********************CLASSIFICATION REPORT - TRAIN *************************') \n",
        "    print(classification_report(y_train, y_hat_train))\n",
        "    print('********************CLASSIFICATION REPORT - TEST *************************') \n",
        "    print(classification_report(y_test, y_hat_test))\n",
        "    print('*********************************************************************') \n",
        "    \n",
        "    # fig, axes = plt.subplots(ncols=2, figsize=(10,4))\n",
        "    # plot_roc_curve(fit_model, X_test, y_test, ax=axes[0])\n",
        "    cm = cm = confusion_matrix(y_test, y_hat_test)\n",
        "    sns.heatmap(cm, annot=True, fmt='g', cmap=cmap, xticklabels=['Negative', 'Neutral', 'Positive'], yticklabels=['Negative', 'Neutral', 'Positive'])\n",
        "    \n"
      ],
      "execution_count": null,
      "outputs": []
    },
    {
      "cell_type": "code",
      "metadata": {
        "colab": {
          "base_uri": "https://localhost:8080/",
          "height": 656
        },
        "id": "44RaKw0ye_FG",
        "outputId": "df65f629-85ef-4534-cb40-75e700926b51"
      },
      "source": [
        "evaluate_model(dummy_clf, X_train_tfidf, X_test_tfidf, y_train, y_test)"
      ],
      "execution_count": null,
      "outputs": [
        {
          "output_type": "stream",
          "text": [
            "********************CLASSIFICATION REPORT - TRAIN *************************\n",
            "              precision    recall  f1-score   support\n",
            "\n",
            "          -1       0.15      0.15      0.15       263\n",
            "           0       0.33      0.34      0.33       530\n",
            "           1       0.50      0.49      0.50       878\n",
            "\n",
            "    accuracy                           0.39      1671\n",
            "   macro avg       0.32      0.33      0.32      1671\n",
            "weighted avg       0.39      0.39      0.39      1671\n",
            "\n",
            "********************CLASSIFICATION REPORT - TEST *************************\n",
            "              precision    recall  f1-score   support\n",
            "\n",
            "          -1       0.10      0.12      0.11        99\n",
            "           0       0.33      0.32      0.32       235\n",
            "           1       0.53      0.51      0.52       383\n",
            "\n",
            "    accuracy                           0.40       717\n",
            "   macro avg       0.32      0.32      0.32       717\n",
            "weighted avg       0.40      0.40      0.40       717\n",
            "\n",
            "*********************************************************************\n"
          ],
          "name": "stdout"
        },
        {
          "output_type": "display_data",
          "data": {
            "image/png": "[encoded data removed]",
            "text/plain": [
              "<Figure size 432x288 with 2 Axes>"
            ]
          },
          "metadata": {
            "tags": [],
            "needs_background": "light"
          }
        }
      ]
    },
    {
      "cell_type": "code",
      "metadata": {
        "id": "DCa0zVNvdHxF"
      },
      "source": [
        "from sklearn.metrics import accuracy_score"
      ],
      "execution_count": null,
      "outputs": []
    },
    {
      "cell_type": "code",
      "metadata": {
        "id": "aJIQHcnEdKdk"
      },
      "source": [
        "# accuracy_score()\n",
        "y_pred = rf.predict(X_test_tfidf)\n"
      ],
      "execution_count": null,
      "outputs": []
    },
    {
      "cell_type": "code",
      "metadata": {
        "id": "8W50ikO2J0fF"
      },
      "source": [
        "depths = [rf.estimators_[i].get_depth() for i in range(100)]"
      ],
      "execution_count": null,
      "outputs": []
    },
    {
      "cell_type": "code",
      "metadata": {
        "colab": {
          "base_uri": "https://localhost:8080/"
        },
        "id": "g-qIa_8ZKG81",
        "outputId": "6be485e5-fa4e-4a0c-f7fb-99c3472faad2"
      },
      "source": [
        "from statistics import mean\n",
        "np.array(depths).mean()"
      ],
      "execution_count": null,
      "outputs": [
        {
          "output_type": "execute_result",
          "data": {
            "text/plain": [
              "227.55"
            ]
          },
          "metadata": {
            "tags": []
          },
          "execution_count": 90
        }
      ]
    },
    {
      "cell_type": "code",
      "metadata": {
        "colab": {
          "base_uri": "https://localhost:8080/"
        },
        "id": "-VtPWULodYy8",
        "outputId": "71719a3a-0a08-48ee-8a6c-8a1abff54df9"
      },
      "source": [
        "accuracy_score(y_test, y_pred)"
      ],
      "execution_count": null,
      "outputs": [
        {
          "output_type": "execute_result",
          "data": {
            "text/plain": [
              "0.6262203626220363"
            ]
          },
          "metadata": {
            "tags": []
          },
          "execution_count": 91
        }
      ]
    },
    {
      "cell_type": "code",
      "metadata": {
        "colab": {
          "base_uri": "https://localhost:8080/",
          "height": 656
        },
        "id": "ZLZroxWJdgyx",
        "outputId": "d3d1a175-f9f6-4512-ac12-b41052191c3b"
      },
      "source": [
        "evaluate_model(rf, X_train_tfidf, X_test_tfidf, y_train, y_test)"
      ],
      "execution_count": null,
      "outputs": [
        {
          "output_type": "stream",
          "text": [
            "********************CLASSIFICATION REPORT - TRAIN *************************\n",
            "              precision    recall  f1-score   support\n",
            "\n",
            "          -1       1.00      1.00      1.00       263\n",
            "           0       1.00      1.00      1.00       530\n",
            "           1       1.00      1.00      1.00       878\n",
            "\n",
            "    accuracy                           1.00      1671\n",
            "   macro avg       1.00      1.00      1.00      1671\n",
            "weighted avg       1.00      1.00      1.00      1671\n",
            "\n",
            "********************CLASSIFICATION REPORT - TEST *************************\n",
            "              precision    recall  f1-score   support\n",
            "\n",
            "          -1       0.69      0.25      0.37        99\n",
            "           0       0.52      0.46      0.48       235\n",
            "           1       0.67      0.83      0.74       383\n",
            "\n",
            "    accuracy                           0.63       717\n",
            "   macro avg       0.63      0.51      0.53       717\n",
            "weighted avg       0.62      0.63      0.60       717\n",
            "\n",
            "*********************************************************************\n"
          ],
          "name": "stdout"
        },
        {
          "output_type": "display_data",
          "data": {
            "image/png": "[encoded data removed]",
            "text/plain": [
              "<Figure size 432x288 with 2 Axes>"
            ]
          },
          "metadata": {
            "tags": [],
            "needs_background": "light"
          }
        }
      ]
    },
    {
      "cell_type": "markdown",
      "metadata": {
        "id": "_2AZ3ym_HWAo"
      },
      "source": [
        "## Logistic Regression"
      ]
    },
    {
      "cell_type": "code",
      "metadata": {
        "id": "AHMT10gw145y"
      },
      "source": [
        "from sklearn.linear_model import LogisticRegression\n",
        "clf_lr = LogisticRegression(C=1e12, class_weight='balanced')"
      ],
      "execution_count": null,
      "outputs": []
    },
    {
      "cell_type": "code",
      "metadata": {
        "colab": {
          "base_uri": "https://localhost:8080/"
        },
        "id": "i0jzVl3JGthB",
        "outputId": "578bc849-2f9a-483c-acb5-acee982793b2"
      },
      "source": [
        "clf_lr.fit(X_train_tfidf, y_train)"
      ],
      "execution_count": null,
      "outputs": [
        {
          "output_type": "execute_result",
          "data": {
            "text/plain": [
              "LogisticRegression(C=1000000000000.0, class_weight='balanced', dual=False,\n",
              "                   fit_intercept=True, intercept_scaling=1, l1_ratio=None,\n",
              "                   max_iter=100, multi_class='auto', n_jobs=None, penalty='l2',\n",
              "                   random_state=None, solver='lbfgs', tol=0.0001, verbose=0,\n",
              "                   warm_start=False)"
            ]
          },
          "metadata": {
            "tags": []
          },
          "execution_count": 94
        }
      ]
    },
    {
      "cell_type": "code",
      "metadata": {
        "colab": {
          "base_uri": "https://localhost:8080/",
          "height": 656
        },
        "id": "LW8rcp22GxHz",
        "outputId": "f3ad7f96-4522-4214-e1b7-a587c7d8e81c"
      },
      "source": [
        "evaluate_model(clf_lr, X_train_tfidf, X_test_tfidf, y_train, y_test)"
      ],
      "execution_count": null,
      "outputs": [
        {
          "output_type": "stream",
          "text": [
            "********************CLASSIFICATION REPORT - TRAIN *************************\n",
            "              precision    recall  f1-score   support\n",
            "\n",
            "          -1       1.00      1.00      1.00       263\n",
            "           0       1.00      1.00      1.00       530\n",
            "           1       1.00      1.00      1.00       878\n",
            "\n",
            "    accuracy                           1.00      1671\n",
            "   macro avg       1.00      1.00      1.00      1671\n",
            "weighted avg       1.00      1.00      1.00      1671\n",
            "\n",
            "********************CLASSIFICATION REPORT - TEST *************************\n",
            "              precision    recall  f1-score   support\n",
            "\n",
            "          -1       0.48      0.36      0.41        99\n",
            "           0       0.52      0.49      0.50       235\n",
            "           1       0.69      0.77      0.73       383\n",
            "\n",
            "    accuracy                           0.62       717\n",
            "   macro avg       0.57      0.54      0.55       717\n",
            "weighted avg       0.61      0.62      0.61       717\n",
            "\n",
            "*********************************************************************\n"
          ],
          "name": "stdout"
        },
        {
          "output_type": "display_data",
          "data": {
            "image/png": "[encoded data removed]",
            "text/plain": [
              "<Figure size 432x288 with 2 Axes>"
            ]
          },
          "metadata": {
            "tags": [],
            "needs_background": "light"
          }
        }
      ]
    },
    {
      "cell_type": "markdown",
      "metadata": {
        "id": "vlVxKcaTnvoW"
      },
      "source": [
        "## Building Pipeline"
      ]
    },
    {
      "cell_type": "code",
      "metadata": {
        "id": "EBS9PxLpnS8W"
      },
      "source": [
        "from sklearn.pipeline import Pipeline\n",
        "from sklearn.feature_extraction.text import CountVectorizer"
      ],
      "execution_count": null,
      "outputs": []
    },
    {
      "cell_type": "code",
      "metadata": {
        "id": "5A8rKhwjnunW"
      },
      "source": [
        "# from sklearn.feature_extraction.text import TfidfTransformer\n",
        "# text_pipe = Pipeline(steps=[\n",
        "#     ('count_vectorizer',CountVectorizer(lowercase=True)),\n",
        "#     ('tf_transformer',TfidfTransformer(use_idf=True))\n",
        "# ])"
      ],
      "execution_count": null,
      "outputs": []
    },
    {
      "cell_type": "code",
      "metadata": {
        "colab": {
          "base_uri": "https://localhost:8080/"
        },
        "id": "gHnY6D6hBP36",
        "outputId": "d7d5f722-e2f9-459d-d7f6-dd43142fb200"
      },
      "source": [
        "tokenizer.tokenize"
      ],
      "execution_count": null,
      "outputs": [
        {
          "output_type": "execute_result",
          "data": {
            "text/plain": [
              "<bound method RegexpTokenizer.tokenize of RegexpTokenizer(pattern=\"([a-zA-Z]+(?:'[a-z]+)?)\", gaps=False, discard_empty=True, flags=<RegexFlag.UNICODE|DOTALL|MULTILINE: 56>)>"
            ]
          },
          "metadata": {
            "tags": []
          },
          "execution_count": 98
        }
      ]
    },
    {
      "cell_type": "code",
      "metadata": {
        "id": "4e7wAAXPHa6h"
      },
      "source": [
        "# Doesn't need to be a pipeline\n",
        "from sklearn.feature_extraction.text import TfidfVectorizer\n",
        "text_pipe = TfidfVectorizer(tokenizer.tokenize, lowercase=True)"
      ],
      "execution_count": null,
      "outputs": []
    },
    {
      "cell_type": "code",
      "metadata": {
        "id": "zRiHry7an1rR"
      },
      "source": [
        "full_pipe = Pipeline([('text_pipe',text_pipe),\n",
        "                     ('clf',RandomForestClassifier(class_weight='balanced', n_jobs=-1))])"
      ],
      "execution_count": null,
      "outputs": []
    },
    {
      "cell_type": "code",
      "metadata": {
        "id": "fDpfm9Cko2gq",
        "colab": {
          "base_uri": "https://localhost:8080/"
        },
        "outputId": "ea4fe346-9424-4c05-91d3-9fa6c676a561"
      },
      "source": [
        "full_pipe.get_params()"
      ],
      "execution_count": null,
      "outputs": [
        {
          "output_type": "execute_result",
          "data": {
            "text/plain": [
              "{'clf': RandomForestClassifier(bootstrap=True, ccp_alpha=0.0, class_weight='balanced',\n",
              "                        criterion='gini', max_depth=None, max_features='auto',\n",
              "                        max_leaf_nodes=None, max_samples=None,\n",
              "                        min_impurity_decrease=0.0, min_impurity_split=None,\n",
              "                        min_samples_leaf=1, min_samples_split=2,\n",
              "                        min_weight_fraction_leaf=0.0, n_estimators=100,\n",
              "                        n_jobs=-1, oob_score=False, random_state=None, verbose=0,\n",
              "                        warm_start=False),\n",
              " 'clf__bootstrap': True,\n",
              " 'clf__ccp_alpha': 0.0,\n",
              " 'clf__class_weight': 'balanced',\n",
              " 'clf__criterion': 'gini',\n",
              " 'clf__max_depth': None,\n",
              " 'clf__max_features': 'auto',\n",
              " 'clf__max_leaf_nodes': None,\n",
              " 'clf__max_samples': None,\n",
              " 'clf__min_impurity_decrease': 0.0,\n",
              " 'clf__min_impurity_split': None,\n",
              " 'clf__min_samples_leaf': 1,\n",
              " 'clf__min_samples_split': 2,\n",
              " 'clf__min_weight_fraction_leaf': 0.0,\n",
              " 'clf__n_estimators': 100,\n",
              " 'clf__n_jobs': -1,\n",
              " 'clf__oob_score': False,\n",
              " 'clf__random_state': None,\n",
              " 'clf__verbose': 0,\n",
              " 'clf__warm_start': False,\n",
              " 'memory': None,\n",
              " 'steps': [('text_pipe',\n",
              "   TfidfVectorizer(analyzer='word', binary=False, decode_error='strict',\n",
              "                   dtype=<class 'numpy.float64'>, encoding='utf-8',\n",
              "                   input=<bound method RegexpTokenizer.tokenize of RegexpTokenizer(pattern=\"([a-zA-Z]+(?:'[a-z]+)?)\", gaps=False, discard_empty=True, flags=<RegexFlag.UNICODE|DOTALL|MULTILINE: 56>)>,\n",
              "                   lowercase=True, max_df=1.0, max_features=None, min_df=1,\n",
              "                   ngram_range=(1, 1), norm='l2', preprocessor=None,\n",
              "                   smooth_idf=True, stop_words=None, strip_accents=None,\n",
              "                   sublinear_tf=False, token_pattern='(?u)\\\\b\\\\w\\\\w+\\\\b',\n",
              "                   tokenizer=None, use_idf=True, vocabulary=None)),\n",
              "  ('clf',\n",
              "   RandomForestClassifier(bootstrap=True, ccp_alpha=0.0, class_weight='balanced',\n",
              "                          criterion='gini', max_depth=None, max_features='auto',\n",
              "                          max_leaf_nodes=None, max_samples=None,\n",
              "                          min_impurity_decrease=0.0, min_impurity_split=None,\n",
              "                          min_samples_leaf=1, min_samples_split=2,\n",
              "                          min_weight_fraction_leaf=0.0, n_estimators=100,\n",
              "                          n_jobs=-1, oob_score=False, random_state=None, verbose=0,\n",
              "                          warm_start=False))],\n",
              " 'text_pipe': TfidfVectorizer(analyzer='word', binary=False, decode_error='strict',\n",
              "                 dtype=<class 'numpy.float64'>, encoding='utf-8',\n",
              "                 input=<bound method RegexpTokenizer.tokenize of RegexpTokenizer(pattern=\"([a-zA-Z]+(?:'[a-z]+)?)\", gaps=False, discard_empty=True, flags=<RegexFlag.UNICODE|DOTALL|MULTILINE: 56>)>,\n",
              "                 lowercase=True, max_df=1.0, max_features=None, min_df=1,\n",
              "                 ngram_range=(1, 1), norm='l2', preprocessor=None,\n",
              "                 smooth_idf=True, stop_words=None, strip_accents=None,\n",
              "                 sublinear_tf=False, token_pattern='(?u)\\\\b\\\\w\\\\w+\\\\b',\n",
              "                 tokenizer=None, use_idf=True, vocabulary=None),\n",
              " 'text_pipe__analyzer': 'word',\n",
              " 'text_pipe__binary': False,\n",
              " 'text_pipe__decode_error': 'strict',\n",
              " 'text_pipe__dtype': numpy.float64,\n",
              " 'text_pipe__encoding': 'utf-8',\n",
              " 'text_pipe__input': <bound method RegexpTokenizer.tokenize of RegexpTokenizer(pattern=\"([a-zA-Z]+(?:'[a-z]+)?)\", gaps=False, discard_empty=True, flags=<RegexFlag.UNICODE|DOTALL|MULTILINE: 56>)>,\n",
              " 'text_pipe__lowercase': True,\n",
              " 'text_pipe__max_df': 1.0,\n",
              " 'text_pipe__max_features': None,\n",
              " 'text_pipe__min_df': 1,\n",
              " 'text_pipe__ngram_range': (1, 1),\n",
              " 'text_pipe__norm': 'l2',\n",
              " 'text_pipe__preprocessor': None,\n",
              " 'text_pipe__smooth_idf': True,\n",
              " 'text_pipe__stop_words': None,\n",
              " 'text_pipe__strip_accents': None,\n",
              " 'text_pipe__sublinear_tf': False,\n",
              " 'text_pipe__token_pattern': '(?u)\\\\b\\\\w\\\\w+\\\\b',\n",
              " 'text_pipe__tokenizer': None,\n",
              " 'text_pipe__use_idf': True,\n",
              " 'text_pipe__vocabulary': None,\n",
              " 'verbose': False}"
            ]
          },
          "metadata": {
            "tags": []
          },
          "execution_count": 101
        }
      ]
    },
    {
      "cell_type": "code",
      "metadata": {
        "colab": {
          "base_uri": "https://localhost:8080/",
          "height": 409
        },
        "id": "ZEy3nmj3COlk",
        "outputId": "27fb3b40-cbaa-4729-da9c-a9601b99ad1a"
      },
      "source": [
        "from sklearn.model_selection import GridSearchCV\n",
        "params = {'text_pipe__use_idf':[True],\n",
        "         'text_pipe__smooth_idf':[True,False],\n",
        "        #  'text_pipe__stop_words':[stopwords_list, 'english'],\n",
        "        #  'text_pipe__ngram_range': [(1, 2), (1,1)], #make change to ngram\n",
        "        # 'text_pipe__max_df':[1.0,0.99],\n",
        "        # 'text_pipe__min_df':[0.01, 0.03],\n",
        "        'text_pipe__norm':['l2','l1'],\n",
        "        'clf__criterion':['gini','entropy'],\n",
        "        # 'clf__max_depth':[None, 100, 200],\n",
        "        # 'clf__min_samples_leaf': [1,5]\n",
        "         }\n",
        "\n",
        "## Make and fit grid\n",
        "grid4 = GridSearchCV(full_pipe,\n",
        "                   params, cv=3, scoring='accuracy',n_jobs=-1,verbose=2)\n",
        "grid4.fit(X_train,y_train)\n",
        "## Display best params\n",
        "grid4.best_params_"
      ],
      "execution_count": null,
      "outputs": [
        {
          "output_type": "stream",
          "text": [
            "Fitting 3 folds for each of 8 candidates, totalling 24 fits\n"
          ],
          "name": "stdout"
        },
        {
          "output_type": "stream",
          "text": [
            "[Parallel(n_jobs=-1)]: Using backend LokyBackend with 2 concurrent workers.\n"
          ],
          "name": "stderr"
        },
        {
          "output_type": "error",
          "ename": "KeyboardInterrupt",
          "evalue": "ignored",
          "traceback": [
            "\u001b[0;31m---------------------------------------------------------------------------\u001b[0m",
            "\u001b[0;31mKeyboardInterrupt\u001b[0m                         Traceback (most recent call last)",
            "\u001b[0;32m<ipython-input-107-e5e0bfed5e5d>\u001b[0m in \u001b[0;36m<module>\u001b[0;34m()\u001b[0m\n\u001b[1;32m     15\u001b[0m grid4 = GridSearchCV(full_pipe,\n\u001b[1;32m     16\u001b[0m                    params, cv=3, scoring='accuracy',n_jobs=-1,verbose=2)\n\u001b[0;32m---> 17\u001b[0;31m \u001b[0mgrid4\u001b[0m\u001b[0;34m.\u001b[0m\u001b[0mfit\u001b[0m\u001b[0;34m(\u001b[0m\u001b[0mX_train\u001b[0m\u001b[0;34m,\u001b[0m\u001b[0my_train\u001b[0m\u001b[0;34m)\u001b[0m\u001b[0;34m\u001b[0m\u001b[0;34m\u001b[0m\u001b[0m\n\u001b[0m\u001b[1;32m     18\u001b[0m \u001b[0;31m## Display best params\u001b[0m\u001b[0;34m\u001b[0m\u001b[0;34m\u001b[0m\u001b[0;34m\u001b[0m\u001b[0m\n\u001b[1;32m     19\u001b[0m \u001b[0mgrid4\u001b[0m\u001b[0;34m.\u001b[0m\u001b[0mbest_params_\u001b[0m\u001b[0;34m\u001b[0m\u001b[0;34m\u001b[0m\u001b[0m\n",
            "\u001b[0;32m/usr/local/lib/python3.7/dist-packages/sklearn/model_selection/_search.py\u001b[0m in \u001b[0;36mfit\u001b[0;34m(self, X, y, groups, **fit_params)\u001b[0m\n\u001b[1;32m    708\u001b[0m                 \u001b[0;32mreturn\u001b[0m \u001b[0mresults\u001b[0m\u001b[0;34m\u001b[0m\u001b[0;34m\u001b[0m\u001b[0m\n\u001b[1;32m    709\u001b[0m \u001b[0;34m\u001b[0m\u001b[0m\n\u001b[0;32m--> 710\u001b[0;31m             \u001b[0mself\u001b[0m\u001b[0;34m.\u001b[0m\u001b[0m_run_search\u001b[0m\u001b[0;34m(\u001b[0m\u001b[0mevaluate_candidates\u001b[0m\u001b[0;34m)\u001b[0m\u001b[0;34m\u001b[0m\u001b[0;34m\u001b[0m\u001b[0m\n\u001b[0m\u001b[1;32m    711\u001b[0m \u001b[0;34m\u001b[0m\u001b[0m\n\u001b[1;32m    712\u001b[0m         \u001b[0;31m# For multi-metric evaluation, store the best_index_, best_params_ and\u001b[0m\u001b[0;34m\u001b[0m\u001b[0;34m\u001b[0m\u001b[0;34m\u001b[0m\u001b[0m\n",
            "\u001b[0;32m/usr/local/lib/python3.7/dist-packages/sklearn/model_selection/_search.py\u001b[0m in \u001b[0;36m_run_search\u001b[0;34m(self, evaluate_candidates)\u001b[0m\n\u001b[1;32m   1149\u001b[0m     \u001b[0;32mdef\u001b[0m \u001b[0m_run_search\u001b[0m\u001b[0;34m(\u001b[0m\u001b[0mself\u001b[0m\u001b[0;34m,\u001b[0m \u001b[0mevaluate_candidates\u001b[0m\u001b[0;34m)\u001b[0m\u001b[0;34m:\u001b[0m\u001b[0;34m\u001b[0m\u001b[0;34m\u001b[0m\u001b[0m\n\u001b[1;32m   1150\u001b[0m         \u001b[0;34m\"\"\"Search all candidates in param_grid\"\"\"\u001b[0m\u001b[0;34m\u001b[0m\u001b[0;34m\u001b[0m\u001b[0m\n\u001b[0;32m-> 1151\u001b[0;31m         \u001b[0mevaluate_candidates\u001b[0m\u001b[0;34m(\u001b[0m\u001b[0mParameterGrid\u001b[0m\u001b[0;34m(\u001b[0m\u001b[0mself\u001b[0m\u001b[0;34m.\u001b[0m\u001b[0mparam_grid\u001b[0m\u001b[0;34m)\u001b[0m\u001b[0;34m)\u001b[0m\u001b[0;34m\u001b[0m\u001b[0;34m\u001b[0m\u001b[0m\n\u001b[0m\u001b[1;32m   1152\u001b[0m \u001b[0;34m\u001b[0m\u001b[0m\n\u001b[1;32m   1153\u001b[0m \u001b[0;34m\u001b[0m\u001b[0m\n",
            "\u001b[0;32m/usr/local/lib/python3.7/dist-packages/sklearn/model_selection/_search.py\u001b[0m in \u001b[0;36mevaluate_candidates\u001b[0;34m(candidate_params)\u001b[0m\n\u001b[1;32m    687\u001b[0m                                \u001b[0;32mfor\u001b[0m \u001b[0mparameters\u001b[0m\u001b[0;34m,\u001b[0m \u001b[0;34m(\u001b[0m\u001b[0mtrain\u001b[0m\u001b[0;34m,\u001b[0m \u001b[0mtest\u001b[0m\u001b[0;34m)\u001b[0m\u001b[0;34m\u001b[0m\u001b[0;34m\u001b[0m\u001b[0m\n\u001b[1;32m    688\u001b[0m                                in product(candidate_params,\n\u001b[0;32m--> 689\u001b[0;31m                                           cv.split(X, y, groups)))\n\u001b[0m\u001b[1;32m    690\u001b[0m \u001b[0;34m\u001b[0m\u001b[0m\n\u001b[1;32m    691\u001b[0m                 \u001b[0;32mif\u001b[0m \u001b[0mlen\u001b[0m\u001b[0;34m(\u001b[0m\u001b[0mout\u001b[0m\u001b[0;34m)\u001b[0m \u001b[0;34m<\u001b[0m \u001b[0;36m1\u001b[0m\u001b[0;34m:\u001b[0m\u001b[0;34m\u001b[0m\u001b[0;34m\u001b[0m\u001b[0m\n",
            "\u001b[0;32m/usr/local/lib/python3.7/dist-packages/joblib/parallel.py\u001b[0m in \u001b[0;36m__call__\u001b[0;34m(self, iterable)\u001b[0m\n\u001b[1;32m   1052\u001b[0m \u001b[0;34m\u001b[0m\u001b[0m\n\u001b[1;32m   1053\u001b[0m             \u001b[0;32mwith\u001b[0m \u001b[0mself\u001b[0m\u001b[0;34m.\u001b[0m\u001b[0m_backend\u001b[0m\u001b[0;34m.\u001b[0m\u001b[0mretrieval_context\u001b[0m\u001b[0;34m(\u001b[0m\u001b[0;34m)\u001b[0m\u001b[0;34m:\u001b[0m\u001b[0;34m\u001b[0m\u001b[0;34m\u001b[0m\u001b[0m\n\u001b[0;32m-> 1054\u001b[0;31m                 \u001b[0mself\u001b[0m\u001b[0;34m.\u001b[0m\u001b[0mretrieve\u001b[0m\u001b[0;34m(\u001b[0m\u001b[0;34m)\u001b[0m\u001b[0;34m\u001b[0m\u001b[0;34m\u001b[0m\u001b[0m\n\u001b[0m\u001b[1;32m   1055\u001b[0m             \u001b[0;31m# Make sure that we get a last message telling us we are done\u001b[0m\u001b[0;34m\u001b[0m\u001b[0;34m\u001b[0m\u001b[0;34m\u001b[0m\u001b[0m\n\u001b[1;32m   1056\u001b[0m             \u001b[0melapsed_time\u001b[0m \u001b[0;34m=\u001b[0m \u001b[0mtime\u001b[0m\u001b[0;34m.\u001b[0m\u001b[0mtime\u001b[0m\u001b[0;34m(\u001b[0m\u001b[0;34m)\u001b[0m \u001b[0;34m-\u001b[0m \u001b[0mself\u001b[0m\u001b[0;34m.\u001b[0m\u001b[0m_start_time\u001b[0m\u001b[0;34m\u001b[0m\u001b[0;34m\u001b[0m\u001b[0m\n",
            "\u001b[0;32m/usr/local/lib/python3.7/dist-packages/joblib/parallel.py\u001b[0m in \u001b[0;36mretrieve\u001b[0;34m(self)\u001b[0m\n\u001b[1;32m    931\u001b[0m             \u001b[0;32mtry\u001b[0m\u001b[0;34m:\u001b[0m\u001b[0;34m\u001b[0m\u001b[0;34m\u001b[0m\u001b[0m\n\u001b[1;32m    932\u001b[0m                 \u001b[0;32mif\u001b[0m \u001b[0mgetattr\u001b[0m\u001b[0;34m(\u001b[0m\u001b[0mself\u001b[0m\u001b[0;34m.\u001b[0m\u001b[0m_backend\u001b[0m\u001b[0;34m,\u001b[0m \u001b[0;34m'supports_timeout'\u001b[0m\u001b[0;34m,\u001b[0m \u001b[0;32mFalse\u001b[0m\u001b[0;34m)\u001b[0m\u001b[0;34m:\u001b[0m\u001b[0;34m\u001b[0m\u001b[0;34m\u001b[0m\u001b[0m\n\u001b[0;32m--> 933\u001b[0;31m                     \u001b[0mself\u001b[0m\u001b[0;34m.\u001b[0m\u001b[0m_output\u001b[0m\u001b[0;34m.\u001b[0m\u001b[0mextend\u001b[0m\u001b[0;34m(\u001b[0m\u001b[0mjob\u001b[0m\u001b[0;34m.\u001b[0m\u001b[0mget\u001b[0m\u001b[0;34m(\u001b[0m\u001b[0mtimeout\u001b[0m\u001b[0;34m=\u001b[0m\u001b[0mself\u001b[0m\u001b[0;34m.\u001b[0m\u001b[0mtimeout\u001b[0m\u001b[0;34m)\u001b[0m\u001b[0;34m)\u001b[0m\u001b[0;34m\u001b[0m\u001b[0;34m\u001b[0m\u001b[0m\n\u001b[0m\u001b[1;32m    934\u001b[0m                 \u001b[0;32melse\u001b[0m\u001b[0;34m:\u001b[0m\u001b[0;34m\u001b[0m\u001b[0;34m\u001b[0m\u001b[0m\n\u001b[1;32m    935\u001b[0m                     \u001b[0mself\u001b[0m\u001b[0;34m.\u001b[0m\u001b[0m_output\u001b[0m\u001b[0;34m.\u001b[0m\u001b[0mextend\u001b[0m\u001b[0;34m(\u001b[0m\u001b[0mjob\u001b[0m\u001b[0;34m.\u001b[0m\u001b[0mget\u001b[0m\u001b[0;34m(\u001b[0m\u001b[0;34m)\u001b[0m\u001b[0;34m)\u001b[0m\u001b[0;34m\u001b[0m\u001b[0;34m\u001b[0m\u001b[0m\n",
            "\u001b[0;32m/usr/local/lib/python3.7/dist-packages/joblib/_parallel_backends.py\u001b[0m in \u001b[0;36mwrap_future_result\u001b[0;34m(future, timeout)\u001b[0m\n\u001b[1;32m    540\u001b[0m         AsyncResults.get from multiprocessing.\"\"\"\n\u001b[1;32m    541\u001b[0m         \u001b[0;32mtry\u001b[0m\u001b[0;34m:\u001b[0m\u001b[0;34m\u001b[0m\u001b[0;34m\u001b[0m\u001b[0m\n\u001b[0;32m--> 542\u001b[0;31m             \u001b[0;32mreturn\u001b[0m \u001b[0mfuture\u001b[0m\u001b[0;34m.\u001b[0m\u001b[0mresult\u001b[0m\u001b[0;34m(\u001b[0m\u001b[0mtimeout\u001b[0m\u001b[0;34m=\u001b[0m\u001b[0mtimeout\u001b[0m\u001b[0;34m)\u001b[0m\u001b[0;34m\u001b[0m\u001b[0;34m\u001b[0m\u001b[0m\n\u001b[0m\u001b[1;32m    543\u001b[0m         \u001b[0;32mexcept\u001b[0m \u001b[0mCfTimeoutError\u001b[0m \u001b[0;32mas\u001b[0m \u001b[0me\u001b[0m\u001b[0;34m:\u001b[0m\u001b[0;34m\u001b[0m\u001b[0;34m\u001b[0m\u001b[0m\n\u001b[1;32m    544\u001b[0m             \u001b[0;32mraise\u001b[0m \u001b[0mTimeoutError\u001b[0m \u001b[0;32mfrom\u001b[0m \u001b[0me\u001b[0m\u001b[0;34m\u001b[0m\u001b[0;34m\u001b[0m\u001b[0m\n",
            "\u001b[0;32m/usr/lib/python3.7/concurrent/futures/_base.py\u001b[0m in \u001b[0;36mresult\u001b[0;34m(self, timeout)\u001b[0m\n\u001b[1;32m    428\u001b[0m                 \u001b[0;32mreturn\u001b[0m \u001b[0mself\u001b[0m\u001b[0;34m.\u001b[0m\u001b[0m__get_result\u001b[0m\u001b[0;34m(\u001b[0m\u001b[0;34m)\u001b[0m\u001b[0;34m\u001b[0m\u001b[0;34m\u001b[0m\u001b[0m\n\u001b[1;32m    429\u001b[0m \u001b[0;34m\u001b[0m\u001b[0m\n\u001b[0;32m--> 430\u001b[0;31m             \u001b[0mself\u001b[0m\u001b[0;34m.\u001b[0m\u001b[0m_condition\u001b[0m\u001b[0;34m.\u001b[0m\u001b[0mwait\u001b[0m\u001b[0;34m(\u001b[0m\u001b[0mtimeout\u001b[0m\u001b[0;34m)\u001b[0m\u001b[0;34m\u001b[0m\u001b[0;34m\u001b[0m\u001b[0m\n\u001b[0m\u001b[1;32m    431\u001b[0m \u001b[0;34m\u001b[0m\u001b[0m\n\u001b[1;32m    432\u001b[0m             \u001b[0;32mif\u001b[0m \u001b[0mself\u001b[0m\u001b[0;34m.\u001b[0m\u001b[0m_state\u001b[0m \u001b[0;32min\u001b[0m \u001b[0;34m[\u001b[0m\u001b[0mCANCELLED\u001b[0m\u001b[0;34m,\u001b[0m \u001b[0mCANCELLED_AND_NOTIFIED\u001b[0m\u001b[0;34m]\u001b[0m\u001b[0;34m:\u001b[0m\u001b[0;34m\u001b[0m\u001b[0;34m\u001b[0m\u001b[0m\n",
            "\u001b[0;32m/usr/lib/python3.7/threading.py\u001b[0m in \u001b[0;36mwait\u001b[0;34m(self, timeout)\u001b[0m\n\u001b[1;32m    294\u001b[0m         \u001b[0;32mtry\u001b[0m\u001b[0;34m:\u001b[0m    \u001b[0;31m# restore state no matter what (e.g., KeyboardInterrupt)\u001b[0m\u001b[0;34m\u001b[0m\u001b[0;34m\u001b[0m\u001b[0m\n\u001b[1;32m    295\u001b[0m             \u001b[0;32mif\u001b[0m \u001b[0mtimeout\u001b[0m \u001b[0;32mis\u001b[0m \u001b[0;32mNone\u001b[0m\u001b[0;34m:\u001b[0m\u001b[0;34m\u001b[0m\u001b[0;34m\u001b[0m\u001b[0m\n\u001b[0;32m--> 296\u001b[0;31m                 \u001b[0mwaiter\u001b[0m\u001b[0;34m.\u001b[0m\u001b[0macquire\u001b[0m\u001b[0;34m(\u001b[0m\u001b[0;34m)\u001b[0m\u001b[0;34m\u001b[0m\u001b[0;34m\u001b[0m\u001b[0m\n\u001b[0m\u001b[1;32m    297\u001b[0m                 \u001b[0mgotit\u001b[0m \u001b[0;34m=\u001b[0m \u001b[0;32mTrue\u001b[0m\u001b[0;34m\u001b[0m\u001b[0;34m\u001b[0m\u001b[0m\n\u001b[1;32m    298\u001b[0m             \u001b[0;32melse\u001b[0m\u001b[0;34m:\u001b[0m\u001b[0;34m\u001b[0m\u001b[0;34m\u001b[0m\u001b[0m\n",
            "\u001b[0;31mKeyboardInterrupt\u001b[0m: "
          ]
        }
      ]
    },
    {
      "cell_type": "code",
      "metadata": {
        "id": "pb2z1gHCQoeO",
        "colab": {
          "base_uri": "https://localhost:8080/",
          "height": 164
        },
        "outputId": "9b907aea-da0e-4147-b0f3-223f71324c34"
      },
      "source": [
        "test =grid4.best_estimator_.named_steps['text_pipe']"
      ],
      "execution_count": null,
      "outputs": [
        {
          "output_type": "error",
          "ename": "NameError",
          "evalue": "ignored",
          "traceback": [
            "\u001b[0;31m---------------------------------------------------------------------------\u001b[0m",
            "\u001b[0;31mNameError\u001b[0m                                 Traceback (most recent call last)",
            "\u001b[0;32m<ipython-input-102-2d7bc112db8a>\u001b[0m in \u001b[0;36m<module>\u001b[0;34m()\u001b[0m\n\u001b[0;32m----> 1\u001b[0;31m \u001b[0mtest\u001b[0m \u001b[0;34m=\u001b[0m\u001b[0mgrid4\u001b[0m\u001b[0;34m.\u001b[0m\u001b[0mbest_estimator_\u001b[0m\u001b[0;34m.\u001b[0m\u001b[0mnamed_steps\u001b[0m\u001b[0;34m[\u001b[0m\u001b[0;34m'text_pipe'\u001b[0m\u001b[0;34m]\u001b[0m\u001b[0;34m\u001b[0m\u001b[0;34m\u001b[0m\u001b[0m\n\u001b[0m",
            "\u001b[0;31mNameError\u001b[0m: name 'grid4' is not defined"
          ]
        }
      ]
    },
    {
      "cell_type": "code",
      "metadata": {
        "colab": {
          "base_uri": "https://localhost:8080/",
          "height": 232
        },
        "id": "nCU-avb0aR6q",
        "outputId": "c1493438-43b8-4612-f3bd-f594f527e0b6"
      },
      "source": [
        "## Get Feature Importance\n",
        "importance = pd.Series(fi2,\n",
        "                        index=tp2.get_feature_names())\n",
        "\n",
        "## Take the .tail 30 and plot kind='barh'\n",
        "importance.sort_values().tail(30).plot(kind='barh')"
      ],
      "execution_count": null,
      "outputs": [
        {
          "output_type": "error",
          "ename": "NameError",
          "evalue": "ignored",
          "traceback": [
            "\u001b[0;31m---------------------------------------------------------------------------\u001b[0m",
            "\u001b[0;31mNameError\u001b[0m                                 Traceback (most recent call last)",
            "\u001b[0;32m<ipython-input-103-d40251ee0082>\u001b[0m in \u001b[0;36m<module>\u001b[0;34m()\u001b[0m\n\u001b[1;32m      1\u001b[0m \u001b[0;31m## Get Feature Importance\u001b[0m\u001b[0;34m\u001b[0m\u001b[0;34m\u001b[0m\u001b[0;34m\u001b[0m\u001b[0m\n\u001b[0;32m----> 2\u001b[0;31m importance = pd.Series(fi2,\n\u001b[0m\u001b[1;32m      3\u001b[0m                         index=tp2.get_feature_names())\n\u001b[1;32m      4\u001b[0m \u001b[0;34m\u001b[0m\u001b[0m\n\u001b[1;32m      5\u001b[0m \u001b[0;31m## Take the .tail 30 and plot kind='barh'\u001b[0m\u001b[0;34m\u001b[0m\u001b[0;34m\u001b[0m\u001b[0;34m\u001b[0m\u001b[0m\n",
            "\u001b[0;31mNameError\u001b[0m: name 'fi2' is not defined"
          ]
        }
      ]
    },
    {
      "cell_type": "code",
      "metadata": {
        "colab": {
          "base_uri": "https://localhost:8080/",
          "height": 181
        },
        "id": "og4S61qZaEK8",
        "outputId": "90ebed82-37d8-4120-dee2-1f4f37d0e8aa"
      },
      "source": [
        "fi = grid4.best_estimator_\n",
        "fi.named_steps['clf'].feature_importances_"
      ],
      "execution_count": null,
      "outputs": [
        {
          "output_type": "error",
          "ename": "NameError",
          "evalue": "ignored",
          "traceback": [
            "\u001b[0;31m---------------------------------------------------------------------------\u001b[0m",
            "\u001b[0;31mNameError\u001b[0m                                 Traceback (most recent call last)",
            "\u001b[0;32m<ipython-input-104-15d313c0b08a>\u001b[0m in \u001b[0;36m<module>\u001b[0;34m()\u001b[0m\n\u001b[0;32m----> 1\u001b[0;31m \u001b[0mfi\u001b[0m \u001b[0;34m=\u001b[0m \u001b[0mgrid4\u001b[0m\u001b[0;34m.\u001b[0m\u001b[0mbest_estimator_\u001b[0m\u001b[0;34m\u001b[0m\u001b[0;34m\u001b[0m\u001b[0m\n\u001b[0m\u001b[1;32m      2\u001b[0m \u001b[0mfi\u001b[0m\u001b[0;34m.\u001b[0m\u001b[0mnamed_steps\u001b[0m\u001b[0;34m[\u001b[0m\u001b[0;34m'clf'\u001b[0m\u001b[0;34m]\u001b[0m\u001b[0;34m.\u001b[0m\u001b[0mfeature_importances_\u001b[0m\u001b[0;34m\u001b[0m\u001b[0;34m\u001b[0m\u001b[0m\n",
            "\u001b[0;31mNameError\u001b[0m: name 'grid4' is not defined"
          ]
        }
      ]
    },
    {
      "cell_type": "code",
      "metadata": {
        "colab": {
          "base_uri": "https://localhost:8080/",
          "height": 181
        },
        "id": "6IQIiAUbFUb1",
        "outputId": "0b967514-f591-45f3-aa72-e93ad495f2fb"
      },
      "source": [
        "test = grid3.best_params_\n",
        "# test."
      ],
      "execution_count": null,
      "outputs": [
        {
          "output_type": "error",
          "ename": "NameError",
          "evalue": "ignored",
          "traceback": [
            "\u001b[0;31m---------------------------------------------------------------------------\u001b[0m",
            "\u001b[0;31mNameError\u001b[0m                                 Traceback (most recent call last)",
            "\u001b[0;32m<ipython-input-105-8ab506f6fe12>\u001b[0m in \u001b[0;36m<module>\u001b[0;34m()\u001b[0m\n\u001b[0;32m----> 1\u001b[0;31m \u001b[0mtest\u001b[0m \u001b[0;34m=\u001b[0m \u001b[0mgrid3\u001b[0m\u001b[0;34m.\u001b[0m\u001b[0mbest_params_\u001b[0m\u001b[0;34m\u001b[0m\u001b[0;34m\u001b[0m\u001b[0m\n\u001b[0m\u001b[1;32m      2\u001b[0m \u001b[0;31m# test.\u001b[0m\u001b[0;34m\u001b[0m\u001b[0;34m\u001b[0m\u001b[0;34m\u001b[0m\u001b[0m\n",
            "\u001b[0;31mNameError\u001b[0m: name 'grid3' is not defined"
          ]
        }
      ]
    },
    {
      "cell_type": "code",
      "metadata": {
        "id": "ArTpyHy6GiHq",
        "colab": {
          "base_uri": "https://localhost:8080/",
          "height": 164
        },
        "outputId": "3ea46c61-11d0-4295-af08-dbd95f727ee0"
      },
      "source": [
        "fi2 =grid4.best_estimator_.named_steps['clf'].feature_importances_"
      ],
      "execution_count": null,
      "outputs": [
        {
          "output_type": "error",
          "ename": "NameError",
          "evalue": "ignored",
          "traceback": [
            "\u001b[0;31m---------------------------------------------------------------------------\u001b[0m",
            "\u001b[0;31mNameError\u001b[0m                                 Traceback (most recent call last)",
            "\u001b[0;32m<ipython-input-106-7c533c88de3d>\u001b[0m in \u001b[0;36m<module>\u001b[0;34m()\u001b[0m\n\u001b[0;32m----> 1\u001b[0;31m \u001b[0mfi2\u001b[0m \u001b[0;34m=\u001b[0m\u001b[0mgrid4\u001b[0m\u001b[0;34m.\u001b[0m\u001b[0mbest_estimator_\u001b[0m\u001b[0;34m.\u001b[0m\u001b[0mnamed_steps\u001b[0m\u001b[0;34m[\u001b[0m\u001b[0;34m'clf'\u001b[0m\u001b[0;34m]\u001b[0m\u001b[0;34m.\u001b[0m\u001b[0mfeature_importances_\u001b[0m\u001b[0;34m\u001b[0m\u001b[0;34m\u001b[0m\u001b[0m\n\u001b[0m",
            "\u001b[0;31mNameError\u001b[0m: name 'grid4' is not defined"
          ]
        }
      ]
    },
    {
      "cell_type": "code",
      "metadata": {
        "id": "fInj49r3afdV",
        "colab": {
          "base_uri": "https://localhost:8080/",
          "height": 181
        },
        "outputId": "ea8f2fa5-7d58-4c00-80ff-f58fe0c14d92"
      },
      "source": [
        "fi = grid4.best_estimator_\n",
        "tp2 = fi.named_steps['text_pipe']"
      ],
      "execution_count": null,
      "outputs": [
        {
          "output_type": "error",
          "ename": "NameError",
          "evalue": "ignored",
          "traceback": [
            "\u001b[0;31m---------------------------------------------------------------------------\u001b[0m",
            "\u001b[0;31mNameError\u001b[0m                                 Traceback (most recent call last)",
            "\u001b[0;32m<ipython-input-107-2f644349b480>\u001b[0m in \u001b[0;36m<module>\u001b[0;34m()\u001b[0m\n\u001b[0;32m----> 1\u001b[0;31m \u001b[0mfi\u001b[0m \u001b[0;34m=\u001b[0m \u001b[0mgrid4\u001b[0m\u001b[0;34m.\u001b[0m\u001b[0mbest_estimator_\u001b[0m\u001b[0;34m\u001b[0m\u001b[0;34m\u001b[0m\u001b[0m\n\u001b[0m\u001b[1;32m      2\u001b[0m \u001b[0mtp2\u001b[0m \u001b[0;34m=\u001b[0m \u001b[0mfi\u001b[0m\u001b[0;34m.\u001b[0m\u001b[0mnamed_steps\u001b[0m\u001b[0;34m[\u001b[0m\u001b[0;34m'text_pipe'\u001b[0m\u001b[0;34m]\u001b[0m\u001b[0;34m\u001b[0m\u001b[0;34m\u001b[0m\u001b[0m\n",
            "\u001b[0;31mNameError\u001b[0m: name 'grid4' is not defined"
          ]
        }
      ]
    },
    {
      "cell_type": "code",
      "metadata": {
        "id": "XiGUdcbwarYC"
      },
      "source": [
        ""
      ],
      "execution_count": null,
      "outputs": []
    },
    {
      "cell_type": "code",
      "metadata": {
        "id": "V1gEX7W9GiFg"
      },
      "source": [
        "# apply grid search results\n",
        "def create_vars(X_train, y_train, grid):\n",
        "  \n",
        "  # Establish variables\n",
        "  clf = grid.best_estimator_.named_steps['clf']\n",
        "  vectorizer = grid.best_estimator_.named_steps['text_pipe']\n",
        "  X_train_tfidf = vectorizer.fit_transform(X_train)\n",
        "  X_test_tfidf = vectorizer.transform(X_test)\n",
        "\n",
        "  return clf, X_train_tfidf, X_test_tfidf"
      ],
      "execution_count": null,
      "outputs": []
    },
    {
      "cell_type": "code",
      "metadata": {
        "id": "wKzCrN0aAqM3"
      },
      "source": [
        ""
      ],
      "execution_count": null,
      "outputs": []
    },
    {
      "cell_type": "code",
      "metadata": {
        "id": "Ieo_veUBIVHQ"
      },
      "source": [
        "clf_t, X_train_tfidf_t, X_test_tfidf_t = create_vars(X_train, y_train, grid4)"
      ],
      "execution_count": null,
      "outputs": []
    },
    {
      "cell_type": "code",
      "metadata": {
        "id": "71maqFd3IVFe"
      },
      "source": [
        "evaluate_model(clf_t, X_train_tfidf_t, X_test_tfidf_t, y_train, y_test)"
      ],
      "execution_count": null,
      "outputs": []
    },
    {
      "cell_type": "code",
      "metadata": {
        "id": "BdKqOiuSFYdn"
      },
      "source": [
        "evaluate_model(grid3.best_estimator_.named_steps['clf'], X_train_tfidf, X_test_tfidf, y_train, y_test)"
      ],
      "execution_count": null,
      "outputs": []
    },
    {
      "cell_type": "code",
      "metadata": {
        "id": "_hd8Pfz_pUqq"
      },
      "source": [
        "# Takes 15 mins to run\n",
        "# Use english\n",
        "# maybe test another scoring metric (recall macro)\n",
        "# change max depth\n",
        "\n",
        "# from sklearn.model_selection import GridSearchCV\n",
        "params = {'text_pipe__TfidfVectorizer__use_idf':[True,False],\n",
        "        'text_pipe__TfidfVectorizer__norm':['l2','l1'],\n",
        "         'text_pipe__TfidfVectorizer__smooth_idf':[True,False],\n",
        "         'text_pipe__TfidfVectorizer__stop_words':[stopwords_list,'english'],\n",
        "          'text_pipe__TfidfVectorizer__ngram_range': [(1, 2)], #make change to ngram\n",
        "          'text_pipe__TfidfVectorizer__max_df':[1.0,0.99],\n",
        "          'text_pipe__TfidfVectorizer__min_df':[0.01, 0.03],\n",
        "          'clf__criterion':['gini','entropy'],\n",
        "          'clf__max_depth':[None, 5],\n",
        "          'clf__min_samples_leaf': [1,5]\n",
        "         }\n",
        "\n",
        "# ## Make and fit grid\n",
        "# grid2 = GridSearchCV(full_pipe,\n",
        "#                    params, cv=3, scoring='recall_macro',n_jobs=-1,verbose=2)\n",
        "# grid2.fit(X_train,y_train)\n",
        "# ## Display best params\n",
        "# grid2.best_params_"
      ],
      "execution_count": null,
      "outputs": []
    },
    {
      "cell_type": "code",
      "metadata": {
        "id": "Zp5TaS_NwApk"
      },
      "source": [
        "# Move model into model folder\n",
        "\n",
        "import joblib\n",
        "# joblib.dump(grid2, '/content/drive/MyDrive/Colab Notebooks/Data/apple1_nlp.pkl')"
      ],
      "execution_count": null,
      "outputs": []
    },
    {
      "cell_type": "code",
      "metadata": {
        "id": "4u4lMTmHURs9"
      },
      "source": [
        "apple_pipe = joblib.load('/content/drive/MyDrive/Colab Notebooks/Data/models/apple1_nlp.pkl')"
      ],
      "execution_count": null,
      "outputs": []
    },
    {
      "cell_type": "code",
      "metadata": {
        "id": "BhotUrex69hJ"
      },
      "source": [
        "apple_pipe = joblib.load('/content/drive/MyDrive/Colab Notebooks/Data/models/apple1_nlp.pkl')"
      ],
      "execution_count": null,
      "outputs": []
    },
    {
      "cell_type": "code",
      "metadata": {
        "id": "YIpC63jNjONe"
      },
      "source": [
        "# Save this using joblib\n",
        "# Don't save grid because it contains excess data\n",
        "\n",
        "apple1_best_est= apple_pipe.best_estimator_\n",
        "apple1_best_est"
      ],
      "execution_count": null,
      "outputs": []
    },
    {
      "cell_type": "code",
      "metadata": {
        "colab": {
          "base_uri": "https://localhost:8080/",
          "height": 164
        },
        "id": "zFu-scnijZbO",
        "outputId": "728e9fab-228d-4e20-b9ab-f48dd0211251"
      },
      "source": [
        "apple_pipe"
      ],
      "execution_count": null,
      "outputs": [
        {
          "output_type": "error",
          "ename": "NameError",
          "evalue": "ignored",
          "traceback": [
            "\u001b[0;31m---------------------------------------------------------------------------\u001b[0m",
            "\u001b[0;31mNameError\u001b[0m                                 Traceback (most recent call last)",
            "\u001b[0;32m<ipython-input-51-85a0178312e6>\u001b[0m in \u001b[0;36m<module>\u001b[0;34m()\u001b[0m\n\u001b[0;32m----> 1\u001b[0;31m \u001b[0mapple_pipe\u001b[0m\u001b[0;34m\u001b[0m\u001b[0;34m\u001b[0m\u001b[0m\n\u001b[0m",
            "\u001b[0;31mNameError\u001b[0m: name 'apple_pipe' is not defined"
          ]
        }
      ]
    },
    {
      "cell_type": "code",
      "metadata": {
        "colab": {
          "base_uri": "https://localhost:8080/",
          "height": 164
        },
        "id": "9IT4c1fxkfWx",
        "outputId": "ebc871c8-0899-4a84-e964-95431c2c6a23"
      },
      "source": [
        "apple1_best_est.named_steps['clf']"
      ],
      "execution_count": null,
      "outputs": [
        {
          "output_type": "error",
          "ename": "NameError",
          "evalue": "ignored",
          "traceback": [
            "\u001b[0;31m---------------------------------------------------------------------------\u001b[0m",
            "\u001b[0;31mNameError\u001b[0m                                 Traceback (most recent call last)",
            "\u001b[0;32m<ipython-input-52-df4b2d767fe4>\u001b[0m in \u001b[0;36m<module>\u001b[0;34m()\u001b[0m\n\u001b[0;32m----> 1\u001b[0;31m \u001b[0mapple1_best_est\u001b[0m\u001b[0;34m.\u001b[0m\u001b[0mnamed_steps\u001b[0m\u001b[0;34m[\u001b[0m\u001b[0;34m'clf'\u001b[0m\u001b[0;34m]\u001b[0m\u001b[0;34m\u001b[0m\u001b[0;34m\u001b[0m\u001b[0m\n\u001b[0m",
            "\u001b[0;31mNameError\u001b[0m: name 'apple1_best_est' is not defined"
          ]
        }
      ]
    },
    {
      "cell_type": "code",
      "metadata": {
        "colab": {
          "base_uri": "https://localhost:8080/",
          "height": 164
        },
        "id": "lD536VJ5krhb",
        "outputId": "66e8e060-51cd-4920-a81b-245db43d395a"
      },
      "source": [
        "apple1_best_est.named_steps['clf'].feature_importances_"
      ],
      "execution_count": null,
      "outputs": [
        {
          "output_type": "error",
          "ename": "NameError",
          "evalue": "ignored",
          "traceback": [
            "\u001b[0;31m---------------------------------------------------------------------------\u001b[0m",
            "\u001b[0;31mNameError\u001b[0m                                 Traceback (most recent call last)",
            "\u001b[0;32m<ipython-input-53-55f8dfca4d57>\u001b[0m in \u001b[0;36m<module>\u001b[0;34m()\u001b[0m\n\u001b[0;32m----> 1\u001b[0;31m \u001b[0mapple1_best_est\u001b[0m\u001b[0;34m.\u001b[0m\u001b[0mnamed_steps\u001b[0m\u001b[0;34m[\u001b[0m\u001b[0;34m'clf'\u001b[0m\u001b[0;34m]\u001b[0m\u001b[0;34m.\u001b[0m\u001b[0mfeature_importances_\u001b[0m\u001b[0;34m\u001b[0m\u001b[0;34m\u001b[0m\u001b[0m\n\u001b[0m",
            "\u001b[0;31mNameError\u001b[0m: name 'apple1_best_est' is not defined"
          ]
        }
      ]
    },
    {
      "cell_type": "code",
      "metadata": {
        "id": "WhaB9AGWpC33"
      },
      "source": [
        "# Why can't I add max,min df?\n",
        "# update sklearn\n",
        "from sklearn.feature_extraction.text import TfidfVectorizer\n",
        "\n",
        "pipe_vect2 = TfidfVectorizer(norm='l1', smooth_idf=False, stop_words=stopwords_list, use_idf=True,max_df=1, min_df=0.01)"
      ],
      "execution_count": null,
      "outputs": []
    },
    {
      "cell_type": "code",
      "metadata": {
        "id": "QEjkemxC3jYs"
      },
      "source": [
        ""
      ],
      "execution_count": null,
      "outputs": []
    },
    {
      "cell_type": "code",
      "metadata": {
        "id": "6xL1k6QwpsIx",
        "colab": {
          "base_uri": "https://localhost:8080/",
          "height": 324
        },
        "outputId": "37375691-579a-4a7f-bd04-779211fa7d8a"
      },
      "source": [
        "X_train_tfidf = pipe_vect2.fit_transform(X_train)\n",
        "X_test_tfidf = pipe_vect2.transform(X_test)"
      ],
      "execution_count": null,
      "outputs": [
        {
          "output_type": "error",
          "ename": "ValueError",
          "evalue": "ignored",
          "traceback": [
            "\u001b[0;31m---------------------------------------------------------------------------\u001b[0m",
            "\u001b[0;31mValueError\u001b[0m                                Traceback (most recent call last)",
            "\u001b[0;32m<ipython-input-55-56b7dffc8fe1>\u001b[0m in \u001b[0;36m<module>\u001b[0;34m()\u001b[0m\n\u001b[0;32m----> 1\u001b[0;31m \u001b[0mX_train_tfidf\u001b[0m \u001b[0;34m=\u001b[0m \u001b[0mpipe_vect2\u001b[0m\u001b[0;34m.\u001b[0m\u001b[0mfit_transform\u001b[0m\u001b[0;34m(\u001b[0m\u001b[0mX_train\u001b[0m\u001b[0;34m)\u001b[0m\u001b[0;34m\u001b[0m\u001b[0;34m\u001b[0m\u001b[0m\n\u001b[0m\u001b[1;32m      2\u001b[0m \u001b[0mX_test_tfidf\u001b[0m \u001b[0;34m=\u001b[0m \u001b[0mpipe_vect2\u001b[0m\u001b[0;34m.\u001b[0m\u001b[0mtransform\u001b[0m\u001b[0;34m(\u001b[0m\u001b[0mX_test\u001b[0m\u001b[0;34m)\u001b[0m\u001b[0;34m\u001b[0m\u001b[0;34m\u001b[0m\u001b[0m\n",
            "\u001b[0;32m/usr/local/lib/python3.7/dist-packages/sklearn/feature_extraction/text.py\u001b[0m in \u001b[0;36mfit_transform\u001b[0;34m(self, raw_documents, y)\u001b[0m\n\u001b[1;32m   1857\u001b[0m         \"\"\"\n\u001b[1;32m   1858\u001b[0m         \u001b[0mself\u001b[0m\u001b[0;34m.\u001b[0m\u001b[0m_check_params\u001b[0m\u001b[0;34m(\u001b[0m\u001b[0;34m)\u001b[0m\u001b[0;34m\u001b[0m\u001b[0;34m\u001b[0m\u001b[0m\n\u001b[0;32m-> 1859\u001b[0;31m         \u001b[0mX\u001b[0m \u001b[0;34m=\u001b[0m \u001b[0msuper\u001b[0m\u001b[0;34m(\u001b[0m\u001b[0;34m)\u001b[0m\u001b[0;34m.\u001b[0m\u001b[0mfit_transform\u001b[0m\u001b[0;34m(\u001b[0m\u001b[0mraw_documents\u001b[0m\u001b[0;34m)\u001b[0m\u001b[0;34m\u001b[0m\u001b[0;34m\u001b[0m\u001b[0m\n\u001b[0m\u001b[1;32m   1860\u001b[0m         \u001b[0mself\u001b[0m\u001b[0;34m.\u001b[0m\u001b[0m_tfidf\u001b[0m\u001b[0;34m.\u001b[0m\u001b[0mfit\u001b[0m\u001b[0;34m(\u001b[0m\u001b[0mX\u001b[0m\u001b[0;34m)\u001b[0m\u001b[0;34m\u001b[0m\u001b[0;34m\u001b[0m\u001b[0m\n\u001b[1;32m   1861\u001b[0m         \u001b[0;31m# X is already a transformed view of raw_documents so\u001b[0m\u001b[0;34m\u001b[0m\u001b[0;34m\u001b[0m\u001b[0;34m\u001b[0m\u001b[0m\n",
            "\u001b[0;32m/usr/local/lib/python3.7/dist-packages/sklearn/feature_extraction/text.py\u001b[0m in \u001b[0;36mfit_transform\u001b[0;34m(self, raw_documents, y)\u001b[0m\n\u001b[1;32m   1235\u001b[0m             \u001b[0;32mif\u001b[0m \u001b[0mmax_doc_count\u001b[0m \u001b[0;34m<\u001b[0m \u001b[0mmin_doc_count\u001b[0m\u001b[0;34m:\u001b[0m\u001b[0;34m\u001b[0m\u001b[0;34m\u001b[0m\u001b[0m\n\u001b[1;32m   1236\u001b[0m                 raise ValueError(\n\u001b[0;32m-> 1237\u001b[0;31m                     \"max_df corresponds to < documents than min_df\")\n\u001b[0m\u001b[1;32m   1238\u001b[0m             X, self.stop_words_ = self._limit_features(X, vocabulary,\n\u001b[1;32m   1239\u001b[0m                                                        \u001b[0mmax_doc_count\u001b[0m\u001b[0;34m,\u001b[0m\u001b[0;34m\u001b[0m\u001b[0;34m\u001b[0m\u001b[0m\n",
            "\u001b[0;31mValueError\u001b[0m: max_df corresponds to < documents than min_df"
          ]
        }
      ]
    },
    {
      "cell_type": "code",
      "metadata": {
        "colab": {
          "base_uri": "https://localhost:8080/"
        },
        "id": "y1SCOP1RvBsI",
        "outputId": "40b2f1b5-804a-416b-a6c7-54b9f971c0a0"
      },
      "source": [
        "print(X_train_tfidf.shape)\n",
        "print(X_test_tfidf.shape)"
      ],
      "execution_count": null,
      "outputs": [
        {
          "output_type": "stream",
          "text": [
            "(1671, 10162)\n",
            "(717, 10162)\n"
          ],
          "name": "stdout"
        }
      ]
    },
    {
      "cell_type": "code",
      "metadata": {
        "colab": {
          "base_uri": "https://localhost:8080/"
        },
        "id": "3MqnLsoypsGX",
        "outputId": "5e83649d-f64f-48cf-a8f9-f3531323cc08"
      },
      "source": [
        "pipe_rf2 = RandomForestClassifier(class_weight='balanced', max_depth=None, min_samples_leaf=1)\n",
        "pipe_rf2.fit(X_train_tfidf, y_train)"
      ],
      "execution_count": null,
      "outputs": [
        {
          "output_type": "execute_result",
          "data": {
            "text/plain": [
              "RandomForestClassifier(bootstrap=True, ccp_alpha=0.0, class_weight='balanced',\n",
              "                       criterion='gini', max_depth=None, max_features='auto',\n",
              "                       max_leaf_nodes=None, max_samples=None,\n",
              "                       min_impurity_decrease=0.0, min_impurity_split=None,\n",
              "                       min_samples_leaf=1, min_samples_split=2,\n",
              "                       min_weight_fraction_leaf=0.0, n_estimators=100,\n",
              "                       n_jobs=None, oob_score=False, random_state=None,\n",
              "                       verbose=0, warm_start=False)"
            ]
          },
          "metadata": {
            "tags": []
          },
          "execution_count": 57
        }
      ]
    },
    {
      "cell_type": "code",
      "metadata": {
        "colab": {
          "base_uri": "https://localhost:8080/",
          "height": 656
        },
        "id": "fDTtgrhZpsD-",
        "outputId": "cef04051-f566-41be-9eda-f6baeec736be"
      },
      "source": [
        "evaluate_model(pipe_rf2, X_train_tfidf, X_test_tfidf, y_train, y_test)"
      ],
      "execution_count": null,
      "outputs": [
        {
          "output_type": "stream",
          "text": [
            "********************CLASSIFICATION REPORT - TRAIN *************************\n",
            "              precision    recall  f1-score   support\n",
            "\n",
            "          -1       1.00      1.00      1.00       263\n",
            "           0       1.00      1.00      1.00       530\n",
            "           1       1.00      1.00      1.00       878\n",
            "\n",
            "    accuracy                           1.00      1671\n",
            "   macro avg       1.00      1.00      1.00      1671\n",
            "weighted avg       1.00      1.00      1.00      1671\n",
            "\n",
            "********************CLASSIFICATION REPORT - TEST *************************\n",
            "              precision    recall  f1-score   support\n",
            "\n",
            "          -1       0.69      0.22      0.34        99\n",
            "           0       0.56      0.44      0.49       235\n",
            "           1       0.66      0.86      0.75       383\n",
            "\n",
            "    accuracy                           0.64       717\n",
            "   macro avg       0.64      0.51      0.53       717\n",
            "weighted avg       0.63      0.64      0.61       717\n",
            "\n",
            "*********************************************************************\n"
          ],
          "name": "stdout"
        },
        {
          "output_type": "display_data",
          "data": {
            "image/png": "[encoded data removed]",
            "text/plain": [
              "<Figure size 432x288 with 2 Axes>"
            ]
          },
          "metadata": {
            "tags": [],
            "needs_background": "light"
          }
        }
      ]
    },
    {
      "cell_type": "code",
      "metadata": {
        "colab": {
          "base_uri": "https://localhost:8080/"
        },
        "id": "T6i2Utf7xpUW",
        "outputId": "8aa81e08-c5c0-4f24-d001-4f6215263a0b"
      },
      "source": [
        "pipe_rf2.feature_importances_"
      ],
      "execution_count": null,
      "outputs": [
        {
          "output_type": "execute_result",
          "data": {
            "text/plain": [
              "array([4.38116934e-04, 6.37429702e-06, 5.32716097e-05, ...,\n",
              "       1.03823966e-04, 6.27453472e-05, 0.00000000e+00])"
            ]
          },
          "metadata": {
            "tags": []
          },
          "execution_count": 59
        }
      ]
    },
    {
      "cell_type": "code",
      "metadata": {
        "colab": {
          "base_uri": "https://localhost:8080/",
          "height": 307
        },
        "id": "e-bR-UZtxqqj",
        "outputId": "105cac6d-0273-4f4f-87b8-4feaf884d4df"
      },
      "source": [
        "pipe_vect2.get_feature_names()[220:230]"
      ],
      "execution_count": null,
      "outputs": [
        {
          "output_type": "error",
          "ename": "NotFittedError",
          "evalue": "ignored",
          "traceback": [
            "\u001b[0;31m---------------------------------------------------------------------------\u001b[0m",
            "\u001b[0;31mNotFittedError\u001b[0m                            Traceback (most recent call last)",
            "\u001b[0;32m<ipython-input-60-f8a149f5a87f>\u001b[0m in \u001b[0;36m<module>\u001b[0;34m()\u001b[0m\n\u001b[0;32m----> 1\u001b[0;31m \u001b[0mpipe_vect2\u001b[0m\u001b[0;34m.\u001b[0m\u001b[0mget_feature_names\u001b[0m\u001b[0;34m(\u001b[0m\u001b[0;34m)\u001b[0m\u001b[0;34m[\u001b[0m\u001b[0;36m220\u001b[0m\u001b[0;34m:\u001b[0m\u001b[0;36m230\u001b[0m\u001b[0;34m]\u001b[0m\u001b[0;34m\u001b[0m\u001b[0;34m\u001b[0m\u001b[0m\n\u001b[0m",
            "\u001b[0;32m/usr/local/lib/python3.7/dist-packages/sklearn/feature_extraction/text.py\u001b[0m in \u001b[0;36mget_feature_names\u001b[0;34m(self)\u001b[0m\n\u001b[1;32m   1313\u001b[0m         \"\"\"\n\u001b[1;32m   1314\u001b[0m \u001b[0;34m\u001b[0m\u001b[0m\n\u001b[0;32m-> 1315\u001b[0;31m         \u001b[0mself\u001b[0m\u001b[0;34m.\u001b[0m\u001b[0m_check_vocabulary\u001b[0m\u001b[0;34m(\u001b[0m\u001b[0;34m)\u001b[0m\u001b[0;34m\u001b[0m\u001b[0;34m\u001b[0m\u001b[0m\n\u001b[0m\u001b[1;32m   1316\u001b[0m \u001b[0;34m\u001b[0m\u001b[0m\n\u001b[1;32m   1317\u001b[0m         return [t for t, i in sorted(self.vocabulary_.items(),\n",
            "\u001b[0;32m/usr/local/lib/python3.7/dist-packages/sklearn/feature_extraction/text.py\u001b[0m in \u001b[0;36m_check_vocabulary\u001b[0;34m(self)\u001b[0m\n\u001b[1;32m    488\u001b[0m             \u001b[0mself\u001b[0m\u001b[0;34m.\u001b[0m\u001b[0m_validate_vocabulary\u001b[0m\u001b[0;34m(\u001b[0m\u001b[0;34m)\u001b[0m\u001b[0;34m\u001b[0m\u001b[0;34m\u001b[0m\u001b[0m\n\u001b[1;32m    489\u001b[0m             \u001b[0;32mif\u001b[0m \u001b[0;32mnot\u001b[0m \u001b[0mself\u001b[0m\u001b[0;34m.\u001b[0m\u001b[0mfixed_vocabulary_\u001b[0m\u001b[0;34m:\u001b[0m\u001b[0;34m\u001b[0m\u001b[0;34m\u001b[0m\u001b[0m\n\u001b[0;32m--> 490\u001b[0;31m                 \u001b[0;32mraise\u001b[0m \u001b[0mNotFittedError\u001b[0m\u001b[0;34m(\u001b[0m\u001b[0;34m\"Vocabulary not fitted or provided\"\u001b[0m\u001b[0;34m)\u001b[0m\u001b[0;34m\u001b[0m\u001b[0;34m\u001b[0m\u001b[0m\n\u001b[0m\u001b[1;32m    491\u001b[0m \u001b[0;34m\u001b[0m\u001b[0m\n\u001b[1;32m    492\u001b[0m         \u001b[0;32mif\u001b[0m \u001b[0mlen\u001b[0m\u001b[0;34m(\u001b[0m\u001b[0mself\u001b[0m\u001b[0;34m.\u001b[0m\u001b[0mvocabulary_\u001b[0m\u001b[0;34m)\u001b[0m \u001b[0;34m==\u001b[0m \u001b[0;36m0\u001b[0m\u001b[0;34m:\u001b[0m\u001b[0;34m\u001b[0m\u001b[0;34m\u001b[0m\u001b[0m\n",
            "\u001b[0;31mNotFittedError\u001b[0m: Vocabulary not fitted or provided"
          ]
        }
      ]
    },
    {
      "cell_type": "code",
      "metadata": {
        "id": "y7DuVoAIcxjx"
      },
      "source": [
        "# Maybe remove numbers"
      ],
      "execution_count": null,
      "outputs": []
    },
    {
      "cell_type": "code",
      "metadata": {
        "colab": {
          "base_uri": "https://localhost:8080/"
        },
        "id": "SJ0kz_DtyCFr",
        "outputId": "052f5c07-2a67-4081-d708-82f144cb608b"
      },
      "source": [
        "X_test_tfidf"
      ],
      "execution_count": null,
      "outputs": [
        {
          "output_type": "execute_result",
          "data": {
            "text/plain": [
              "<717x10162 sparse matrix of type '<class 'numpy.float64'>'\n",
              "\twith 14473 stored elements in Compressed Sparse Row format>"
            ]
          },
          "metadata": {
            "tags": []
          },
          "execution_count": 62
        }
      ]
    },
    {
      "cell_type": "code",
      "metadata": {
        "colab": {
          "base_uri": "https://localhost:8080/",
          "height": 375
        },
        "id": "5xUkFPGJ1CDL",
        "outputId": "c8f77b84-bef4-4099-9f2e-853ff2ab95bc"
      },
      "source": [
        "## Get Feature Importance\n",
        "importance = pd.Series(pipe_rf2.feature_importances_,\n",
        "                        index=pipe_vect2.get_feature_names())\n",
        "\n",
        "## Take the .tail 30 and plot kind='barh'\n",
        "importance.sort_values().tail(30).plot(kind='barh')"
      ],
      "execution_count": null,
      "outputs": [
        {
          "output_type": "error",
          "ename": "NotFittedError",
          "evalue": "ignored",
          "traceback": [
            "\u001b[0;31m---------------------------------------------------------------------------\u001b[0m",
            "\u001b[0;31mNotFittedError\u001b[0m                            Traceback (most recent call last)",
            "\u001b[0;32m<ipython-input-63-d5313b7fc8ca>\u001b[0m in \u001b[0;36m<module>\u001b[0;34m()\u001b[0m\n\u001b[1;32m      1\u001b[0m \u001b[0;31m## Get Feature Importance\u001b[0m\u001b[0;34m\u001b[0m\u001b[0;34m\u001b[0m\u001b[0;34m\u001b[0m\u001b[0m\n\u001b[1;32m      2\u001b[0m importance = pd.Series(pipe_rf2.feature_importances_,\n\u001b[0;32m----> 3\u001b[0;31m                         index=pipe_vect2.get_feature_names())\n\u001b[0m\u001b[1;32m      4\u001b[0m \u001b[0;34m\u001b[0m\u001b[0m\n\u001b[1;32m      5\u001b[0m \u001b[0;31m## Take the .tail 30 and plot kind='barh'\u001b[0m\u001b[0;34m\u001b[0m\u001b[0;34m\u001b[0m\u001b[0;34m\u001b[0m\u001b[0m\n",
            "\u001b[0;32m/usr/local/lib/python3.7/dist-packages/sklearn/feature_extraction/text.py\u001b[0m in \u001b[0;36mget_feature_names\u001b[0;34m(self)\u001b[0m\n\u001b[1;32m   1313\u001b[0m         \"\"\"\n\u001b[1;32m   1314\u001b[0m \u001b[0;34m\u001b[0m\u001b[0m\n\u001b[0;32m-> 1315\u001b[0;31m         \u001b[0mself\u001b[0m\u001b[0;34m.\u001b[0m\u001b[0m_check_vocabulary\u001b[0m\u001b[0;34m(\u001b[0m\u001b[0;34m)\u001b[0m\u001b[0;34m\u001b[0m\u001b[0;34m\u001b[0m\u001b[0m\n\u001b[0m\u001b[1;32m   1316\u001b[0m \u001b[0;34m\u001b[0m\u001b[0m\n\u001b[1;32m   1317\u001b[0m         return [t for t, i in sorted(self.vocabulary_.items(),\n",
            "\u001b[0;32m/usr/local/lib/python3.7/dist-packages/sklearn/feature_extraction/text.py\u001b[0m in \u001b[0;36m_check_vocabulary\u001b[0;34m(self)\u001b[0m\n\u001b[1;32m    488\u001b[0m             \u001b[0mself\u001b[0m\u001b[0;34m.\u001b[0m\u001b[0m_validate_vocabulary\u001b[0m\u001b[0;34m(\u001b[0m\u001b[0;34m)\u001b[0m\u001b[0;34m\u001b[0m\u001b[0;34m\u001b[0m\u001b[0m\n\u001b[1;32m    489\u001b[0m             \u001b[0;32mif\u001b[0m \u001b[0;32mnot\u001b[0m \u001b[0mself\u001b[0m\u001b[0;34m.\u001b[0m\u001b[0mfixed_vocabulary_\u001b[0m\u001b[0;34m:\u001b[0m\u001b[0;34m\u001b[0m\u001b[0;34m\u001b[0m\u001b[0m\n\u001b[0;32m--> 490\u001b[0;31m                 \u001b[0;32mraise\u001b[0m \u001b[0mNotFittedError\u001b[0m\u001b[0;34m(\u001b[0m\u001b[0;34m\"Vocabulary not fitted or provided\"\u001b[0m\u001b[0;34m)\u001b[0m\u001b[0;34m\u001b[0m\u001b[0;34m\u001b[0m\u001b[0m\n\u001b[0m\u001b[1;32m    491\u001b[0m \u001b[0;34m\u001b[0m\u001b[0m\n\u001b[1;32m    492\u001b[0m         \u001b[0;32mif\u001b[0m \u001b[0mlen\u001b[0m\u001b[0;34m(\u001b[0m\u001b[0mself\u001b[0m\u001b[0;34m.\u001b[0m\u001b[0mvocabulary_\u001b[0m\u001b[0;34m)\u001b[0m \u001b[0;34m==\u001b[0m \u001b[0;36m0\u001b[0m\u001b[0;34m:\u001b[0m\u001b[0;34m\u001b[0m\u001b[0;34m\u001b[0m\u001b[0m\n",
            "\u001b[0;31mNotFittedError\u001b[0m: Vocabulary not fitted or provided"
          ]
        }
      ]
    },
    {
      "cell_type": "markdown",
      "metadata": {
        "id": "N1YOl8_cb4Xx"
      },
      "source": [
        "# Interpretation"
      ]
    },
    {
      "cell_type": "markdown",
      "metadata": {
        "id": "bRSw13wycEvM"
      },
      "source": [
        "## RFM Feature Interpetation"
      ]
    },
    {
      "cell_type": "code",
      "metadata": {
        "id": "iuqwRR8-b8Jx"
      },
      "source": [
        "best_params = grid4.best_estimator_"
      ],
      "execution_count": null,
      "outputs": []
    },
    {
      "cell_type": "code",
      "metadata": {
        "colab": {
          "base_uri": "https://localhost:8080/"
        },
        "id": "pmysNjFBb8Hx",
        "outputId": "8a545085-cf40-4648-8126-3e2c23b23538"
      },
      "source": [
        "best_params.named_steps['clf']"
      ],
      "execution_count": null,
      "outputs": [
        {
          "output_type": "execute_result",
          "data": {
            "text/plain": [
              "RandomForestClassifier(bootstrap=True, ccp_alpha=0.0, class_weight='balanced',\n",
              "                       criterion='gini', max_depth=None, max_features='auto',\n",
              "                       max_leaf_nodes=None, max_samples=None,\n",
              "                       min_impurity_decrease=0.0, min_impurity_split=None,\n",
              "                       min_samples_leaf=1, min_samples_split=2,\n",
              "                       min_weight_fraction_leaf=0.0, n_estimators=100,\n",
              "                       n_jobs=-1, oob_score=False, random_state=None, verbose=0,\n",
              "                       warm_start=False)"
            ]
          },
          "metadata": {
            "tags": []
          },
          "execution_count": 72
        }
      ]
    },
    {
      "cell_type": "code",
      "metadata": {
        "id": "D2cFN7ITb8Fi"
      },
      "source": [
        "def create_vars(grid,X_train, y_train):\n",
        "  \n",
        "  # Establish variables\n",
        "  clf = grid.named_steps['clf']\n",
        "  vecto = grid.named_steps['text_pipe']\n",
        "  X_train_tfidf = vecto.fit_transform(X_train)\n",
        "  X_test_tfidf = vecto.transform(X_test)\n",
        "\n",
        "  return clf, vecto, X_train_tfidf, X_test_tfidf"
      ],
      "execution_count": null,
      "outputs": []
    },
    {
      "cell_type": "code",
      "metadata": {
        "id": "q91cVzjQb8Ct"
      },
      "source": [
        "clf5, vect5, X_train_tfidf5, X_test_tfidf5 = create_vars(best_params,X_train, y_train)"
      ],
      "execution_count": null,
      "outputs": []
    },
    {
      "cell_type": "code",
      "metadata": {
        "colab": {
          "base_uri": "https://localhost:8080/",
          "height": 656
        },
        "id": "gTSnAeK6eBzF",
        "outputId": "298d2c4a-a3a8-4c5a-8a98-5a3f56645c4f"
      },
      "source": [
        "evaluate_model(clf5, X_train_tfidf5, X_test_tfidf5, y_train, y_test)"
      ],
      "execution_count": null,
      "outputs": [
        {
          "output_type": "stream",
          "text": [
            "********************CLASSIFICATION REPORT - TRAIN *************************\n",
            "              precision    recall  f1-score   support\n",
            "\n",
            "          -1       1.00      1.00      1.00       263\n",
            "           0       1.00      1.00      1.00       530\n",
            "           1       1.00      1.00      1.00       878\n",
            "\n",
            "    accuracy                           1.00      1671\n",
            "   macro avg       1.00      1.00      1.00      1671\n",
            "weighted avg       1.00      1.00      1.00      1671\n",
            "\n",
            "********************CLASSIFICATION REPORT - TEST *************************\n",
            "              precision    recall  f1-score   support\n",
            "\n",
            "          -1       0.76      0.16      0.27        99\n",
            "           0       0.55      0.26      0.35       235\n",
            "           1       0.59      0.91      0.72       383\n",
            "\n",
            "    accuracy                           0.59       717\n",
            "   macro avg       0.63      0.44      0.44       717\n",
            "weighted avg       0.60      0.59      0.53       717\n",
            "\n",
            "*********************************************************************\n"
          ],
          "name": "stdout"
        },
        {
          "output_type": "display_data",
          "data": {
            "image/png": "[encoded data removed]",
            "text/plain": [
              "<Figure size 432x288 with 2 Axes>"
            ]
          },
          "metadata": {
            "tags": [],
            "needs_background": "light"
          }
        }
      ]
    },
    {
      "cell_type": "code",
      "metadata": {
        "colab": {
          "base_uri": "https://localhost:8080/"
        },
        "id": "ZeeQedGHeBw-",
        "outputId": "89f6b2a0-847b-48a4-a685-95c860cce6cc"
      },
      "source": [
        "X_train_tfidf5.shape"
      ],
      "execution_count": null,
      "outputs": [
        {
          "output_type": "execute_result",
          "data": {
            "text/plain": [
              "(1671, 10162)"
            ]
          },
          "metadata": {
            "tags": []
          },
          "execution_count": 77
        }
      ]
    },
    {
      "cell_type": "code",
      "metadata": {
        "colab": {
          "base_uri": "https://localhost:8080/"
        },
        "id": "DyaNEk8hfYdx",
        "outputId": "386a1dd0-ab5d-437d-9507-be469c890d51"
      },
      "source": [
        "X_test_tfidf5.shape"
      ],
      "execution_count": null,
      "outputs": [
        {
          "output_type": "execute_result",
          "data": {
            "text/plain": [
              "(717, 10162)"
            ]
          },
          "metadata": {
            "tags": []
          },
          "execution_count": 78
        }
      ]
    },
    {
      "cell_type": "code",
      "metadata": {
        "colab": {
          "base_uri": "https://localhost:8080/"
        },
        "id": "thpW5uwYfYal",
        "outputId": "3b462e98-6bac-4054-e4b6-5e485d22f6fd"
      },
      "source": [
        "y_train.shape"
      ],
      "execution_count": null,
      "outputs": [
        {
          "output_type": "execute_result",
          "data": {
            "text/plain": [
              "(1671,)"
            ]
          },
          "metadata": {
            "tags": []
          },
          "execution_count": 79
        }
      ]
    },
    {
      "cell_type": "code",
      "metadata": {
        "id": "ms9ZAjkzfYVI"
      },
      "source": [
        "def create_feature_importance(clf, vect):\n",
        "  importance = pd.Series(clf.feature_importances_,\n",
        "                        index=vect.get_feature_names())\n",
        "\n",
        "  # Take the .tail 30 and plot kind='barh'\n",
        "  importance.sort_values().tail(30).plot(kind='barh')"
      ],
      "execution_count": null,
      "outputs": []
    },
    {
      "cell_type": "code",
      "metadata": {
        "colab": {
          "base_uri": "https://localhost:8080/",
          "height": 164
        },
        "id": "xjgY9cLMi2ZH",
        "outputId": "3b95caba-91ca-4cc5-a9c2-17c42a1d2020"
      },
      "source": [
        "create_feature_importance(clf5, vect5)"
      ],
      "execution_count": null,
      "outputs": [
        {
          "output_type": "error",
          "ename": "NameError",
          "evalue": "ignored",
          "traceback": [
            "\u001b[0;31m---------------------------------------------------------------------------\u001b[0m",
            "\u001b[0;31mNameError\u001b[0m                                 Traceback (most recent call last)",
            "\u001b[0;32m<ipython-input-112-4107bf85ffa0>\u001b[0m in \u001b[0;36m<module>\u001b[0;34m()\u001b[0m\n\u001b[0;32m----> 1\u001b[0;31m \u001b[0mcreate_feature_importance\u001b[0m\u001b[0;34m(\u001b[0m\u001b[0mclf5\u001b[0m\u001b[0;34m,\u001b[0m \u001b[0mvect5\u001b[0m\u001b[0;34m)\u001b[0m\u001b[0;34m\u001b[0m\u001b[0;34m\u001b[0m\u001b[0m\n\u001b[0m",
            "\u001b[0;31mNameError\u001b[0m: name 'clf5' is not defined"
          ]
        }
      ]
    },
    {
      "cell_type": "code",
      "metadata": {
        "colab": {
          "base_uri": "https://localhost:8080/",
          "height": 283
        },
        "id": "UHmFgZ5ieBup",
        "outputId": "13abbb61-1c10-42bd-f0f8-bc8936581968"
      },
      "source": [
        "importance = pd.Series(clf5.feature_importances_,\n",
        "                        index=vect5.get_feature_names())\n",
        "\n",
        "# Take the .tail 30 and plot kind='barh'\n",
        "importance.sort_values().tail(30).plot(kind='barh')"
      ],
      "execution_count": null,
      "outputs": [
        {
          "output_type": "execute_result",
          "data": {
            "text/plain": [
              "<matplotlib.axes._subplots.AxesSubplot at 0x7f9efe3e6d50>"
            ]
          },
          "metadata": {
            "tags": []
          },
          "execution_count": 83
        },
        {
          "output_type": "display_data",
          "data": {
            "image/png": "[encoded data removed]",
            "text/plain": [
              "<Figure size 432x288 with 1 Axes>"
            ]
          },
          "metadata": {
            "tags": [],
            "needs_background": "light"
          }
        }
      ]
    },
    {
      "cell_type": "code",
      "metadata": {
        "id": "aPIpL4h-eBsk"
      },
      "source": [
        "def create_feature_importance(clf, vect, company):\n",
        "  importance = pd.Series(clf.feature_importances_,\n",
        "                        index=vect.get_feature_names())\n",
        "  if company in importance:\n",
        "    importance.drop(company, inplace=True)\n",
        "  else:\n",
        "    pass\n",
        "  \n",
        "\n",
        "  # Take the .tail 30 and plot kind='barh'\n",
        "  ax = importance.sort_values().tail(25).plot(kind='barh')\n",
        "  return ax"
      ],
      "execution_count": null,
      "outputs": []
    },
    {
      "cell_type": "code",
      "metadata": {
        "colab": {
          "base_uri": "https://localhost:8080/",
          "height": 164
        },
        "id": "A_6bR3xFBrMq",
        "outputId": "fe3032be-249c-44dd-9a69-74506b3eb7e5"
      },
      "source": [
        "importance.drop('aapl', inp)"
      ],
      "execution_count": null,
      "outputs": [
        {
          "output_type": "error",
          "ename": "NameError",
          "evalue": "ignored",
          "traceback": [
            "\u001b[0;31m---------------------------------------------------------------------------\u001b[0m",
            "\u001b[0;31mNameError\u001b[0m                                 Traceback (most recent call last)",
            "\u001b[0;32m<ipython-input-114-6cf727d004bc>\u001b[0m in \u001b[0;36m<module>\u001b[0;34m()\u001b[0m\n\u001b[0;32m----> 1\u001b[0;31m \u001b[0mimportance\u001b[0m\u001b[0;34m.\u001b[0m\u001b[0mdrop\u001b[0m\u001b[0;34m(\u001b[0m\u001b[0;34m'aapl'\u001b[0m\u001b[0;34m,\u001b[0m \u001b[0minp\u001b[0m\u001b[0;34m)\u001b[0m\u001b[0;34m\u001b[0m\u001b[0;34m\u001b[0m\u001b[0m\n\u001b[0m",
            "\u001b[0;31mNameError\u001b[0m: name 'inp' is not defined"
          ]
        }
      ]
    },
    {
      "cell_type": "code",
      "metadata": {
        "colab": {
          "base_uri": "https://localhost:8080/",
          "height": 164
        },
        "id": "QvS9RMrZeBqK",
        "outputId": "77c3b433-28ee-4b31-89ec-0b05a8966ce9"
      },
      "source": [
        "fig = create_feature_importance(clf5, vect5)"
      ],
      "execution_count": null,
      "outputs": [
        {
          "output_type": "error",
          "ename": "NameError",
          "evalue": "ignored",
          "traceback": [
            "\u001b[0;31m---------------------------------------------------------------------------\u001b[0m",
            "\u001b[0;31mNameError\u001b[0m                                 Traceback (most recent call last)",
            "\u001b[0;32m<ipython-input-115-d87c7020ea8c>\u001b[0m in \u001b[0;36m<module>\u001b[0;34m()\u001b[0m\n\u001b[0;32m----> 1\u001b[0;31m \u001b[0mfig\u001b[0m \u001b[0;34m=\u001b[0m \u001b[0mcreate_feature_importance\u001b[0m\u001b[0;34m(\u001b[0m\u001b[0mclf5\u001b[0m\u001b[0;34m,\u001b[0m \u001b[0mvect5\u001b[0m\u001b[0;34m)\u001b[0m\u001b[0;34m\u001b[0m\u001b[0;34m\u001b[0m\u001b[0m\n\u001b[0m",
            "\u001b[0;31mNameError\u001b[0m: name 'clf5' is not defined"
          ]
        }
      ]
    },
    {
      "cell_type": "code",
      "metadata": {
        "colab": {
          "base_uri": "https://localhost:8080/",
          "height": 164
        },
        "id": "dahjzXF7eBnd",
        "outputId": "09f23b37-4f4d-4a3e-f3cd-3d208ea9d476"
      },
      "source": [
        ""
      ],
      "execution_count": null,
      "outputs": [
        {
          "output_type": "error",
          "ename": "AttributeError",
          "evalue": "ignored",
          "traceback": [
            "\u001b[0;31m---------------------------------------------------------------------------\u001b[0m",
            "\u001b[0;31mAttributeError\u001b[0m                            Traceback (most recent call last)",
            "\u001b[0;32m<ipython-input-121-6ebedab27258>\u001b[0m in \u001b[0;36m<module>\u001b[0;34m()\u001b[0m\n\u001b[0;32m----> 1\u001b[0;31m \u001b[0mfig\u001b[0m\u001b[0;34m.\u001b[0m\u001b[0mshow\u001b[0m\u001b[0;34m(\u001b[0m\u001b[0;34m)\u001b[0m\u001b[0;34m\u001b[0m\u001b[0;34m\u001b[0m\u001b[0m\n\u001b[0m",
            "\u001b[0;31mAttributeError\u001b[0m: 'AxesSubplot' object has no attribute 'show'"
          ]
        }
      ]
    },
    {
      "cell_type": "code",
      "metadata": {
        "colab": {
          "base_uri": "https://localhost:8080/"
        },
        "id": "V5ov_1YIb8AZ",
        "outputId": "0837c914-6b03-4d9d-8ebf-b4277cd4f013"
      },
      "source": [
        "grid4.best_estimator_.named_steps['clf']"
      ],
      "execution_count": null,
      "outputs": [
        {
          "output_type": "execute_result",
          "data": {
            "text/plain": [
              "RandomForestClassifier(bootstrap=True, ccp_alpha=0.0, class_weight='balanced',\n",
              "                       criterion='entropy', max_depth=None, max_features='auto',\n",
              "                       max_leaf_nodes=None, max_samples=None,\n",
              "                       min_impurity_decrease=0.0, min_impurity_split=None,\n",
              "                       min_samples_leaf=1, min_samples_split=2,\n",
              "                       min_weight_fraction_leaf=0.0, n_estimators=100,\n",
              "                       n_jobs=-1, oob_score=False, random_state=None, verbose=0,\n",
              "                       warm_start=False)"
            ]
          },
          "metadata": {
            "tags": []
          },
          "execution_count": 152
        }
      ]
    },
    {
      "cell_type": "code",
      "metadata": {
        "id": "9gzq1DdTb7-X"
      },
      "source": [
        "test = grid4.best_estimator_"
      ],
      "execution_count": null,
      "outputs": []
    },
    {
      "cell_type": "code",
      "metadata": {
        "colab": {
          "base_uri": "https://localhost:8080/"
        },
        "id": "SNNqPQM6b77_",
        "outputId": "cc92a8e7-71b0-49a3-80cc-91df728eab1d"
      },
      "source": [
        "test.named_steps['clf']"
      ],
      "execution_count": null,
      "outputs": [
        {
          "output_type": "execute_result",
          "data": {
            "text/plain": [
              "RandomForestClassifier(bootstrap=True, ccp_alpha=0.0, class_weight='balanced',\n",
              "                       criterion='entropy', max_depth=None, max_features='auto',\n",
              "                       max_leaf_nodes=None, max_samples=None,\n",
              "                       min_impurity_decrease=0.0, min_impurity_split=None,\n",
              "                       min_samples_leaf=1, min_samples_split=2,\n",
              "                       min_weight_fraction_leaf=0.0, n_estimators=100,\n",
              "                       n_jobs=-1, oob_score=False, random_state=None, verbose=0,\n",
              "                       warm_start=False)"
            ]
          },
          "metadata": {
            "tags": []
          },
          "execution_count": 154
        }
      ]
    },
    {
      "cell_type": "code",
      "metadata": {
        "colab": {
          "base_uri": "https://localhost:8080/"
        },
        "id": "ErRuMRezb73U",
        "outputId": "d45a37f6-0d1f-4a1f-c6be-97e012fa23ff"
      },
      "source": [
        "importance = pd.Series(clf.feature_importances_,\n",
        "                      index=vect.get_feature_names())\n",
        "\n",
        "# Take the .tail 30 and plot kind='barh'\n",
        "# vibes = importance.sort_values().tail(25).plot(kind='barh')\n",
        "ax.barh(width=importance.sort_values(), y=vect.get_feature_names())"
      ],
      "execution_count": null,
      "outputs": [
        {
          "output_type": "execute_result",
          "data": {
            "text/plain": [
              "<BarContainer object of 10490 artists>"
            ]
          },
          "metadata": {
            "tags": []
          },
          "execution_count": 132
        }
      ]
    },
    {
      "cell_type": "code",
      "metadata": {
        "id": "yOtf75mEb71J"
      },
      "source": [
        "test=importance.sort_values(ascending=False).to_frame()"
      ],
      "execution_count": null,
      "outputs": []
    },
    {
      "cell_type": "code",
      "metadata": {
        "colab": {
          "base_uri": "https://localhost:8080/",
          "height": 142
        },
        "id": "P0JTq1bUm3tW",
        "outputId": "be573852-8c35-458f-abbe-fc372d4ac0e8"
      },
      "source": [
        "test.head(3)"
      ],
      "execution_count": null,
      "outputs": [
        {
          "output_type": "execute_result",
          "data": {
            "text/html": [
              "<div>\n",
              "<style scoped>\n",
              "    .dataframe tbody tr th:only-of-type {\n",
              "        vertical-align: middle;\n",
              "    }\n",
              "\n",
              "    .dataframe tbody tr th {\n",
              "        vertical-align: top;\n",
              "    }\n",
              "\n",
              "    .dataframe thead th {\n",
              "        text-align: right;\n",
              "    }\n",
              "</style>\n",
              "<table border=\"1\" class=\"dataframe\">\n",
              "  <thead>\n",
              "    <tr style=\"text-align: right;\">\n",
              "      <th></th>\n",
              "      <th>0</th>\n",
              "    </tr>\n",
              "  </thead>\n",
              "  <tbody>\n",
              "    <tr>\n",
              "      <th>best</th>\n",
              "      <td>0.013189</td>\n",
              "    </tr>\n",
              "    <tr>\n",
              "      <th>like</th>\n",
              "      <td>0.007419</td>\n",
              "    </tr>\n",
              "    <tr>\n",
              "      <th>new</th>\n",
              "      <td>0.006111</td>\n",
              "    </tr>\n",
              "  </tbody>\n",
              "</table>\n",
              "</div>"
            ],
            "text/plain": [
              "             0\n",
              "best  0.013189\n",
              "like  0.007419\n",
              "new   0.006111"
            ]
          },
          "metadata": {
            "tags": []
          },
          "execution_count": 201
        }
      ]
    },
    {
      "cell_type": "code",
      "metadata": {
        "colab": {
          "base_uri": "https://localhost:8080/",
          "height": 419
        },
        "id": "84nGx06knAcG",
        "outputId": "db4c804c-cf22-4565-e97f-b45058360bd9"
      },
      "source": [
        "test"
      ],
      "execution_count": null,
      "outputs": [
        {
          "output_type": "execute_result",
          "data": {
            "text/html": [
              "<div>\n",
              "<style scoped>\n",
              "    .dataframe tbody tr th:only-of-type {\n",
              "        vertical-align: middle;\n",
              "    }\n",
              "\n",
              "    .dataframe tbody tr th {\n",
              "        vertical-align: top;\n",
              "    }\n",
              "\n",
              "    .dataframe thead th {\n",
              "        text-align: right;\n",
              "    }\n",
              "</style>\n",
              "<table border=\"1\" class=\"dataframe\">\n",
              "  <thead>\n",
              "    <tr style=\"text-align: right;\">\n",
              "      <th></th>\n",
              "      <th>0</th>\n",
              "    </tr>\n",
              "  </thead>\n",
              "  <tbody>\n",
              "    <tr>\n",
              "      <th>best</th>\n",
              "      <td>0.013189</td>\n",
              "    </tr>\n",
              "    <tr>\n",
              "      <th>like</th>\n",
              "      <td>0.007419</td>\n",
              "    </tr>\n",
              "    <tr>\n",
              "      <th>new</th>\n",
              "      <td>0.006111</td>\n",
              "    </tr>\n",
              "    <tr>\n",
              "      <th>great</th>\n",
              "      <td>0.004438</td>\n",
              "    </tr>\n",
              "    <tr>\n",
              "      <th>day</th>\n",
              "      <td>0.004272</td>\n",
              "    </tr>\n",
              "    <tr>\n",
              "      <th>...</th>\n",
              "      <td>...</td>\n",
              "    </tr>\n",
              "    <tr>\n",
              "      <th>sampler</th>\n",
              "      <td>0.000000</td>\n",
              "    </tr>\n",
              "    <tr>\n",
              "      <th>samsung's</th>\n",
              "      <td>0.000000</td>\n",
              "    </tr>\n",
              "    <tr>\n",
              "      <th>sand</th>\n",
              "      <td>0.000000</td>\n",
              "    </tr>\n",
              "    <tr>\n",
              "      <th>sandoval</th>\n",
              "      <td>0.000000</td>\n",
              "    </tr>\n",
              "    <tr>\n",
              "      <th>dose</th>\n",
              "      <td>0.000000</td>\n",
              "    </tr>\n",
              "  </tbody>\n",
              "</table>\n",
              "<p>10162 rows × 1 columns</p>\n",
              "</div>"
            ],
            "text/plain": [
              "                  0\n",
              "best       0.013189\n",
              "like       0.007419\n",
              "new        0.006111\n",
              "great      0.004438\n",
              "day        0.004272\n",
              "...             ...\n",
              "sampler    0.000000\n",
              "samsung's  0.000000\n",
              "sand       0.000000\n",
              "sandoval   0.000000\n",
              "dose       0.000000\n",
              "\n",
              "[10162 rows x 1 columns]"
            ]
          },
          "metadata": {
            "tags": []
          },
          "execution_count": 202
        }
      ]
    },
    {
      "cell_type": "code",
      "metadata": {
        "id": "ovMc6sN3nU4o",
        "colab": {
          "base_uri": "https://localhost:8080/",
          "height": 198
        },
        "outputId": "ea62ec7a-04f7-49e9-c6e7-bb0a987070fe"
      },
      "source": [
        "test = test.nlargest(30, columns=0)\n",
        "test=test.sort_values(by=0)\n",
        "test"
      ],
      "execution_count": null,
      "outputs": [
        {
          "output_type": "error",
          "ename": "NameError",
          "evalue": "ignored",
          "traceback": [
            "\u001b[0;31m---------------------------------------------------------------------------\u001b[0m",
            "\u001b[0;31mNameError\u001b[0m                                 Traceback (most recent call last)",
            "\u001b[0;32m<ipython-input-137-ee7037f39bea>\u001b[0m in \u001b[0;36m<module>\u001b[0;34m()\u001b[0m\n\u001b[0;32m----> 1\u001b[0;31m \u001b[0mtest\u001b[0m \u001b[0;34m=\u001b[0m \u001b[0mtest\u001b[0m\u001b[0;34m.\u001b[0m\u001b[0mnlargest\u001b[0m\u001b[0;34m(\u001b[0m\u001b[0;36m30\u001b[0m\u001b[0;34m,\u001b[0m \u001b[0mcolumns\u001b[0m\u001b[0;34m=\u001b[0m\u001b[0;36m0\u001b[0m\u001b[0;34m)\u001b[0m\u001b[0;34m\u001b[0m\u001b[0;34m\u001b[0m\u001b[0m\n\u001b[0m\u001b[1;32m      2\u001b[0m \u001b[0mtest\u001b[0m\u001b[0;34m=\u001b[0m\u001b[0mtest\u001b[0m\u001b[0;34m.\u001b[0m\u001b[0msort_values\u001b[0m\u001b[0;34m(\u001b[0m\u001b[0mby\u001b[0m\u001b[0;34m=\u001b[0m\u001b[0;36m0\u001b[0m\u001b[0;34m)\u001b[0m\u001b[0;34m\u001b[0m\u001b[0;34m\u001b[0m\u001b[0m\n\u001b[1;32m      3\u001b[0m \u001b[0mtest\u001b[0m\u001b[0;34m\u001b[0m\u001b[0;34m\u001b[0m\u001b[0m\n",
            "\u001b[0;31mNameError\u001b[0m: name 'test' is not defined"
          ]
        }
      ]
    },
    {
      "cell_type": "code",
      "metadata": {
        "colab": {
          "base_uri": "https://localhost:8080/",
          "height": 542
        },
        "id": "6d1JyLDBb7yq",
        "outputId": "92957acf-f271-4e3e-b83b-666372f05e71"
      },
      "source": [
        "import matplotlib.pyplot as plt\n",
        "import seaborn as sns\n",
        "import plotly.express as px\n",
        "import plotly.graph_objects as go\n",
        "\n",
        "fig = px.bar(test, y=test.index, x=0, orientation='h')\n",
        "layout1 = go.Layout(\n",
        "title=\"Feature Importance\",\n",
        "xaxis=dict(\n",
        "           tickvals=test.index,\n",
        "    title='Feature Importance',\n",
        "    titlefont=dict(\n",
        "        family='Courier New, monospace',\n",
        "        size=18,\n",
        "        color='#7f7f7f'\n",
        "    )))\n",
        "fig.show()"
      ],
      "execution_count": null,
      "outputs": [
        {
          "output_type": "display_data",
          "data": {
            "text/html": [
              "<html>\n",
              "<head><meta charset=\"utf-8\" /></head>\n",
              "<body>\n",
              "    <div>\n",
              "            <script src=\"https://cdnjs.cloudflare.com/ajax/libs/mathjax/2.7.5/MathJax.js?config=TeX-AMS-MML_SVG\"></script><script type=\"text/javascript\">if (window.MathJax) {MathJax.Hub.Config({SVG: {font: \"STIX-Web\"}});}</script>\n",
              "                <script type=\"text/javascript\">window.PlotlyConfig = {MathJaxConfig: 'local'};</script>\n",
              "        <script src=\"https://cdn.plot.ly/plotly-latest.min.js\"></script>    \n",
              "            <div id=\"b520c2bc-2e34-4b3b-9c9a-f7a51da7d1e9\" class=\"plotly-graph-div\" style=\"height:525px; width:100%;\"></div>\n",
              "            <script type=\"text/javascript\">\n",
              "                \n",
              "                    window.PLOTLYENV=window.PLOTLYENV || {};\n",
              "                    \n",
              "                if (document.getElementById(\"b520c2bc-2e34-4b3b-9c9a-f7a51da7d1e9\")) {\n",
              "                    Plotly.newPlot(\n",
              "                        'b520c2bc-2e34-4b3b-9c9a-f7a51da7d1e9',\n",
              "                        [{\"alignmentgroup\": \"True\", \"hoverlabel\": {\"namelength\": 0}, \"hovertemplate\": \"0=%{x}<br>y=%{y}\", \"legendgroup\": \"\", \"marker\": {\"color\": \"#636efa\"}, \"name\": \"\", \"offsetgroup\": \"\", \"orientation\": \"h\", \"showlegend\": false, \"textposition\": \"auto\", \"type\": \"bar\", \"x\": [0.0021287227822716706, 0.0021458755743082496, 0.0021748464985404696, 0.0021833337758031123, 0.002184562861062613, 0.0021884915333593704, 0.002199712025582315, 0.002244870674199653, 0.0022645827088170426, 0.0022951513026564343, 0.0023196447193507526, 0.002497383351877145, 0.0025494951409381337, 0.002608193620463844, 0.0026796268763382113, 0.0027004256403665564, 0.002713587297206701, 0.002725549730680411, 0.00272691190967672, 0.0028805415047819, 0.003332198087738951, 0.0033634974805011424, 0.003607937162753062, 0.0036759993103174337, 0.0037227585414145088, 0.0042724771942423915, 0.004438261343648986, 0.006110904177652833, 0.00741941011225109, 0.013189179349200957], \"xaxis\": \"x\", \"y\": [\"deals\", \"windows\", \"music\", \"tech\", \"drop\", \"buy\", \"announced\", \"second\", \"two\", \"today\", \"company\", \"man\", \"one\", \"way\", \"death\", \"series\", \"released\", \"crime\", \"top\", \"need\", \"amazon\", \"war\", \"support\", \"first\", \"free\", \"day\", \"great\", \"new\", \"like\", \"best\"], \"yaxis\": \"y\"}],\n",
              "                        {\"barmode\": \"relative\", \"legend\": {\"tracegroupgap\": 0}, \"margin\": {\"t\": 60}, \"template\": {\"data\": {\"bar\": [{\"error_x\": {\"color\": \"#2a3f5f\"}, \"error_y\": {\"color\": \"#2a3f5f\"}, \"marker\": {\"line\": {\"color\": \"#E5ECF6\", \"width\": 0.5}}, \"type\": \"bar\"}], \"barpolar\": [{\"marker\": {\"line\": {\"color\": \"#E5ECF6\", \"width\": 0.5}}, \"type\": \"barpolar\"}], \"carpet\": [{\"aaxis\": {\"endlinecolor\": \"#2a3f5f\", \"gridcolor\": \"white\", \"linecolor\": \"white\", \"minorgridcolor\": \"white\", \"startlinecolor\": \"#2a3f5f\"}, \"baxis\": {\"endlinecolor\": \"#2a3f5f\", \"gridcolor\": \"white\", \"linecolor\": \"white\", \"minorgridcolor\": \"white\", \"startlinecolor\": \"#2a3f5f\"}, \"type\": \"carpet\"}], \"choropleth\": [{\"colorbar\": {\"outlinewidth\": 0, \"ticks\": \"\"}, \"type\": \"choropleth\"}], \"contour\": [{\"colorbar\": {\"outlinewidth\": 0, \"ticks\": \"\"}, \"colorscale\": [[0.0, \"#0d0887\"], [0.1111111111111111, \"#46039f\"], [0.2222222222222222, \"#7201a8\"], [0.3333333333333333, \"#9c179e\"], [0.4444444444444444, \"#bd3786\"], [0.5555555555555556, \"#d8576b\"], [0.6666666666666666, \"#ed7953\"], [0.7777777777777778, \"#fb9f3a\"], [0.8888888888888888, \"#fdca26\"], [1.0, \"#f0f921\"]], \"type\": \"contour\"}], \"contourcarpet\": [{\"colorbar\": {\"outlinewidth\": 0, \"ticks\": \"\"}, \"type\": \"contourcarpet\"}], \"heatmap\": [{\"colorbar\": {\"outlinewidth\": 0, \"ticks\": \"\"}, \"colorscale\": [[0.0, \"#0d0887\"], [0.1111111111111111, \"#46039f\"], [0.2222222222222222, \"#7201a8\"], [0.3333333333333333, \"#9c179e\"], [0.4444444444444444, \"#bd3786\"], [0.5555555555555556, \"#d8576b\"], [0.6666666666666666, \"#ed7953\"], [0.7777777777777778, \"#fb9f3a\"], [0.8888888888888888, \"#fdca26\"], [1.0, \"#f0f921\"]], \"type\": \"heatmap\"}], \"heatmapgl\": [{\"colorbar\": {\"outlinewidth\": 0, \"ticks\": \"\"}, \"colorscale\": [[0.0, \"#0d0887\"], [0.1111111111111111, \"#46039f\"], [0.2222222222222222, \"#7201a8\"], [0.3333333333333333, \"#9c179e\"], [0.4444444444444444, \"#bd3786\"], [0.5555555555555556, \"#d8576b\"], [0.6666666666666666, \"#ed7953\"], [0.7777777777777778, \"#fb9f3a\"], [0.8888888888888888, \"#fdca26\"], [1.0, \"#f0f921\"]], \"type\": \"heatmapgl\"}], \"histogram\": [{\"marker\": {\"colorbar\": {\"outlinewidth\": 0, \"ticks\": \"\"}}, \"type\": \"histogram\"}], \"histogram2d\": [{\"colorbar\": {\"outlinewidth\": 0, \"ticks\": \"\"}, \"colorscale\": [[0.0, \"#0d0887\"], [0.1111111111111111, \"#46039f\"], [0.2222222222222222, \"#7201a8\"], [0.3333333333333333, \"#9c179e\"], [0.4444444444444444, \"#bd3786\"], [0.5555555555555556, \"#d8576b\"], [0.6666666666666666, \"#ed7953\"], [0.7777777777777778, \"#fb9f3a\"], [0.8888888888888888, \"#fdca26\"], [1.0, \"#f0f921\"]], \"type\": \"histogram2d\"}], \"histogram2dcontour\": [{\"colorbar\": {\"outlinewidth\": 0, \"ticks\": \"\"}, \"colorscale\": [[0.0, \"#0d0887\"], [0.1111111111111111, \"#46039f\"], [0.2222222222222222, \"#7201a8\"], [0.3333333333333333, \"#9c179e\"], [0.4444444444444444, \"#bd3786\"], [0.5555555555555556, \"#d8576b\"], [0.6666666666666666, \"#ed7953\"], [0.7777777777777778, \"#fb9f3a\"], [0.8888888888888888, \"#fdca26\"], [1.0, \"#f0f921\"]], \"type\": \"histogram2dcontour\"}], \"mesh3d\": [{\"colorbar\": {\"outlinewidth\": 0, \"ticks\": \"\"}, \"type\": \"mesh3d\"}], \"parcoords\": [{\"line\": {\"colorbar\": {\"outlinewidth\": 0, \"ticks\": \"\"}}, \"type\": \"parcoords\"}], \"pie\": [{\"automargin\": true, \"type\": \"pie\"}], \"scatter\": [{\"marker\": {\"colorbar\": {\"outlinewidth\": 0, \"ticks\": \"\"}}, \"type\": \"scatter\"}], \"scatter3d\": [{\"line\": {\"colorbar\": {\"outlinewidth\": 0, \"ticks\": \"\"}}, \"marker\": {\"colorbar\": {\"outlinewidth\": 0, \"ticks\": \"\"}}, \"type\": \"scatter3d\"}], \"scattercarpet\": [{\"marker\": {\"colorbar\": {\"outlinewidth\": 0, \"ticks\": \"\"}}, \"type\": \"scattercarpet\"}], \"scattergeo\": [{\"marker\": {\"colorbar\": {\"outlinewidth\": 0, \"ticks\": \"\"}}, \"type\": \"scattergeo\"}], \"scattergl\": [{\"marker\": {\"colorbar\": {\"outlinewidth\": 0, \"ticks\": \"\"}}, \"type\": \"scattergl\"}], \"scattermapbox\": [{\"marker\": {\"colorbar\": {\"outlinewidth\": 0, \"ticks\": \"\"}}, \"type\": \"scattermapbox\"}], \"scatterpolar\": [{\"marker\": {\"colorbar\": {\"outlinewidth\": 0, \"ticks\": \"\"}}, \"type\": \"scatterpolar\"}], \"scatterpolargl\": [{\"marker\": {\"colorbar\": {\"outlinewidth\": 0, \"ticks\": \"\"}}, \"type\": \"scatterpolargl\"}], \"scatterternary\": [{\"marker\": {\"colorbar\": {\"outlinewidth\": 0, \"ticks\": \"\"}}, \"type\": \"scatterternary\"}], \"surface\": [{\"colorbar\": {\"outlinewidth\": 0, \"ticks\": \"\"}, \"colorscale\": [[0.0, \"#0d0887\"], [0.1111111111111111, \"#46039f\"], [0.2222222222222222, \"#7201a8\"], [0.3333333333333333, \"#9c179e\"], [0.4444444444444444, \"#bd3786\"], [0.5555555555555556, \"#d8576b\"], [0.6666666666666666, \"#ed7953\"], [0.7777777777777778, \"#fb9f3a\"], [0.8888888888888888, \"#fdca26\"], [1.0, \"#f0f921\"]], \"type\": \"surface\"}], \"table\": [{\"cells\": {\"fill\": {\"color\": \"#EBF0F8\"}, \"line\": {\"color\": \"white\"}}, \"header\": {\"fill\": {\"color\": \"#C8D4E3\"}, \"line\": {\"color\": \"white\"}}, \"type\": \"table\"}]}, \"layout\": {\"annotationdefaults\": {\"arrowcolor\": \"#2a3f5f\", \"arrowhead\": 0, \"arrowwidth\": 1}, \"coloraxis\": {\"colorbar\": {\"outlinewidth\": 0, \"ticks\": \"\"}}, \"colorscale\": {\"diverging\": [[0, \"#8e0152\"], [0.1, \"#c51b7d\"], [0.2, \"#de77ae\"], [0.3, \"#f1b6da\"], [0.4, \"#fde0ef\"], [0.5, \"#f7f7f7\"], [0.6, \"#e6f5d0\"], [0.7, \"#b8e186\"], [0.8, \"#7fbc41\"], [0.9, \"#4d9221\"], [1, \"#276419\"]], \"sequential\": [[0.0, \"#0d0887\"], [0.1111111111111111, \"#46039f\"], [0.2222222222222222, \"#7201a8\"], [0.3333333333333333, \"#9c179e\"], [0.4444444444444444, \"#bd3786\"], [0.5555555555555556, \"#d8576b\"], [0.6666666666666666, \"#ed7953\"], [0.7777777777777778, \"#fb9f3a\"], [0.8888888888888888, \"#fdca26\"], [1.0, \"#f0f921\"]], \"sequentialminus\": [[0.0, \"#0d0887\"], [0.1111111111111111, \"#46039f\"], [0.2222222222222222, \"#7201a8\"], [0.3333333333333333, \"#9c179e\"], [0.4444444444444444, \"#bd3786\"], [0.5555555555555556, \"#d8576b\"], [0.6666666666666666, \"#ed7953\"], [0.7777777777777778, \"#fb9f3a\"], [0.8888888888888888, \"#fdca26\"], [1.0, \"#f0f921\"]]}, \"colorway\": [\"#636efa\", \"#EF553B\", \"#00cc96\", \"#ab63fa\", \"#FFA15A\", \"#19d3f3\", \"#FF6692\", \"#B6E880\", \"#FF97FF\", \"#FECB52\"], \"font\": {\"color\": \"#2a3f5f\"}, \"geo\": {\"bgcolor\": \"white\", \"lakecolor\": \"white\", \"landcolor\": \"#E5ECF6\", \"showlakes\": true, \"showland\": true, \"subunitcolor\": \"white\"}, \"hoverlabel\": {\"align\": \"left\"}, \"hovermode\": \"closest\", \"mapbox\": {\"style\": \"light\"}, \"paper_bgcolor\": \"white\", \"plot_bgcolor\": \"#E5ECF6\", \"polar\": {\"angularaxis\": {\"gridcolor\": \"white\", \"linecolor\": \"white\", \"ticks\": \"\"}, \"bgcolor\": \"#E5ECF6\", \"radialaxis\": {\"gridcolor\": \"white\", \"linecolor\": \"white\", \"ticks\": \"\"}}, \"scene\": {\"xaxis\": {\"backgroundcolor\": \"#E5ECF6\", \"gridcolor\": \"white\", \"gridwidth\": 2, \"linecolor\": \"white\", \"showbackground\": true, \"ticks\": \"\", \"zerolinecolor\": \"white\"}, \"yaxis\": {\"backgroundcolor\": \"#E5ECF6\", \"gridcolor\": \"white\", \"gridwidth\": 2, \"linecolor\": \"white\", \"showbackground\": true, \"ticks\": \"\", \"zerolinecolor\": \"white\"}, \"zaxis\": {\"backgroundcolor\": \"#E5ECF6\", \"gridcolor\": \"white\", \"gridwidth\": 2, \"linecolor\": \"white\", \"showbackground\": true, \"ticks\": \"\", \"zerolinecolor\": \"white\"}}, \"shapedefaults\": {\"line\": {\"color\": \"#2a3f5f\"}}, \"ternary\": {\"aaxis\": {\"gridcolor\": \"white\", \"linecolor\": \"white\", \"ticks\": \"\"}, \"baxis\": {\"gridcolor\": \"white\", \"linecolor\": \"white\", \"ticks\": \"\"}, \"bgcolor\": \"#E5ECF6\", \"caxis\": {\"gridcolor\": \"white\", \"linecolor\": \"white\", \"ticks\": \"\"}}, \"title\": {\"x\": 0.05}, \"xaxis\": {\"automargin\": true, \"gridcolor\": \"white\", \"linecolor\": \"white\", \"ticks\": \"\", \"title\": {\"standoff\": 15}, \"zerolinecolor\": \"white\", \"zerolinewidth\": 2}, \"yaxis\": {\"automargin\": true, \"gridcolor\": \"white\", \"linecolor\": \"white\", \"ticks\": \"\", \"title\": {\"standoff\": 15}, \"zerolinecolor\": \"white\", \"zerolinewidth\": 2}}}, \"xaxis\": {\"anchor\": \"y\", \"domain\": [0.0, 1.0], \"title\": {\"text\": \"0\"}}, \"yaxis\": {\"anchor\": \"x\", \"domain\": [0.0, 1.0], \"title\": {\"text\": \"y\"}}},\n",
              "                        {\"responsive\": true}\n",
              "                    ).then(function(){\n",
              "                            \n",
              "var gd = document.getElementById('b520c2bc-2e34-4b3b-9c9a-f7a51da7d1e9');\n",
              "var x = new MutationObserver(function (mutations, observer) {{\n",
              "        var display = window.getComputedStyle(gd).display;\n",
              "        if (!display || display === 'none') {{\n",
              "            console.log([gd, 'removed!']);\n",
              "            Plotly.purge(gd);\n",
              "            observer.disconnect();\n",
              "        }}\n",
              "}});\n",
              "\n",
              "// Listen for the removal of the full notebook cells\n",
              "var notebookContainer = gd.closest('#notebook-container');\n",
              "if (notebookContainer) {{\n",
              "    x.observe(notebookContainer, {childList: true});\n",
              "}}\n",
              "\n",
              "// Listen for the clearing of the current output cell\n",
              "var outputEl = gd.closest('.output');\n",
              "if (outputEl) {{\n",
              "    x.observe(outputEl, {childList: true});\n",
              "}}\n",
              "\n",
              "                        })\n",
              "                };\n",
              "                \n",
              "            </script>\n",
              "        </div>\n",
              "</body>\n",
              "</html>"
            ]
          },
          "metadata": {
            "tags": []
          }
        }
      ]
    },
    {
      "cell_type": "code",
      "metadata": {
        "colab": {
          "base_uri": "https://localhost:8080/"
        },
        "id": "TiTN1dW6b7vd",
        "outputId": "f3da00d7-a615-49f9-9e46-842dd6f5b4f3"
      },
      "source": [
        "importance.sort_values().nlargest(30)"
      ],
      "execution_count": null,
      "outputs": [
        {
          "output_type": "execute_result",
          "data": {
            "text/plain": [
              "best     0.008477\n",
              "the      0.007505\n",
              "and      0.007447\n",
              "for      0.007017\n",
              "to       0.006833\n",
              "in       0.006770\n",
              "of       0.006381\n",
              "you      0.006091\n",
              "apple    0.005492\n",
              "on       0.005458\n",
              "is       0.005286\n",
              "with     0.004868\n",
              "new      0.004723\n",
              "it       0.004501\n",
              "has      0.004433\n",
              "an       0.004033\n",
              "this     0.003729\n",
              "at       0.003689\n",
              "that     0.003649\n",
              "like     0.003540\n",
              "from     0.003476\n",
              "day      0.003461\n",
              "as       0.003450\n",
              "be       0.003376\n",
              "are      0.003295\n",
              "was      0.003231\n",
              "its      0.003188\n",
              "by       0.002996\n",
              "war      0.002899\n",
              "first    0.002829\n",
              "dtype: float64"
            ]
          },
          "metadata": {
            "tags": []
          },
          "execution_count": 137
        }
      ]
    },
    {
      "cell_type": "code",
      "metadata": {
        "id": "Va60s-pjb7sq"
      },
      "source": [
        ""
      ],
      "execution_count": null,
      "outputs": []
    },
    {
      "cell_type": "markdown",
      "metadata": {
        "id": "aPS52bg8I7R-"
      },
      "source": [
        "## Lime Explainer"
      ]
    },
    {
      "cell_type": "code",
      "metadata": {
        "colab": {
          "base_uri": "https://localhost:8080/",
          "height": 677
        },
        "id": "Kv2P16mbIDv9",
        "outputId": "5394d2a2-b34d-4998-e660-eb057d3479a0"
      },
      "source": [
        "!pip install lime\n",
        "import lime\n"
      ],
      "execution_count": null,
      "outputs": [
        {
          "output_type": "stream",
          "text": [
            "Collecting lime\n",
            "\u001b[?25l  Downloading https://files.pythonhosted.org/packages/f5/86/91a13127d83d793ecb50eb75e716f76e6eda809b6803c5a4ff462339789e/lime-0.2.0.1.tar.gz (275kB)\n",
            "\r\u001b[K     |█▏                              | 10kB 13.5MB/s eta 0:00:01\r\u001b[K     |██▍                             | 20kB 18.5MB/s eta 0:00:01\r\u001b[K     |███▋                            | 30kB 13.5MB/s eta 0:00:01\r\u001b[K     |████▊                           | 40kB 10.5MB/s eta 0:00:01\r\u001b[K     |██████                          | 51kB 5.5MB/s eta 0:00:01\r\u001b[K     |███████▏                        | 61kB 5.6MB/s eta 0:00:01\r\u001b[K     |████████▎                       | 71kB 6.1MB/s eta 0:00:01\r\u001b[K     |█████████▌                      | 81kB 6.1MB/s eta 0:00:01\r\u001b[K     |██████████▊                     | 92kB 6.1MB/s eta 0:00:01\r\u001b[K     |███████████▉                    | 102kB 5.4MB/s eta 0:00:01\r\u001b[K     |█████████████                   | 112kB 5.4MB/s eta 0:00:01\r\u001b[K     |██████████████▎                 | 122kB 5.4MB/s eta 0:00:01\r\u001b[K     |███████████████▌                | 133kB 5.4MB/s eta 0:00:01\r\u001b[K     |████████████████▋               | 143kB 5.4MB/s eta 0:00:01\r\u001b[K     |█████████████████▉              | 153kB 5.4MB/s eta 0:00:01\r\u001b[K     |███████████████████             | 163kB 5.4MB/s eta 0:00:01\r\u001b[K     |████████████████████▏           | 174kB 5.4MB/s eta 0:00:01\r\u001b[K     |█████████████████████▍          | 184kB 5.4MB/s eta 0:00:01\r\u001b[K     |██████████████████████▋         | 194kB 5.4MB/s eta 0:00:01\r\u001b[K     |███████████████████████▊        | 204kB 5.4MB/s eta 0:00:01\r\u001b[K     |█████████████████████████       | 215kB 5.4MB/s eta 0:00:01\r\u001b[K     |██████████████████████████▏     | 225kB 5.4MB/s eta 0:00:01\r\u001b[K     |███████████████████████████▍    | 235kB 5.4MB/s eta 0:00:01\r\u001b[K     |████████████████████████████▌   | 245kB 5.4MB/s eta 0:00:01\r\u001b[K     |█████████████████████████████▊  | 256kB 5.4MB/s eta 0:00:01\r\u001b[K     |███████████████████████████████ | 266kB 5.4MB/s eta 0:00:01\r\u001b[K     |████████████████████████████████| 276kB 5.4MB/s \n",
            "\u001b[?25hRequirement already satisfied: matplotlib in /usr/local/lib/python3.7/dist-packages (from lime) (3.2.2)\n",
            "Requirement already satisfied: numpy in /usr/local/lib/python3.7/dist-packages (from lime) (1.19.5)\n",
            "Requirement already satisfied: scipy in /usr/local/lib/python3.7/dist-packages (from lime) (1.4.1)\n",
            "Requirement already satisfied: tqdm in /usr/local/lib/python3.7/dist-packages (from lime) (4.41.1)\n",
            "Requirement already satisfied: scikit-learn>=0.18 in /usr/local/lib/python3.7/dist-packages (from lime) (0.22.2.post1)\n",
            "Requirement already satisfied: scikit-image>=0.12 in /usr/local/lib/python3.7/dist-packages (from lime) (0.16.2)\n",
            "Requirement already satisfied: cycler>=0.10 in /usr/local/lib/python3.7/dist-packages (from matplotlib->lime) (0.10.0)\n",
            "Requirement already satisfied: kiwisolver>=1.0.1 in /usr/local/lib/python3.7/dist-packages (from matplotlib->lime) (1.3.1)\n",
            "Requirement already satisfied: pyparsing!=2.0.4,!=2.1.2,!=2.1.6,>=2.0.1 in /usr/local/lib/python3.7/dist-packages (from matplotlib->lime) (2.4.7)\n",
            "Requirement already satisfied: python-dateutil>=2.1 in /usr/local/lib/python3.7/dist-packages (from matplotlib->lime) (2.8.1)\n",
            "Requirement already satisfied: joblib>=0.11 in /usr/local/lib/python3.7/dist-packages (from scikit-learn>=0.18->lime) (1.0.1)\n",
            "Requirement already satisfied: pillow>=4.3.0 in /usr/local/lib/python3.7/dist-packages (from scikit-image>=0.12->lime) (7.1.2)\n",
            "Requirement already satisfied: imageio>=2.3.0 in /usr/local/lib/python3.7/dist-packages (from scikit-image>=0.12->lime) (2.4.1)\n",
            "Requirement already satisfied: PyWavelets>=0.4.0 in /usr/local/lib/python3.7/dist-packages (from scikit-image>=0.12->lime) (1.1.1)\n",
            "Requirement already satisfied: networkx>=2.0 in /usr/local/lib/python3.7/dist-packages (from scikit-image>=0.12->lime) (2.5.1)\n",
            "Requirement already satisfied: six in /usr/local/lib/python3.7/dist-packages (from cycler>=0.10->matplotlib->lime) (1.15.0)\n",
            "Requirement already satisfied: decorator<5,>=4.3 in /usr/local/lib/python3.7/dist-packages (from networkx>=2.0->scikit-image>=0.12->lime) (4.4.2)\n",
            "Building wheels for collected packages: lime\n",
            "  Building wheel for lime (setup.py) ... \u001b[?25l\u001b[?25hdone\n",
            "  Created wheel for lime: filename=lime-0.2.0.1-cp37-none-any.whl size=283858 sha256=f4a0f6288f8fe484694647f60170efd924b6141d7e4d66a44eefa8bfae87ca89\n",
            "  Stored in directory: /root/.cache/pip/wheels/4c/4f/a5/0bc765457bd41378bf3ce8d17d7495369d6e7ca3b712c60c89\n",
            "Successfully built lime\n",
            "Installing collected packages: lime\n",
            "Successfully installed lime-0.2.0.1\n"
          ],
          "name": "stdout"
        },
        {
          "output_type": "error",
          "ename": "NameError",
          "evalue": "ignored",
          "traceback": [
            "\u001b[0;31m---------------------------------------------------------------------------\u001b[0m",
            "\u001b[0;31mNameError\u001b[0m                                 Traceback (most recent call last)",
            "\u001b[0;32m<ipython-input-122-5f5bba73661f>\u001b[0m in \u001b[0;36m<module>\u001b[0;34m()\u001b[0m\n\u001b[1;32m      2\u001b[0m \u001b[0;32mimport\u001b[0m \u001b[0mlime\u001b[0m\u001b[0;34m\u001b[0m\u001b[0;34m\u001b[0m\u001b[0m\n\u001b[1;32m      3\u001b[0m \u001b[0;32mfrom\u001b[0m \u001b[0mlime\u001b[0m\u001b[0;34m.\u001b[0m\u001b[0mlime_text\u001b[0m \u001b[0;32mimport\u001b[0m \u001b[0mLimeTextExplainer\u001b[0m\u001b[0;34m\u001b[0m\u001b[0;34m\u001b[0m\u001b[0m\n\u001b[0;32m----> 4\u001b[0;31m \u001b[0mexplainer\u001b[0m \u001b[0;34m=\u001b[0m \u001b[0mLimeTextExplainer\u001b[0m\u001b[0;34m(\u001b[0m\u001b[0mclass_names\u001b[0m\u001b[0;34m=\u001b[0m\u001b[0mclass_names\u001b[0m\u001b[0;34m)\u001b[0m\u001b[0;34m\u001b[0m\u001b[0;34m\u001b[0m\u001b[0m\n\u001b[0m",
            "\u001b[0;31mNameError\u001b[0m: name 'class_names' is not defined"
          ]
        }
      ]
    },
    {
      "cell_type": "code",
      "metadata": {
        "id": "sWyo_sKKI9Jf"
      },
      "source": [
        "class_names = ['Neg', 'Neu', 'Pos']\n",
        "from lime.lime_text import LimeTextExplainer\n",
        "explainer = LimeTextExplainer(class_names=class_names)"
      ],
      "execution_count": null,
      "outputs": []
    },
    {
      "cell_type": "code",
      "metadata": {
        "colab": {
          "base_uri": "https://localhost:8080/",
          "height": 392
        },
        "id": "rL9Y5F4PJZde",
        "outputId": "a7a72673-725f-48c0-9ff8-c5f398f8ddcb"
      },
      "source": [
        "idx = 83\n",
        "exp = explainer.explain_instance(text_instance=X_train.iloc[idx], classifier_fn=apple_pipe.predict_proba, num_features=6)\n",
        "print('Document id: %d' % idx)\n",
        "print('Probability(christian) =', apple_pipe.predict_proba([y_test[idx]]))\n",
        "print('True class: %s' % class_names[y_test.iloc[idx]])"
      ],
      "execution_count": null,
      "outputs": [
        {
          "output_type": "stream",
          "text": [
            "Document id: 83\n"
          ],
          "name": "stdout"
        },
        {
          "output_type": "error",
          "ename": "AttributeError",
          "evalue": "ignored",
          "traceback": [
            "\u001b[0;31m---------------------------------------------------------------------------\u001b[0m",
            "\u001b[0;31mAttributeError\u001b[0m                            Traceback (most recent call last)",
            "\u001b[0;32m<ipython-input-210-28ba1760f329>\u001b[0m in \u001b[0;36m<module>\u001b[0;34m()\u001b[0m\n\u001b[1;32m      2\u001b[0m \u001b[0mexp\u001b[0m \u001b[0;34m=\u001b[0m \u001b[0mexplainer\u001b[0m\u001b[0;34m.\u001b[0m\u001b[0mexplain_instance\u001b[0m\u001b[0;34m(\u001b[0m\u001b[0mtext_instance\u001b[0m\u001b[0;34m=\u001b[0m\u001b[0mX_train\u001b[0m\u001b[0;34m.\u001b[0m\u001b[0miloc\u001b[0m\u001b[0;34m[\u001b[0m\u001b[0midx\u001b[0m\u001b[0;34m]\u001b[0m\u001b[0;34m,\u001b[0m \u001b[0mclassifier_fn\u001b[0m\u001b[0;34m=\u001b[0m\u001b[0mapple_pipe\u001b[0m\u001b[0;34m.\u001b[0m\u001b[0mpredict_proba\u001b[0m\u001b[0;34m,\u001b[0m \u001b[0mnum_features\u001b[0m\u001b[0;34m=\u001b[0m\u001b[0;36m6\u001b[0m\u001b[0;34m)\u001b[0m\u001b[0;34m\u001b[0m\u001b[0;34m\u001b[0m\u001b[0m\n\u001b[1;32m      3\u001b[0m \u001b[0mprint\u001b[0m\u001b[0;34m(\u001b[0m\u001b[0;34m'Document id: %d'\u001b[0m \u001b[0;34m%\u001b[0m \u001b[0midx\u001b[0m\u001b[0;34m)\u001b[0m\u001b[0;34m\u001b[0m\u001b[0;34m\u001b[0m\u001b[0m\n\u001b[0;32m----> 4\u001b[0;31m \u001b[0mprint\u001b[0m\u001b[0;34m(\u001b[0m\u001b[0;34m'Probability(christian) ='\u001b[0m\u001b[0;34m,\u001b[0m \u001b[0mapple_pipe\u001b[0m\u001b[0;34m.\u001b[0m\u001b[0mpredict_proba\u001b[0m\u001b[0;34m(\u001b[0m\u001b[0;34m[\u001b[0m\u001b[0my_test\u001b[0m\u001b[0;34m[\u001b[0m\u001b[0midx\u001b[0m\u001b[0;34m]\u001b[0m\u001b[0;34m]\u001b[0m\u001b[0;34m)\u001b[0m\u001b[0;34m)\u001b[0m\u001b[0;34m\u001b[0m\u001b[0;34m\u001b[0m\u001b[0m\n\u001b[0m\u001b[1;32m      5\u001b[0m \u001b[0mprint\u001b[0m\u001b[0;34m(\u001b[0m\u001b[0;34m'True class: %s'\u001b[0m \u001b[0;34m%\u001b[0m \u001b[0mclass_names\u001b[0m\u001b[0;34m[\u001b[0m\u001b[0my_test\u001b[0m\u001b[0;34m.\u001b[0m\u001b[0miloc\u001b[0m\u001b[0;34m[\u001b[0m\u001b[0midx\u001b[0m\u001b[0;34m]\u001b[0m\u001b[0;34m]\u001b[0m\u001b[0;34m)\u001b[0m\u001b[0;34m\u001b[0m\u001b[0;34m\u001b[0m\u001b[0m\n",
            "\u001b[0;32m/usr/local/lib/python3.7/dist-packages/sklearn/utils/metaestimators.py\u001b[0m in \u001b[0;36m<lambda>\u001b[0;34m(*args, **kwargs)\u001b[0m\n\u001b[1;32m    114\u001b[0m \u001b[0;34m\u001b[0m\u001b[0m\n\u001b[1;32m    115\u001b[0m         \u001b[0;31m# lambda, but not partial, allows help() to work with update_wrapper\u001b[0m\u001b[0;34m\u001b[0m\u001b[0;34m\u001b[0m\u001b[0;34m\u001b[0m\u001b[0m\n\u001b[0;32m--> 116\u001b[0;31m         \u001b[0mout\u001b[0m \u001b[0;34m=\u001b[0m \u001b[0;32mlambda\u001b[0m \u001b[0;34m*\u001b[0m\u001b[0margs\u001b[0m\u001b[0;34m,\u001b[0m \u001b[0;34m**\u001b[0m\u001b[0mkwargs\u001b[0m\u001b[0;34m:\u001b[0m \u001b[0mself\u001b[0m\u001b[0;34m.\u001b[0m\u001b[0mfn\u001b[0m\u001b[0;34m(\u001b[0m\u001b[0mobj\u001b[0m\u001b[0;34m,\u001b[0m \u001b[0;34m*\u001b[0m\u001b[0margs\u001b[0m\u001b[0;34m,\u001b[0m \u001b[0;34m**\u001b[0m\u001b[0mkwargs\u001b[0m\u001b[0;34m)\u001b[0m\u001b[0;34m\u001b[0m\u001b[0;34m\u001b[0m\u001b[0m\n\u001b[0m\u001b[1;32m    117\u001b[0m         \u001b[0;31m# update the docstring of the returned function\u001b[0m\u001b[0;34m\u001b[0m\u001b[0;34m\u001b[0m\u001b[0;34m\u001b[0m\u001b[0m\n\u001b[1;32m    118\u001b[0m         \u001b[0mupdate_wrapper\u001b[0m\u001b[0;34m(\u001b[0m\u001b[0mout\u001b[0m\u001b[0;34m,\u001b[0m \u001b[0mself\u001b[0m\u001b[0;34m.\u001b[0m\u001b[0mfn\u001b[0m\u001b[0;34m)\u001b[0m\u001b[0;34m\u001b[0m\u001b[0;34m\u001b[0m\u001b[0m\n",
            "\u001b[0;32m/usr/local/lib/python3.7/dist-packages/sklearn/model_selection/_search.py\u001b[0m in \u001b[0;36mpredict_proba\u001b[0;34m(self, X)\u001b[0m\n\u001b[1;32m    492\u001b[0m         \"\"\"\n\u001b[1;32m    493\u001b[0m         \u001b[0mself\u001b[0m\u001b[0;34m.\u001b[0m\u001b[0m_check_is_fitted\u001b[0m\u001b[0;34m(\u001b[0m\u001b[0;34m'predict_proba'\u001b[0m\u001b[0;34m)\u001b[0m\u001b[0;34m\u001b[0m\u001b[0;34m\u001b[0m\u001b[0m\n\u001b[0;32m--> 494\u001b[0;31m         \u001b[0;32mreturn\u001b[0m \u001b[0mself\u001b[0m\u001b[0;34m.\u001b[0m\u001b[0mbest_estimator_\u001b[0m\u001b[0;34m.\u001b[0m\u001b[0mpredict_proba\u001b[0m\u001b[0;34m(\u001b[0m\u001b[0mX\u001b[0m\u001b[0;34m)\u001b[0m\u001b[0;34m\u001b[0m\u001b[0;34m\u001b[0m\u001b[0m\n\u001b[0m\u001b[1;32m    495\u001b[0m \u001b[0;34m\u001b[0m\u001b[0m\n\u001b[1;32m    496\u001b[0m     \u001b[0;34m@\u001b[0m\u001b[0mif_delegate_has_method\u001b[0m\u001b[0;34m(\u001b[0m\u001b[0mdelegate\u001b[0m\u001b[0;34m=\u001b[0m\u001b[0;34m(\u001b[0m\u001b[0;34m'best_estimator_'\u001b[0m\u001b[0;34m,\u001b[0m \u001b[0;34m'estimator'\u001b[0m\u001b[0;34m)\u001b[0m\u001b[0;34m)\u001b[0m\u001b[0;34m\u001b[0m\u001b[0;34m\u001b[0m\u001b[0m\n",
            "\u001b[0;32m/usr/local/lib/python3.7/dist-packages/sklearn/utils/metaestimators.py\u001b[0m in \u001b[0;36m<lambda>\u001b[0;34m(*args, **kwargs)\u001b[0m\n\u001b[1;32m    114\u001b[0m \u001b[0;34m\u001b[0m\u001b[0m\n\u001b[1;32m    115\u001b[0m         \u001b[0;31m# lambda, but not partial, allows help() to work with update_wrapper\u001b[0m\u001b[0;34m\u001b[0m\u001b[0;34m\u001b[0m\u001b[0;34m\u001b[0m\u001b[0m\n\u001b[0;32m--> 116\u001b[0;31m         \u001b[0mout\u001b[0m \u001b[0;34m=\u001b[0m \u001b[0;32mlambda\u001b[0m \u001b[0;34m*\u001b[0m\u001b[0margs\u001b[0m\u001b[0;34m,\u001b[0m \u001b[0;34m**\u001b[0m\u001b[0mkwargs\u001b[0m\u001b[0;34m:\u001b[0m \u001b[0mself\u001b[0m\u001b[0;34m.\u001b[0m\u001b[0mfn\u001b[0m\u001b[0;34m(\u001b[0m\u001b[0mobj\u001b[0m\u001b[0;34m,\u001b[0m \u001b[0;34m*\u001b[0m\u001b[0margs\u001b[0m\u001b[0;34m,\u001b[0m \u001b[0;34m**\u001b[0m\u001b[0mkwargs\u001b[0m\u001b[0;34m)\u001b[0m\u001b[0;34m\u001b[0m\u001b[0;34m\u001b[0m\u001b[0m\n\u001b[0m\u001b[1;32m    117\u001b[0m         \u001b[0;31m# update the docstring of the returned function\u001b[0m\u001b[0;34m\u001b[0m\u001b[0;34m\u001b[0m\u001b[0;34m\u001b[0m\u001b[0m\n\u001b[1;32m    118\u001b[0m         \u001b[0mupdate_wrapper\u001b[0m\u001b[0;34m(\u001b[0m\u001b[0mout\u001b[0m\u001b[0;34m,\u001b[0m \u001b[0mself\u001b[0m\u001b[0;34m.\u001b[0m\u001b[0mfn\u001b[0m\u001b[0;34m)\u001b[0m\u001b[0;34m\u001b[0m\u001b[0;34m\u001b[0m\u001b[0m\n",
            "\u001b[0;32m/usr/local/lib/python3.7/dist-packages/sklearn/pipeline.py\u001b[0m in \u001b[0;36mpredict_proba\u001b[0;34m(self, X)\u001b[0m\n\u001b[1;32m    469\u001b[0m         \u001b[0mXt\u001b[0m \u001b[0;34m=\u001b[0m \u001b[0mX\u001b[0m\u001b[0;34m\u001b[0m\u001b[0;34m\u001b[0m\u001b[0m\n\u001b[1;32m    470\u001b[0m         \u001b[0;32mfor\u001b[0m \u001b[0m_\u001b[0m\u001b[0;34m,\u001b[0m \u001b[0mname\u001b[0m\u001b[0;34m,\u001b[0m \u001b[0mtransform\u001b[0m \u001b[0;32min\u001b[0m \u001b[0mself\u001b[0m\u001b[0;34m.\u001b[0m\u001b[0m_iter\u001b[0m\u001b[0;34m(\u001b[0m\u001b[0mwith_final\u001b[0m\u001b[0;34m=\u001b[0m\u001b[0;32mFalse\u001b[0m\u001b[0;34m)\u001b[0m\u001b[0;34m:\u001b[0m\u001b[0;34m\u001b[0m\u001b[0;34m\u001b[0m\u001b[0m\n\u001b[0;32m--> 471\u001b[0;31m             \u001b[0mXt\u001b[0m \u001b[0;34m=\u001b[0m \u001b[0mtransform\u001b[0m\u001b[0;34m.\u001b[0m\u001b[0mtransform\u001b[0m\u001b[0;34m(\u001b[0m\u001b[0mXt\u001b[0m\u001b[0;34m)\u001b[0m\u001b[0;34m\u001b[0m\u001b[0;34m\u001b[0m\u001b[0m\n\u001b[0m\u001b[1;32m    472\u001b[0m         \u001b[0;32mreturn\u001b[0m \u001b[0mself\u001b[0m\u001b[0;34m.\u001b[0m\u001b[0msteps\u001b[0m\u001b[0;34m[\u001b[0m\u001b[0;34m-\u001b[0m\u001b[0;36m1\u001b[0m\u001b[0;34m]\u001b[0m\u001b[0;34m[\u001b[0m\u001b[0;34m-\u001b[0m\u001b[0;36m1\u001b[0m\u001b[0;34m]\u001b[0m\u001b[0;34m.\u001b[0m\u001b[0mpredict_proba\u001b[0m\u001b[0;34m(\u001b[0m\u001b[0mXt\u001b[0m\u001b[0;34m)\u001b[0m\u001b[0;34m\u001b[0m\u001b[0;34m\u001b[0m\u001b[0m\n\u001b[1;32m    473\u001b[0m \u001b[0;34m\u001b[0m\u001b[0m\n",
            "\u001b[0;32m/usr/local/lib/python3.7/dist-packages/sklearn/pipeline.py\u001b[0m in \u001b[0;36m_transform\u001b[0;34m(self, X)\u001b[0m\n\u001b[1;32m    555\u001b[0m         \u001b[0mXt\u001b[0m \u001b[0;34m=\u001b[0m \u001b[0mX\u001b[0m\u001b[0;34m\u001b[0m\u001b[0;34m\u001b[0m\u001b[0m\n\u001b[1;32m    556\u001b[0m         \u001b[0;32mfor\u001b[0m \u001b[0m_\u001b[0m\u001b[0;34m,\u001b[0m \u001b[0m_\u001b[0m\u001b[0;34m,\u001b[0m \u001b[0mtransform\u001b[0m \u001b[0;32min\u001b[0m \u001b[0mself\u001b[0m\u001b[0;34m.\u001b[0m\u001b[0m_iter\u001b[0m\u001b[0;34m(\u001b[0m\u001b[0;34m)\u001b[0m\u001b[0;34m:\u001b[0m\u001b[0;34m\u001b[0m\u001b[0;34m\u001b[0m\u001b[0m\n\u001b[0;32m--> 557\u001b[0;31m             \u001b[0mXt\u001b[0m \u001b[0;34m=\u001b[0m \u001b[0mtransform\u001b[0m\u001b[0;34m.\u001b[0m\u001b[0mtransform\u001b[0m\u001b[0;34m(\u001b[0m\u001b[0mXt\u001b[0m\u001b[0;34m)\u001b[0m\u001b[0;34m\u001b[0m\u001b[0;34m\u001b[0m\u001b[0m\n\u001b[0m\u001b[1;32m    558\u001b[0m         \u001b[0;32mreturn\u001b[0m \u001b[0mXt\u001b[0m\u001b[0;34m\u001b[0m\u001b[0;34m\u001b[0m\u001b[0m\n\u001b[1;32m    559\u001b[0m \u001b[0;34m\u001b[0m\u001b[0m\n",
            "\u001b[0;32m/usr/local/lib/python3.7/dist-packages/sklearn/feature_extraction/text.py\u001b[0m in \u001b[0;36mtransform\u001b[0;34m(self, raw_documents, copy)\u001b[0m\n\u001b[1;32m   1896\u001b[0m                    \"be removed in 0.24.\")\n\u001b[1;32m   1897\u001b[0m             \u001b[0mwarnings\u001b[0m\u001b[0;34m.\u001b[0m\u001b[0mwarn\u001b[0m\u001b[0;34m(\u001b[0m\u001b[0mmsg\u001b[0m\u001b[0;34m,\u001b[0m \u001b[0mFutureWarning\u001b[0m\u001b[0;34m)\u001b[0m\u001b[0;34m\u001b[0m\u001b[0;34m\u001b[0m\u001b[0m\n\u001b[0;32m-> 1898\u001b[0;31m         \u001b[0mX\u001b[0m \u001b[0;34m=\u001b[0m \u001b[0msuper\u001b[0m\u001b[0;34m(\u001b[0m\u001b[0;34m)\u001b[0m\u001b[0;34m.\u001b[0m\u001b[0mtransform\u001b[0m\u001b[0;34m(\u001b[0m\u001b[0mraw_documents\u001b[0m\u001b[0;34m)\u001b[0m\u001b[0;34m\u001b[0m\u001b[0;34m\u001b[0m\u001b[0m\n\u001b[0m\u001b[1;32m   1899\u001b[0m         \u001b[0;32mreturn\u001b[0m \u001b[0mself\u001b[0m\u001b[0;34m.\u001b[0m\u001b[0m_tfidf\u001b[0m\u001b[0;34m.\u001b[0m\u001b[0mtransform\u001b[0m\u001b[0;34m(\u001b[0m\u001b[0mX\u001b[0m\u001b[0;34m,\u001b[0m \u001b[0mcopy\u001b[0m\u001b[0;34m=\u001b[0m\u001b[0;32mFalse\u001b[0m\u001b[0;34m)\u001b[0m\u001b[0;34m\u001b[0m\u001b[0;34m\u001b[0m\u001b[0m\n\u001b[1;32m   1900\u001b[0m \u001b[0;34m\u001b[0m\u001b[0m\n",
            "\u001b[0;32m/usr/local/lib/python3.7/dist-packages/sklearn/feature_extraction/text.py\u001b[0m in \u001b[0;36mtransform\u001b[0;34m(self, raw_documents)\u001b[0m\n\u001b[1;32m   1268\u001b[0m \u001b[0;34m\u001b[0m\u001b[0m\n\u001b[1;32m   1269\u001b[0m         \u001b[0;31m# use the same matrix-building strategy as fit_transform\u001b[0m\u001b[0;34m\u001b[0m\u001b[0;34m\u001b[0m\u001b[0;34m\u001b[0m\u001b[0m\n\u001b[0;32m-> 1270\u001b[0;31m         \u001b[0m_\u001b[0m\u001b[0;34m,\u001b[0m \u001b[0mX\u001b[0m \u001b[0;34m=\u001b[0m \u001b[0mself\u001b[0m\u001b[0;34m.\u001b[0m\u001b[0m_count_vocab\u001b[0m\u001b[0;34m(\u001b[0m\u001b[0mraw_documents\u001b[0m\u001b[0;34m,\u001b[0m \u001b[0mfixed_vocab\u001b[0m\u001b[0;34m=\u001b[0m\u001b[0;32mTrue\u001b[0m\u001b[0;34m)\u001b[0m\u001b[0;34m\u001b[0m\u001b[0;34m\u001b[0m\u001b[0m\n\u001b[0m\u001b[1;32m   1271\u001b[0m         \u001b[0;32mif\u001b[0m \u001b[0mself\u001b[0m\u001b[0;34m.\u001b[0m\u001b[0mbinary\u001b[0m\u001b[0;34m:\u001b[0m\u001b[0;34m\u001b[0m\u001b[0;34m\u001b[0m\u001b[0m\n\u001b[1;32m   1272\u001b[0m             \u001b[0mX\u001b[0m\u001b[0;34m.\u001b[0m\u001b[0mdata\u001b[0m\u001b[0;34m.\u001b[0m\u001b[0mfill\u001b[0m\u001b[0;34m(\u001b[0m\u001b[0;36m1\u001b[0m\u001b[0;34m)\u001b[0m\u001b[0;34m\u001b[0m\u001b[0;34m\u001b[0m\u001b[0m\n",
            "\u001b[0;32m/usr/local/lib/python3.7/dist-packages/sklearn/feature_extraction/text.py\u001b[0m in \u001b[0;36m_count_vocab\u001b[0;34m(self, raw_documents, fixed_vocab)\u001b[0m\n\u001b[1;32m   1129\u001b[0m         \u001b[0;32mfor\u001b[0m \u001b[0mdoc\u001b[0m \u001b[0;32min\u001b[0m \u001b[0mraw_documents\u001b[0m\u001b[0;34m:\u001b[0m\u001b[0;34m\u001b[0m\u001b[0;34m\u001b[0m\u001b[0m\n\u001b[1;32m   1130\u001b[0m             \u001b[0mfeature_counter\u001b[0m \u001b[0;34m=\u001b[0m \u001b[0;34m{\u001b[0m\u001b[0;34m}\u001b[0m\u001b[0;34m\u001b[0m\u001b[0;34m\u001b[0m\u001b[0m\n\u001b[0;32m-> 1131\u001b[0;31m             \u001b[0;32mfor\u001b[0m \u001b[0mfeature\u001b[0m \u001b[0;32min\u001b[0m \u001b[0manalyze\u001b[0m\u001b[0;34m(\u001b[0m\u001b[0mdoc\u001b[0m\u001b[0;34m)\u001b[0m\u001b[0;34m:\u001b[0m\u001b[0;34m\u001b[0m\u001b[0;34m\u001b[0m\u001b[0m\n\u001b[0m\u001b[1;32m   1132\u001b[0m                 \u001b[0;32mtry\u001b[0m\u001b[0;34m:\u001b[0m\u001b[0;34m\u001b[0m\u001b[0;34m\u001b[0m\u001b[0m\n\u001b[1;32m   1133\u001b[0m                     \u001b[0mfeature_idx\u001b[0m \u001b[0;34m=\u001b[0m \u001b[0mvocabulary\u001b[0m\u001b[0;34m[\u001b[0m\u001b[0mfeature\u001b[0m\u001b[0;34m]\u001b[0m\u001b[0;34m\u001b[0m\u001b[0;34m\u001b[0m\u001b[0m\n",
            "\u001b[0;32m/usr/local/lib/python3.7/dist-packages/sklearn/feature_extraction/text.py\u001b[0m in \u001b[0;36m_analyze\u001b[0;34m(doc, analyzer, tokenizer, ngrams, preprocessor, decoder, stop_words)\u001b[0m\n\u001b[1;32m    101\u001b[0m     \u001b[0;32melse\u001b[0m\u001b[0;34m:\u001b[0m\u001b[0;34m\u001b[0m\u001b[0;34m\u001b[0m\u001b[0m\n\u001b[1;32m    102\u001b[0m         \u001b[0;32mif\u001b[0m \u001b[0mpreprocessor\u001b[0m \u001b[0;32mis\u001b[0m \u001b[0;32mnot\u001b[0m \u001b[0;32mNone\u001b[0m\u001b[0;34m:\u001b[0m\u001b[0;34m\u001b[0m\u001b[0;34m\u001b[0m\u001b[0m\n\u001b[0;32m--> 103\u001b[0;31m             \u001b[0mdoc\u001b[0m \u001b[0;34m=\u001b[0m \u001b[0mpreprocessor\u001b[0m\u001b[0;34m(\u001b[0m\u001b[0mdoc\u001b[0m\u001b[0;34m)\u001b[0m\u001b[0;34m\u001b[0m\u001b[0;34m\u001b[0m\u001b[0m\n\u001b[0m\u001b[1;32m    104\u001b[0m         \u001b[0;32mif\u001b[0m \u001b[0mtokenizer\u001b[0m \u001b[0;32mis\u001b[0m \u001b[0;32mnot\u001b[0m \u001b[0;32mNone\u001b[0m\u001b[0;34m:\u001b[0m\u001b[0;34m\u001b[0m\u001b[0;34m\u001b[0m\u001b[0m\n\u001b[1;32m    105\u001b[0m             \u001b[0mdoc\u001b[0m \u001b[0;34m=\u001b[0m \u001b[0mtokenizer\u001b[0m\u001b[0;34m(\u001b[0m\u001b[0mdoc\u001b[0m\u001b[0;34m)\u001b[0m\u001b[0;34m\u001b[0m\u001b[0;34m\u001b[0m\u001b[0m\n",
            "\u001b[0;32m/usr/local/lib/python3.7/dist-packages/sklearn/feature_extraction/text.py\u001b[0m in \u001b[0;36m_preprocess\u001b[0;34m(doc, accent_function, lower)\u001b[0m\n\u001b[1;32m     66\u001b[0m     \"\"\"\n\u001b[1;32m     67\u001b[0m     \u001b[0;32mif\u001b[0m \u001b[0mlower\u001b[0m\u001b[0;34m:\u001b[0m\u001b[0;34m\u001b[0m\u001b[0;34m\u001b[0m\u001b[0m\n\u001b[0;32m---> 68\u001b[0;31m         \u001b[0mdoc\u001b[0m \u001b[0;34m=\u001b[0m \u001b[0mdoc\u001b[0m\u001b[0;34m.\u001b[0m\u001b[0mlower\u001b[0m\u001b[0;34m(\u001b[0m\u001b[0;34m)\u001b[0m\u001b[0;34m\u001b[0m\u001b[0;34m\u001b[0m\u001b[0m\n\u001b[0m\u001b[1;32m     69\u001b[0m     \u001b[0;32mif\u001b[0m \u001b[0maccent_function\u001b[0m \u001b[0;32mis\u001b[0m \u001b[0;32mnot\u001b[0m \u001b[0;32mNone\u001b[0m\u001b[0;34m:\u001b[0m\u001b[0;34m\u001b[0m\u001b[0;34m\u001b[0m\u001b[0m\n\u001b[1;32m     70\u001b[0m         \u001b[0mdoc\u001b[0m \u001b[0;34m=\u001b[0m \u001b[0maccent_function\u001b[0m\u001b[0;34m(\u001b[0m\u001b[0mdoc\u001b[0m\u001b[0;34m)\u001b[0m\u001b[0;34m\u001b[0m\u001b[0;34m\u001b[0m\u001b[0m\n",
            "\u001b[0;31mAttributeError\u001b[0m: 'numpy.int64' object has no attribute 'lower'"
          ]
        }
      ]
    },
    {
      "cell_type": "code",
      "metadata": {
        "colab": {
          "base_uri": "https://localhost:8080/",
          "height": 307
        },
        "id": "WoJrG-dWKKWe",
        "outputId": "87ebe972-f64c-47df-805f-065ca5457bd7"
      },
      "source": [
        "apple_pipe.predict_proba([y_test[idx]])"
      ],
      "execution_count": null,
      "outputs": [
        {
          "output_type": "error",
          "ename": "AttributeError",
          "evalue": "ignored",
          "traceback": [
            "\u001b[0;31m---------------------------------------------------------------------------\u001b[0m",
            "\u001b[0;31mAttributeError\u001b[0m                            Traceback (most recent call last)",
            "\u001b[0;32m<ipython-input-213-dbb0e6bb4983>\u001b[0m in \u001b[0;36m<module>\u001b[0;34m()\u001b[0m\n\u001b[0;32m----> 1\u001b[0;31m \u001b[0mapple_pipe\u001b[0m\u001b[0;34m.\u001b[0m\u001b[0mpredict_proba\u001b[0m\u001b[0;34m(\u001b[0m\u001b[0;34m[\u001b[0m\u001b[0my_test\u001b[0m\u001b[0;34m[\u001b[0m\u001b[0midx\u001b[0m\u001b[0;34m]\u001b[0m\u001b[0;34m]\u001b[0m\u001b[0;34m)\u001b[0m\u001b[0;34m\u001b[0m\u001b[0;34m\u001b[0m\u001b[0m\n\u001b[0m",
            "\u001b[0;32m/usr/local/lib/python3.7/dist-packages/sklearn/utils/metaestimators.py\u001b[0m in \u001b[0;36m<lambda>\u001b[0;34m(*args, **kwargs)\u001b[0m\n\u001b[1;32m    114\u001b[0m \u001b[0;34m\u001b[0m\u001b[0m\n\u001b[1;32m    115\u001b[0m         \u001b[0;31m# lambda, but not partial, allows help() to work with update_wrapper\u001b[0m\u001b[0;34m\u001b[0m\u001b[0;34m\u001b[0m\u001b[0;34m\u001b[0m\u001b[0m\n\u001b[0;32m--> 116\u001b[0;31m         \u001b[0mout\u001b[0m \u001b[0;34m=\u001b[0m \u001b[0;32mlambda\u001b[0m \u001b[0;34m*\u001b[0m\u001b[0margs\u001b[0m\u001b[0;34m,\u001b[0m \u001b[0;34m**\u001b[0m\u001b[0mkwargs\u001b[0m\u001b[0;34m:\u001b[0m \u001b[0mself\u001b[0m\u001b[0;34m.\u001b[0m\u001b[0mfn\u001b[0m\u001b[0;34m(\u001b[0m\u001b[0mobj\u001b[0m\u001b[0;34m,\u001b[0m \u001b[0;34m*\u001b[0m\u001b[0margs\u001b[0m\u001b[0;34m,\u001b[0m \u001b[0;34m**\u001b[0m\u001b[0mkwargs\u001b[0m\u001b[0;34m)\u001b[0m\u001b[0;34m\u001b[0m\u001b[0;34m\u001b[0m\u001b[0m\n\u001b[0m\u001b[1;32m    117\u001b[0m         \u001b[0;31m# update the docstring of the returned function\u001b[0m\u001b[0;34m\u001b[0m\u001b[0;34m\u001b[0m\u001b[0;34m\u001b[0m\u001b[0m\n\u001b[1;32m    118\u001b[0m         \u001b[0mupdate_wrapper\u001b[0m\u001b[0;34m(\u001b[0m\u001b[0mout\u001b[0m\u001b[0;34m,\u001b[0m \u001b[0mself\u001b[0m\u001b[0;34m.\u001b[0m\u001b[0mfn\u001b[0m\u001b[0;34m)\u001b[0m\u001b[0;34m\u001b[0m\u001b[0;34m\u001b[0m\u001b[0m\n",
            "\u001b[0;32m/usr/local/lib/python3.7/dist-packages/sklearn/model_selection/_search.py\u001b[0m in \u001b[0;36mpredict_proba\u001b[0;34m(self, X)\u001b[0m\n\u001b[1;32m    492\u001b[0m         \"\"\"\n\u001b[1;32m    493\u001b[0m         \u001b[0mself\u001b[0m\u001b[0;34m.\u001b[0m\u001b[0m_check_is_fitted\u001b[0m\u001b[0;34m(\u001b[0m\u001b[0;34m'predict_proba'\u001b[0m\u001b[0;34m)\u001b[0m\u001b[0;34m\u001b[0m\u001b[0;34m\u001b[0m\u001b[0m\n\u001b[0;32m--> 494\u001b[0;31m         \u001b[0;32mreturn\u001b[0m \u001b[0mself\u001b[0m\u001b[0;34m.\u001b[0m\u001b[0mbest_estimator_\u001b[0m\u001b[0;34m.\u001b[0m\u001b[0mpredict_proba\u001b[0m\u001b[0;34m(\u001b[0m\u001b[0mX\u001b[0m\u001b[0;34m)\u001b[0m\u001b[0;34m\u001b[0m\u001b[0;34m\u001b[0m\u001b[0m\n\u001b[0m\u001b[1;32m    495\u001b[0m \u001b[0;34m\u001b[0m\u001b[0m\n\u001b[1;32m    496\u001b[0m     \u001b[0;34m@\u001b[0m\u001b[0mif_delegate_has_method\u001b[0m\u001b[0;34m(\u001b[0m\u001b[0mdelegate\u001b[0m\u001b[0;34m=\u001b[0m\u001b[0;34m(\u001b[0m\u001b[0;34m'best_estimator_'\u001b[0m\u001b[0;34m,\u001b[0m \u001b[0;34m'estimator'\u001b[0m\u001b[0;34m)\u001b[0m\u001b[0;34m)\u001b[0m\u001b[0;34m\u001b[0m\u001b[0;34m\u001b[0m\u001b[0m\n",
            "\u001b[0;32m/usr/local/lib/python3.7/dist-packages/sklearn/utils/metaestimators.py\u001b[0m in \u001b[0;36m<lambda>\u001b[0;34m(*args, **kwargs)\u001b[0m\n\u001b[1;32m    114\u001b[0m \u001b[0;34m\u001b[0m\u001b[0m\n\u001b[1;32m    115\u001b[0m         \u001b[0;31m# lambda, but not partial, allows help() to work with update_wrapper\u001b[0m\u001b[0;34m\u001b[0m\u001b[0;34m\u001b[0m\u001b[0;34m\u001b[0m\u001b[0m\n\u001b[0;32m--> 116\u001b[0;31m         \u001b[0mout\u001b[0m \u001b[0;34m=\u001b[0m \u001b[0;32mlambda\u001b[0m \u001b[0;34m*\u001b[0m\u001b[0margs\u001b[0m\u001b[0;34m,\u001b[0m \u001b[0;34m**\u001b[0m\u001b[0mkwargs\u001b[0m\u001b[0;34m:\u001b[0m \u001b[0mself\u001b[0m\u001b[0;34m.\u001b[0m\u001b[0mfn\u001b[0m\u001b[0;34m(\u001b[0m\u001b[0mobj\u001b[0m\u001b[0;34m,\u001b[0m \u001b[0;34m*\u001b[0m\u001b[0margs\u001b[0m\u001b[0;34m,\u001b[0m \u001b[0;34m**\u001b[0m\u001b[0mkwargs\u001b[0m\u001b[0;34m)\u001b[0m\u001b[0;34m\u001b[0m\u001b[0;34m\u001b[0m\u001b[0m\n\u001b[0m\u001b[1;32m    117\u001b[0m         \u001b[0;31m# update the docstring of the returned function\u001b[0m\u001b[0;34m\u001b[0m\u001b[0;34m\u001b[0m\u001b[0;34m\u001b[0m\u001b[0m\n\u001b[1;32m    118\u001b[0m         \u001b[0mupdate_wrapper\u001b[0m\u001b[0;34m(\u001b[0m\u001b[0mout\u001b[0m\u001b[0;34m,\u001b[0m \u001b[0mself\u001b[0m\u001b[0;34m.\u001b[0m\u001b[0mfn\u001b[0m\u001b[0;34m)\u001b[0m\u001b[0;34m\u001b[0m\u001b[0;34m\u001b[0m\u001b[0m\n",
            "\u001b[0;32m/usr/local/lib/python3.7/dist-packages/sklearn/pipeline.py\u001b[0m in \u001b[0;36mpredict_proba\u001b[0;34m(self, X)\u001b[0m\n\u001b[1;32m    469\u001b[0m         \u001b[0mXt\u001b[0m \u001b[0;34m=\u001b[0m \u001b[0mX\u001b[0m\u001b[0;34m\u001b[0m\u001b[0;34m\u001b[0m\u001b[0m\n\u001b[1;32m    470\u001b[0m         \u001b[0;32mfor\u001b[0m \u001b[0m_\u001b[0m\u001b[0;34m,\u001b[0m \u001b[0mname\u001b[0m\u001b[0;34m,\u001b[0m \u001b[0mtransform\u001b[0m \u001b[0;32min\u001b[0m \u001b[0mself\u001b[0m\u001b[0;34m.\u001b[0m\u001b[0m_iter\u001b[0m\u001b[0;34m(\u001b[0m\u001b[0mwith_final\u001b[0m\u001b[0;34m=\u001b[0m\u001b[0;32mFalse\u001b[0m\u001b[0;34m)\u001b[0m\u001b[0;34m:\u001b[0m\u001b[0;34m\u001b[0m\u001b[0;34m\u001b[0m\u001b[0m\n\u001b[0;32m--> 471\u001b[0;31m             \u001b[0mXt\u001b[0m \u001b[0;34m=\u001b[0m \u001b[0mtransform\u001b[0m\u001b[0;34m.\u001b[0m\u001b[0mtransform\u001b[0m\u001b[0;34m(\u001b[0m\u001b[0mXt\u001b[0m\u001b[0;34m)\u001b[0m\u001b[0;34m\u001b[0m\u001b[0;34m\u001b[0m\u001b[0m\n\u001b[0m\u001b[1;32m    472\u001b[0m         \u001b[0;32mreturn\u001b[0m \u001b[0mself\u001b[0m\u001b[0;34m.\u001b[0m\u001b[0msteps\u001b[0m\u001b[0;34m[\u001b[0m\u001b[0;34m-\u001b[0m\u001b[0;36m1\u001b[0m\u001b[0;34m]\u001b[0m\u001b[0;34m[\u001b[0m\u001b[0;34m-\u001b[0m\u001b[0;36m1\u001b[0m\u001b[0;34m]\u001b[0m\u001b[0;34m.\u001b[0m\u001b[0mpredict_proba\u001b[0m\u001b[0;34m(\u001b[0m\u001b[0mXt\u001b[0m\u001b[0;34m)\u001b[0m\u001b[0;34m\u001b[0m\u001b[0;34m\u001b[0m\u001b[0m\n\u001b[1;32m    473\u001b[0m \u001b[0;34m\u001b[0m\u001b[0m\n",
            "\u001b[0;32m/usr/local/lib/python3.7/dist-packages/sklearn/pipeline.py\u001b[0m in \u001b[0;36m_transform\u001b[0;34m(self, X)\u001b[0m\n\u001b[1;32m    555\u001b[0m         \u001b[0mXt\u001b[0m \u001b[0;34m=\u001b[0m \u001b[0mX\u001b[0m\u001b[0;34m\u001b[0m\u001b[0;34m\u001b[0m\u001b[0m\n\u001b[1;32m    556\u001b[0m         \u001b[0;32mfor\u001b[0m \u001b[0m_\u001b[0m\u001b[0;34m,\u001b[0m \u001b[0m_\u001b[0m\u001b[0;34m,\u001b[0m \u001b[0mtransform\u001b[0m \u001b[0;32min\u001b[0m \u001b[0mself\u001b[0m\u001b[0;34m.\u001b[0m\u001b[0m_iter\u001b[0m\u001b[0;34m(\u001b[0m\u001b[0;34m)\u001b[0m\u001b[0;34m:\u001b[0m\u001b[0;34m\u001b[0m\u001b[0;34m\u001b[0m\u001b[0m\n\u001b[0;32m--> 557\u001b[0;31m             \u001b[0mXt\u001b[0m \u001b[0;34m=\u001b[0m \u001b[0mtransform\u001b[0m\u001b[0;34m.\u001b[0m\u001b[0mtransform\u001b[0m\u001b[0;34m(\u001b[0m\u001b[0mXt\u001b[0m\u001b[0;34m)\u001b[0m\u001b[0;34m\u001b[0m\u001b[0;34m\u001b[0m\u001b[0m\n\u001b[0m\u001b[1;32m    558\u001b[0m         \u001b[0;32mreturn\u001b[0m \u001b[0mXt\u001b[0m\u001b[0;34m\u001b[0m\u001b[0;34m\u001b[0m\u001b[0m\n\u001b[1;32m    559\u001b[0m \u001b[0;34m\u001b[0m\u001b[0m\n",
            "\u001b[0;32m/usr/local/lib/python3.7/dist-packages/sklearn/feature_extraction/text.py\u001b[0m in \u001b[0;36mtransform\u001b[0;34m(self, raw_documents, copy)\u001b[0m\n\u001b[1;32m   1896\u001b[0m                    \"be removed in 0.24.\")\n\u001b[1;32m   1897\u001b[0m             \u001b[0mwarnings\u001b[0m\u001b[0;34m.\u001b[0m\u001b[0mwarn\u001b[0m\u001b[0;34m(\u001b[0m\u001b[0mmsg\u001b[0m\u001b[0;34m,\u001b[0m \u001b[0mFutureWarning\u001b[0m\u001b[0;34m)\u001b[0m\u001b[0;34m\u001b[0m\u001b[0;34m\u001b[0m\u001b[0m\n\u001b[0;32m-> 1898\u001b[0;31m         \u001b[0mX\u001b[0m \u001b[0;34m=\u001b[0m \u001b[0msuper\u001b[0m\u001b[0;34m(\u001b[0m\u001b[0;34m)\u001b[0m\u001b[0;34m.\u001b[0m\u001b[0mtransform\u001b[0m\u001b[0;34m(\u001b[0m\u001b[0mraw_documents\u001b[0m\u001b[0;34m)\u001b[0m\u001b[0;34m\u001b[0m\u001b[0;34m\u001b[0m\u001b[0m\n\u001b[0m\u001b[1;32m   1899\u001b[0m         \u001b[0;32mreturn\u001b[0m \u001b[0mself\u001b[0m\u001b[0;34m.\u001b[0m\u001b[0m_tfidf\u001b[0m\u001b[0;34m.\u001b[0m\u001b[0mtransform\u001b[0m\u001b[0;34m(\u001b[0m\u001b[0mX\u001b[0m\u001b[0;34m,\u001b[0m \u001b[0mcopy\u001b[0m\u001b[0;34m=\u001b[0m\u001b[0;32mFalse\u001b[0m\u001b[0;34m)\u001b[0m\u001b[0;34m\u001b[0m\u001b[0;34m\u001b[0m\u001b[0m\n\u001b[1;32m   1900\u001b[0m \u001b[0;34m\u001b[0m\u001b[0m\n",
            "\u001b[0;32m/usr/local/lib/python3.7/dist-packages/sklearn/feature_extraction/text.py\u001b[0m in \u001b[0;36mtransform\u001b[0;34m(self, raw_documents)\u001b[0m\n\u001b[1;32m   1268\u001b[0m \u001b[0;34m\u001b[0m\u001b[0m\n\u001b[1;32m   1269\u001b[0m         \u001b[0;31m# use the same matrix-building strategy as fit_transform\u001b[0m\u001b[0;34m\u001b[0m\u001b[0;34m\u001b[0m\u001b[0;34m\u001b[0m\u001b[0m\n\u001b[0;32m-> 1270\u001b[0;31m         \u001b[0m_\u001b[0m\u001b[0;34m,\u001b[0m \u001b[0mX\u001b[0m \u001b[0;34m=\u001b[0m \u001b[0mself\u001b[0m\u001b[0;34m.\u001b[0m\u001b[0m_count_vocab\u001b[0m\u001b[0;34m(\u001b[0m\u001b[0mraw_documents\u001b[0m\u001b[0;34m,\u001b[0m \u001b[0mfixed_vocab\u001b[0m\u001b[0;34m=\u001b[0m\u001b[0;32mTrue\u001b[0m\u001b[0;34m)\u001b[0m\u001b[0;34m\u001b[0m\u001b[0;34m\u001b[0m\u001b[0m\n\u001b[0m\u001b[1;32m   1271\u001b[0m         \u001b[0;32mif\u001b[0m \u001b[0mself\u001b[0m\u001b[0;34m.\u001b[0m\u001b[0mbinary\u001b[0m\u001b[0;34m:\u001b[0m\u001b[0;34m\u001b[0m\u001b[0;34m\u001b[0m\u001b[0m\n\u001b[1;32m   1272\u001b[0m             \u001b[0mX\u001b[0m\u001b[0;34m.\u001b[0m\u001b[0mdata\u001b[0m\u001b[0;34m.\u001b[0m\u001b[0mfill\u001b[0m\u001b[0;34m(\u001b[0m\u001b[0;36m1\u001b[0m\u001b[0;34m)\u001b[0m\u001b[0;34m\u001b[0m\u001b[0;34m\u001b[0m\u001b[0m\n",
            "\u001b[0;32m/usr/local/lib/python3.7/dist-packages/sklearn/feature_extraction/text.py\u001b[0m in \u001b[0;36m_count_vocab\u001b[0;34m(self, raw_documents, fixed_vocab)\u001b[0m\n\u001b[1;32m   1129\u001b[0m         \u001b[0;32mfor\u001b[0m \u001b[0mdoc\u001b[0m \u001b[0;32min\u001b[0m \u001b[0mraw_documents\u001b[0m\u001b[0;34m:\u001b[0m\u001b[0;34m\u001b[0m\u001b[0;34m\u001b[0m\u001b[0m\n\u001b[1;32m   1130\u001b[0m             \u001b[0mfeature_counter\u001b[0m \u001b[0;34m=\u001b[0m \u001b[0;34m{\u001b[0m\u001b[0;34m}\u001b[0m\u001b[0;34m\u001b[0m\u001b[0;34m\u001b[0m\u001b[0m\n\u001b[0;32m-> 1131\u001b[0;31m             \u001b[0;32mfor\u001b[0m \u001b[0mfeature\u001b[0m \u001b[0;32min\u001b[0m \u001b[0manalyze\u001b[0m\u001b[0;34m(\u001b[0m\u001b[0mdoc\u001b[0m\u001b[0;34m)\u001b[0m\u001b[0;34m:\u001b[0m\u001b[0;34m\u001b[0m\u001b[0;34m\u001b[0m\u001b[0m\n\u001b[0m\u001b[1;32m   1132\u001b[0m                 \u001b[0;32mtry\u001b[0m\u001b[0;34m:\u001b[0m\u001b[0;34m\u001b[0m\u001b[0;34m\u001b[0m\u001b[0m\n\u001b[1;32m   1133\u001b[0m                     \u001b[0mfeature_idx\u001b[0m \u001b[0;34m=\u001b[0m \u001b[0mvocabulary\u001b[0m\u001b[0;34m[\u001b[0m\u001b[0mfeature\u001b[0m\u001b[0;34m]\u001b[0m\u001b[0;34m\u001b[0m\u001b[0;34m\u001b[0m\u001b[0m\n",
            "\u001b[0;32m/usr/local/lib/python3.7/dist-packages/sklearn/feature_extraction/text.py\u001b[0m in \u001b[0;36m_analyze\u001b[0;34m(doc, analyzer, tokenizer, ngrams, preprocessor, decoder, stop_words)\u001b[0m\n\u001b[1;32m    101\u001b[0m     \u001b[0;32melse\u001b[0m\u001b[0;34m:\u001b[0m\u001b[0;34m\u001b[0m\u001b[0;34m\u001b[0m\u001b[0m\n\u001b[1;32m    102\u001b[0m         \u001b[0;32mif\u001b[0m \u001b[0mpreprocessor\u001b[0m \u001b[0;32mis\u001b[0m \u001b[0;32mnot\u001b[0m \u001b[0;32mNone\u001b[0m\u001b[0;34m:\u001b[0m\u001b[0;34m\u001b[0m\u001b[0;34m\u001b[0m\u001b[0m\n\u001b[0;32m--> 103\u001b[0;31m             \u001b[0mdoc\u001b[0m \u001b[0;34m=\u001b[0m \u001b[0mpreprocessor\u001b[0m\u001b[0;34m(\u001b[0m\u001b[0mdoc\u001b[0m\u001b[0;34m)\u001b[0m\u001b[0;34m\u001b[0m\u001b[0;34m\u001b[0m\u001b[0m\n\u001b[0m\u001b[1;32m    104\u001b[0m         \u001b[0;32mif\u001b[0m \u001b[0mtokenizer\u001b[0m \u001b[0;32mis\u001b[0m \u001b[0;32mnot\u001b[0m \u001b[0;32mNone\u001b[0m\u001b[0;34m:\u001b[0m\u001b[0;34m\u001b[0m\u001b[0;34m\u001b[0m\u001b[0m\n\u001b[1;32m    105\u001b[0m             \u001b[0mdoc\u001b[0m \u001b[0;34m=\u001b[0m \u001b[0mtokenizer\u001b[0m\u001b[0;34m(\u001b[0m\u001b[0mdoc\u001b[0m\u001b[0;34m)\u001b[0m\u001b[0;34m\u001b[0m\u001b[0;34m\u001b[0m\u001b[0m\n",
            "\u001b[0;32m/usr/local/lib/python3.7/dist-packages/sklearn/feature_extraction/text.py\u001b[0m in \u001b[0;36m_preprocess\u001b[0;34m(doc, accent_function, lower)\u001b[0m\n\u001b[1;32m     66\u001b[0m     \"\"\"\n\u001b[1;32m     67\u001b[0m     \u001b[0;32mif\u001b[0m \u001b[0mlower\u001b[0m\u001b[0;34m:\u001b[0m\u001b[0;34m\u001b[0m\u001b[0;34m\u001b[0m\u001b[0m\n\u001b[0;32m---> 68\u001b[0;31m         \u001b[0mdoc\u001b[0m \u001b[0;34m=\u001b[0m \u001b[0mdoc\u001b[0m\u001b[0;34m.\u001b[0m\u001b[0mlower\u001b[0m\u001b[0;34m(\u001b[0m\u001b[0;34m)\u001b[0m\u001b[0;34m\u001b[0m\u001b[0;34m\u001b[0m\u001b[0m\n\u001b[0m\u001b[1;32m     69\u001b[0m     \u001b[0;32mif\u001b[0m \u001b[0maccent_function\u001b[0m \u001b[0;32mis\u001b[0m \u001b[0;32mnot\u001b[0m \u001b[0;32mNone\u001b[0m\u001b[0;34m:\u001b[0m\u001b[0;34m\u001b[0m\u001b[0;34m\u001b[0m\u001b[0m\n\u001b[1;32m     70\u001b[0m         \u001b[0mdoc\u001b[0m \u001b[0;34m=\u001b[0m \u001b[0maccent_function\u001b[0m\u001b[0;34m(\u001b[0m\u001b[0mdoc\u001b[0m\u001b[0;34m)\u001b[0m\u001b[0;34m\u001b[0m\u001b[0;34m\u001b[0m\u001b[0m\n",
            "\u001b[0;31mAttributeError\u001b[0m: 'numpy.int64' object has no attribute 'lower'"
          ]
        }
      ]
    },
    {
      "cell_type": "code",
      "metadata": {
        "colab": {
          "base_uri": "https://localhost:8080/"
        },
        "id": "YxhetKk8KYnF",
        "outputId": "22eae78b-43a4-4738-933d-9105454b481d"
      },
      "source": [
        "print(type(y_test.ravel()[idx]))\n",
        "print(type(y_test[idx]))"
      ],
      "execution_count": null,
      "outputs": [
        {
          "output_type": "stream",
          "text": [
            "<class 'numpy.int64'>\n",
            "<class 'numpy.int64'>\n"
          ],
          "name": "stdout"
        }
      ]
    },
    {
      "cell_type": "code",
      "metadata": {
        "id": "S7UjoBFEKafE"
      },
      "source": [
        "exp = explainer.explain_instance(text_instance=X_train.iloc[idx], classifier_fn=apple_pipe.predict_proba, num_features=6)"
      ],
      "execution_count": null,
      "outputs": []
    },
    {
      "cell_type": "code",
      "metadata": {
        "colab": {
          "base_uri": "https://localhost:8080/",
          "height": 69
        },
        "id": "KakIyB4cLX0D",
        "outputId": "84039092-713f-49f5-813f-626211d873bb"
      },
      "source": [
        "X_train.iloc[idx]"
      ],
      "execution_count": null,
      "outputs": [
        {
          "output_type": "execute_result",
          "data": {
            "application/vnd.google.colaboratory.intrinsic+json": {
              "type": "string"
            },
            "text/plain": [
              "'Apple’s new MusicKit API lets developers offer Apple Music trials, and rewards them with a payout; With a new MusicKit API, developers will be able to offer Apple Music trials and receive rewards for new subscribers through a referral program starting with iOS 15. This news was highlighted by deve'"
            ]
          },
          "metadata": {
            "tags": []
          },
          "execution_count": 135
        }
      ]
    },
    {
      "cell_type": "code",
      "metadata": {
        "colab": {
          "base_uri": "https://localhost:8080/"
        },
        "id": "Xwncu1XqLctJ",
        "outputId": "ed6ec641-a61b-47b5-c23c-8004a64ded75"
      },
      "source": [
        "pipe_rf2.predict_proba"
      ],
      "execution_count": null,
      "outputs": [
        {
          "output_type": "execute_result",
          "data": {
            "text/plain": [
              "<bound method ForestClassifier.predict_proba of RandomForestClassifier(bootstrap=True, ccp_alpha=0.0, class_weight='balanced',\n",
              "                       criterion='gini', max_depth=None, max_features='auto',\n",
              "                       max_leaf_nodes=None, max_samples=None,\n",
              "                       min_impurity_decrease=0.0, min_impurity_split=None,\n",
              "                       min_samples_leaf=1, min_samples_split=2,\n",
              "                       min_weight_fraction_leaf=0.0, n_estimators=100,\n",
              "                       n_jobs=None, oob_score=False, random_state=None,\n",
              "                       verbose=0, warm_start=False)>"
            ]
          },
          "metadata": {
            "tags": []
          },
          "execution_count": 136
        }
      ]
    },
    {
      "cell_type": "code",
      "metadata": {
        "colab": {
          "base_uri": "https://localhost:8080/",
          "height": 283
        },
        "id": "PSOL9AmdLfDa",
        "outputId": "977c7e89-634e-461e-c511-0ea06f4949ea"
      },
      "source": [
        "pipe_rf2.predict_proba(X_train_tfidf.iloc[83])"
      ],
      "execution_count": null,
      "outputs": [
        {
          "output_type": "error",
          "ename": "AttributeError",
          "evalue": "ignored",
          "traceback": [
            "\u001b[0;31m---------------------------------------------------------------------------\u001b[0m",
            "\u001b[0;31mAttributeError\u001b[0m                            Traceback (most recent call last)",
            "\u001b[0;32m<ipython-input-144-931fdf982322>\u001b[0m in \u001b[0;36m<module>\u001b[0;34m()\u001b[0m\n\u001b[0;32m----> 1\u001b[0;31m \u001b[0mpipe_rf2\u001b[0m\u001b[0;34m.\u001b[0m\u001b[0mpredict_proba\u001b[0m\u001b[0;34m(\u001b[0m\u001b[0mX_train_tfidf\u001b[0m\u001b[0;34m.\u001b[0m\u001b[0miloc\u001b[0m\u001b[0;34m[\u001b[0m\u001b[0;36m83\u001b[0m\u001b[0;34m]\u001b[0m\u001b[0;34m)\u001b[0m\u001b[0;34m\u001b[0m\u001b[0;34m\u001b[0m\u001b[0m\n\u001b[0m",
            "\u001b[0;32m/usr/local/lib/python3.7/dist-packages/scipy/sparse/base.py\u001b[0m in \u001b[0;36m__getattr__\u001b[0;34m(self, attr)\u001b[0m\n\u001b[1;32m    689\u001b[0m             \u001b[0;32mreturn\u001b[0m \u001b[0mself\u001b[0m\u001b[0;34m.\u001b[0m\u001b[0mgetnnz\u001b[0m\u001b[0;34m(\u001b[0m\u001b[0;34m)\u001b[0m\u001b[0;34m\u001b[0m\u001b[0;34m\u001b[0m\u001b[0m\n\u001b[1;32m    690\u001b[0m         \u001b[0;32melse\u001b[0m\u001b[0;34m:\u001b[0m\u001b[0;34m\u001b[0m\u001b[0;34m\u001b[0m\u001b[0m\n\u001b[0;32m--> 691\u001b[0;31m             \u001b[0;32mraise\u001b[0m \u001b[0mAttributeError\u001b[0m\u001b[0;34m(\u001b[0m\u001b[0mattr\u001b[0m \u001b[0;34m+\u001b[0m \u001b[0;34m\" not found\"\u001b[0m\u001b[0;34m)\u001b[0m\u001b[0;34m\u001b[0m\u001b[0;34m\u001b[0m\u001b[0m\n\u001b[0m\u001b[1;32m    692\u001b[0m \u001b[0;34m\u001b[0m\u001b[0m\n\u001b[1;32m    693\u001b[0m     \u001b[0;32mdef\u001b[0m \u001b[0mtranspose\u001b[0m\u001b[0;34m(\u001b[0m\u001b[0mself\u001b[0m\u001b[0;34m,\u001b[0m \u001b[0maxes\u001b[0m\u001b[0;34m=\u001b[0m\u001b[0;32mNone\u001b[0m\u001b[0;34m,\u001b[0m \u001b[0mcopy\u001b[0m\u001b[0;34m=\u001b[0m\u001b[0;32mFalse\u001b[0m\u001b[0;34m)\u001b[0m\u001b[0;34m:\u001b[0m\u001b[0;34m\u001b[0m\u001b[0;34m\u001b[0m\u001b[0m\n",
            "\u001b[0;31mAttributeError\u001b[0m: iloc not found"
          ]
        }
      ]
    },
    {
      "cell_type": "code",
      "metadata": {
        "colab": {
          "base_uri": "https://localhost:8080/"
        },
        "id": "1fUajTdFN2SI",
        "outputId": "704d4a22-a3c9-4390-d784-8eaf301eee6e"
      },
      "source": [
        "X_train_tfidf[85]"
      ],
      "execution_count": null,
      "outputs": [
        {
          "output_type": "execute_result",
          "data": {
            "text/plain": [
              "<1x10357 sparse matrix of type '<class 'numpy.float64'>'\n",
              "\twith 25 stored elements in Compressed Sparse Row format>"
            ]
          },
          "metadata": {
            "tags": []
          },
          "execution_count": 147
        }
      ]
    },
    {
      "cell_type": "code",
      "metadata": {
        "colab": {
          "base_uri": "https://localhost:8080/",
          "height": 341
        },
        "id": "DZ8JG0O1Ol93",
        "outputId": "117104d0-ca10-41fb-e264-42dff98e2be5"
      },
      "source": [
        "pipe_rf2.predict_proba(X_train.iloc[83])"
      ],
      "execution_count": null,
      "outputs": [
        {
          "output_type": "error",
          "ename": "ValueError",
          "evalue": "ignored",
          "traceback": [
            "\u001b[0;31m---------------------------------------------------------------------------\u001b[0m",
            "\u001b[0;31mValueError\u001b[0m                                Traceback (most recent call last)",
            "\u001b[0;32m<ipython-input-149-3cd43d113107>\u001b[0m in \u001b[0;36m<module>\u001b[0;34m()\u001b[0m\n\u001b[0;32m----> 1\u001b[0;31m \u001b[0mpipe_rf2\u001b[0m\u001b[0;34m.\u001b[0m\u001b[0mpredict_proba\u001b[0m\u001b[0;34m(\u001b[0m\u001b[0mX_train\u001b[0m\u001b[0;34m.\u001b[0m\u001b[0miloc\u001b[0m\u001b[0;34m[\u001b[0m\u001b[0;36m83\u001b[0m\u001b[0;34m]\u001b[0m\u001b[0;34m)\u001b[0m\u001b[0;34m\u001b[0m\u001b[0;34m\u001b[0m\u001b[0m\n\u001b[0m",
            "\u001b[0;32m/usr/local/lib/python3.7/dist-packages/sklearn/ensemble/_forest.py\u001b[0m in \u001b[0;36mpredict_proba\u001b[0;34m(self, X)\u001b[0m\n\u001b[1;32m    654\u001b[0m         \u001b[0mcheck_is_fitted\u001b[0m\u001b[0;34m(\u001b[0m\u001b[0mself\u001b[0m\u001b[0;34m)\u001b[0m\u001b[0;34m\u001b[0m\u001b[0;34m\u001b[0m\u001b[0m\n\u001b[1;32m    655\u001b[0m         \u001b[0;31m# Check data\u001b[0m\u001b[0;34m\u001b[0m\u001b[0;34m\u001b[0m\u001b[0;34m\u001b[0m\u001b[0m\n\u001b[0;32m--> 656\u001b[0;31m         \u001b[0mX\u001b[0m \u001b[0;34m=\u001b[0m \u001b[0mself\u001b[0m\u001b[0;34m.\u001b[0m\u001b[0m_validate_X_predict\u001b[0m\u001b[0;34m(\u001b[0m\u001b[0mX\u001b[0m\u001b[0;34m)\u001b[0m\u001b[0;34m\u001b[0m\u001b[0;34m\u001b[0m\u001b[0m\n\u001b[0m\u001b[1;32m    657\u001b[0m \u001b[0;34m\u001b[0m\u001b[0m\n\u001b[1;32m    658\u001b[0m         \u001b[0;31m# Assign chunk of trees to jobs\u001b[0m\u001b[0;34m\u001b[0m\u001b[0;34m\u001b[0m\u001b[0;34m\u001b[0m\u001b[0m\n",
            "\u001b[0;32m/usr/local/lib/python3.7/dist-packages/sklearn/ensemble/_forest.py\u001b[0m in \u001b[0;36m_validate_X_predict\u001b[0;34m(self, X)\u001b[0m\n\u001b[1;32m    410\u001b[0m         \u001b[0mcheck_is_fitted\u001b[0m\u001b[0;34m(\u001b[0m\u001b[0mself\u001b[0m\u001b[0;34m)\u001b[0m\u001b[0;34m\u001b[0m\u001b[0;34m\u001b[0m\u001b[0m\n\u001b[1;32m    411\u001b[0m \u001b[0;34m\u001b[0m\u001b[0m\n\u001b[0;32m--> 412\u001b[0;31m         \u001b[0;32mreturn\u001b[0m \u001b[0mself\u001b[0m\u001b[0;34m.\u001b[0m\u001b[0mestimators_\u001b[0m\u001b[0;34m[\u001b[0m\u001b[0;36m0\u001b[0m\u001b[0;34m]\u001b[0m\u001b[0;34m.\u001b[0m\u001b[0m_validate_X_predict\u001b[0m\u001b[0;34m(\u001b[0m\u001b[0mX\u001b[0m\u001b[0;34m,\u001b[0m \u001b[0mcheck_input\u001b[0m\u001b[0;34m=\u001b[0m\u001b[0;32mTrue\u001b[0m\u001b[0;34m)\u001b[0m\u001b[0;34m\u001b[0m\u001b[0;34m\u001b[0m\u001b[0m\n\u001b[0m\u001b[1;32m    413\u001b[0m \u001b[0;34m\u001b[0m\u001b[0m\n\u001b[1;32m    414\u001b[0m     \u001b[0;34m@\u001b[0m\u001b[0mproperty\u001b[0m\u001b[0;34m\u001b[0m\u001b[0;34m\u001b[0m\u001b[0m\n",
            "\u001b[0;32m/usr/local/lib/python3.7/dist-packages/sklearn/tree/_classes.py\u001b[0m in \u001b[0;36m_validate_X_predict\u001b[0;34m(self, X, check_input)\u001b[0m\n\u001b[1;32m    378\u001b[0m         \u001b[0;34m\"\"\"Validate X whenever one tries to predict, apply, predict_proba\"\"\"\u001b[0m\u001b[0;34m\u001b[0m\u001b[0;34m\u001b[0m\u001b[0m\n\u001b[1;32m    379\u001b[0m         \u001b[0;32mif\u001b[0m \u001b[0mcheck_input\u001b[0m\u001b[0;34m:\u001b[0m\u001b[0;34m\u001b[0m\u001b[0;34m\u001b[0m\u001b[0m\n\u001b[0;32m--> 380\u001b[0;31m             \u001b[0mX\u001b[0m \u001b[0;34m=\u001b[0m \u001b[0mcheck_array\u001b[0m\u001b[0;34m(\u001b[0m\u001b[0mX\u001b[0m\u001b[0;34m,\u001b[0m \u001b[0mdtype\u001b[0m\u001b[0;34m=\u001b[0m\u001b[0mDTYPE\u001b[0m\u001b[0;34m,\u001b[0m \u001b[0maccept_sparse\u001b[0m\u001b[0;34m=\u001b[0m\u001b[0;34m\"csr\"\u001b[0m\u001b[0;34m)\u001b[0m\u001b[0;34m\u001b[0m\u001b[0;34m\u001b[0m\u001b[0m\n\u001b[0m\u001b[1;32m    381\u001b[0m             if issparse(X) and (X.indices.dtype != np.intc or\n\u001b[1;32m    382\u001b[0m                                 X.indptr.dtype != np.intc):\n",
            "\u001b[0;32m/usr/local/lib/python3.7/dist-packages/sklearn/utils/validation.py\u001b[0m in \u001b[0;36mcheck_array\u001b[0;34m(array, accept_sparse, accept_large_sparse, dtype, order, copy, force_all_finite, ensure_2d, allow_nd, ensure_min_samples, ensure_min_features, warn_on_dtype, estimator)\u001b[0m\n\u001b[1;32m    529\u001b[0m                     \u001b[0marray\u001b[0m \u001b[0;34m=\u001b[0m \u001b[0marray\u001b[0m\u001b[0;34m.\u001b[0m\u001b[0mastype\u001b[0m\u001b[0;34m(\u001b[0m\u001b[0mdtype\u001b[0m\u001b[0;34m,\u001b[0m \u001b[0mcasting\u001b[0m\u001b[0;34m=\u001b[0m\u001b[0;34m\"unsafe\"\u001b[0m\u001b[0;34m,\u001b[0m \u001b[0mcopy\u001b[0m\u001b[0;34m=\u001b[0m\u001b[0;32mFalse\u001b[0m\u001b[0;34m)\u001b[0m\u001b[0;34m\u001b[0m\u001b[0;34m\u001b[0m\u001b[0m\n\u001b[1;32m    530\u001b[0m                 \u001b[0;32melse\u001b[0m\u001b[0;34m:\u001b[0m\u001b[0;34m\u001b[0m\u001b[0;34m\u001b[0m\u001b[0m\n\u001b[0;32m--> 531\u001b[0;31m                     \u001b[0marray\u001b[0m \u001b[0;34m=\u001b[0m \u001b[0mnp\u001b[0m\u001b[0;34m.\u001b[0m\u001b[0masarray\u001b[0m\u001b[0;34m(\u001b[0m\u001b[0marray\u001b[0m\u001b[0;34m,\u001b[0m \u001b[0morder\u001b[0m\u001b[0;34m=\u001b[0m\u001b[0morder\u001b[0m\u001b[0;34m,\u001b[0m \u001b[0mdtype\u001b[0m\u001b[0;34m=\u001b[0m\u001b[0mdtype\u001b[0m\u001b[0;34m)\u001b[0m\u001b[0;34m\u001b[0m\u001b[0;34m\u001b[0m\u001b[0m\n\u001b[0m\u001b[1;32m    532\u001b[0m             \u001b[0;32mexcept\u001b[0m \u001b[0mComplexWarning\u001b[0m\u001b[0;34m:\u001b[0m\u001b[0;34m\u001b[0m\u001b[0;34m\u001b[0m\u001b[0m\n\u001b[1;32m    533\u001b[0m                 raise ValueError(\"Complex data not supported\\n\"\n",
            "\u001b[0;32m/usr/local/lib/python3.7/dist-packages/numpy/core/_asarray.py\u001b[0m in \u001b[0;36masarray\u001b[0;34m(a, dtype, order)\u001b[0m\n\u001b[1;32m     81\u001b[0m \u001b[0;34m\u001b[0m\u001b[0m\n\u001b[1;32m     82\u001b[0m     \"\"\"\n\u001b[0;32m---> 83\u001b[0;31m     \u001b[0;32mreturn\u001b[0m \u001b[0marray\u001b[0m\u001b[0;34m(\u001b[0m\u001b[0ma\u001b[0m\u001b[0;34m,\u001b[0m \u001b[0mdtype\u001b[0m\u001b[0;34m,\u001b[0m \u001b[0mcopy\u001b[0m\u001b[0;34m=\u001b[0m\u001b[0;32mFalse\u001b[0m\u001b[0;34m,\u001b[0m \u001b[0morder\u001b[0m\u001b[0;34m=\u001b[0m\u001b[0morder\u001b[0m\u001b[0;34m)\u001b[0m\u001b[0;34m\u001b[0m\u001b[0;34m\u001b[0m\u001b[0m\n\u001b[0m\u001b[1;32m     84\u001b[0m \u001b[0;34m\u001b[0m\u001b[0m\n\u001b[1;32m     85\u001b[0m \u001b[0;34m\u001b[0m\u001b[0m\n",
            "\u001b[0;31mValueError\u001b[0m: could not convert string to float: 'Apple’s new MusicKit API lets developers offer Apple Music trials, and rewards them with a payout; With a new MusicKit API, developers will be able to offer Apple Music trials and receive rewards for new subscribers through a referral program starting with iOS 15. This news was highlighted by deve'"
          ]
        }
      ]
    },
    {
      "cell_type": "code",
      "metadata": {
        "colab": {
          "base_uri": "https://localhost:8080/"
        },
        "id": "3b0NTNjrO7WB",
        "outputId": "276b0c91-bb3d-4fe3-8c15-8924a0a5bdfb"
      },
      "source": [
        "pipe_rf2.predict_proba(X_train_tfidf)"
      ],
      "execution_count": null,
      "outputs": [
        {
          "output_type": "execute_result",
          "data": {
            "text/plain": [
              "array([[0.07, 0.09, 0.84],\n",
              "       [0.03, 0.87, 0.1 ],\n",
              "       [0.13, 0.69, 0.18],\n",
              "       ...,\n",
              "       [0.77, 0.05, 0.18],\n",
              "       [0.02, 0.89, 0.09],\n",
              "       [0.05, 0.74, 0.21]])"
            ]
          },
          "metadata": {
            "tags": []
          },
          "execution_count": 150
        }
      ]
    },
    {
      "cell_type": "code",
      "metadata": {
        "colab": {
          "base_uri": "https://localhost:8080/",
          "height": 69
        },
        "id": "myAnG9c4PFls",
        "outputId": "273f769a-dea3-4fd2-9f9d-2d7c98c8a274"
      },
      "source": [
        "X_train.iloc[idx]"
      ],
      "execution_count": null,
      "outputs": [
        {
          "output_type": "execute_result",
          "data": {
            "application/vnd.google.colaboratory.intrinsic+json": {
              "type": "string"
            },
            "text/plain": [
              "'Apple’s new MusicKit API lets developers offer Apple Music trials, and rewards them with a payout; With a new MusicKit API, developers will be able to offer Apple Music trials and receive rewards for new subscribers through a referral program starting with iOS 15. This news was highlighted by deve'"
            ]
          },
          "metadata": {
            "tags": []
          },
          "execution_count": 156
        }
      ]
    },
    {
      "cell_type": "code",
      "metadata": {
        "colab": {
          "base_uri": "https://localhost:8080/"
        },
        "id": "zgbRBgJ8PZ8J",
        "outputId": "07a63b1f-bf87-40a7-80cb-fa5adafe2081"
      },
      "source": [
        "from sklearn.datasets import fetch_20newsgroups\n",
        "categories = ['alt.atheism', 'soc.religion.christian']\n",
        "newsgroups_train = fetch_20newsgroups(subset='train', categories=categories)\n",
        "newsgroups_test = fetch_20newsgroups(subset='test', categories=categories)\n",
        "class_names = ['atheism', 'christian']"
      ],
      "execution_count": null,
      "outputs": [
        {
          "output_type": "stream",
          "text": [
            "Downloading 20news dataset. This may take a few minutes.\n",
            "Downloading dataset from https://ndownloader.figshare.com/files/5975967 (14 MB)\n"
          ],
          "name": "stderr"
        }
      ]
    },
    {
      "cell_type": "code",
      "metadata": {
        "id": "WApbQ8dhPpYC"
      },
      "source": [
        "import sklearn\n",
        "import sklearn.ensemble\n",
        "import sklearn.metrics\n",
        "vectorizer = sklearn.feature_extraction.text.TfidfVectorizer(lowercase=False)\n",
        "train_vectors = vectorizer.fit_transform(newsgroups_train.data)\n",
        "test_vectors = vectorizer.transform(newsgroups_test.data)"
      ],
      "execution_count": null,
      "outputs": []
    },
    {
      "cell_type": "code",
      "metadata": {
        "colab": {
          "base_uri": "https://localhost:8080/"
        },
        "id": "qNODLF1JP1IC",
        "outputId": "1ee6c3d2-6ae6-4ec6-e371-1b6247f4e6fd"
      },
      "source": [
        "train_vectors"
      ],
      "execution_count": null,
      "outputs": [
        {
          "output_type": "execute_result",
          "data": {
            "text/plain": [
              "<1079x23035 sparse matrix of type '<class 'numpy.float64'>'\n",
              "\twith 207918 stored elements in Compressed Sparse Row format>"
            ]
          },
          "metadata": {
            "tags": []
          },
          "execution_count": 162
        }
      ]
    },
    {
      "cell_type": "code",
      "metadata": {
        "colab": {
          "base_uri": "https://localhost:8080/"
        },
        "id": "cA8QWUxsP9U6",
        "outputId": "c298fa80-c639-4d9a-d7f8-ce109682b94a"
      },
      "source": [
        "rf = sklearn.ensemble.RandomForestClassifier(n_estimators=500)\n",
        "rf.fit(train_vectors, newsgroups_train.target)"
      ],
      "execution_count": null,
      "outputs": [
        {
          "output_type": "execute_result",
          "data": {
            "text/plain": [
              "RandomForestClassifier(bootstrap=True, ccp_alpha=0.0, class_weight=None,\n",
              "                       criterion='gini', max_depth=None, max_features='auto',\n",
              "                       max_leaf_nodes=None, max_samples=None,\n",
              "                       min_impurity_decrease=0.0, min_impurity_split=None,\n",
              "                       min_samples_leaf=1, min_samples_split=2,\n",
              "                       min_weight_fraction_leaf=0.0, n_estimators=500,\n",
              "                       n_jobs=None, oob_score=False, random_state=None,\n",
              "                       verbose=0, warm_start=False)"
            ]
          },
          "metadata": {
            "tags": []
          },
          "execution_count": 163
        }
      ]
    },
    {
      "cell_type": "code",
      "metadata": {
        "id": "m2mSJdi8QEAb"
      },
      "source": [
        "from sklearn.pipeline import make_pipeline\n",
        "c = make_pipeline(vectorizer, rf)"
      ],
      "execution_count": null,
      "outputs": []
    },
    {
      "cell_type": "code",
      "metadata": {
        "id": "Seye5wN_RNEH"
      },
      "source": [
        "from lime.lime_text import LimeTextExplainer\n",
        "explainer = LimeTextExplainer(class_names=class_names)"
      ],
      "execution_count": null,
      "outputs": []
    },
    {
      "cell_type": "code",
      "metadata": {
        "colab": {
          "base_uri": "https://localhost:8080/"
        },
        "id": "z588Ig3vRPhY",
        "outputId": "242497f7-a9ff-43d1-83fb-a0de83b0ad30"
      },
      "source": [
        "\n",
        "idx = 83\n",
        "exp = explainer.explain_instance(newsgroups_test.data[idx], c.predict_proba, num_features=6)\n",
        "print('Document id: %d' % idx)\n",
        "print('Probability(christian) =', c.predict_proba([newsgroups_test.data[idx]])[0, 1])\n",
        "print('True class: %s' % class_names[newsgroups_test.target[idx]])"
      ],
      "execution_count": null,
      "outputs": [
        {
          "output_type": "stream",
          "text": [
            "Document id: 83\n",
            "Probability(christian) = 0.486\n",
            "True class: atheism\n"
          ],
          "name": "stdout"
        }
      ]
    },
    {
      "cell_type": "code",
      "metadata": {
        "colab": {
          "base_uri": "https://localhost:8080/",
          "height": 86
        },
        "id": "F_bOVp3-RRI4",
        "outputId": "b7060600-b916-4428-dbeb-e3d30c4ba5cf"
      },
      "source": [
        "newsgroups_test.data[idx]"
      ],
      "execution_count": null,
      "outputs": [
        {
          "output_type": "execute_result",
          "data": {
            "application/vnd.google.colaboratory.intrinsic+json": {
              "type": "string"
            },
            "text/plain": [
              "'From: johnchad@triton.unm.edu (jchadwic)\\nSubject: Another request for Darwin Fish\\nOrganization: University of New Mexico, Albuquerque\\nLines: 11\\nNNTP-Posting-Host: triton.unm.edu\\n\\nHello Gang,\\n\\nThere have been some notes recently asking where to obtain the DARWIN fish.\\nThis is the same question I have and I have not seen an answer on the\\nnet. If anyone has a contact please post on the net or email me.\\n\\nThanks,\\n\\njohn chadwick\\njohnchad@triton.unm.edu\\nor\\n'"
            ]
          },
          "metadata": {
            "tags": []
          },
          "execution_count": 167
        }
      ]
    },
    {
      "cell_type": "code",
      "metadata": {
        "colab": {
          "base_uri": "https://localhost:8080/",
          "height": 35
        },
        "id": "acFQhV5yTuLf",
        "outputId": "324eae6c-5b96-4df4-d792-14d4b61227d3"
      },
      "source": [
        "class_names[newsgroups_test.target[idx]]"
      ],
      "execution_count": null,
      "outputs": [
        {
          "output_type": "execute_result",
          "data": {
            "application/vnd.google.colaboratory.intrinsic+json": {
              "type": "string"
            },
            "text/plain": [
              "'atheism'"
            ]
          },
          "metadata": {
            "tags": []
          },
          "execution_count": 197
        }
      ]
    },
    {
      "cell_type": "code",
      "metadata": {
        "colab": {
          "base_uri": "https://localhost:8080/"
        },
        "id": "67vH8PRTT8rp",
        "outputId": "a8f961a2-7efb-4458-b46a-2ec2d80f3481"
      },
      "source": [
        "c"
      ],
      "execution_count": null,
      "outputs": [
        {
          "output_type": "execute_result",
          "data": {
            "text/plain": [
              "Pipeline(memory=None,\n",
              "         steps=[('tfidfvectorizer',\n",
              "                 TfidfVectorizer(analyzer='word', binary=False,\n",
              "                                 decode_error='strict',\n",
              "                                 dtype=<class 'numpy.float64'>,\n",
              "                                 encoding='utf-8', input='content',\n",
              "                                 lowercase=False, max_df=1.0, max_features=None,\n",
              "                                 min_df=1, ngram_range=(1, 1), norm='l2',\n",
              "                                 preprocessor=None, smooth_idf=True,\n",
              "                                 stop_words=None, strip_accents=None,\n",
              "                                 sublinear_tf=False,\n",
              "                                 toke...\n",
              "                 RandomForestClassifier(bootstrap=True, ccp_alpha=0.0,\n",
              "                                        class_weight=None, criterion='gini',\n",
              "                                        max_depth=None, max_features='auto',\n",
              "                                        max_leaf_nodes=None, max_samples=None,\n",
              "                                        min_impurity_decrease=0.0,\n",
              "                                        min_impurity_split=None,\n",
              "                                        min_samples_leaf=1, min_samples_split=2,\n",
              "                                        min_weight_fraction_leaf=0.0,\n",
              "                                        n_estimators=500, n_jobs=None,\n",
              "                                        oob_score=False, random_state=None,\n",
              "                                        verbose=0, warm_start=False))],\n",
              "         verbose=False)"
            ]
          },
          "metadata": {
            "tags": []
          },
          "execution_count": 170
        }
      ]
    },
    {
      "cell_type": "code",
      "metadata": {
        "colab": {
          "base_uri": "https://localhost:8080/"
        },
        "id": "aLC_pqMETwNg",
        "outputId": "3e8037ed-106c-46ee-d6cb-db82a0f0e4f9"
      },
      "source": [
        "full_pipe"
      ],
      "execution_count": null,
      "outputs": [
        {
          "output_type": "execute_result",
          "data": {
            "text/plain": [
              "Pipeline(memory=None,\n",
              "         steps=[('text_pipe',\n",
              "                 Pipeline(memory=None,\n",
              "                          steps=[('TfidfVectorizer',\n",
              "                                  TfidfVectorizer(analyzer='word', binary=False,\n",
              "                                                  decode_error='strict',\n",
              "                                                  dtype=<class 'numpy.float64'>,\n",
              "                                                  encoding='utf-8',\n",
              "                                                  input='content',\n",
              "                                                  lowercase=True, max_df=1.0,\n",
              "                                                  max_features=None, min_df=1,\n",
              "                                                  ngram_range=(1, 1), norm='l2',\n",
              "                                                  preprocessor=None,\n",
              "                                                  smooth_idf=True,\n",
              "                                                  stop_words=None,\n",
              "                                                  st...\n",
              "                 RandomForestClassifier(bootstrap=True, ccp_alpha=0.0,\n",
              "                                        class_weight='balanced',\n",
              "                                        criterion='gini', max_depth=None,\n",
              "                                        max_features='auto',\n",
              "                                        max_leaf_nodes=None, max_samples=None,\n",
              "                                        min_impurity_decrease=0.0,\n",
              "                                        min_impurity_split=None,\n",
              "                                        min_samples_leaf=1, min_samples_split=2,\n",
              "                                        min_weight_fraction_leaf=0.0,\n",
              "                                        n_estimators=100, n_jobs=None,\n",
              "                                        oob_score=False, random_state=None,\n",
              "                                        verbose=0, warm_start=False))],\n",
              "         verbose=False)"
            ]
          },
          "metadata": {
            "tags": []
          },
          "execution_count": 169
        }
      ]
    },
    {
      "cell_type": "code",
      "metadata": {
        "colab": {
          "base_uri": "https://localhost:8080/"
        },
        "id": "u6kC7NiXT7iw",
        "outputId": "c910bc4c-fc2f-4d78-a47e-cf7ac85237f0"
      },
      "source": [
        "from sklearn.externals import joblib"
      ],
      "execution_count": null,
      "outputs": [
        {
          "output_type": "stream",
          "text": [
            "/usr/local/lib/python3.7/dist-packages/sklearn/externals/joblib/__init__.py:15: FutureWarning: sklearn.externals.joblib is deprecated in 0.21 and will be removed in 0.23. Please import this functionality directly from joblib, which can be installed with: pip install joblib. If this warning is raised when loading pickled models, you may need to re-serialize those models with scikit-learn 0.21+.\n",
            "  warnings.warn(msg, category=FutureWarning)\n"
          ],
          "name": "stderr"
        }
      ]
    },
    {
      "cell_type": "code",
      "metadata": {
        "colab": {
          "base_uri": "https://localhost:8080/",
          "height": 324
        },
        "id": "nx1IUdRVUjCx",
        "outputId": "b00d463b-e2d4-480b-f98c-12c65f317378"
      },
      "source": [
        ""
      ],
      "execution_count": null,
      "outputs": [
        {
          "output_type": "stream",
          "text": [
            "hello my name is ethanftes\n"
          ],
          "name": "stdout"
        },
        {
          "output_type": "error",
          "ename": "ValueError",
          "evalue": "ignored",
          "traceback": [
            "\u001b[0;31m---------------------------------------------------------------------------\u001b[0m",
            "\u001b[0;31mValueError\u001b[0m                                Traceback (most recent call last)",
            "\u001b[0;32m<ipython-input-191-8ac7cc789c5e>\u001b[0m in \u001b[0;36m<module>\u001b[0;34m()\u001b[0m\n\u001b[0;32m----> 1\u001b[0;31m \u001b[0mapple_pipe\u001b[0m\u001b[0;34m.\u001b[0m\u001b[0mpredict_proba\u001b[0m\u001b[0;34m(\u001b[0m\u001b[0minput\u001b[0m\u001b[0;34m(\u001b[0m\u001b[0;34m'hello my name is ethan'\u001b[0m\u001b[0;34m)\u001b[0m\u001b[0;34m)\u001b[0m\u001b[0;34m\u001b[0m\u001b[0;34m\u001b[0m\u001b[0m\n\u001b[0m",
            "\u001b[0;32m/usr/local/lib/python3.7/dist-packages/sklearn/utils/metaestimators.py\u001b[0m in \u001b[0;36m<lambda>\u001b[0;34m(*args, **kwargs)\u001b[0m\n\u001b[1;32m    114\u001b[0m \u001b[0;34m\u001b[0m\u001b[0m\n\u001b[1;32m    115\u001b[0m         \u001b[0;31m# lambda, but not partial, allows help() to work with update_wrapper\u001b[0m\u001b[0;34m\u001b[0m\u001b[0;34m\u001b[0m\u001b[0;34m\u001b[0m\u001b[0m\n\u001b[0;32m--> 116\u001b[0;31m         \u001b[0mout\u001b[0m \u001b[0;34m=\u001b[0m \u001b[0;32mlambda\u001b[0m \u001b[0;34m*\u001b[0m\u001b[0margs\u001b[0m\u001b[0;34m,\u001b[0m \u001b[0;34m**\u001b[0m\u001b[0mkwargs\u001b[0m\u001b[0;34m:\u001b[0m \u001b[0mself\u001b[0m\u001b[0;34m.\u001b[0m\u001b[0mfn\u001b[0m\u001b[0;34m(\u001b[0m\u001b[0mobj\u001b[0m\u001b[0;34m,\u001b[0m \u001b[0;34m*\u001b[0m\u001b[0margs\u001b[0m\u001b[0;34m,\u001b[0m \u001b[0;34m**\u001b[0m\u001b[0mkwargs\u001b[0m\u001b[0;34m)\u001b[0m\u001b[0;34m\u001b[0m\u001b[0;34m\u001b[0m\u001b[0m\n\u001b[0m\u001b[1;32m    117\u001b[0m         \u001b[0;31m# update the docstring of the returned function\u001b[0m\u001b[0;34m\u001b[0m\u001b[0;34m\u001b[0m\u001b[0;34m\u001b[0m\u001b[0m\n\u001b[1;32m    118\u001b[0m         \u001b[0mupdate_wrapper\u001b[0m\u001b[0;34m(\u001b[0m\u001b[0mout\u001b[0m\u001b[0;34m,\u001b[0m \u001b[0mself\u001b[0m\u001b[0;34m.\u001b[0m\u001b[0mfn\u001b[0m\u001b[0;34m)\u001b[0m\u001b[0;34m\u001b[0m\u001b[0;34m\u001b[0m\u001b[0m\n",
            "\u001b[0;32m/usr/local/lib/python3.7/dist-packages/sklearn/model_selection/_search.py\u001b[0m in \u001b[0;36mpredict_proba\u001b[0;34m(self, X)\u001b[0m\n\u001b[1;32m    492\u001b[0m         \"\"\"\n\u001b[1;32m    493\u001b[0m         \u001b[0mself\u001b[0m\u001b[0;34m.\u001b[0m\u001b[0m_check_is_fitted\u001b[0m\u001b[0;34m(\u001b[0m\u001b[0;34m'predict_proba'\u001b[0m\u001b[0;34m)\u001b[0m\u001b[0;34m\u001b[0m\u001b[0;34m\u001b[0m\u001b[0m\n\u001b[0;32m--> 494\u001b[0;31m         \u001b[0;32mreturn\u001b[0m \u001b[0mself\u001b[0m\u001b[0;34m.\u001b[0m\u001b[0mbest_estimator_\u001b[0m\u001b[0;34m.\u001b[0m\u001b[0mpredict_proba\u001b[0m\u001b[0;34m(\u001b[0m\u001b[0mX\u001b[0m\u001b[0;34m)\u001b[0m\u001b[0;34m\u001b[0m\u001b[0;34m\u001b[0m\u001b[0m\n\u001b[0m\u001b[1;32m    495\u001b[0m \u001b[0;34m\u001b[0m\u001b[0m\n\u001b[1;32m    496\u001b[0m     \u001b[0;34m@\u001b[0m\u001b[0mif_delegate_has_method\u001b[0m\u001b[0;34m(\u001b[0m\u001b[0mdelegate\u001b[0m\u001b[0;34m=\u001b[0m\u001b[0;34m(\u001b[0m\u001b[0;34m'best_estimator_'\u001b[0m\u001b[0;34m,\u001b[0m \u001b[0;34m'estimator'\u001b[0m\u001b[0;34m)\u001b[0m\u001b[0;34m)\u001b[0m\u001b[0;34m\u001b[0m\u001b[0;34m\u001b[0m\u001b[0m\n",
            "\u001b[0;32m/usr/local/lib/python3.7/dist-packages/sklearn/utils/metaestimators.py\u001b[0m in \u001b[0;36m<lambda>\u001b[0;34m(*args, **kwargs)\u001b[0m\n\u001b[1;32m    114\u001b[0m \u001b[0;34m\u001b[0m\u001b[0m\n\u001b[1;32m    115\u001b[0m         \u001b[0;31m# lambda, but not partial, allows help() to work with update_wrapper\u001b[0m\u001b[0;34m\u001b[0m\u001b[0;34m\u001b[0m\u001b[0;34m\u001b[0m\u001b[0m\n\u001b[0;32m--> 116\u001b[0;31m         \u001b[0mout\u001b[0m \u001b[0;34m=\u001b[0m \u001b[0;32mlambda\u001b[0m \u001b[0;34m*\u001b[0m\u001b[0margs\u001b[0m\u001b[0;34m,\u001b[0m \u001b[0;34m**\u001b[0m\u001b[0mkwargs\u001b[0m\u001b[0;34m:\u001b[0m \u001b[0mself\u001b[0m\u001b[0;34m.\u001b[0m\u001b[0mfn\u001b[0m\u001b[0;34m(\u001b[0m\u001b[0mobj\u001b[0m\u001b[0;34m,\u001b[0m \u001b[0;34m*\u001b[0m\u001b[0margs\u001b[0m\u001b[0;34m,\u001b[0m \u001b[0;34m**\u001b[0m\u001b[0mkwargs\u001b[0m\u001b[0;34m)\u001b[0m\u001b[0;34m\u001b[0m\u001b[0;34m\u001b[0m\u001b[0m\n\u001b[0m\u001b[1;32m    117\u001b[0m         \u001b[0;31m# update the docstring of the returned function\u001b[0m\u001b[0;34m\u001b[0m\u001b[0;34m\u001b[0m\u001b[0;34m\u001b[0m\u001b[0m\n\u001b[1;32m    118\u001b[0m         \u001b[0mupdate_wrapper\u001b[0m\u001b[0;34m(\u001b[0m\u001b[0mout\u001b[0m\u001b[0;34m,\u001b[0m \u001b[0mself\u001b[0m\u001b[0;34m.\u001b[0m\u001b[0mfn\u001b[0m\u001b[0;34m)\u001b[0m\u001b[0;34m\u001b[0m\u001b[0;34m\u001b[0m\u001b[0m\n",
            "\u001b[0;32m/usr/local/lib/python3.7/dist-packages/sklearn/pipeline.py\u001b[0m in \u001b[0;36mpredict_proba\u001b[0;34m(self, X)\u001b[0m\n\u001b[1;32m    469\u001b[0m         \u001b[0mXt\u001b[0m \u001b[0;34m=\u001b[0m \u001b[0mX\u001b[0m\u001b[0;34m\u001b[0m\u001b[0;34m\u001b[0m\u001b[0m\n\u001b[1;32m    470\u001b[0m         \u001b[0;32mfor\u001b[0m \u001b[0m_\u001b[0m\u001b[0;34m,\u001b[0m \u001b[0mname\u001b[0m\u001b[0;34m,\u001b[0m \u001b[0mtransform\u001b[0m \u001b[0;32min\u001b[0m \u001b[0mself\u001b[0m\u001b[0;34m.\u001b[0m\u001b[0m_iter\u001b[0m\u001b[0;34m(\u001b[0m\u001b[0mwith_final\u001b[0m\u001b[0;34m=\u001b[0m\u001b[0;32mFalse\u001b[0m\u001b[0;34m)\u001b[0m\u001b[0;34m:\u001b[0m\u001b[0;34m\u001b[0m\u001b[0;34m\u001b[0m\u001b[0m\n\u001b[0;32m--> 471\u001b[0;31m             \u001b[0mXt\u001b[0m \u001b[0;34m=\u001b[0m \u001b[0mtransform\u001b[0m\u001b[0;34m.\u001b[0m\u001b[0mtransform\u001b[0m\u001b[0;34m(\u001b[0m\u001b[0mXt\u001b[0m\u001b[0;34m)\u001b[0m\u001b[0;34m\u001b[0m\u001b[0;34m\u001b[0m\u001b[0m\n\u001b[0m\u001b[1;32m    472\u001b[0m         \u001b[0;32mreturn\u001b[0m \u001b[0mself\u001b[0m\u001b[0;34m.\u001b[0m\u001b[0msteps\u001b[0m\u001b[0;34m[\u001b[0m\u001b[0;34m-\u001b[0m\u001b[0;36m1\u001b[0m\u001b[0;34m]\u001b[0m\u001b[0;34m[\u001b[0m\u001b[0;34m-\u001b[0m\u001b[0;36m1\u001b[0m\u001b[0;34m]\u001b[0m\u001b[0;34m.\u001b[0m\u001b[0mpredict_proba\u001b[0m\u001b[0;34m(\u001b[0m\u001b[0mXt\u001b[0m\u001b[0;34m)\u001b[0m\u001b[0;34m\u001b[0m\u001b[0;34m\u001b[0m\u001b[0m\n\u001b[1;32m    473\u001b[0m \u001b[0;34m\u001b[0m\u001b[0m\n",
            "\u001b[0;32m/usr/local/lib/python3.7/dist-packages/sklearn/pipeline.py\u001b[0m in \u001b[0;36m_transform\u001b[0;34m(self, X)\u001b[0m\n\u001b[1;32m    555\u001b[0m         \u001b[0mXt\u001b[0m \u001b[0;34m=\u001b[0m \u001b[0mX\u001b[0m\u001b[0;34m\u001b[0m\u001b[0;34m\u001b[0m\u001b[0m\n\u001b[1;32m    556\u001b[0m         \u001b[0;32mfor\u001b[0m \u001b[0m_\u001b[0m\u001b[0;34m,\u001b[0m \u001b[0m_\u001b[0m\u001b[0;34m,\u001b[0m \u001b[0mtransform\u001b[0m \u001b[0;32min\u001b[0m \u001b[0mself\u001b[0m\u001b[0;34m.\u001b[0m\u001b[0m_iter\u001b[0m\u001b[0;34m(\u001b[0m\u001b[0;34m)\u001b[0m\u001b[0;34m:\u001b[0m\u001b[0;34m\u001b[0m\u001b[0;34m\u001b[0m\u001b[0m\n\u001b[0;32m--> 557\u001b[0;31m             \u001b[0mXt\u001b[0m \u001b[0;34m=\u001b[0m \u001b[0mtransform\u001b[0m\u001b[0;34m.\u001b[0m\u001b[0mtransform\u001b[0m\u001b[0;34m(\u001b[0m\u001b[0mXt\u001b[0m\u001b[0;34m)\u001b[0m\u001b[0;34m\u001b[0m\u001b[0;34m\u001b[0m\u001b[0m\n\u001b[0m\u001b[1;32m    558\u001b[0m         \u001b[0;32mreturn\u001b[0m \u001b[0mXt\u001b[0m\u001b[0;34m\u001b[0m\u001b[0;34m\u001b[0m\u001b[0m\n\u001b[1;32m    559\u001b[0m \u001b[0;34m\u001b[0m\u001b[0m\n",
            "\u001b[0;32m/usr/local/lib/python3.7/dist-packages/sklearn/feature_extraction/text.py\u001b[0m in \u001b[0;36mtransform\u001b[0;34m(self, raw_documents, copy)\u001b[0m\n\u001b[1;32m   1896\u001b[0m                    \"be removed in 0.24.\")\n\u001b[1;32m   1897\u001b[0m             \u001b[0mwarnings\u001b[0m\u001b[0;34m.\u001b[0m\u001b[0mwarn\u001b[0m\u001b[0;34m(\u001b[0m\u001b[0mmsg\u001b[0m\u001b[0;34m,\u001b[0m \u001b[0mFutureWarning\u001b[0m\u001b[0;34m)\u001b[0m\u001b[0;34m\u001b[0m\u001b[0;34m\u001b[0m\u001b[0m\n\u001b[0;32m-> 1898\u001b[0;31m         \u001b[0mX\u001b[0m \u001b[0;34m=\u001b[0m \u001b[0msuper\u001b[0m\u001b[0;34m(\u001b[0m\u001b[0;34m)\u001b[0m\u001b[0;34m.\u001b[0m\u001b[0mtransform\u001b[0m\u001b[0;34m(\u001b[0m\u001b[0mraw_documents\u001b[0m\u001b[0;34m)\u001b[0m\u001b[0;34m\u001b[0m\u001b[0;34m\u001b[0m\u001b[0m\n\u001b[0m\u001b[1;32m   1899\u001b[0m         \u001b[0;32mreturn\u001b[0m \u001b[0mself\u001b[0m\u001b[0;34m.\u001b[0m\u001b[0m_tfidf\u001b[0m\u001b[0;34m.\u001b[0m\u001b[0mtransform\u001b[0m\u001b[0;34m(\u001b[0m\u001b[0mX\u001b[0m\u001b[0;34m,\u001b[0m \u001b[0mcopy\u001b[0m\u001b[0;34m=\u001b[0m\u001b[0;32mFalse\u001b[0m\u001b[0;34m)\u001b[0m\u001b[0;34m\u001b[0m\u001b[0;34m\u001b[0m\u001b[0m\n\u001b[1;32m   1900\u001b[0m \u001b[0;34m\u001b[0m\u001b[0m\n",
            "\u001b[0;32m/usr/local/lib/python3.7/dist-packages/sklearn/feature_extraction/text.py\u001b[0m in \u001b[0;36mtransform\u001b[0;34m(self, raw_documents)\u001b[0m\n\u001b[1;32m   1263\u001b[0m         \u001b[0;32mif\u001b[0m \u001b[0misinstance\u001b[0m\u001b[0;34m(\u001b[0m\u001b[0mraw_documents\u001b[0m\u001b[0;34m,\u001b[0m \u001b[0mstr\u001b[0m\u001b[0;34m)\u001b[0m\u001b[0;34m:\u001b[0m\u001b[0;34m\u001b[0m\u001b[0;34m\u001b[0m\u001b[0m\n\u001b[1;32m   1264\u001b[0m             raise ValueError(\n\u001b[0;32m-> 1265\u001b[0;31m                 \u001b[0;34m\"Iterable over raw text documents expected, \"\u001b[0m\u001b[0;34m\u001b[0m\u001b[0;34m\u001b[0m\u001b[0m\n\u001b[0m\u001b[1;32m   1266\u001b[0m                 \"string object received.\")\n\u001b[1;32m   1267\u001b[0m         \u001b[0mself\u001b[0m\u001b[0;34m.\u001b[0m\u001b[0m_check_vocabulary\u001b[0m\u001b[0;34m(\u001b[0m\u001b[0;34m)\u001b[0m\u001b[0;34m\u001b[0m\u001b[0;34m\u001b[0m\u001b[0m\n",
            "\u001b[0;31mValueError\u001b[0m: Iterable over raw text documents expected, string object received."
          ]
        }
      ]
    },
    {
      "cell_type": "code",
      "metadata": {
        "colab": {
          "base_uri": "https://localhost:8080/",
          "height": 86
        },
        "id": "Gt72BzcFVqTd",
        "outputId": "82db854e-d734-4bd7-cf44-6b08f5b168cd"
      },
      "source": [
        ""
      ],
      "execution_count": null,
      "outputs": [
        {
          "output_type": "execute_result",
          "data": {
            "application/vnd.google.colaboratory.intrinsic+json": {
              "type": "string"
            },
            "text/plain": [
              "'From: johnchad@triton.unm.edu (jchadwic)\\nSubject: Another request for Darwin Fish\\nOrganization: University of New Mexico, Albuquerque\\nLines: 11\\nNNTP-Posting-Host: triton.unm.edu\\n\\nHello Gang,\\n\\nThere have been some notes recently asking where to obtain the DARWIN fish.\\nThis is the same question I have and I have not seen an answer on the\\nnet. If anyone has a contact please post on the net or email me.\\n\\nThanks,\\n\\njohn chadwick\\njohnchad@triton.unm.edu\\nor\\n'"
            ]
          },
          "metadata": {
            "tags": []
          },
          "execution_count": 194
        }
      ]
    },
    {
      "cell_type": "code",
      "metadata": {
        "colab": {
          "base_uri": "https://localhost:8080/",
          "height": 307
        },
        "id": "F1m8e7CZWfV5",
        "outputId": "825de590-60f7-4b0b-907e-5b702074730a"
      },
      "source": [
        "apple_pipe.predict_proba([y_test[idx]])"
      ],
      "execution_count": null,
      "outputs": [
        {
          "output_type": "error",
          "ename": "AttributeError",
          "evalue": "ignored",
          "traceback": [
            "\u001b[0;31m---------------------------------------------------------------------------\u001b[0m",
            "\u001b[0;31mAttributeError\u001b[0m                            Traceback (most recent call last)",
            "\u001b[0;32m<ipython-input-214-dbb0e6bb4983>\u001b[0m in \u001b[0;36m<module>\u001b[0;34m()\u001b[0m\n\u001b[0;32m----> 1\u001b[0;31m \u001b[0mapple_pipe\u001b[0m\u001b[0;34m.\u001b[0m\u001b[0mpredict_proba\u001b[0m\u001b[0;34m(\u001b[0m\u001b[0;34m[\u001b[0m\u001b[0my_test\u001b[0m\u001b[0;34m[\u001b[0m\u001b[0midx\u001b[0m\u001b[0;34m]\u001b[0m\u001b[0;34m]\u001b[0m\u001b[0;34m)\u001b[0m\u001b[0;34m\u001b[0m\u001b[0;34m\u001b[0m\u001b[0m\n\u001b[0m",
            "\u001b[0;32m/usr/local/lib/python3.7/dist-packages/sklearn/utils/metaestimators.py\u001b[0m in \u001b[0;36m<lambda>\u001b[0;34m(*args, **kwargs)\u001b[0m\n\u001b[1;32m    114\u001b[0m \u001b[0;34m\u001b[0m\u001b[0m\n\u001b[1;32m    115\u001b[0m         \u001b[0;31m# lambda, but not partial, allows help() to work with update_wrapper\u001b[0m\u001b[0;34m\u001b[0m\u001b[0;34m\u001b[0m\u001b[0;34m\u001b[0m\u001b[0m\n\u001b[0;32m--> 116\u001b[0;31m         \u001b[0mout\u001b[0m \u001b[0;34m=\u001b[0m \u001b[0;32mlambda\u001b[0m \u001b[0;34m*\u001b[0m\u001b[0margs\u001b[0m\u001b[0;34m,\u001b[0m \u001b[0;34m**\u001b[0m\u001b[0mkwargs\u001b[0m\u001b[0;34m:\u001b[0m \u001b[0mself\u001b[0m\u001b[0;34m.\u001b[0m\u001b[0mfn\u001b[0m\u001b[0;34m(\u001b[0m\u001b[0mobj\u001b[0m\u001b[0;34m,\u001b[0m \u001b[0;34m*\u001b[0m\u001b[0margs\u001b[0m\u001b[0;34m,\u001b[0m \u001b[0;34m**\u001b[0m\u001b[0mkwargs\u001b[0m\u001b[0;34m)\u001b[0m\u001b[0;34m\u001b[0m\u001b[0;34m\u001b[0m\u001b[0m\n\u001b[0m\u001b[1;32m    117\u001b[0m         \u001b[0;31m# update the docstring of the returned function\u001b[0m\u001b[0;34m\u001b[0m\u001b[0;34m\u001b[0m\u001b[0;34m\u001b[0m\u001b[0m\n\u001b[1;32m    118\u001b[0m         \u001b[0mupdate_wrapper\u001b[0m\u001b[0;34m(\u001b[0m\u001b[0mout\u001b[0m\u001b[0;34m,\u001b[0m \u001b[0mself\u001b[0m\u001b[0;34m.\u001b[0m\u001b[0mfn\u001b[0m\u001b[0;34m)\u001b[0m\u001b[0;34m\u001b[0m\u001b[0;34m\u001b[0m\u001b[0m\n",
            "\u001b[0;32m/usr/local/lib/python3.7/dist-packages/sklearn/model_selection/_search.py\u001b[0m in \u001b[0;36mpredict_proba\u001b[0;34m(self, X)\u001b[0m\n\u001b[1;32m    492\u001b[0m         \"\"\"\n\u001b[1;32m    493\u001b[0m         \u001b[0mself\u001b[0m\u001b[0;34m.\u001b[0m\u001b[0m_check_is_fitted\u001b[0m\u001b[0;34m(\u001b[0m\u001b[0;34m'predict_proba'\u001b[0m\u001b[0;34m)\u001b[0m\u001b[0;34m\u001b[0m\u001b[0;34m\u001b[0m\u001b[0m\n\u001b[0;32m--> 494\u001b[0;31m         \u001b[0;32mreturn\u001b[0m \u001b[0mself\u001b[0m\u001b[0;34m.\u001b[0m\u001b[0mbest_estimator_\u001b[0m\u001b[0;34m.\u001b[0m\u001b[0mpredict_proba\u001b[0m\u001b[0;34m(\u001b[0m\u001b[0mX\u001b[0m\u001b[0;34m)\u001b[0m\u001b[0;34m\u001b[0m\u001b[0;34m\u001b[0m\u001b[0m\n\u001b[0m\u001b[1;32m    495\u001b[0m \u001b[0;34m\u001b[0m\u001b[0m\n\u001b[1;32m    496\u001b[0m     \u001b[0;34m@\u001b[0m\u001b[0mif_delegate_has_method\u001b[0m\u001b[0;34m(\u001b[0m\u001b[0mdelegate\u001b[0m\u001b[0;34m=\u001b[0m\u001b[0;34m(\u001b[0m\u001b[0;34m'best_estimator_'\u001b[0m\u001b[0;34m,\u001b[0m \u001b[0;34m'estimator'\u001b[0m\u001b[0;34m)\u001b[0m\u001b[0;34m)\u001b[0m\u001b[0;34m\u001b[0m\u001b[0;34m\u001b[0m\u001b[0m\n",
            "\u001b[0;32m/usr/local/lib/python3.7/dist-packages/sklearn/utils/metaestimators.py\u001b[0m in \u001b[0;36m<lambda>\u001b[0;34m(*args, **kwargs)\u001b[0m\n\u001b[1;32m    114\u001b[0m \u001b[0;34m\u001b[0m\u001b[0m\n\u001b[1;32m    115\u001b[0m         \u001b[0;31m# lambda, but not partial, allows help() to work with update_wrapper\u001b[0m\u001b[0;34m\u001b[0m\u001b[0;34m\u001b[0m\u001b[0;34m\u001b[0m\u001b[0m\n\u001b[0;32m--> 116\u001b[0;31m         \u001b[0mout\u001b[0m \u001b[0;34m=\u001b[0m \u001b[0;32mlambda\u001b[0m \u001b[0;34m*\u001b[0m\u001b[0margs\u001b[0m\u001b[0;34m,\u001b[0m \u001b[0;34m**\u001b[0m\u001b[0mkwargs\u001b[0m\u001b[0;34m:\u001b[0m \u001b[0mself\u001b[0m\u001b[0;34m.\u001b[0m\u001b[0mfn\u001b[0m\u001b[0;34m(\u001b[0m\u001b[0mobj\u001b[0m\u001b[0;34m,\u001b[0m \u001b[0;34m*\u001b[0m\u001b[0margs\u001b[0m\u001b[0;34m,\u001b[0m \u001b[0;34m**\u001b[0m\u001b[0mkwargs\u001b[0m\u001b[0;34m)\u001b[0m\u001b[0;34m\u001b[0m\u001b[0;34m\u001b[0m\u001b[0m\n\u001b[0m\u001b[1;32m    117\u001b[0m         \u001b[0;31m# update the docstring of the returned function\u001b[0m\u001b[0;34m\u001b[0m\u001b[0;34m\u001b[0m\u001b[0;34m\u001b[0m\u001b[0m\n\u001b[1;32m    118\u001b[0m         \u001b[0mupdate_wrapper\u001b[0m\u001b[0;34m(\u001b[0m\u001b[0mout\u001b[0m\u001b[0;34m,\u001b[0m \u001b[0mself\u001b[0m\u001b[0;34m.\u001b[0m\u001b[0mfn\u001b[0m\u001b[0;34m)\u001b[0m\u001b[0;34m\u001b[0m\u001b[0;34m\u001b[0m\u001b[0m\n",
            "\u001b[0;32m/usr/local/lib/python3.7/dist-packages/sklearn/pipeline.py\u001b[0m in \u001b[0;36mpredict_proba\u001b[0;34m(self, X)\u001b[0m\n\u001b[1;32m    469\u001b[0m         \u001b[0mXt\u001b[0m \u001b[0;34m=\u001b[0m \u001b[0mX\u001b[0m\u001b[0;34m\u001b[0m\u001b[0;34m\u001b[0m\u001b[0m\n\u001b[1;32m    470\u001b[0m         \u001b[0;32mfor\u001b[0m \u001b[0m_\u001b[0m\u001b[0;34m,\u001b[0m \u001b[0mname\u001b[0m\u001b[0;34m,\u001b[0m \u001b[0mtransform\u001b[0m \u001b[0;32min\u001b[0m \u001b[0mself\u001b[0m\u001b[0;34m.\u001b[0m\u001b[0m_iter\u001b[0m\u001b[0;34m(\u001b[0m\u001b[0mwith_final\u001b[0m\u001b[0;34m=\u001b[0m\u001b[0;32mFalse\u001b[0m\u001b[0;34m)\u001b[0m\u001b[0;34m:\u001b[0m\u001b[0;34m\u001b[0m\u001b[0;34m\u001b[0m\u001b[0m\n\u001b[0;32m--> 471\u001b[0;31m             \u001b[0mXt\u001b[0m \u001b[0;34m=\u001b[0m \u001b[0mtransform\u001b[0m\u001b[0;34m.\u001b[0m\u001b[0mtransform\u001b[0m\u001b[0;34m(\u001b[0m\u001b[0mXt\u001b[0m\u001b[0;34m)\u001b[0m\u001b[0;34m\u001b[0m\u001b[0;34m\u001b[0m\u001b[0m\n\u001b[0m\u001b[1;32m    472\u001b[0m         \u001b[0;32mreturn\u001b[0m \u001b[0mself\u001b[0m\u001b[0;34m.\u001b[0m\u001b[0msteps\u001b[0m\u001b[0;34m[\u001b[0m\u001b[0;34m-\u001b[0m\u001b[0;36m1\u001b[0m\u001b[0;34m]\u001b[0m\u001b[0;34m[\u001b[0m\u001b[0;34m-\u001b[0m\u001b[0;36m1\u001b[0m\u001b[0;34m]\u001b[0m\u001b[0;34m.\u001b[0m\u001b[0mpredict_proba\u001b[0m\u001b[0;34m(\u001b[0m\u001b[0mXt\u001b[0m\u001b[0;34m)\u001b[0m\u001b[0;34m\u001b[0m\u001b[0;34m\u001b[0m\u001b[0m\n\u001b[1;32m    473\u001b[0m \u001b[0;34m\u001b[0m\u001b[0m\n",
            "\u001b[0;32m/usr/local/lib/python3.7/dist-packages/sklearn/pipeline.py\u001b[0m in \u001b[0;36m_transform\u001b[0;34m(self, X)\u001b[0m\n\u001b[1;32m    555\u001b[0m         \u001b[0mXt\u001b[0m \u001b[0;34m=\u001b[0m \u001b[0mX\u001b[0m\u001b[0;34m\u001b[0m\u001b[0;34m\u001b[0m\u001b[0m\n\u001b[1;32m    556\u001b[0m         \u001b[0;32mfor\u001b[0m \u001b[0m_\u001b[0m\u001b[0;34m,\u001b[0m \u001b[0m_\u001b[0m\u001b[0;34m,\u001b[0m \u001b[0mtransform\u001b[0m \u001b[0;32min\u001b[0m \u001b[0mself\u001b[0m\u001b[0;34m.\u001b[0m\u001b[0m_iter\u001b[0m\u001b[0;34m(\u001b[0m\u001b[0;34m)\u001b[0m\u001b[0;34m:\u001b[0m\u001b[0;34m\u001b[0m\u001b[0;34m\u001b[0m\u001b[0m\n\u001b[0;32m--> 557\u001b[0;31m             \u001b[0mXt\u001b[0m \u001b[0;34m=\u001b[0m \u001b[0mtransform\u001b[0m\u001b[0;34m.\u001b[0m\u001b[0mtransform\u001b[0m\u001b[0;34m(\u001b[0m\u001b[0mXt\u001b[0m\u001b[0;34m)\u001b[0m\u001b[0;34m\u001b[0m\u001b[0;34m\u001b[0m\u001b[0m\n\u001b[0m\u001b[1;32m    558\u001b[0m         \u001b[0;32mreturn\u001b[0m \u001b[0mXt\u001b[0m\u001b[0;34m\u001b[0m\u001b[0;34m\u001b[0m\u001b[0m\n\u001b[1;32m    559\u001b[0m \u001b[0;34m\u001b[0m\u001b[0m\n",
            "\u001b[0;32m/usr/local/lib/python3.7/dist-packages/sklearn/feature_extraction/text.py\u001b[0m in \u001b[0;36mtransform\u001b[0;34m(self, raw_documents, copy)\u001b[0m\n\u001b[1;32m   1896\u001b[0m                    \"be removed in 0.24.\")\n\u001b[1;32m   1897\u001b[0m             \u001b[0mwarnings\u001b[0m\u001b[0;34m.\u001b[0m\u001b[0mwarn\u001b[0m\u001b[0;34m(\u001b[0m\u001b[0mmsg\u001b[0m\u001b[0;34m,\u001b[0m \u001b[0mFutureWarning\u001b[0m\u001b[0;34m)\u001b[0m\u001b[0;34m\u001b[0m\u001b[0;34m\u001b[0m\u001b[0m\n\u001b[0;32m-> 1898\u001b[0;31m         \u001b[0mX\u001b[0m \u001b[0;34m=\u001b[0m \u001b[0msuper\u001b[0m\u001b[0;34m(\u001b[0m\u001b[0;34m)\u001b[0m\u001b[0;34m.\u001b[0m\u001b[0mtransform\u001b[0m\u001b[0;34m(\u001b[0m\u001b[0mraw_documents\u001b[0m\u001b[0;34m)\u001b[0m\u001b[0;34m\u001b[0m\u001b[0;34m\u001b[0m\u001b[0m\n\u001b[0m\u001b[1;32m   1899\u001b[0m         \u001b[0;32mreturn\u001b[0m \u001b[0mself\u001b[0m\u001b[0;34m.\u001b[0m\u001b[0m_tfidf\u001b[0m\u001b[0;34m.\u001b[0m\u001b[0mtransform\u001b[0m\u001b[0;34m(\u001b[0m\u001b[0mX\u001b[0m\u001b[0;34m,\u001b[0m \u001b[0mcopy\u001b[0m\u001b[0;34m=\u001b[0m\u001b[0;32mFalse\u001b[0m\u001b[0;34m)\u001b[0m\u001b[0;34m\u001b[0m\u001b[0;34m\u001b[0m\u001b[0m\n\u001b[1;32m   1900\u001b[0m \u001b[0;34m\u001b[0m\u001b[0m\n",
            "\u001b[0;32m/usr/local/lib/python3.7/dist-packages/sklearn/feature_extraction/text.py\u001b[0m in \u001b[0;36mtransform\u001b[0;34m(self, raw_documents)\u001b[0m\n\u001b[1;32m   1268\u001b[0m \u001b[0;34m\u001b[0m\u001b[0m\n\u001b[1;32m   1269\u001b[0m         \u001b[0;31m# use the same matrix-building strategy as fit_transform\u001b[0m\u001b[0;34m\u001b[0m\u001b[0;34m\u001b[0m\u001b[0;34m\u001b[0m\u001b[0m\n\u001b[0;32m-> 1270\u001b[0;31m         \u001b[0m_\u001b[0m\u001b[0;34m,\u001b[0m \u001b[0mX\u001b[0m \u001b[0;34m=\u001b[0m \u001b[0mself\u001b[0m\u001b[0;34m.\u001b[0m\u001b[0m_count_vocab\u001b[0m\u001b[0;34m(\u001b[0m\u001b[0mraw_documents\u001b[0m\u001b[0;34m,\u001b[0m \u001b[0mfixed_vocab\u001b[0m\u001b[0;34m=\u001b[0m\u001b[0;32mTrue\u001b[0m\u001b[0;34m)\u001b[0m\u001b[0;34m\u001b[0m\u001b[0;34m\u001b[0m\u001b[0m\n\u001b[0m\u001b[1;32m   1271\u001b[0m         \u001b[0;32mif\u001b[0m \u001b[0mself\u001b[0m\u001b[0;34m.\u001b[0m\u001b[0mbinary\u001b[0m\u001b[0;34m:\u001b[0m\u001b[0;34m\u001b[0m\u001b[0;34m\u001b[0m\u001b[0m\n\u001b[1;32m   1272\u001b[0m             \u001b[0mX\u001b[0m\u001b[0;34m.\u001b[0m\u001b[0mdata\u001b[0m\u001b[0;34m.\u001b[0m\u001b[0mfill\u001b[0m\u001b[0;34m(\u001b[0m\u001b[0;36m1\u001b[0m\u001b[0;34m)\u001b[0m\u001b[0;34m\u001b[0m\u001b[0;34m\u001b[0m\u001b[0m\n",
            "\u001b[0;32m/usr/local/lib/python3.7/dist-packages/sklearn/feature_extraction/text.py\u001b[0m in \u001b[0;36m_count_vocab\u001b[0;34m(self, raw_documents, fixed_vocab)\u001b[0m\n\u001b[1;32m   1129\u001b[0m         \u001b[0;32mfor\u001b[0m \u001b[0mdoc\u001b[0m \u001b[0;32min\u001b[0m \u001b[0mraw_documents\u001b[0m\u001b[0;34m:\u001b[0m\u001b[0;34m\u001b[0m\u001b[0;34m\u001b[0m\u001b[0m\n\u001b[1;32m   1130\u001b[0m             \u001b[0mfeature_counter\u001b[0m \u001b[0;34m=\u001b[0m \u001b[0;34m{\u001b[0m\u001b[0;34m}\u001b[0m\u001b[0;34m\u001b[0m\u001b[0;34m\u001b[0m\u001b[0m\n\u001b[0;32m-> 1131\u001b[0;31m             \u001b[0;32mfor\u001b[0m \u001b[0mfeature\u001b[0m \u001b[0;32min\u001b[0m \u001b[0manalyze\u001b[0m\u001b[0;34m(\u001b[0m\u001b[0mdoc\u001b[0m\u001b[0;34m)\u001b[0m\u001b[0;34m:\u001b[0m\u001b[0;34m\u001b[0m\u001b[0;34m\u001b[0m\u001b[0m\n\u001b[0m\u001b[1;32m   1132\u001b[0m                 \u001b[0;32mtry\u001b[0m\u001b[0;34m:\u001b[0m\u001b[0;34m\u001b[0m\u001b[0;34m\u001b[0m\u001b[0m\n\u001b[1;32m   1133\u001b[0m                     \u001b[0mfeature_idx\u001b[0m \u001b[0;34m=\u001b[0m \u001b[0mvocabulary\u001b[0m\u001b[0;34m[\u001b[0m\u001b[0mfeature\u001b[0m\u001b[0;34m]\u001b[0m\u001b[0;34m\u001b[0m\u001b[0;34m\u001b[0m\u001b[0m\n",
            "\u001b[0;32m/usr/local/lib/python3.7/dist-packages/sklearn/feature_extraction/text.py\u001b[0m in \u001b[0;36m_analyze\u001b[0;34m(doc, analyzer, tokenizer, ngrams, preprocessor, decoder, stop_words)\u001b[0m\n\u001b[1;32m    101\u001b[0m     \u001b[0;32melse\u001b[0m\u001b[0;34m:\u001b[0m\u001b[0;34m\u001b[0m\u001b[0;34m\u001b[0m\u001b[0m\n\u001b[1;32m    102\u001b[0m         \u001b[0;32mif\u001b[0m \u001b[0mpreprocessor\u001b[0m \u001b[0;32mis\u001b[0m \u001b[0;32mnot\u001b[0m \u001b[0;32mNone\u001b[0m\u001b[0;34m:\u001b[0m\u001b[0;34m\u001b[0m\u001b[0;34m\u001b[0m\u001b[0m\n\u001b[0;32m--> 103\u001b[0;31m             \u001b[0mdoc\u001b[0m \u001b[0;34m=\u001b[0m \u001b[0mpreprocessor\u001b[0m\u001b[0;34m(\u001b[0m\u001b[0mdoc\u001b[0m\u001b[0;34m)\u001b[0m\u001b[0;34m\u001b[0m\u001b[0;34m\u001b[0m\u001b[0m\n\u001b[0m\u001b[1;32m    104\u001b[0m         \u001b[0;32mif\u001b[0m \u001b[0mtokenizer\u001b[0m \u001b[0;32mis\u001b[0m \u001b[0;32mnot\u001b[0m \u001b[0;32mNone\u001b[0m\u001b[0;34m:\u001b[0m\u001b[0;34m\u001b[0m\u001b[0;34m\u001b[0m\u001b[0m\n\u001b[1;32m    105\u001b[0m             \u001b[0mdoc\u001b[0m \u001b[0;34m=\u001b[0m \u001b[0mtokenizer\u001b[0m\u001b[0;34m(\u001b[0m\u001b[0mdoc\u001b[0m\u001b[0;34m)\u001b[0m\u001b[0;34m\u001b[0m\u001b[0;34m\u001b[0m\u001b[0m\n",
            "\u001b[0;32m/usr/local/lib/python3.7/dist-packages/sklearn/feature_extraction/text.py\u001b[0m in \u001b[0;36m_preprocess\u001b[0;34m(doc, accent_function, lower)\u001b[0m\n\u001b[1;32m     66\u001b[0m     \"\"\"\n\u001b[1;32m     67\u001b[0m     \u001b[0;32mif\u001b[0m \u001b[0mlower\u001b[0m\u001b[0;34m:\u001b[0m\u001b[0;34m\u001b[0m\u001b[0;34m\u001b[0m\u001b[0m\n\u001b[0;32m---> 68\u001b[0;31m         \u001b[0mdoc\u001b[0m \u001b[0;34m=\u001b[0m \u001b[0mdoc\u001b[0m\u001b[0;34m.\u001b[0m\u001b[0mlower\u001b[0m\u001b[0;34m(\u001b[0m\u001b[0;34m)\u001b[0m\u001b[0;34m\u001b[0m\u001b[0;34m\u001b[0m\u001b[0m\n\u001b[0m\u001b[1;32m     69\u001b[0m     \u001b[0;32mif\u001b[0m \u001b[0maccent_function\u001b[0m \u001b[0;32mis\u001b[0m \u001b[0;32mnot\u001b[0m \u001b[0;32mNone\u001b[0m\u001b[0;34m:\u001b[0m\u001b[0;34m\u001b[0m\u001b[0;34m\u001b[0m\u001b[0m\n\u001b[1;32m     70\u001b[0m         \u001b[0mdoc\u001b[0m \u001b[0;34m=\u001b[0m \u001b[0maccent_function\u001b[0m\u001b[0;34m(\u001b[0m\u001b[0mdoc\u001b[0m\u001b[0;34m)\u001b[0m\u001b[0;34m\u001b[0m\u001b[0;34m\u001b[0m\u001b[0m\n",
            "\u001b[0;31mAttributeError\u001b[0m: 'numpy.int64' object has no attribute 'lower'"
          ]
        }
      ]
    },
    {
      "cell_type": "code",
      "metadata": {
        "colab": {
          "base_uri": "https://localhost:8080/"
        },
        "id": "qDlO9DORZZ5N",
        "outputId": "a877d766-8ca7-4fb2-ceee-c6e50c1fd0b8"
      },
      "source": [
        "y_test.isna().sum()"
      ],
      "execution_count": null,
      "outputs": [
        {
          "output_type": "execute_result",
          "data": {
            "text/plain": [
              "0"
            ]
          },
          "metadata": {
            "tags": []
          },
          "execution_count": 216
        }
      ]
    },
    {
      "cell_type": "code",
      "metadata": {
        "id": "Q2yZLmWzZbWW"
      },
      "source": [
        ""
      ],
      "execution_count": null,
      "outputs": []
    },
    {
      "cell_type": "markdown",
      "metadata": {
        "id": "O9e0lawjYzCI"
      },
      "source": [
        "# Prep Data for Feature importance\n",
        "- Potentially create a DataFrame with all this data"
      ]
    },
    {
      "cell_type": "markdown",
      "metadata": {
        "id": "0hwhUAWoZDeJ"
      },
      "source": [
        "## APPLE DATA"
      ]
    },
    {
      "cell_type": "code",
      "metadata": {
        "id": "4RLjNtva3FdW"
      },
      "source": [
        "from sklearn.pipeline import Pipeline\n",
        "from sklearn.feature_extraction.text import CountVectorizer\n",
        "from sklearn.model_selection import GridSearchCV\n",
        "\n",
        "full_pipe = Pipeline([('text_pipe',text_pipe),\n",
        "                     ('clf',RandomForestClassifier(class_weight='balanced', n_jobs=-1))])"
      ],
      "execution_count": null,
      "outputs": []
    },
    {
      "cell_type": "code",
      "metadata": {
        "id": "uKNQ8yB8ZBfb"
      },
      "source": [
        "params = {\n",
        "         'text_pipe__use_idf':[True],\n",
        "         'text_pipe__stop_words':[stopwords_list, 'english'],\n",
        "         'text_pipe__ngram_range': [(1, 2), (1,1)], #make change to ngram\n",
        "         'text_pipe__max_df':[1.0,0.99],\n",
        "         'text_pipe__min_df':[0.01, 0.03],\n",
        "         'text_pipe__norm':['l2','l1'],\n",
        "         'clf__criterion':['gini','entropy'],\n",
        "         'clf__max_depth':[None, 100, 200],\n",
        "         'clf__min_samples_leaf': [1,5]\n",
        "         }\n",
        "\n",
        "## Make and fit grid\n",
        "apple1 = GridSearchCV(full_pipe,\n",
        "                   params, cv=3, scoring='accuracy',n_jobs=-1,verbose=2)\n",
        "apple1.fit(X_train,y_train)\n"
      ],
      "execution_count": null,
      "outputs": []
    },
    {
      "cell_type": "code",
      "metadata": {
        "colab": {
          "base_uri": "https://localhost:8080/"
        },
        "id": "6xBZK-aE7jhJ",
        "outputId": "47ea7bc3-8a4b-4d13-dd8e-1c5838dd3b00"
      },
      "source": [
        "## Save best estimator\n",
        "apple1_bp = apple1.best_estimator_\n",
        "import joblib\n",
        "joblib.dump(apple1_bp, '/content/drive/MyDrive/Colab Notebooks/Data/apple1_bp.pkl')"
      ],
      "execution_count": null,
      "outputs": [
        {
          "output_type": "execute_result",
          "data": {
            "text/plain": [
              "['/content/drive/MyDrive/Colab Notebooks/Data/apple1_bp.pkl']"
            ]
          },
          "metadata": {
            "tags": []
          },
          "execution_count": 155
        }
      ]
    },
    {
      "cell_type": "code",
      "metadata": {
        "id": "Lvt18IrSCoea"
      },
      "source": [
        "app = joblib.load(\"/content/drive/MyDrive/Colab Notebooks/Data/apple1_bp.pkl\")"
      ],
      "execution_count": null,
      "outputs": []
    },
    {
      "cell_type": "code",
      "metadata": {
        "colab": {
          "base_uri": "https://localhost:8080/"
        },
        "id": "2G-VIyJK3zDR",
        "outputId": "fc0ff095-0946-4dea-dd95-ec440c4a14f8"
      },
      "source": [
        ""
      ],
      "execution_count": null,
      "outputs": [
        {
          "output_type": "execute_result",
          "data": {
            "text/plain": [
              "RandomForestClassifier(bootstrap=True, ccp_alpha=0.0, class_weight='balanced',\n",
              "                       criterion='gini', max_depth=200, max_features='auto',\n",
              "                       max_leaf_nodes=None, max_samples=None,\n",
              "                       min_impurity_decrease=0.0, min_impurity_split=None,\n",
              "                       min_samples_leaf=1, min_samples_split=2,\n",
              "                       min_weight_fraction_leaf=0.0, n_estimators=100,\n",
              "                       n_jobs=-1, oob_score=False, random_state=None, verbose=0,\n",
              "                       warm_start=False)"
            ]
          },
          "metadata": {
            "tags": []
          },
          "execution_count": 125
        }
      ]
    },
    {
      "cell_type": "code",
      "metadata": {
        "id": "ikAO8R6w7IBy"
      },
      "source": [
        "text = app.best_estimator_.named_steps['text_pipe']"
      ],
      "execution_count": null,
      "outputs": []
    },
    {
      "cell_type": "code",
      "metadata": {
        "id": "1HVbY1QqAbl6"
      },
      "source": [
        "text_pipe.stop_words"
      ],
      "execution_count": null,
      "outputs": []
    },
    {
      "cell_type": "code",
      "metadata": {
        "id": "pZwPadvG7H4D"
      },
      "source": [
        "fi = grid4.best_estimator_\n",
        "fi.named_steps['clf'].feature_importances_"
      ],
      "execution_count": null,
      "outputs": []
    },
    {
      "cell_type": "code",
      "metadata": {
        "id": "VdjzaE-OZnrI"
      },
      "source": [
        "apple1_clf, apple1_vect, X_train_apple1, X_test_apple1 = create_vars(app,X_train, y_train)"
      ],
      "execution_count": null,
      "outputs": []
    },
    {
      "cell_type": "code",
      "metadata": {
        "id": "t0QSFR84ZnoH",
        "colab": {
          "base_uri": "https://localhost:8080/",
          "height": 656
        },
        "outputId": "41450d7c-0e4f-41aa-8f76-3184eb6f9794"
      },
      "source": [
        "evaluate_model(apple1_clf, X_train_apple1, X_test_apple1, y_train, y_test)"
      ],
      "execution_count": null,
      "outputs": [
        {
          "output_type": "stream",
          "text": [
            "********************CLASSIFICATION REPORT - TRAIN *************************\n",
            "              precision    recall  f1-score   support\n",
            "\n",
            "          -1       0.98      1.00      0.99       263\n",
            "           0       1.00      1.00      1.00       530\n",
            "           1       1.00      1.00      1.00       878\n",
            "\n",
            "    accuracy                           1.00      1671\n",
            "   macro avg       0.99      1.00      1.00      1671\n",
            "weighted avg       1.00      1.00      1.00      1671\n",
            "\n",
            "********************CLASSIFICATION REPORT - TEST *************************\n",
            "              precision    recall  f1-score   support\n",
            "\n",
            "          -1       0.33      0.26      0.29        99\n",
            "           0       0.52      0.45      0.48       235\n",
            "           1       0.68      0.77      0.72       383\n",
            "\n",
            "    accuracy                           0.60       717\n",
            "   macro avg       0.51      0.49      0.50       717\n",
            "weighted avg       0.58      0.60      0.58       717\n",
            "\n",
            "*********************************************************************\n"
          ],
          "name": "stdout"
        },
        {
          "output_type": "display_data",
          "data": {
            "image/png": "[encoded data removed]",
            "text/plain": [
              "<Figure size 432x288 with 2 Axes>"
            ]
          },
          "metadata": {
            "tags": [],
            "needs_background": "light"
          }
        }
      ]
    },
    {
      "cell_type": "code",
      "metadata": {
        "id": "s8p5VnBWZnlf",
        "colab": {
          "base_uri": "https://localhost:8080/",
          "height": 265
        },
        "outputId": "a4c2abee-b02c-4901-8dab-a5731e7a3469"
      },
      "source": [
        "apple1_fi = create_feature_importance(apple1_clf, apple1_vect, 'apple')"
      ],
      "execution_count": null,
      "outputs": [
        {
          "output_type": "display_data",
          "data": {
            "image/png": "[encoded data removed]",
            "text/plain": [
              "<Figure size 432x288 with 1 Axes>"
            ]
          },
          "metadata": {
            "tags": [],
            "needs_background": "light"
          }
        }
      ]
    },
    {
      "cell_type": "markdown",
      "metadata": {
        "id": "MtVDxryjE5Ka"
      },
      "source": [
        "Apple Week 2"
      ]
    },
    {
      "cell_type": "code",
      "metadata": {
        "id": "10Up3UuwE8Ge"
      },
      "source": [
        "apple2 = pd.read_csv('/content/drive/MyDrive/Colab Notebooks/Data/crisp_data/df_etl_apple2.csv')"
      ],
      "execution_count": null,
      "outputs": []
    },
    {
      "cell_type": "code",
      "metadata": {
        "colab": {
          "base_uri": "https://localhost:8080/",
          "height": 383
        },
        "id": "VrqoBEnAE8Eh",
        "outputId": "4c2f1768-a8da-47a2-e3fb-79a7afcc7524"
      },
      "source": [
        "apple2.head(3)"
      ],
      "execution_count": null,
      "outputs": [
        {
          "output_type": "execute_result",
          "data": {
            "text/html": [
              "<div>\n",
              "<style scoped>\n",
              "    .dataframe tbody tr th:only-of-type {\n",
              "        vertical-align: middle;\n",
              "    }\n",
              "\n",
              "    .dataframe tbody tr th {\n",
              "        vertical-align: top;\n",
              "    }\n",
              "\n",
              "    .dataframe thead th {\n",
              "        text-align: right;\n",
              "    }\n",
              "</style>\n",
              "<table border=\"1\" class=\"dataframe\">\n",
              "  <thead>\n",
              "    <tr style=\"text-align: right;\">\n",
              "      <th></th>\n",
              "      <th>publishedAt</th>\n",
              "      <th>title</th>\n",
              "      <th>description</th>\n",
              "      <th>content</th>\n",
              "      <th>results</th>\n",
              "      <th>source2</th>\n",
              "      <th>hour</th>\n",
              "      <th>day</th>\n",
              "      <th>cont_joined</th>\n",
              "      <th>neg</th>\n",
              "      <th>neu</th>\n",
              "      <th>pos</th>\n",
              "      <th>comp</th>\n",
              "      <th>blob</th>\n",
              "      <th>comp_abs</th>\n",
              "      <th>blob_abs</th>\n",
              "      <th>c_b</th>\n",
              "      <th>Sentiment</th>\n",
              "    </tr>\n",
              "  </thead>\n",
              "  <tbody>\n",
              "    <tr>\n",
              "      <th>0</th>\n",
              "      <td>2021-06-21 09:00:01-04:00</td>\n",
              "      <td>watchOS 8: Everything you want to know about t...</td>\n",
              "      <td>Table of contents&lt;ol&gt;&lt;li&gt;watchOS 8: A summary&lt;...</td>\n",
              "      <td>Table of contents&lt;ol&gt;&lt;li&gt;watchOS 8: A summary&lt;...</td>\n",
              "      <td>130.0</td>\n",
              "      <td>Nextpit</td>\n",
              "      <td>9.0</td>\n",
              "      <td>21.0</td>\n",
              "      <td>watchOS 8: Everything you want to know about t...</td>\n",
              "      <td>0.0</td>\n",
              "      <td>0.963</td>\n",
              "      <td>0.037</td>\n",
              "      <td>0.0772</td>\n",
              "      <td>0.136364</td>\n",
              "      <td>0</td>\n",
              "      <td>0</td>\n",
              "      <td>-0.059164</td>\n",
              "      <td>0</td>\n",
              "    </tr>\n",
              "    <tr>\n",
              "      <th>1</th>\n",
              "      <td>2021-06-21 09:00:25-04:00</td>\n",
              "      <td>Used Apple iPhone 8 Plus 64GB GSM Smartphone f...</td>\n",
              "      <td>Connecting you to your offer...If you don't ar...</td>\n",
              "      <td>Connecting you to your offer...If you don't ar...</td>\n",
              "      <td>130.0</td>\n",
              "      <td>TechRepublic</td>\n",
              "      <td>9.0</td>\n",
              "      <td>21.0</td>\n",
              "      <td>Used Apple iPhone 8 Plus 64GB GSM Smartphone f...</td>\n",
              "      <td>0.0</td>\n",
              "      <td>0.804</td>\n",
              "      <td>0.196</td>\n",
              "      <td>0.6808</td>\n",
              "      <td>0.100000</td>\n",
              "      <td>1</td>\n",
              "      <td>0</td>\n",
              "      <td>0.580800</td>\n",
              "      <td>1</td>\n",
              "    </tr>\n",
              "    <tr>\n",
              "      <th>2</th>\n",
              "      <td>2021-06-21 09:00:26-04:00</td>\n",
              "      <td>WhatsApp for iOS now lets users forward offici...</td>\n",
              "      <td>WhatsApp is releasing a new feature exclusivel...</td>\n",
              "      <td>WhatsApp is releasing a new feature exclusivel...</td>\n",
              "      <td>130.0</td>\n",
              "      <td>9to5Mac</td>\n",
              "      <td>9.0</td>\n",
              "      <td>21.0</td>\n",
              "      <td>WhatsApp for iOS now lets users forward offici...</td>\n",
              "      <td>0.0</td>\n",
              "      <td>1.000</td>\n",
              "      <td>0.000</td>\n",
              "      <td>0.0000</td>\n",
              "      <td>0.221591</td>\n",
              "      <td>0</td>\n",
              "      <td>1</td>\n",
              "      <td>-0.221591</td>\n",
              "      <td>0</td>\n",
              "    </tr>\n",
              "  </tbody>\n",
              "</table>\n",
              "</div>"
            ],
            "text/plain": [
              "                 publishedAt  ... Sentiment\n",
              "0  2021-06-21 09:00:01-04:00  ...         0\n",
              "1  2021-06-21 09:00:25-04:00  ...         1\n",
              "2  2021-06-21 09:00:26-04:00  ...         0\n",
              "\n",
              "[3 rows x 18 columns]"
            ]
          },
          "metadata": {
            "tags": []
          },
          "execution_count": 200
        }
      ]
    },
    {
      "cell_type": "code",
      "metadata": {
        "id": "D1AuzsgiE8B_"
      },
      "source": [
        "X = apple2.iloc[:,8]\n",
        "y = apple2.iloc[:,-1]"
      ],
      "execution_count": null,
      "outputs": []
    },
    {
      "cell_type": "code",
      "metadata": {
        "id": "AXqDbDiIE7_N"
      },
      "source": [
        "X_train, X_test, y_train, y_test = train_test_split(X,y, test_size=0.3,\n",
        "                                                    random_state=42)"
      ],
      "execution_count": null,
      "outputs": []
    },
    {
      "cell_type": "code",
      "metadata": {
        "colab": {
          "base_uri": "https://localhost:8080/"
        },
        "id": "k_Z4suuGE715",
        "outputId": "4dea0f6c-015b-42c7-8cd5-b8e0b934eb16"
      },
      "source": [
        "## Make and fit grid\n",
        "apple2 = GridSearchCV(full_pipe,\n",
        "                   params, cv=3, scoring='accuracy',n_jobs=-1,verbose=2)\n",
        "apple2.fit(X_train,y_train)"
      ],
      "execution_count": null,
      "outputs": [
        {
          "output_type": "stream",
          "text": [
            "Fitting 3 folds for each of 384 candidates, totalling 1152 fits\n"
          ],
          "name": "stdout"
        },
        {
          "output_type": "stream",
          "text": [
            "[Parallel(n_jobs=-1)]: Using backend LokyBackend with 2 concurrent workers.\n",
            "[Parallel(n_jobs=-1)]: Done  37 tasks      | elapsed:   23.4s\n",
            "[Parallel(n_jobs=-1)]: Done 158 tasks      | elapsed:  1.4min\n",
            "[Parallel(n_jobs=-1)]: Done 361 tasks      | elapsed:  3.0min\n",
            "[Parallel(n_jobs=-1)]: Done 644 tasks      | elapsed:  5.6min\n",
            "[Parallel(n_jobs=-1)]: Done 1009 tasks      | elapsed:  9.1min\n",
            "[Parallel(n_jobs=-1)]: Done 1152 out of 1152 | elapsed: 10.4min finished\n"
          ],
          "name": "stderr"
        },
        {
          "output_type": "execute_result",
          "data": {
            "text/plain": [
              "GridSearchCV(cv=3, error_score=nan,\n",
              "             estimator=Pipeline(memory=None,\n",
              "                                steps=[('text_pipe',\n",
              "                                        TfidfVectorizer(analyzer='word',\n",
              "                                                        binary=False,\n",
              "                                                        decode_error='strict',\n",
              "                                                        dtype=<class 'numpy.float64'>,\n",
              "                                                        encoding='utf-8',\n",
              "                                                        input=<bound method RegexpTokenizer.tokenize of RegexpTokenizer(pattern=\"([a-zA-Z]+(?:'[a-z]+)?)\", gaps=False, discard_empty=True, flags=<RegexFlag.UNICODE|DOT...\n",
              "                         'text_pipe__stop_words': [['i', 'me', 'my', 'myself',\n",
              "                                                    'we', 'our', 'ours',\n",
              "                                                    'ourselves', 'you',\n",
              "                                                    \"you're\", \"you've\",\n",
              "                                                    \"you'll\", \"you'd\", 'your',\n",
              "                                                    'yours', 'yourself',\n",
              "                                                    'yourselves', 'he', 'him',\n",
              "                                                    'his', 'himself', 'she',\n",
              "                                                    \"she's\", 'her', 'hers',\n",
              "                                                    'herself', 'it', \"it's\",\n",
              "                                                    'its', 'itself', ...],\n",
              "                                                   'english'],\n",
              "                         'text_pipe__use_idf': [True]},\n",
              "             pre_dispatch='2*n_jobs', refit=True, return_train_score=False,\n",
              "             scoring='accuracy', verbose=2)"
            ]
          },
          "metadata": {
            "tags": []
          },
          "execution_count": 203
        }
      ]
    },
    {
      "cell_type": "code",
      "metadata": {
        "colab": {
          "base_uri": "https://localhost:8080/"
        },
        "id": "6Ep_Qmn1Fq_G",
        "outputId": "3b1f013a-d0ac-4a4a-dbf8-ffb57e45850c"
      },
      "source": [
        "# Save best_estimator\n",
        "apple2_bp = apple2.best_estimator_\n",
        "joblib.dump(apple2_bp, '/content/drive/MyDrive/Colab Notebooks/Data/apple2_bp.pkl')"
      ],
      "execution_count": null,
      "outputs": [
        {
          "output_type": "execute_result",
          "data": {
            "text/plain": [
              "['/content/drive/MyDrive/Colab Notebooks/Data/apple2_bp.pkl']"
            ]
          },
          "metadata": {
            "tags": []
          },
          "execution_count": 204
        }
      ]
    },
    {
      "cell_type": "code",
      "metadata": {
        "id": "-AtjeiiGFq6i"
      },
      "source": [
        "apple2_clf, apple2_vect, X_train_apple2, X_test_apple2 = create_vars(apple2_bp,X_train, y_train)"
      ],
      "execution_count": null,
      "outputs": []
    },
    {
      "cell_type": "code",
      "metadata": {
        "colab": {
          "base_uri": "https://localhost:8080/"
        },
        "id": "iGDJvtsQFq3n",
        "outputId": "f6618e18-f4b7-457c-b87c-7c3227feb2ef"
      },
      "source": [
        "evaluate_model(apple2_clf, X_train_apple2, X_test_apple2, y_train, y_test)"
      ],
      "execution_count": null,
      "outputs": [
        {
          "output_type": "stream",
          "text": [
            "********************CLASSIFICATION REPORT - TRAIN *************************\n",
            "              precision    recall  f1-score   support\n",
            "\n",
            "          -1       1.00      1.00      1.00       242\n",
            "           0       1.00      1.00      1.00       538\n",
            "           1       1.00      1.00      1.00      1015\n",
            "\n",
            "    accuracy                           1.00      1795\n",
            "   macro avg       1.00      1.00      1.00      1795\n",
            "weighted avg       1.00      1.00      1.00      1795\n",
            "\n",
            "********************CLASSIFICATION REPORT - TEST *************************\n",
            "              precision    recall  f1-score   support\n",
            "\n",
            "          -1       0.44      0.22      0.30        89\n",
            "           0       0.49      0.40      0.44       232\n",
            "           1       0.68      0.82      0.75       449\n",
            "\n",
            "    accuracy                           0.62       770\n",
            "   macro avg       0.54      0.48      0.50       770\n",
            "weighted avg       0.60      0.62      0.60       770\n",
            "\n",
            "*********************************************************************\n"
          ],
          "name": "stdout"
        },
        {
          "output_type": "display_data",
          "data": {
            "image/png": "[encoded data removed]",
            "text/plain": [
              "<Figure size 432x288 with 2 Axes>"
            ]
          },
          "metadata": {
            "tags": [],
            "needs_background": "light"
          }
        }
      ]
    },
    {
      "cell_type": "code",
      "metadata": {
        "colab": {
          "base_uri": "https://localhost:8080/",
          "height": 265
        },
        "id": "RgYW4SAFWSFf",
        "outputId": "2199df60-efcc-4e92-c120-318d1e9140dd"
      },
      "source": [
        "apple2_fi = create_feature_importance(apple2_clf, apple2_vect, 'apple')"
      ],
      "execution_count": null,
      "outputs": [
        {
          "output_type": "display_data",
          "data": {
            "image/png": "[encoded data removed]",
            "text/plain": [
              "<Figure size 432x288 with 1 Axes>"
            ]
          },
          "metadata": {
            "tags": [],
            "needs_background": "light"
          }
        }
      ]
    },
    {
      "cell_type": "markdown",
      "metadata": {
        "id": "_tcdpnLGamSc"
      },
      "source": [
        "## FACEBOOK DATA"
      ]
    },
    {
      "cell_type": "code",
      "metadata": {
        "id": "U_CaU1TJ3pBE"
      },
      "source": [
        "# Load in FB Data from crisp folder\n",
        "X_train, X_test, y_train, y_test = train_test(\"/content/drive/MyDrive/Colab Notebooks/Data/crisp_data/df_etl_fb1.csv\")"
      ],
      "execution_count": null,
      "outputs": []
    },
    {
      "cell_type": "code",
      "metadata": {
        "colab": {
          "base_uri": "https://localhost:8080/"
        },
        "id": "cVDcUa503JyI",
        "outputId": "eaca5960-34e7-4209-b2fb-f55d0637262e"
      },
      "source": [
        "fb1 = GridSearchCV(full_pipe,\n",
        "                   params, cv=3, scoring='accuracy',n_jobs=-1,verbose=2)\n",
        "fb1.fit(X_train,y_train)"
      ],
      "execution_count": null,
      "outputs": [
        {
          "output_type": "stream",
          "text": [
            "Fitting 3 folds for each of 384 candidates, totalling 1152 fits\n"
          ],
          "name": "stdout"
        },
        {
          "output_type": "stream",
          "text": [
            "[Parallel(n_jobs=-1)]: Using backend LokyBackend with 2 concurrent workers.\n",
            "[Parallel(n_jobs=-1)]: Done  37 tasks      | elapsed:   22.1s\n",
            "[Parallel(n_jobs=-1)]: Done 158 tasks      | elapsed:  1.3min\n",
            "[Parallel(n_jobs=-1)]: Done 361 tasks      | elapsed:  2.9min\n",
            "[Parallel(n_jobs=-1)]: Done 644 tasks      | elapsed:  5.3min\n",
            "[Parallel(n_jobs=-1)]: Done 1009 tasks      | elapsed:  8.6min\n",
            "[Parallel(n_jobs=-1)]: Done 1152 out of 1152 | elapsed:  9.8min finished\n"
          ],
          "name": "stderr"
        },
        {
          "output_type": "execute_result",
          "data": {
            "text/plain": [
              "GridSearchCV(cv=3, error_score=nan,\n",
              "             estimator=Pipeline(memory=None,\n",
              "                                steps=[('text_pipe',\n",
              "                                        TfidfVectorizer(analyzer='word',\n",
              "                                                        binary=False,\n",
              "                                                        decode_error='strict',\n",
              "                                                        dtype=<class 'numpy.float64'>,\n",
              "                                                        encoding='utf-8',\n",
              "                                                        input=<bound method RegexpTokenizer.tokenize of RegexpTokenizer(pattern=\"([a-zA-Z]+(?:'[a-z]+)?)\", gaps=False, discard_empty=True, flags=<RegexFlag.UNICODE|DOT...\n",
              "                         'text_pipe__stop_words': [['i', 'me', 'my', 'myself',\n",
              "                                                    'we', 'our', 'ours',\n",
              "                                                    'ourselves', 'you',\n",
              "                                                    \"you're\", \"you've\",\n",
              "                                                    \"you'll\", \"you'd\", 'your',\n",
              "                                                    'yours', 'yourself',\n",
              "                                                    'yourselves', 'he', 'him',\n",
              "                                                    'his', 'himself', 'she',\n",
              "                                                    \"she's\", 'her', 'hers',\n",
              "                                                    'herself', 'it', \"it's\",\n",
              "                                                    'its', 'itself', ...],\n",
              "                                                   'english'],\n",
              "                         'text_pipe__use_idf': [True]},\n",
              "             pre_dispatch='2*n_jobs', refit=True, return_train_score=False,\n",
              "             scoring='accuracy', verbose=2)"
            ]
          },
          "metadata": {
            "tags": []
          },
          "execution_count": 174
        }
      ]
    },
    {
      "cell_type": "code",
      "metadata": {
        "colab": {
          "base_uri": "https://localhost:8080/"
        },
        "id": "fw1d1u1IXGHV",
        "outputId": "92bb1224-33dd-4151-b6c9-8328f7f682a3"
      },
      "source": [
        "fb1_bp = fb1.best_estimator_\n",
        "joblib.dump(fb1_bp, '/content/drive/MyDrive/Colab Notebooks/Data/fb1_bp.pkl')"
      ],
      "execution_count": null,
      "outputs": [
        {
          "output_type": "execute_result",
          "data": {
            "text/plain": [
              "['/content/drive/MyDrive/Colab Notebooks/Data/fb1_bp.pkl']"
            ]
          },
          "metadata": {
            "tags": []
          },
          "execution_count": 179
        }
      ]
    },
    {
      "cell_type": "code",
      "metadata": {
        "id": "U8ax2XBYXGFP"
      },
      "source": [
        "fb1_clf, fb1_vect, X_train_fb1, X_test_fb1 = create_vars(fb1_bp,X_train, y_train)"
      ],
      "execution_count": null,
      "outputs": []
    },
    {
      "cell_type": "code",
      "metadata": {
        "colab": {
          "base_uri": "https://localhost:8080/",
          "height": 660
        },
        "id": "vwTOFM6BeqbD",
        "outputId": "ededc333-7b56-410b-daf3-a6566fde30d8"
      },
      "source": [
        "evaluate_model(fb1_clf, X_train_fb1, X_test_fb1, y_train, y_test)"
      ],
      "execution_count": null,
      "outputs": [
        {
          "output_type": "stream",
          "text": [
            "********************CLASSIFICATION REPORT - TRAIN *************************\n",
            "              precision    recall  f1-score   support\n",
            "\n",
            "          -1       1.00      1.00      1.00       435\n",
            "           0       1.00      1.00      1.00       577\n",
            "           1       1.00      1.00      1.00       745\n",
            "\n",
            "    accuracy                           1.00      1757\n",
            "   macro avg       1.00      1.00      1.00      1757\n",
            "weighted avg       1.00      1.00      1.00      1757\n",
            "\n",
            "********************CLASSIFICATION REPORT - TEST *************************\n",
            "              precision    recall  f1-score   support\n",
            "\n",
            "          -1       0.52      0.53      0.53       196\n",
            "           0       0.50      0.46      0.48       224\n",
            "           1       0.65      0.68      0.66       333\n",
            "\n",
            "    accuracy                           0.58       753\n",
            "   macro avg       0.56      0.56      0.56       753\n",
            "weighted avg       0.57      0.58      0.57       753\n",
            "\n",
            "*********************************************************************\n"
          ],
          "name": "stdout"
        },
        {
          "output_type": "display_data",
          "data": {
            "image/png": "[encoded data removed]",
            "text/plain": [
              "<Figure size 432x288 with 2 Axes>"
            ]
          },
          "metadata": {
            "tags": [],
            "needs_background": "light"
          }
        }
      ]
    },
    {
      "cell_type": "code",
      "metadata": {
        "colab": {
          "base_uri": "https://localhost:8080/",
          "height": 265
        },
        "id": "Dwp6lceQeqXp",
        "outputId": "b53f253d-33c7-40be-9566-bc2ce1e6606d"
      },
      "source": [
        "fb1_fi = create_feature_importance(fb1_clf, fb1_vect, 'facebook')"
      ],
      "execution_count": null,
      "outputs": [
        {
          "output_type": "display_data",
          "data": {
            "image/png": "[encoded data removed]",
            "text/plain": [
              "<Figure size 432x288 with 1 Axes>"
            ]
          },
          "metadata": {
            "tags": [],
            "needs_background": "light"
          }
        }
      ]
    },
    {
      "cell_type": "code",
      "metadata": {
        "id": "sGiTnzaMeqSs"
      },
      "source": [
        ""
      ],
      "execution_count": null,
      "outputs": []
    },
    {
      "cell_type": "code",
      "metadata": {
        "id": "cZdv7JuyfCi8"
      },
      "source": [
        ""
      ],
      "execution_count": null,
      "outputs": []
    },
    {
      "cell_type": "code",
      "metadata": {
        "id": "JmPO6l6-XGAF"
      },
      "source": [
        "X_train, X_test, y_train, y_test = train_test(\"/content/drive/MyDrive/Colab Notebooks/Data/crisp_data/df_etl_fb2.csv\")"
      ],
      "execution_count": null,
      "outputs": []
    },
    {
      "cell_type": "code",
      "metadata": {
        "colab": {
          "base_uri": "https://localhost:8080/"
        },
        "id": "7AS9bmHOSxT9",
        "outputId": "803cd719-0383-40e5-9e49-5dabccd4bffb"
      },
      "source": [
        "fb2 = GridSearchCV(full_pipe,\n",
        "                   params, cv=3, scoring='accuracy',n_jobs=-1,verbose=2)\n",
        "fb2.fit(X_train,y_train)"
      ],
      "execution_count": null,
      "outputs": [
        {
          "output_type": "stream",
          "text": [
            "Fitting 3 folds for each of 384 candidates, totalling 1152 fits\n"
          ],
          "name": "stdout"
        },
        {
          "output_type": "stream",
          "text": [
            "[Parallel(n_jobs=-1)]: Using backend LokyBackend with 2 concurrent workers.\n",
            "[Parallel(n_jobs=-1)]: Done  37 tasks      | elapsed:   24.3s\n",
            "[Parallel(n_jobs=-1)]: Done 158 tasks      | elapsed:  1.4min\n",
            "[Parallel(n_jobs=-1)]: Done 361 tasks      | elapsed:  2.9min\n",
            "[Parallel(n_jobs=-1)]: Done 644 tasks      | elapsed:  5.4min\n",
            "[Parallel(n_jobs=-1)]: Done 1009 tasks      | elapsed:  8.7min\n",
            "[Parallel(n_jobs=-1)]: Done 1152 out of 1152 | elapsed:  9.9min finished\n"
          ],
          "name": "stderr"
        },
        {
          "output_type": "execute_result",
          "data": {
            "text/plain": [
              "GridSearchCV(cv=3, error_score=nan,\n",
              "             estimator=Pipeline(memory=None,\n",
              "                                steps=[('text_pipe',\n",
              "                                        TfidfVectorizer(analyzer='word',\n",
              "                                                        binary=False,\n",
              "                                                        decode_error='strict',\n",
              "                                                        dtype=<class 'numpy.float64'>,\n",
              "                                                        encoding='utf-8',\n",
              "                                                        input=<bound method RegexpTokenizer.tokenize of RegexpTokenizer(pattern=\"([a-zA-Z]+(?:'[a-z]+)?)\", gaps=False, discard_empty=True, flags=<RegexFlag.UNICODE|DOT...\n",
              "                         'text_pipe__stop_words': [['i', 'me', 'my', 'myself',\n",
              "                                                    'we', 'our', 'ours',\n",
              "                                                    'ourselves', 'you',\n",
              "                                                    \"you're\", \"you've\",\n",
              "                                                    \"you'll\", \"you'd\", 'your',\n",
              "                                                    'yours', 'yourself',\n",
              "                                                    'yourselves', 'he', 'him',\n",
              "                                                    'his', 'himself', 'she',\n",
              "                                                    \"she's\", 'her', 'hers',\n",
              "                                                    'herself', 'it', \"it's\",\n",
              "                                                    'its', 'itself', ...],\n",
              "                                                   'english'],\n",
              "                         'text_pipe__use_idf': [True]},\n",
              "             pre_dispatch='2*n_jobs', refit=True, return_train_score=False,\n",
              "             scoring='accuracy', verbose=2)"
            ]
          },
          "metadata": {
            "tags": []
          },
          "execution_count": 168
        }
      ]
    },
    {
      "cell_type": "code",
      "metadata": {
        "colab": {
          "base_uri": "https://localhost:8080/"
        },
        "id": "HeKKOZxgSxRN",
        "outputId": "95f2e8af-922d-4ddf-c912-bcfcc375d6f4"
      },
      "source": [
        "fb2_bp = fb2.best_estimator_\n",
        "joblib.dump(fb2_bp, '/content/drive/MyDrive/Colab Notebooks/Data/fb2_bp.pkl')"
      ],
      "execution_count": null,
      "outputs": [
        {
          "output_type": "execute_result",
          "data": {
            "text/plain": [
              "['/content/drive/MyDrive/Colab Notebooks/Data/fb2_bp.pkl']"
            ]
          },
          "metadata": {
            "tags": []
          },
          "execution_count": 169
        }
      ]
    },
    {
      "cell_type": "code",
      "metadata": {
        "id": "lqn0RxiaSxOx"
      },
      "source": [
        "fb2_clf, fb2_vect, X_train_fb2, X_test_fb2 = create_vars(fb2_bp,X_train, y_train)"
      ],
      "execution_count": null,
      "outputs": []
    },
    {
      "cell_type": "code",
      "metadata": {
        "colab": {
          "base_uri": "https://localhost:8080/",
          "height": 656
        },
        "id": "eC9n94eSSxJk",
        "outputId": "4a9ad0ce-0466-41c0-b44e-6d6eca9fc1a1"
      },
      "source": [
        "evaluate_model(fb2_clf, X_train_fb2, X_test_fb2, y_train, y_test)"
      ],
      "execution_count": null,
      "outputs": [
        {
          "output_type": "stream",
          "text": [
            "********************CLASSIFICATION REPORT - TRAIN *************************\n",
            "              precision    recall  f1-score   support\n",
            "\n",
            "          -1       1.00      1.00      1.00       418\n",
            "           0       1.00      1.00      1.00       509\n",
            "           1       1.00      1.00      1.00       840\n",
            "\n",
            "    accuracy                           1.00      1767\n",
            "   macro avg       1.00      1.00      1.00      1767\n",
            "weighted avg       1.00      1.00      1.00      1767\n",
            "\n",
            "********************CLASSIFICATION REPORT - TEST *************************\n",
            "              precision    recall  f1-score   support\n",
            "\n",
            "          -1       0.68      0.47      0.56       195\n",
            "           0       0.49      0.34      0.40       229\n",
            "           1       0.57      0.79      0.66       334\n",
            "\n",
            "    accuracy                           0.57       758\n",
            "   macro avg       0.58      0.53      0.54       758\n",
            "weighted avg       0.57      0.57      0.56       758\n",
            "\n",
            "*********************************************************************\n"
          ],
          "name": "stdout"
        },
        {
          "output_type": "display_data",
          "data": {
            "image/png": "[encoded data removed]",
            "text/plain": [
              "<Figure size 432x288 with 2 Axes>"
            ]
          },
          "metadata": {
            "tags": [],
            "needs_background": "light"
          }
        }
      ]
    },
    {
      "cell_type": "code",
      "metadata": {
        "colab": {
          "base_uri": "https://localhost:8080/",
          "height": 265
        },
        "id": "OhOEIsKWTIJQ",
        "outputId": "a9f878c3-c83e-44a2-a667-d7abbf5d0dd0"
      },
      "source": [
        "fb2_fi = create_feature_importance(fb2_clf, fb2_vect, 'facebook')"
      ],
      "execution_count": null,
      "outputs": [
        {
          "output_type": "display_data",
          "data": {
            "image/png": "[encoded data removed]",
            "text/plain": [
              "<Figure size 432x288 with 1 Axes>"
            ]
          },
          "metadata": {
            "tags": [],
            "needs_background": "light"
          }
        }
      ]
    },
    {
      "cell_type": "markdown",
      "metadata": {
        "id": "_5BreiQ3amGG"
      },
      "source": [
        "## NETFLIX DATA"
      ]
    },
    {
      "cell_type": "code",
      "metadata": {
        "id": "ousHIDn2jZqd"
      },
      "source": [
        "def train_test(filepath):\n",
        "\n",
        "  # Load in FB Data from crisp folder\n",
        "  df = pd.read_csv(filepath)\n",
        "\n",
        "  # Create X and y data\n",
        "  X = df.iloc[:,8]\n",
        "  y= df.iloc[:,-1]\n",
        "\n",
        "  # Train-test split\n",
        "  X_train, X_test, y_train, y_test = train_test_split(X,y, test_size=0.3,\n",
        "                                                      random_state=42)\n",
        "  return X_train, X_test, y_train, y_test"
      ],
      "execution_count": null,
      "outputs": []
    },
    {
      "cell_type": "code",
      "metadata": {
        "id": "f54N_vyHjZn5"
      },
      "source": [
        "X_train, X_test, y_train, y_test = train_test(\"/content/drive/MyDrive/Colab Notebooks/Data/crisp_data/df_etl_nflx1.csv\")"
      ],
      "execution_count": null,
      "outputs": []
    },
    {
      "cell_type": "code",
      "metadata": {
        "colab": {
          "base_uri": "https://localhost:8080/"
        },
        "id": "Xhyqt7ZMjZlO",
        "outputId": "ba06d2ec-f964-413f-94f8-35279f321d9e"
      },
      "source": [
        "nf1 = GridSearchCV(full_pipe,\n",
        "                   params, cv=3, scoring='accuracy',n_jobs=-1,verbose=2)\n",
        "nf1.fit(X_train,y_train)"
      ],
      "execution_count": null,
      "outputs": [
        {
          "output_type": "stream",
          "text": [
            "Fitting 3 folds for each of 384 candidates, totalling 1152 fits\n"
          ],
          "name": "stdout"
        },
        {
          "output_type": "stream",
          "text": [
            "[Parallel(n_jobs=-1)]: Using backend LokyBackend with 2 concurrent workers.\n",
            "[Parallel(n_jobs=-1)]: Done  37 tasks      | elapsed:   14.1s\n",
            "[Parallel(n_jobs=-1)]: Done 158 tasks      | elapsed:   49.2s\n",
            "[Parallel(n_jobs=-1)]: Done 361 tasks      | elapsed:  1.8min\n",
            "[Parallel(n_jobs=-1)]: Done 644 tasks      | elapsed:  3.3min\n",
            "[Parallel(n_jobs=-1)]: Done 1009 tasks      | elapsed:  5.3min\n",
            "[Parallel(n_jobs=-1)]: Done 1152 out of 1152 | elapsed:  6.0min finished\n"
          ],
          "name": "stderr"
        },
        {
          "output_type": "execute_result",
          "data": {
            "text/plain": [
              "GridSearchCV(cv=3, error_score=nan,\n",
              "             estimator=Pipeline(memory=None,\n",
              "                                steps=[('text_pipe',\n",
              "                                        TfidfVectorizer(analyzer='word',\n",
              "                                                        binary=False,\n",
              "                                                        decode_error='strict',\n",
              "                                                        dtype=<class 'numpy.float64'>,\n",
              "                                                        encoding='utf-8',\n",
              "                                                        input=<bound method RegexpTokenizer.tokenize of RegexpTokenizer(pattern=\"([a-zA-Z]+(?:'[a-z]+)?)\", gaps=False, discard_empty=True, flags=<RegexFlag.UNICODE|DOT...\n",
              "                         'text_pipe__stop_words': [['i', 'me', 'my', 'myself',\n",
              "                                                    'we', 'our', 'ours',\n",
              "                                                    'ourselves', 'you',\n",
              "                                                    \"you're\", \"you've\",\n",
              "                                                    \"you'll\", \"you'd\", 'your',\n",
              "                                                    'yours', 'yourself',\n",
              "                                                    'yourselves', 'he', 'him',\n",
              "                                                    'his', 'himself', 'she',\n",
              "                                                    \"she's\", 'her', 'hers',\n",
              "                                                    'herself', 'it', \"it's\",\n",
              "                                                    'its', 'itself', ...],\n",
              "                                                   'english'],\n",
              "                         'text_pipe__use_idf': [True]},\n",
              "             pre_dispatch='2*n_jobs', refit=True, return_train_score=False,\n",
              "             scoring='accuracy', verbose=2)"
            ]
          },
          "metadata": {
            "tags": []
          },
          "execution_count": 216
        }
      ]
    },
    {
      "cell_type": "code",
      "metadata": {
        "colab": {
          "base_uri": "https://localhost:8080/"
        },
        "id": "K48nfs6CjySL",
        "outputId": "d6dc8272-a2b4-4556-c638-f7c5d1d86e4b"
      },
      "source": [
        "nf1_bp = nf1.best_estimator_\n",
        "joblib.dump(nf1_bp, '/content/drive/MyDrive/Colab Notebooks/Data/nf1_bp.pkl')"
      ],
      "execution_count": null,
      "outputs": [
        {
          "output_type": "execute_result",
          "data": {
            "text/plain": [
              "['/content/drive/MyDrive/Colab Notebooks/Data/fb1_bp.pkl']"
            ]
          },
          "metadata": {
            "tags": []
          },
          "execution_count": 241
        }
      ]
    },
    {
      "cell_type": "code",
      "metadata": {
        "id": "Vn9H6gMkjyPJ"
      },
      "source": [
        "nf1_clf, nf1_vect, X_train_nf1, X_test_nf1 = create_vars(nf1_bp,X_train, y_train)"
      ],
      "execution_count": null,
      "outputs": []
    },
    {
      "cell_type": "code",
      "metadata": {
        "colab": {
          "base_uri": "https://localhost:8080/",
          "height": 656
        },
        "id": "lnUaoj84q717",
        "outputId": "9991b0de-5ad9-4611-e888-74eba1735dcf"
      },
      "source": [
        "evaluate_model(nf1_clf, X_train_nf1, X_test_nf1, y_train, y_test)"
      ],
      "execution_count": null,
      "outputs": [
        {
          "output_type": "stream",
          "text": [
            "********************CLASSIFICATION REPORT - TRAIN *************************\n",
            "              precision    recall  f1-score   support\n",
            "\n",
            "          -1       0.99      1.00      1.00       140\n",
            "           0       1.00      0.99      1.00       194\n",
            "           1       1.00      1.00      1.00       389\n",
            "\n",
            "    accuracy                           1.00       723\n",
            "   macro avg       1.00      1.00      1.00       723\n",
            "weighted avg       1.00      1.00      1.00       723\n",
            "\n",
            "********************CLASSIFICATION REPORT - TEST *************************\n",
            "              precision    recall  f1-score   support\n",
            "\n",
            "          -1       0.58      0.25      0.35        57\n",
            "           0       0.54      0.37      0.44        92\n",
            "           1       0.62      0.85      0.72       162\n",
            "\n",
            "    accuracy                           0.60       311\n",
            "   macro avg       0.58      0.49      0.50       311\n",
            "weighted avg       0.59      0.60      0.57       311\n",
            "\n",
            "*********************************************************************\n"
          ],
          "name": "stdout"
        },
        {
          "output_type": "display_data",
          "data": {
            "image/png": "[encoded data removed]",
            "text/plain": [
              "<Figure size 432x288 with 2 Axes>"
            ]
          },
          "metadata": {
            "tags": [],
            "needs_background": "light"
          }
        }
      ]
    },
    {
      "cell_type": "code",
      "metadata": {
        "colab": {
          "base_uri": "https://localhost:8080/",
          "height": 265
        },
        "id": "UZzXKGcGsa7u",
        "outputId": "01b94427-1e19-4921-817c-cd210c936136"
      },
      "source": [
        "nf1_fi = create_feature_importance(nf1_clf, nf1_vect, 'netflix')"
      ],
      "execution_count": null,
      "outputs": [
        {
          "output_type": "display_data",
          "data": {
            "image/png": "[encoded data removed]",
            "text/plain": [
              "<Figure size 432x288 with 1 Axes>"
            ]
          },
          "metadata": {
            "tags": [],
            "needs_background": "light"
          }
        }
      ]
    },
    {
      "cell_type": "code",
      "metadata": {
        "id": "7U2pvKV1sz2T"
      },
      "source": [
        "X_train, X_test, y_train, y_test = train_test(\"/content/drive/MyDrive/Colab Notebooks/Data/crisp_data/df_etl_nflx2.csv\")"
      ],
      "execution_count": null,
      "outputs": []
    },
    {
      "cell_type": "code",
      "metadata": {
        "colab": {
          "base_uri": "https://localhost:8080/"
        },
        "id": "T_Ciq6QAszyQ",
        "outputId": "bd340563-1f75-4098-b282-f4c31e557190"
      },
      "source": [
        "nf2 = GridSearchCV(full_pipe,\n",
        "                   params, cv=3, scoring='accuracy',n_jobs=-1,verbose=2)\n",
        "nf2.fit(X_train,y_train)"
      ],
      "execution_count": null,
      "outputs": [
        {
          "output_type": "stream",
          "text": [
            "Fitting 3 folds for each of 384 candidates, totalling 1152 fits\n"
          ],
          "name": "stdout"
        },
        {
          "output_type": "stream",
          "text": [
            "[Parallel(n_jobs=-1)]: Using backend LokyBackend with 2 concurrent workers.\n",
            "[Parallel(n_jobs=-1)]: Done  37 tasks      | elapsed:   16.0s\n",
            "[Parallel(n_jobs=-1)]: Done 158 tasks      | elapsed:   55.6s\n",
            "[Parallel(n_jobs=-1)]: Done 361 tasks      | elapsed:  2.0min\n",
            "[Parallel(n_jobs=-1)]: Done 644 tasks      | elapsed:  3.7min\n",
            "[Parallel(n_jobs=-1)]: Done 1009 tasks      | elapsed:  5.9min\n",
            "[Parallel(n_jobs=-1)]: Done 1152 out of 1152 | elapsed:  6.7min finished\n"
          ],
          "name": "stderr"
        },
        {
          "output_type": "execute_result",
          "data": {
            "text/plain": [
              "GridSearchCV(cv=3, error_score=nan,\n",
              "             estimator=Pipeline(memory=None,\n",
              "                                steps=[('text_pipe',\n",
              "                                        TfidfVectorizer(analyzer='word',\n",
              "                                                        binary=False,\n",
              "                                                        decode_error='strict',\n",
              "                                                        dtype=<class 'numpy.float64'>,\n",
              "                                                        encoding='utf-8',\n",
              "                                                        input=<bound method RegexpTokenizer.tokenize of RegexpTokenizer(pattern=\"([a-zA-Z]+(?:'[a-z]+)?)\", gaps=False, discard_empty=True, flags=<RegexFlag.UNICODE|DOT...\n",
              "                         'text_pipe__stop_words': [['i', 'me', 'my', 'myself',\n",
              "                                                    'we', 'our', 'ours',\n",
              "                                                    'ourselves', 'you',\n",
              "                                                    \"you're\", \"you've\",\n",
              "                                                    \"you'll\", \"you'd\", 'your',\n",
              "                                                    'yours', 'yourself',\n",
              "                                                    'yourselves', 'he', 'him',\n",
              "                                                    'his', 'himself', 'she',\n",
              "                                                    \"she's\", 'her', 'hers',\n",
              "                                                    'herself', 'it', \"it's\",\n",
              "                                                    'its', 'itself', ...],\n",
              "                                                   'english'],\n",
              "                         'text_pipe__use_idf': [True]},\n",
              "             pre_dispatch='2*n_jobs', refit=True, return_train_score=False,\n",
              "             scoring='accuracy', verbose=2)"
            ]
          },
          "metadata": {
            "tags": []
          },
          "execution_count": 197
        }
      ]
    },
    {
      "cell_type": "code",
      "metadata": {
        "colab": {
          "base_uri": "https://localhost:8080/"
        },
        "id": "WYhZteK9Dikz",
        "outputId": "7313b3f8-e7be-407b-e2fc-988ade3b7c1a"
      },
      "source": [
        "nf2_bp = nf2.best_estimator_\n",
        "joblib.dump(nf2_bp, '/content/drive/MyDrive/Colab Notebooks/Data/nf2_bp.pkl')"
      ],
      "execution_count": null,
      "outputs": [
        {
          "output_type": "execute_result",
          "data": {
            "text/plain": [
              "['/content/drive/MyDrive/Colab Notebooks/Data/nf2_bp.pkl']"
            ]
          },
          "metadata": {
            "tags": []
          },
          "execution_count": 198
        }
      ]
    },
    {
      "cell_type": "code",
      "metadata": {
        "colab": {
          "base_uri": "https://localhost:8080/"
        },
        "id": "jrlXNlV2GwYQ",
        "outputId": "b44cd651-e699-4cca-c86f-4cb959159b39"
      },
      "source": [
        "nf2_bp.named_steps['clf']"
      ],
      "execution_count": null,
      "outputs": [
        {
          "output_type": "execute_result",
          "data": {
            "text/plain": [
              "RandomForestClassifier(bootstrap=True, ccp_alpha=0.0, class_weight='balanced',\n",
              "                       criterion='gini', max_depth=200, max_features='auto',\n",
              "                       max_leaf_nodes=None, max_samples=None,\n",
              "                       min_impurity_decrease=0.0, min_impurity_split=None,\n",
              "                       min_samples_leaf=1, min_samples_split=2,\n",
              "                       min_weight_fraction_leaf=0.0, n_estimators=100,\n",
              "                       n_jobs=-1, oob_score=False, random_state=None, verbose=0,\n",
              "                       warm_start=False)"
            ]
          },
          "metadata": {
            "tags": []
          },
          "execution_count": 136
        }
      ]
    },
    {
      "cell_type": "code",
      "metadata": {
        "id": "rm2maSdzGwVC"
      },
      "source": [
        ""
      ],
      "execution_count": null,
      "outputs": []
    },
    {
      "cell_type": "code",
      "metadata": {
        "id": "uK6CC6n-GwMw"
      },
      "source": [
        ""
      ],
      "execution_count": null,
      "outputs": []
    },
    {
      "cell_type": "markdown",
      "metadata": {
        "id": "1yLQI7WAal7R"
      },
      "source": [
        "## AMAZON DATA"
      ]
    },
    {
      "cell_type": "code",
      "metadata": {
        "id": "nJNSF2K9C956"
      },
      "source": [
        "X_train, X_test, y_train, y_test = train_test(\"/content/drive/MyDrive/Colab Notebooks/Data/crisp_data/df_etl_am1.csv\")"
      ],
      "execution_count": null,
      "outputs": []
    },
    {
      "cell_type": "code",
      "metadata": {
        "colab": {
          "base_uri": "https://localhost:8080/"
        },
        "id": "WwDE-IKTC929",
        "outputId": "3825deaa-40bb-4a56-f87f-11c219288298"
      },
      "source": [
        "am1 = GridSearchCV(full_pipe,\n",
        "                   params, cv=3, scoring='accuracy',n_jobs=-1,verbose=2)\n",
        "am1.fit(X_train,y_train)"
      ],
      "execution_count": null,
      "outputs": [
        {
          "output_type": "stream",
          "text": [
            "Fitting 3 folds for each of 384 candidates, totalling 1152 fits\n"
          ],
          "name": "stdout"
        },
        {
          "output_type": "stream",
          "text": [
            "[Parallel(n_jobs=-1)]: Using backend LokyBackend with 2 concurrent workers.\n",
            "[Parallel(n_jobs=-1)]: Done  37 tasks      | elapsed:   22.4s\n",
            "[Parallel(n_jobs=-1)]: Done 158 tasks      | elapsed:  1.3min\n",
            "[Parallel(n_jobs=-1)]: Done 361 tasks      | elapsed:  2.8min\n",
            "[Parallel(n_jobs=-1)]: Done 644 tasks      | elapsed:  5.1min\n",
            "[Parallel(n_jobs=-1)]: Done 1009 tasks      | elapsed:  8.3min\n",
            "[Parallel(n_jobs=-1)]: Done 1152 out of 1152 | elapsed:  9.5min finished\n"
          ],
          "name": "stderr"
        },
        {
          "output_type": "execute_result",
          "data": {
            "text/plain": [
              "GridSearchCV(cv=3, error_score=nan,\n",
              "             estimator=Pipeline(memory=None,\n",
              "                                steps=[('text_pipe',\n",
              "                                        TfidfVectorizer(analyzer='word',\n",
              "                                                        binary=False,\n",
              "                                                        decode_error='strict',\n",
              "                                                        dtype=<class 'numpy.float64'>,\n",
              "                                                        encoding='utf-8',\n",
              "                                                        input=<bound method RegexpTokenizer.tokenize of RegexpTokenizer(pattern=\"([a-zA-Z]+(?:'[a-z]+)?)\", gaps=False, discard_empty=True, flags=<RegexFlag.UNICODE|DOT...\n",
              "                         'text_pipe__stop_words': [['i', 'me', 'my', 'myself',\n",
              "                                                    'we', 'our', 'ours',\n",
              "                                                    'ourselves', 'you',\n",
              "                                                    \"you're\", \"you've\",\n",
              "                                                    \"you'll\", \"you'd\", 'your',\n",
              "                                                    'yours', 'yourself',\n",
              "                                                    'yourselves', 'he', 'him',\n",
              "                                                    'his', 'himself', 'she',\n",
              "                                                    \"she's\", 'her', 'hers',\n",
              "                                                    'herself', 'it', \"it's\",\n",
              "                                                    'its', 'itself', ...],\n",
              "                                                   'english'],\n",
              "                         'text_pipe__use_idf': [True]},\n",
              "             pre_dispatch='2*n_jobs', refit=True, return_train_score=False,\n",
              "             scoring='accuracy', verbose=2)"
            ]
          },
          "metadata": {
            "tags": []
          },
          "execution_count": 143
        }
      ]
    },
    {
      "cell_type": "code",
      "metadata": {
        "colab": {
          "base_uri": "https://localhost:8080/"
        },
        "id": "mzJrNmR5C9zd",
        "outputId": "747dc1bb-183a-4409-d976-f17d95c88406"
      },
      "source": [
        "am1_bp = am1.best_estimator_\n",
        "joblib.dump(am1, '/content/drive/MyDrive/Colab Notebooks/Data/am1_bp.pkl')"
      ],
      "execution_count": null,
      "outputs": [
        {
          "output_type": "execute_result",
          "data": {
            "text/plain": [
              "['/content/drive/MyDrive/Colab Notebooks/Data/am1_bp.pkl']"
            ]
          },
          "metadata": {
            "tags": []
          },
          "execution_count": 144
        }
      ]
    },
    {
      "cell_type": "code",
      "metadata": {
        "id": "LetiYoTBJzGm"
      },
      "source": [
        "# insert rest of metrics here"
      ],
      "execution_count": null,
      "outputs": []
    },
    {
      "cell_type": "code",
      "metadata": {
        "id": "boGRuE5yC9wI"
      },
      "source": [
        "X_train, X_test, y_train, y_test = train_test(\"/content/drive/MyDrive/Colab Notebooks/Data/crisp_data/df_etl_am2.csv\")"
      ],
      "execution_count": null,
      "outputs": []
    },
    {
      "cell_type": "code",
      "metadata": {
        "colab": {
          "base_uri": "https://localhost:8080/"
        },
        "id": "kn-3Y5CoJrfk",
        "outputId": "ebd85127-563b-4221-dbe2-7f5eeba1d6ef"
      },
      "source": [
        "am2 = GridSearchCV(full_pipe,\n",
        "                   params, cv=3, scoring='accuracy',n_jobs=-1,verbose=2)\n",
        "am2.fit(X_train,y_train)"
      ],
      "execution_count": null,
      "outputs": [
        {
          "output_type": "stream",
          "text": [
            "Fitting 3 folds for each of 384 candidates, totalling 1152 fits\n"
          ],
          "name": "stdout"
        },
        {
          "output_type": "stream",
          "text": [
            "[Parallel(n_jobs=-1)]: Using backend LokyBackend with 2 concurrent workers.\n",
            "[Parallel(n_jobs=-1)]: Done  37 tasks      | elapsed:   24.3s\n",
            "[Parallel(n_jobs=-1)]: Done 158 tasks      | elapsed:  1.4min\n",
            "[Parallel(n_jobs=-1)]: Done 361 tasks      | elapsed:  3.0min\n",
            "[Parallel(n_jobs=-1)]: Done 644 tasks      | elapsed:  5.5min\n",
            "[Parallel(n_jobs=-1)]: Done 1009 tasks      | elapsed:  8.9min\n",
            "[Parallel(n_jobs=-1)]: Done 1152 out of 1152 | elapsed: 10.1min finished\n"
          ],
          "name": "stderr"
        },
        {
          "output_type": "execute_result",
          "data": {
            "text/plain": [
              "GridSearchCV(cv=3, error_score=nan,\n",
              "             estimator=Pipeline(memory=None,\n",
              "                                steps=[('text_pipe',\n",
              "                                        TfidfVectorizer(analyzer='word',\n",
              "                                                        binary=False,\n",
              "                                                        decode_error='strict',\n",
              "                                                        dtype=<class 'numpy.float64'>,\n",
              "                                                        encoding='utf-8',\n",
              "                                                        input=<bound method RegexpTokenizer.tokenize of RegexpTokenizer(pattern=\"([a-zA-Z]+(?:'[a-z]+)?)\", gaps=False, discard_empty=True, flags=<RegexFlag.UNICODE|DOT...\n",
              "                         'text_pipe__stop_words': [['i', 'me', 'my', 'myself',\n",
              "                                                    'we', 'our', 'ours',\n",
              "                                                    'ourselves', 'you',\n",
              "                                                    \"you're\", \"you've\",\n",
              "                                                    \"you'll\", \"you'd\", 'your',\n",
              "                                                    'yours', 'yourself',\n",
              "                                                    'yourselves', 'he', 'him',\n",
              "                                                    'his', 'himself', 'she',\n",
              "                                                    \"she's\", 'her', 'hers',\n",
              "                                                    'herself', 'it', \"it's\",\n",
              "                                                    'its', 'itself', ...],\n",
              "                                                   'english'],\n",
              "                         'text_pipe__use_idf': [True]},\n",
              "             pre_dispatch='2*n_jobs', refit=True, return_train_score=False,\n",
              "             scoring='accuracy', verbose=2)"
            ]
          },
          "metadata": {
            "tags": []
          },
          "execution_count": 151
        }
      ]
    },
    {
      "cell_type": "code",
      "metadata": {
        "colab": {
          "base_uri": "https://localhost:8080/"
        },
        "id": "U2gaF7mCJrR4",
        "outputId": "2fcd4deb-700d-4eea-8a2e-db620c2dd3ca"
      },
      "source": [
        "am2_bp = am2.best_estimator_\n",
        "joblib.dump(am2_bp, '/content/drive/MyDrive/Colab Notebooks/Data/am2_bp.pkl')"
      ],
      "execution_count": null,
      "outputs": [
        {
          "output_type": "execute_result",
          "data": {
            "text/plain": [
              "['/content/drive/MyDrive/Colab Notebooks/Data/am2_bp.pkl']"
            ]
          },
          "metadata": {
            "tags": []
          },
          "execution_count": 152
        }
      ]
    },
    {
      "cell_type": "code",
      "metadata": {
        "id": "b41vzDDeMJAk"
      },
      "source": [
        "am2_clf, am2_vect, X_train_am2, X_test_am2 = create_vars(am2_bp,X_train, y_train)"
      ],
      "execution_count": null,
      "outputs": []
    },
    {
      "cell_type": "code",
      "metadata": {
        "colab": {
          "base_uri": "https://localhost:8080/",
          "height": 656
        },
        "id": "rKJNyXoHMI4p",
        "outputId": "83fb945f-82ee-4b01-ccf4-8f8fac0152be"
      },
      "source": [
        "evaluate_model(am2_clf, X_train_am2, X_test_am2, y_train, y_test)"
      ],
      "execution_count": null,
      "outputs": [
        {
          "output_type": "stream",
          "text": [
            "********************CLASSIFICATION REPORT - TRAIN *************************\n",
            "              precision    recall  f1-score   support\n",
            "\n",
            "          -1       1.00      0.99      0.99       181\n",
            "           0       0.99      1.00      0.99       426\n",
            "           1       1.00      1.00      1.00      1216\n",
            "\n",
            "    accuracy                           1.00      1823\n",
            "   macro avg       1.00      1.00      1.00      1823\n",
            "weighted avg       1.00      1.00      1.00      1823\n",
            "\n",
            "********************CLASSIFICATION REPORT - TEST *************************\n",
            "              precision    recall  f1-score   support\n",
            "\n",
            "          -1       0.45      0.21      0.28        68\n",
            "           0       0.49      0.32      0.39       207\n",
            "           1       0.73      0.89      0.80       507\n",
            "\n",
            "    accuracy                           0.68       782\n",
            "   macro avg       0.56      0.47      0.49       782\n",
            "weighted avg       0.64      0.68      0.65       782\n",
            "\n",
            "*********************************************************************\n"
          ],
          "name": "stdout"
        },
        {
          "output_type": "display_data",
          "data": {
            "image/png": "[encoded data removed]",
            "text/plain": [
              "<Figure size 432x288 with 2 Axes>"
            ]
          },
          "metadata": {
            "tags": [],
            "needs_background": "light"
          }
        }
      ]
    },
    {
      "cell_type": "code",
      "metadata": {
        "colab": {
          "base_uri": "https://localhost:8080/",
          "height": 265
        },
        "id": "4gChvPLaMZFI",
        "outputId": "290c57ab-747a-46c6-fe7e-af8337f8fde7"
      },
      "source": [
        "am2_fi = create_feature_importance(am2_clf, am2_vect, 'amazon')"
      ],
      "execution_count": null,
      "outputs": [
        {
          "output_type": "display_data",
          "data": {
            "image/png": "[encoded data removed]",
            "text/plain": [
              "<Figure size 432x288 with 1 Axes>"
            ]
          },
          "metadata": {
            "tags": [],
            "needs_background": "light"
          }
        }
      ]
    },
    {
      "cell_type": "markdown",
      "metadata": {
        "id": "pTURlEFIalsp"
      },
      "source": [
        "## GOOGLE DATA"
      ]
    },
    {
      "cell_type": "code",
      "metadata": {
        "id": "L_wZ3Jpqavvo"
      },
      "source": [
        "X_train, X_test, y_train, y_test = train_test(\"/content/drive/MyDrive/Colab Notebooks/Data/crisp_data/df_etl_goog1.csv\")"
      ],
      "execution_count": null,
      "outputs": []
    },
    {
      "cell_type": "code",
      "metadata": {
        "colab": {
          "base_uri": "https://localhost:8080/"
        },
        "id": "0qNopQMUySsL",
        "outputId": "a0816975-b797-4b9e-9f43-9f641c48acfb"
      },
      "source": [
        "goog1 = GridSearchCV(full_pipe,\n",
        "                   params, cv=3, scoring='accuracy',n_jobs=-1,verbose=2)\n",
        "goog1.fit(X_train,y_train)"
      ],
      "execution_count": null,
      "outputs": [
        {
          "output_type": "stream",
          "text": [
            "Fitting 3 folds for each of 384 candidates, totalling 1152 fits\n"
          ],
          "name": "stdout"
        },
        {
          "output_type": "stream",
          "text": [
            "[Parallel(n_jobs=-1)]: Using backend LokyBackend with 2 concurrent workers.\n",
            "[Parallel(n_jobs=-1)]: Done  37 tasks      | elapsed:   26.9s\n",
            "[Parallel(n_jobs=-1)]: Done 158 tasks      | elapsed:  1.5min\n",
            "[Parallel(n_jobs=-1)]: Done 361 tasks      | elapsed:  3.3min\n",
            "[Parallel(n_jobs=-1)]: Done 644 tasks      | elapsed:  6.1min\n",
            "[Parallel(n_jobs=-1)]: Done 1009 tasks      | elapsed: 10.0min\n",
            "[Parallel(n_jobs=-1)]: Done 1152 out of 1152 | elapsed: 11.5min finished\n"
          ],
          "name": "stderr"
        },
        {
          "output_type": "execute_result",
          "data": {
            "text/plain": [
              "GridSearchCV(cv=3, error_score=nan,\n",
              "             estimator=Pipeline(memory=None,\n",
              "                                steps=[('text_pipe',\n",
              "                                        TfidfVectorizer(analyzer='word',\n",
              "                                                        binary=False,\n",
              "                                                        decode_error='strict',\n",
              "                                                        dtype=<class 'numpy.float64'>,\n",
              "                                                        encoding='utf-8',\n",
              "                                                        input=<bound method RegexpTokenizer.tokenize of RegexpTokenizer(pattern=\"([a-zA-Z]+(?:'[a-z]+)?)\", gaps=False, discard_empty=True, flags=<RegexFlag.UNICODE|DOT...\n",
              "                         'text_pipe__stop_words': [['i', 'me', 'my', 'myself',\n",
              "                                                    'we', 'our', 'ours',\n",
              "                                                    'ourselves', 'you',\n",
              "                                                    \"you're\", \"you've\",\n",
              "                                                    \"you'll\", \"you'd\", 'your',\n",
              "                                                    'yours', 'yourself',\n",
              "                                                    'yourselves', 'he', 'him',\n",
              "                                                    'his', 'himself', 'she',\n",
              "                                                    \"she's\", 'her', 'hers',\n",
              "                                                    'herself', 'it', \"it's\",\n",
              "                                                    'its', 'itself', ...],\n",
              "                                                   'english'],\n",
              "                         'text_pipe__use_idf': [True]},\n",
              "             pre_dispatch='2*n_jobs', refit=True, return_train_score=False,\n",
              "             scoring='accuracy', verbose=2)"
            ]
          },
          "metadata": {
            "tags": []
          },
          "execution_count": 124
        }
      ]
    },
    {
      "cell_type": "code",
      "metadata": {
        "colab": {
          "base_uri": "https://localhost:8080/"
        },
        "id": "-BKGhqALDGQx",
        "outputId": "9eec57c6-da54-41d8-9543-1935c8c0e84a"
      },
      "source": [
        "goog1_bp = goog1.best_estimator_\n",
        "joblib.dump(goog1_bp, '/content/drive/MyDrive/Colab Notebooks/Data/goog1_bp.pkl')"
      ],
      "execution_count": null,
      "outputs": [
        {
          "output_type": "execute_result",
          "data": {
            "text/plain": [
              "['/content/drive/MyDrive/Colab Notebooks/Data/goog1_bp.pkl']"
            ]
          },
          "metadata": {
            "tags": []
          },
          "execution_count": 125
        }
      ]
    },
    {
      "cell_type": "code",
      "metadata": {
        "id": "S5If2LcpDGO2"
      },
      "source": [
        "goog1_clf, goog1_vect, X_train_goog1, X_test_goog1 = create_vars(goog1_bp,X_train, y_train)"
      ],
      "execution_count": null,
      "outputs": []
    },
    {
      "cell_type": "code",
      "metadata": {
        "colab": {
          "base_uri": "https://localhost:8080/",
          "height": 656
        },
        "id": "lZCyeYBFDGMM",
        "outputId": "69bf37c7-86ca-4bec-c827-38869d84b2f2"
      },
      "source": [
        "evaluate_model(goog1_clf, X_train_goog1, X_test_goog1, y_train, y_test)"
      ],
      "execution_count": null,
      "outputs": [
        {
          "output_type": "stream",
          "text": [
            "********************CLASSIFICATION REPORT - TRAIN *************************\n",
            "              precision    recall  f1-score   support\n",
            "\n",
            "          -1       0.99      0.99      0.99       377\n",
            "           0       0.99      1.00      1.00       725\n",
            "           1       1.00      1.00      1.00       897\n",
            "\n",
            "    accuracy                           1.00      1999\n",
            "   macro avg       0.99      0.99      0.99      1999\n",
            "weighted avg       1.00      1.00      1.00      1999\n",
            "\n",
            "********************CLASSIFICATION REPORT - TEST *************************\n",
            "              precision    recall  f1-score   support\n",
            "\n",
            "          -1       0.56      0.34      0.42       158\n",
            "           0       0.51      0.60      0.55       281\n",
            "           1       0.67      0.69      0.68       419\n",
            "\n",
            "    accuracy                           0.59       858\n",
            "   macro avg       0.58      0.54      0.55       858\n",
            "weighted avg       0.60      0.59      0.59       858\n",
            "\n",
            "*********************************************************************\n"
          ],
          "name": "stdout"
        },
        {
          "output_type": "display_data",
          "data": {
            "image/png": "[encoded data removed]",
            "text/plain": [
              "<Figure size 432x288 with 2 Axes>"
            ]
          },
          "metadata": {
            "tags": [],
            "needs_background": "light"
          }
        }
      ]
    },
    {
      "cell_type": "code",
      "metadata": {
        "colab": {
          "base_uri": "https://localhost:8080/",
          "height": 265
        },
        "id": "_7PgtHLBFTmv",
        "outputId": "e949d1e2-4ba7-4641-f5ee-5bdc619e288c"
      },
      "source": [
        "goog1_fi = create_feature_importance(goog1_clf, goog1_vect, 'google')"
      ],
      "execution_count": null,
      "outputs": [
        {
          "output_type": "display_data",
          "data": {
            "image/png": "[encoded data removed]",
            "text/plain": [
              "<Figure size 432x288 with 1 Axes>"
            ]
          },
          "metadata": {
            "tags": [],
            "needs_background": "light"
          }
        }
      ]
    },
    {
      "cell_type": "code",
      "metadata": {
        "id": "oTJHupoaFTkg"
      },
      "source": [
        "X_train, X_test, y_train, y_test = train_test(\"/content/drive/MyDrive/Colab Notebooks/Data/crisp_data/df_etl_goog2.csv\")"
      ],
      "execution_count": null,
      "outputs": []
    },
    {
      "cell_type": "code",
      "metadata": {
        "colab": {
          "base_uri": "https://localhost:8080/"
        },
        "id": "dVVmxo-_FThg",
        "outputId": "ad2c10dc-54e0-42c2-f6a8-73cf70913071"
      },
      "source": [
        "goog2 = GridSearchCV(full_pipe,\n",
        "                   params, cv=3, scoring='accuracy',n_jobs=-1,verbose=2)\n",
        "goog2.fit(X_train,y_train)"
      ],
      "execution_count": null,
      "outputs": [
        {
          "output_type": "stream",
          "text": [
            "Fitting 3 folds for each of 384 candidates, totalling 1152 fits\n"
          ],
          "name": "stdout"
        },
        {
          "output_type": "stream",
          "text": [
            "[Parallel(n_jobs=-1)]: Using backend LokyBackend with 2 concurrent workers.\n",
            "[Parallel(n_jobs=-1)]: Done  37 tasks      | elapsed:   25.7s\n",
            "[Parallel(n_jobs=-1)]: Done 158 tasks      | elapsed:  1.5min\n",
            "[Parallel(n_jobs=-1)]: Done 361 tasks      | elapsed:  3.3min\n",
            "[Parallel(n_jobs=-1)]: Done 644 tasks      | elapsed:  6.1min\n",
            "[Parallel(n_jobs=-1)]: Done 1009 tasks      | elapsed:  9.9min\n",
            "[Parallel(n_jobs=-1)]: Done 1152 out of 1152 | elapsed: 11.4min finished\n"
          ],
          "name": "stderr"
        },
        {
          "output_type": "execute_result",
          "data": {
            "text/plain": [
              "GridSearchCV(cv=3, error_score=nan,\n",
              "             estimator=Pipeline(memory=None,\n",
              "                                steps=[('text_pipe',\n",
              "                                        TfidfVectorizer(analyzer='word',\n",
              "                                                        binary=False,\n",
              "                                                        decode_error='strict',\n",
              "                                                        dtype=<class 'numpy.float64'>,\n",
              "                                                        encoding='utf-8',\n",
              "                                                        input=<bound method RegexpTokenizer.tokenize of RegexpTokenizer(pattern=\"([a-zA-Z]+(?:'[a-z]+)?)\", gaps=False, discard_empty=True, flags=<RegexFlag.UNICODE|DOT...\n",
              "                         'text_pipe__stop_words': [['i', 'me', 'my', 'myself',\n",
              "                                                    'we', 'our', 'ours',\n",
              "                                                    'ourselves', 'you',\n",
              "                                                    \"you're\", \"you've\",\n",
              "                                                    \"you'll\", \"you'd\", 'your',\n",
              "                                                    'yours', 'yourself',\n",
              "                                                    'yourselves', 'he', 'him',\n",
              "                                                    'his', 'himself', 'she',\n",
              "                                                    \"she's\", 'her', 'hers',\n",
              "                                                    'herself', 'it', \"it's\",\n",
              "                                                    'its', 'itself', ...],\n",
              "                                                   'english'],\n",
              "                         'text_pipe__use_idf': [True]},\n",
              "             pre_dispatch='2*n_jobs', refit=True, return_train_score=False,\n",
              "             scoring='accuracy', verbose=2)"
            ]
          },
          "metadata": {
            "tags": []
          },
          "execution_count": 143
        }
      ]
    },
    {
      "cell_type": "code",
      "metadata": {
        "colab": {
          "base_uri": "https://localhost:8080/"
        },
        "id": "BVNO8P6ZFTeu",
        "outputId": "dc9023e0-2337-4a5f-976c-d650f018bcbb"
      },
      "source": [
        "goog2_bp = goog2.best_estimator_\n",
        "joblib.dump(goog2_bp, '/content/drive/MyDrive/Colab Notebooks/Data/goog2_bp.pkl')"
      ],
      "execution_count": null,
      "outputs": [
        {
          "output_type": "execute_result",
          "data": {
            "text/plain": [
              "['/content/drive/MyDrive/Colab Notebooks/Data/goog2_bp.pkl']"
            ]
          },
          "metadata": {
            "tags": []
          },
          "execution_count": 144
        }
      ]
    },
    {
      "cell_type": "code",
      "metadata": {
        "id": "yLm9S5adFTa7"
      },
      "source": [
        "goog2_clf, goog2_vect, X_train_goog2, X_test_goog2 = create_vars(goog2_bp,X_train, y_train)"
      ],
      "execution_count": null,
      "outputs": []
    },
    {
      "cell_type": "code",
      "metadata": {
        "colab": {
          "base_uri": "https://localhost:8080/",
          "height": 656
        },
        "id": "vQ_mDa7BFTXy",
        "outputId": "acaf1218-1507-4763-cce2-47fbb260933e"
      },
      "source": [
        "evaluate_model(goog2_clf, X_train_goog2, X_test_goog2, y_train, y_test)"
      ],
      "execution_count": null,
      "outputs": [
        {
          "output_type": "stream",
          "text": [
            "********************CLASSIFICATION REPORT - TRAIN *************************\n",
            "              precision    recall  f1-score   support\n",
            "\n",
            "          -1       0.99      1.00      0.99       431\n",
            "           0       1.00      1.00      1.00       664\n",
            "           1       1.00      1.00      1.00       935\n",
            "\n",
            "    accuracy                           1.00      2030\n",
            "   macro avg       1.00      1.00      1.00      2030\n",
            "weighted avg       1.00      1.00      1.00      2030\n",
            "\n",
            "********************CLASSIFICATION REPORT - TEST *************************\n",
            "              precision    recall  f1-score   support\n",
            "\n",
            "          -1       0.45      0.50      0.48       149\n",
            "           0       0.48      0.44      0.46       304\n",
            "           1       0.66      0.68      0.67       417\n",
            "\n",
            "    accuracy                           0.57       870\n",
            "   macro avg       0.53      0.54      0.54       870\n",
            "weighted avg       0.56      0.57      0.56       870\n",
            "\n",
            "*********************************************************************\n"
          ],
          "name": "stdout"
        },
        {
          "output_type": "display_data",
          "data": {
            "image/png": "[encoded data removed]",
            "text/plain": [
              "<Figure size 432x288 with 2 Axes>"
            ]
          },
          "metadata": {
            "tags": [],
            "needs_background": "light"
          }
        }
      ]
    },
    {
      "cell_type": "code",
      "metadata": {
        "colab": {
          "base_uri": "https://localhost:8080/",
          "height": 265
        },
        "id": "8E9PewKeFTHK",
        "outputId": "0281b39d-a07f-4505-d138-3595d81628a0"
      },
      "source": [
        "goog2_fi = create_feature_importance(goog2_clf, goog2_vect, 'google')"
      ],
      "execution_count": null,
      "outputs": [
        {
          "output_type": "display_data",
          "data": {
            "image/png": "[encoded data removed]",
            "text/plain": [
              "<Figure size 432x288 with 1 Axes>"
            ]
          },
          "metadata": {
            "tags": [],
            "needs_background": "light"
          }
        }
      ]
    },
    {
      "cell_type": "markdown",
      "metadata": {
        "id": "uCyC2KusDGxQ"
      },
      "source": [
        "## MICROSOFT DATA"
      ]
    },
    {
      "cell_type": "code",
      "metadata": {
        "id": "tv-mBCNGDI-n"
      },
      "source": [
        "X_train, X_test, y_train, y_test = train_test(\"/content/drive/MyDrive/Colab Notebooks/Data/crisp_data/df_etl_msft1.csv\")"
      ],
      "execution_count": null,
      "outputs": []
    },
    {
      "cell_type": "code",
      "metadata": {
        "colab": {
          "base_uri": "https://localhost:8080/"
        },
        "id": "TWtjHPtJDI8S",
        "outputId": "e1042812-7320-4ba0-90a2-e9d8216ef4f9"
      },
      "source": [
        "ms1 = GridSearchCV(full_pipe,\n",
        "                   params, cv=3, scoring='accuracy',n_jobs=-1,verbose=2)\n",
        "ms1.fit(X_train,y_train)"
      ],
      "execution_count": null,
      "outputs": [
        {
          "output_type": "stream",
          "text": [
            "Fitting 3 folds for each of 384 candidates, totalling 1152 fits\n"
          ],
          "name": "stdout"
        },
        {
          "output_type": "stream",
          "text": [
            "[Parallel(n_jobs=-1)]: Using backend LokyBackend with 2 concurrent workers.\n",
            "[Parallel(n_jobs=-1)]: Done  37 tasks      | elapsed:   16.9s\n",
            "[Parallel(n_jobs=-1)]: Done 158 tasks      | elapsed:  1.0min\n",
            "[Parallel(n_jobs=-1)]: Done 361 tasks      | elapsed:  2.3min\n",
            "[Parallel(n_jobs=-1)]: Done 644 tasks      | elapsed:  4.1min\n",
            "[Parallel(n_jobs=-1)]: Done 1009 tasks      | elapsed:  6.7min\n",
            "[Parallel(n_jobs=-1)]: Done 1152 out of 1152 | elapsed:  7.6min finished\n"
          ],
          "name": "stderr"
        },
        {
          "output_type": "execute_result",
          "data": {
            "text/plain": [
              "GridSearchCV(cv=3, error_score=nan,\n",
              "             estimator=Pipeline(memory=None,\n",
              "                                steps=[('text_pipe',\n",
              "                                        TfidfVectorizer(analyzer='word',\n",
              "                                                        binary=False,\n",
              "                                                        decode_error='strict',\n",
              "                                                        dtype=<class 'numpy.float64'>,\n",
              "                                                        encoding='utf-8',\n",
              "                                                        input=<bound method RegexpTokenizer.tokenize of RegexpTokenizer(pattern=\"([a-zA-Z]+(?:'[a-z]+)?)\", gaps=False, discard_empty=True, flags=<RegexFlag.UNICODE|DOT...\n",
              "                         'text_pipe__stop_words': [['i', 'me', 'my', 'myself',\n",
              "                                                    'we', 'our', 'ours',\n",
              "                                                    'ourselves', 'you',\n",
              "                                                    \"you're\", \"you've\",\n",
              "                                                    \"you'll\", \"you'd\", 'your',\n",
              "                                                    'yours', 'yourself',\n",
              "                                                    'yourselves', 'he', 'him',\n",
              "                                                    'his', 'himself', 'she',\n",
              "                                                    \"she's\", 'her', 'hers',\n",
              "                                                    'herself', 'it', \"it's\",\n",
              "                                                    'its', 'itself', ...],\n",
              "                                                   'english'],\n",
              "                         'text_pipe__use_idf': [True]},\n",
              "             pre_dispatch='2*n_jobs', refit=True, return_train_score=False,\n",
              "             scoring='accuracy', verbose=2)"
            ]
          },
          "metadata": {
            "tags": []
          },
          "execution_count": 184
        }
      ]
    },
    {
      "cell_type": "code",
      "metadata": {
        "colab": {
          "base_uri": "https://localhost:8080/"
        },
        "id": "Owa3gCPUDI6P",
        "outputId": "fdfa68dc-8b5a-4154-8578-f474ce5af60e"
      },
      "source": [
        "ms1_bp = ms1.best_estimator_\n",
        "joblib.dump(ms1_bp, '/content/drive/MyDrive/Colab Notebooks/Data/ms1_bp.pkl')"
      ],
      "execution_count": null,
      "outputs": [
        {
          "output_type": "execute_result",
          "data": {
            "text/plain": [
              "['/content/drive/MyDrive/Colab Notebooks/Data/ms1_bp.pkl']"
            ]
          },
          "metadata": {
            "tags": []
          },
          "execution_count": 185
        }
      ]
    },
    {
      "cell_type": "code",
      "metadata": {
        "id": "qfTuEIe3cNNA"
      },
      "source": [
        "ms1_clf, ms1_vect, X_train_ms1, X_test_ms1 = create_vars(ms1_bp,X_train, y_train)"
      ],
      "execution_count": null,
      "outputs": []
    },
    {
      "cell_type": "code",
      "metadata": {
        "colab": {
          "base_uri": "https://localhost:8080/",
          "height": 656
        },
        "id": "c3TfDaroDI33",
        "outputId": "8e6b1bb5-516f-41ec-d00d-c8085eca6edb"
      },
      "source": [
        "evaluate_model(ms1_clf, X_train_ms1, X_test_ms1, y_train, y_test)"
      ],
      "execution_count": null,
      "outputs": [
        {
          "output_type": "stream",
          "text": [
            "********************CLASSIFICATION REPORT - TRAIN *************************\n",
            "              precision    recall  f1-score   support\n",
            "\n",
            "          -1       0.99      0.99      0.99       177\n",
            "           0       1.00      1.00      1.00       403\n",
            "           1       1.00      1.00      1.00       515\n",
            "\n",
            "    accuracy                           1.00      1095\n",
            "   macro avg       1.00      1.00      1.00      1095\n",
            "weighted avg       1.00      1.00      1.00      1095\n",
            "\n",
            "********************CLASSIFICATION REPORT - TEST *************************\n",
            "              precision    recall  f1-score   support\n",
            "\n",
            "          -1       0.55      0.35      0.43        65\n",
            "           0       0.58      0.56      0.57       167\n",
            "           1       0.69      0.77      0.73       238\n",
            "\n",
            "    accuracy                           0.64       470\n",
            "   macro avg       0.61      0.56      0.58       470\n",
            "weighted avg       0.63      0.64      0.63       470\n",
            "\n",
            "*********************************************************************\n"
          ],
          "name": "stdout"
        },
        {
          "output_type": "display_data",
          "data": {
            "image/png": "[encoded data removed]",
            "text/plain": [
              "<Figure size 432x288 with 2 Axes>"
            ]
          },
          "metadata": {
            "tags": [],
            "needs_background": "light"
          }
        }
      ]
    },
    {
      "cell_type": "code",
      "metadata": {
        "colab": {
          "base_uri": "https://localhost:8080/",
          "height": 265
        },
        "id": "EMeKP6ANO8R8",
        "outputId": "1004aaef-b5ce-4733-feb7-875cb29dce70"
      },
      "source": [
        "ms1_fi = create_feature_importance(ms1_clf, ms1_vect, 'microsoft')"
      ],
      "execution_count": null,
      "outputs": [
        {
          "output_type": "display_data",
          "data": {
            "image/png": "[encoded data removed]",
            "text/plain": [
              "<Figure size 432x288 with 1 Axes>"
            ]
          },
          "metadata": {
            "tags": [],
            "needs_background": "light"
          }
        }
      ]
    },
    {
      "cell_type": "code",
      "metadata": {
        "id": "NPVZETB0O8Pp"
      },
      "source": [
        "X_train, X_test, y_train, y_test = train_test(\"/content/drive/MyDrive/Colab Notebooks/Data/crisp_data/df_etl_msft2.csv\")"
      ],
      "execution_count": null,
      "outputs": []
    },
    {
      "cell_type": "code",
      "metadata": {
        "colab": {
          "base_uri": "https://localhost:8080/"
        },
        "id": "tNt7xaghO8NS",
        "outputId": "557856e0-ee66-49cc-963a-1099f8576bc6"
      },
      "source": [
        "ms2 = GridSearchCV(full_pipe,\n",
        "                   params, cv=3, scoring='accuracy',n_jobs=-1,verbose=2)\n",
        "ms2.fit(X_train,y_train)"
      ],
      "execution_count": null,
      "outputs": [
        {
          "output_type": "stream",
          "text": [
            "Fitting 3 folds for each of 384 candidates, totalling 1152 fits\n"
          ],
          "name": "stdout"
        },
        {
          "output_type": "stream",
          "text": [
            "[Parallel(n_jobs=-1)]: Using backend LokyBackend with 2 concurrent workers.\n",
            "[Parallel(n_jobs=-1)]: Done  37 tasks      | elapsed:   19.4s\n",
            "[Parallel(n_jobs=-1)]: Done 158 tasks      | elapsed:  1.1min\n",
            "[Parallel(n_jobs=-1)]: Done 361 tasks      | elapsed:  2.4min\n",
            "[Parallel(n_jobs=-1)]: Done 644 tasks      | elapsed:  4.5min\n",
            "[Parallel(n_jobs=-1)]: Done 1009 tasks      | elapsed:  7.2min\n",
            "[Parallel(n_jobs=-1)]: Done 1152 out of 1152 | elapsed:  8.2min finished\n"
          ],
          "name": "stderr"
        },
        {
          "output_type": "execute_result",
          "data": {
            "text/plain": [
              "GridSearchCV(cv=3, error_score=nan,\n",
              "             estimator=Pipeline(memory=None,\n",
              "                                steps=[('text_pipe',\n",
              "                                        TfidfVectorizer(analyzer='word',\n",
              "                                                        binary=False,\n",
              "                                                        decode_error='strict',\n",
              "                                                        dtype=<class 'numpy.float64'>,\n",
              "                                                        encoding='utf-8',\n",
              "                                                        input=<bound method RegexpTokenizer.tokenize of RegexpTokenizer(pattern=\"([a-zA-Z]+(?:'[a-z]+)?)\", gaps=False, discard_empty=True, flags=<RegexFlag.UNICODE|DOT...\n",
              "                         'text_pipe__stop_words': [['i', 'me', 'my', 'myself',\n",
              "                                                    'we', 'our', 'ours',\n",
              "                                                    'ourselves', 'you',\n",
              "                                                    \"you're\", \"you've\",\n",
              "                                                    \"you'll\", \"you'd\", 'your',\n",
              "                                                    'yours', 'yourself',\n",
              "                                                    'yourselves', 'he', 'him',\n",
              "                                                    'his', 'himself', 'she',\n",
              "                                                    \"she's\", 'her', 'hers',\n",
              "                                                    'herself', 'it', \"it's\",\n",
              "                                                    'its', 'itself', ...],\n",
              "                                                   'english'],\n",
              "                         'text_pipe__use_idf': [True]},\n",
              "             pre_dispatch='2*n_jobs', refit=True, return_train_score=False,\n",
              "             scoring='accuracy', verbose=2)"
            ]
          },
          "metadata": {
            "tags": []
          },
          "execution_count": 191
        }
      ]
    },
    {
      "cell_type": "code",
      "metadata": {
        "colab": {
          "base_uri": "https://localhost:8080/"
        },
        "id": "30d_rOb_O8KG",
        "outputId": "4e09607a-1f0f-4c65-9040-610f0031b429"
      },
      "source": [
        "ms2_bp = ms2.best_estimator_\n",
        "joblib.dump(ms2_bp, '/content/drive/MyDrive/Colab Notebooks/Data/ms2_bp.pkl')"
      ],
      "execution_count": null,
      "outputs": [
        {
          "output_type": "execute_result",
          "data": {
            "text/plain": [
              "['/content/drive/MyDrive/Colab Notebooks/Data/ms2_bp.pkl']"
            ]
          },
          "metadata": {
            "tags": []
          },
          "execution_count": 192
        }
      ]
    },
    {
      "cell_type": "code",
      "metadata": {
        "id": "uOJ7B2c-ccUo"
      },
      "source": [
        "ms2_clf, ms2_vect, X_train_ms2, X_test_ms2 = create_vars(ms2_bp,X_train, y_train)"
      ],
      "execution_count": null,
      "outputs": []
    },
    {
      "cell_type": "code",
      "metadata": {
        "colab": {
          "base_uri": "https://localhost:8080/",
          "height": 656
        },
        "id": "ql_fT0GOO8Gq",
        "outputId": "bf59f62a-0708-40b9-f5a2-bccb06e6ffff"
      },
      "source": [
        "evaluate_model(ms2_clf, X_train_ms2, X_test_ms2, y_train, y_test)"
      ],
      "execution_count": null,
      "outputs": [
        {
          "output_type": "stream",
          "text": [
            "********************CLASSIFICATION REPORT - TRAIN *************************\n",
            "              precision    recall  f1-score   support\n",
            "\n",
            "          -1       0.98      1.00      0.99       131\n",
            "           0       1.00      1.00      1.00       413\n",
            "           1       1.00      1.00      1.00       706\n",
            "\n",
            "    accuracy                           1.00      1250\n",
            "   macro avg       0.99      1.00      0.99      1250\n",
            "weighted avg       1.00      1.00      1.00      1250\n",
            "\n",
            "********************CLASSIFICATION REPORT - TEST *************************\n",
            "              precision    recall  f1-score   support\n",
            "\n",
            "          -1       0.67      0.26      0.38        68\n",
            "           0       0.56      0.55      0.55       177\n",
            "           1       0.70      0.81      0.75       292\n",
            "\n",
            "    accuracy                           0.66       537\n",
            "   macro avg       0.64      0.54      0.56       537\n",
            "weighted avg       0.65      0.66      0.64       537\n",
            "\n",
            "*********************************************************************\n"
          ],
          "name": "stdout"
        },
        {
          "output_type": "display_data",
          "data": {
            "image/png": "[encoded data removed]",
            "text/plain": [
              "<Figure size 432x288 with 2 Axes>"
            ]
          },
          "metadata": {
            "tags": [],
            "needs_background": "light"
          }
        }
      ]
    },
    {
      "cell_type": "code",
      "metadata": {
        "colab": {
          "base_uri": "https://localhost:8080/",
          "height": 265
        },
        "id": "3yL7O4UgPxWx",
        "outputId": "2bf811a3-30e7-413f-f8b8-b33f74f1eb50"
      },
      "source": [
        "ms2_fi = create_feature_importance(ms2_clf, ms2_vect, 'microsoft')"
      ],
      "execution_count": null,
      "outputs": [
        {
          "output_type": "display_data",
          "data": {
            "image/png": "[encoded data removed]",
            "text/plain": [
              "<Figure size 432x288 with 1 Axes>"
            ]
          },
          "metadata": {
            "tags": [],
            "needs_background": "light"
          }
        }
      ]
    },
    {
      "cell_type": "markdown",
      "metadata": {
        "id": "QXI9QgUPyUKT"
      },
      "source": [
        "# Appendix\n",
        "- More models"
      ]
    },
    {
      "cell_type": "code",
      "metadata": {
        "colab": {
          "base_uri": "https://localhost:8080/"
        },
        "id": "QbKsZ-gFDi9L",
        "outputId": "ac9c129c-c735-4c7d-b376-0282cb3c61b5"
      },
      "source": [
        "# Test based on nflx1 data\n",
        "params2 = {\n",
        "         'text_pipe__use_idf':[True],\n",
        "         'text_pipe__stop_words':['english'],\n",
        "         'text_pipe__ngram_range': [(1,1)], #make change to ngram\n",
        "         'text_pipe__max_df':[0.99],\n",
        "         'text_pipe__min_df':[0.01],\n",
        "         'text_pipe__norm':['l2','l1'],\n",
        "         'clf__criterion':['gini','entropy'],\n",
        "         'clf__max_depth':[None, 100, 200],\n",
        "         'clf__min_samples_leaf': [1,5],\n",
        "         'clf__min_samples_split': [1,5],\n",
        "         'clf__max_leaf_nodes': [1,5,20],\n",
        "\n",
        "         }\n",
        "\n",
        "## Make and fit grid\n",
        "test_2 = GridSearchCV(full_pipe,\n",
        "                   params, cv=3, scoring='accuracy',n_jobs=-1,verbose=2)\n",
        "test_2.fit(X_train,y_train)\n",
        "\n",
        "\n",
        "\n",
        "\n",
        "test_2 = GridSearchCV(full_pipe,\n",
        "                   params2, cv=3, scoring='accuracy',n_jobs=-1,verbose=2)\n",
        "test_2.fit(X_train,y_train)"
      ],
      "execution_count": null,
      "outputs": [
        {
          "output_type": "stream",
          "text": [
            "Fitting 3 folds for each of 384 candidates, totalling 1152 fits\n"
          ],
          "name": "stdout"
        },
        {
          "output_type": "stream",
          "text": [
            "[Parallel(n_jobs=-1)]: Using backend LokyBackend with 2 concurrent workers.\n",
            "[Parallel(n_jobs=-1)]: Done  37 tasks      | elapsed:   14.2s\n",
            "[Parallel(n_jobs=-1)]: Done 158 tasks      | elapsed:   50.1s\n",
            "[Parallel(n_jobs=-1)]: Done 361 tasks      | elapsed:  1.8min\n",
            "[Parallel(n_jobs=-1)]: Done 644 tasks      | elapsed:  3.3min\n",
            "[Parallel(n_jobs=-1)]: Done 1009 tasks      | elapsed:  5.3min\n",
            "[Parallel(n_jobs=-1)]: Done 1152 out of 1152 | elapsed:  6.0min finished\n"
          ],
          "name": "stderr"
        },
        {
          "output_type": "stream",
          "text": [
            "Fitting 3 folds for each of 144 candidates, totalling 432 fits\n"
          ],
          "name": "stdout"
        },
        {
          "output_type": "stream",
          "text": [
            "[Parallel(n_jobs=-1)]: Using backend LokyBackend with 2 concurrent workers.\n",
            "[Parallel(n_jobs=-1)]: Done  37 tasks      | elapsed:    5.1s\n",
            "[Parallel(n_jobs=-1)]: Done 158 tasks      | elapsed:   22.4s\n",
            "[Parallel(n_jobs=-1)]: Done 361 tasks      | elapsed:   53.7s\n",
            "[Parallel(n_jobs=-1)]: Done 432 out of 432 | elapsed:  1.1min finished\n"
          ],
          "name": "stderr"
        },
        {
          "output_type": "execute_result",
          "data": {
            "text/plain": [
              "GridSearchCV(cv=3, error_score=nan,\n",
              "             estimator=Pipeline(memory=None,\n",
              "                                steps=[('text_pipe',\n",
              "                                        TfidfVectorizer(analyzer='word',\n",
              "                                                        binary=False,\n",
              "                                                        decode_error='strict',\n",
              "                                                        dtype=<class 'numpy.float64'>,\n",
              "                                                        encoding='utf-8',\n",
              "                                                        input=<bound method RegexpTokenizer.tokenize of RegexpTokenizer(pattern=\"([a-zA-Z]+(?:'[a-z]+)?)\", gaps=False, discard_empty=True, flags=<RegexFlag.UNICODE|DOT...\n",
              "                         'clf__max_leaf_nodes': [1, 5, 20],\n",
              "                         'clf__min_samples_leaf': [1, 5],\n",
              "                         'clf__min_samples_split': [1, 5],\n",
              "                         'text_pipe__max_df': [0.99],\n",
              "                         'text_pipe__min_df': [0.01],\n",
              "                         'text_pipe__ngram_range': [(1, 1)],\n",
              "                         'text_pipe__norm': ['l2', 'l1'],\n",
              "                         'text_pipe__stop_words': ['english'],\n",
              "                         'text_pipe__use_idf': [True]},\n",
              "             pre_dispatch='2*n_jobs', refit=True, return_train_score=False,\n",
              "             scoring='accuracy', verbose=2)"
            ]
          },
          "metadata": {
            "tags": []
          },
          "execution_count": 253
        }
      ]
    },
    {
      "cell_type": "code",
      "metadata": {
        "id": "Dd7EoItYukJ8"
      },
      "source": [
        "test_bp = test_2.best_estimator_"
      ],
      "execution_count": null,
      "outputs": []
    },
    {
      "cell_type": "code",
      "metadata": {
        "id": "xgEqjpsoxayK"
      },
      "source": [
        "test2_clf, test2_vect, X_train_test2, X_test_test2 = create_vars(test_bp,X_train, y_train)"
      ],
      "execution_count": null,
      "outputs": []
    },
    {
      "cell_type": "code",
      "metadata": {
        "colab": {
          "base_uri": "https://localhost:8080/",
          "height": 656
        },
        "id": "bVtLEeCQyAUj",
        "outputId": "c147fa1d-b035-4549-997b-71d0c1ab0f6b"
      },
      "source": [
        "evaluate_model(test2_clf, X_train_test2, X_test_test2, y_train, y_test)"
      ],
      "execution_count": null,
      "outputs": [
        {
          "output_type": "stream",
          "text": [
            "********************CLASSIFICATION REPORT - TRAIN *************************\n",
            "              precision    recall  f1-score   support\n",
            "\n",
            "          -1       0.83      0.81      0.82       140\n",
            "           0       0.64      0.79      0.71       194\n",
            "           1       0.88      0.78      0.83       389\n",
            "\n",
            "    accuracy                           0.79       723\n",
            "   macro avg       0.78      0.79      0.78       723\n",
            "weighted avg       0.80      0.79      0.79       723\n",
            "\n",
            "********************CLASSIFICATION REPORT - TEST *************************\n",
            "              precision    recall  f1-score   support\n",
            "\n",
            "          -1       0.37      0.33      0.35        57\n",
            "           0       0.43      0.51      0.47        92\n",
            "           1       0.69      0.64      0.67       162\n",
            "\n",
            "    accuracy                           0.55       311\n",
            "   macro avg       0.50      0.50      0.49       311\n",
            "weighted avg       0.56      0.55      0.55       311\n",
            "\n",
            "*********************************************************************\n"
          ],
          "name": "stdout"
        },
        {
          "output_type": "display_data",
          "data": {
            "image/png": "[encoded data removed]",
            "text/plain": [
              "<Figure size 432x288 with 2 Axes>"
            ]
          },
          "metadata": {
            "tags": [],
            "needs_background": "light"
          }
        }
      ]
    },
    {
      "cell_type": "code",
      "metadata": {
        "id": "LUKU_qyxyKFc"
      },
      "source": [
        "# Test\n",
        "## VERIFIED RESULTS ARE SAME IN JNB\n",
        "apple1_be = joblib.load('/content/drive/MyDrive/Colab Notebooks/Data/apple1_bp.pkl')"
      ],
      "execution_count": null,
      "outputs": []
    },
    {
      "cell_type": "code",
      "metadata": {
        "id": "t2kxZGX8IiJL"
      },
      "source": [
        "vect = apple1_be.named_steps['text_pipe']\n",
        "clf = apple1_be.named_steps['clf']"
      ],
      "execution_count": null,
      "outputs": []
    },
    {
      "cell_type": "code",
      "metadata": {
        "colab": {
          "base_uri": "https://localhost:8080/",
          "height": 979
        },
        "id": "mm16ZfidIoPx",
        "outputId": "b9090ac4-0be8-42e1-ea44-bec54a9ece64"
      },
      "source": [
        "importance = pd.Series(clf.feature_importances_,\n",
        "                      index=vect.get_feature_names())\n",
        "test=importance.sort_values(ascending=False).to_frame()\n",
        "test = test.nlargest(30, columns=0)\n",
        "test=test.sort_values(by=0, ascending=False)\n",
        "test"
      ],
      "execution_count": null,
      "outputs": [
        {
          "output_type": "execute_result",
          "data": {
            "text/html": [
              "<div>\n",
              "<style scoped>\n",
              "    .dataframe tbody tr th:only-of-type {\n",
              "        vertical-align: middle;\n",
              "    }\n",
              "\n",
              "    .dataframe tbody tr th {\n",
              "        vertical-align: top;\n",
              "    }\n",
              "\n",
              "    .dataframe thead th {\n",
              "        text-align: right;\n",
              "    }\n",
              "</style>\n",
              "<table border=\"1\" class=\"dataframe\">\n",
              "  <thead>\n",
              "    <tr style=\"text-align: right;\">\n",
              "      <th></th>\n",
              "      <th>0</th>\n",
              "    </tr>\n",
              "  </thead>\n",
              "  <tbody>\n",
              "    <tr>\n",
              "      <th>apple</th>\n",
              "      <td>0.020411</td>\n",
              "    </tr>\n",
              "    <tr>\n",
              "      <th>best</th>\n",
              "      <td>0.018409</td>\n",
              "    </tr>\n",
              "    <tr>\n",
              "      <th>new</th>\n",
              "      <td>0.015893</td>\n",
              "    </tr>\n",
              "    <tr>\n",
              "      <th>like</th>\n",
              "      <td>0.011912</td>\n",
              "    </tr>\n",
              "    <tr>\n",
              "      <th>free</th>\n",
              "      <td>0.009049</td>\n",
              "    </tr>\n",
              "    <tr>\n",
              "      <th>2021</th>\n",
              "      <td>0.008584</td>\n",
              "    </tr>\n",
              "    <tr>\n",
              "      <th>big</th>\n",
              "      <td>0.008257</td>\n",
              "    </tr>\n",
              "    <tr>\n",
              "      <th>day</th>\n",
              "      <td>0.008087</td>\n",
              "    </tr>\n",
              "    <tr>\n",
              "      <th>support</th>\n",
              "      <td>0.007534</td>\n",
              "    </tr>\n",
              "    <tr>\n",
              "      <th>years</th>\n",
              "      <td>0.007266</td>\n",
              "    </tr>\n",
              "    <tr>\n",
              "      <th>great</th>\n",
              "      <td>0.007090</td>\n",
              "    </tr>\n",
              "    <tr>\n",
              "      <th>tech</th>\n",
              "      <td>0.006676</td>\n",
              "    </tr>\n",
              "    <tr>\n",
              "      <th>amazon</th>\n",
              "      <td>0.006028</td>\n",
              "    </tr>\n",
              "    <tr>\n",
              "      <th>company</th>\n",
              "      <td>0.006017</td>\n",
              "    </tr>\n",
              "    <tr>\n",
              "      <th>pro</th>\n",
              "      <td>0.005994</td>\n",
              "    </tr>\n",
              "    <tr>\n",
              "      <th>series</th>\n",
              "      <td>0.005962</td>\n",
              "    </tr>\n",
              "    <tr>\n",
              "      <th>google</th>\n",
              "      <td>0.005902</td>\n",
              "    </tr>\n",
              "    <tr>\n",
              "      <th>podcast</th>\n",
              "      <td>0.005728</td>\n",
              "    </tr>\n",
              "    <tr>\n",
              "      <th>people</th>\n",
              "      <td>0.005672</td>\n",
              "    </tr>\n",
              "    <tr>\n",
              "      <th>year</th>\n",
              "      <td>0.005645</td>\n",
              "    </tr>\n",
              "    <tr>\n",
              "      <th>week</th>\n",
              "      <td>0.005608</td>\n",
              "    </tr>\n",
              "    <tr>\n",
              "      <th>time</th>\n",
              "      <td>0.005546</td>\n",
              "    </tr>\n",
              "    <tr>\n",
              "      <th>man</th>\n",
              "      <td>0.005470</td>\n",
              "    </tr>\n",
              "    <tr>\n",
              "      <th>coming</th>\n",
              "      <td>0.005402</td>\n",
              "    </tr>\n",
              "    <tr>\n",
              "      <th>markets</th>\n",
              "      <td>0.005391</td>\n",
              "    </tr>\n",
              "    <tr>\n",
              "      <th>june</th>\n",
              "      <td>0.005385</td>\n",
              "    </tr>\n",
              "    <tr>\n",
              "      <th>tv</th>\n",
              "      <td>0.005302</td>\n",
              "    </tr>\n",
              "    <tr>\n",
              "      <th>online</th>\n",
              "      <td>0.005246</td>\n",
              "    </tr>\n",
              "    <tr>\n",
              "      <th>today</th>\n",
              "      <td>0.005131</td>\n",
              "    </tr>\n",
              "    <tr>\n",
              "      <th>according</th>\n",
              "      <td>0.005036</td>\n",
              "    </tr>\n",
              "  </tbody>\n",
              "</table>\n",
              "</div>"
            ],
            "text/plain": [
              "                  0\n",
              "apple      0.020411\n",
              "best       0.018409\n",
              "new        0.015893\n",
              "like       0.011912\n",
              "free       0.009049\n",
              "2021       0.008584\n",
              "big        0.008257\n",
              "day        0.008087\n",
              "support    0.007534\n",
              "years      0.007266\n",
              "great      0.007090\n",
              "tech       0.006676\n",
              "amazon     0.006028\n",
              "company    0.006017\n",
              "pro        0.005994\n",
              "series     0.005962\n",
              "google     0.005902\n",
              "podcast    0.005728\n",
              "people     0.005672\n",
              "year       0.005645\n",
              "week       0.005608\n",
              "time       0.005546\n",
              "man        0.005470\n",
              "coming     0.005402\n",
              "markets    0.005391\n",
              "june       0.005385\n",
              "tv         0.005302\n",
              "online     0.005246\n",
              "today      0.005131\n",
              "according  0.005036"
            ]
          },
          "metadata": {
            "tags": []
          },
          "execution_count": 141
        }
      ]
    },
    {
      "cell_type": "code",
      "metadata": {
        "id": "vaw52oBZIt8J"
      },
      "source": [
        ""
      ],
      "execution_count": null,
      "outputs": []
    }
  ]
}