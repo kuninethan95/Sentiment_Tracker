{
 "cells": [
  {
   "cell_type": "markdown",
   "metadata": {},
   "source": [
    "# Gathering News Articles"
   ]
  },
  {
   "cell_type": "code",
   "execution_count": 1,
   "metadata": {
    "ExecuteTime": {
     "end_time": "2021-07-13T23:29:02.733855Z",
     "start_time": "2021-07-13T23:29:02.319916Z"
    }
   },
   "outputs": [],
   "source": [
    "import pandas as pd\n",
    "import requests"
   ]
  },
  {
   "cell_type": "code",
   "execution_count": 2,
   "metadata": {
    "ExecuteTime": {
     "end_time": "2021-07-13T23:29:02.804551Z",
     "start_time": "2021-07-13T23:29:02.802519Z"
    }
   },
   "outputs": [],
   "source": [
    "# ! pip install newsapi-python"
   ]
  },
  {
   "cell_type": "code",
   "execution_count": 3,
   "metadata": {
    "ExecuteTime": {
     "end_time": "2021-07-13T23:29:03.352038Z",
     "start_time": "2021-07-13T23:29:03.339294Z"
    }
   },
   "outputs": [],
   "source": [
    "from newsapi import NewsApiClient"
   ]
  },
  {
   "cell_type": "code",
   "execution_count": 4,
   "metadata": {
    "ExecuteTime": {
     "end_time": "2021-07-13T23:29:04.711356Z",
     "start_time": "2021-07-13T23:29:04.705631Z"
    }
   },
   "outputs": [],
   "source": [
    "newsapi = NewsApiClient(api_key='2b80f081118d48e1aee956d6ac38d236')"
   ]
  },
  {
   "cell_type": "code",
   "execution_count": 5,
   "metadata": {
    "ExecuteTime": {
     "end_time": "2021-07-13T23:29:05.166206Z",
     "start_time": "2021-07-13T23:29:05.155747Z"
    }
   },
   "outputs": [],
   "source": [
    "def time_maker(start, stop, month):\n",
    "    all_times = []\n",
    "    days = list(range(start,stop))\n",
    "    for day in days:\n",
    "        lst = [13,14,14,15,15,16,16,17,17,18,18,19,19,20]\n",
    "        for i in range(len(lst)):\n",
    "            if lst[i]==0 or lst[i]==8:\n",
    "                all_times.append(f\"2021-{month}-{day}T0{lst[i]}:00:00\")\n",
    "            else:          \n",
    "                all_times.append(f\"2021-{month}-{day}T{lst[i]}:00:00\")\n",
    "    \n",
    "    to_ = all_times[::2]\n",
    "    from_ = all_times[1::2]\n",
    "    zipped = list(zip(to_, from_))\n",
    "    return all_times, to_, from_, zipped"
   ]
  },
  {
   "cell_type": "markdown",
   "metadata": {},
   "source": [
    "## APPLE DATA"
   ]
  },
  {
   "cell_type": "code",
   "execution_count": null,
   "metadata": {
    "ExecuteTime": {
     "end_time": "2021-07-02T15:40:15.945158Z",
     "start_time": "2021-07-02T15:40:15.938616Z"
    }
   },
   "outputs": [],
   "source": [
    "ap_week1_all, ap_week1_to, ap_week1_from, ap_week1_zip = time_maker(14,19,'06')"
   ]
  },
  {
   "cell_type": "code",
   "execution_count": 8,
   "metadata": {
    "ExecuteTime": {
     "end_time": "2021-07-11T18:25:26.859039Z",
     "start_time": "2021-07-11T18:25:26.853561Z"
    }
   },
   "outputs": [],
   "source": [
    "def get_data(zipped_dates):\n",
    "    hourly_data = []\n",
    "    for a, b in zipped_dates:\n",
    "        data = newsapi.get_everything(q='Apple',\n",
    "                                    from_param=a,\n",
    "                                    to=b,\n",
    "                                    language='en',\n",
    "                                    sort_by='relevancy',\n",
    "                                    page_size=100)\n",
    "        hourly_data.append(data)\n",
    "    return hourly_data"
   ]
  },
  {
   "cell_type": "code",
   "execution_count": null,
   "metadata": {},
   "outputs": [],
   "source": [
    "ap_week1 = get_data(ap_week1_zip)"
   ]
  },
  {
   "cell_type": "code",
   "execution_count": 12,
   "metadata": {
    "ExecuteTime": {
     "end_time": "2021-07-13T23:31:00.384509Z",
     "start_time": "2021-07-13T23:31:00.376175Z"
    }
   },
   "outputs": [],
   "source": [
    "def json_to_df(hourly_company_data):\n",
    "\n",
    "    df_list = []\n",
    "    for data in hourly_company_data:\n",
    "        article = pd.DataFrame(data['articles'])\n",
    "        article['results'] = data['totalResults']\n",
    "        df_list.append(article)\n",
    "        \n",
    "    company_df = pd.concat(df_list)\n",
    "    return company_df"
   ]
  },
  {
   "cell_type": "code",
   "execution_count": null,
   "metadata": {},
   "outputs": [],
   "source": [
    "df_appl = json_to_df(ap_week1)"
   ]
  },
  {
   "cell_type": "code",
   "execution_count": 15,
   "metadata": {
    "ExecuteTime": {
     "end_time": "2021-07-13T23:31:24.405211Z",
     "start_time": "2021-07-13T23:31:24.397578Z"
    }
   },
   "outputs": [],
   "source": [
    "def source_corrector(row):\n",
    "    row['source2'] = str(row['source']).split(':')[-1].strip().replace('}','')[1:-1].split('.')[0]\n",
    "    return row"
   ]
  },
  {
   "cell_type": "code",
   "execution_count": null,
   "metadata": {
    "ExecuteTime": {
     "end_time": "2021-07-08T01:14:14.822455Z",
     "start_time": "2021-07-08T01:14:14.705340Z"
    }
   },
   "outputs": [],
   "source": [
    "apple_df=apple_df.apply(source_corrector, axis=1)"
   ]
  },
  {
   "cell_type": "code",
   "execution_count": null,
   "metadata": {
    "ExecuteTime": {
     "end_time": "2021-06-30T17:01:27.134242Z",
     "start_time": "2021-06-30T17:01:27.053250Z"
    }
   },
   "outputs": [],
   "source": [
    "apple_df.to_csv('hourly_apple_articles_614_618')"
   ]
  },
  {
   "cell_type": "code",
   "execution_count": null,
   "metadata": {},
   "outputs": [],
   "source": [
    "ap_week2_all, ap_week2_to, ap_week2_from, ap_week2_zip = time_maker(21,25,'06')"
   ]
  },
  {
   "cell_type": "code",
   "execution_count": null,
   "metadata": {},
   "outputs": [],
   "source": [
    "ap_week1 = get_data(ap_week2_zip)"
   ]
  },
  {
   "cell_type": "code",
   "execution_count": null,
   "metadata": {},
   "outputs": [],
   "source": [
    "df_app2 = json_to_df(ap_week2)"
   ]
  },
  {
   "cell_type": "code",
   "execution_count": null,
   "metadata": {},
   "outputs": [],
   "source": [
    "df_app2=apple_df.apply(source_corrector, axis=1)"
   ]
  },
  {
   "cell_type": "code",
   "execution_count": null,
   "metadata": {},
   "outputs": [],
   "source": [
    "apple_df.to_csv('hourly_apple_articles_621_625')"
   ]
  },
  {
   "cell_type": "code",
   "execution_count": null,
   "metadata": {
    "ExecuteTime": {
     "end_time": "2021-06-30T01:16:30.087638Z",
     "start_time": "2021-06-30T01:16:30.081862Z"
    }
   },
   "outputs": [],
   "source": [
    "big_sources = list(apple_df['source2'].unique())\n",
    "new_sources = list(set(big_sources).difference(set(source_list)))"
   ]
  },
  {
   "cell_type": "code",
   "execution_count": null,
   "metadata": {
    "ExecuteTime": {
     "end_time": "2021-07-08T01:15:46.999848Z",
     "start_time": "2021-07-08T01:15:46.989446Z"
    }
   },
   "outputs": [],
   "source": [
    "# Sources to exlude\n",
    "\n",
    "bad_sources = ['LatestLY', 'iMore', 'Phandroid - News for Android', 'Internet', 'AnandTech', 'Justcreative.com',\n",
    "      'Raywenderlich.com', 'Lifehacker Australia', 'News18', 'Zee Business', 'Geeky Gadgets', 'Business Wire',\n",
    "      'Digital Information World', 'Madshrimps.be', 'Theinventory.com', 'Ozbargain.com.au', 'Www.bgr.in',\n",
    "      \"Paul Tan's Automotive News\", 'Livemint', 'Todayifoundout.com', 'Hotukdeals.com', 'Thefutoncritic.com',\n",
    "      'Applelinkage.com', 'Worldsoccertalk.com', '9to5Toys', 'Torrentfreak.com', 'Slickdeals.net',\n",
    "      'Rock Paper Shotgun', 'Idownloadblog.com', 'Justinobeirne.com', 'Everydaycarry.com', 'Ars Technica',\n",
    "      'Intheknow.com', 'Yanko Design', 'Lefsetz.com', 'Android Community', '/FILM', 'Droid Life',\n",
    "      'Moneysavingmom.com', 'WDVM 25', 'Nextjs.org', 'ComingSoon.net', 'Hip2save.com', 'Giveawayoftheday.com',\n",
    "      'Wptavern.com', 'Visual.ly', 'Denton Record Chronicle', 'Pocket Gamer', 'Moneycontrol',\n",
    "      'Commonsensewithmoney.com', 'PC Gamer', 'Livedoor.jp', 'Trendhunter.com', 'Twit.tv', 'Prtimes.jp',\n",
    "      'NWAOnline', 'Raw Story', 'MobiHealthNews', 'guru3d.com', 'Travelcodex.com', 'T3 US/CA', 'Ctvnews.ca',\n",
    "       'Macitynet.it', 'The Hindu', 'Thekitchn.com', 'Omgubuntu.co.uk', 'DC Rainmaker', 'Foodgawker.com',\n",
    "       'Just Jared', 'Mediagazer.com', 'Theshutterwhale.com', 'Uark.edu', 'Sputnik International', 'Pinkbike.com',\n",
    "       'CNA', 'EurekAlert', 'Energy-storage.news', 'Rogerebert.com', 'Driving', 'Phys.Org', 'The Times of India',\n",
    "       'Eonline.com', 'DIYphotography', 'Food52.com', 'BMWBLOG']"
   ]
  },
  {
   "cell_type": "markdown",
   "metadata": {},
   "source": [
    "## MICROSOFT DATA"
   ]
  },
  {
   "cell_type": "code",
   "execution_count": null,
   "metadata": {
    "ExecuteTime": {
     "end_time": "2021-07-03T15:11:38.415327Z",
     "start_time": "2021-07-03T15:11:38.408449Z"
    }
   },
   "outputs": [],
   "source": [
    "m_week1_all, m_week1_to, m_week1_from, m_week1_zip = time_maker(14,19,'06')"
   ]
  },
  {
   "cell_type": "code",
   "execution_count": null,
   "metadata": {
    "ExecuteTime": {
     "end_time": "2021-07-03T15:17:41.065227Z",
     "start_time": "2021-07-03T15:17:41.056966Z"
    }
   },
   "outputs": [],
   "source": [
    "def get_data(zipped_dates):\n",
    "    hourly_data = []\n",
    "    for a, b in zipped_dates:\n",
    "        data = newsapi.get_everything(q='Microsoft',\n",
    "                                    from_param=a,\n",
    "                                    to=b,\n",
    "                                    language='en',\n",
    "                                    sort_by='relevancy',\n",
    "                                    page_size=100)\n",
    "        hourly_data.append(data)\n",
    "    return hourly_data"
   ]
  },
  {
   "cell_type": "code",
   "execution_count": null,
   "metadata": {
    "ExecuteTime": {
     "end_time": "2021-07-03T15:11:45.875450Z",
     "start_time": "2021-07-03T15:11:45.412157Z"
    }
   },
   "outputs": [],
   "source": [
    "m_week1 = get_data(m_week1_zip)"
   ]
  },
  {
   "cell_type": "code",
   "execution_count": null,
   "metadata": {
    "ExecuteTime": {
     "end_time": "2021-07-02T18:57:20.671434Z",
     "start_time": "2021-07-02T18:57:20.600826Z"
    }
   },
   "outputs": [],
   "source": [
    "df_msft = json_to_df(m_week1)"
   ]
  },
  {
   "cell_type": "code",
   "execution_count": null,
   "metadata": {
    "ExecuteTime": {
     "end_time": "2021-07-02T18:59:25.591730Z",
     "start_time": "2021-07-02T18:59:24.961253Z"
    }
   },
   "outputs": [],
   "source": [
    "df_msft = df_msft.apply(source_corrector, axis=1)"
   ]
  },
  {
   "cell_type": "code",
   "execution_count": null,
   "metadata": {
    "ExecuteTime": {
     "end_time": "2021-07-04T16:05:29.057761Z",
     "start_time": "2021-07-04T16:05:29.044251Z"
    }
   },
   "outputs": [],
   "source": [
    "df_msft.to_csv('hourly_msft_articles_614_618')"
   ]
  },
  {
   "cell_type": "code",
   "execution_count": null,
   "metadata": {
    "ExecuteTime": {
     "end_time": "2021-07-03T15:18:13.780618Z",
     "start_time": "2021-07-03T15:18:13.774504Z"
    }
   },
   "outputs": [],
   "source": [
    "m_week2_all, m_week2_to, m_week2_from, m_week2_zip = time_maker(21,26,'06')"
   ]
  },
  {
   "cell_type": "code",
   "execution_count": null,
   "metadata": {
    "ExecuteTime": {
     "end_time": "2021-07-03T16:02:18.350526Z",
     "start_time": "2021-07-03T16:02:01.396703Z"
    }
   },
   "outputs": [],
   "source": [
    "m_week2 = get_data(m_week2_zip)"
   ]
  },
  {
   "cell_type": "code",
   "execution_count": null,
   "metadata": {
    "ExecuteTime": {
     "end_time": "2021-07-03T16:03:17.938049Z",
     "start_time": "2021-07-03T16:03:17.876835Z"
    }
   },
   "outputs": [],
   "source": [
    "df_msft2 = json_to_df(m_week2)"
   ]
  },
  {
   "cell_type": "code",
   "execution_count": null,
   "metadata": {
    "ExecuteTime": {
     "end_time": "2021-07-03T16:04:06.015427Z",
     "start_time": "2021-07-03T16:04:05.302231Z"
    }
   },
   "outputs": [],
   "source": [
    "df_msft2=df_msft2.apply(source_corrector, axis=1)"
   ]
  },
  {
   "cell_type": "code",
   "execution_count": null,
   "metadata": {
    "ExecuteTime": {
     "end_time": "2021-07-03T16:04:45.497284Z",
     "start_time": "2021-07-03T16:04:45.441925Z"
    }
   },
   "outputs": [],
   "source": [
    "df_msft2.to_csv('hourly_msft_articles_621_625')"
   ]
  },
  {
   "cell_type": "markdown",
   "metadata": {},
   "source": [
    "## AMAZON DATA"
   ]
  },
  {
   "cell_type": "code",
   "execution_count": null,
   "metadata": {
    "ExecuteTime": {
     "end_time": "2021-07-03T16:08:00.655760Z",
     "start_time": "2021-07-03T16:08:00.650392Z"
    }
   },
   "outputs": [],
   "source": [
    "am_week1_all, am_week1_to, am_week1_from, am_week1_zip = time_maker(14,19,'06')"
   ]
  },
  {
   "cell_type": "code",
   "execution_count": null,
   "metadata": {
    "ExecuteTime": {
     "end_time": "2021-07-03T16:07:03.329795Z",
     "start_time": "2021-07-03T16:07:03.324679Z"
    }
   },
   "outputs": [],
   "source": [
    "def get_data(zipped_dates):\n",
    "    hourly_data = []\n",
    "    for a, b in zipped_dates:\n",
    "        data = newsapi.get_everything(q='Amazon',\n",
    "                                    from_param=a,\n",
    "                                    to=b,\n",
    "                                    language='en',\n",
    "                                    sort_by='relevancy',\n",
    "                                    page_size=100)\n",
    "        hourly_data.append(data)\n",
    "    return hourly_data"
   ]
  },
  {
   "cell_type": "code",
   "execution_count": null,
   "metadata": {
    "ExecuteTime": {
     "end_time": "2021-07-03T16:08:35.393988Z",
     "start_time": "2021-07-03T16:08:14.105024Z"
    }
   },
   "outputs": [],
   "source": [
    "am_week1 = get_data(am_week1_zip)"
   ]
  },
  {
   "cell_type": "code",
   "execution_count": null,
   "metadata": {
    "ExecuteTime": {
     "end_time": "2021-07-03T16:09:12.414080Z",
     "start_time": "2021-07-03T16:09:12.353858Z"
    }
   },
   "outputs": [],
   "source": [
    "df_am1 = json_to_df(am_week1)"
   ]
  },
  {
   "cell_type": "code",
   "execution_count": null,
   "metadata": {
    "ExecuteTime": {
     "end_time": "2021-07-03T16:09:56.390503Z",
     "start_time": "2021-07-03T16:09:55.168374Z"
    }
   },
   "outputs": [],
   "source": [
    "df_am1=df_am1.apply(source_corrector, axis=1)"
   ]
  },
  {
   "cell_type": "code",
   "execution_count": null,
   "metadata": {
    "ExecuteTime": {
     "end_time": "2021-07-03T16:10:50.543274Z",
     "start_time": "2021-07-03T16:10:50.465438Z"
    }
   },
   "outputs": [],
   "source": [
    "df_am1.to_csv('hourly_am_articles_614_618')"
   ]
  },
  {
   "cell_type": "code",
   "execution_count": null,
   "metadata": {
    "ExecuteTime": {
     "end_time": "2021-07-03T16:11:49.893092Z",
     "start_time": "2021-07-03T16:11:49.888231Z"
    }
   },
   "outputs": [],
   "source": [
    "am_week2_all, am_week2_to, am_week2_from, am_week2_zip = time_maker(21,26,'06')"
   ]
  },
  {
   "cell_type": "code",
   "execution_count": null,
   "metadata": {
    "ExecuteTime": {
     "end_time": "2021-07-03T20:11:57.043267Z",
     "start_time": "2021-07-03T20:11:36.122695Z"
    }
   },
   "outputs": [],
   "source": [
    "am_week2 = get_data(am_week2_zip)"
   ]
  },
  {
   "cell_type": "code",
   "execution_count": null,
   "metadata": {
    "ExecuteTime": {
     "end_time": "2021-07-03T20:12:33.405485Z",
     "start_time": "2021-07-03T20:12:33.258128Z"
    }
   },
   "outputs": [],
   "source": [
    "df_am2 = json_to_df(am_week2)"
   ]
  },
  {
   "cell_type": "code",
   "execution_count": null,
   "metadata": {
    "ExecuteTime": {
     "end_time": "2021-07-03T20:13:06.373177Z",
     "start_time": "2021-07-03T20:13:05.219462Z"
    }
   },
   "outputs": [],
   "source": [
    "df_am2=df_am2.apply(source_corrector, axis=1)"
   ]
  },
  {
   "cell_type": "code",
   "execution_count": null,
   "metadata": {
    "ExecuteTime": {
     "end_time": "2021-07-03T20:13:28.357834Z",
     "start_time": "2021-07-03T20:13:28.248025Z"
    }
   },
   "outputs": [],
   "source": [
    "df_am2.to_csv('hourly_am_articles_621_625')"
   ]
  },
  {
   "cell_type": "markdown",
   "metadata": {},
   "source": [
    "## NETFLIX DATA"
   ]
  },
  {
   "cell_type": "code",
   "execution_count": null,
   "metadata": {
    "ExecuteTime": {
     "end_time": "2021-07-03T20:14:44.390152Z",
     "start_time": "2021-07-03T20:14:44.380775Z"
    }
   },
   "outputs": [],
   "source": [
    "nf_week1_all, nf_week1_to, nf_week1_from, nf_week1_zip = time_maker(14,19,'06')"
   ]
  },
  {
   "cell_type": "code",
   "execution_count": null,
   "metadata": {
    "ExecuteTime": {
     "end_time": "2021-07-04T16:08:00.828962Z",
     "start_time": "2021-07-04T16:08:00.822051Z"
    }
   },
   "outputs": [],
   "source": [
    "def get_data(zipped_dates):\n",
    "    hourly_data = []\n",
    "    for a, b in zipped_dates:\n",
    "        data = newsapi.get_everything(q='Netflix',\n",
    "                                    from_param=a,\n",
    "                                    to=b,\n",
    "                                    language='en',\n",
    "                                    sort_by='relevancy',\n",
    "                                    page_size=100)\n",
    "        hourly_data.append(data)\n",
    "    return hourly_data"
   ]
  },
  {
   "cell_type": "code",
   "execution_count": null,
   "metadata": {
    "ExecuteTime": {
     "end_time": "2021-07-03T20:15:48.204710Z",
     "start_time": "2021-07-03T20:15:30.832747Z"
    }
   },
   "outputs": [],
   "source": [
    "nf_week1 = get_data(nf_week1_zip)"
   ]
  },
  {
   "cell_type": "code",
   "execution_count": null,
   "metadata": {
    "ExecuteTime": {
     "end_time": "2021-07-03T20:16:26.791940Z",
     "start_time": "2021-07-03T20:16:26.736410Z"
    }
   },
   "outputs": [],
   "source": [
    "df_nf1 = json_to_df(nf_week1)"
   ]
  },
  {
   "cell_type": "code",
   "execution_count": null,
   "metadata": {
    "ExecuteTime": {
     "end_time": "2021-07-03T20:16:58.321693Z",
     "start_time": "2021-07-03T20:16:57.415107Z"
    }
   },
   "outputs": [],
   "source": [
    "df_nf1=df_nf1.apply(source_corrector, axis=1)"
   ]
  },
  {
   "cell_type": "code",
   "execution_count": null,
   "metadata": {
    "ExecuteTime": {
     "end_time": "2021-07-03T20:17:22.625677Z",
     "start_time": "2021-07-03T20:17:22.583335Z"
    }
   },
   "outputs": [],
   "source": [
    "df_nf1.to_csv('hourly_nf_articles_614_618')"
   ]
  },
  {
   "cell_type": "code",
   "execution_count": null,
   "metadata": {
    "ExecuteTime": {
     "end_time": "2021-07-04T16:08:08.741635Z",
     "start_time": "2021-07-04T16:08:08.735880Z"
    }
   },
   "outputs": [],
   "source": [
    "nf_week2_all, nf_week2_to, nf_week2_from, nf_week2_zip = time_maker(21,26,'06')"
   ]
  },
  {
   "cell_type": "code",
   "execution_count": null,
   "metadata": {
    "ExecuteTime": {
     "end_time": "2021-07-04T21:52:08.369512Z",
     "start_time": "2021-07-04T21:51:53.422194Z"
    }
   },
   "outputs": [],
   "source": [
    "nf_week2 = get_data(nf_week2_zip)"
   ]
  },
  {
   "cell_type": "code",
   "execution_count": null,
   "metadata": {
    "ExecuteTime": {
     "end_time": "2021-07-04T21:52:53.411652Z",
     "start_time": "2021-07-04T21:52:40.334786Z"
    }
   },
   "outputs": [],
   "source": [
    "nf_week2 = get_data(nf_week2_zip)"
   ]
  },
  {
   "cell_type": "code",
   "execution_count": null,
   "metadata": {
    "ExecuteTime": {
     "end_time": "2021-07-04T21:52:53.874467Z",
     "start_time": "2021-07-04T21:52:53.752376Z"
    }
   },
   "outputs": [],
   "source": [
    "df_nf2 = json_to_df(nf_week2)"
   ]
  },
  {
   "cell_type": "code",
   "execution_count": null,
   "metadata": {
    "ExecuteTime": {
     "end_time": "2021-07-04T21:53:07.650296Z",
     "start_time": "2021-07-04T21:53:07.115392Z"
    }
   },
   "outputs": [],
   "source": [
    "df_nf2=df_nf2.apply(source_corrector, axis=1)"
   ]
  },
  {
   "cell_type": "code",
   "execution_count": null,
   "metadata": {
    "ExecuteTime": {
     "end_time": "2021-07-04T21:58:26.045295Z",
     "start_time": "2021-07-04T21:58:25.995436Z"
    }
   },
   "outputs": [],
   "source": [
    "df_nf2.to_csv('hourly_nf_articles_621_625')"
   ]
  },
  {
   "cell_type": "markdown",
   "metadata": {},
   "source": [
    "## GOOGLE DATA"
   ]
  },
  {
   "cell_type": "code",
   "execution_count": null,
   "metadata": {
    "ExecuteTime": {
     "end_time": "2021-07-07T14:15:36.516918Z",
     "start_time": "2021-07-07T14:15:36.512227Z"
    }
   },
   "outputs": [],
   "source": [
    "goog_week1_all, goog_week1_to, goog_week1_from, goog_week1_zip = time_maker(14,19,'06')"
   ]
  },
  {
   "cell_type": "code",
   "execution_count": null,
   "metadata": {
    "ExecuteTime": {
     "end_time": "2021-07-07T14:16:04.959917Z",
     "start_time": "2021-07-07T14:16:04.952218Z"
    }
   },
   "outputs": [],
   "source": [
    "def get_data(zipped_dates):\n",
    "    hourly_data = []\n",
    "    for a, b in zipped_dates:\n",
    "        data = newsapi.get_everything(q='Google',\n",
    "                                    from_param=a,\n",
    "                                    to=b,\n",
    "                                    language='en',\n",
    "                                    sort_by='relevancy',\n",
    "                                    page_size=100)\n",
    "        hourly_data.append(data)\n",
    "    return hourly_data"
   ]
  },
  {
   "cell_type": "code",
   "execution_count": null,
   "metadata": {
    "ExecuteTime": {
     "end_time": "2021-07-04T21:54:41.831340Z",
     "start_time": "2021-07-04T21:54:21.463359Z"
    }
   },
   "outputs": [],
   "source": [
    "goog_week1 = get_data(goog_week1_zip)"
   ]
  },
  {
   "cell_type": "code",
   "execution_count": null,
   "metadata": {
    "ExecuteTime": {
     "end_time": "2021-07-04T21:54:59.412987Z",
     "start_time": "2021-07-04T21:54:59.356429Z"
    }
   },
   "outputs": [],
   "source": [
    "df_goog1 = json_to_df(goog_week1)"
   ]
  },
  {
   "cell_type": "code",
   "execution_count": null,
   "metadata": {
    "ExecuteTime": {
     "end_time": "2021-07-04T21:55:19.966126Z",
     "start_time": "2021-07-04T21:55:18.525787Z"
    }
   },
   "outputs": [],
   "source": [
    "df_goog1=df_goog1.apply(source_corrector, axis=1)"
   ]
  },
  {
   "cell_type": "code",
   "execution_count": null,
   "metadata": {
    "ExecuteTime": {
     "end_time": "2021-07-04T21:56:09.306270Z",
     "start_time": "2021-07-04T21:56:09.221505Z"
    }
   },
   "outputs": [],
   "source": [
    "df_goog1.to_csv('hourly_goog_articles_614_618')"
   ]
  },
  {
   "cell_type": "code",
   "execution_count": null,
   "metadata": {
    "ExecuteTime": {
     "end_time": "2021-07-07T14:16:08.778080Z",
     "start_time": "2021-07-07T14:16:08.772850Z"
    }
   },
   "outputs": [],
   "source": [
    "goog_week2_all, goog_week2_to, goog_week2_from, goog_week2_zip = time_maker(21,26,'06')"
   ]
  },
  {
   "cell_type": "code",
   "execution_count": null,
   "metadata": {
    "ExecuteTime": {
     "end_time": "2021-07-07T14:16:31.984330Z",
     "start_time": "2021-07-07T14:16:10.806244Z"
    }
   },
   "outputs": [],
   "source": [
    "goog_week2 = get_data(goog_week2_zip)"
   ]
  },
  {
   "cell_type": "code",
   "execution_count": null,
   "metadata": {
    "ExecuteTime": {
     "end_time": "2021-07-07T14:16:53.078969Z",
     "start_time": "2021-07-07T14:16:52.984920Z"
    }
   },
   "outputs": [],
   "source": [
    "df_goog2 = json_to_df(goog_week2)"
   ]
  },
  {
   "cell_type": "code",
   "execution_count": null,
   "metadata": {
    "ExecuteTime": {
     "end_time": "2021-07-07T14:16:55.825404Z",
     "start_time": "2021-07-07T14:16:54.648401Z"
    }
   },
   "outputs": [],
   "source": [
    "df_goog2=df_goog2.apply(source_corrector, axis=1)"
   ]
  },
  {
   "cell_type": "code",
   "execution_count": null,
   "metadata": {
    "ExecuteTime": {
     "end_time": "2021-07-07T14:16:56.583932Z",
     "start_time": "2021-07-07T14:16:56.491993Z"
    }
   },
   "outputs": [],
   "source": [
    "df_goog2.to_csv('hourly_goog_articles_621_626')"
   ]
  },
  {
   "cell_type": "markdown",
   "metadata": {},
   "source": [
    "## FACEBOOK DATA"
   ]
  },
  {
   "cell_type": "code",
   "execution_count": null,
   "metadata": {
    "ExecuteTime": {
     "end_time": "2021-07-07T14:17:29.970209Z",
     "start_time": "2021-07-07T14:17:29.964065Z"
    }
   },
   "outputs": [],
   "source": [
    "fb_week1_all, fb_week1_to, fb_week1_from, fb_week1_zip = time_maker(14,19,'06')"
   ]
  },
  {
   "cell_type": "code",
   "execution_count": 8,
   "metadata": {
    "ExecuteTime": {
     "end_time": "2021-07-13T23:29:22.066757Z",
     "start_time": "2021-07-13T23:29:22.060496Z"
    }
   },
   "outputs": [],
   "source": [
    "def get_data(zipped_dates):\n",
    "    hourly_data = []\n",
    "    for a, b in zipped_dates:\n",
    "        data = newsapi.get_everything(q='Facebook',\n",
    "                                    from_param=a,\n",
    "                                    to=b,\n",
    "                                    language='en',\n",
    "                                    sort_by='relevancy',\n",
    "                                    page_size=100)\n",
    "        hourly_data.append(data)\n",
    "    return hourly_data"
   ]
  },
  {
   "cell_type": "code",
   "execution_count": null,
   "metadata": {
    "ExecuteTime": {
     "end_time": "2021-07-07T14:18:43.210161Z",
     "start_time": "2021-07-07T14:18:20.553485Z"
    }
   },
   "outputs": [],
   "source": [
    "fb_week1 = get_data(fb_week1_zip)"
   ]
  },
  {
   "cell_type": "code",
   "execution_count": 13,
   "metadata": {
    "ExecuteTime": {
     "end_time": "2021-07-13T23:31:04.006752Z",
     "start_time": "2021-07-13T23:31:03.990814Z"
    }
   },
   "outputs": [
    {
     "ename": "NameError",
     "evalue": "name 'fb_week1' is not defined",
     "output_type": "error",
     "traceback": [
      "\u001b[0;31m---------------------------------------------------------------------------\u001b[0m",
      "\u001b[0;31mNameError\u001b[0m                                 Traceback (most recent call last)",
      "\u001b[0;32m<ipython-input-13-67100edeac49>\u001b[0m in \u001b[0;36m<module>\u001b[0;34m\u001b[0m\n\u001b[0;32m----> 1\u001b[0;31m \u001b[0mdf_fb1\u001b[0m \u001b[0;34m=\u001b[0m \u001b[0mjson_to_df\u001b[0m\u001b[0;34m(\u001b[0m\u001b[0mfb_week1\u001b[0m\u001b[0;34m)\u001b[0m\u001b[0;34m\u001b[0m\u001b[0;34m\u001b[0m\u001b[0m\n\u001b[0m",
      "\u001b[0;31mNameError\u001b[0m: name 'fb_week1' is not defined"
     ]
    }
   ],
   "source": [
    "df_fb1 = json_to_df(fb_week1)"
   ]
  },
  {
   "cell_type": "code",
   "execution_count": null,
   "metadata": {
    "ExecuteTime": {
     "end_time": "2021-07-07T14:19:04.015626Z",
     "start_time": "2021-07-07T14:19:02.851155Z"
    }
   },
   "outputs": [],
   "source": [
    "df_fb1=df_fb1.apply(source_corrector, axis=1)"
   ]
  },
  {
   "cell_type": "code",
   "execution_count": null,
   "metadata": {
    "ExecuteTime": {
     "end_time": "2021-07-07T14:19:25.010183Z",
     "start_time": "2021-07-07T14:19:24.929442Z"
    }
   },
   "outputs": [],
   "source": [
    "df_fb1.to_csv('hourly_fb_articles_614_618')"
   ]
  },
  {
   "cell_type": "code",
   "execution_count": 9,
   "metadata": {
    "ExecuteTime": {
     "end_time": "2021-07-13T23:29:26.493176Z",
     "start_time": "2021-07-13T23:29:26.489733Z"
    }
   },
   "outputs": [],
   "source": [
    "fb_week2_all, fb_week2_to, fb_week2_from, fb_week2_zip = time_maker(21,26,'06')"
   ]
  },
  {
   "cell_type": "code",
   "execution_count": 10,
   "metadata": {
    "ExecuteTime": {
     "end_time": "2021-07-13T23:29:52.440669Z",
     "start_time": "2021-07-13T23:29:26.938684Z"
    }
   },
   "outputs": [],
   "source": [
    "# Run this when I have credits\n",
    "fb_week2 = get_data(fb_week2_zip)"
   ]
  },
  {
   "cell_type": "code",
   "execution_count": 14,
   "metadata": {
    "ExecuteTime": {
     "end_time": "2021-07-13T23:31:17.479054Z",
     "start_time": "2021-07-13T23:31:17.393318Z"
    }
   },
   "outputs": [],
   "source": [
    "df_fb2 = json_to_df(fb_week2)"
   ]
  },
  {
   "cell_type": "code",
   "execution_count": 16,
   "metadata": {
    "ExecuteTime": {
     "end_time": "2021-07-13T23:31:30.241200Z",
     "start_time": "2021-07-13T23:31:29.119166Z"
    }
   },
   "outputs": [],
   "source": [
    "df_fb2=df_fb2.apply(source_corrector, axis=1)"
   ]
  },
  {
   "cell_type": "code",
   "execution_count": 17,
   "metadata": {
    "ExecuteTime": {
     "end_time": "2021-07-13T23:31:30.936165Z",
     "start_time": "2021-07-13T23:31:30.845053Z"
    }
   },
   "outputs": [],
   "source": [
    "df_fb2.to_csv('hourly_fb_articles_621_625')"
   ]
  },
  {
   "cell_type": "markdown",
   "metadata": {},
   "source": [
    "# Cleaning News Data"
   ]
  },
  {
   "cell_type": "code",
   "execution_count": null,
   "metadata": {
    "ExecuteTime": {
     "end_time": "2021-07-04T22:00:24.386756Z",
     "start_time": "2021-07-04T22:00:24.378497Z"
    }
   },
   "outputs": [],
   "source": [
    "def read_in_data(filepath):\n",
    "    df = pd.read_csv(filepath)\n",
    "    df.drop(columns='Unnamed: 0', inplace=True)\n",
    "    df = df[~df['source2'].isin(bad_sources)].copy()\n",
    "    return df"
   ]
  },
  {
   "cell_type": "code",
   "execution_count": null,
   "metadata": {
    "ExecuteTime": {
     "end_time": "2021-07-04T22:01:05.060005Z",
     "start_time": "2021-07-04T22:01:04.999126Z"
    }
   },
   "outputs": [],
   "source": [
    "df_apple = read_in_data('../data/news_articles/hourly_apple_articles_614_618')"
   ]
  },
  {
   "cell_type": "code",
   "execution_count": null,
   "metadata": {
    "ExecuteTime": {
     "end_time": "2021-07-02T23:23:48.308018Z",
     "start_time": "2021-07-02T23:23:48.258029Z"
    }
   },
   "outputs": [],
   "source": [
    "df_apple[~df_apple['source2'].isin(bad_sources)].iloc[300:350]\n",
    "\n",
    "# Sifting thru, next up is 350:400"
   ]
  },
  {
   "cell_type": "code",
   "execution_count": null,
   "metadata": {
    "ExecuteTime": {
     "end_time": "2021-07-04T22:01:01.566697Z",
     "start_time": "2021-07-04T22:01:01.550924Z"
    }
   },
   "outputs": [],
   "source": [
    "# Sources to exlude\n",
    "\n",
    "bad_sources = ['LatestLY', 'iMore', 'Phandroid - News for Android', 'Internet', 'AnandTech', 'Justcreative.com',\n",
    "      'Raywenderlich.com', 'Lifehacker Australia', 'News18', 'Zee Business', 'Geeky Gadgets', 'Business Wire',\n",
    "      'Digital Information World', 'Madshrimps.be', 'Theinventory.com', 'Ozbargain.com.au', 'Www.bgr.in',\n",
    "      \"Paul Tan's Automotive News\", 'Livemint', 'Todayifoundout.com', 'Hotukdeals.com', 'Thefutoncritic.com',\n",
    "      'Applelinkage.com', 'Worldsoccertalk.com', '9to5Toys', 'Torrentfreak.com', 'Slickdeals.net',\n",
    "      'Rock Paper Shotgun', 'Idownloadblog.com', 'Justinobeirne.com', 'Everydaycarry.com', 'Ars Technica',\n",
    "      'Intheknow.com', 'Yanko Design', 'Lefsetz.com', 'Android Community', '/FILM', 'Droid Life',\n",
    "      'Moneysavingmom.com', 'WDVM 25', 'Nextjs.org', 'ComingSoon.net', 'Hip2save.com', 'Giveawayoftheday.com',\n",
    "      'Wptavern.com', 'Visual.ly', 'Denton Record Chronicle', 'Pocket Gamer', 'Moneycontrol',\n",
    "      'Commonsensewithmoney.com', 'PC Gamer', 'Livedoor.jp', 'Trendhunter.com', 'Twit.tv', 'Prtimes.jp',\n",
    "      'NWAOnline', 'Raw Story', 'MobiHealthNews', 'guru3d.com', 'Travelcodex.com', 'T3 US/CA', 'Ctvnews.ca',\n",
    "       'Macitynet.it', 'The Hindu', 'Thekitchn.com', 'Omgubuntu.co.uk', 'DC Rainmaker', 'Foodgawker.com',\n",
    "       'Just Jared', 'Mediagazer.com', 'Theshutterwhale.com', 'Uark.edu', 'Sputnik International', 'Pinkbike.com',\n",
    "       'CNA', 'EurekAlert', 'Energy-storage.news', 'Rogerebert.com', 'Driving', 'Phys.Org', 'The Times of India',\n",
    "       'Eonline.com', 'DIYphotography', 'Food52.com', 'BMWBLOG','Eonline', 'redmondpie', 'Brooklyn Vegan', 'MMA Fighting', 'Spoilertv', 'Hotukdeals', \n",
    "        'Celebitchy', 'Michaelgeist', 'Helloglow', 'Robb Report', 'Carandbike', 'POPSUGAR',\n",
    "        'Slickdeals', 'Pyimagesearch', 'Purseblog', 'BroBible', 'Clarkesworldmagazine', 'TheGrio',\n",
    "        'Heimdalsecurity', \"Tom's Guide\", 'Siliconera', 'Gamasutra', 'Dansdeals', 'Touringplans',\n",
    "        'Ehl', 'City A', 'Southernsavers', 'Dpreview', 'Marksdailyapple', '2dopeboyz',\n",
    "         'SYFY WIRE', 'Screenanarchy', 'Top Speed', 'CBS Sports', 'Yahoo Entertainment',\n",
    "         'Hollywood Life', 'Iphone-mania']"
   ]
  },
  {
   "cell_type": "markdown",
   "metadata": {},
   "source": [
    "## Create Joined Sentiment Content Column"
   ]
  },
  {
   "cell_type": "code",
   "execution_count": null,
   "metadata": {
    "ExecuteTime": {
     "end_time": "2021-07-04T22:01:41.028615Z",
     "start_time": "2021-07-04T22:01:41.010093Z"
    }
   },
   "outputs": [],
   "source": [
    "def content_clearer_join(df):\n",
    "    \n",
    "    df['content']=df['content'].split('[')[0].replace('…', '').replace('\\r\\n', '')\\\n",
    "                                                .replace('\\xa0', '').replace('&amp', '').strip()\n",
    "    df['description']=df['content'].split('[')[0].replace('…', '').replace('\\r\\n', '')\\\n",
    "                                                .replace('\\xa0', '').replace('&amp', '').strip()\n",
    "    \n",
    "    if (df['description'][:100] == df['content'][:100]):\n",
    "        df['cont_joined'] = df['title']+ '; ' +df['description']\n",
    "    \n",
    "    else:\n",
    "        df['cont_joined'] = df['title']+ '; ' +df['description'] + '; ' +df['content']\n",
    "    \n",
    "    return df"
   ]
  },
  {
   "cell_type": "code",
   "execution_count": null,
   "metadata": {
    "ExecuteTime": {
     "end_time": "2021-07-04T22:01:58.643458Z",
     "start_time": "2021-07-04T22:01:58.638137Z"
    }
   },
   "outputs": [],
   "source": [
    "def remove_columns(df):\n",
    "    df.drop(columns=['source', 'author', 'url', 'urlToImage'], inplace=True)\n",
    "    return df"
   ]
  },
  {
   "cell_type": "code",
   "execution_count": null,
   "metadata": {
    "ExecuteTime": {
     "end_time": "2021-07-04T22:02:01.548406Z",
     "start_time": "2021-07-04T22:02:01.541701Z"
    }
   },
   "outputs": [],
   "source": [
    "def set_idx(df):\n",
    "    df['publishedAt'] = pd.to_datetime(df['publishedAt'])\n",
    "    df.set_index('publishedAt', inplace=True)\n",
    "    return df"
   ]
  },
  {
   "cell_type": "markdown",
   "metadata": {},
   "source": [
    "# Financial Data"
   ]
  },
  {
   "cell_type": "markdown",
   "metadata": {},
   "source": [
    "Data source\n",
    "\n",
    "https://finance.yahoo.com/quote/AAPL/history?p=AAPL"
   ]
  },
  {
   "cell_type": "code",
   "execution_count": null,
   "metadata": {
    "ExecuteTime": {
     "end_time": "2021-06-28T21:34:40.433915Z",
     "start_time": "2021-06-28T21:34:40.431119Z"
    }
   },
   "outputs": [],
   "source": [
    "# Try except loop API\n",
    "# Print progress loop\n",
    "# mode = 'a' on csv\n",
    "# streamlit plotly express"
   ]
  },
  {
   "cell_type": "code",
   "execution_count": null,
   "metadata": {
    "ExecuteTime": {
     "end_time": "2021-06-24T14:47:38.208561Z",
     "start_time": "2021-06-24T14:47:34.712767Z"
    }
   },
   "outputs": [],
   "source": [
    "# pip install yfinance"
   ]
  },
  {
   "cell_type": "code",
   "execution_count": null,
   "metadata": {
    "ExecuteTime": {
     "end_time": "2021-07-02T15:24:49.885261Z",
     "start_time": "2021-07-02T15:24:49.861224Z"
    }
   },
   "outputs": [],
   "source": [
    "import yfinance as yf"
   ]
  },
  {
   "cell_type": "markdown",
   "metadata": {},
   "source": [
    "## Gather Stock Data"
   ]
  },
  {
   "cell_type": "code",
   "execution_count": null,
   "metadata": {
    "ExecuteTime": {
     "end_time": "2021-07-02T19:05:35.781571Z",
     "start_time": "2021-07-02T19:05:35.777800Z"
    }
   },
   "outputs": [],
   "source": [
    "def get_stock_prices(company):\n",
    "    comp = yf.Ticker(company)\n",
    "    comp = comp.history(period=\"1mo\", interval='60m')\n",
    "    return comp"
   ]
  },
  {
   "cell_type": "code",
   "execution_count": null,
   "metadata": {
    "ExecuteTime": {
     "end_time": "2021-07-02T19:05:51.487858Z",
     "start_time": "2021-07-02T19:05:51.228342Z"
    }
   },
   "outputs": [],
   "source": [
    "msft_price = get_stock_prices(\"MSFT\")"
   ]
  },
  {
   "cell_type": "code",
   "execution_count": null,
   "metadata": {
    "ExecuteTime": {
     "end_time": "2021-07-02T19:06:19.115511Z",
     "start_time": "2021-07-02T19:06:19.095551Z"
    }
   },
   "outputs": [],
   "source": [
    "msft_price.to_csv('msft_stock')"
   ]
  },
  {
   "cell_type": "code",
   "execution_count": null,
   "metadata": {
    "ExecuteTime": {
     "end_time": "2021-07-02T19:18:18.321752Z",
     "start_time": "2021-07-02T19:18:17.509603Z"
    }
   },
   "outputs": [],
   "source": [
    "stock_tickers = [\"FB\", \"AMZN\", \"NFLX\", \"GOOGL\", \"AAPL\", \"MSFT\"]\n",
    "\n",
    "for stock in stock_tickers:\n",
    "    df_stock = get_stock_prices(stock)\n",
    "    df_stock.to_csv(f\"{stock.lower()}_stock\")"
   ]
  },
  {
   "cell_type": "markdown",
   "metadata": {},
   "source": [
    "# Excess Code"
   ]
  },
  {
   "cell_type": "code",
   "execution_count": null,
   "metadata": {
    "ExecuteTime": {
     "end_time": "2021-07-02T15:20:04.690683Z",
     "start_time": "2021-07-02T15:20:04.674003Z"
    }
   },
   "outputs": [],
   "source": [
    "# stock market open from 930am - 4pm est\n",
    "# utc: 13:30 - 20:00\n",
    "all_times = []\n",
    "days = list(range(21,26))\n",
    "for day in days:\n",
    "    lst = [13,14,14,15,15,16,16,17,17,18,18,19,19,20]\n",
    "    for i in range(len(lst)):\n",
    "        if lst[i]==0 or lst[i]==8:\n",
    "            all_times.append(f\"2021-06-{day}T0{lst[i]}:00:00\")\n",
    "        else:          \n",
    "            all_times.append(f\"2021-06-{day}T{lst[i]}:00:00\")\n",
    "\n",
    "all_times"
   ]
  },
  {
   "cell_type": "code",
   "execution_count": null,
   "metadata": {},
   "outputs": [],
   "source": [
    "hourly_apple_data = []\n",
    "for a, b in zipped_dates:\n",
    "    data = newsapi.get_everything(q='+Apple', #stock,\n",
    "                                from_param=a,\n",
    "                                to=b,\n",
    "                                language='en',\n",
    "                                sort_by='relevancy',\n",
    "                                page_size=100)\n",
    "    hourly_apple_data.append(data)"
   ]
  },
  {
   "cell_type": "code",
   "execution_count": null,
   "metadata": {
    "ExecuteTime": {
     "end_time": "2021-07-02T17:32:55.353805Z",
     "start_time": "2021-07-02T17:32:55.339569Z"
    }
   },
   "outputs": [],
   "source": [
    "empty = ''\n",
    "for source in bad_sources:\n",
    "    source = source.replace('\"','')\n",
    "    empty +=(', ' + source)\n",
    "empty\n",
    "empty.strip()"
   ]
  },
  {
   "cell_type": "code",
   "execution_count": null,
   "metadata": {},
   "outputs": [],
   "source": [
    "# this works\n",
    "test = all_times[1]\n",
    "something = []\n",
    "data_2 = newsapi.get_everything(q='+Apple stock',\n",
    "                                qintitle='+Apple stock',\n",
    "                                from_param=test,\n",
    "                                to='2021-06-21T12:00:00',\n",
    "                                language='en',\n",
    "                                sort_by='relevancy',\n",
    "                                page_size=100)\n",
    "something.append(data_2)"
   ]
  },
  {
   "cell_type": "code",
   "execution_count": null,
   "metadata": {},
   "outputs": [],
   "source": [
    "def comp_name(comp):\n",
    "    test_sources = newsapi.get_everything(q=comp,\n",
    "                                    from_param='2021-06-14T13:00:00',\n",
    "                                    exclude_domains=exclusion,\n",
    "                                    to='2021-06-14T14:00:00',\n",
    "                                    language='en',\n",
    "                                    sort_by='relevancy',\n",
    "                                    page_size=100)\n",
    "    return test_sources\n"
   ]
  },
  {
   "cell_type": "code",
   "execution_count": null,
   "metadata": {},
   "outputs": [],
   "source": [
    "def content_clearer(df):\n",
    "    df['content']=df['content'].map(lambda x: x.split('[')[0].replace('…', '').replace('\\r\\n', '')\\\n",
    "                                                .replace('\\xa0', '').replace('&amp', '').strip())\n",
    "    df['description']=df['content'].map(lambda x: x.split('[')[0].replace('…', '').replace('\\r\\n', '')\\\n",
    "                                                .replace('\\xa0', '').replace('&amp', '').strip())\n",
    "    return df"
   ]
  },
  {
   "cell_type": "code",
   "execution_count": null,
   "metadata": {},
   "outputs": [],
   "source": [
    "def content_string(df):\n",
    "    if (df['description'][:100] == df['content'][:100]):\n",
    "        df['cont_joined'] = df['title']+ '; ' +df['description']\n",
    "    \n",
    "    else:\n",
    "        df['cont_joined'] = df['title']+ '; ' +df['description'] + '; ' +df['content']\n",
    "\n",
    "    return df"
   ]
  }
 ],
 "metadata": {
  "kernelspec": {
   "display_name": "learn-env",
   "language": "python",
   "name": "learn-env"
  },
  "language_info": {
   "codemirror_mode": {
    "name": "ipython",
    "version": 3
   },
   "file_extension": ".py",
   "mimetype": "text/x-python",
   "name": "python",
   "nbconvert_exporter": "python",
   "pygments_lexer": "ipython3",
   "version": "3.8.5"
  },
  "toc": {
   "base_numbering": 1,
   "nav_menu": {},
   "number_sections": true,
   "sideBar": true,
   "skip_h1_title": false,
   "title_cell": "Table of Contents",
   "title_sidebar": "Contents",
   "toc_cell": false,
   "toc_position": {
    "height": "calc(100% - 180px)",
    "left": "10px",
    "top": "150px",
    "width": "195px"
   },
   "toc_section_display": true,
   "toc_window_display": true
  }
 },
 "nbformat": 4,
 "nbformat_minor": 4
}
