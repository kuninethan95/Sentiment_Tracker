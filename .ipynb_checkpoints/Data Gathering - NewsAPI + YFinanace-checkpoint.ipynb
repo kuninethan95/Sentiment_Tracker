{
 "cells": [
  {
   "cell_type": "markdown",
   "metadata": {},
   "source": [
    "# Gathering News Articles"
   ]
  },
  {
   "cell_type": "code",
   "execution_count": 2,
   "metadata": {
    "ExecuteTime": {
     "end_time": "2021-07-08T01:24:03.348834Z",
     "start_time": "2021-07-08T01:24:03.343171Z"
    }
   },
   "outputs": [],
   "source": [
    "import pandas as pd\n",
    "import requests"
   ]
  },
  {
   "cell_type": "code",
   "execution_count": null,
   "metadata": {
    "ExecuteTime": {
     "end_time": "2021-07-08T01:13:55.737616Z",
     "start_time": "2021-07-08T01:13:55.735402Z"
    }
   },
   "outputs": [],
   "source": [
    "# ! pip install newsapi-python"
   ]
  },
  {
   "cell_type": "code",
   "execution_count": null,
   "metadata": {
    "ExecuteTime": {
     "end_time": "2021-07-08T01:13:56.143485Z",
     "start_time": "2021-07-08T01:13:56.131520Z"
    }
   },
   "outputs": [],
   "source": [
    "from newsapi import NewsApiClient"
   ]
  },
  {
   "cell_type": "code",
   "execution_count": null,
   "metadata": {
    "ExecuteTime": {
     "end_time": "2021-07-08T01:13:56.555275Z",
     "start_time": "2021-07-08T01:13:56.551510Z"
    }
   },
   "outputs": [],
   "source": [
    "newsapi = NewsApiClient(api_key='2b80f081118d48e1aee956d6ac38d236')"
   ]
  },
  {
   "cell_type": "code",
   "execution_count": null,
   "metadata": {
    "ExecuteTime": {
     "end_time": "2021-06-30T00:12:40.776505Z",
     "start_time": "2021-06-30T00:12:39.508521Z"
    }
   },
   "outputs": [],
   "source": [
    "data = newsapi.get_everything(q='Apple stock', language='en', page_size=100, from_param='2021-06-21T15:50:00', to='2021-06-22')"
   ]
  },
  {
   "cell_type": "code",
   "execution_count": null,
   "metadata": {
    "ExecuteTime": {
     "end_time": "2021-07-07T14:14:20.616791Z",
     "start_time": "2021-07-07T14:14:20.603429Z"
    }
   },
   "outputs": [],
   "source": [
    "def time_maker(start, stop, month):\n",
    "    all_times = []\n",
    "    days = list(range(start,stop))\n",
    "    for day in days:\n",
    "        lst = [13,14,14,15,15,16,16,17,17,18,18,19,19,20]\n",
    "        for i in range(len(lst)):\n",
    "            if lst[i]==0 or lst[i]==8:\n",
    "                all_times.append(f\"2021-{month}-{day}T0{lst[i]}:00:00\")\n",
    "            else:          \n",
    "                all_times.append(f\"2021-{month}-{day}T{lst[i]}:00:00\")\n",
    "    \n",
    "    to_ = all_times[::2]\n",
    "    from_ = all_times[1::2]\n",
    "    zipped = list(zip(to_, from_))\n",
    "    return all_times, to_, from_, zipped"
   ]
  },
  {
   "cell_type": "code",
   "execution_count": null,
   "metadata": {
    "ExecuteTime": {
     "end_time": "2021-07-02T15:40:15.945158Z",
     "start_time": "2021-07-02T15:40:15.938616Z"
    }
   },
   "outputs": [],
   "source": [
    "zipped_dates = list(zip(to_, from_))\n",
    "zipped_dates[:5]"
   ]
  },
  {
   "cell_type": "code",
   "execution_count": null,
   "metadata": {
    "ExecuteTime": {
     "end_time": "2021-06-30T16:58:01.401942Z",
     "start_time": "2021-06-30T16:57:41.714518Z"
    }
   },
   "outputs": [],
   "source": [
    "hourly_apple_data = []\n",
    "for a, b in zipped_dates:\n",
    "    data = newsapi.get_everything(q='Apple',\n",
    "                                from_param=a,\n",
    "                                to=b,\n",
    "                                language='en',\n",
    "                                sort_by='relevancy',\n",
    "                                page_size=100)\n",
    "    hourly_apple_data.append(data)"
   ]
  },
  {
   "cell_type": "code",
   "execution_count": null,
   "metadata": {
    "ExecuteTime": {
     "end_time": "2021-07-02T18:26:16.583257Z",
     "start_time": "2021-07-02T18:26:16.574723Z"
    }
   },
   "outputs": [],
   "source": [
    "def get_data(zipped_dates, company_name):\n",
    "    hourly_data = []\n",
    "    for a, b in zipped_dates:\n",
    "        data = newsapi.get_everything(q=company_name,\n",
    "                                    from_param=a,\n",
    "                                    to=b,\n",
    "                                    language='en',\n",
    "                                    sort_by='relevancy',\n",
    "                                    page_size=100)\n",
    "        hourly_data.append(data)\n",
    "    return hourly_data"
   ]
  },
  {
   "cell_type": "markdown",
   "metadata": {},
   "source": [
    "Put list into a pandas DataFrame\n",
    "\n",
    "make this into a fx"
   ]
  },
  {
   "cell_type": "code",
   "execution_count": null,
   "metadata": {
    "ExecuteTime": {
     "end_time": "2021-06-30T16:58:16.653279Z",
     "start_time": "2021-06-30T16:58:16.550725Z"
    }
   },
   "outputs": [],
   "source": [
    "apple_df = []\n",
    "for data in hourly_apple_data:\n",
    "\n",
    "    article = pd.DataFrame(data['articles'])\n",
    "    article['results'] = data['totalResults']\n",
    "    apple_df.append(article)\n",
    "apple_df = pd.concat(apple_df)\n",
    "apple_df"
   ]
  },
  {
   "cell_type": "code",
   "execution_count": null,
   "metadata": {
    "ExecuteTime": {
     "end_time": "2021-07-08T01:14:09.504431Z",
     "start_time": "2021-07-08T01:14:09.498193Z"
    }
   },
   "outputs": [],
   "source": [
    "def json_to_df(hourly_company_data):\n",
    "\n",
    "    df_list = []\n",
    "    for data in hourly_company_data:\n",
    "        article = pd.DataFrame(data['articles'])\n",
    "        article['results'] = data['totalResults']\n",
    "        df_list.append(article)\n",
    "        \n",
    "    company_df = pd.concat(df_list)\n",
    "    return company_df"
   ]
  },
  {
   "cell_type": "code",
   "execution_count": 8,
   "metadata": {
    "ExecuteTime": {
     "end_time": "2021-07-08T01:25:17.475278Z",
     "start_time": "2021-07-08T01:25:17.469278Z"
    }
   },
   "outputs": [],
   "source": [
    "def source_corrector(row):\n",
    "    row['source2'] = str(row['source']).split(':')[-1].strip().replace('}','')[1:-1].split('.')[0]\n",
    "    return row"
   ]
  },
  {
   "cell_type": "code",
   "execution_count": null,
   "metadata": {
    "ExecuteTime": {
     "end_time": "2021-07-08T01:14:14.822455Z",
     "start_time": "2021-07-08T01:14:14.705340Z"
    }
   },
   "outputs": [],
   "source": [
    "apple_df=apple_df.apply(source_corrector, axis=1)"
   ]
  },
  {
   "cell_type": "code",
   "execution_count": null,
   "metadata": {
    "ExecuteTime": {
     "end_time": "2021-06-30T16:58:22.555097Z",
     "start_time": "2021-06-30T16:58:22.527639Z"
    }
   },
   "outputs": [],
   "source": [
    "apple_df"
   ]
  },
  {
   "cell_type": "code",
   "execution_count": null,
   "metadata": {
    "ExecuteTime": {
     "end_time": "2021-06-30T00:50:31.998251Z",
     "start_time": "2021-06-30T00:50:31.929497Z"
    }
   },
   "outputs": [],
   "source": [
    "# apple_df.to_csv('apple_data2')"
   ]
  },
  {
   "cell_type": "code",
   "execution_count": null,
   "metadata": {
    "ExecuteTime": {
     "end_time": "2021-06-30T00:50:36.117095Z",
     "start_time": "2021-06-30T00:50:36.021549Z"
    }
   },
   "outputs": [],
   "source": [
    "df = pd.read_csv('apple_data2')"
   ]
  },
  {
   "cell_type": "code",
   "execution_count": null,
   "metadata": {
    "ExecuteTime": {
     "end_time": "2021-06-30T00:55:22.924145Z",
     "start_time": "2021-06-30T00:55:22.840067Z"
    }
   },
   "outputs": [],
   "source": [
    "apple_df.to_csv('hourly_apple_articles')"
   ]
  },
  {
   "cell_type": "code",
   "execution_count": null,
   "metadata": {
    "ExecuteTime": {
     "end_time": "2021-06-30T16:59:14.544555Z",
     "start_time": "2021-06-30T16:59:13.421362Z"
    }
   },
   "outputs": [],
   "source": []
  },
  {
   "cell_type": "code",
   "execution_count": null,
   "metadata": {
    "ExecuteTime": {
     "end_time": "2021-07-02T15:21:46.741380Z",
     "start_time": "2021-07-02T15:21:46.609254Z"
    }
   },
   "outputs": [],
   "source": [
    "apple_df"
   ]
  },
  {
   "cell_type": "code",
   "execution_count": null,
   "metadata": {
    "ExecuteTime": {
     "end_time": "2021-06-30T17:01:27.134242Z",
     "start_time": "2021-06-30T17:01:27.053250Z"
    }
   },
   "outputs": [],
   "source": [
    "apple_df.to_csv('hourly_apple_articles_614_618')"
   ]
  },
  {
   "cell_type": "code",
   "execution_count": null,
   "metadata": {
    "ExecuteTime": {
     "end_time": "2021-06-30T01:14:07.954608Z",
     "start_time": "2021-06-30T01:14:07.943786Z"
    }
   },
   "outputs": [],
   "source": [
    "big_sources = list(apple_df['source2'].unique())"
   ]
  },
  {
   "cell_type": "code",
   "execution_count": null,
   "metadata": {
    "ExecuteTime": {
     "end_time": "2021-06-30T01:16:30.087638Z",
     "start_time": "2021-06-30T01:16:30.081862Z"
    }
   },
   "outputs": [],
   "source": [
    "new_sources = set(set(big_sources).difference(set(source_list)))"
   ]
  },
  {
   "cell_type": "code",
   "execution_count": null,
   "metadata": {
    "ExecuteTime": {
     "end_time": "2021-06-30T01:16:35.402739Z",
     "start_time": "2021-06-30T01:16:35.380134Z"
    }
   },
   "outputs": [],
   "source": [
    "new_sources"
   ]
  },
  {
   "cell_type": "code",
   "execution_count": null,
   "metadata": {
    "ExecuteTime": {
     "end_time": "2021-06-30T01:17:12.340182Z",
     "start_time": "2021-06-30T01:17:12.337598Z"
    }
   },
   "outputs": [],
   "source": [
    "# Possibly append some of these to source_list"
   ]
  },
  {
   "cell_type": "code",
   "execution_count": null,
   "metadata": {
    "ExecuteTime": {
     "end_time": "2021-06-30T01:19:41.598787Z",
     "start_time": "2021-06-30T01:19:41.586354Z"
    }
   },
   "outputs": [],
   "source": [
    "apple_df['source2'].isin(source_list).sum()"
   ]
  },
  {
   "cell_type": "code",
   "execution_count": null,
   "metadata": {
    "ExecuteTime": {
     "end_time": "2021-06-30T01:18:42.785048Z",
     "start_time": "2021-06-30T01:18:42.778139Z"
    }
   },
   "outputs": [],
   "source": [
    "verified_sources"
   ]
  },
  {
   "cell_type": "code",
   "execution_count": null,
   "metadata": {
    "ExecuteTime": {
     "end_time": "2021-06-30T17:10:06.823190Z",
     "start_time": "2021-06-30T17:10:06.790616Z"
    }
   },
   "outputs": [],
   "source": [
    "apple_df = []\n",
    "for data in hourly_apple_data:\n",
    "\n",
    "    article = pd.DataFrame(data['articles'])\n",
    "    apple_df.append(article)\n",
    "len(apple_df)"
   ]
  },
  {
   "cell_type": "code",
   "execution_count": null,
   "metadata": {
    "ExecuteTime": {
     "end_time": "2021-06-30T02:27:26.718187Z",
     "start_time": "2021-06-30T02:27:25.925686Z"
    }
   },
   "outputs": [],
   "source": [
    "apple_df = pd.concat(apple_df)"
   ]
  },
  {
   "cell_type": "code",
   "execution_count": null,
   "metadata": {
    "ExecuteTime": {
     "end_time": "2021-06-30T17:09:36.425292Z",
     "start_time": "2021-06-30T17:09:36.379323Z"
    }
   },
   "outputs": [],
   "source": [
    "apple_df"
   ]
  },
  {
   "cell_type": "code",
   "execution_count": null,
   "metadata": {
    "ExecuteTime": {
     "end_time": "2021-07-08T01:14:25.252098Z",
     "start_time": "2021-07-08T01:14:25.238438Z"
    }
   },
   "outputs": [],
   "source": [
    "apple_df.to_csv('hourly_apple_articles_621_625')"
   ]
  },
  {
   "cell_type": "code",
   "execution_count": null,
   "metadata": {
    "ExecuteTime": {
     "end_time": "2021-06-30T02:33:10.210126Z",
     "start_time": "2021-06-30T02:33:09.680450Z"
    }
   },
   "outputs": [],
   "source": [
    "hourly_apple_data"
   ]
  },
  {
   "cell_type": "code",
   "execution_count": null,
   "metadata": {
    "ExecuteTime": {
     "end_time": "2021-06-30T17:10:25.576728Z",
     "start_time": "2021-06-30T17:10:25.462393Z"
    }
   },
   "outputs": [],
   "source": [
    "apple_df"
   ]
  },
  {
   "cell_type": "code",
   "execution_count": null,
   "metadata": {
    "ExecuteTime": {
     "end_time": "2021-06-30T17:10:34.961163Z",
     "start_time": "2021-06-30T17:10:34.899022Z"
    }
   },
   "outputs": [],
   "source": [
    "# this works for generating total results\n",
    "\n",
    "apple_df = []\n",
    "for data in hourly_apple_data:\n",
    "\n",
    "    article = pd.DataFrame(data['articles'])\n",
    "    article['results'] = data['totalResults']\n",
    "    apple_df.append(article)\n",
    "apple_df = pd.concat(apple_df)\n",
    "apple_df\n"
   ]
  },
  {
   "cell_type": "code",
   "execution_count": null,
   "metadata": {
    "ExecuteTime": {
     "end_time": "2021-06-30T16:55:30.125778Z",
     "start_time": "2021-06-30T16:55:30.007236Z"
    }
   },
   "outputs": [],
   "source": [
    "apple_df.to_csv('hourly_apple_articles_621_625')"
   ]
  },
  {
   "cell_type": "code",
   "execution_count": null,
   "metadata": {
    "ExecuteTime": {
     "end_time": "2021-06-30T01:06:31.825560Z",
     "start_time": "2021-06-30T01:06:31.817252Z"
    }
   },
   "outputs": [],
   "source": [
    "str(df['source'][10]).split(':')[-1].strip().replace('}','')[1:-1].split('.')[0]"
   ]
  },
  {
   "cell_type": "code",
   "execution_count": null,
   "metadata": {},
   "outputs": [],
   "source": [
    ".map(lambda x: str(x).split(':')[-1].strip().replace('}','')[1:-1])"
   ]
  },
  {
   "cell_type": "code",
   "execution_count": null,
   "metadata": {
    "ExecuteTime": {
     "end_time": "2021-06-29T15:13:57.146905Z",
     "start_time": "2021-06-29T15:13:57.142763Z"
    }
   },
   "outputs": [],
   "source": [
    "source_list = list(df['source2'].unique())"
   ]
  },
  {
   "cell_type": "code",
   "execution_count": null,
   "metadata": {
    "ExecuteTime": {
     "end_time": "2021-06-29T15:14:09.437590Z",
     "start_time": "2021-06-29T15:14:09.422907Z"
    }
   },
   "outputs": [],
   "source": [
    "# Finding the best sources out of 246\n",
    "source_list"
   ]
  },
  {
   "cell_type": "code",
   "execution_count": null,
   "metadata": {
    "ExecuteTime": {
     "end_time": "2021-07-08T01:15:46.999848Z",
     "start_time": "2021-07-08T01:15:46.989446Z"
    }
   },
   "outputs": [],
   "source": [
    "# Sources to exlude\n",
    "\n",
    "bad_sources = ['LatestLY', 'iMore', 'Phandroid - News for Android', 'Internet', 'AnandTech', 'Justcreative.com',\n",
    "      'Raywenderlich.com', 'Lifehacker Australia', 'News18', 'Zee Business', 'Geeky Gadgets', 'Business Wire',\n",
    "      'Digital Information World', 'Madshrimps.be', 'Theinventory.com', 'Ozbargain.com.au', 'Www.bgr.in',\n",
    "      \"Paul Tan's Automotive News\", 'Livemint', 'Todayifoundout.com', 'Hotukdeals.com', 'Thefutoncritic.com',\n",
    "      'Applelinkage.com', 'Worldsoccertalk.com', '9to5Toys', 'Torrentfreak.com', 'Slickdeals.net',\n",
    "      'Rock Paper Shotgun', 'Idownloadblog.com', 'Justinobeirne.com', 'Everydaycarry.com', 'Ars Technica',\n",
    "      'Intheknow.com', 'Yanko Design', 'Lefsetz.com', 'Android Community', '/FILM', 'Droid Life',\n",
    "      'Moneysavingmom.com', 'WDVM 25', 'Nextjs.org', 'ComingSoon.net', 'Hip2save.com', 'Giveawayoftheday.com',\n",
    "      'Wptavern.com', 'Visual.ly', 'Denton Record Chronicle', 'Pocket Gamer', 'Moneycontrol',\n",
    "      'Commonsensewithmoney.com', 'PC Gamer', 'Livedoor.jp', 'Trendhunter.com', 'Twit.tv', 'Prtimes.jp',\n",
    "      'NWAOnline', 'Raw Story', 'MobiHealthNews', 'guru3d.com', 'Travelcodex.com', 'T3 US/CA', 'Ctvnews.ca',\n",
    "       'Macitynet.it', 'The Hindu', 'Thekitchn.com', 'Omgubuntu.co.uk', 'DC Rainmaker', 'Foodgawker.com',\n",
    "       'Just Jared', 'Mediagazer.com', 'Theshutterwhale.com', 'Uark.edu', 'Sputnik International', 'Pinkbike.com',\n",
    "       'CNA', 'EurekAlert', 'Energy-storage.news', 'Rogerebert.com', 'Driving', 'Phys.Org', 'The Times of India',\n",
    "       'Eonline.com', 'DIYphotography', 'Food52.com', 'BMWBLOG']"
   ]
  },
  {
   "cell_type": "code",
   "execution_count": null,
   "metadata": {
    "ExecuteTime": {
     "end_time": "2021-07-02T17:04:16.701012Z",
     "start_time": "2021-07-02T17:04:16.684261Z"
    }
   },
   "outputs": [],
   "source": [
    "empty = ''\n",
    "empty += ' help'\n",
    "empty.strip()"
   ]
  },
  {
   "cell_type": "code",
   "execution_count": null,
   "metadata": {
    "ExecuteTime": {
     "end_time": "2021-07-02T17:21:58.612597Z",
     "start_time": "2021-07-02T17:21:58.607952Z"
    }
   },
   "outputs": [],
   "source": [
    "exclusion = 'macrumors.com, Stocknews.com, 9to5Mac.com'"
   ]
  },
  {
   "cell_type": "code",
   "execution_count": null,
   "metadata": {
    "ExecuteTime": {
     "end_time": "2021-06-30T00:11:14.654774Z",
     "start_time": "2021-06-30T00:11:14.649380Z"
    }
   },
   "outputs": [],
   "source": [
    "verified_sources = set(source_list).difference(set(bad_sources))"
   ]
  },
  {
   "cell_type": "code",
   "execution_count": null,
   "metadata": {
    "ExecuteTime": {
     "end_time": "2021-06-30T00:35:50.386360Z",
     "start_time": "2021-06-30T00:35:50.381312Z"
    }
   },
   "outputs": [],
   "source": [
    "verified_sources=list(verified_sources)\n",
    "verified_sources=(',').join(verified_sources)"
   ]
  },
  {
   "cell_type": "code",
   "execution_count": null,
   "metadata": {
    "ExecuteTime": {
     "end_time": "2021-07-02T17:22:03.307623Z",
     "start_time": "2021-07-02T17:22:02.628269Z"
    }
   },
   "outputs": [],
   "source": [
    "test_sources = newsapi.get_everything(q='+Apple',\n",
    "                                \n",
    "                                from_param='2021-06-14T13:00:00',\n",
    "                                exclude_domains=exclusion,\n",
    "                                to='2021-06-14T14:00:00',\n",
    "                                language='en',\n",
    "                                sort_by='relevancy',\n",
    "                                page_size=100)"
   ]
  },
  {
   "cell_type": "code",
   "execution_count": null,
   "metadata": {
    "ExecuteTime": {
     "end_time": "2021-07-02T17:22:03.346129Z",
     "start_time": "2021-07-02T17:22:03.311296Z"
    }
   },
   "outputs": [],
   "source": [
    "test_sources"
   ]
  },
  {
   "cell_type": "code",
   "execution_count": null,
   "metadata": {
    "ExecuteTime": {
     "end_time": "2021-07-02T15:43:47.650245Z",
     "start_time": "2021-07-02T15:43:47.604398Z"
    }
   },
   "outputs": [],
   "source": [
    "test_sources"
   ]
  },
  {
   "cell_type": "code",
   "execution_count": null,
   "metadata": {
    "ExecuteTime": {
     "end_time": "2021-06-28T20:51:34.361420Z",
     "start_time": "2021-06-28T20:51:34.347598Z"
    }
   },
   "outputs": [],
   "source": [
    "pd.concat([apple_df, article]).shape"
   ]
  },
  {
   "cell_type": "code",
   "execution_count": null,
   "metadata": {
    "ExecuteTime": {
     "end_time": "2021-06-28T21:37:33.438599Z",
     "start_time": "2021-06-28T21:37:33.431409Z"
    }
   },
   "outputs": [],
   "source": [
    "# Limit domains: Reuters, Financial Times, NYT\n",
    "# Limit to trading hours EST\n",
    "# Try except loop API\n",
    "# Print progress loop\n",
    "# mode = 'a' on csv\n",
    "# streamlit plotly express"
   ]
  },
  {
   "cell_type": "code",
   "execution_count": null,
   "metadata": {
    "ExecuteTime": {
     "end_time": "2021-06-28T20:51:52.039771Z",
     "start_time": "2021-06-28T20:51:51.997520Z"
    }
   },
   "outputs": [],
   "source": [
    "apple_df['source2'].to_list()"
   ]
  },
  {
   "cell_type": "code",
   "execution_count": null,
   "metadata": {
    "ExecuteTime": {
     "end_time": "2021-06-24T21:04:28.690166Z",
     "start_time": "2021-06-24T21:04:28.683557Z"
    }
   },
   "outputs": [],
   "source": [
    "apple_df['description'][217]"
   ]
  },
  {
   "cell_type": "code",
   "execution_count": 3,
   "metadata": {
    "ExecuteTime": {
     "end_time": "2021-07-08T01:24:14.767852Z",
     "start_time": "2021-07-08T01:24:14.711919Z"
    }
   },
   "outputs": [],
   "source": [
    "# Fix up Apple Data\n",
    "\n",
    "apple2 = pd.read_csv('data/news_articles/hourly_apple_articles_621_625.csv')"
   ]
  },
  {
   "cell_type": "code",
   "execution_count": 6,
   "metadata": {
    "ExecuteTime": {
     "end_time": "2021-07-08T01:24:45.947862Z",
     "start_time": "2021-07-08T01:24:45.935055Z"
    }
   },
   "outputs": [],
   "source": [
    "apple2.drop('Unnamed: 0', axis=1, inplace=True)"
   ]
  },
  {
   "cell_type": "code",
   "execution_count": 7,
   "metadata": {
    "ExecuteTime": {
     "end_time": "2021-07-08T01:24:52.590633Z",
     "start_time": "2021-07-08T01:24:52.567508Z"
    }
   },
   "outputs": [
    {
     "data": {
      "text/html": [
       "<div>\n",
       "<style scoped>\n",
       "    .dataframe tbody tr th:only-of-type {\n",
       "        vertical-align: middle;\n",
       "    }\n",
       "\n",
       "    .dataframe tbody tr th {\n",
       "        vertical-align: top;\n",
       "    }\n",
       "\n",
       "    .dataframe thead th {\n",
       "        text-align: right;\n",
       "    }\n",
       "</style>\n",
       "<table border=\"1\" class=\"dataframe\">\n",
       "  <thead>\n",
       "    <tr style=\"text-align: right;\">\n",
       "      <th></th>\n",
       "      <th>source</th>\n",
       "      <th>author</th>\n",
       "      <th>title</th>\n",
       "      <th>description</th>\n",
       "      <th>url</th>\n",
       "      <th>urlToImage</th>\n",
       "      <th>publishedAt</th>\n",
       "      <th>content</th>\n",
       "      <th>results</th>\n",
       "    </tr>\n",
       "  </thead>\n",
       "  <tbody>\n",
       "    <tr>\n",
       "      <th>0</th>\n",
       "      <td>{'id': 'wired', 'name': 'Wired'}</td>\n",
       "      <td>Scott Gilbertson, Gear Team</td>\n",
       "      <td>Walmart 'Deals for Days' 2021: The 19 Best Dea...</td>\n",
       "      <td>Prime Day is more than Amazon now. Here's the ...</td>\n",
       "      <td>https://www.wired.com/story/walmart-days-of-de...</td>\n",
       "      <td>https://media.wired.com/photos/60ce1f76f7ad3fd...</td>\n",
       "      <td>2021-06-21T13:20:00Z</td>\n",
       "      <td>Amazon's first Prime Day in 2015 was greeted w...</td>\n",
       "      <td>130.0</td>\n",
       "    </tr>\n",
       "    <tr>\n",
       "      <th>1</th>\n",
       "      <td>{'id': 'financial-post', 'name': 'Financial Po...</td>\n",
       "      <td>Reuters</td>\n",
       "      <td>German competition watchdog launches Apple inv...</td>\n",
       "      <td>&lt;ol&gt;&lt;li&gt;German competition watchdog launches A...</td>\n",
       "      <td>https://financialpost.com/pmn/business-pmn/ger...</td>\n",
       "      <td>NaN</td>\n",
       "      <td>2021-06-21T13:32:13Z</td>\n",
       "      <td>BERLIN Apple became the fourth major digital c...</td>\n",
       "      <td>130.0</td>\n",
       "    </tr>\n",
       "  </tbody>\n",
       "</table>\n",
       "</div>"
      ],
      "text/plain": [
       "                                              source  \\\n",
       "0                   {'id': 'wired', 'name': 'Wired'}   \n",
       "1  {'id': 'financial-post', 'name': 'Financial Po...   \n",
       "\n",
       "                        author  \\\n",
       "0  Scott Gilbertson, Gear Team   \n",
       "1                      Reuters   \n",
       "\n",
       "                                               title  \\\n",
       "0  Walmart 'Deals for Days' 2021: The 19 Best Dea...   \n",
       "1  German competition watchdog launches Apple inv...   \n",
       "\n",
       "                                         description  \\\n",
       "0  Prime Day is more than Amazon now. Here's the ...   \n",
       "1  <ol><li>German competition watchdog launches A...   \n",
       "\n",
       "                                                 url  \\\n",
       "0  https://www.wired.com/story/walmart-days-of-de...   \n",
       "1  https://financialpost.com/pmn/business-pmn/ger...   \n",
       "\n",
       "                                          urlToImage           publishedAt  \\\n",
       "0  https://media.wired.com/photos/60ce1f76f7ad3fd...  2021-06-21T13:20:00Z   \n",
       "1                                                NaN  2021-06-21T13:32:13Z   \n",
       "\n",
       "                                             content  results  \n",
       "0  Amazon's first Prime Day in 2015 was greeted w...    130.0  \n",
       "1  BERLIN Apple became the fourth major digital c...    130.0  "
      ]
     },
     "execution_count": 7,
     "metadata": {},
     "output_type": "execute_result"
    }
   ],
   "source": [
    "apple2.head(2)"
   ]
  },
  {
   "cell_type": "code",
   "execution_count": 10,
   "metadata": {
    "ExecuteTime": {
     "end_time": "2021-07-08T01:25:47.005093Z",
     "start_time": "2021-07-08T01:25:45.811614Z"
    }
   },
   "outputs": [],
   "source": [
    "apple2=apple2.apply(source_corrector, axis=1)"
   ]
  },
  {
   "cell_type": "code",
   "execution_count": null,
   "metadata": {},
   "outputs": [],
   "source": []
  },
  {
   "cell_type": "code",
   "execution_count": null,
   "metadata": {},
   "outputs": [],
   "source": []
  },
  {
   "cell_type": "code",
   "execution_count": 11,
   "metadata": {
    "ExecuteTime": {
     "end_time": "2021-07-08T01:26:13.120944Z",
     "start_time": "2021-07-08T01:26:13.040259Z"
    }
   },
   "outputs": [],
   "source": [
    "apple2.to_csv('data/news_articles/hourly_apple_articles_621_625')"
   ]
  },
  {
   "cell_type": "code",
   "execution_count": 12,
   "metadata": {
    "ExecuteTime": {
     "end_time": "2021-07-08T01:26:14.795315Z",
     "start_time": "2021-07-08T01:26:14.741955Z"
    }
   },
   "outputs": [],
   "source": [
    "test = pd.read_csv('data/news_articles/hourly_apple_articles_621_625')"
   ]
  },
  {
   "cell_type": "code",
   "execution_count": 13,
   "metadata": {
    "ExecuteTime": {
     "end_time": "2021-07-08T01:26:15.448359Z",
     "start_time": "2021-07-08T01:26:15.430023Z"
    }
   },
   "outputs": [
    {
     "data": {
      "text/html": [
       "<div>\n",
       "<style scoped>\n",
       "    .dataframe tbody tr th:only-of-type {\n",
       "        vertical-align: middle;\n",
       "    }\n",
       "\n",
       "    .dataframe tbody tr th {\n",
       "        vertical-align: top;\n",
       "    }\n",
       "\n",
       "    .dataframe thead th {\n",
       "        text-align: right;\n",
       "    }\n",
       "</style>\n",
       "<table border=\"1\" class=\"dataframe\">\n",
       "  <thead>\n",
       "    <tr style=\"text-align: right;\">\n",
       "      <th></th>\n",
       "      <th>Unnamed: 0</th>\n",
       "      <th>source</th>\n",
       "      <th>author</th>\n",
       "      <th>title</th>\n",
       "      <th>description</th>\n",
       "      <th>url</th>\n",
       "      <th>urlToImage</th>\n",
       "      <th>publishedAt</th>\n",
       "      <th>content</th>\n",
       "      <th>results</th>\n",
       "      <th>source2</th>\n",
       "    </tr>\n",
       "  </thead>\n",
       "  <tbody>\n",
       "    <tr>\n",
       "      <th>0</th>\n",
       "      <td>0</td>\n",
       "      <td>{'id': 'wired', 'name': 'Wired'}</td>\n",
       "      <td>Scott Gilbertson, Gear Team</td>\n",
       "      <td>Walmart 'Deals for Days' 2021: The 19 Best Dea...</td>\n",
       "      <td>Prime Day is more than Amazon now. Here's the ...</td>\n",
       "      <td>https://www.wired.com/story/walmart-days-of-de...</td>\n",
       "      <td>https://media.wired.com/photos/60ce1f76f7ad3fd...</td>\n",
       "      <td>2021-06-21T13:20:00Z</td>\n",
       "      <td>Amazon's first Prime Day in 2015 was greeted w...</td>\n",
       "      <td>130.0</td>\n",
       "      <td>Wired</td>\n",
       "    </tr>\n",
       "    <tr>\n",
       "      <th>1</th>\n",
       "      <td>1</td>\n",
       "      <td>{'id': 'financial-post', 'name': 'Financial Po...</td>\n",
       "      <td>Reuters</td>\n",
       "      <td>German competition watchdog launches Apple inv...</td>\n",
       "      <td>&lt;ol&gt;&lt;li&gt;German competition watchdog launches A...</td>\n",
       "      <td>https://financialpost.com/pmn/business-pmn/ger...</td>\n",
       "      <td>NaN</td>\n",
       "      <td>2021-06-21T13:32:13Z</td>\n",
       "      <td>BERLIN Apple became the fourth major digital c...</td>\n",
       "      <td>130.0</td>\n",
       "      <td>Financial Post</td>\n",
       "    </tr>\n",
       "  </tbody>\n",
       "</table>\n",
       "</div>"
      ],
      "text/plain": [
       "   Unnamed: 0                                             source  \\\n",
       "0           0                   {'id': 'wired', 'name': 'Wired'}   \n",
       "1           1  {'id': 'financial-post', 'name': 'Financial Po...   \n",
       "\n",
       "                        author  \\\n",
       "0  Scott Gilbertson, Gear Team   \n",
       "1                      Reuters   \n",
       "\n",
       "                                               title  \\\n",
       "0  Walmart 'Deals for Days' 2021: The 19 Best Dea...   \n",
       "1  German competition watchdog launches Apple inv...   \n",
       "\n",
       "                                         description  \\\n",
       "0  Prime Day is more than Amazon now. Here's the ...   \n",
       "1  <ol><li>German competition watchdog launches A...   \n",
       "\n",
       "                                                 url  \\\n",
       "0  https://www.wired.com/story/walmart-days-of-de...   \n",
       "1  https://financialpost.com/pmn/business-pmn/ger...   \n",
       "\n",
       "                                          urlToImage           publishedAt  \\\n",
       "0  https://media.wired.com/photos/60ce1f76f7ad3fd...  2021-06-21T13:20:00Z   \n",
       "1                                                NaN  2021-06-21T13:32:13Z   \n",
       "\n",
       "                                             content  results         source2  \n",
       "0  Amazon's first Prime Day in 2015 was greeted w...    130.0           Wired  \n",
       "1  BERLIN Apple became the fourth major digital c...    130.0  Financial Post  "
      ]
     },
     "execution_count": 13,
     "metadata": {},
     "output_type": "execute_result"
    }
   ],
   "source": [
    "test.head(2)"
   ]
  },
  {
   "cell_type": "markdown",
   "metadata": {},
   "source": [
    "Probably not going to use content as it is truncated"
   ]
  },
  {
   "cell_type": "markdown",
   "metadata": {},
   "source": [
    "## MICROSOFT DATA"
   ]
  },
  {
   "cell_type": "code",
   "execution_count": null,
   "metadata": {
    "ExecuteTime": {
     "end_time": "2021-07-03T15:11:38.415327Z",
     "start_time": "2021-07-03T15:11:38.408449Z"
    }
   },
   "outputs": [],
   "source": [
    "m_week1_all, m_week1_to, m_week1_from, m_week1_zip = time_maker(14,19,'06')"
   ]
  },
  {
   "cell_type": "code",
   "execution_count": null,
   "metadata": {
    "ExecuteTime": {
     "end_time": "2021-07-03T15:17:41.065227Z",
     "start_time": "2021-07-03T15:17:41.056966Z"
    }
   },
   "outputs": [],
   "source": [
    "def get_data(zipped_dates):\n",
    "    hourly_data = []\n",
    "    for a, b in zipped_dates:\n",
    "        data = newsapi.get_everything(q='Microsoft',\n",
    "                                    from_param=a,\n",
    "                                    to=b,\n",
    "                                    language='en',\n",
    "                                    sort_by='relevancy',\n",
    "                                    page_size=100)\n",
    "        hourly_data.append(data)\n",
    "    return hourly_data"
   ]
  },
  {
   "cell_type": "code",
   "execution_count": null,
   "metadata": {
    "ExecuteTime": {
     "end_time": "2021-07-03T15:11:45.875450Z",
     "start_time": "2021-07-03T15:11:45.412157Z"
    }
   },
   "outputs": [],
   "source": [
    "m_week1 = get_data(m_week1_zip)"
   ]
  },
  {
   "cell_type": "code",
   "execution_count": null,
   "metadata": {
    "ExecuteTime": {
     "end_time": "2021-07-03T15:12:14.279450Z",
     "start_time": "2021-07-03T15:12:13.864798Z"
    }
   },
   "outputs": [],
   "source": [
    "m_week1"
   ]
  },
  {
   "cell_type": "code",
   "execution_count": null,
   "metadata": {
    "ExecuteTime": {
     "end_time": "2021-07-02T18:57:20.671434Z",
     "start_time": "2021-07-02T18:57:20.600826Z"
    }
   },
   "outputs": [],
   "source": [
    "df_msft = json_to_df(m_week1)"
   ]
  },
  {
   "cell_type": "code",
   "execution_count": null,
   "metadata": {
    "ExecuteTime": {
     "end_time": "2021-07-02T18:57:24.466205Z",
     "start_time": "2021-07-02T18:57:24.435705Z"
    }
   },
   "outputs": [],
   "source": [
    "df_msft"
   ]
  },
  {
   "cell_type": "code",
   "execution_count": null,
   "metadata": {
    "ExecuteTime": {
     "end_time": "2021-07-02T18:59:25.591730Z",
     "start_time": "2021-07-02T18:59:24.961253Z"
    }
   },
   "outputs": [],
   "source": [
    "df_msft = df_msft.apply(source_corrector, axis=1)"
   ]
  },
  {
   "cell_type": "code",
   "execution_count": null,
   "metadata": {
    "ExecuteTime": {
     "end_time": "2021-07-02T18:59:30.151936Z",
     "start_time": "2021-07-02T18:59:30.119545Z"
    }
   },
   "outputs": [],
   "source": [
    "df_msft"
   ]
  },
  {
   "cell_type": "code",
   "execution_count": null,
   "metadata": {
    "ExecuteTime": {
     "end_time": "2021-07-04T16:04:53.400409Z",
     "start_time": "2021-07-04T16:04:53.392612Z"
    }
   },
   "outputs": [],
   "source": [
    "cd data"
   ]
  },
  {
   "cell_type": "code",
   "execution_count": null,
   "metadata": {
    "ExecuteTime": {
     "end_time": "2021-07-04T16:05:03.205946Z",
     "start_time": "2021-07-04T16:05:03.053628Z"
    }
   },
   "outputs": [],
   "source": [
    "ls"
   ]
  },
  {
   "cell_type": "code",
   "execution_count": null,
   "metadata": {
    "ExecuteTime": {
     "end_time": "2021-07-04T16:05:29.057761Z",
     "start_time": "2021-07-04T16:05:29.044251Z"
    }
   },
   "outputs": [],
   "source": [
    "df_msft.to_csv('hourly_msft_articles_614_618')"
   ]
  },
  {
   "cell_type": "code",
   "execution_count": null,
   "metadata": {
    "ExecuteTime": {
     "end_time": "2021-07-03T15:18:13.780618Z",
     "start_time": "2021-07-03T15:18:13.774504Z"
    }
   },
   "outputs": [],
   "source": [
    "m_week2_all, m_week2_to, m_week2_from, m_week2_zip = time_maker(21,26,'06')"
   ]
  },
  {
   "cell_type": "code",
   "execution_count": null,
   "metadata": {
    "ExecuteTime": {
     "end_time": "2021-07-03T16:02:18.350526Z",
     "start_time": "2021-07-03T16:02:01.396703Z"
    }
   },
   "outputs": [],
   "source": [
    "\n",
    "m_week2 = get_data(m_week2_zip)"
   ]
  },
  {
   "cell_type": "code",
   "execution_count": null,
   "metadata": {
    "ExecuteTime": {
     "end_time": "2021-07-03T16:02:18.723824Z",
     "start_time": "2021-07-03T16:02:18.355835Z"
    }
   },
   "outputs": [],
   "source": [
    "m_week2"
   ]
  },
  {
   "cell_type": "code",
   "execution_count": null,
   "metadata": {
    "ExecuteTime": {
     "end_time": "2021-07-03T16:03:17.938049Z",
     "start_time": "2021-07-03T16:03:17.876835Z"
    }
   },
   "outputs": [],
   "source": [
    "df_msft2 = json_to_df(m_week2)"
   ]
  },
  {
   "cell_type": "code",
   "execution_count": null,
   "metadata": {
    "ExecuteTime": {
     "end_time": "2021-07-03T16:03:23.104100Z",
     "start_time": "2021-07-03T16:03:23.074471Z"
    }
   },
   "outputs": [],
   "source": [
    "df_msft2"
   ]
  },
  {
   "cell_type": "code",
   "execution_count": null,
   "metadata": {
    "ExecuteTime": {
     "end_time": "2021-07-03T16:04:06.015427Z",
     "start_time": "2021-07-03T16:04:05.302231Z"
    }
   },
   "outputs": [],
   "source": [
    "df_msft2=df_msft2.apply(source_corrector, axis=1)"
   ]
  },
  {
   "cell_type": "code",
   "execution_count": null,
   "metadata": {
    "ExecuteTime": {
     "end_time": "2021-07-03T16:04:45.497284Z",
     "start_time": "2021-07-03T16:04:45.441925Z"
    }
   },
   "outputs": [],
   "source": [
    "df_msft2.to_csv('hourly_msft_articles_621_625')"
   ]
  },
  {
   "cell_type": "markdown",
   "metadata": {},
   "source": [
    "## AMAZON DATA"
   ]
  },
  {
   "cell_type": "code",
   "execution_count": null,
   "metadata": {
    "ExecuteTime": {
     "end_time": "2021-07-03T16:08:00.655760Z",
     "start_time": "2021-07-03T16:08:00.650392Z"
    }
   },
   "outputs": [],
   "source": [
    "am_week1_all, am_week1_to, am_week1_from, am_week1_zip = time_maker(14,19,'06')"
   ]
  },
  {
   "cell_type": "code",
   "execution_count": null,
   "metadata": {
    "ExecuteTime": {
     "end_time": "2021-07-03T16:08:04.137665Z",
     "start_time": "2021-07-03T16:08:04.130795Z"
    }
   },
   "outputs": [],
   "source": [
    "len(am_week1_zip)"
   ]
  },
  {
   "cell_type": "code",
   "execution_count": null,
   "metadata": {
    "ExecuteTime": {
     "end_time": "2021-07-03T16:07:03.329795Z",
     "start_time": "2021-07-03T16:07:03.324679Z"
    }
   },
   "outputs": [],
   "source": [
    "def get_data(zipped_dates):\n",
    "    hourly_data = []\n",
    "    for a, b in zipped_dates:\n",
    "        data = newsapi.get_everything(q='Amazon',\n",
    "                                    from_param=a,\n",
    "                                    to=b,\n",
    "                                    language='en',\n",
    "                                    sort_by='relevancy',\n",
    "                                    page_size=100)\n",
    "        hourly_data.append(data)\n",
    "    return hourly_data"
   ]
  },
  {
   "cell_type": "code",
   "execution_count": null,
   "metadata": {
    "ExecuteTime": {
     "end_time": "2021-07-03T16:08:35.393988Z",
     "start_time": "2021-07-03T16:08:14.105024Z"
    }
   },
   "outputs": [],
   "source": [
    "am_week1 = get_data(am_week1_zip)"
   ]
  },
  {
   "cell_type": "code",
   "execution_count": null,
   "metadata": {
    "ExecuteTime": {
     "end_time": "2021-07-03T16:08:35.949516Z",
     "start_time": "2021-07-03T16:08:35.398336Z"
    }
   },
   "outputs": [],
   "source": [
    "am_week1"
   ]
  },
  {
   "cell_type": "code",
   "execution_count": null,
   "metadata": {
    "ExecuteTime": {
     "end_time": "2021-07-03T16:09:12.414080Z",
     "start_time": "2021-07-03T16:09:12.353858Z"
    }
   },
   "outputs": [],
   "source": [
    "df_am1 = json_to_df(am_week1)"
   ]
  },
  {
   "cell_type": "code",
   "execution_count": null,
   "metadata": {
    "ExecuteTime": {
     "end_time": "2021-07-03T16:09:16.503769Z",
     "start_time": "2021-07-03T16:09:16.472400Z"
    }
   },
   "outputs": [],
   "source": [
    "df_am1"
   ]
  },
  {
   "cell_type": "code",
   "execution_count": null,
   "metadata": {
    "ExecuteTime": {
     "end_time": "2021-07-03T16:09:56.390503Z",
     "start_time": "2021-07-03T16:09:55.168374Z"
    }
   },
   "outputs": [],
   "source": [
    "df_am1=df_am1.apply(source_corrector, axis=1)"
   ]
  },
  {
   "cell_type": "code",
   "execution_count": null,
   "metadata": {
    "ExecuteTime": {
     "end_time": "2021-07-03T16:10:00.835207Z",
     "start_time": "2021-07-03T16:10:00.803038Z"
    }
   },
   "outputs": [],
   "source": [
    "df_am1"
   ]
  },
  {
   "cell_type": "code",
   "execution_count": null,
   "metadata": {
    "ExecuteTime": {
     "end_time": "2021-07-03T16:10:50.543274Z",
     "start_time": "2021-07-03T16:10:50.465438Z"
    }
   },
   "outputs": [],
   "source": [
    "df_am1.to_csv('hourly_am_articles_614_618')"
   ]
  },
  {
   "cell_type": "code",
   "execution_count": null,
   "metadata": {
    "ExecuteTime": {
     "end_time": "2021-07-03T16:11:49.893092Z",
     "start_time": "2021-07-03T16:11:49.888231Z"
    }
   },
   "outputs": [],
   "source": [
    "am_week2_all, am_week2_to, am_week2_from, am_week2_zip = time_maker(21,26,'06')"
   ]
  },
  {
   "cell_type": "code",
   "execution_count": null,
   "metadata": {
    "ExecuteTime": {
     "end_time": "2021-07-03T20:11:57.043267Z",
     "start_time": "2021-07-03T20:11:36.122695Z"
    }
   },
   "outputs": [],
   "source": [
    "# Run this when it gets reset\n",
    "am_week2 = get_data(am_week2_zip)"
   ]
  },
  {
   "cell_type": "code",
   "execution_count": null,
   "metadata": {
    "ExecuteTime": {
     "end_time": "2021-07-03T20:11:57.618658Z",
     "start_time": "2021-07-03T20:11:57.048813Z"
    }
   },
   "outputs": [],
   "source": [
    "am_week2"
   ]
  },
  {
   "cell_type": "code",
   "execution_count": null,
   "metadata": {
    "ExecuteTime": {
     "end_time": "2021-07-03T20:12:33.405485Z",
     "start_time": "2021-07-03T20:12:33.258128Z"
    }
   },
   "outputs": [],
   "source": [
    "df_am2 = json_to_df(am_week2)"
   ]
  },
  {
   "cell_type": "code",
   "execution_count": null,
   "metadata": {
    "ExecuteTime": {
     "end_time": "2021-07-03T20:12:36.827398Z",
     "start_time": "2021-07-03T20:12:36.789638Z"
    }
   },
   "outputs": [],
   "source": [
    "df_am2"
   ]
  },
  {
   "cell_type": "code",
   "execution_count": null,
   "metadata": {
    "ExecuteTime": {
     "end_time": "2021-07-03T20:13:06.373177Z",
     "start_time": "2021-07-03T20:13:05.219462Z"
    }
   },
   "outputs": [],
   "source": [
    "df_am2=df_am2.apply(source_corrector, axis=1)"
   ]
  },
  {
   "cell_type": "code",
   "execution_count": null,
   "metadata": {
    "ExecuteTime": {
     "end_time": "2021-07-03T20:13:28.357834Z",
     "start_time": "2021-07-03T20:13:28.248025Z"
    }
   },
   "outputs": [],
   "source": [
    "df_am2.to_csv('hourly_am_articles_621_625')"
   ]
  },
  {
   "cell_type": "markdown",
   "metadata": {},
   "source": [
    "## NETFLIX DATA"
   ]
  },
  {
   "cell_type": "code",
   "execution_count": null,
   "metadata": {
    "ExecuteTime": {
     "end_time": "2021-07-03T20:14:44.390152Z",
     "start_time": "2021-07-03T20:14:44.380775Z"
    }
   },
   "outputs": [],
   "source": [
    "nf_week1_all, nf_week1_to, nf_week1_from, nf_week1_zip = time_maker(14,19,'06')"
   ]
  },
  {
   "cell_type": "code",
   "execution_count": null,
   "metadata": {
    "ExecuteTime": {
     "end_time": "2021-07-04T16:08:00.828962Z",
     "start_time": "2021-07-04T16:08:00.822051Z"
    }
   },
   "outputs": [],
   "source": [
    "def get_data(zipped_dates):\n",
    "    hourly_data = []\n",
    "    for a, b in zipped_dates:\n",
    "        data = newsapi.get_everything(q='Netflix',\n",
    "                                    from_param=a,\n",
    "                                    to=b,\n",
    "                                    language='en',\n",
    "                                    sort_by='relevancy',\n",
    "                                    page_size=100)\n",
    "        hourly_data.append(data)\n",
    "    return hourly_data"
   ]
  },
  {
   "cell_type": "code",
   "execution_count": null,
   "metadata": {
    "ExecuteTime": {
     "end_time": "2021-07-03T20:15:48.204710Z",
     "start_time": "2021-07-03T20:15:30.832747Z"
    }
   },
   "outputs": [],
   "source": [
    "nf_week1 = get_data(nf_week1_zip)"
   ]
  },
  {
   "cell_type": "code",
   "execution_count": null,
   "metadata": {
    "ExecuteTime": {
     "end_time": "2021-07-03T20:16:26.791940Z",
     "start_time": "2021-07-03T20:16:26.736410Z"
    }
   },
   "outputs": [],
   "source": [
    "df_nf1 = json_to_df(nf_week1)"
   ]
  },
  {
   "cell_type": "code",
   "execution_count": null,
   "metadata": {
    "ExecuteTime": {
     "end_time": "2021-07-03T20:16:58.321693Z",
     "start_time": "2021-07-03T20:16:57.415107Z"
    }
   },
   "outputs": [],
   "source": [
    "df_nf1=df_nf1.apply(source_corrector, axis=1)"
   ]
  },
  {
   "cell_type": "code",
   "execution_count": null,
   "metadata": {
    "ExecuteTime": {
     "end_time": "2021-07-03T20:17:22.625677Z",
     "start_time": "2021-07-03T20:17:22.583335Z"
    }
   },
   "outputs": [],
   "source": [
    "df_nf1.to_csv('hourly_nf_articles_614_618')"
   ]
  },
  {
   "cell_type": "code",
   "execution_count": null,
   "metadata": {
    "ExecuteTime": {
     "end_time": "2021-07-04T16:08:08.741635Z",
     "start_time": "2021-07-04T16:08:08.735880Z"
    }
   },
   "outputs": [],
   "source": [
    "nf_week2_all, nf_week2_to, nf_week2_from, nf_week2_zip = time_maker(21,26,'06')"
   ]
  },
  {
   "cell_type": "code",
   "execution_count": null,
   "metadata": {
    "ExecuteTime": {
     "end_time": "2021-07-04T21:52:08.369512Z",
     "start_time": "2021-07-04T21:51:53.422194Z"
    }
   },
   "outputs": [],
   "source": [
    "nf_week2 = get_data(nf_week2_zip)"
   ]
  },
  {
   "cell_type": "code",
   "execution_count": null,
   "metadata": {
    "ExecuteTime": {
     "end_time": "2021-07-04T21:52:53.411652Z",
     "start_time": "2021-07-04T21:52:40.334786Z"
    }
   },
   "outputs": [],
   "source": [
    "nf_week2 = get_data(nf_week2_zip)"
   ]
  },
  {
   "cell_type": "code",
   "execution_count": null,
   "metadata": {
    "ExecuteTime": {
     "end_time": "2021-07-04T21:52:53.874467Z",
     "start_time": "2021-07-04T21:52:53.752376Z"
    }
   },
   "outputs": [],
   "source": [
    "df_nf2 = json_to_df(nf_week2)"
   ]
  },
  {
   "cell_type": "code",
   "execution_count": null,
   "metadata": {
    "ExecuteTime": {
     "end_time": "2021-07-04T21:53:07.650296Z",
     "start_time": "2021-07-04T21:53:07.115392Z"
    }
   },
   "outputs": [],
   "source": [
    "df_nf2=df_nf2.apply(source_corrector, axis=1)"
   ]
  },
  {
   "cell_type": "code",
   "execution_count": null,
   "metadata": {
    "ExecuteTime": {
     "end_time": "2021-07-04T21:58:26.045295Z",
     "start_time": "2021-07-04T21:58:25.995436Z"
    }
   },
   "outputs": [],
   "source": [
    "df_nf2.to_csv('hourly_nf_articles_621_625')"
   ]
  },
  {
   "cell_type": "markdown",
   "metadata": {},
   "source": [
    "## GOOGLE DATA"
   ]
  },
  {
   "cell_type": "code",
   "execution_count": null,
   "metadata": {
    "ExecuteTime": {
     "end_time": "2021-07-07T14:15:36.516918Z",
     "start_time": "2021-07-07T14:15:36.512227Z"
    }
   },
   "outputs": [],
   "source": [
    "goog_week1_all, goog_week1_to, goog_week1_from, goog_week1_zip = time_maker(14,19,'06')"
   ]
  },
  {
   "cell_type": "code",
   "execution_count": null,
   "metadata": {
    "ExecuteTime": {
     "end_time": "2021-07-07T14:16:04.959917Z",
     "start_time": "2021-07-07T14:16:04.952218Z"
    }
   },
   "outputs": [],
   "source": [
    "def get_data(zipped_dates):\n",
    "    hourly_data = []\n",
    "    for a, b in zipped_dates:\n",
    "        data = newsapi.get_everything(q='Google',\n",
    "                                    from_param=a,\n",
    "                                    to=b,\n",
    "                                    language='en',\n",
    "                                    sort_by='relevancy',\n",
    "                                    page_size=100)\n",
    "        hourly_data.append(data)\n",
    "    return hourly_data"
   ]
  },
  {
   "cell_type": "code",
   "execution_count": null,
   "metadata": {
    "ExecuteTime": {
     "end_time": "2021-07-04T21:54:41.831340Z",
     "start_time": "2021-07-04T21:54:21.463359Z"
    }
   },
   "outputs": [],
   "source": [
    "goog_week1 = get_data(goog_week1_zip)"
   ]
  },
  {
   "cell_type": "code",
   "execution_count": null,
   "metadata": {
    "ExecuteTime": {
     "end_time": "2021-07-04T21:54:59.412987Z",
     "start_time": "2021-07-04T21:54:59.356429Z"
    }
   },
   "outputs": [],
   "source": [
    "df_goog1 = json_to_df(goog_week1)"
   ]
  },
  {
   "cell_type": "code",
   "execution_count": null,
   "metadata": {
    "ExecuteTime": {
     "end_time": "2021-07-04T21:55:19.966126Z",
     "start_time": "2021-07-04T21:55:18.525787Z"
    }
   },
   "outputs": [],
   "source": [
    "df_goog1=df_goog1.apply(source_corrector, axis=1)"
   ]
  },
  {
   "cell_type": "code",
   "execution_count": null,
   "metadata": {
    "ExecuteTime": {
     "end_time": "2021-07-04T21:56:09.306270Z",
     "start_time": "2021-07-04T21:56:09.221505Z"
    }
   },
   "outputs": [],
   "source": [
    "df_goog1.to_csv('hourly_goog_articles_614_618')"
   ]
  },
  {
   "cell_type": "code",
   "execution_count": null,
   "metadata": {},
   "outputs": [],
   "source": []
  },
  {
   "cell_type": "code",
   "execution_count": null,
   "metadata": {
    "ExecuteTime": {
     "end_time": "2021-07-07T14:16:08.778080Z",
     "start_time": "2021-07-07T14:16:08.772850Z"
    }
   },
   "outputs": [],
   "source": [
    "goog_week2_all, goog_week2_to, goog_week2_from, goog_week2_zip = time_maker(21,26,'06')"
   ]
  },
  {
   "cell_type": "code",
   "execution_count": null,
   "metadata": {
    "ExecuteTime": {
     "end_time": "2021-07-07T14:16:31.984330Z",
     "start_time": "2021-07-07T14:16:10.806244Z"
    }
   },
   "outputs": [],
   "source": [
    "goog_week2 = get_data(goog_week2_zip)"
   ]
  },
  {
   "cell_type": "code",
   "execution_count": null,
   "metadata": {
    "ExecuteTime": {
     "end_time": "2021-07-07T14:16:53.078969Z",
     "start_time": "2021-07-07T14:16:52.984920Z"
    }
   },
   "outputs": [],
   "source": [
    "df_goog2 = json_to_df(goog_week2)"
   ]
  },
  {
   "cell_type": "code",
   "execution_count": null,
   "metadata": {
    "ExecuteTime": {
     "end_time": "2021-07-07T14:16:55.825404Z",
     "start_time": "2021-07-07T14:16:54.648401Z"
    }
   },
   "outputs": [],
   "source": [
    "df_goog2=df_goog2.apply(source_corrector, axis=1)"
   ]
  },
  {
   "cell_type": "code",
   "execution_count": null,
   "metadata": {
    "ExecuteTime": {
     "end_time": "2021-07-07T14:16:56.583932Z",
     "start_time": "2021-07-07T14:16:56.491993Z"
    }
   },
   "outputs": [],
   "source": [
    "df_goog2.to_csv('hourly_goog_articles_621_626')"
   ]
  },
  {
   "cell_type": "markdown",
   "metadata": {},
   "source": [
    "## FACEBOOK DATA"
   ]
  },
  {
   "cell_type": "code",
   "execution_count": null,
   "metadata": {
    "ExecuteTime": {
     "end_time": "2021-07-07T14:17:29.970209Z",
     "start_time": "2021-07-07T14:17:29.964065Z"
    }
   },
   "outputs": [],
   "source": [
    "fb_week1_all, fb_week1_to, fb_week1_from, fb_week1_zip = time_maker(14,19,'06')"
   ]
  },
  {
   "cell_type": "code",
   "execution_count": null,
   "metadata": {
    "ExecuteTime": {
     "end_time": "2021-07-07T14:18:02.733283Z",
     "start_time": "2021-07-07T14:18:02.726286Z"
    }
   },
   "outputs": [],
   "source": [
    "def get_data(zipped_dates):\n",
    "    hourly_data = []\n",
    "    for a, b in zipped_dates:\n",
    "        data = newsapi.get_everything(q='Facebook',\n",
    "                                    from_param=a,\n",
    "                                    to=b,\n",
    "                                    language='en',\n",
    "                                    sort_by='relevancy',\n",
    "                                    page_size=100)\n",
    "        hourly_data.append(data)\n",
    "    return hourly_data"
   ]
  },
  {
   "cell_type": "code",
   "execution_count": null,
   "metadata": {
    "ExecuteTime": {
     "end_time": "2021-07-07T14:18:43.210161Z",
     "start_time": "2021-07-07T14:18:20.553485Z"
    }
   },
   "outputs": [],
   "source": [
    "fb_week1 = get_data(fb_week1_zip)"
   ]
  },
  {
   "cell_type": "code",
   "execution_count": null,
   "metadata": {
    "ExecuteTime": {
     "end_time": "2021-07-07T14:18:49.006800Z",
     "start_time": "2021-07-07T14:18:48.943061Z"
    }
   },
   "outputs": [],
   "source": [
    "df_fb1 = json_to_df(fb_week1)"
   ]
  },
  {
   "cell_type": "code",
   "execution_count": null,
   "metadata": {
    "ExecuteTime": {
     "end_time": "2021-07-07T14:19:04.015626Z",
     "start_time": "2021-07-07T14:19:02.851155Z"
    }
   },
   "outputs": [],
   "source": [
    "df_fb1=df_fb1.apply(source_corrector, axis=1)"
   ]
  },
  {
   "cell_type": "code",
   "execution_count": null,
   "metadata": {
    "ExecuteTime": {
     "end_time": "2021-07-07T14:19:25.010183Z",
     "start_time": "2021-07-07T14:19:24.929442Z"
    }
   },
   "outputs": [],
   "source": [
    "df_fb1.to_csv('hourly_fb_articles_614_618')"
   ]
  },
  {
   "cell_type": "code",
   "execution_count": null,
   "metadata": {
    "ExecuteTime": {
     "end_time": "2021-07-07T14:20:06.635853Z",
     "start_time": "2021-07-07T14:20:06.630542Z"
    }
   },
   "outputs": [],
   "source": [
    "fb_week2_all, fb_week2_to, fb_week2_from, fb_week2_zip = time_maker(21,26,'06')"
   ]
  },
  {
   "cell_type": "code",
   "execution_count": null,
   "metadata": {
    "ExecuteTime": {
     "end_time": "2021-07-07T14:20:24.320727Z",
     "start_time": "2021-07-07T14:20:07.589069Z"
    }
   },
   "outputs": [],
   "source": [
    "# Run this when I have credits\n",
    "fb_week2 = get_data(fb_week2_zip)"
   ]
  },
  {
   "cell_type": "code",
   "execution_count": null,
   "metadata": {
    "ExecuteTime": {
     "end_time": "2021-07-07T14:20:24.323622Z",
     "start_time": "2021-07-07T14:20:23.166Z"
    }
   },
   "outputs": [],
   "source": [
    "df_fb2 = json_to_df(fb_week2)"
   ]
  },
  {
   "cell_type": "code",
   "execution_count": null,
   "metadata": {},
   "outputs": [],
   "source": [
    "df_fb2=df_fb2.apply(source_corrector, axis=1)"
   ]
  },
  {
   "cell_type": "code",
   "execution_count": null,
   "metadata": {},
   "outputs": [],
   "source": [
    "df_fb2.to_csv('hourly_fb_articles_621_625')"
   ]
  },
  {
   "cell_type": "markdown",
   "metadata": {},
   "source": [
    "# Cleaning News Data"
   ]
  },
  {
   "cell_type": "code",
   "execution_count": null,
   "metadata": {
    "ExecuteTime": {
     "end_time": "2021-07-04T22:00:24.386756Z",
     "start_time": "2021-07-04T22:00:24.378497Z"
    }
   },
   "outputs": [],
   "source": [
    "def read_in_data(filepath):\n",
    "    df = pd.read_csv(filepath)\n",
    "    df.drop(columns='Unnamed: 0', inplace=True)\n",
    "    df = df[~df['source2'].isin(bad_sources)].copy()\n",
    "    return df"
   ]
  },
  {
   "cell_type": "code",
   "execution_count": null,
   "metadata": {
    "ExecuteTime": {
     "end_time": "2021-07-04T22:01:05.060005Z",
     "start_time": "2021-07-04T22:01:04.999126Z"
    }
   },
   "outputs": [],
   "source": [
    "df_apple = read_in_data('../data/news_articles/hourly_apple_articles_614_618')"
   ]
  },
  {
   "cell_type": "code",
   "execution_count": null,
   "metadata": {
    "ExecuteTime": {
     "end_time": "2021-07-04T15:11:20.970849Z",
     "start_time": "2021-07-04T15:11:20.858490Z"
    }
   },
   "outputs": [],
   "source": [
    "# df_apple = pd.read_csv('hourly_apple_articles_614_618')"
   ]
  },
  {
   "cell_type": "code",
   "execution_count": null,
   "metadata": {
    "ExecuteTime": {
     "end_time": "2021-07-04T15:11:35.271344Z",
     "start_time": "2021-07-04T15:11:35.254490Z"
    }
   },
   "outputs": [],
   "source": [
    "# df_apple.drop(columns='Unnamed: 0', inplace=True)"
   ]
  },
  {
   "cell_type": "code",
   "execution_count": null,
   "metadata": {
    "ExecuteTime": {
     "end_time": "2021-07-04T15:11:35.736443Z",
     "start_time": "2021-07-04T15:11:35.717006Z"
    }
   },
   "outputs": [],
   "source": [
    "# df_apple.head(2)"
   ]
  },
  {
   "cell_type": "code",
   "execution_count": null,
   "metadata": {
    "ExecuteTime": {
     "end_time": "2021-07-02T23:23:48.308018Z",
     "start_time": "2021-07-02T23:23:48.258029Z"
    }
   },
   "outputs": [],
   "source": [
    "df_apple[~df_apple['source2'].isin(bad_sources)].iloc[300:350]\n",
    "\n",
    "# Sifting thru, next up is 350:400"
   ]
  },
  {
   "cell_type": "code",
   "execution_count": null,
   "metadata": {
    "ExecuteTime": {
     "end_time": "2021-07-04T22:01:01.566697Z",
     "start_time": "2021-07-04T22:01:01.550924Z"
    }
   },
   "outputs": [],
   "source": [
    "# Sources to exlude\n",
    "\n",
    "bad_sources = ['LatestLY', 'iMore', 'Phandroid - News for Android', 'Internet', 'AnandTech', 'Justcreative.com',\n",
    "      'Raywenderlich.com', 'Lifehacker Australia', 'News18', 'Zee Business', 'Geeky Gadgets', 'Business Wire',\n",
    "      'Digital Information World', 'Madshrimps.be', 'Theinventory.com', 'Ozbargain.com.au', 'Www.bgr.in',\n",
    "      \"Paul Tan's Automotive News\", 'Livemint', 'Todayifoundout.com', 'Hotukdeals.com', 'Thefutoncritic.com',\n",
    "      'Applelinkage.com', 'Worldsoccertalk.com', '9to5Toys', 'Torrentfreak.com', 'Slickdeals.net',\n",
    "      'Rock Paper Shotgun', 'Idownloadblog.com', 'Justinobeirne.com', 'Everydaycarry.com', 'Ars Technica',\n",
    "      'Intheknow.com', 'Yanko Design', 'Lefsetz.com', 'Android Community', '/FILM', 'Droid Life',\n",
    "      'Moneysavingmom.com', 'WDVM 25', 'Nextjs.org', 'ComingSoon.net', 'Hip2save.com', 'Giveawayoftheday.com',\n",
    "      'Wptavern.com', 'Visual.ly', 'Denton Record Chronicle', 'Pocket Gamer', 'Moneycontrol',\n",
    "      'Commonsensewithmoney.com', 'PC Gamer', 'Livedoor.jp', 'Trendhunter.com', 'Twit.tv', 'Prtimes.jp',\n",
    "      'NWAOnline', 'Raw Story', 'MobiHealthNews', 'guru3d.com', 'Travelcodex.com', 'T3 US/CA', 'Ctvnews.ca',\n",
    "       'Macitynet.it', 'The Hindu', 'Thekitchn.com', 'Omgubuntu.co.uk', 'DC Rainmaker', 'Foodgawker.com',\n",
    "       'Just Jared', 'Mediagazer.com', 'Theshutterwhale.com', 'Uark.edu', 'Sputnik International', 'Pinkbike.com',\n",
    "       'CNA', 'EurekAlert', 'Energy-storage.news', 'Rogerebert.com', 'Driving', 'Phys.Org', 'The Times of India',\n",
    "       'Eonline.com', 'DIYphotography', 'Food52.com', 'BMWBLOG','Eonline', 'redmondpie', 'Brooklyn Vegan', 'MMA Fighting', 'Spoilertv', 'Hotukdeals', \n",
    "        'Celebitchy', 'Michaelgeist', 'Helloglow', 'Robb Report', 'Carandbike', 'POPSUGAR',\n",
    "        'Slickdeals', 'Pyimagesearch', 'Purseblog', 'BroBible', 'Clarkesworldmagazine', 'TheGrio',\n",
    "        'Heimdalsecurity', \"Tom's Guide\", 'Siliconera', 'Gamasutra', 'Dansdeals', 'Touringplans',\n",
    "        'Ehl', 'City A', 'Southernsavers', 'Dpreview', 'Marksdailyapple', '2dopeboyz',\n",
    "         'SYFY WIRE', 'Screenanarchy', 'Top Speed', 'CBS Sports', 'Yahoo Entertainment',\n",
    "         'Hollywood Life', 'Iphone-mania']"
   ]
  },
  {
   "cell_type": "code",
   "execution_count": null,
   "metadata": {
    "ExecuteTime": {
     "end_time": "2021-07-03T17:13:19.721103Z",
     "start_time": "2021-07-03T17:13:19.717867Z"
    }
   },
   "outputs": [],
   "source": [
    "bad_sources = list(set(bad_sources))"
   ]
  },
  {
   "cell_type": "code",
   "execution_count": null,
   "metadata": {
    "ExecuteTime": {
     "end_time": "2021-07-04T15:12:03.463765Z",
     "start_time": "2021-07-04T15:12:03.440094Z"
    }
   },
   "outputs": [],
   "source": [
    "df_apple = df_apple[~df_apple['source2'].isin(bad_sources)].copy()"
   ]
  },
  {
   "cell_type": "code",
   "execution_count": null,
   "metadata": {
    "ExecuteTime": {
     "end_time": "2021-07-04T22:01:12.066761Z",
     "start_time": "2021-07-04T22:01:12.024546Z"
    }
   },
   "outputs": [],
   "source": [
    "df_apple"
   ]
  },
  {
   "cell_type": "markdown",
   "metadata": {},
   "source": [
    "## Ensure there are no null values"
   ]
  },
  {
   "cell_type": "markdown",
   "metadata": {},
   "source": [
    "Map Lambda statements to correct issues and then use the joiner"
   ]
  },
  {
   "cell_type": "code",
   "execution_count": null,
   "metadata": {
    "ExecuteTime": {
     "end_time": "2021-07-04T22:01:31.294631Z",
     "start_time": "2021-07-04T22:01:31.276813Z"
    }
   },
   "outputs": [],
   "source": [
    "df_apple.isna().sum()"
   ]
  },
  {
   "cell_type": "code",
   "execution_count": null,
   "metadata": {
    "ExecuteTime": {
     "end_time": "2021-07-04T22:01:33.814729Z",
     "start_time": "2021-07-04T22:01:33.786975Z"
    }
   },
   "outputs": [],
   "source": [
    "df_apple[df_apple['title'].isna()]"
   ]
  },
  {
   "cell_type": "code",
   "execution_count": null,
   "metadata": {
    "ExecuteTime": {
     "end_time": "2021-07-04T22:01:34.112803Z",
     "start_time": "2021-07-04T22:01:34.090009Z"
    },
    "scrolled": true
   },
   "outputs": [],
   "source": [
    "df_apple[df_apple['content'].isna()]"
   ]
  },
  {
   "cell_type": "code",
   "execution_count": null,
   "metadata": {
    "ExecuteTime": {
     "end_time": "2021-07-04T22:01:34.608286Z",
     "start_time": "2021-07-04T22:01:34.585153Z"
    },
    "scrolled": true
   },
   "outputs": [],
   "source": [
    "df_apple[df_apple['description'].isna()]"
   ]
  },
  {
   "cell_type": "code",
   "execution_count": null,
   "metadata": {
    "ExecuteTime": {
     "end_time": "2021-07-04T22:01:36.982914Z",
     "start_time": "2021-07-04T22:01:36.953525Z"
    }
   },
   "outputs": [],
   "source": [
    "df_apple.dropna(subset=['description', 'content', 'title'], inplace=True)"
   ]
  },
  {
   "cell_type": "code",
   "execution_count": null,
   "metadata": {
    "ExecuteTime": {
     "end_time": "2021-07-04T22:01:38.022398Z",
     "start_time": "2021-07-04T22:01:38.007613Z"
    },
    "scrolled": true
   },
   "outputs": [],
   "source": [
    "df_apple.isna().sum()"
   ]
  },
  {
   "cell_type": "markdown",
   "metadata": {},
   "source": [
    "## Create Joined Sentiment Content Column"
   ]
  },
  {
   "cell_type": "code",
   "execution_count": null,
   "metadata": {
    "ExecuteTime": {
     "end_time": "2021-07-04T22:01:41.028615Z",
     "start_time": "2021-07-04T22:01:41.010093Z"
    }
   },
   "outputs": [],
   "source": [
    "def content_clearer_join(df):\n",
    "    \n",
    "    df['content']=df['content'].split('[')[0].replace('…', '').replace('\\r\\n', '')\\\n",
    "                                                .replace('\\xa0', '').replace('&amp', '').strip()\n",
    "    df['description']=df['content'].split('[')[0].replace('…', '').replace('\\r\\n', '')\\\n",
    "                                                .replace('\\xa0', '').replace('&amp', '').strip()\n",
    "    \n",
    "    if (df['description'][:100] == df['content'][:100]):\n",
    "        df['cont_joined'] = df['title']+ '; ' +df['description']\n",
    "    \n",
    "    else:\n",
    "        df['cont_joined'] = df['title']+ '; ' +df['description'] + '; ' +df['content']\n",
    "    \n",
    "    return df"
   ]
  },
  {
   "cell_type": "code",
   "execution_count": null,
   "metadata": {
    "ExecuteTime": {
     "end_time": "2021-07-04T22:01:53.236954Z",
     "start_time": "2021-07-04T22:01:52.196973Z"
    }
   },
   "outputs": [],
   "source": [
    "df_apple=df_apple.apply(content_clearer_join, axis=1)"
   ]
  },
  {
   "cell_type": "code",
   "execution_count": null,
   "metadata": {
    "ExecuteTime": {
     "end_time": "2021-07-04T22:01:53.578334Z",
     "start_time": "2021-07-04T22:01:53.556618Z"
    }
   },
   "outputs": [],
   "source": [
    "df_apple.head(3)"
   ]
  },
  {
   "cell_type": "code",
   "execution_count": null,
   "metadata": {
    "ExecuteTime": {
     "end_time": "2021-07-04T22:01:58.643458Z",
     "start_time": "2021-07-04T22:01:58.638137Z"
    }
   },
   "outputs": [],
   "source": [
    "def remove_columns(df):\n",
    "    df.drop(columns=['source', 'author', 'url', 'urlToImage'], inplace=True)\n",
    "    return df"
   ]
  },
  {
   "cell_type": "code",
   "execution_count": null,
   "metadata": {
    "ExecuteTime": {
     "end_time": "2021-07-04T22:01:59.587929Z",
     "start_time": "2021-07-04T22:01:59.579032Z"
    }
   },
   "outputs": [],
   "source": [
    "df_apple=remove_columns(df_apple)"
   ]
  },
  {
   "cell_type": "code",
   "execution_count": null,
   "metadata": {
    "ExecuteTime": {
     "end_time": "2021-07-04T22:02:01.548406Z",
     "start_time": "2021-07-04T22:02:01.541701Z"
    }
   },
   "outputs": [],
   "source": [
    "def set_idx(df):\n",
    "    df['publishedAt'] = pd.to_datetime(df['publishedAt'])\n",
    "    df.set_index('publishedAt', inplace=True)\n",
    "    return df"
   ]
  },
  {
   "cell_type": "code",
   "execution_count": null,
   "metadata": {
    "ExecuteTime": {
     "end_time": "2021-07-04T22:02:02.064598Z",
     "start_time": "2021-07-04T22:02:02.040997Z"
    }
   },
   "outputs": [],
   "source": [
    "df_apple = set_idx(df_apple)"
   ]
  },
  {
   "cell_type": "code",
   "execution_count": null,
   "metadata": {
    "ExecuteTime": {
     "end_time": "2021-07-04T22:02:02.534308Z",
     "start_time": "2021-07-04T22:02:02.508892Z"
    }
   },
   "outputs": [],
   "source": [
    "df_apple.head(3)"
   ]
  },
  {
   "cell_type": "code",
   "execution_count": null,
   "metadata": {
    "ExecuteTime": {
     "end_time": "2021-07-04T22:05:24.121947Z",
     "start_time": "2021-07-04T22:05:24.112684Z"
    }
   },
   "outputs": [],
   "source": [
    "df_apple.index = df_apple.index.tz_convert('US/Eastern')"
   ]
  },
  {
   "cell_type": "code",
   "execution_count": null,
   "metadata": {
    "ExecuteTime": {
     "end_time": "2021-07-04T22:05:28.602597Z",
     "start_time": "2021-07-04T22:05:28.592878Z"
    }
   },
   "outputs": [],
   "source": [
    "df_apple.index"
   ]
  },
  {
   "cell_type": "code",
   "execution_count": null,
   "metadata": {
    "ExecuteTime": {
     "end_time": "2021-07-04T22:08:28.122883Z",
     "start_time": "2021-07-04T22:08:28.114417Z"
    }
   },
   "outputs": [],
   "source": [
    "df_apple.sort_index(inplace=True)"
   ]
  },
  {
   "cell_type": "code",
   "execution_count": null,
   "metadata": {
    "ExecuteTime": {
     "end_time": "2021-07-04T22:08:59.132146Z",
     "start_time": "2021-07-04T22:08:59.112531Z"
    }
   },
   "outputs": [],
   "source": [
    "df_apple['hour'] = df_apple.index.hour"
   ]
  },
  {
   "cell_type": "code",
   "execution_count": null,
   "metadata": {
    "ExecuteTime": {
     "end_time": "2021-07-04T22:10:02.944406Z",
     "start_time": "2021-07-04T22:10:02.938192Z"
    }
   },
   "outputs": [],
   "source": [
    "df_apple['day']=df_apple.index.day"
   ]
  },
  {
   "cell_type": "code",
   "execution_count": null,
   "metadata": {
    "ExecuteTime": {
     "end_time": "2021-07-04T22:12:56.581921Z",
     "start_time": "2021-07-04T22:12:56.566177Z"
    }
   },
   "outputs": [],
   "source": [
    "df_apple.groupby(by=['day', 'hour'])['results'].mean()"
   ]
  },
  {
   "cell_type": "markdown",
   "metadata": {},
   "source": [
    "# Financial Data"
   ]
  },
  {
   "cell_type": "markdown",
   "metadata": {},
   "source": [
    "Data source\n",
    "\n",
    "https://finance.yahoo.com/quote/AAPL/history?p=AAPL"
   ]
  },
  {
   "cell_type": "code",
   "execution_count": null,
   "metadata": {
    "ExecuteTime": {
     "end_time": "2021-06-28T21:34:40.433915Z",
     "start_time": "2021-06-28T21:34:40.431119Z"
    }
   },
   "outputs": [],
   "source": [
    "# Try except loop API\n",
    "# Print progress loop\n",
    "# mode = 'a' on csv\n",
    "# streamlit plotly express"
   ]
  },
  {
   "cell_type": "code",
   "execution_count": null,
   "metadata": {
    "ExecuteTime": {
     "end_time": "2021-06-24T14:47:38.208561Z",
     "start_time": "2021-06-24T14:47:34.712767Z"
    }
   },
   "outputs": [],
   "source": [
    "# pip install yfinance"
   ]
  },
  {
   "cell_type": "code",
   "execution_count": null,
   "metadata": {
    "ExecuteTime": {
     "end_time": "2021-07-02T15:24:49.885261Z",
     "start_time": "2021-07-02T15:24:49.861224Z"
    }
   },
   "outputs": [],
   "source": [
    "import yfinance as yf"
   ]
  },
  {
   "cell_type": "markdown",
   "metadata": {},
   "source": [
    "## Gather Stock Data"
   ]
  },
  {
   "cell_type": "code",
   "execution_count": null,
   "metadata": {
    "ExecuteTime": {
     "end_time": "2021-07-02T19:05:35.781571Z",
     "start_time": "2021-07-02T19:05:35.777800Z"
    }
   },
   "outputs": [],
   "source": [
    "def get_stock_prices(company):\n",
    "    comp = yf.Ticker(company)\n",
    "    comp = comp.history(period=\"1mo\", interval='60m')\n",
    "    return comp"
   ]
  },
  {
   "cell_type": "code",
   "execution_count": null,
   "metadata": {
    "ExecuteTime": {
     "end_time": "2021-07-02T19:05:51.487858Z",
     "start_time": "2021-07-02T19:05:51.228342Z"
    }
   },
   "outputs": [],
   "source": [
    "msft_price = get_stock_prices(\"MSFT\")"
   ]
  },
  {
   "cell_type": "code",
   "execution_count": null,
   "metadata": {
    "ExecuteTime": {
     "end_time": "2021-07-02T19:06:19.115511Z",
     "start_time": "2021-07-02T19:06:19.095551Z"
    }
   },
   "outputs": [],
   "source": [
    "msft_price.to_csv('msft_stock')"
   ]
  },
  {
   "cell_type": "code",
   "execution_count": null,
   "metadata": {
    "ExecuteTime": {
     "end_time": "2021-07-02T19:18:18.321752Z",
     "start_time": "2021-07-02T19:18:17.509603Z"
    }
   },
   "outputs": [],
   "source": [
    "stock_tickers = [\"FB\", \"AMZN\", \"NFLX\", \"GOOGL\", \"AAPL\", \"MSFT\"]\n",
    "\n",
    "for stock in stock_tickers:\n",
    "    df_stock = get_stock_prices(stock)\n",
    "    df_stock.to_csv(f\"{stock.lower()}_stock\")"
   ]
  },
  {
   "cell_type": "markdown",
   "metadata": {},
   "source": [
    "# Excess Code"
   ]
  },
  {
   "cell_type": "code",
   "execution_count": null,
   "metadata": {
    "ExecuteTime": {
     "end_time": "2021-07-02T15:20:04.690683Z",
     "start_time": "2021-07-02T15:20:04.674003Z"
    }
   },
   "outputs": [],
   "source": [
    "# stock market open from 930am - 4pm est\n",
    "# utc: 13:30 - 20:00\n",
    "all_times = []\n",
    "days = list(range(21,26))\n",
    "for day in days:\n",
    "    lst = [13,14,14,15,15,16,16,17,17,18,18,19,19,20]\n",
    "    for i in range(len(lst)):\n",
    "        if lst[i]==0 or lst[i]==8:\n",
    "            all_times.append(f\"2021-06-{day}T0{lst[i]}:00:00\")\n",
    "        else:          \n",
    "            all_times.append(f\"2021-06-{day}T{lst[i]}:00:00\")\n",
    "\n",
    "all_times"
   ]
  },
  {
   "cell_type": "code",
   "execution_count": null,
   "metadata": {},
   "outputs": [],
   "source": [
    "hourly_apple_data = []\n",
    "for a, b in zipped_dates:\n",
    "    data = newsapi.get_everything(q='+Apple', #stock,\n",
    "                                from_param=a,\n",
    "                                to=b,\n",
    "                                language='en',\n",
    "                                sort_by='relevancy',\n",
    "                                page_size=100)\n",
    "    hourly_apple_data.append(data)"
   ]
  },
  {
   "cell_type": "code",
   "execution_count": null,
   "metadata": {
    "ExecuteTime": {
     "end_time": "2021-07-02T17:32:55.353805Z",
     "start_time": "2021-07-02T17:32:55.339569Z"
    }
   },
   "outputs": [],
   "source": [
    "empty = ''\n",
    "for source in bad_sources:\n",
    "    source = source.replace('\"','')\n",
    "    empty +=(', ' + source)\n",
    "empty\n",
    "empty.strip()"
   ]
  },
  {
   "cell_type": "code",
   "execution_count": null,
   "metadata": {},
   "outputs": [],
   "source": [
    "# this works\n",
    "test = all_times[1]\n",
    "something = []\n",
    "data_2 = newsapi.get_everything(q='+Apple stock',\n",
    "                                qintitle='+Apple stock',\n",
    "                                from_param=test,\n",
    "                                to='2021-06-21T12:00:00',\n",
    "                                language='en',\n",
    "                                sort_by='relevancy',\n",
    "                                page_size=100)\n",
    "something.append(data_2)"
   ]
  },
  {
   "cell_type": "code",
   "execution_count": null,
   "metadata": {},
   "outputs": [],
   "source": [
    "def comp_name(comp):\n",
    "    test_sources = newsapi.get_everything(q=comp,\n",
    "                                    from_param='2021-06-14T13:00:00',\n",
    "                                    exclude_domains=exclusion,\n",
    "                                    to='2021-06-14T14:00:00',\n",
    "                                    language='en',\n",
    "                                    sort_by='relevancy',\n",
    "                                    page_size=100)\n",
    "    return test_sources\n"
   ]
  },
  {
   "cell_type": "code",
   "execution_count": null,
   "metadata": {},
   "outputs": [],
   "source": [
    "def content_clearer(df):\n",
    "    df['content']=df['content'].map(lambda x: x.split('[')[0].replace('…', '').replace('\\r\\n', '')\\\n",
    "                                                .replace('\\xa0', '').replace('&amp', '').strip())\n",
    "    df['description']=df['content'].map(lambda x: x.split('[')[0].replace('…', '').replace('\\r\\n', '')\\\n",
    "                                                .replace('\\xa0', '').replace('&amp', '').strip())\n",
    "    return df"
   ]
  },
  {
   "cell_type": "code",
   "execution_count": null,
   "metadata": {},
   "outputs": [],
   "source": [
    "def content_string(df):\n",
    "    if (df['description'][:100] == df['content'][:100]):\n",
    "        df['cont_joined'] = df['title']+ '; ' +df['description']\n",
    "    \n",
    "    else:\n",
    "        df['cont_joined'] = df['title']+ '; ' +df['description'] + '; ' +df['content']\n",
    "\n",
    "    return df"
   ]
  },
  {
   "cell_type": "code",
   "execution_count": null,
   "metadata": {},
   "outputs": [],
   "source": []
  },
  {
   "cell_type": "code",
   "execution_count": null,
   "metadata": {},
   "outputs": [],
   "source": []
  }
 ],
 "metadata": {
  "kernelspec": {
   "display_name": "learn-env",
   "language": "python",
   "name": "learn-env"
  },
  "language_info": {
   "codemirror_mode": {
    "name": "ipython",
    "version": 3
   },
   "file_extension": ".py",
   "mimetype": "text/x-python",
   "name": "python",
   "nbconvert_exporter": "python",
   "pygments_lexer": "ipython3",
   "version": "3.8.5"
  },
  "toc": {
   "base_numbering": 1,
   "nav_menu": {},
   "number_sections": true,
   "sideBar": true,
   "skip_h1_title": false,
   "title_cell": "Table of Contents",
   "title_sidebar": "Contents",
   "toc_cell": false,
   "toc_position": {
    "height": "calc(100% - 180px)",
    "left": "10px",
    "top": "150px",
    "width": "165px"
   },
   "toc_section_display": true,
   "toc_window_display": true
  }
 },
 "nbformat": 4,
 "nbformat_minor": 4
}
