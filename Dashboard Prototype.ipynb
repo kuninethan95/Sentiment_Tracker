{
 "cells": [
  {
   "cell_type": "code",
   "execution_count": 84,
   "metadata": {
    "ExecuteTime": {
     "end_time": "2021-07-16T14:55:38.261054Z",
     "start_time": "2021-07-16T14:55:38.251862Z"
    }
   },
   "outputs": [],
   "source": [
    "import pandas as pd\n",
    "import plotly.express as px\n",
    "import plotly.graph_objects as go\n",
    "from plotly.subplots import make_subplots"
   ]
  },
  {
   "cell_type": "markdown",
   "metadata": {},
   "source": [
    "test"
   ]
  },
  {
   "cell_type": "code",
   "execution_count": 85,
   "metadata": {
    "ExecuteTime": {
     "end_time": "2021-07-16T14:55:38.802535Z",
     "start_time": "2021-07-16T14:55:38.794235Z"
    }
   },
   "outputs": [],
   "source": [
    "def set_idx(df):\n",
    "    df['publishedAt'] = pd.to_datetime(df['publishedAt'])\n",
    "    df.set_index('publishedAt', inplace=True)\n",
    "    return df"
   ]
  },
  {
   "cell_type": "code",
   "execution_count": 86,
   "metadata": {
    "ExecuteTime": {
     "end_time": "2021-07-16T14:55:39.190882Z",
     "start_time": "2021-07-16T14:55:39.108243Z"
    }
   },
   "outputs": [],
   "source": [
    "df = pd.read_csv('data/etl_df/df_etl_am1.csv')"
   ]
  },
  {
   "cell_type": "code",
   "execution_count": 87,
   "metadata": {
    "ExecuteTime": {
     "end_time": "2021-07-16T14:55:39.489888Z",
     "start_time": "2021-07-16T14:55:39.455168Z"
    }
   },
   "outputs": [],
   "source": [
    "df_netflix = pd.read_csv('data/etl_df/df_etl_nflx1.csv')"
   ]
  },
  {
   "cell_type": "code",
   "execution_count": 88,
   "metadata": {
    "ExecuteTime": {
     "end_time": "2021-07-16T14:55:40.230066Z",
     "start_time": "2021-07-16T14:55:40.172365Z"
    }
   },
   "outputs": [
    {
     "data": {
      "text/html": [
       "<div>\n",
       "<style scoped>\n",
       "    .dataframe tbody tr th:only-of-type {\n",
       "        vertical-align: middle;\n",
       "    }\n",
       "\n",
       "    .dataframe tbody tr th {\n",
       "        vertical-align: top;\n",
       "    }\n",
       "\n",
       "    .dataframe thead th {\n",
       "        text-align: right;\n",
       "    }\n",
       "</style>\n",
       "<table border=\"1\" class=\"dataframe\">\n",
       "  <thead>\n",
       "    <tr style=\"text-align: right;\">\n",
       "      <th></th>\n",
       "      <th>title</th>\n",
       "      <th>description</th>\n",
       "      <th>content</th>\n",
       "      <th>results</th>\n",
       "      <th>source2</th>\n",
       "      <th>hour</th>\n",
       "      <th>day</th>\n",
       "      <th>cont_joined</th>\n",
       "      <th>neg</th>\n",
       "      <th>neu</th>\n",
       "      <th>pos</th>\n",
       "      <th>comp</th>\n",
       "      <th>blob</th>\n",
       "      <th>comp_abs</th>\n",
       "      <th>blob_abs</th>\n",
       "      <th>c_b</th>\n",
       "      <th>Sentiment</th>\n",
       "    </tr>\n",
       "    <tr>\n",
       "      <th>publishedAt</th>\n",
       "      <th></th>\n",
       "      <th></th>\n",
       "      <th></th>\n",
       "      <th></th>\n",
       "      <th></th>\n",
       "      <th></th>\n",
       "      <th></th>\n",
       "      <th></th>\n",
       "      <th></th>\n",
       "      <th></th>\n",
       "      <th></th>\n",
       "      <th></th>\n",
       "      <th></th>\n",
       "      <th></th>\n",
       "      <th></th>\n",
       "      <th></th>\n",
       "      <th></th>\n",
       "    </tr>\n",
       "  </thead>\n",
       "  <tbody>\n",
       "    <tr>\n",
       "      <th>2021-06-14 09:00:00-04:00</th>\n",
       "      <td>Business / Arts Announces Annual Award Recipie...</td>\n",
       "      <td>TORONTO, June 14, 2021 (GLOBE NEWSWIRE) -- Bus...</td>\n",
       "      <td>TORONTO, June 14, 2021 (GLOBE NEWSWIRE) -- Bus...</td>\n",
       "      <td>25.0</td>\n",
       "      <td>GlobeNewswire</td>\n",
       "      <td>9.0</td>\n",
       "      <td>14.0</td>\n",
       "      <td>Business / Arts Announces Annual Award Recipie...</td>\n",
       "      <td>0.000</td>\n",
       "      <td>0.645</td>\n",
       "      <td>0.355</td>\n",
       "      <td>0.9382</td>\n",
       "      <td>0.200000</td>\n",
       "      <td>1</td>\n",
       "      <td>1</td>\n",
       "      <td>0.738200</td>\n",
       "      <td>1</td>\n",
       "    </tr>\n",
       "    <tr>\n",
       "      <th>2021-06-14 09:00:00-04:00</th>\n",
       "      <td>Video Games Don’t Have To Be So Violent, And E...</td>\n",
       "      <td>When the average person approaches an event li...</td>\n",
       "      <td>When the average person approaches an event li...</td>\n",
       "      <td>25.0</td>\n",
       "      <td>UPROXX</td>\n",
       "      <td>9.0</td>\n",
       "      <td>14.0</td>\n",
       "      <td>Video Games Don’t Have To Be So Violent, And E...</td>\n",
       "      <td>0.111</td>\n",
       "      <td>0.813</td>\n",
       "      <td>0.076</td>\n",
       "      <td>-0.4576</td>\n",
       "      <td>-0.180952</td>\n",
       "      <td>-1</td>\n",
       "      <td>-1</td>\n",
       "      <td>-0.276648</td>\n",
       "      <td>-1</td>\n",
       "    </tr>\n",
       "    <tr>\n",
       "      <th>2021-06-14 09:00:00-04:00</th>\n",
       "      <td>Apple TV 4K (2nd Generation)</td>\n",
       "      <td>Apple has broadened its media streaming horizo...</td>\n",
       "      <td>Apple has broadened its media streaming horizo...</td>\n",
       "      <td>25.0</td>\n",
       "      <td>PCMag</td>\n",
       "      <td>9.0</td>\n",
       "      <td>14.0</td>\n",
       "      <td>Apple TV 4K (2nd Generation); Apple has broade...</td>\n",
       "      <td>0.000</td>\n",
       "      <td>1.000</td>\n",
       "      <td>0.000</td>\n",
       "      <td>0.0000</td>\n",
       "      <td>-0.150000</td>\n",
       "      <td>0</td>\n",
       "      <td>-1</td>\n",
       "      <td>0.150000</td>\n",
       "      <td>0</td>\n",
       "    </tr>\n",
       "    <tr>\n",
       "      <th>2021-06-14 09:00:10-04:00</th>\n",
       "      <td>‘Centaurworld’: Netflix Drops First Trailer Fo...</td>\n",
       "      <td>Netflix has dropped the first trailer for anim...</td>\n",
       "      <td>Netflix has dropped the first trailer for anim...</td>\n",
       "      <td>25.0</td>\n",
       "      <td>Deadline</td>\n",
       "      <td>9.0</td>\n",
       "      <td>14.0</td>\n",
       "      <td>‘Centaurworld’: Netflix Drops First Trailer Fo...</td>\n",
       "      <td>0.000</td>\n",
       "      <td>1.000</td>\n",
       "      <td>0.000</td>\n",
       "      <td>0.0000</td>\n",
       "      <td>0.125000</td>\n",
       "      <td>0</td>\n",
       "      <td>0</td>\n",
       "      <td>-0.125000</td>\n",
       "      <td>0</td>\n",
       "    </tr>\n",
       "    <tr>\n",
       "      <th>2021-06-14 09:00:58-04:00</th>\n",
       "      <td>‘Karma’s World’: Ludacris Talks Animated Netfl...</td>\n",
       "      <td>As part of its Kids and Family Sneak Peek at t...</td>\n",
       "      <td>As part of its Kids and Family Sneak Peek at t...</td>\n",
       "      <td>25.0</td>\n",
       "      <td>Deadline</td>\n",
       "      <td>9.0</td>\n",
       "      <td>14.0</td>\n",
       "      <td>‘Karma’s World’: Ludacris Talks Animated Netfl...</td>\n",
       "      <td>0.000</td>\n",
       "      <td>0.840</td>\n",
       "      <td>0.160</td>\n",
       "      <td>0.8126</td>\n",
       "      <td>0.090909</td>\n",
       "      <td>1</td>\n",
       "      <td>0</td>\n",
       "      <td>0.721691</td>\n",
       "      <td>1</td>\n",
       "    </tr>\n",
       "    <tr>\n",
       "      <th>...</th>\n",
       "      <td>...</td>\n",
       "      <td>...</td>\n",
       "      <td>...</td>\n",
       "      <td>...</td>\n",
       "      <td>...</td>\n",
       "      <td>...</td>\n",
       "      <td>...</td>\n",
       "      <td>...</td>\n",
       "      <td>...</td>\n",
       "      <td>...</td>\n",
       "      <td>...</td>\n",
       "      <td>...</td>\n",
       "      <td>...</td>\n",
       "      <td>...</td>\n",
       "      <td>...</td>\n",
       "      <td>...</td>\n",
       "      <td>...</td>\n",
       "    </tr>\n",
       "    <tr>\n",
       "      <th>2021-06-18 15:45:00-04:00</th>\n",
       "      <td>Gundam Hathaway Producer Teases 2nd Film, But ...</td>\n",
       "      <td>Mobile Suit Gundam Hathaway producer Naohiro O...</td>\n",
       "      <td>Mobile Suit Gundam Hathaway producer Naohiro O...</td>\n",
       "      <td>29.0</td>\n",
       "      <td>Anime News Network</td>\n",
       "      <td>15.0</td>\n",
       "      <td>18.0</td>\n",
       "      <td>Gundam Hathaway Producer Teases 2nd Film, But ...</td>\n",
       "      <td>0.078</td>\n",
       "      <td>0.867</td>\n",
       "      <td>0.055</td>\n",
       "      <td>-0.0258</td>\n",
       "      <td>0.002778</td>\n",
       "      <td>0</td>\n",
       "      <td>0</td>\n",
       "      <td>-0.028578</td>\n",
       "      <td>0</td>\n",
       "    </tr>\n",
       "    <tr>\n",
       "      <th>2021-06-18 15:52:00-04:00</th>\n",
       "      <td>Two Golden Globes Voters Resign, Calling Holly...</td>\n",
       "      <td>Two Golden Globes voters resigned in protest o...</td>\n",
       "      <td>Two Golden Globes voters resigned in protest o...</td>\n",
       "      <td>29.0</td>\n",
       "      <td>Jezebel</td>\n",
       "      <td>15.0</td>\n",
       "      <td>18.0</td>\n",
       "      <td>Two Golden Globes Voters Resign, Calling Holly...</td>\n",
       "      <td>0.176</td>\n",
       "      <td>0.824</td>\n",
       "      <td>0.000</td>\n",
       "      <td>-0.7269</td>\n",
       "      <td>0.036508</td>\n",
       "      <td>-1</td>\n",
       "      <td>0</td>\n",
       "      <td>-0.763408</td>\n",
       "      <td>-1</td>\n",
       "    </tr>\n",
       "    <tr>\n",
       "      <th>2021-06-18 15:52:46-04:00</th>\n",
       "      <td>Rurouni Kenshin, the decade’s best live-action...</td>\n",
       "      <td>Rurouni Kenshin is one of the most popular man...</td>\n",
       "      <td>Rurouni Kenshin is one of the most popular man...</td>\n",
       "      <td>29.0</td>\n",
       "      <td>Polygon</td>\n",
       "      <td>15.0</td>\n",
       "      <td>18.0</td>\n",
       "      <td>Rurouni Kenshin, the decade’s best live-action...</td>\n",
       "      <td>0.103</td>\n",
       "      <td>0.767</td>\n",
       "      <td>0.130</td>\n",
       "      <td>0.3597</td>\n",
       "      <td>0.366667</td>\n",
       "      <td>1</td>\n",
       "      <td>1</td>\n",
       "      <td>-0.006967</td>\n",
       "      <td>1</td>\n",
       "    </tr>\n",
       "    <tr>\n",
       "      <th>2021-06-18 15:53:00-04:00</th>\n",
       "      <td>Castlevania Advance Collection Pops Up On Aust...</td>\n",
       "      <td>If an Australian Classification Board rating i...</td>\n",
       "      <td>If an Australian Classification Board rating i...</td>\n",
       "      <td>29.0</td>\n",
       "      <td>GameSpot</td>\n",
       "      <td>15.0</td>\n",
       "      <td>18.0</td>\n",
       "      <td>Castlevania Advance Collection Pops Up On Aust...</td>\n",
       "      <td>0.000</td>\n",
       "      <td>1.000</td>\n",
       "      <td>0.000</td>\n",
       "      <td>0.0000</td>\n",
       "      <td>-0.065909</td>\n",
       "      <td>0</td>\n",
       "      <td>0</td>\n",
       "      <td>0.065909</td>\n",
       "      <td>0</td>\n",
       "    </tr>\n",
       "    <tr>\n",
       "      <th>2021-06-18 15:54:00-04:00</th>\n",
       "      <td>La Borinquena Caribbean Business</td>\n",
       "      <td>Edgardo Miranda-Rodríguez, creator of La Borin...</td>\n",
       "      <td>Edgardo Miranda-Rodríguez, creator of La Borin...</td>\n",
       "      <td>29.0</td>\n",
       "      <td>ComicBook</td>\n",
       "      <td>15.0</td>\n",
       "      <td>18.0</td>\n",
       "      <td>La Borinquena Caribbean Business; Edgardo Mira...</td>\n",
       "      <td>0.000</td>\n",
       "      <td>0.922</td>\n",
       "      <td>0.078</td>\n",
       "      <td>0.4215</td>\n",
       "      <td>0.000000</td>\n",
       "      <td>1</td>\n",
       "      <td>0</td>\n",
       "      <td>0.421500</td>\n",
       "      <td>1</td>\n",
       "    </tr>\n",
       "  </tbody>\n",
       "</table>\n",
       "<p>1034 rows × 17 columns</p>\n",
       "</div>"
      ],
      "text/plain": [
       "                                                                       title  \\\n",
       "publishedAt                                                                    \n",
       "2021-06-14 09:00:00-04:00  Business / Arts Announces Annual Award Recipie...   \n",
       "2021-06-14 09:00:00-04:00  Video Games Don’t Have To Be So Violent, And E...   \n",
       "2021-06-14 09:00:00-04:00                       Apple TV 4K (2nd Generation)   \n",
       "2021-06-14 09:00:10-04:00  ‘Centaurworld’: Netflix Drops First Trailer Fo...   \n",
       "2021-06-14 09:00:58-04:00  ‘Karma’s World’: Ludacris Talks Animated Netfl...   \n",
       "...                                                                      ...   \n",
       "2021-06-18 15:45:00-04:00  Gundam Hathaway Producer Teases 2nd Film, But ...   \n",
       "2021-06-18 15:52:00-04:00  Two Golden Globes Voters Resign, Calling Holly...   \n",
       "2021-06-18 15:52:46-04:00  Rurouni Kenshin, the decade’s best live-action...   \n",
       "2021-06-18 15:53:00-04:00  Castlevania Advance Collection Pops Up On Aust...   \n",
       "2021-06-18 15:54:00-04:00                   La Borinquena Caribbean Business   \n",
       "\n",
       "                                                                 description  \\\n",
       "publishedAt                                                                    \n",
       "2021-06-14 09:00:00-04:00  TORONTO, June 14, 2021 (GLOBE NEWSWIRE) -- Bus...   \n",
       "2021-06-14 09:00:00-04:00  When the average person approaches an event li...   \n",
       "2021-06-14 09:00:00-04:00  Apple has broadened its media streaming horizo...   \n",
       "2021-06-14 09:00:10-04:00  Netflix has dropped the first trailer for anim...   \n",
       "2021-06-14 09:00:58-04:00  As part of its Kids and Family Sneak Peek at t...   \n",
       "...                                                                      ...   \n",
       "2021-06-18 15:45:00-04:00  Mobile Suit Gundam Hathaway producer Naohiro O...   \n",
       "2021-06-18 15:52:00-04:00  Two Golden Globes voters resigned in protest o...   \n",
       "2021-06-18 15:52:46-04:00  Rurouni Kenshin is one of the most popular man...   \n",
       "2021-06-18 15:53:00-04:00  If an Australian Classification Board rating i...   \n",
       "2021-06-18 15:54:00-04:00  Edgardo Miranda-Rodríguez, creator of La Borin...   \n",
       "\n",
       "                                                                     content  \\\n",
       "publishedAt                                                                    \n",
       "2021-06-14 09:00:00-04:00  TORONTO, June 14, 2021 (GLOBE NEWSWIRE) -- Bus...   \n",
       "2021-06-14 09:00:00-04:00  When the average person approaches an event li...   \n",
       "2021-06-14 09:00:00-04:00  Apple has broadened its media streaming horizo...   \n",
       "2021-06-14 09:00:10-04:00  Netflix has dropped the first trailer for anim...   \n",
       "2021-06-14 09:00:58-04:00  As part of its Kids and Family Sneak Peek at t...   \n",
       "...                                                                      ...   \n",
       "2021-06-18 15:45:00-04:00  Mobile Suit Gundam Hathaway producer Naohiro O...   \n",
       "2021-06-18 15:52:00-04:00  Two Golden Globes voters resigned in protest o...   \n",
       "2021-06-18 15:52:46-04:00  Rurouni Kenshin is one of the most popular man...   \n",
       "2021-06-18 15:53:00-04:00  If an Australian Classification Board rating i...   \n",
       "2021-06-18 15:54:00-04:00  Edgardo Miranda-Rodríguez, creator of La Borin...   \n",
       "\n",
       "                           results             source2  hour   day  \\\n",
       "publishedAt                                                          \n",
       "2021-06-14 09:00:00-04:00     25.0       GlobeNewswire   9.0  14.0   \n",
       "2021-06-14 09:00:00-04:00     25.0              UPROXX   9.0  14.0   \n",
       "2021-06-14 09:00:00-04:00     25.0               PCMag   9.0  14.0   \n",
       "2021-06-14 09:00:10-04:00     25.0            Deadline   9.0  14.0   \n",
       "2021-06-14 09:00:58-04:00     25.0            Deadline   9.0  14.0   \n",
       "...                            ...                 ...   ...   ...   \n",
       "2021-06-18 15:45:00-04:00     29.0  Anime News Network  15.0  18.0   \n",
       "2021-06-18 15:52:00-04:00     29.0             Jezebel  15.0  18.0   \n",
       "2021-06-18 15:52:46-04:00     29.0             Polygon  15.0  18.0   \n",
       "2021-06-18 15:53:00-04:00     29.0            GameSpot  15.0  18.0   \n",
       "2021-06-18 15:54:00-04:00     29.0           ComicBook  15.0  18.0   \n",
       "\n",
       "                                                                 cont_joined  \\\n",
       "publishedAt                                                                    \n",
       "2021-06-14 09:00:00-04:00  Business / Arts Announces Annual Award Recipie...   \n",
       "2021-06-14 09:00:00-04:00  Video Games Don’t Have To Be So Violent, And E...   \n",
       "2021-06-14 09:00:00-04:00  Apple TV 4K (2nd Generation); Apple has broade...   \n",
       "2021-06-14 09:00:10-04:00  ‘Centaurworld’: Netflix Drops First Trailer Fo...   \n",
       "2021-06-14 09:00:58-04:00  ‘Karma’s World’: Ludacris Talks Animated Netfl...   \n",
       "...                                                                      ...   \n",
       "2021-06-18 15:45:00-04:00  Gundam Hathaway Producer Teases 2nd Film, But ...   \n",
       "2021-06-18 15:52:00-04:00  Two Golden Globes Voters Resign, Calling Holly...   \n",
       "2021-06-18 15:52:46-04:00  Rurouni Kenshin, the decade’s best live-action...   \n",
       "2021-06-18 15:53:00-04:00  Castlevania Advance Collection Pops Up On Aust...   \n",
       "2021-06-18 15:54:00-04:00  La Borinquena Caribbean Business; Edgardo Mira...   \n",
       "\n",
       "                             neg    neu    pos    comp      blob  comp_abs  \\\n",
       "publishedAt                                                                  \n",
       "2021-06-14 09:00:00-04:00  0.000  0.645  0.355  0.9382  0.200000         1   \n",
       "2021-06-14 09:00:00-04:00  0.111  0.813  0.076 -0.4576 -0.180952        -1   \n",
       "2021-06-14 09:00:00-04:00  0.000  1.000  0.000  0.0000 -0.150000         0   \n",
       "2021-06-14 09:00:10-04:00  0.000  1.000  0.000  0.0000  0.125000         0   \n",
       "2021-06-14 09:00:58-04:00  0.000  0.840  0.160  0.8126  0.090909         1   \n",
       "...                          ...    ...    ...     ...       ...       ...   \n",
       "2021-06-18 15:45:00-04:00  0.078  0.867  0.055 -0.0258  0.002778         0   \n",
       "2021-06-18 15:52:00-04:00  0.176  0.824  0.000 -0.7269  0.036508        -1   \n",
       "2021-06-18 15:52:46-04:00  0.103  0.767  0.130  0.3597  0.366667         1   \n",
       "2021-06-18 15:53:00-04:00  0.000  1.000  0.000  0.0000 -0.065909         0   \n",
       "2021-06-18 15:54:00-04:00  0.000  0.922  0.078  0.4215  0.000000         1   \n",
       "\n",
       "                           blob_abs       c_b  Sentiment  \n",
       "publishedAt                                               \n",
       "2021-06-14 09:00:00-04:00         1  0.738200          1  \n",
       "2021-06-14 09:00:00-04:00        -1 -0.276648         -1  \n",
       "2021-06-14 09:00:00-04:00        -1  0.150000          0  \n",
       "2021-06-14 09:00:10-04:00         0 -0.125000          0  \n",
       "2021-06-14 09:00:58-04:00         0  0.721691          1  \n",
       "...                             ...       ...        ...  \n",
       "2021-06-18 15:45:00-04:00         0 -0.028578          0  \n",
       "2021-06-18 15:52:00-04:00         0 -0.763408         -1  \n",
       "2021-06-18 15:52:46-04:00         1 -0.006967          1  \n",
       "2021-06-18 15:53:00-04:00         0  0.065909          0  \n",
       "2021-06-18 15:54:00-04:00         0  0.421500          1  \n",
       "\n",
       "[1034 rows x 17 columns]"
      ]
     },
     "execution_count": 88,
     "metadata": {},
     "output_type": "execute_result"
    }
   ],
   "source": [
    "set_idx(df_netflix)"
   ]
  },
  {
   "cell_type": "code",
   "execution_count": 89,
   "metadata": {
    "ExecuteTime": {
     "end_time": "2021-07-16T14:55:40.987480Z",
     "start_time": "2021-07-16T14:55:40.978460Z"
    }
   },
   "outputs": [],
   "source": [
    "def resample(df):\n",
    "    df = df.resample('h').mean()\n",
    "    df.dropna(inplace=True)\n",
    "    df=df[~df['hour'].isin([16])].copy()\n",
    "    df['results'] = df['results'].astype('int')\n",
    "    return df"
   ]
  },
  {
   "cell_type": "markdown",
   "metadata": {},
   "source": [
    "# Sentiment Chart"
   ]
  },
  {
   "cell_type": "code",
   "execution_count": 106,
   "metadata": {
    "ExecuteTime": {
     "end_time": "2021-07-16T15:07:01.620888Z",
     "start_time": "2021-07-16T15:07:01.598878Z"
    }
   },
   "outputs": [
    {
     "ename": "SyntaxError",
     "evalue": "positional argument follows keyword argument (<ipython-input-106-1ad27408200e>, line 16)",
     "output_type": "error",
     "traceback": [
      "\u001b[0;36m  File \u001b[0;32m\"<ipython-input-106-1ad27408200e>\"\u001b[0;36m, line \u001b[0;32m16\u001b[0m\n\u001b[0;31m    go.Scatter(mode=\"lines+markers\",opacity=1.0,x=df.index, y=df['Sentiment'], name=\"Sentiment\"),\u001b[0m\n\u001b[0m    ^\u001b[0m\n\u001b[0;31mSyntaxError\u001b[0m\u001b[0;31m:\u001b[0m positional argument follows keyword argument\n"
     ]
    }
   ],
   "source": [
    "def sent_vol_fig(df_, company):\n",
    "\n",
    "    df = resample(df_)\n",
    "    df['roll']=df['Sentiment'].rolling(window=5).mean().dropna()\n",
    "\n",
    "    fig = make_subplots(specs=[[{\"secondary_y\": True}]])\n",
    "\n",
    "    # Add traces\n",
    "    fig.add_trace(\n",
    "      go.Scatter(mode=\"lines+markers\",opacity=1.0,x=df.index, y=df['Sentiment'], name=\"Sentiment\"),\n",
    "      secondary_y=False, hovertemplate=\"<br>\".join([\n",
    "          'publishedAt: True', \n",
    "          'title:True', \n",
    "          'source:True', \n",
    "          'comp:True', \n",
    "          'Sentiment:True'\n",
    "      ]\n",
    "    ))\n",
    "\n",
    "    fig.add_trace(\n",
    "      go.Scatter(mode=\"lines+markers\",opacity=1.0,x=df.index, y=df['roll'], name=\"*Rolling* Sentiment\"),\n",
    "      secondary_y=False,\n",
    "    )\n",
    "\n",
    "    fig.add_trace(\n",
    "      go.Bar(opacity=0.8, x=df.index, y=df['results'], name=\"Volume\"),\n",
    "      secondary_y=True,\n",
    "    )\n",
    "\n",
    "    # Add figure title\n",
    "    fig.update_layout(\n",
    "      title_text=f\"{company} Sentiment Graph\"\n",
    "    )\n",
    "\n",
    "    # Set x-axis title\n",
    "    fig.update_xaxes(title_text=\"Date - Time\")\n",
    "\n",
    "    # Set y-axes titles\n",
    "    \n",
    "    fig.update_yaxes(title_text=\"<b>Sentiment</b>\", secondary_y=False)\n",
    "    if company!='Netflix':\n",
    "        fig.update_yaxes(title_text=\"<b>Volume</b>\", secondary_y=True, range=[40,200])\n",
    "        fig.update_xaxes(rangebreaks=[dict(bounds=[16, 9], pattern=\"hour\")])\n",
    "    else:\n",
    "        fig.update_yaxes(title_text=\"<b>Volume</b>\", secondary_y=True, range=[20,150])\n",
    "        fig.update_xaxes(rangebreaks=[dict(bounds=[16, 9], pattern=\"hour\")])\n",
    "    \n",
    "    fig.update_xaxes(rangeslider_visible=True)\n",
    "    fig.show()"
   ]
  },
  {
   "cell_type": "code",
   "execution_count": 91,
   "metadata": {
    "ExecuteTime": {
     "end_time": "2021-07-16T14:55:45.086620Z",
     "start_time": "2021-07-16T14:55:45.076535Z"
    }
   },
   "outputs": [
    {
     "data": {
      "text/plain": [
       "Index(['title', 'description', 'content', 'results', 'source2', 'hour', 'day',\n",
       "       'cont_joined', 'neg', 'neu', 'pos', 'comp', 'blob', 'comp_abs',\n",
       "       'blob_abs', 'c_b', 'Sentiment'],\n",
       "      dtype='object')"
      ]
     },
     "execution_count": 91,
     "metadata": {},
     "output_type": "execute_result"
    }
   ],
   "source": [
    "df_netflix.columns"
   ]
  },
  {
   "cell_type": "code",
   "execution_count": 102,
   "metadata": {
    "ExecuteTime": {
     "end_time": "2021-07-16T15:01:24.669266Z",
     "start_time": "2021-07-16T15:01:24.620445Z"
    }
   },
   "outputs": [
    {
     "ename": "TypeError",
     "evalue": "add_trace() got an unexpected keyword argument 'hovertemplate'",
     "output_type": "error",
     "traceback": [
      "\u001b[0;31m---------------------------------------------------------------------------\u001b[0m",
      "\u001b[0;31mTypeError\u001b[0m                                 Traceback (most recent call last)",
      "\u001b[0;32m<ipython-input-102-5e34686647d1>\u001b[0m in \u001b[0;36m<module>\u001b[0;34m\u001b[0m\n\u001b[0;32m----> 1\u001b[0;31m \u001b[0msent_vol_fig\u001b[0m\u001b[0;34m(\u001b[0m\u001b[0mdf_netflix\u001b[0m\u001b[0;34m,\u001b[0m\u001b[0;34m'Netflix'\u001b[0m\u001b[0;34m)\u001b[0m\u001b[0;34m\u001b[0m\u001b[0;34m\u001b[0m\u001b[0m\n\u001b[0m",
      "\u001b[0;32m<ipython-input-101-f979281b6f6e>\u001b[0m in \u001b[0;36msent_vol_fig\u001b[0;34m(df_, company)\u001b[0m\n\u001b[1;32m      7\u001b[0m \u001b[0;34m\u001b[0m\u001b[0m\n\u001b[1;32m      8\u001b[0m     \u001b[0;31m# Add traces\u001b[0m\u001b[0;34m\u001b[0m\u001b[0;34m\u001b[0m\u001b[0;34m\u001b[0m\u001b[0m\n\u001b[0;32m----> 9\u001b[0;31m     fig.add_trace(\n\u001b[0m\u001b[1;32m     10\u001b[0m       \u001b[0mgo\u001b[0m\u001b[0;34m.\u001b[0m\u001b[0mScatter\u001b[0m\u001b[0;34m(\u001b[0m\u001b[0mmode\u001b[0m\u001b[0;34m=\u001b[0m\u001b[0;34m\"lines+markers\"\u001b[0m\u001b[0;34m,\u001b[0m\u001b[0mopacity\u001b[0m\u001b[0;34m=\u001b[0m\u001b[0;36m1.0\u001b[0m\u001b[0;34m,\u001b[0m\u001b[0mx\u001b[0m\u001b[0;34m=\u001b[0m\u001b[0mdf\u001b[0m\u001b[0;34m.\u001b[0m\u001b[0mindex\u001b[0m\u001b[0;34m,\u001b[0m \u001b[0my\u001b[0m\u001b[0;34m=\u001b[0m\u001b[0mdf\u001b[0m\u001b[0;34m[\u001b[0m\u001b[0;34m'Sentiment'\u001b[0m\u001b[0;34m]\u001b[0m\u001b[0;34m,\u001b[0m \u001b[0mname\u001b[0m\u001b[0;34m=\u001b[0m\u001b[0;34m\"Sentiment\"\u001b[0m\u001b[0;34m)\u001b[0m\u001b[0;34m,\u001b[0m\u001b[0;34m\u001b[0m\u001b[0;34m\u001b[0m\u001b[0m\n\u001b[1;32m     11\u001b[0m       secondary_y=False, hovertemplate=\"<br>\".join([\n",
      "\u001b[0;31mTypeError\u001b[0m: add_trace() got an unexpected keyword argument 'hovertemplate'"
     ]
    }
   ],
   "source": [
    "sent_vol_fig(df_netflix,'Netflix')"
   ]
  },
  {
   "cell_type": "markdown",
   "metadata": {},
   "source": [
    "# Pie Graph"
   ]
  },
  {
   "cell_type": "code",
   "execution_count": 9,
   "metadata": {
    "ExecuteTime": {
     "end_time": "2021-07-16T14:47:49.928217Z",
     "start_time": "2021-07-16T14:47:49.926895Z"
    }
   },
   "outputs": [],
   "source": [
    "# grouped = df_netflix.groupby(by=['day', 'hour'])['Sentiment'].value_counts()\n",
    "# grouped = grouped.to_frame()\n",
    "# grouped"
   ]
  },
  {
   "cell_type": "code",
   "execution_count": 10,
   "metadata": {
    "ExecuteTime": {
     "end_time": "2021-07-16T14:47:49.930292Z",
     "start_time": "2021-07-16T14:47:49.929036Z"
    }
   },
   "outputs": [],
   "source": [
    "# dummies = pd.get_dummies(df_netflix['Sentiment'])"
   ]
  },
  {
   "cell_type": "code",
   "execution_count": 11,
   "metadata": {
    "ExecuteTime": {
     "end_time": "2021-07-16T14:47:49.932398Z",
     "start_time": "2021-07-16T14:47:49.931132Z"
    }
   },
   "outputs": [],
   "source": [
    "# df_netflix.merge(dummies, how='left', left_on='publishedAt', right_on='publishedAt')"
   ]
  },
  {
   "cell_type": "code",
   "execution_count": 12,
   "metadata": {
    "ExecuteTime": {
     "end_time": "2021-07-16T14:47:49.934336Z",
     "start_time": "2021-07-16T14:47:49.933129Z"
    }
   },
   "outputs": [],
   "source": [
    "# df_netflix=df_netflix.reset_index()\n",
    "# dummies= dummies.reset_index()"
   ]
  },
  {
   "cell_type": "code",
   "execution_count": 13,
   "metadata": {
    "ExecuteTime": {
     "end_time": "2021-07-16T14:47:49.936566Z",
     "start_time": "2021-07-16T14:47:49.935202Z"
    }
   },
   "outputs": [],
   "source": [
    "# df_netflix.head(3)"
   ]
  },
  {
   "cell_type": "code",
   "execution_count": 14,
   "metadata": {
    "ExecuteTime": {
     "end_time": "2021-07-16T14:47:49.938819Z",
     "start_time": "2021-07-16T14:47:49.937528Z"
    }
   },
   "outputs": [],
   "source": [
    "# dummies.head(3)"
   ]
  },
  {
   "cell_type": "code",
   "execution_count": 15,
   "metadata": {
    "ExecuteTime": {
     "end_time": "2021-07-16T14:47:49.941167Z",
     "start_time": "2021-07-16T14:47:49.939608Z"
    }
   },
   "outputs": [],
   "source": [
    "# netflix_dummies = pd.concat([df_netflix, dummies], axis=1)"
   ]
  },
  {
   "cell_type": "code",
   "execution_count": 16,
   "metadata": {
    "ExecuteTime": {
     "end_time": "2021-07-16T14:47:49.943055Z",
     "start_time": "2021-07-16T14:47:49.941895Z"
    }
   },
   "outputs": [],
   "source": [
    "# netflix_dummies.head()"
   ]
  },
  {
   "cell_type": "code",
   "execution_count": 17,
   "metadata": {
    "ExecuteTime": {
     "end_time": "2021-07-16T14:47:49.944971Z",
     "start_time": "2021-07-16T14:47:49.943767Z"
    }
   },
   "outputs": [],
   "source": [
    "# netflix_dummies.groupby(by=['day', 'hour']).sum()"
   ]
  },
  {
   "cell_type": "code",
   "execution_count": 18,
   "metadata": {
    "ExecuteTime": {
     "end_time": "2021-07-16T14:47:49.946853Z",
     "start_time": "2021-07-16T14:47:49.945678Z"
    }
   },
   "outputs": [],
   "source": [
    "# test = netflix_dummies[(netflix_dummies['day']==14) & (netflix_dummies['hour']==14)]"
   ]
  },
  {
   "cell_type": "code",
   "execution_count": 19,
   "metadata": {
    "ExecuteTime": {
     "end_time": "2021-07-16T14:47:49.948775Z",
     "start_time": "2021-07-16T14:47:49.947610Z"
    }
   },
   "outputs": [],
   "source": [
    "# test.iloc[:,-3:].sum()"
   ]
  },
  {
   "cell_type": "code",
   "execution_count": 20,
   "metadata": {
    "ExecuteTime": {
     "end_time": "2021-07-16T14:47:49.950679Z",
     "start_time": "2021-07-16T14:47:49.949536Z"
    }
   },
   "outputs": [],
   "source": [
    "# test['Sentiment']=test['Sentiment'].map({-1:'Neg',\n",
    "#                        0: 'Neu',\n",
    "#                        1: 'Pos'}).copy()"
   ]
  },
  {
   "cell_type": "code",
   "execution_count": 21,
   "metadata": {
    "ExecuteTime": {
     "end_time": "2021-07-16T14:47:49.954855Z",
     "start_time": "2021-07-16T14:47:49.951446Z"
    }
   },
   "outputs": [
    {
     "data": {
      "text/plain": [
       "array([551, 286, 197])"
      ]
     },
     "execution_count": 21,
     "metadata": {},
     "output_type": "execute_result"
    }
   ],
   "source": [
    "df_netflix['Sentiment'].value_counts().values"
   ]
  },
  {
   "cell_type": "code",
   "execution_count": 22,
   "metadata": {
    "ExecuteTime": {
     "end_time": "2021-07-16T14:47:49.963337Z",
     "start_time": "2021-07-16T14:47:49.958760Z"
    }
   },
   "outputs": [],
   "source": [
    "df = px.data.tips()"
   ]
  },
  {
   "cell_type": "code",
   "execution_count": 23,
   "metadata": {
    "ExecuteTime": {
     "end_time": "2021-07-16T14:47:49.974179Z",
     "start_time": "2021-07-16T14:47:49.965878Z"
    }
   },
   "outputs": [
    {
     "data": {
      "text/html": [
       "<div>\n",
       "<style scoped>\n",
       "    .dataframe tbody tr th:only-of-type {\n",
       "        vertical-align: middle;\n",
       "    }\n",
       "\n",
       "    .dataframe tbody tr th {\n",
       "        vertical-align: top;\n",
       "    }\n",
       "\n",
       "    .dataframe thead th {\n",
       "        text-align: right;\n",
       "    }\n",
       "</style>\n",
       "<table border=\"1\" class=\"dataframe\">\n",
       "  <thead>\n",
       "    <tr style=\"text-align: right;\">\n",
       "      <th></th>\n",
       "      <th>total_bill</th>\n",
       "      <th>tip</th>\n",
       "      <th>sex</th>\n",
       "      <th>smoker</th>\n",
       "      <th>day</th>\n",
       "      <th>time</th>\n",
       "      <th>size</th>\n",
       "    </tr>\n",
       "  </thead>\n",
       "  <tbody>\n",
       "    <tr>\n",
       "      <th>0</th>\n",
       "      <td>16.99</td>\n",
       "      <td>1.01</td>\n",
       "      <td>Female</td>\n",
       "      <td>No</td>\n",
       "      <td>Sun</td>\n",
       "      <td>Dinner</td>\n",
       "      <td>2</td>\n",
       "    </tr>\n",
       "    <tr>\n",
       "      <th>1</th>\n",
       "      <td>10.34</td>\n",
       "      <td>1.66</td>\n",
       "      <td>Male</td>\n",
       "      <td>No</td>\n",
       "      <td>Sun</td>\n",
       "      <td>Dinner</td>\n",
       "      <td>3</td>\n",
       "    </tr>\n",
       "    <tr>\n",
       "      <th>2</th>\n",
       "      <td>21.01</td>\n",
       "      <td>3.50</td>\n",
       "      <td>Male</td>\n",
       "      <td>No</td>\n",
       "      <td>Sun</td>\n",
       "      <td>Dinner</td>\n",
       "      <td>3</td>\n",
       "    </tr>\n",
       "    <tr>\n",
       "      <th>3</th>\n",
       "      <td>23.68</td>\n",
       "      <td>3.31</td>\n",
       "      <td>Male</td>\n",
       "      <td>No</td>\n",
       "      <td>Sun</td>\n",
       "      <td>Dinner</td>\n",
       "      <td>2</td>\n",
       "    </tr>\n",
       "    <tr>\n",
       "      <th>4</th>\n",
       "      <td>24.59</td>\n",
       "      <td>3.61</td>\n",
       "      <td>Female</td>\n",
       "      <td>No</td>\n",
       "      <td>Sun</td>\n",
       "      <td>Dinner</td>\n",
       "      <td>4</td>\n",
       "    </tr>\n",
       "    <tr>\n",
       "      <th>...</th>\n",
       "      <td>...</td>\n",
       "      <td>...</td>\n",
       "      <td>...</td>\n",
       "      <td>...</td>\n",
       "      <td>...</td>\n",
       "      <td>...</td>\n",
       "      <td>...</td>\n",
       "    </tr>\n",
       "    <tr>\n",
       "      <th>239</th>\n",
       "      <td>29.03</td>\n",
       "      <td>5.92</td>\n",
       "      <td>Male</td>\n",
       "      <td>No</td>\n",
       "      <td>Sat</td>\n",
       "      <td>Dinner</td>\n",
       "      <td>3</td>\n",
       "    </tr>\n",
       "    <tr>\n",
       "      <th>240</th>\n",
       "      <td>27.18</td>\n",
       "      <td>2.00</td>\n",
       "      <td>Female</td>\n",
       "      <td>Yes</td>\n",
       "      <td>Sat</td>\n",
       "      <td>Dinner</td>\n",
       "      <td>2</td>\n",
       "    </tr>\n",
       "    <tr>\n",
       "      <th>241</th>\n",
       "      <td>22.67</td>\n",
       "      <td>2.00</td>\n",
       "      <td>Male</td>\n",
       "      <td>Yes</td>\n",
       "      <td>Sat</td>\n",
       "      <td>Dinner</td>\n",
       "      <td>2</td>\n",
       "    </tr>\n",
       "    <tr>\n",
       "      <th>242</th>\n",
       "      <td>17.82</td>\n",
       "      <td>1.75</td>\n",
       "      <td>Male</td>\n",
       "      <td>No</td>\n",
       "      <td>Sat</td>\n",
       "      <td>Dinner</td>\n",
       "      <td>2</td>\n",
       "    </tr>\n",
       "    <tr>\n",
       "      <th>243</th>\n",
       "      <td>18.78</td>\n",
       "      <td>3.00</td>\n",
       "      <td>Female</td>\n",
       "      <td>No</td>\n",
       "      <td>Thur</td>\n",
       "      <td>Dinner</td>\n",
       "      <td>2</td>\n",
       "    </tr>\n",
       "  </tbody>\n",
       "</table>\n",
       "<p>244 rows × 7 columns</p>\n",
       "</div>"
      ],
      "text/plain": [
       "     total_bill   tip     sex smoker   day    time  size\n",
       "0         16.99  1.01  Female     No   Sun  Dinner     2\n",
       "1         10.34  1.66    Male     No   Sun  Dinner     3\n",
       "2         21.01  3.50    Male     No   Sun  Dinner     3\n",
       "3         23.68  3.31    Male     No   Sun  Dinner     2\n",
       "4         24.59  3.61  Female     No   Sun  Dinner     4\n",
       "..          ...   ...     ...    ...   ...     ...   ...\n",
       "239       29.03  5.92    Male     No   Sat  Dinner     3\n",
       "240       27.18  2.00  Female    Yes   Sat  Dinner     2\n",
       "241       22.67  2.00    Male    Yes   Sat  Dinner     2\n",
       "242       17.82  1.75    Male     No   Sat  Dinner     2\n",
       "243       18.78  3.00  Female     No  Thur  Dinner     2\n",
       "\n",
       "[244 rows x 7 columns]"
      ]
     },
     "execution_count": 23,
     "metadata": {},
     "output_type": "execute_result"
    }
   ],
   "source": [
    "df"
   ]
  },
  {
   "cell_type": "code",
   "execution_count": 24,
   "metadata": {
    "ExecuteTime": {
     "end_time": "2021-07-16T14:47:50.280067Z",
     "start_time": "2021-07-16T14:47:49.975027Z"
    }
   },
   "outputs": [
    {
     "data": {
      "application/vnd.plotly.v1+json": {
       "config": {
        "plotlyServerURL": "https://plot.ly"
       },
       "data": [
        {
         "domain": {
          "x": [
           0,
           1
          ],
          "y": [
           0,
           1
          ]
         },
         "hovertemplate": "day=%{label}<br>tip=%{value}<extra></extra>",
         "labels": [
          "Sun",
          "Sun",
          "Sun",
          "Sun",
          "Sun",
          "Sun",
          "Sun",
          "Sun",
          "Sun",
          "Sun",
          "Sun",
          "Sun",
          "Sun",
          "Sun",
          "Sun",
          "Sun",
          "Sun",
          "Sun",
          "Sun",
          "Sat",
          "Sat",
          "Sat",
          "Sat",
          "Sat",
          "Sat",
          "Sat",
          "Sat",
          "Sat",
          "Sat",
          "Sat",
          "Sat",
          "Sat",
          "Sat",
          "Sat",
          "Sat",
          "Sat",
          "Sat",
          "Sat",
          "Sat",
          "Sat",
          "Sat",
          "Sun",
          "Sun",
          "Sun",
          "Sun",
          "Sun",
          "Sun",
          "Sun",
          "Sun",
          "Sun",
          "Sun",
          "Sun",
          "Sun",
          "Sun",
          "Sun",
          "Sun",
          "Sat",
          "Sat",
          "Sat",
          "Sat",
          "Sat",
          "Sat",
          "Sat",
          "Sat",
          "Sat",
          "Sat",
          "Sat",
          "Sat",
          "Sat",
          "Sat",
          "Sat",
          "Sat",
          "Sat",
          "Sat",
          "Sat",
          "Sat",
          "Sat",
          "Thur",
          "Thur",
          "Thur",
          "Thur",
          "Thur",
          "Thur",
          "Thur",
          "Thur",
          "Thur",
          "Thur",
          "Thur",
          "Thur",
          "Thur",
          "Fri",
          "Fri",
          "Fri",
          "Fri",
          "Fri",
          "Fri",
          "Fri",
          "Fri",
          "Fri",
          "Fri",
          "Fri",
          "Fri",
          "Sat",
          "Sat",
          "Sat",
          "Sat",
          "Sat",
          "Sat",
          "Sat",
          "Sat",
          "Sat",
          "Sat",
          "Sun",
          "Sun",
          "Sun",
          "Sun",
          "Sun",
          "Thur",
          "Thur",
          "Thur",
          "Thur",
          "Thur",
          "Thur",
          "Thur",
          "Thur",
          "Thur",
          "Thur",
          "Thur",
          "Thur",
          "Thur",
          "Thur",
          "Thur",
          "Thur",
          "Thur",
          "Thur",
          "Thur",
          "Thur",
          "Thur",
          "Thur",
          "Thur",
          "Thur",
          "Thur",
          "Thur",
          "Thur",
          "Thur",
          "Thur",
          "Thur",
          "Thur",
          "Thur",
          "Thur",
          "Sun",
          "Sun",
          "Sun",
          "Sun",
          "Sun",
          "Sun",
          "Sun",
          "Sun",
          "Sun",
          "Sun",
          "Sun",
          "Sun",
          "Sun",
          "Sun",
          "Sun",
          "Sun",
          "Sun",
          "Sun",
          "Sat",
          "Sat",
          "Sat",
          "Sat",
          "Sun",
          "Sun",
          "Sun",
          "Sun",
          "Sun",
          "Sun",
          "Sun",
          "Sun",
          "Sun",
          "Sun",
          "Sun",
          "Sun",
          "Sun",
          "Sun",
          "Sun",
          "Sun",
          "Sun",
          "Sun",
          "Sun",
          "Thur",
          "Thur",
          "Thur",
          "Thur",
          "Thur",
          "Thur",
          "Thur",
          "Thur",
          "Thur",
          "Thur",
          "Thur",
          "Thur",
          "Thur",
          "Thur",
          "Thur",
          "Sat",
          "Sat",
          "Sat",
          "Sat",
          "Sat",
          "Sat",
          "Sat",
          "Sat",
          "Sat",
          "Sat",
          "Sat",
          "Sat",
          "Sat",
          "Sat",
          "Fri",
          "Fri",
          "Fri",
          "Fri",
          "Fri",
          "Fri",
          "Fri",
          "Sat",
          "Sat",
          "Sat",
          "Sat",
          "Sat",
          "Sat",
          "Sat",
          "Sat",
          "Sat",
          "Sat",
          "Sat",
          "Sat",
          "Sat",
          "Sat",
          "Sat",
          "Sat",
          "Thur"
         ],
         "legendgroup": "",
         "name": "",
         "showlegend": true,
         "type": "pie",
         "values": [
          1.01,
          1.66,
          3.5,
          3.31,
          3.61,
          4.71,
          2,
          3.12,
          1.96,
          3.23,
          1.71,
          5,
          1.57,
          3,
          3.02,
          3.92,
          1.67,
          3.71,
          3.5,
          3.35,
          4.08,
          2.75,
          2.23,
          7.58,
          3.18,
          2.34,
          2,
          2,
          4.3,
          3,
          1.45,
          2.5,
          3,
          2.45,
          3.27,
          3.6,
          2,
          3.07,
          2.31,
          5,
          2.24,
          2.54,
          3.06,
          1.32,
          5.6,
          3,
          5,
          6,
          2.05,
          3,
          2.5,
          2.6,
          5.2,
          1.56,
          4.34,
          3.51,
          3,
          1.5,
          1.76,
          6.73,
          3.21,
          2,
          1.98,
          3.76,
          2.64,
          3.15,
          2.47,
          1,
          2.01,
          2.09,
          1.97,
          3,
          3.14,
          5,
          2.2,
          1.25,
          3.08,
          4,
          3,
          2.71,
          3,
          3.4,
          1.83,
          5,
          2.03,
          5.17,
          2,
          4,
          5.85,
          3,
          3,
          3.5,
          1,
          4.3,
          3.25,
          4.73,
          4,
          1.5,
          3,
          1.5,
          2.5,
          3,
          2.5,
          3.48,
          4.08,
          1.64,
          4.06,
          4.29,
          3.76,
          4,
          3,
          1,
          4,
          2.55,
          4,
          3.5,
          5.07,
          1.5,
          1.8,
          2.92,
          2.31,
          1.68,
          2.5,
          2,
          2.52,
          4.2,
          1.48,
          2,
          2,
          2.18,
          1.5,
          2.83,
          1.5,
          2,
          3.25,
          1.25,
          2,
          2,
          2,
          2.75,
          3.5,
          6.7,
          5,
          5,
          2.3,
          1.5,
          1.36,
          1.63,
          1.73,
          2,
          2.5,
          2,
          2.74,
          2,
          2,
          5.14,
          5,
          3.75,
          2.61,
          2,
          3.5,
          2.5,
          2,
          2,
          3,
          3.48,
          2.24,
          4.5,
          1.61,
          2,
          10,
          3.16,
          5.15,
          3.18,
          4,
          3.11,
          2,
          2,
          4,
          3.55,
          3.68,
          5.65,
          3.5,
          6.5,
          3,
          5,
          3.5,
          2,
          3.5,
          4,
          1.5,
          4.19,
          2.56,
          2.02,
          4,
          1.44,
          2,
          5,
          2,
          2,
          4,
          2.01,
          2,
          2.5,
          4,
          3.23,
          3.41,
          3,
          2.03,
          2.23,
          2,
          5.16,
          9,
          2.5,
          6.5,
          1.1,
          3,
          1.5,
          1.44,
          3.09,
          2.2,
          3.48,
          1.92,
          3,
          1.58,
          2.5,
          2,
          3,
          2.72,
          2.88,
          2,
          3,
          3.39,
          1.47,
          3,
          1.25,
          1,
          1.17,
          4.67,
          5.92,
          2,
          2,
          1.75,
          3
         ]
        }
       ],
       "layout": {
        "legend": {
         "tracegroupgap": 0
        },
        "margin": {
         "t": 60
        },
        "template": {
         "data": {
          "bar": [
           {
            "error_x": {
             "color": "#2a3f5f"
            },
            "error_y": {
             "color": "#2a3f5f"
            },
            "marker": {
             "line": {
              "color": "#E5ECF6",
              "width": 0.5
             }
            },
            "type": "bar"
           }
          ],
          "barpolar": [
           {
            "marker": {
             "line": {
              "color": "#E5ECF6",
              "width": 0.5
             }
            },
            "type": "barpolar"
           }
          ],
          "carpet": [
           {
            "aaxis": {
             "endlinecolor": "#2a3f5f",
             "gridcolor": "white",
             "linecolor": "white",
             "minorgridcolor": "white",
             "startlinecolor": "#2a3f5f"
            },
            "baxis": {
             "endlinecolor": "#2a3f5f",
             "gridcolor": "white",
             "linecolor": "white",
             "minorgridcolor": "white",
             "startlinecolor": "#2a3f5f"
            },
            "type": "carpet"
           }
          ],
          "choropleth": [
           {
            "colorbar": {
             "outlinewidth": 0,
             "ticks": ""
            },
            "type": "choropleth"
           }
          ],
          "contour": [
           {
            "colorbar": {
             "outlinewidth": 0,
             "ticks": ""
            },
            "colorscale": [
             [
              0,
              "#0d0887"
             ],
             [
              0.1111111111111111,
              "#46039f"
             ],
             [
              0.2222222222222222,
              "#7201a8"
             ],
             [
              0.3333333333333333,
              "#9c179e"
             ],
             [
              0.4444444444444444,
              "#bd3786"
             ],
             [
              0.5555555555555556,
              "#d8576b"
             ],
             [
              0.6666666666666666,
              "#ed7953"
             ],
             [
              0.7777777777777778,
              "#fb9f3a"
             ],
             [
              0.8888888888888888,
              "#fdca26"
             ],
             [
              1,
              "#f0f921"
             ]
            ],
            "type": "contour"
           }
          ],
          "contourcarpet": [
           {
            "colorbar": {
             "outlinewidth": 0,
             "ticks": ""
            },
            "type": "contourcarpet"
           }
          ],
          "heatmap": [
           {
            "colorbar": {
             "outlinewidth": 0,
             "ticks": ""
            },
            "colorscale": [
             [
              0,
              "#0d0887"
             ],
             [
              0.1111111111111111,
              "#46039f"
             ],
             [
              0.2222222222222222,
              "#7201a8"
             ],
             [
              0.3333333333333333,
              "#9c179e"
             ],
             [
              0.4444444444444444,
              "#bd3786"
             ],
             [
              0.5555555555555556,
              "#d8576b"
             ],
             [
              0.6666666666666666,
              "#ed7953"
             ],
             [
              0.7777777777777778,
              "#fb9f3a"
             ],
             [
              0.8888888888888888,
              "#fdca26"
             ],
             [
              1,
              "#f0f921"
             ]
            ],
            "type": "heatmap"
           }
          ],
          "heatmapgl": [
           {
            "colorbar": {
             "outlinewidth": 0,
             "ticks": ""
            },
            "colorscale": [
             [
              0,
              "#0d0887"
             ],
             [
              0.1111111111111111,
              "#46039f"
             ],
             [
              0.2222222222222222,
              "#7201a8"
             ],
             [
              0.3333333333333333,
              "#9c179e"
             ],
             [
              0.4444444444444444,
              "#bd3786"
             ],
             [
              0.5555555555555556,
              "#d8576b"
             ],
             [
              0.6666666666666666,
              "#ed7953"
             ],
             [
              0.7777777777777778,
              "#fb9f3a"
             ],
             [
              0.8888888888888888,
              "#fdca26"
             ],
             [
              1,
              "#f0f921"
             ]
            ],
            "type": "heatmapgl"
           }
          ],
          "histogram": [
           {
            "marker": {
             "colorbar": {
              "outlinewidth": 0,
              "ticks": ""
             }
            },
            "type": "histogram"
           }
          ],
          "histogram2d": [
           {
            "colorbar": {
             "outlinewidth": 0,
             "ticks": ""
            },
            "colorscale": [
             [
              0,
              "#0d0887"
             ],
             [
              0.1111111111111111,
              "#46039f"
             ],
             [
              0.2222222222222222,
              "#7201a8"
             ],
             [
              0.3333333333333333,
              "#9c179e"
             ],
             [
              0.4444444444444444,
              "#bd3786"
             ],
             [
              0.5555555555555556,
              "#d8576b"
             ],
             [
              0.6666666666666666,
              "#ed7953"
             ],
             [
              0.7777777777777778,
              "#fb9f3a"
             ],
             [
              0.8888888888888888,
              "#fdca26"
             ],
             [
              1,
              "#f0f921"
             ]
            ],
            "type": "histogram2d"
           }
          ],
          "histogram2dcontour": [
           {
            "colorbar": {
             "outlinewidth": 0,
             "ticks": ""
            },
            "colorscale": [
             [
              0,
              "#0d0887"
             ],
             [
              0.1111111111111111,
              "#46039f"
             ],
             [
              0.2222222222222222,
              "#7201a8"
             ],
             [
              0.3333333333333333,
              "#9c179e"
             ],
             [
              0.4444444444444444,
              "#bd3786"
             ],
             [
              0.5555555555555556,
              "#d8576b"
             ],
             [
              0.6666666666666666,
              "#ed7953"
             ],
             [
              0.7777777777777778,
              "#fb9f3a"
             ],
             [
              0.8888888888888888,
              "#fdca26"
             ],
             [
              1,
              "#f0f921"
             ]
            ],
            "type": "histogram2dcontour"
           }
          ],
          "mesh3d": [
           {
            "colorbar": {
             "outlinewidth": 0,
             "ticks": ""
            },
            "type": "mesh3d"
           }
          ],
          "parcoords": [
           {
            "line": {
             "colorbar": {
              "outlinewidth": 0,
              "ticks": ""
             }
            },
            "type": "parcoords"
           }
          ],
          "pie": [
           {
            "automargin": true,
            "type": "pie"
           }
          ],
          "scatter": [
           {
            "marker": {
             "colorbar": {
              "outlinewidth": 0,
              "ticks": ""
             }
            },
            "type": "scatter"
           }
          ],
          "scatter3d": [
           {
            "line": {
             "colorbar": {
              "outlinewidth": 0,
              "ticks": ""
             }
            },
            "marker": {
             "colorbar": {
              "outlinewidth": 0,
              "ticks": ""
             }
            },
            "type": "scatter3d"
           }
          ],
          "scattercarpet": [
           {
            "marker": {
             "colorbar": {
              "outlinewidth": 0,
              "ticks": ""
             }
            },
            "type": "scattercarpet"
           }
          ],
          "scattergeo": [
           {
            "marker": {
             "colorbar": {
              "outlinewidth": 0,
              "ticks": ""
             }
            },
            "type": "scattergeo"
           }
          ],
          "scattergl": [
           {
            "marker": {
             "colorbar": {
              "outlinewidth": 0,
              "ticks": ""
             }
            },
            "type": "scattergl"
           }
          ],
          "scattermapbox": [
           {
            "marker": {
             "colorbar": {
              "outlinewidth": 0,
              "ticks": ""
             }
            },
            "type": "scattermapbox"
           }
          ],
          "scatterpolar": [
           {
            "marker": {
             "colorbar": {
              "outlinewidth": 0,
              "ticks": ""
             }
            },
            "type": "scatterpolar"
           }
          ],
          "scatterpolargl": [
           {
            "marker": {
             "colorbar": {
              "outlinewidth": 0,
              "ticks": ""
             }
            },
            "type": "scatterpolargl"
           }
          ],
          "scatterternary": [
           {
            "marker": {
             "colorbar": {
              "outlinewidth": 0,
              "ticks": ""
             }
            },
            "type": "scatterternary"
           }
          ],
          "surface": [
           {
            "colorbar": {
             "outlinewidth": 0,
             "ticks": ""
            },
            "colorscale": [
             [
              0,
              "#0d0887"
             ],
             [
              0.1111111111111111,
              "#46039f"
             ],
             [
              0.2222222222222222,
              "#7201a8"
             ],
             [
              0.3333333333333333,
              "#9c179e"
             ],
             [
              0.4444444444444444,
              "#bd3786"
             ],
             [
              0.5555555555555556,
              "#d8576b"
             ],
             [
              0.6666666666666666,
              "#ed7953"
             ],
             [
              0.7777777777777778,
              "#fb9f3a"
             ],
             [
              0.8888888888888888,
              "#fdca26"
             ],
             [
              1,
              "#f0f921"
             ]
            ],
            "type": "surface"
           }
          ],
          "table": [
           {
            "cells": {
             "fill": {
              "color": "#EBF0F8"
             },
             "line": {
              "color": "white"
             }
            },
            "header": {
             "fill": {
              "color": "#C8D4E3"
             },
             "line": {
              "color": "white"
             }
            },
            "type": "table"
           }
          ]
         },
         "layout": {
          "annotationdefaults": {
           "arrowcolor": "#2a3f5f",
           "arrowhead": 0,
           "arrowwidth": 1
          },
          "coloraxis": {
           "colorbar": {
            "outlinewidth": 0,
            "ticks": ""
           }
          },
          "colorscale": {
           "diverging": [
            [
             0,
             "#8e0152"
            ],
            [
             0.1,
             "#c51b7d"
            ],
            [
             0.2,
             "#de77ae"
            ],
            [
             0.3,
             "#f1b6da"
            ],
            [
             0.4,
             "#fde0ef"
            ],
            [
             0.5,
             "#f7f7f7"
            ],
            [
             0.6,
             "#e6f5d0"
            ],
            [
             0.7,
             "#b8e186"
            ],
            [
             0.8,
             "#7fbc41"
            ],
            [
             0.9,
             "#4d9221"
            ],
            [
             1,
             "#276419"
            ]
           ],
           "sequential": [
            [
             0,
             "#0d0887"
            ],
            [
             0.1111111111111111,
             "#46039f"
            ],
            [
             0.2222222222222222,
             "#7201a8"
            ],
            [
             0.3333333333333333,
             "#9c179e"
            ],
            [
             0.4444444444444444,
             "#bd3786"
            ],
            [
             0.5555555555555556,
             "#d8576b"
            ],
            [
             0.6666666666666666,
             "#ed7953"
            ],
            [
             0.7777777777777778,
             "#fb9f3a"
            ],
            [
             0.8888888888888888,
             "#fdca26"
            ],
            [
             1,
             "#f0f921"
            ]
           ],
           "sequentialminus": [
            [
             0,
             "#0d0887"
            ],
            [
             0.1111111111111111,
             "#46039f"
            ],
            [
             0.2222222222222222,
             "#7201a8"
            ],
            [
             0.3333333333333333,
             "#9c179e"
            ],
            [
             0.4444444444444444,
             "#bd3786"
            ],
            [
             0.5555555555555556,
             "#d8576b"
            ],
            [
             0.6666666666666666,
             "#ed7953"
            ],
            [
             0.7777777777777778,
             "#fb9f3a"
            ],
            [
             0.8888888888888888,
             "#fdca26"
            ],
            [
             1,
             "#f0f921"
            ]
           ]
          },
          "colorway": [
           "#636efa",
           "#EF553B",
           "#00cc96",
           "#ab63fa",
           "#FFA15A",
           "#19d3f3",
           "#FF6692",
           "#B6E880",
           "#FF97FF",
           "#FECB52"
          ],
          "font": {
           "color": "#2a3f5f"
          },
          "geo": {
           "bgcolor": "white",
           "lakecolor": "white",
           "landcolor": "#E5ECF6",
           "showlakes": true,
           "showland": true,
           "subunitcolor": "white"
          },
          "hoverlabel": {
           "align": "left"
          },
          "hovermode": "closest",
          "mapbox": {
           "style": "light"
          },
          "paper_bgcolor": "white",
          "plot_bgcolor": "#E5ECF6",
          "polar": {
           "angularaxis": {
            "gridcolor": "white",
            "linecolor": "white",
            "ticks": ""
           },
           "bgcolor": "#E5ECF6",
           "radialaxis": {
            "gridcolor": "white",
            "linecolor": "white",
            "ticks": ""
           }
          },
          "scene": {
           "xaxis": {
            "backgroundcolor": "#E5ECF6",
            "gridcolor": "white",
            "gridwidth": 2,
            "linecolor": "white",
            "showbackground": true,
            "ticks": "",
            "zerolinecolor": "white"
           },
           "yaxis": {
            "backgroundcolor": "#E5ECF6",
            "gridcolor": "white",
            "gridwidth": 2,
            "linecolor": "white",
            "showbackground": true,
            "ticks": "",
            "zerolinecolor": "white"
           },
           "zaxis": {
            "backgroundcolor": "#E5ECF6",
            "gridcolor": "white",
            "gridwidth": 2,
            "linecolor": "white",
            "showbackground": true,
            "ticks": "",
            "zerolinecolor": "white"
           }
          },
          "shapedefaults": {
           "line": {
            "color": "#2a3f5f"
           }
          },
          "ternary": {
           "aaxis": {
            "gridcolor": "white",
            "linecolor": "white",
            "ticks": ""
           },
           "baxis": {
            "gridcolor": "white",
            "linecolor": "white",
            "ticks": ""
           },
           "bgcolor": "#E5ECF6",
           "caxis": {
            "gridcolor": "white",
            "linecolor": "white",
            "ticks": ""
           }
          },
          "title": {
           "x": 0.05
          },
          "xaxis": {
           "automargin": true,
           "gridcolor": "white",
           "linecolor": "white",
           "ticks": "",
           "title": {
            "standoff": 15
           },
           "zerolinecolor": "white",
           "zerolinewidth": 2
          },
          "yaxis": {
           "automargin": true,
           "gridcolor": "white",
           "linecolor": "white",
           "ticks": "",
           "title": {
            "standoff": 15
           },
           "zerolinecolor": "white",
           "zerolinewidth": 2
          }
         }
        }
       }
      },
      "text/html": [
       "<div>                            <div id=\"7fd7decd-172c-4a3f-b3eb-1f4029e4bad1\" class=\"plotly-graph-div\" style=\"height:525px; width:100%;\"></div>            <script type=\"text/javascript\">                require([\"plotly\"], function(Plotly) {                    window.PLOTLYENV=window.PLOTLYENV || {};                                    if (document.getElementById(\"7fd7decd-172c-4a3f-b3eb-1f4029e4bad1\")) {                    Plotly.newPlot(                        \"7fd7decd-172c-4a3f-b3eb-1f4029e4bad1\",                        [{\"domain\": {\"x\": [0.0, 1.0], \"y\": [0.0, 1.0]}, \"hovertemplate\": \"day=%{label}<br>tip=%{value}<extra></extra>\", \"labels\": [\"Sun\", \"Sun\", \"Sun\", \"Sun\", \"Sun\", \"Sun\", \"Sun\", \"Sun\", \"Sun\", \"Sun\", \"Sun\", \"Sun\", \"Sun\", \"Sun\", \"Sun\", \"Sun\", \"Sun\", \"Sun\", \"Sun\", \"Sat\", \"Sat\", \"Sat\", \"Sat\", \"Sat\", \"Sat\", \"Sat\", \"Sat\", \"Sat\", \"Sat\", \"Sat\", \"Sat\", \"Sat\", \"Sat\", \"Sat\", \"Sat\", \"Sat\", \"Sat\", \"Sat\", \"Sat\", \"Sat\", \"Sat\", \"Sun\", \"Sun\", \"Sun\", \"Sun\", \"Sun\", \"Sun\", \"Sun\", \"Sun\", \"Sun\", \"Sun\", \"Sun\", \"Sun\", \"Sun\", \"Sun\", \"Sun\", \"Sat\", \"Sat\", \"Sat\", \"Sat\", \"Sat\", \"Sat\", \"Sat\", \"Sat\", \"Sat\", \"Sat\", \"Sat\", \"Sat\", \"Sat\", \"Sat\", \"Sat\", \"Sat\", \"Sat\", \"Sat\", \"Sat\", \"Sat\", \"Sat\", \"Thur\", \"Thur\", \"Thur\", \"Thur\", \"Thur\", \"Thur\", \"Thur\", \"Thur\", \"Thur\", \"Thur\", \"Thur\", \"Thur\", \"Thur\", \"Fri\", \"Fri\", \"Fri\", \"Fri\", \"Fri\", \"Fri\", \"Fri\", \"Fri\", \"Fri\", \"Fri\", \"Fri\", \"Fri\", \"Sat\", \"Sat\", \"Sat\", \"Sat\", \"Sat\", \"Sat\", \"Sat\", \"Sat\", \"Sat\", \"Sat\", \"Sun\", \"Sun\", \"Sun\", \"Sun\", \"Sun\", \"Thur\", \"Thur\", \"Thur\", \"Thur\", \"Thur\", \"Thur\", \"Thur\", \"Thur\", \"Thur\", \"Thur\", \"Thur\", \"Thur\", \"Thur\", \"Thur\", \"Thur\", \"Thur\", \"Thur\", \"Thur\", \"Thur\", \"Thur\", \"Thur\", \"Thur\", \"Thur\", \"Thur\", \"Thur\", \"Thur\", \"Thur\", \"Thur\", \"Thur\", \"Thur\", \"Thur\", \"Thur\", \"Thur\", \"Sun\", \"Sun\", \"Sun\", \"Sun\", \"Sun\", \"Sun\", \"Sun\", \"Sun\", \"Sun\", \"Sun\", \"Sun\", \"Sun\", \"Sun\", \"Sun\", \"Sun\", \"Sun\", \"Sun\", \"Sun\", \"Sat\", \"Sat\", \"Sat\", \"Sat\", \"Sun\", \"Sun\", \"Sun\", \"Sun\", \"Sun\", \"Sun\", \"Sun\", \"Sun\", \"Sun\", \"Sun\", \"Sun\", \"Sun\", \"Sun\", \"Sun\", \"Sun\", \"Sun\", \"Sun\", \"Sun\", \"Sun\", \"Thur\", \"Thur\", \"Thur\", \"Thur\", \"Thur\", \"Thur\", \"Thur\", \"Thur\", \"Thur\", \"Thur\", \"Thur\", \"Thur\", \"Thur\", \"Thur\", \"Thur\", \"Sat\", \"Sat\", \"Sat\", \"Sat\", \"Sat\", \"Sat\", \"Sat\", \"Sat\", \"Sat\", \"Sat\", \"Sat\", \"Sat\", \"Sat\", \"Sat\", \"Fri\", \"Fri\", \"Fri\", \"Fri\", \"Fri\", \"Fri\", \"Fri\", \"Sat\", \"Sat\", \"Sat\", \"Sat\", \"Sat\", \"Sat\", \"Sat\", \"Sat\", \"Sat\", \"Sat\", \"Sat\", \"Sat\", \"Sat\", \"Sat\", \"Sat\", \"Sat\", \"Thur\"], \"legendgroup\": \"\", \"name\": \"\", \"showlegend\": true, \"type\": \"pie\", \"values\": [1.01, 1.66, 3.5, 3.31, 3.61, 4.71, 2.0, 3.12, 1.96, 3.23, 1.71, 5.0, 1.57, 3.0, 3.02, 3.92, 1.67, 3.71, 3.5, 3.35, 4.08, 2.75, 2.23, 7.58, 3.18, 2.34, 2.0, 2.0, 4.3, 3.0, 1.45, 2.5, 3.0, 2.45, 3.27, 3.6, 2.0, 3.07, 2.31, 5.0, 2.24, 2.54, 3.06, 1.32, 5.6, 3.0, 5.0, 6.0, 2.05, 3.0, 2.5, 2.6, 5.2, 1.56, 4.34, 3.51, 3.0, 1.5, 1.76, 6.73, 3.21, 2.0, 1.98, 3.76, 2.64, 3.15, 2.47, 1.0, 2.01, 2.09, 1.97, 3.0, 3.14, 5.0, 2.2, 1.25, 3.08, 4.0, 3.0, 2.71, 3.0, 3.4, 1.83, 5.0, 2.03, 5.17, 2.0, 4.0, 5.85, 3.0, 3.0, 3.5, 1.0, 4.3, 3.25, 4.73, 4.0, 1.5, 3.0, 1.5, 2.5, 3.0, 2.5, 3.48, 4.08, 1.64, 4.06, 4.29, 3.76, 4.0, 3.0, 1.0, 4.0, 2.55, 4.0, 3.5, 5.07, 1.5, 1.8, 2.92, 2.31, 1.68, 2.5, 2.0, 2.52, 4.2, 1.48, 2.0, 2.0, 2.18, 1.5, 2.83, 1.5, 2.0, 3.25, 1.25, 2.0, 2.0, 2.0, 2.75, 3.5, 6.7, 5.0, 5.0, 2.3, 1.5, 1.36, 1.63, 1.73, 2.0, 2.5, 2.0, 2.74, 2.0, 2.0, 5.14, 5.0, 3.75, 2.61, 2.0, 3.5, 2.5, 2.0, 2.0, 3.0, 3.48, 2.24, 4.5, 1.61, 2.0, 10.0, 3.16, 5.15, 3.18, 4.0, 3.11, 2.0, 2.0, 4.0, 3.55, 3.68, 5.65, 3.5, 6.5, 3.0, 5.0, 3.5, 2.0, 3.5, 4.0, 1.5, 4.19, 2.56, 2.02, 4.0, 1.44, 2.0, 5.0, 2.0, 2.0, 4.0, 2.01, 2.0, 2.5, 4.0, 3.23, 3.41, 3.0, 2.03, 2.23, 2.0, 5.16, 9.0, 2.5, 6.5, 1.1, 3.0, 1.5, 1.44, 3.09, 2.2, 3.48, 1.92, 3.0, 1.58, 2.5, 2.0, 3.0, 2.72, 2.88, 2.0, 3.0, 3.39, 1.47, 3.0, 1.25, 1.0, 1.17, 4.67, 5.92, 2.0, 2.0, 1.75, 3.0]}],                        {\"legend\": {\"tracegroupgap\": 0}, \"margin\": {\"t\": 60}, \"template\": {\"data\": {\"bar\": [{\"error_x\": {\"color\": \"#2a3f5f\"}, \"error_y\": {\"color\": \"#2a3f5f\"}, \"marker\": {\"line\": {\"color\": \"#E5ECF6\", \"width\": 0.5}}, \"type\": \"bar\"}], \"barpolar\": [{\"marker\": {\"line\": {\"color\": \"#E5ECF6\", \"width\": 0.5}}, \"type\": \"barpolar\"}], \"carpet\": [{\"aaxis\": {\"endlinecolor\": \"#2a3f5f\", \"gridcolor\": \"white\", \"linecolor\": \"white\", \"minorgridcolor\": \"white\", \"startlinecolor\": \"#2a3f5f\"}, \"baxis\": {\"endlinecolor\": \"#2a3f5f\", \"gridcolor\": \"white\", \"linecolor\": \"white\", \"minorgridcolor\": \"white\", \"startlinecolor\": \"#2a3f5f\"}, \"type\": \"carpet\"}], \"choropleth\": [{\"colorbar\": {\"outlinewidth\": 0, \"ticks\": \"\"}, \"type\": \"choropleth\"}], \"contour\": [{\"colorbar\": {\"outlinewidth\": 0, \"ticks\": \"\"}, \"colorscale\": [[0.0, \"#0d0887\"], [0.1111111111111111, \"#46039f\"], [0.2222222222222222, \"#7201a8\"], [0.3333333333333333, \"#9c179e\"], [0.4444444444444444, \"#bd3786\"], [0.5555555555555556, \"#d8576b\"], [0.6666666666666666, \"#ed7953\"], [0.7777777777777778, \"#fb9f3a\"], [0.8888888888888888, \"#fdca26\"], [1.0, \"#f0f921\"]], \"type\": \"contour\"}], \"contourcarpet\": [{\"colorbar\": {\"outlinewidth\": 0, \"ticks\": \"\"}, \"type\": \"contourcarpet\"}], \"heatmap\": [{\"colorbar\": {\"outlinewidth\": 0, \"ticks\": \"\"}, \"colorscale\": [[0.0, \"#0d0887\"], [0.1111111111111111, \"#46039f\"], [0.2222222222222222, \"#7201a8\"], [0.3333333333333333, \"#9c179e\"], [0.4444444444444444, \"#bd3786\"], [0.5555555555555556, \"#d8576b\"], [0.6666666666666666, \"#ed7953\"], [0.7777777777777778, \"#fb9f3a\"], [0.8888888888888888, \"#fdca26\"], [1.0, \"#f0f921\"]], \"type\": \"heatmap\"}], \"heatmapgl\": [{\"colorbar\": {\"outlinewidth\": 0, \"ticks\": \"\"}, \"colorscale\": [[0.0, \"#0d0887\"], [0.1111111111111111, \"#46039f\"], [0.2222222222222222, \"#7201a8\"], [0.3333333333333333, \"#9c179e\"], [0.4444444444444444, \"#bd3786\"], [0.5555555555555556, \"#d8576b\"], [0.6666666666666666, \"#ed7953\"], [0.7777777777777778, \"#fb9f3a\"], [0.8888888888888888, \"#fdca26\"], [1.0, \"#f0f921\"]], \"type\": \"heatmapgl\"}], \"histogram\": [{\"marker\": {\"colorbar\": {\"outlinewidth\": 0, \"ticks\": \"\"}}, \"type\": \"histogram\"}], \"histogram2d\": [{\"colorbar\": {\"outlinewidth\": 0, \"ticks\": \"\"}, \"colorscale\": [[0.0, \"#0d0887\"], [0.1111111111111111, \"#46039f\"], [0.2222222222222222, \"#7201a8\"], [0.3333333333333333, \"#9c179e\"], [0.4444444444444444, \"#bd3786\"], [0.5555555555555556, \"#d8576b\"], [0.6666666666666666, \"#ed7953\"], [0.7777777777777778, \"#fb9f3a\"], [0.8888888888888888, \"#fdca26\"], [1.0, \"#f0f921\"]], \"type\": \"histogram2d\"}], \"histogram2dcontour\": [{\"colorbar\": {\"outlinewidth\": 0, \"ticks\": \"\"}, \"colorscale\": [[0.0, \"#0d0887\"], [0.1111111111111111, \"#46039f\"], [0.2222222222222222, \"#7201a8\"], [0.3333333333333333, \"#9c179e\"], [0.4444444444444444, \"#bd3786\"], [0.5555555555555556, \"#d8576b\"], [0.6666666666666666, \"#ed7953\"], [0.7777777777777778, \"#fb9f3a\"], [0.8888888888888888, \"#fdca26\"], [1.0, \"#f0f921\"]], \"type\": \"histogram2dcontour\"}], \"mesh3d\": [{\"colorbar\": {\"outlinewidth\": 0, \"ticks\": \"\"}, \"type\": \"mesh3d\"}], \"parcoords\": [{\"line\": {\"colorbar\": {\"outlinewidth\": 0, \"ticks\": \"\"}}, \"type\": \"parcoords\"}], \"pie\": [{\"automargin\": true, \"type\": \"pie\"}], \"scatter\": [{\"marker\": {\"colorbar\": {\"outlinewidth\": 0, \"ticks\": \"\"}}, \"type\": \"scatter\"}], \"scatter3d\": [{\"line\": {\"colorbar\": {\"outlinewidth\": 0, \"ticks\": \"\"}}, \"marker\": {\"colorbar\": {\"outlinewidth\": 0, \"ticks\": \"\"}}, \"type\": \"scatter3d\"}], \"scattercarpet\": [{\"marker\": {\"colorbar\": {\"outlinewidth\": 0, \"ticks\": \"\"}}, \"type\": \"scattercarpet\"}], \"scattergeo\": [{\"marker\": {\"colorbar\": {\"outlinewidth\": 0, \"ticks\": \"\"}}, \"type\": \"scattergeo\"}], \"scattergl\": [{\"marker\": {\"colorbar\": {\"outlinewidth\": 0, \"ticks\": \"\"}}, \"type\": \"scattergl\"}], \"scattermapbox\": [{\"marker\": {\"colorbar\": {\"outlinewidth\": 0, \"ticks\": \"\"}}, \"type\": \"scattermapbox\"}], \"scatterpolar\": [{\"marker\": {\"colorbar\": {\"outlinewidth\": 0, \"ticks\": \"\"}}, \"type\": \"scatterpolar\"}], \"scatterpolargl\": [{\"marker\": {\"colorbar\": {\"outlinewidth\": 0, \"ticks\": \"\"}}, \"type\": \"scatterpolargl\"}], \"scatterternary\": [{\"marker\": {\"colorbar\": {\"outlinewidth\": 0, \"ticks\": \"\"}}, \"type\": \"scatterternary\"}], \"surface\": [{\"colorbar\": {\"outlinewidth\": 0, \"ticks\": \"\"}, \"colorscale\": [[0.0, \"#0d0887\"], [0.1111111111111111, \"#46039f\"], [0.2222222222222222, \"#7201a8\"], [0.3333333333333333, \"#9c179e\"], [0.4444444444444444, \"#bd3786\"], [0.5555555555555556, \"#d8576b\"], [0.6666666666666666, \"#ed7953\"], [0.7777777777777778, \"#fb9f3a\"], [0.8888888888888888, \"#fdca26\"], [1.0, \"#f0f921\"]], \"type\": \"surface\"}], \"table\": [{\"cells\": {\"fill\": {\"color\": \"#EBF0F8\"}, \"line\": {\"color\": \"white\"}}, \"header\": {\"fill\": {\"color\": \"#C8D4E3\"}, \"line\": {\"color\": \"white\"}}, \"type\": \"table\"}]}, \"layout\": {\"annotationdefaults\": {\"arrowcolor\": \"#2a3f5f\", \"arrowhead\": 0, \"arrowwidth\": 1}, \"coloraxis\": {\"colorbar\": {\"outlinewidth\": 0, \"ticks\": \"\"}}, \"colorscale\": {\"diverging\": [[0, \"#8e0152\"], [0.1, \"#c51b7d\"], [0.2, \"#de77ae\"], [0.3, \"#f1b6da\"], [0.4, \"#fde0ef\"], [0.5, \"#f7f7f7\"], [0.6, \"#e6f5d0\"], [0.7, \"#b8e186\"], [0.8, \"#7fbc41\"], [0.9, \"#4d9221\"], [1, \"#276419\"]], \"sequential\": [[0.0, \"#0d0887\"], [0.1111111111111111, \"#46039f\"], [0.2222222222222222, \"#7201a8\"], [0.3333333333333333, \"#9c179e\"], [0.4444444444444444, \"#bd3786\"], [0.5555555555555556, \"#d8576b\"], [0.6666666666666666, \"#ed7953\"], [0.7777777777777778, \"#fb9f3a\"], [0.8888888888888888, \"#fdca26\"], [1.0, \"#f0f921\"]], \"sequentialminus\": [[0.0, \"#0d0887\"], [0.1111111111111111, \"#46039f\"], [0.2222222222222222, \"#7201a8\"], [0.3333333333333333, \"#9c179e\"], [0.4444444444444444, \"#bd3786\"], [0.5555555555555556, \"#d8576b\"], [0.6666666666666666, \"#ed7953\"], [0.7777777777777778, \"#fb9f3a\"], [0.8888888888888888, \"#fdca26\"], [1.0, \"#f0f921\"]]}, \"colorway\": [\"#636efa\", \"#EF553B\", \"#00cc96\", \"#ab63fa\", \"#FFA15A\", \"#19d3f3\", \"#FF6692\", \"#B6E880\", \"#FF97FF\", \"#FECB52\"], \"font\": {\"color\": \"#2a3f5f\"}, \"geo\": {\"bgcolor\": \"white\", \"lakecolor\": \"white\", \"landcolor\": \"#E5ECF6\", \"showlakes\": true, \"showland\": true, \"subunitcolor\": \"white\"}, \"hoverlabel\": {\"align\": \"left\"}, \"hovermode\": \"closest\", \"mapbox\": {\"style\": \"light\"}, \"paper_bgcolor\": \"white\", \"plot_bgcolor\": \"#E5ECF6\", \"polar\": {\"angularaxis\": {\"gridcolor\": \"white\", \"linecolor\": \"white\", \"ticks\": \"\"}, \"bgcolor\": \"#E5ECF6\", \"radialaxis\": {\"gridcolor\": \"white\", \"linecolor\": \"white\", \"ticks\": \"\"}}, \"scene\": {\"xaxis\": {\"backgroundcolor\": \"#E5ECF6\", \"gridcolor\": \"white\", \"gridwidth\": 2, \"linecolor\": \"white\", \"showbackground\": true, \"ticks\": \"\", \"zerolinecolor\": \"white\"}, \"yaxis\": {\"backgroundcolor\": \"#E5ECF6\", \"gridcolor\": \"white\", \"gridwidth\": 2, \"linecolor\": \"white\", \"showbackground\": true, \"ticks\": \"\", \"zerolinecolor\": \"white\"}, \"zaxis\": {\"backgroundcolor\": \"#E5ECF6\", \"gridcolor\": \"white\", \"gridwidth\": 2, \"linecolor\": \"white\", \"showbackground\": true, \"ticks\": \"\", \"zerolinecolor\": \"white\"}}, \"shapedefaults\": {\"line\": {\"color\": \"#2a3f5f\"}}, \"ternary\": {\"aaxis\": {\"gridcolor\": \"white\", \"linecolor\": \"white\", \"ticks\": \"\"}, \"baxis\": {\"gridcolor\": \"white\", \"linecolor\": \"white\", \"ticks\": \"\"}, \"bgcolor\": \"#E5ECF6\", \"caxis\": {\"gridcolor\": \"white\", \"linecolor\": \"white\", \"ticks\": \"\"}}, \"title\": {\"x\": 0.05}, \"xaxis\": {\"automargin\": true, \"gridcolor\": \"white\", \"linecolor\": \"white\", \"ticks\": \"\", \"title\": {\"standoff\": 15}, \"zerolinecolor\": \"white\", \"zerolinewidth\": 2}, \"yaxis\": {\"automargin\": true, \"gridcolor\": \"white\", \"linecolor\": \"white\", \"ticks\": \"\", \"title\": {\"standoff\": 15}, \"zerolinecolor\": \"white\", \"zerolinewidth\": 2}}}},                        {\"responsive\": true}                    ).then(function(){\n",
       "                            \n",
       "var gd = document.getElementById('7fd7decd-172c-4a3f-b3eb-1f4029e4bad1');\n",
       "var x = new MutationObserver(function (mutations, observer) {{\n",
       "        var display = window.getComputedStyle(gd).display;\n",
       "        if (!display || display === 'none') {{\n",
       "            console.log([gd, 'removed!']);\n",
       "            Plotly.purge(gd);\n",
       "            observer.disconnect();\n",
       "        }}\n",
       "}});\n",
       "\n",
       "// Listen for the removal of the full notebook cells\n",
       "var notebookContainer = gd.closest('#notebook-container');\n",
       "if (notebookContainer) {{\n",
       "    x.observe(notebookContainer, {childList: true});\n",
       "}}\n",
       "\n",
       "// Listen for the clearing of the current output cell\n",
       "var outputEl = gd.closest('.output');\n",
       "if (outputEl) {{\n",
       "    x.observe(outputEl, {childList: true});\n",
       "}}\n",
       "\n",
       "                        })                };                });            </script>        </div>"
      ]
     },
     "metadata": {},
     "output_type": "display_data"
    }
   ],
   "source": [
    "fig = px.pie(df, values='tip', names='day')\n",
    "fig.show()"
   ]
  },
  {
   "cell_type": "code",
   "execution_count": 25,
   "metadata": {
    "ExecuteTime": {
     "end_time": "2021-07-16T14:47:50.287858Z",
     "start_time": "2021-07-16T14:47:50.280908Z"
    }
   },
   "outputs": [
    {
     "data": {
      "application/vnd.plotly.v1+json": {
       "config": {
        "plotlyServerURL": "https://plot.ly"
       },
       "data": [
        {
         "labels": [
          "Negative",
          "Neutral",
          "Positive"
         ],
         "type": "pie",
         "values": [
          551,
          286,
          197
         ]
        }
       ],
       "layout": {
        "template": {
         "data": {
          "bar": [
           {
            "error_x": {
             "color": "#2a3f5f"
            },
            "error_y": {
             "color": "#2a3f5f"
            },
            "marker": {
             "line": {
              "color": "#E5ECF6",
              "width": 0.5
             }
            },
            "type": "bar"
           }
          ],
          "barpolar": [
           {
            "marker": {
             "line": {
              "color": "#E5ECF6",
              "width": 0.5
             }
            },
            "type": "barpolar"
           }
          ],
          "carpet": [
           {
            "aaxis": {
             "endlinecolor": "#2a3f5f",
             "gridcolor": "white",
             "linecolor": "white",
             "minorgridcolor": "white",
             "startlinecolor": "#2a3f5f"
            },
            "baxis": {
             "endlinecolor": "#2a3f5f",
             "gridcolor": "white",
             "linecolor": "white",
             "minorgridcolor": "white",
             "startlinecolor": "#2a3f5f"
            },
            "type": "carpet"
           }
          ],
          "choropleth": [
           {
            "colorbar": {
             "outlinewidth": 0,
             "ticks": ""
            },
            "type": "choropleth"
           }
          ],
          "contour": [
           {
            "colorbar": {
             "outlinewidth": 0,
             "ticks": ""
            },
            "colorscale": [
             [
              0,
              "#0d0887"
             ],
             [
              0.1111111111111111,
              "#46039f"
             ],
             [
              0.2222222222222222,
              "#7201a8"
             ],
             [
              0.3333333333333333,
              "#9c179e"
             ],
             [
              0.4444444444444444,
              "#bd3786"
             ],
             [
              0.5555555555555556,
              "#d8576b"
             ],
             [
              0.6666666666666666,
              "#ed7953"
             ],
             [
              0.7777777777777778,
              "#fb9f3a"
             ],
             [
              0.8888888888888888,
              "#fdca26"
             ],
             [
              1,
              "#f0f921"
             ]
            ],
            "type": "contour"
           }
          ],
          "contourcarpet": [
           {
            "colorbar": {
             "outlinewidth": 0,
             "ticks": ""
            },
            "type": "contourcarpet"
           }
          ],
          "heatmap": [
           {
            "colorbar": {
             "outlinewidth": 0,
             "ticks": ""
            },
            "colorscale": [
             [
              0,
              "#0d0887"
             ],
             [
              0.1111111111111111,
              "#46039f"
             ],
             [
              0.2222222222222222,
              "#7201a8"
             ],
             [
              0.3333333333333333,
              "#9c179e"
             ],
             [
              0.4444444444444444,
              "#bd3786"
             ],
             [
              0.5555555555555556,
              "#d8576b"
             ],
             [
              0.6666666666666666,
              "#ed7953"
             ],
             [
              0.7777777777777778,
              "#fb9f3a"
             ],
             [
              0.8888888888888888,
              "#fdca26"
             ],
             [
              1,
              "#f0f921"
             ]
            ],
            "type": "heatmap"
           }
          ],
          "heatmapgl": [
           {
            "colorbar": {
             "outlinewidth": 0,
             "ticks": ""
            },
            "colorscale": [
             [
              0,
              "#0d0887"
             ],
             [
              0.1111111111111111,
              "#46039f"
             ],
             [
              0.2222222222222222,
              "#7201a8"
             ],
             [
              0.3333333333333333,
              "#9c179e"
             ],
             [
              0.4444444444444444,
              "#bd3786"
             ],
             [
              0.5555555555555556,
              "#d8576b"
             ],
             [
              0.6666666666666666,
              "#ed7953"
             ],
             [
              0.7777777777777778,
              "#fb9f3a"
             ],
             [
              0.8888888888888888,
              "#fdca26"
             ],
             [
              1,
              "#f0f921"
             ]
            ],
            "type": "heatmapgl"
           }
          ],
          "histogram": [
           {
            "marker": {
             "colorbar": {
              "outlinewidth": 0,
              "ticks": ""
             }
            },
            "type": "histogram"
           }
          ],
          "histogram2d": [
           {
            "colorbar": {
             "outlinewidth": 0,
             "ticks": ""
            },
            "colorscale": [
             [
              0,
              "#0d0887"
             ],
             [
              0.1111111111111111,
              "#46039f"
             ],
             [
              0.2222222222222222,
              "#7201a8"
             ],
             [
              0.3333333333333333,
              "#9c179e"
             ],
             [
              0.4444444444444444,
              "#bd3786"
             ],
             [
              0.5555555555555556,
              "#d8576b"
             ],
             [
              0.6666666666666666,
              "#ed7953"
             ],
             [
              0.7777777777777778,
              "#fb9f3a"
             ],
             [
              0.8888888888888888,
              "#fdca26"
             ],
             [
              1,
              "#f0f921"
             ]
            ],
            "type": "histogram2d"
           }
          ],
          "histogram2dcontour": [
           {
            "colorbar": {
             "outlinewidth": 0,
             "ticks": ""
            },
            "colorscale": [
             [
              0,
              "#0d0887"
             ],
             [
              0.1111111111111111,
              "#46039f"
             ],
             [
              0.2222222222222222,
              "#7201a8"
             ],
             [
              0.3333333333333333,
              "#9c179e"
             ],
             [
              0.4444444444444444,
              "#bd3786"
             ],
             [
              0.5555555555555556,
              "#d8576b"
             ],
             [
              0.6666666666666666,
              "#ed7953"
             ],
             [
              0.7777777777777778,
              "#fb9f3a"
             ],
             [
              0.8888888888888888,
              "#fdca26"
             ],
             [
              1,
              "#f0f921"
             ]
            ],
            "type": "histogram2dcontour"
           }
          ],
          "mesh3d": [
           {
            "colorbar": {
             "outlinewidth": 0,
             "ticks": ""
            },
            "type": "mesh3d"
           }
          ],
          "parcoords": [
           {
            "line": {
             "colorbar": {
              "outlinewidth": 0,
              "ticks": ""
             }
            },
            "type": "parcoords"
           }
          ],
          "pie": [
           {
            "automargin": true,
            "type": "pie"
           }
          ],
          "scatter": [
           {
            "marker": {
             "colorbar": {
              "outlinewidth": 0,
              "ticks": ""
             }
            },
            "type": "scatter"
           }
          ],
          "scatter3d": [
           {
            "line": {
             "colorbar": {
              "outlinewidth": 0,
              "ticks": ""
             }
            },
            "marker": {
             "colorbar": {
              "outlinewidth": 0,
              "ticks": ""
             }
            },
            "type": "scatter3d"
           }
          ],
          "scattercarpet": [
           {
            "marker": {
             "colorbar": {
              "outlinewidth": 0,
              "ticks": ""
             }
            },
            "type": "scattercarpet"
           }
          ],
          "scattergeo": [
           {
            "marker": {
             "colorbar": {
              "outlinewidth": 0,
              "ticks": ""
             }
            },
            "type": "scattergeo"
           }
          ],
          "scattergl": [
           {
            "marker": {
             "colorbar": {
              "outlinewidth": 0,
              "ticks": ""
             }
            },
            "type": "scattergl"
           }
          ],
          "scattermapbox": [
           {
            "marker": {
             "colorbar": {
              "outlinewidth": 0,
              "ticks": ""
             }
            },
            "type": "scattermapbox"
           }
          ],
          "scatterpolar": [
           {
            "marker": {
             "colorbar": {
              "outlinewidth": 0,
              "ticks": ""
             }
            },
            "type": "scatterpolar"
           }
          ],
          "scatterpolargl": [
           {
            "marker": {
             "colorbar": {
              "outlinewidth": 0,
              "ticks": ""
             }
            },
            "type": "scatterpolargl"
           }
          ],
          "scatterternary": [
           {
            "marker": {
             "colorbar": {
              "outlinewidth": 0,
              "ticks": ""
             }
            },
            "type": "scatterternary"
           }
          ],
          "surface": [
           {
            "colorbar": {
             "outlinewidth": 0,
             "ticks": ""
            },
            "colorscale": [
             [
              0,
              "#0d0887"
             ],
             [
              0.1111111111111111,
              "#46039f"
             ],
             [
              0.2222222222222222,
              "#7201a8"
             ],
             [
              0.3333333333333333,
              "#9c179e"
             ],
             [
              0.4444444444444444,
              "#bd3786"
             ],
             [
              0.5555555555555556,
              "#d8576b"
             ],
             [
              0.6666666666666666,
              "#ed7953"
             ],
             [
              0.7777777777777778,
              "#fb9f3a"
             ],
             [
              0.8888888888888888,
              "#fdca26"
             ],
             [
              1,
              "#f0f921"
             ]
            ],
            "type": "surface"
           }
          ],
          "table": [
           {
            "cells": {
             "fill": {
              "color": "#EBF0F8"
             },
             "line": {
              "color": "white"
             }
            },
            "header": {
             "fill": {
              "color": "#C8D4E3"
             },
             "line": {
              "color": "white"
             }
            },
            "type": "table"
           }
          ]
         },
         "layout": {
          "annotationdefaults": {
           "arrowcolor": "#2a3f5f",
           "arrowhead": 0,
           "arrowwidth": 1
          },
          "coloraxis": {
           "colorbar": {
            "outlinewidth": 0,
            "ticks": ""
           }
          },
          "colorscale": {
           "diverging": [
            [
             0,
             "#8e0152"
            ],
            [
             0.1,
             "#c51b7d"
            ],
            [
             0.2,
             "#de77ae"
            ],
            [
             0.3,
             "#f1b6da"
            ],
            [
             0.4,
             "#fde0ef"
            ],
            [
             0.5,
             "#f7f7f7"
            ],
            [
             0.6,
             "#e6f5d0"
            ],
            [
             0.7,
             "#b8e186"
            ],
            [
             0.8,
             "#7fbc41"
            ],
            [
             0.9,
             "#4d9221"
            ],
            [
             1,
             "#276419"
            ]
           ],
           "sequential": [
            [
             0,
             "#0d0887"
            ],
            [
             0.1111111111111111,
             "#46039f"
            ],
            [
             0.2222222222222222,
             "#7201a8"
            ],
            [
             0.3333333333333333,
             "#9c179e"
            ],
            [
             0.4444444444444444,
             "#bd3786"
            ],
            [
             0.5555555555555556,
             "#d8576b"
            ],
            [
             0.6666666666666666,
             "#ed7953"
            ],
            [
             0.7777777777777778,
             "#fb9f3a"
            ],
            [
             0.8888888888888888,
             "#fdca26"
            ],
            [
             1,
             "#f0f921"
            ]
           ],
           "sequentialminus": [
            [
             0,
             "#0d0887"
            ],
            [
             0.1111111111111111,
             "#46039f"
            ],
            [
             0.2222222222222222,
             "#7201a8"
            ],
            [
             0.3333333333333333,
             "#9c179e"
            ],
            [
             0.4444444444444444,
             "#bd3786"
            ],
            [
             0.5555555555555556,
             "#d8576b"
            ],
            [
             0.6666666666666666,
             "#ed7953"
            ],
            [
             0.7777777777777778,
             "#fb9f3a"
            ],
            [
             0.8888888888888888,
             "#fdca26"
            ],
            [
             1,
             "#f0f921"
            ]
           ]
          },
          "colorway": [
           "#636efa",
           "#EF553B",
           "#00cc96",
           "#ab63fa",
           "#FFA15A",
           "#19d3f3",
           "#FF6692",
           "#B6E880",
           "#FF97FF",
           "#FECB52"
          ],
          "font": {
           "color": "#2a3f5f"
          },
          "geo": {
           "bgcolor": "white",
           "lakecolor": "white",
           "landcolor": "#E5ECF6",
           "showlakes": true,
           "showland": true,
           "subunitcolor": "white"
          },
          "hoverlabel": {
           "align": "left"
          },
          "hovermode": "closest",
          "mapbox": {
           "style": "light"
          },
          "paper_bgcolor": "white",
          "plot_bgcolor": "#E5ECF6",
          "polar": {
           "angularaxis": {
            "gridcolor": "white",
            "linecolor": "white",
            "ticks": ""
           },
           "bgcolor": "#E5ECF6",
           "radialaxis": {
            "gridcolor": "white",
            "linecolor": "white",
            "ticks": ""
           }
          },
          "scene": {
           "xaxis": {
            "backgroundcolor": "#E5ECF6",
            "gridcolor": "white",
            "gridwidth": 2,
            "linecolor": "white",
            "showbackground": true,
            "ticks": "",
            "zerolinecolor": "white"
           },
           "yaxis": {
            "backgroundcolor": "#E5ECF6",
            "gridcolor": "white",
            "gridwidth": 2,
            "linecolor": "white",
            "showbackground": true,
            "ticks": "",
            "zerolinecolor": "white"
           },
           "zaxis": {
            "backgroundcolor": "#E5ECF6",
            "gridcolor": "white",
            "gridwidth": 2,
            "linecolor": "white",
            "showbackground": true,
            "ticks": "",
            "zerolinecolor": "white"
           }
          },
          "shapedefaults": {
           "line": {
            "color": "#2a3f5f"
           }
          },
          "ternary": {
           "aaxis": {
            "gridcolor": "white",
            "linecolor": "white",
            "ticks": ""
           },
           "baxis": {
            "gridcolor": "white",
            "linecolor": "white",
            "ticks": ""
           },
           "bgcolor": "#E5ECF6",
           "caxis": {
            "gridcolor": "white",
            "linecolor": "white",
            "ticks": ""
           }
          },
          "title": {
           "x": 0.05
          },
          "xaxis": {
           "automargin": true,
           "gridcolor": "white",
           "linecolor": "white",
           "ticks": "",
           "title": {
            "standoff": 15
           },
           "zerolinecolor": "white",
           "zerolinewidth": 2
          },
          "yaxis": {
           "automargin": true,
           "gridcolor": "white",
           "linecolor": "white",
           "ticks": "",
           "title": {
            "standoff": 15
           },
           "zerolinecolor": "white",
           "zerolinewidth": 2
          }
         }
        }
       }
      },
      "text/html": [
       "<div>                            <div id=\"e433018d-2d99-4547-8076-67b22b7c71c7\" class=\"plotly-graph-div\" style=\"height:525px; width:100%;\"></div>            <script type=\"text/javascript\">                require([\"plotly\"], function(Plotly) {                    window.PLOTLYENV=window.PLOTLYENV || {};                                    if (document.getElementById(\"e433018d-2d99-4547-8076-67b22b7c71c7\")) {                    Plotly.newPlot(                        \"e433018d-2d99-4547-8076-67b22b7c71c7\",                        [{\"labels\": [\"Negative\", \"Neutral\", \"Positive\"], \"type\": \"pie\", \"values\": [551, 286, 197]}],                        {\"template\": {\"data\": {\"bar\": [{\"error_x\": {\"color\": \"#2a3f5f\"}, \"error_y\": {\"color\": \"#2a3f5f\"}, \"marker\": {\"line\": {\"color\": \"#E5ECF6\", \"width\": 0.5}}, \"type\": \"bar\"}], \"barpolar\": [{\"marker\": {\"line\": {\"color\": \"#E5ECF6\", \"width\": 0.5}}, \"type\": \"barpolar\"}], \"carpet\": [{\"aaxis\": {\"endlinecolor\": \"#2a3f5f\", \"gridcolor\": \"white\", \"linecolor\": \"white\", \"minorgridcolor\": \"white\", \"startlinecolor\": \"#2a3f5f\"}, \"baxis\": {\"endlinecolor\": \"#2a3f5f\", \"gridcolor\": \"white\", \"linecolor\": \"white\", \"minorgridcolor\": \"white\", \"startlinecolor\": \"#2a3f5f\"}, \"type\": \"carpet\"}], \"choropleth\": [{\"colorbar\": {\"outlinewidth\": 0, \"ticks\": \"\"}, \"type\": \"choropleth\"}], \"contour\": [{\"colorbar\": {\"outlinewidth\": 0, \"ticks\": \"\"}, \"colorscale\": [[0.0, \"#0d0887\"], [0.1111111111111111, \"#46039f\"], [0.2222222222222222, \"#7201a8\"], [0.3333333333333333, \"#9c179e\"], [0.4444444444444444, \"#bd3786\"], [0.5555555555555556, \"#d8576b\"], [0.6666666666666666, \"#ed7953\"], [0.7777777777777778, \"#fb9f3a\"], [0.8888888888888888, \"#fdca26\"], [1.0, \"#f0f921\"]], \"type\": \"contour\"}], \"contourcarpet\": [{\"colorbar\": {\"outlinewidth\": 0, \"ticks\": \"\"}, \"type\": \"contourcarpet\"}], \"heatmap\": [{\"colorbar\": {\"outlinewidth\": 0, \"ticks\": \"\"}, \"colorscale\": [[0.0, \"#0d0887\"], [0.1111111111111111, \"#46039f\"], [0.2222222222222222, \"#7201a8\"], [0.3333333333333333, \"#9c179e\"], [0.4444444444444444, \"#bd3786\"], [0.5555555555555556, \"#d8576b\"], [0.6666666666666666, \"#ed7953\"], [0.7777777777777778, \"#fb9f3a\"], [0.8888888888888888, \"#fdca26\"], [1.0, \"#f0f921\"]], \"type\": \"heatmap\"}], \"heatmapgl\": [{\"colorbar\": {\"outlinewidth\": 0, \"ticks\": \"\"}, \"colorscale\": [[0.0, \"#0d0887\"], [0.1111111111111111, \"#46039f\"], [0.2222222222222222, \"#7201a8\"], [0.3333333333333333, \"#9c179e\"], [0.4444444444444444, \"#bd3786\"], [0.5555555555555556, \"#d8576b\"], [0.6666666666666666, \"#ed7953\"], [0.7777777777777778, \"#fb9f3a\"], [0.8888888888888888, \"#fdca26\"], [1.0, \"#f0f921\"]], \"type\": \"heatmapgl\"}], \"histogram\": [{\"marker\": {\"colorbar\": {\"outlinewidth\": 0, \"ticks\": \"\"}}, \"type\": \"histogram\"}], \"histogram2d\": [{\"colorbar\": {\"outlinewidth\": 0, \"ticks\": \"\"}, \"colorscale\": [[0.0, \"#0d0887\"], [0.1111111111111111, \"#46039f\"], [0.2222222222222222, \"#7201a8\"], [0.3333333333333333, \"#9c179e\"], [0.4444444444444444, \"#bd3786\"], [0.5555555555555556, \"#d8576b\"], [0.6666666666666666, \"#ed7953\"], [0.7777777777777778, \"#fb9f3a\"], [0.8888888888888888, \"#fdca26\"], [1.0, \"#f0f921\"]], \"type\": \"histogram2d\"}], \"histogram2dcontour\": [{\"colorbar\": {\"outlinewidth\": 0, \"ticks\": \"\"}, \"colorscale\": [[0.0, \"#0d0887\"], [0.1111111111111111, \"#46039f\"], [0.2222222222222222, \"#7201a8\"], [0.3333333333333333, \"#9c179e\"], [0.4444444444444444, \"#bd3786\"], [0.5555555555555556, \"#d8576b\"], [0.6666666666666666, \"#ed7953\"], [0.7777777777777778, \"#fb9f3a\"], [0.8888888888888888, \"#fdca26\"], [1.0, \"#f0f921\"]], \"type\": \"histogram2dcontour\"}], \"mesh3d\": [{\"colorbar\": {\"outlinewidth\": 0, \"ticks\": \"\"}, \"type\": \"mesh3d\"}], \"parcoords\": [{\"line\": {\"colorbar\": {\"outlinewidth\": 0, \"ticks\": \"\"}}, \"type\": \"parcoords\"}], \"pie\": [{\"automargin\": true, \"type\": \"pie\"}], \"scatter\": [{\"marker\": {\"colorbar\": {\"outlinewidth\": 0, \"ticks\": \"\"}}, \"type\": \"scatter\"}], \"scatter3d\": [{\"line\": {\"colorbar\": {\"outlinewidth\": 0, \"ticks\": \"\"}}, \"marker\": {\"colorbar\": {\"outlinewidth\": 0, \"ticks\": \"\"}}, \"type\": \"scatter3d\"}], \"scattercarpet\": [{\"marker\": {\"colorbar\": {\"outlinewidth\": 0, \"ticks\": \"\"}}, \"type\": \"scattercarpet\"}], \"scattergeo\": [{\"marker\": {\"colorbar\": {\"outlinewidth\": 0, \"ticks\": \"\"}}, \"type\": \"scattergeo\"}], \"scattergl\": [{\"marker\": {\"colorbar\": {\"outlinewidth\": 0, \"ticks\": \"\"}}, \"type\": \"scattergl\"}], \"scattermapbox\": [{\"marker\": {\"colorbar\": {\"outlinewidth\": 0, \"ticks\": \"\"}}, \"type\": \"scattermapbox\"}], \"scatterpolar\": [{\"marker\": {\"colorbar\": {\"outlinewidth\": 0, \"ticks\": \"\"}}, \"type\": \"scatterpolar\"}], \"scatterpolargl\": [{\"marker\": {\"colorbar\": {\"outlinewidth\": 0, \"ticks\": \"\"}}, \"type\": \"scatterpolargl\"}], \"scatterternary\": [{\"marker\": {\"colorbar\": {\"outlinewidth\": 0, \"ticks\": \"\"}}, \"type\": \"scatterternary\"}], \"surface\": [{\"colorbar\": {\"outlinewidth\": 0, \"ticks\": \"\"}, \"colorscale\": [[0.0, \"#0d0887\"], [0.1111111111111111, \"#46039f\"], [0.2222222222222222, \"#7201a8\"], [0.3333333333333333, \"#9c179e\"], [0.4444444444444444, \"#bd3786\"], [0.5555555555555556, \"#d8576b\"], [0.6666666666666666, \"#ed7953\"], [0.7777777777777778, \"#fb9f3a\"], [0.8888888888888888, \"#fdca26\"], [1.0, \"#f0f921\"]], \"type\": \"surface\"}], \"table\": [{\"cells\": {\"fill\": {\"color\": \"#EBF0F8\"}, \"line\": {\"color\": \"white\"}}, \"header\": {\"fill\": {\"color\": \"#C8D4E3\"}, \"line\": {\"color\": \"white\"}}, \"type\": \"table\"}]}, \"layout\": {\"annotationdefaults\": {\"arrowcolor\": \"#2a3f5f\", \"arrowhead\": 0, \"arrowwidth\": 1}, \"coloraxis\": {\"colorbar\": {\"outlinewidth\": 0, \"ticks\": \"\"}}, \"colorscale\": {\"diverging\": [[0, \"#8e0152\"], [0.1, \"#c51b7d\"], [0.2, \"#de77ae\"], [0.3, \"#f1b6da\"], [0.4, \"#fde0ef\"], [0.5, \"#f7f7f7\"], [0.6, \"#e6f5d0\"], [0.7, \"#b8e186\"], [0.8, \"#7fbc41\"], [0.9, \"#4d9221\"], [1, \"#276419\"]], \"sequential\": [[0.0, \"#0d0887\"], [0.1111111111111111, \"#46039f\"], [0.2222222222222222, \"#7201a8\"], [0.3333333333333333, \"#9c179e\"], [0.4444444444444444, \"#bd3786\"], [0.5555555555555556, \"#d8576b\"], [0.6666666666666666, \"#ed7953\"], [0.7777777777777778, \"#fb9f3a\"], [0.8888888888888888, \"#fdca26\"], [1.0, \"#f0f921\"]], \"sequentialminus\": [[0.0, \"#0d0887\"], [0.1111111111111111, \"#46039f\"], [0.2222222222222222, \"#7201a8\"], [0.3333333333333333, \"#9c179e\"], [0.4444444444444444, \"#bd3786\"], [0.5555555555555556, \"#d8576b\"], [0.6666666666666666, \"#ed7953\"], [0.7777777777777778, \"#fb9f3a\"], [0.8888888888888888, \"#fdca26\"], [1.0, \"#f0f921\"]]}, \"colorway\": [\"#636efa\", \"#EF553B\", \"#00cc96\", \"#ab63fa\", \"#FFA15A\", \"#19d3f3\", \"#FF6692\", \"#B6E880\", \"#FF97FF\", \"#FECB52\"], \"font\": {\"color\": \"#2a3f5f\"}, \"geo\": {\"bgcolor\": \"white\", \"lakecolor\": \"white\", \"landcolor\": \"#E5ECF6\", \"showlakes\": true, \"showland\": true, \"subunitcolor\": \"white\"}, \"hoverlabel\": {\"align\": \"left\"}, \"hovermode\": \"closest\", \"mapbox\": {\"style\": \"light\"}, \"paper_bgcolor\": \"white\", \"plot_bgcolor\": \"#E5ECF6\", \"polar\": {\"angularaxis\": {\"gridcolor\": \"white\", \"linecolor\": \"white\", \"ticks\": \"\"}, \"bgcolor\": \"#E5ECF6\", \"radialaxis\": {\"gridcolor\": \"white\", \"linecolor\": \"white\", \"ticks\": \"\"}}, \"scene\": {\"xaxis\": {\"backgroundcolor\": \"#E5ECF6\", \"gridcolor\": \"white\", \"gridwidth\": 2, \"linecolor\": \"white\", \"showbackground\": true, \"ticks\": \"\", \"zerolinecolor\": \"white\"}, \"yaxis\": {\"backgroundcolor\": \"#E5ECF6\", \"gridcolor\": \"white\", \"gridwidth\": 2, \"linecolor\": \"white\", \"showbackground\": true, \"ticks\": \"\", \"zerolinecolor\": \"white\"}, \"zaxis\": {\"backgroundcolor\": \"#E5ECF6\", \"gridcolor\": \"white\", \"gridwidth\": 2, \"linecolor\": \"white\", \"showbackground\": true, \"ticks\": \"\", \"zerolinecolor\": \"white\"}}, \"shapedefaults\": {\"line\": {\"color\": \"#2a3f5f\"}}, \"ternary\": {\"aaxis\": {\"gridcolor\": \"white\", \"linecolor\": \"white\", \"ticks\": \"\"}, \"baxis\": {\"gridcolor\": \"white\", \"linecolor\": \"white\", \"ticks\": \"\"}, \"bgcolor\": \"#E5ECF6\", \"caxis\": {\"gridcolor\": \"white\", \"linecolor\": \"white\", \"ticks\": \"\"}}, \"title\": {\"x\": 0.05}, \"xaxis\": {\"automargin\": true, \"gridcolor\": \"white\", \"linecolor\": \"white\", \"ticks\": \"\", \"title\": {\"standoff\": 15}, \"zerolinecolor\": \"white\", \"zerolinewidth\": 2}, \"yaxis\": {\"automargin\": true, \"gridcolor\": \"white\", \"linecolor\": \"white\", \"ticks\": \"\", \"title\": {\"standoff\": 15}, \"zerolinecolor\": \"white\", \"zerolinewidth\": 2}}}},                        {\"responsive\": true}                    ).then(function(){\n",
       "                            \n",
       "var gd = document.getElementById('e433018d-2d99-4547-8076-67b22b7c71c7');\n",
       "var x = new MutationObserver(function (mutations, observer) {{\n",
       "        var display = window.getComputedStyle(gd).display;\n",
       "        if (!display || display === 'none') {{\n",
       "            console.log([gd, 'removed!']);\n",
       "            Plotly.purge(gd);\n",
       "            observer.disconnect();\n",
       "        }}\n",
       "}});\n",
       "\n",
       "// Listen for the removal of the full notebook cells\n",
       "var notebookContainer = gd.closest('#notebook-container');\n",
       "if (notebookContainer) {{\n",
       "    x.observe(notebookContainer, {childList: true});\n",
       "}}\n",
       "\n",
       "// Listen for the clearing of the current output cell\n",
       "var outputEl = gd.closest('.output');\n",
       "if (outputEl) {{\n",
       "    x.observe(outputEl, {childList: true});\n",
       "}}\n",
       "\n",
       "                        })                };                });            </script>        </div>"
      ]
     },
     "metadata": {},
     "output_type": "display_data"
    }
   ],
   "source": [
    "import plotly.graph_objects as go\n",
    "\n",
    "labels = ['Negative','Neutral','Positive']\n",
    "values = list(df_netflix['Sentiment'].value_counts().values)\n",
    "\n",
    "fig = go.Figure(data=[go.Pie(labels=labels, values=values)])\n",
    "fig.show()"
   ]
  },
  {
   "cell_type": "markdown",
   "metadata": {},
   "source": [
    "## Turning it into a Function"
   ]
  },
  {
   "cell_type": "code",
   "execution_count": 26,
   "metadata": {
    "ExecuteTime": {
     "end_time": "2021-07-16T14:47:50.305414Z",
     "start_time": "2021-07-16T14:47:50.288837Z"
    }
   },
   "outputs": [
    {
     "data": {
      "application/vnd.plotly.v1+json": {
       "config": {
        "plotlyServerURL": "https://plot.ly"
       },
       "data": [
        {
         "hoverinfo": "label+percent",
         "labels": [
          "Negative",
          "Neutral",
          "Positive"
         ],
         "marker": {
          "colors": [
           "Green",
           "yellow",
           "Red"
          ],
          "line": {
           "color": "#000000",
           "width": 2
          }
         },
         "textfont": {
          "size": 20
         },
         "textinfo": "value",
         "type": "pie",
         "values": [
          17,
          9,
          7
         ]
        }
       ],
       "layout": {
        "template": {
         "data": {
          "bar": [
           {
            "error_x": {
             "color": "#2a3f5f"
            },
            "error_y": {
             "color": "#2a3f5f"
            },
            "marker": {
             "line": {
              "color": "#E5ECF6",
              "width": 0.5
             }
            },
            "type": "bar"
           }
          ],
          "barpolar": [
           {
            "marker": {
             "line": {
              "color": "#E5ECF6",
              "width": 0.5
             }
            },
            "type": "barpolar"
           }
          ],
          "carpet": [
           {
            "aaxis": {
             "endlinecolor": "#2a3f5f",
             "gridcolor": "white",
             "linecolor": "white",
             "minorgridcolor": "white",
             "startlinecolor": "#2a3f5f"
            },
            "baxis": {
             "endlinecolor": "#2a3f5f",
             "gridcolor": "white",
             "linecolor": "white",
             "minorgridcolor": "white",
             "startlinecolor": "#2a3f5f"
            },
            "type": "carpet"
           }
          ],
          "choropleth": [
           {
            "colorbar": {
             "outlinewidth": 0,
             "ticks": ""
            },
            "type": "choropleth"
           }
          ],
          "contour": [
           {
            "colorbar": {
             "outlinewidth": 0,
             "ticks": ""
            },
            "colorscale": [
             [
              0,
              "#0d0887"
             ],
             [
              0.1111111111111111,
              "#46039f"
             ],
             [
              0.2222222222222222,
              "#7201a8"
             ],
             [
              0.3333333333333333,
              "#9c179e"
             ],
             [
              0.4444444444444444,
              "#bd3786"
             ],
             [
              0.5555555555555556,
              "#d8576b"
             ],
             [
              0.6666666666666666,
              "#ed7953"
             ],
             [
              0.7777777777777778,
              "#fb9f3a"
             ],
             [
              0.8888888888888888,
              "#fdca26"
             ],
             [
              1,
              "#f0f921"
             ]
            ],
            "type": "contour"
           }
          ],
          "contourcarpet": [
           {
            "colorbar": {
             "outlinewidth": 0,
             "ticks": ""
            },
            "type": "contourcarpet"
           }
          ],
          "heatmap": [
           {
            "colorbar": {
             "outlinewidth": 0,
             "ticks": ""
            },
            "colorscale": [
             [
              0,
              "#0d0887"
             ],
             [
              0.1111111111111111,
              "#46039f"
             ],
             [
              0.2222222222222222,
              "#7201a8"
             ],
             [
              0.3333333333333333,
              "#9c179e"
             ],
             [
              0.4444444444444444,
              "#bd3786"
             ],
             [
              0.5555555555555556,
              "#d8576b"
             ],
             [
              0.6666666666666666,
              "#ed7953"
             ],
             [
              0.7777777777777778,
              "#fb9f3a"
             ],
             [
              0.8888888888888888,
              "#fdca26"
             ],
             [
              1,
              "#f0f921"
             ]
            ],
            "type": "heatmap"
           }
          ],
          "heatmapgl": [
           {
            "colorbar": {
             "outlinewidth": 0,
             "ticks": ""
            },
            "colorscale": [
             [
              0,
              "#0d0887"
             ],
             [
              0.1111111111111111,
              "#46039f"
             ],
             [
              0.2222222222222222,
              "#7201a8"
             ],
             [
              0.3333333333333333,
              "#9c179e"
             ],
             [
              0.4444444444444444,
              "#bd3786"
             ],
             [
              0.5555555555555556,
              "#d8576b"
             ],
             [
              0.6666666666666666,
              "#ed7953"
             ],
             [
              0.7777777777777778,
              "#fb9f3a"
             ],
             [
              0.8888888888888888,
              "#fdca26"
             ],
             [
              1,
              "#f0f921"
             ]
            ],
            "type": "heatmapgl"
           }
          ],
          "histogram": [
           {
            "marker": {
             "colorbar": {
              "outlinewidth": 0,
              "ticks": ""
             }
            },
            "type": "histogram"
           }
          ],
          "histogram2d": [
           {
            "colorbar": {
             "outlinewidth": 0,
             "ticks": ""
            },
            "colorscale": [
             [
              0,
              "#0d0887"
             ],
             [
              0.1111111111111111,
              "#46039f"
             ],
             [
              0.2222222222222222,
              "#7201a8"
             ],
             [
              0.3333333333333333,
              "#9c179e"
             ],
             [
              0.4444444444444444,
              "#bd3786"
             ],
             [
              0.5555555555555556,
              "#d8576b"
             ],
             [
              0.6666666666666666,
              "#ed7953"
             ],
             [
              0.7777777777777778,
              "#fb9f3a"
             ],
             [
              0.8888888888888888,
              "#fdca26"
             ],
             [
              1,
              "#f0f921"
             ]
            ],
            "type": "histogram2d"
           }
          ],
          "histogram2dcontour": [
           {
            "colorbar": {
             "outlinewidth": 0,
             "ticks": ""
            },
            "colorscale": [
             [
              0,
              "#0d0887"
             ],
             [
              0.1111111111111111,
              "#46039f"
             ],
             [
              0.2222222222222222,
              "#7201a8"
             ],
             [
              0.3333333333333333,
              "#9c179e"
             ],
             [
              0.4444444444444444,
              "#bd3786"
             ],
             [
              0.5555555555555556,
              "#d8576b"
             ],
             [
              0.6666666666666666,
              "#ed7953"
             ],
             [
              0.7777777777777778,
              "#fb9f3a"
             ],
             [
              0.8888888888888888,
              "#fdca26"
             ],
             [
              1,
              "#f0f921"
             ]
            ],
            "type": "histogram2dcontour"
           }
          ],
          "mesh3d": [
           {
            "colorbar": {
             "outlinewidth": 0,
             "ticks": ""
            },
            "type": "mesh3d"
           }
          ],
          "parcoords": [
           {
            "line": {
             "colorbar": {
              "outlinewidth": 0,
              "ticks": ""
             }
            },
            "type": "parcoords"
           }
          ],
          "pie": [
           {
            "automargin": true,
            "type": "pie"
           }
          ],
          "scatter": [
           {
            "marker": {
             "colorbar": {
              "outlinewidth": 0,
              "ticks": ""
             }
            },
            "type": "scatter"
           }
          ],
          "scatter3d": [
           {
            "line": {
             "colorbar": {
              "outlinewidth": 0,
              "ticks": ""
             }
            },
            "marker": {
             "colorbar": {
              "outlinewidth": 0,
              "ticks": ""
             }
            },
            "type": "scatter3d"
           }
          ],
          "scattercarpet": [
           {
            "marker": {
             "colorbar": {
              "outlinewidth": 0,
              "ticks": ""
             }
            },
            "type": "scattercarpet"
           }
          ],
          "scattergeo": [
           {
            "marker": {
             "colorbar": {
              "outlinewidth": 0,
              "ticks": ""
             }
            },
            "type": "scattergeo"
           }
          ],
          "scattergl": [
           {
            "marker": {
             "colorbar": {
              "outlinewidth": 0,
              "ticks": ""
             }
            },
            "type": "scattergl"
           }
          ],
          "scattermapbox": [
           {
            "marker": {
             "colorbar": {
              "outlinewidth": 0,
              "ticks": ""
             }
            },
            "type": "scattermapbox"
           }
          ],
          "scatterpolar": [
           {
            "marker": {
             "colorbar": {
              "outlinewidth": 0,
              "ticks": ""
             }
            },
            "type": "scatterpolar"
           }
          ],
          "scatterpolargl": [
           {
            "marker": {
             "colorbar": {
              "outlinewidth": 0,
              "ticks": ""
             }
            },
            "type": "scatterpolargl"
           }
          ],
          "scatterternary": [
           {
            "marker": {
             "colorbar": {
              "outlinewidth": 0,
              "ticks": ""
             }
            },
            "type": "scatterternary"
           }
          ],
          "surface": [
           {
            "colorbar": {
             "outlinewidth": 0,
             "ticks": ""
            },
            "colorscale": [
             [
              0,
              "#0d0887"
             ],
             [
              0.1111111111111111,
              "#46039f"
             ],
             [
              0.2222222222222222,
              "#7201a8"
             ],
             [
              0.3333333333333333,
              "#9c179e"
             ],
             [
              0.4444444444444444,
              "#bd3786"
             ],
             [
              0.5555555555555556,
              "#d8576b"
             ],
             [
              0.6666666666666666,
              "#ed7953"
             ],
             [
              0.7777777777777778,
              "#fb9f3a"
             ],
             [
              0.8888888888888888,
              "#fdca26"
             ],
             [
              1,
              "#f0f921"
             ]
            ],
            "type": "surface"
           }
          ],
          "table": [
           {
            "cells": {
             "fill": {
              "color": "#EBF0F8"
             },
             "line": {
              "color": "white"
             }
            },
            "header": {
             "fill": {
              "color": "#C8D4E3"
             },
             "line": {
              "color": "white"
             }
            },
            "type": "table"
           }
          ]
         },
         "layout": {
          "annotationdefaults": {
           "arrowcolor": "#2a3f5f",
           "arrowhead": 0,
           "arrowwidth": 1
          },
          "coloraxis": {
           "colorbar": {
            "outlinewidth": 0,
            "ticks": ""
           }
          },
          "colorscale": {
           "diverging": [
            [
             0,
             "#8e0152"
            ],
            [
             0.1,
             "#c51b7d"
            ],
            [
             0.2,
             "#de77ae"
            ],
            [
             0.3,
             "#f1b6da"
            ],
            [
             0.4,
             "#fde0ef"
            ],
            [
             0.5,
             "#f7f7f7"
            ],
            [
             0.6,
             "#e6f5d0"
            ],
            [
             0.7,
             "#b8e186"
            ],
            [
             0.8,
             "#7fbc41"
            ],
            [
             0.9,
             "#4d9221"
            ],
            [
             1,
             "#276419"
            ]
           ],
           "sequential": [
            [
             0,
             "#0d0887"
            ],
            [
             0.1111111111111111,
             "#46039f"
            ],
            [
             0.2222222222222222,
             "#7201a8"
            ],
            [
             0.3333333333333333,
             "#9c179e"
            ],
            [
             0.4444444444444444,
             "#bd3786"
            ],
            [
             0.5555555555555556,
             "#d8576b"
            ],
            [
             0.6666666666666666,
             "#ed7953"
            ],
            [
             0.7777777777777778,
             "#fb9f3a"
            ],
            [
             0.8888888888888888,
             "#fdca26"
            ],
            [
             1,
             "#f0f921"
            ]
           ],
           "sequentialminus": [
            [
             0,
             "#0d0887"
            ],
            [
             0.1111111111111111,
             "#46039f"
            ],
            [
             0.2222222222222222,
             "#7201a8"
            ],
            [
             0.3333333333333333,
             "#9c179e"
            ],
            [
             0.4444444444444444,
             "#bd3786"
            ],
            [
             0.5555555555555556,
             "#d8576b"
            ],
            [
             0.6666666666666666,
             "#ed7953"
            ],
            [
             0.7777777777777778,
             "#fb9f3a"
            ],
            [
             0.8888888888888888,
             "#fdca26"
            ],
            [
             1,
             "#f0f921"
            ]
           ]
          },
          "colorway": [
           "#636efa",
           "#EF553B",
           "#00cc96",
           "#ab63fa",
           "#FFA15A",
           "#19d3f3",
           "#FF6692",
           "#B6E880",
           "#FF97FF",
           "#FECB52"
          ],
          "font": {
           "color": "#2a3f5f"
          },
          "geo": {
           "bgcolor": "white",
           "lakecolor": "white",
           "landcolor": "#E5ECF6",
           "showlakes": true,
           "showland": true,
           "subunitcolor": "white"
          },
          "hoverlabel": {
           "align": "left"
          },
          "hovermode": "closest",
          "mapbox": {
           "style": "light"
          },
          "paper_bgcolor": "white",
          "plot_bgcolor": "#E5ECF6",
          "polar": {
           "angularaxis": {
            "gridcolor": "white",
            "linecolor": "white",
            "ticks": ""
           },
           "bgcolor": "#E5ECF6",
           "radialaxis": {
            "gridcolor": "white",
            "linecolor": "white",
            "ticks": ""
           }
          },
          "scene": {
           "xaxis": {
            "backgroundcolor": "#E5ECF6",
            "gridcolor": "white",
            "gridwidth": 2,
            "linecolor": "white",
            "showbackground": true,
            "ticks": "",
            "zerolinecolor": "white"
           },
           "yaxis": {
            "backgroundcolor": "#E5ECF6",
            "gridcolor": "white",
            "gridwidth": 2,
            "linecolor": "white",
            "showbackground": true,
            "ticks": "",
            "zerolinecolor": "white"
           },
           "zaxis": {
            "backgroundcolor": "#E5ECF6",
            "gridcolor": "white",
            "gridwidth": 2,
            "linecolor": "white",
            "showbackground": true,
            "ticks": "",
            "zerolinecolor": "white"
           }
          },
          "shapedefaults": {
           "line": {
            "color": "#2a3f5f"
           }
          },
          "ternary": {
           "aaxis": {
            "gridcolor": "white",
            "linecolor": "white",
            "ticks": ""
           },
           "baxis": {
            "gridcolor": "white",
            "linecolor": "white",
            "ticks": ""
           },
           "bgcolor": "#E5ECF6",
           "caxis": {
            "gridcolor": "white",
            "linecolor": "white",
            "ticks": ""
           }
          },
          "title": {
           "x": 0.05
          },
          "xaxis": {
           "automargin": true,
           "gridcolor": "white",
           "linecolor": "white",
           "ticks": "",
           "title": {
            "standoff": 15
           },
           "zerolinecolor": "white",
           "zerolinewidth": 2
          },
          "yaxis": {
           "automargin": true,
           "gridcolor": "white",
           "linecolor": "white",
           "ticks": "",
           "title": {
            "standoff": 15
           },
           "zerolinecolor": "white",
           "zerolinewidth": 2
          }
         }
        }
       }
      },
      "text/html": [
       "<div>                            <div id=\"18927c93-4d2b-4584-8466-730ed49622b4\" class=\"plotly-graph-div\" style=\"height:525px; width:100%;\"></div>            <script type=\"text/javascript\">                require([\"plotly\"], function(Plotly) {                    window.PLOTLYENV=window.PLOTLYENV || {};                                    if (document.getElementById(\"18927c93-4d2b-4584-8466-730ed49622b4\")) {                    Plotly.newPlot(                        \"18927c93-4d2b-4584-8466-730ed49622b4\",                        [{\"hoverinfo\": \"label+percent\", \"labels\": [\"Negative\", \"Neutral\", \"Positive\"], \"marker\": {\"colors\": [\"Green\", \"yellow\", \"Red\"], \"line\": {\"color\": \"#000000\", \"width\": 2}}, \"textfont\": {\"size\": 20}, \"textinfo\": \"value\", \"type\": \"pie\", \"values\": [17, 9, 7]}],                        {\"template\": {\"data\": {\"bar\": [{\"error_x\": {\"color\": \"#2a3f5f\"}, \"error_y\": {\"color\": \"#2a3f5f\"}, \"marker\": {\"line\": {\"color\": \"#E5ECF6\", \"width\": 0.5}}, \"type\": \"bar\"}], \"barpolar\": [{\"marker\": {\"line\": {\"color\": \"#E5ECF6\", \"width\": 0.5}}, \"type\": \"barpolar\"}], \"carpet\": [{\"aaxis\": {\"endlinecolor\": \"#2a3f5f\", \"gridcolor\": \"white\", \"linecolor\": \"white\", \"minorgridcolor\": \"white\", \"startlinecolor\": \"#2a3f5f\"}, \"baxis\": {\"endlinecolor\": \"#2a3f5f\", \"gridcolor\": \"white\", \"linecolor\": \"white\", \"minorgridcolor\": \"white\", \"startlinecolor\": \"#2a3f5f\"}, \"type\": \"carpet\"}], \"choropleth\": [{\"colorbar\": {\"outlinewidth\": 0, \"ticks\": \"\"}, \"type\": \"choropleth\"}], \"contour\": [{\"colorbar\": {\"outlinewidth\": 0, \"ticks\": \"\"}, \"colorscale\": [[0.0, \"#0d0887\"], [0.1111111111111111, \"#46039f\"], [0.2222222222222222, \"#7201a8\"], [0.3333333333333333, \"#9c179e\"], [0.4444444444444444, \"#bd3786\"], [0.5555555555555556, \"#d8576b\"], [0.6666666666666666, \"#ed7953\"], [0.7777777777777778, \"#fb9f3a\"], [0.8888888888888888, \"#fdca26\"], [1.0, \"#f0f921\"]], \"type\": \"contour\"}], \"contourcarpet\": [{\"colorbar\": {\"outlinewidth\": 0, \"ticks\": \"\"}, \"type\": \"contourcarpet\"}], \"heatmap\": [{\"colorbar\": {\"outlinewidth\": 0, \"ticks\": \"\"}, \"colorscale\": [[0.0, \"#0d0887\"], [0.1111111111111111, \"#46039f\"], [0.2222222222222222, \"#7201a8\"], [0.3333333333333333, \"#9c179e\"], [0.4444444444444444, \"#bd3786\"], [0.5555555555555556, \"#d8576b\"], [0.6666666666666666, \"#ed7953\"], [0.7777777777777778, \"#fb9f3a\"], [0.8888888888888888, \"#fdca26\"], [1.0, \"#f0f921\"]], \"type\": \"heatmap\"}], \"heatmapgl\": [{\"colorbar\": {\"outlinewidth\": 0, \"ticks\": \"\"}, \"colorscale\": [[0.0, \"#0d0887\"], [0.1111111111111111, \"#46039f\"], [0.2222222222222222, \"#7201a8\"], [0.3333333333333333, \"#9c179e\"], [0.4444444444444444, \"#bd3786\"], [0.5555555555555556, \"#d8576b\"], [0.6666666666666666, \"#ed7953\"], [0.7777777777777778, \"#fb9f3a\"], [0.8888888888888888, \"#fdca26\"], [1.0, \"#f0f921\"]], \"type\": \"heatmapgl\"}], \"histogram\": [{\"marker\": {\"colorbar\": {\"outlinewidth\": 0, \"ticks\": \"\"}}, \"type\": \"histogram\"}], \"histogram2d\": [{\"colorbar\": {\"outlinewidth\": 0, \"ticks\": \"\"}, \"colorscale\": [[0.0, \"#0d0887\"], [0.1111111111111111, \"#46039f\"], [0.2222222222222222, \"#7201a8\"], [0.3333333333333333, \"#9c179e\"], [0.4444444444444444, \"#bd3786\"], [0.5555555555555556, \"#d8576b\"], [0.6666666666666666, \"#ed7953\"], [0.7777777777777778, \"#fb9f3a\"], [0.8888888888888888, \"#fdca26\"], [1.0, \"#f0f921\"]], \"type\": \"histogram2d\"}], \"histogram2dcontour\": [{\"colorbar\": {\"outlinewidth\": 0, \"ticks\": \"\"}, \"colorscale\": [[0.0, \"#0d0887\"], [0.1111111111111111, \"#46039f\"], [0.2222222222222222, \"#7201a8\"], [0.3333333333333333, \"#9c179e\"], [0.4444444444444444, \"#bd3786\"], [0.5555555555555556, \"#d8576b\"], [0.6666666666666666, \"#ed7953\"], [0.7777777777777778, \"#fb9f3a\"], [0.8888888888888888, \"#fdca26\"], [1.0, \"#f0f921\"]], \"type\": \"histogram2dcontour\"}], \"mesh3d\": [{\"colorbar\": {\"outlinewidth\": 0, \"ticks\": \"\"}, \"type\": \"mesh3d\"}], \"parcoords\": [{\"line\": {\"colorbar\": {\"outlinewidth\": 0, \"ticks\": \"\"}}, \"type\": \"parcoords\"}], \"pie\": [{\"automargin\": true, \"type\": \"pie\"}], \"scatter\": [{\"marker\": {\"colorbar\": {\"outlinewidth\": 0, \"ticks\": \"\"}}, \"type\": \"scatter\"}], \"scatter3d\": [{\"line\": {\"colorbar\": {\"outlinewidth\": 0, \"ticks\": \"\"}}, \"marker\": {\"colorbar\": {\"outlinewidth\": 0, \"ticks\": \"\"}}, \"type\": \"scatter3d\"}], \"scattercarpet\": [{\"marker\": {\"colorbar\": {\"outlinewidth\": 0, \"ticks\": \"\"}}, \"type\": \"scattercarpet\"}], \"scattergeo\": [{\"marker\": {\"colorbar\": {\"outlinewidth\": 0, \"ticks\": \"\"}}, \"type\": \"scattergeo\"}], \"scattergl\": [{\"marker\": {\"colorbar\": {\"outlinewidth\": 0, \"ticks\": \"\"}}, \"type\": \"scattergl\"}], \"scattermapbox\": [{\"marker\": {\"colorbar\": {\"outlinewidth\": 0, \"ticks\": \"\"}}, \"type\": \"scattermapbox\"}], \"scatterpolar\": [{\"marker\": {\"colorbar\": {\"outlinewidth\": 0, \"ticks\": \"\"}}, \"type\": \"scatterpolar\"}], \"scatterpolargl\": [{\"marker\": {\"colorbar\": {\"outlinewidth\": 0, \"ticks\": \"\"}}, \"type\": \"scatterpolargl\"}], \"scatterternary\": [{\"marker\": {\"colorbar\": {\"outlinewidth\": 0, \"ticks\": \"\"}}, \"type\": \"scatterternary\"}], \"surface\": [{\"colorbar\": {\"outlinewidth\": 0, \"ticks\": \"\"}, \"colorscale\": [[0.0, \"#0d0887\"], [0.1111111111111111, \"#46039f\"], [0.2222222222222222, \"#7201a8\"], [0.3333333333333333, \"#9c179e\"], [0.4444444444444444, \"#bd3786\"], [0.5555555555555556, \"#d8576b\"], [0.6666666666666666, \"#ed7953\"], [0.7777777777777778, \"#fb9f3a\"], [0.8888888888888888, \"#fdca26\"], [1.0, \"#f0f921\"]], \"type\": \"surface\"}], \"table\": [{\"cells\": {\"fill\": {\"color\": \"#EBF0F8\"}, \"line\": {\"color\": \"white\"}}, \"header\": {\"fill\": {\"color\": \"#C8D4E3\"}, \"line\": {\"color\": \"white\"}}, \"type\": \"table\"}]}, \"layout\": {\"annotationdefaults\": {\"arrowcolor\": \"#2a3f5f\", \"arrowhead\": 0, \"arrowwidth\": 1}, \"coloraxis\": {\"colorbar\": {\"outlinewidth\": 0, \"ticks\": \"\"}}, \"colorscale\": {\"diverging\": [[0, \"#8e0152\"], [0.1, \"#c51b7d\"], [0.2, \"#de77ae\"], [0.3, \"#f1b6da\"], [0.4, \"#fde0ef\"], [0.5, \"#f7f7f7\"], [0.6, \"#e6f5d0\"], [0.7, \"#b8e186\"], [0.8, \"#7fbc41\"], [0.9, \"#4d9221\"], [1, \"#276419\"]], \"sequential\": [[0.0, \"#0d0887\"], [0.1111111111111111, \"#46039f\"], [0.2222222222222222, \"#7201a8\"], [0.3333333333333333, \"#9c179e\"], [0.4444444444444444, \"#bd3786\"], [0.5555555555555556, \"#d8576b\"], [0.6666666666666666, \"#ed7953\"], [0.7777777777777778, \"#fb9f3a\"], [0.8888888888888888, \"#fdca26\"], [1.0, \"#f0f921\"]], \"sequentialminus\": [[0.0, \"#0d0887\"], [0.1111111111111111, \"#46039f\"], [0.2222222222222222, \"#7201a8\"], [0.3333333333333333, \"#9c179e\"], [0.4444444444444444, \"#bd3786\"], [0.5555555555555556, \"#d8576b\"], [0.6666666666666666, \"#ed7953\"], [0.7777777777777778, \"#fb9f3a\"], [0.8888888888888888, \"#fdca26\"], [1.0, \"#f0f921\"]]}, \"colorway\": [\"#636efa\", \"#EF553B\", \"#00cc96\", \"#ab63fa\", \"#FFA15A\", \"#19d3f3\", \"#FF6692\", \"#B6E880\", \"#FF97FF\", \"#FECB52\"], \"font\": {\"color\": \"#2a3f5f\"}, \"geo\": {\"bgcolor\": \"white\", \"lakecolor\": \"white\", \"landcolor\": \"#E5ECF6\", \"showlakes\": true, \"showland\": true, \"subunitcolor\": \"white\"}, \"hoverlabel\": {\"align\": \"left\"}, \"hovermode\": \"closest\", \"mapbox\": {\"style\": \"light\"}, \"paper_bgcolor\": \"white\", \"plot_bgcolor\": \"#E5ECF6\", \"polar\": {\"angularaxis\": {\"gridcolor\": \"white\", \"linecolor\": \"white\", \"ticks\": \"\"}, \"bgcolor\": \"#E5ECF6\", \"radialaxis\": {\"gridcolor\": \"white\", \"linecolor\": \"white\", \"ticks\": \"\"}}, \"scene\": {\"xaxis\": {\"backgroundcolor\": \"#E5ECF6\", \"gridcolor\": \"white\", \"gridwidth\": 2, \"linecolor\": \"white\", \"showbackground\": true, \"ticks\": \"\", \"zerolinecolor\": \"white\"}, \"yaxis\": {\"backgroundcolor\": \"#E5ECF6\", \"gridcolor\": \"white\", \"gridwidth\": 2, \"linecolor\": \"white\", \"showbackground\": true, \"ticks\": \"\", \"zerolinecolor\": \"white\"}, \"zaxis\": {\"backgroundcolor\": \"#E5ECF6\", \"gridcolor\": \"white\", \"gridwidth\": 2, \"linecolor\": \"white\", \"showbackground\": true, \"ticks\": \"\", \"zerolinecolor\": \"white\"}}, \"shapedefaults\": {\"line\": {\"color\": \"#2a3f5f\"}}, \"ternary\": {\"aaxis\": {\"gridcolor\": \"white\", \"linecolor\": \"white\", \"ticks\": \"\"}, \"baxis\": {\"gridcolor\": \"white\", \"linecolor\": \"white\", \"ticks\": \"\"}, \"bgcolor\": \"#E5ECF6\", \"caxis\": {\"gridcolor\": \"white\", \"linecolor\": \"white\", \"ticks\": \"\"}}, \"title\": {\"x\": 0.05}, \"xaxis\": {\"automargin\": true, \"gridcolor\": \"white\", \"linecolor\": \"white\", \"ticks\": \"\", \"title\": {\"standoff\": 15}, \"zerolinecolor\": \"white\", \"zerolinewidth\": 2}, \"yaxis\": {\"automargin\": true, \"gridcolor\": \"white\", \"linecolor\": \"white\", \"ticks\": \"\", \"title\": {\"standoff\": 15}, \"zerolinecolor\": \"white\", \"zerolinewidth\": 2}}}},                        {\"responsive\": true}                    ).then(function(){\n",
       "                            \n",
       "var gd = document.getElementById('18927c93-4d2b-4584-8466-730ed49622b4');\n",
       "var x = new MutationObserver(function (mutations, observer) {{\n",
       "        var display = window.getComputedStyle(gd).display;\n",
       "        if (!display || display === 'none') {{\n",
       "            console.log([gd, 'removed!']);\n",
       "            Plotly.purge(gd);\n",
       "            observer.disconnect();\n",
       "        }}\n",
       "}});\n",
       "\n",
       "// Listen for the removal of the full notebook cells\n",
       "var notebookContainer = gd.closest('#notebook-container');\n",
       "if (notebookContainer) {{\n",
       "    x.observe(notebookContainer, {childList: true});\n",
       "}}\n",
       "\n",
       "// Listen for the clearing of the current output cell\n",
       "var outputEl = gd.closest('.output');\n",
       "if (outputEl) {{\n",
       "    x.observe(outputEl, {childList: true});\n",
       "}}\n",
       "\n",
       "                        })                };                });            </script>        </div>"
      ]
     },
     "metadata": {},
     "output_type": "display_data"
    }
   ],
   "source": [
    "df_hour = df_netflix[(df_netflix['day']==14) & (df_netflix['hour']==14)]\n",
    "labels = ['Negative','Neutral','Positive']\n",
    "values = list(df_hour['Sentiment'].value_counts().values)\n",
    "\n",
    "colors = ['Green', 'yellow', 'Red']\n",
    "fig = go.Figure(data=[go.Pie(labels=labels, values=values)])\n",
    "fig.update_traces(hoverinfo='label+percent', textinfo='value', textfont_size=20,\n",
    "                  marker=dict(colors=colors, line=dict(color='#000000', width=2)))\n",
    "fig.show()"
   ]
  },
  {
   "cell_type": "code",
   "execution_count": 27,
   "metadata": {
    "ExecuteTime": {
     "end_time": "2021-07-16T14:47:50.309033Z",
     "start_time": "2021-07-16T14:47:50.306402Z"
    }
   },
   "outputs": [],
   "source": [
    "def sentiment_hour(df, day):\n",
    "    df_day = df[df['day']==day]\n",
    "    labels = ['Postive','Neutral','Negative']\n",
    "    values = list(df_day['Sentiment'].value_counts().values)\n",
    "    colors = ['Green', 'yellow', 'Red']\n",
    "    \n",
    "    fig = go.Figure(data=[go.Pie(labels=labels, values=values)])\n",
    "    fig.update_traces(hoverinfo='label+percent', textinfo='value', textfont_size=20,\n",
    "                      marker=dict(colors=colors, line=dict(color='#000000', width=2)))\n",
    "    fig.show()"
   ]
  },
  {
   "cell_type": "code",
   "execution_count": 28,
   "metadata": {
    "ExecuteTime": {
     "end_time": "2021-07-16T14:47:50.317315Z",
     "start_time": "2021-07-16T14:47:50.309904Z"
    }
   },
   "outputs": [
    {
     "data": {
      "application/vnd.plotly.v1+json": {
       "config": {
        "plotlyServerURL": "https://plot.ly"
       },
       "data": [
        {
         "hoverinfo": "label+percent",
         "labels": [
          "Postive",
          "Neutral",
          "Negative"
         ],
         "marker": {
          "colors": [
           "Green",
           "yellow",
           "Red"
          ],
          "line": {
           "color": "#000000",
           "width": 2
          }
         },
         "textfont": {
          "size": 20
         },
         "textinfo": "value",
         "type": "pie",
         "values": [
          114,
          50,
          36
         ]
        }
       ],
       "layout": {
        "template": {
         "data": {
          "bar": [
           {
            "error_x": {
             "color": "#2a3f5f"
            },
            "error_y": {
             "color": "#2a3f5f"
            },
            "marker": {
             "line": {
              "color": "#E5ECF6",
              "width": 0.5
             }
            },
            "type": "bar"
           }
          ],
          "barpolar": [
           {
            "marker": {
             "line": {
              "color": "#E5ECF6",
              "width": 0.5
             }
            },
            "type": "barpolar"
           }
          ],
          "carpet": [
           {
            "aaxis": {
             "endlinecolor": "#2a3f5f",
             "gridcolor": "white",
             "linecolor": "white",
             "minorgridcolor": "white",
             "startlinecolor": "#2a3f5f"
            },
            "baxis": {
             "endlinecolor": "#2a3f5f",
             "gridcolor": "white",
             "linecolor": "white",
             "minorgridcolor": "white",
             "startlinecolor": "#2a3f5f"
            },
            "type": "carpet"
           }
          ],
          "choropleth": [
           {
            "colorbar": {
             "outlinewidth": 0,
             "ticks": ""
            },
            "type": "choropleth"
           }
          ],
          "contour": [
           {
            "colorbar": {
             "outlinewidth": 0,
             "ticks": ""
            },
            "colorscale": [
             [
              0,
              "#0d0887"
             ],
             [
              0.1111111111111111,
              "#46039f"
             ],
             [
              0.2222222222222222,
              "#7201a8"
             ],
             [
              0.3333333333333333,
              "#9c179e"
             ],
             [
              0.4444444444444444,
              "#bd3786"
             ],
             [
              0.5555555555555556,
              "#d8576b"
             ],
             [
              0.6666666666666666,
              "#ed7953"
             ],
             [
              0.7777777777777778,
              "#fb9f3a"
             ],
             [
              0.8888888888888888,
              "#fdca26"
             ],
             [
              1,
              "#f0f921"
             ]
            ],
            "type": "contour"
           }
          ],
          "contourcarpet": [
           {
            "colorbar": {
             "outlinewidth": 0,
             "ticks": ""
            },
            "type": "contourcarpet"
           }
          ],
          "heatmap": [
           {
            "colorbar": {
             "outlinewidth": 0,
             "ticks": ""
            },
            "colorscale": [
             [
              0,
              "#0d0887"
             ],
             [
              0.1111111111111111,
              "#46039f"
             ],
             [
              0.2222222222222222,
              "#7201a8"
             ],
             [
              0.3333333333333333,
              "#9c179e"
             ],
             [
              0.4444444444444444,
              "#bd3786"
             ],
             [
              0.5555555555555556,
              "#d8576b"
             ],
             [
              0.6666666666666666,
              "#ed7953"
             ],
             [
              0.7777777777777778,
              "#fb9f3a"
             ],
             [
              0.8888888888888888,
              "#fdca26"
             ],
             [
              1,
              "#f0f921"
             ]
            ],
            "type": "heatmap"
           }
          ],
          "heatmapgl": [
           {
            "colorbar": {
             "outlinewidth": 0,
             "ticks": ""
            },
            "colorscale": [
             [
              0,
              "#0d0887"
             ],
             [
              0.1111111111111111,
              "#46039f"
             ],
             [
              0.2222222222222222,
              "#7201a8"
             ],
             [
              0.3333333333333333,
              "#9c179e"
             ],
             [
              0.4444444444444444,
              "#bd3786"
             ],
             [
              0.5555555555555556,
              "#d8576b"
             ],
             [
              0.6666666666666666,
              "#ed7953"
             ],
             [
              0.7777777777777778,
              "#fb9f3a"
             ],
             [
              0.8888888888888888,
              "#fdca26"
             ],
             [
              1,
              "#f0f921"
             ]
            ],
            "type": "heatmapgl"
           }
          ],
          "histogram": [
           {
            "marker": {
             "colorbar": {
              "outlinewidth": 0,
              "ticks": ""
             }
            },
            "type": "histogram"
           }
          ],
          "histogram2d": [
           {
            "colorbar": {
             "outlinewidth": 0,
             "ticks": ""
            },
            "colorscale": [
             [
              0,
              "#0d0887"
             ],
             [
              0.1111111111111111,
              "#46039f"
             ],
             [
              0.2222222222222222,
              "#7201a8"
             ],
             [
              0.3333333333333333,
              "#9c179e"
             ],
             [
              0.4444444444444444,
              "#bd3786"
             ],
             [
              0.5555555555555556,
              "#d8576b"
             ],
             [
              0.6666666666666666,
              "#ed7953"
             ],
             [
              0.7777777777777778,
              "#fb9f3a"
             ],
             [
              0.8888888888888888,
              "#fdca26"
             ],
             [
              1,
              "#f0f921"
             ]
            ],
            "type": "histogram2d"
           }
          ],
          "histogram2dcontour": [
           {
            "colorbar": {
             "outlinewidth": 0,
             "ticks": ""
            },
            "colorscale": [
             [
              0,
              "#0d0887"
             ],
             [
              0.1111111111111111,
              "#46039f"
             ],
             [
              0.2222222222222222,
              "#7201a8"
             ],
             [
              0.3333333333333333,
              "#9c179e"
             ],
             [
              0.4444444444444444,
              "#bd3786"
             ],
             [
              0.5555555555555556,
              "#d8576b"
             ],
             [
              0.6666666666666666,
              "#ed7953"
             ],
             [
              0.7777777777777778,
              "#fb9f3a"
             ],
             [
              0.8888888888888888,
              "#fdca26"
             ],
             [
              1,
              "#f0f921"
             ]
            ],
            "type": "histogram2dcontour"
           }
          ],
          "mesh3d": [
           {
            "colorbar": {
             "outlinewidth": 0,
             "ticks": ""
            },
            "type": "mesh3d"
           }
          ],
          "parcoords": [
           {
            "line": {
             "colorbar": {
              "outlinewidth": 0,
              "ticks": ""
             }
            },
            "type": "parcoords"
           }
          ],
          "pie": [
           {
            "automargin": true,
            "type": "pie"
           }
          ],
          "scatter": [
           {
            "marker": {
             "colorbar": {
              "outlinewidth": 0,
              "ticks": ""
             }
            },
            "type": "scatter"
           }
          ],
          "scatter3d": [
           {
            "line": {
             "colorbar": {
              "outlinewidth": 0,
              "ticks": ""
             }
            },
            "marker": {
             "colorbar": {
              "outlinewidth": 0,
              "ticks": ""
             }
            },
            "type": "scatter3d"
           }
          ],
          "scattercarpet": [
           {
            "marker": {
             "colorbar": {
              "outlinewidth": 0,
              "ticks": ""
             }
            },
            "type": "scattercarpet"
           }
          ],
          "scattergeo": [
           {
            "marker": {
             "colorbar": {
              "outlinewidth": 0,
              "ticks": ""
             }
            },
            "type": "scattergeo"
           }
          ],
          "scattergl": [
           {
            "marker": {
             "colorbar": {
              "outlinewidth": 0,
              "ticks": ""
             }
            },
            "type": "scattergl"
           }
          ],
          "scattermapbox": [
           {
            "marker": {
             "colorbar": {
              "outlinewidth": 0,
              "ticks": ""
             }
            },
            "type": "scattermapbox"
           }
          ],
          "scatterpolar": [
           {
            "marker": {
             "colorbar": {
              "outlinewidth": 0,
              "ticks": ""
             }
            },
            "type": "scatterpolar"
           }
          ],
          "scatterpolargl": [
           {
            "marker": {
             "colorbar": {
              "outlinewidth": 0,
              "ticks": ""
             }
            },
            "type": "scatterpolargl"
           }
          ],
          "scatterternary": [
           {
            "marker": {
             "colorbar": {
              "outlinewidth": 0,
              "ticks": ""
             }
            },
            "type": "scatterternary"
           }
          ],
          "surface": [
           {
            "colorbar": {
             "outlinewidth": 0,
             "ticks": ""
            },
            "colorscale": [
             [
              0,
              "#0d0887"
             ],
             [
              0.1111111111111111,
              "#46039f"
             ],
             [
              0.2222222222222222,
              "#7201a8"
             ],
             [
              0.3333333333333333,
              "#9c179e"
             ],
             [
              0.4444444444444444,
              "#bd3786"
             ],
             [
              0.5555555555555556,
              "#d8576b"
             ],
             [
              0.6666666666666666,
              "#ed7953"
             ],
             [
              0.7777777777777778,
              "#fb9f3a"
             ],
             [
              0.8888888888888888,
              "#fdca26"
             ],
             [
              1,
              "#f0f921"
             ]
            ],
            "type": "surface"
           }
          ],
          "table": [
           {
            "cells": {
             "fill": {
              "color": "#EBF0F8"
             },
             "line": {
              "color": "white"
             }
            },
            "header": {
             "fill": {
              "color": "#C8D4E3"
             },
             "line": {
              "color": "white"
             }
            },
            "type": "table"
           }
          ]
         },
         "layout": {
          "annotationdefaults": {
           "arrowcolor": "#2a3f5f",
           "arrowhead": 0,
           "arrowwidth": 1
          },
          "coloraxis": {
           "colorbar": {
            "outlinewidth": 0,
            "ticks": ""
           }
          },
          "colorscale": {
           "diverging": [
            [
             0,
             "#8e0152"
            ],
            [
             0.1,
             "#c51b7d"
            ],
            [
             0.2,
             "#de77ae"
            ],
            [
             0.3,
             "#f1b6da"
            ],
            [
             0.4,
             "#fde0ef"
            ],
            [
             0.5,
             "#f7f7f7"
            ],
            [
             0.6,
             "#e6f5d0"
            ],
            [
             0.7,
             "#b8e186"
            ],
            [
             0.8,
             "#7fbc41"
            ],
            [
             0.9,
             "#4d9221"
            ],
            [
             1,
             "#276419"
            ]
           ],
           "sequential": [
            [
             0,
             "#0d0887"
            ],
            [
             0.1111111111111111,
             "#46039f"
            ],
            [
             0.2222222222222222,
             "#7201a8"
            ],
            [
             0.3333333333333333,
             "#9c179e"
            ],
            [
             0.4444444444444444,
             "#bd3786"
            ],
            [
             0.5555555555555556,
             "#d8576b"
            ],
            [
             0.6666666666666666,
             "#ed7953"
            ],
            [
             0.7777777777777778,
             "#fb9f3a"
            ],
            [
             0.8888888888888888,
             "#fdca26"
            ],
            [
             1,
             "#f0f921"
            ]
           ],
           "sequentialminus": [
            [
             0,
             "#0d0887"
            ],
            [
             0.1111111111111111,
             "#46039f"
            ],
            [
             0.2222222222222222,
             "#7201a8"
            ],
            [
             0.3333333333333333,
             "#9c179e"
            ],
            [
             0.4444444444444444,
             "#bd3786"
            ],
            [
             0.5555555555555556,
             "#d8576b"
            ],
            [
             0.6666666666666666,
             "#ed7953"
            ],
            [
             0.7777777777777778,
             "#fb9f3a"
            ],
            [
             0.8888888888888888,
             "#fdca26"
            ],
            [
             1,
             "#f0f921"
            ]
           ]
          },
          "colorway": [
           "#636efa",
           "#EF553B",
           "#00cc96",
           "#ab63fa",
           "#FFA15A",
           "#19d3f3",
           "#FF6692",
           "#B6E880",
           "#FF97FF",
           "#FECB52"
          ],
          "font": {
           "color": "#2a3f5f"
          },
          "geo": {
           "bgcolor": "white",
           "lakecolor": "white",
           "landcolor": "#E5ECF6",
           "showlakes": true,
           "showland": true,
           "subunitcolor": "white"
          },
          "hoverlabel": {
           "align": "left"
          },
          "hovermode": "closest",
          "mapbox": {
           "style": "light"
          },
          "paper_bgcolor": "white",
          "plot_bgcolor": "#E5ECF6",
          "polar": {
           "angularaxis": {
            "gridcolor": "white",
            "linecolor": "white",
            "ticks": ""
           },
           "bgcolor": "#E5ECF6",
           "radialaxis": {
            "gridcolor": "white",
            "linecolor": "white",
            "ticks": ""
           }
          },
          "scene": {
           "xaxis": {
            "backgroundcolor": "#E5ECF6",
            "gridcolor": "white",
            "gridwidth": 2,
            "linecolor": "white",
            "showbackground": true,
            "ticks": "",
            "zerolinecolor": "white"
           },
           "yaxis": {
            "backgroundcolor": "#E5ECF6",
            "gridcolor": "white",
            "gridwidth": 2,
            "linecolor": "white",
            "showbackground": true,
            "ticks": "",
            "zerolinecolor": "white"
           },
           "zaxis": {
            "backgroundcolor": "#E5ECF6",
            "gridcolor": "white",
            "gridwidth": 2,
            "linecolor": "white",
            "showbackground": true,
            "ticks": "",
            "zerolinecolor": "white"
           }
          },
          "shapedefaults": {
           "line": {
            "color": "#2a3f5f"
           }
          },
          "ternary": {
           "aaxis": {
            "gridcolor": "white",
            "linecolor": "white",
            "ticks": ""
           },
           "baxis": {
            "gridcolor": "white",
            "linecolor": "white",
            "ticks": ""
           },
           "bgcolor": "#E5ECF6",
           "caxis": {
            "gridcolor": "white",
            "linecolor": "white",
            "ticks": ""
           }
          },
          "title": {
           "x": 0.05
          },
          "xaxis": {
           "automargin": true,
           "gridcolor": "white",
           "linecolor": "white",
           "ticks": "",
           "title": {
            "standoff": 15
           },
           "zerolinecolor": "white",
           "zerolinewidth": 2
          },
          "yaxis": {
           "automargin": true,
           "gridcolor": "white",
           "linecolor": "white",
           "ticks": "",
           "title": {
            "standoff": 15
           },
           "zerolinecolor": "white",
           "zerolinewidth": 2
          }
         }
        }
       }
      },
      "text/html": [
       "<div>                            <div id=\"9cacae32-57be-4ed0-96c9-f72d1d25328f\" class=\"plotly-graph-div\" style=\"height:525px; width:100%;\"></div>            <script type=\"text/javascript\">                require([\"plotly\"], function(Plotly) {                    window.PLOTLYENV=window.PLOTLYENV || {};                                    if (document.getElementById(\"9cacae32-57be-4ed0-96c9-f72d1d25328f\")) {                    Plotly.newPlot(                        \"9cacae32-57be-4ed0-96c9-f72d1d25328f\",                        [{\"hoverinfo\": \"label+percent\", \"labels\": [\"Postive\", \"Neutral\", \"Negative\"], \"marker\": {\"colors\": [\"Green\", \"yellow\", \"Red\"], \"line\": {\"color\": \"#000000\", \"width\": 2}}, \"textfont\": {\"size\": 20}, \"textinfo\": \"value\", \"type\": \"pie\", \"values\": [114, 50, 36]}],                        {\"template\": {\"data\": {\"bar\": [{\"error_x\": {\"color\": \"#2a3f5f\"}, \"error_y\": {\"color\": \"#2a3f5f\"}, \"marker\": {\"line\": {\"color\": \"#E5ECF6\", \"width\": 0.5}}, \"type\": \"bar\"}], \"barpolar\": [{\"marker\": {\"line\": {\"color\": \"#E5ECF6\", \"width\": 0.5}}, \"type\": \"barpolar\"}], \"carpet\": [{\"aaxis\": {\"endlinecolor\": \"#2a3f5f\", \"gridcolor\": \"white\", \"linecolor\": \"white\", \"minorgridcolor\": \"white\", \"startlinecolor\": \"#2a3f5f\"}, \"baxis\": {\"endlinecolor\": \"#2a3f5f\", \"gridcolor\": \"white\", \"linecolor\": \"white\", \"minorgridcolor\": \"white\", \"startlinecolor\": \"#2a3f5f\"}, \"type\": \"carpet\"}], \"choropleth\": [{\"colorbar\": {\"outlinewidth\": 0, \"ticks\": \"\"}, \"type\": \"choropleth\"}], \"contour\": [{\"colorbar\": {\"outlinewidth\": 0, \"ticks\": \"\"}, \"colorscale\": [[0.0, \"#0d0887\"], [0.1111111111111111, \"#46039f\"], [0.2222222222222222, \"#7201a8\"], [0.3333333333333333, \"#9c179e\"], [0.4444444444444444, \"#bd3786\"], [0.5555555555555556, \"#d8576b\"], [0.6666666666666666, \"#ed7953\"], [0.7777777777777778, \"#fb9f3a\"], [0.8888888888888888, \"#fdca26\"], [1.0, \"#f0f921\"]], \"type\": \"contour\"}], \"contourcarpet\": [{\"colorbar\": {\"outlinewidth\": 0, \"ticks\": \"\"}, \"type\": \"contourcarpet\"}], \"heatmap\": [{\"colorbar\": {\"outlinewidth\": 0, \"ticks\": \"\"}, \"colorscale\": [[0.0, \"#0d0887\"], [0.1111111111111111, \"#46039f\"], [0.2222222222222222, \"#7201a8\"], [0.3333333333333333, \"#9c179e\"], [0.4444444444444444, \"#bd3786\"], [0.5555555555555556, \"#d8576b\"], [0.6666666666666666, \"#ed7953\"], [0.7777777777777778, \"#fb9f3a\"], [0.8888888888888888, \"#fdca26\"], [1.0, \"#f0f921\"]], \"type\": \"heatmap\"}], \"heatmapgl\": [{\"colorbar\": {\"outlinewidth\": 0, \"ticks\": \"\"}, \"colorscale\": [[0.0, \"#0d0887\"], [0.1111111111111111, \"#46039f\"], [0.2222222222222222, \"#7201a8\"], [0.3333333333333333, \"#9c179e\"], [0.4444444444444444, \"#bd3786\"], [0.5555555555555556, \"#d8576b\"], [0.6666666666666666, \"#ed7953\"], [0.7777777777777778, \"#fb9f3a\"], [0.8888888888888888, \"#fdca26\"], [1.0, \"#f0f921\"]], \"type\": \"heatmapgl\"}], \"histogram\": [{\"marker\": {\"colorbar\": {\"outlinewidth\": 0, \"ticks\": \"\"}}, \"type\": \"histogram\"}], \"histogram2d\": [{\"colorbar\": {\"outlinewidth\": 0, \"ticks\": \"\"}, \"colorscale\": [[0.0, \"#0d0887\"], [0.1111111111111111, \"#46039f\"], [0.2222222222222222, \"#7201a8\"], [0.3333333333333333, \"#9c179e\"], [0.4444444444444444, \"#bd3786\"], [0.5555555555555556, \"#d8576b\"], [0.6666666666666666, \"#ed7953\"], [0.7777777777777778, \"#fb9f3a\"], [0.8888888888888888, \"#fdca26\"], [1.0, \"#f0f921\"]], \"type\": \"histogram2d\"}], \"histogram2dcontour\": [{\"colorbar\": {\"outlinewidth\": 0, \"ticks\": \"\"}, \"colorscale\": [[0.0, \"#0d0887\"], [0.1111111111111111, \"#46039f\"], [0.2222222222222222, \"#7201a8\"], [0.3333333333333333, \"#9c179e\"], [0.4444444444444444, \"#bd3786\"], [0.5555555555555556, \"#d8576b\"], [0.6666666666666666, \"#ed7953\"], [0.7777777777777778, \"#fb9f3a\"], [0.8888888888888888, \"#fdca26\"], [1.0, \"#f0f921\"]], \"type\": \"histogram2dcontour\"}], \"mesh3d\": [{\"colorbar\": {\"outlinewidth\": 0, \"ticks\": \"\"}, \"type\": \"mesh3d\"}], \"parcoords\": [{\"line\": {\"colorbar\": {\"outlinewidth\": 0, \"ticks\": \"\"}}, \"type\": \"parcoords\"}], \"pie\": [{\"automargin\": true, \"type\": \"pie\"}], \"scatter\": [{\"marker\": {\"colorbar\": {\"outlinewidth\": 0, \"ticks\": \"\"}}, \"type\": \"scatter\"}], \"scatter3d\": [{\"line\": {\"colorbar\": {\"outlinewidth\": 0, \"ticks\": \"\"}}, \"marker\": {\"colorbar\": {\"outlinewidth\": 0, \"ticks\": \"\"}}, \"type\": \"scatter3d\"}], \"scattercarpet\": [{\"marker\": {\"colorbar\": {\"outlinewidth\": 0, \"ticks\": \"\"}}, \"type\": \"scattercarpet\"}], \"scattergeo\": [{\"marker\": {\"colorbar\": {\"outlinewidth\": 0, \"ticks\": \"\"}}, \"type\": \"scattergeo\"}], \"scattergl\": [{\"marker\": {\"colorbar\": {\"outlinewidth\": 0, \"ticks\": \"\"}}, \"type\": \"scattergl\"}], \"scattermapbox\": [{\"marker\": {\"colorbar\": {\"outlinewidth\": 0, \"ticks\": \"\"}}, \"type\": \"scattermapbox\"}], \"scatterpolar\": [{\"marker\": {\"colorbar\": {\"outlinewidth\": 0, \"ticks\": \"\"}}, \"type\": \"scatterpolar\"}], \"scatterpolargl\": [{\"marker\": {\"colorbar\": {\"outlinewidth\": 0, \"ticks\": \"\"}}, \"type\": \"scatterpolargl\"}], \"scatterternary\": [{\"marker\": {\"colorbar\": {\"outlinewidth\": 0, \"ticks\": \"\"}}, \"type\": \"scatterternary\"}], \"surface\": [{\"colorbar\": {\"outlinewidth\": 0, \"ticks\": \"\"}, \"colorscale\": [[0.0, \"#0d0887\"], [0.1111111111111111, \"#46039f\"], [0.2222222222222222, \"#7201a8\"], [0.3333333333333333, \"#9c179e\"], [0.4444444444444444, \"#bd3786\"], [0.5555555555555556, \"#d8576b\"], [0.6666666666666666, \"#ed7953\"], [0.7777777777777778, \"#fb9f3a\"], [0.8888888888888888, \"#fdca26\"], [1.0, \"#f0f921\"]], \"type\": \"surface\"}], \"table\": [{\"cells\": {\"fill\": {\"color\": \"#EBF0F8\"}, \"line\": {\"color\": \"white\"}}, \"header\": {\"fill\": {\"color\": \"#C8D4E3\"}, \"line\": {\"color\": \"white\"}}, \"type\": \"table\"}]}, \"layout\": {\"annotationdefaults\": {\"arrowcolor\": \"#2a3f5f\", \"arrowhead\": 0, \"arrowwidth\": 1}, \"coloraxis\": {\"colorbar\": {\"outlinewidth\": 0, \"ticks\": \"\"}}, \"colorscale\": {\"diverging\": [[0, \"#8e0152\"], [0.1, \"#c51b7d\"], [0.2, \"#de77ae\"], [0.3, \"#f1b6da\"], [0.4, \"#fde0ef\"], [0.5, \"#f7f7f7\"], [0.6, \"#e6f5d0\"], [0.7, \"#b8e186\"], [0.8, \"#7fbc41\"], [0.9, \"#4d9221\"], [1, \"#276419\"]], \"sequential\": [[0.0, \"#0d0887\"], [0.1111111111111111, \"#46039f\"], [0.2222222222222222, \"#7201a8\"], [0.3333333333333333, \"#9c179e\"], [0.4444444444444444, \"#bd3786\"], [0.5555555555555556, \"#d8576b\"], [0.6666666666666666, \"#ed7953\"], [0.7777777777777778, \"#fb9f3a\"], [0.8888888888888888, \"#fdca26\"], [1.0, \"#f0f921\"]], \"sequentialminus\": [[0.0, \"#0d0887\"], [0.1111111111111111, \"#46039f\"], [0.2222222222222222, \"#7201a8\"], [0.3333333333333333, \"#9c179e\"], [0.4444444444444444, \"#bd3786\"], [0.5555555555555556, \"#d8576b\"], [0.6666666666666666, \"#ed7953\"], [0.7777777777777778, \"#fb9f3a\"], [0.8888888888888888, \"#fdca26\"], [1.0, \"#f0f921\"]]}, \"colorway\": [\"#636efa\", \"#EF553B\", \"#00cc96\", \"#ab63fa\", \"#FFA15A\", \"#19d3f3\", \"#FF6692\", \"#B6E880\", \"#FF97FF\", \"#FECB52\"], \"font\": {\"color\": \"#2a3f5f\"}, \"geo\": {\"bgcolor\": \"white\", \"lakecolor\": \"white\", \"landcolor\": \"#E5ECF6\", \"showlakes\": true, \"showland\": true, \"subunitcolor\": \"white\"}, \"hoverlabel\": {\"align\": \"left\"}, \"hovermode\": \"closest\", \"mapbox\": {\"style\": \"light\"}, \"paper_bgcolor\": \"white\", \"plot_bgcolor\": \"#E5ECF6\", \"polar\": {\"angularaxis\": {\"gridcolor\": \"white\", \"linecolor\": \"white\", \"ticks\": \"\"}, \"bgcolor\": \"#E5ECF6\", \"radialaxis\": {\"gridcolor\": \"white\", \"linecolor\": \"white\", \"ticks\": \"\"}}, \"scene\": {\"xaxis\": {\"backgroundcolor\": \"#E5ECF6\", \"gridcolor\": \"white\", \"gridwidth\": 2, \"linecolor\": \"white\", \"showbackground\": true, \"ticks\": \"\", \"zerolinecolor\": \"white\"}, \"yaxis\": {\"backgroundcolor\": \"#E5ECF6\", \"gridcolor\": \"white\", \"gridwidth\": 2, \"linecolor\": \"white\", \"showbackground\": true, \"ticks\": \"\", \"zerolinecolor\": \"white\"}, \"zaxis\": {\"backgroundcolor\": \"#E5ECF6\", \"gridcolor\": \"white\", \"gridwidth\": 2, \"linecolor\": \"white\", \"showbackground\": true, \"ticks\": \"\", \"zerolinecolor\": \"white\"}}, \"shapedefaults\": {\"line\": {\"color\": \"#2a3f5f\"}}, \"ternary\": {\"aaxis\": {\"gridcolor\": \"white\", \"linecolor\": \"white\", \"ticks\": \"\"}, \"baxis\": {\"gridcolor\": \"white\", \"linecolor\": \"white\", \"ticks\": \"\"}, \"bgcolor\": \"#E5ECF6\", \"caxis\": {\"gridcolor\": \"white\", \"linecolor\": \"white\", \"ticks\": \"\"}}, \"title\": {\"x\": 0.05}, \"xaxis\": {\"automargin\": true, \"gridcolor\": \"white\", \"linecolor\": \"white\", \"ticks\": \"\", \"title\": {\"standoff\": 15}, \"zerolinecolor\": \"white\", \"zerolinewidth\": 2}, \"yaxis\": {\"automargin\": true, \"gridcolor\": \"white\", \"linecolor\": \"white\", \"ticks\": \"\", \"title\": {\"standoff\": 15}, \"zerolinecolor\": \"white\", \"zerolinewidth\": 2}}}},                        {\"responsive\": true}                    ).then(function(){\n",
       "                            \n",
       "var gd = document.getElementById('9cacae32-57be-4ed0-96c9-f72d1d25328f');\n",
       "var x = new MutationObserver(function (mutations, observer) {{\n",
       "        var display = window.getComputedStyle(gd).display;\n",
       "        if (!display || display === 'none') {{\n",
       "            console.log([gd, 'removed!']);\n",
       "            Plotly.purge(gd);\n",
       "            observer.disconnect();\n",
       "        }}\n",
       "}});\n",
       "\n",
       "// Listen for the removal of the full notebook cells\n",
       "var notebookContainer = gd.closest('#notebook-container');\n",
       "if (notebookContainer) {{\n",
       "    x.observe(notebookContainer, {childList: true});\n",
       "}}\n",
       "\n",
       "// Listen for the clearing of the current output cell\n",
       "var outputEl = gd.closest('.output');\n",
       "if (outputEl) {{\n",
       "    x.observe(outputEl, {childList: true});\n",
       "}}\n",
       "\n",
       "                        })                };                });            </script>        </div>"
      ]
     },
     "metadata": {},
     "output_type": "display_data"
    }
   ],
   "source": [
    "sentiment_hour(df_netflix, 18)"
   ]
  },
  {
   "cell_type": "code",
   "execution_count": 29,
   "metadata": {
    "ExecuteTime": {
     "end_time": "2021-07-16T14:47:50.322342Z",
     "start_time": "2021-07-16T14:47:50.318410Z"
    }
   },
   "outputs": [
    {
     "data": {
      "text/plain": [
       " 1    114\n",
       " 0     50\n",
       "-1     36\n",
       "Name: Sentiment, dtype: int64"
      ]
     },
     "execution_count": 29,
     "metadata": {},
     "output_type": "execute_result"
    }
   ],
   "source": [
    "df_netflix[df_netflix['day']==18]['Sentiment'].value_counts()"
   ]
  },
  {
   "cell_type": "markdown",
   "metadata": {},
   "source": [
    "## Confirm Pie Graph Accuracy"
   ]
  },
  {
   "cell_type": "code",
   "execution_count": 30,
   "metadata": {
    "ExecuteTime": {
     "end_time": "2021-07-16T14:47:50.349917Z",
     "start_time": "2021-07-16T14:47:50.323200Z"
    }
   },
   "outputs": [],
   "source": [
    "df_apple1 = pd.read_csv('/Users/ethankunin/Documents/Flatiron/Captstone/Sentiment_Tracker/data/etl_df/df_etl_apple1.csv')"
   ]
  },
  {
   "cell_type": "code",
   "execution_count": 31,
   "metadata": {
    "ExecuteTime": {
     "end_time": "2021-07-16T14:47:50.359413Z",
     "start_time": "2021-07-16T14:47:50.350803Z"
    }
   },
   "outputs": [
    {
     "data": {
      "application/vnd.plotly.v1+json": {
       "config": {
        "plotlyServerURL": "https://plot.ly"
       },
       "data": [
        {
         "hoverinfo": "label+percent",
         "labels": [
          "Postive",
          "Neutral",
          "Negative"
         ],
         "marker": {
          "colors": [
           "Green",
           "yellow",
           "Red"
          ],
          "line": {
           "color": "#000000",
           "width": 2
          }
         },
         "textfont": {
          "size": 20
         },
         "textinfo": "value",
         "type": "pie",
         "values": [
          284,
          163,
          53
         ]
        }
       ],
       "layout": {
        "template": {
         "data": {
          "bar": [
           {
            "error_x": {
             "color": "#2a3f5f"
            },
            "error_y": {
             "color": "#2a3f5f"
            },
            "marker": {
             "line": {
              "color": "#E5ECF6",
              "width": 0.5
             }
            },
            "type": "bar"
           }
          ],
          "barpolar": [
           {
            "marker": {
             "line": {
              "color": "#E5ECF6",
              "width": 0.5
             }
            },
            "type": "barpolar"
           }
          ],
          "carpet": [
           {
            "aaxis": {
             "endlinecolor": "#2a3f5f",
             "gridcolor": "white",
             "linecolor": "white",
             "minorgridcolor": "white",
             "startlinecolor": "#2a3f5f"
            },
            "baxis": {
             "endlinecolor": "#2a3f5f",
             "gridcolor": "white",
             "linecolor": "white",
             "minorgridcolor": "white",
             "startlinecolor": "#2a3f5f"
            },
            "type": "carpet"
           }
          ],
          "choropleth": [
           {
            "colorbar": {
             "outlinewidth": 0,
             "ticks": ""
            },
            "type": "choropleth"
           }
          ],
          "contour": [
           {
            "colorbar": {
             "outlinewidth": 0,
             "ticks": ""
            },
            "colorscale": [
             [
              0,
              "#0d0887"
             ],
             [
              0.1111111111111111,
              "#46039f"
             ],
             [
              0.2222222222222222,
              "#7201a8"
             ],
             [
              0.3333333333333333,
              "#9c179e"
             ],
             [
              0.4444444444444444,
              "#bd3786"
             ],
             [
              0.5555555555555556,
              "#d8576b"
             ],
             [
              0.6666666666666666,
              "#ed7953"
             ],
             [
              0.7777777777777778,
              "#fb9f3a"
             ],
             [
              0.8888888888888888,
              "#fdca26"
             ],
             [
              1,
              "#f0f921"
             ]
            ],
            "type": "contour"
           }
          ],
          "contourcarpet": [
           {
            "colorbar": {
             "outlinewidth": 0,
             "ticks": ""
            },
            "type": "contourcarpet"
           }
          ],
          "heatmap": [
           {
            "colorbar": {
             "outlinewidth": 0,
             "ticks": ""
            },
            "colorscale": [
             [
              0,
              "#0d0887"
             ],
             [
              0.1111111111111111,
              "#46039f"
             ],
             [
              0.2222222222222222,
              "#7201a8"
             ],
             [
              0.3333333333333333,
              "#9c179e"
             ],
             [
              0.4444444444444444,
              "#bd3786"
             ],
             [
              0.5555555555555556,
              "#d8576b"
             ],
             [
              0.6666666666666666,
              "#ed7953"
             ],
             [
              0.7777777777777778,
              "#fb9f3a"
             ],
             [
              0.8888888888888888,
              "#fdca26"
             ],
             [
              1,
              "#f0f921"
             ]
            ],
            "type": "heatmap"
           }
          ],
          "heatmapgl": [
           {
            "colorbar": {
             "outlinewidth": 0,
             "ticks": ""
            },
            "colorscale": [
             [
              0,
              "#0d0887"
             ],
             [
              0.1111111111111111,
              "#46039f"
             ],
             [
              0.2222222222222222,
              "#7201a8"
             ],
             [
              0.3333333333333333,
              "#9c179e"
             ],
             [
              0.4444444444444444,
              "#bd3786"
             ],
             [
              0.5555555555555556,
              "#d8576b"
             ],
             [
              0.6666666666666666,
              "#ed7953"
             ],
             [
              0.7777777777777778,
              "#fb9f3a"
             ],
             [
              0.8888888888888888,
              "#fdca26"
             ],
             [
              1,
              "#f0f921"
             ]
            ],
            "type": "heatmapgl"
           }
          ],
          "histogram": [
           {
            "marker": {
             "colorbar": {
              "outlinewidth": 0,
              "ticks": ""
             }
            },
            "type": "histogram"
           }
          ],
          "histogram2d": [
           {
            "colorbar": {
             "outlinewidth": 0,
             "ticks": ""
            },
            "colorscale": [
             [
              0,
              "#0d0887"
             ],
             [
              0.1111111111111111,
              "#46039f"
             ],
             [
              0.2222222222222222,
              "#7201a8"
             ],
             [
              0.3333333333333333,
              "#9c179e"
             ],
             [
              0.4444444444444444,
              "#bd3786"
             ],
             [
              0.5555555555555556,
              "#d8576b"
             ],
             [
              0.6666666666666666,
              "#ed7953"
             ],
             [
              0.7777777777777778,
              "#fb9f3a"
             ],
             [
              0.8888888888888888,
              "#fdca26"
             ],
             [
              1,
              "#f0f921"
             ]
            ],
            "type": "histogram2d"
           }
          ],
          "histogram2dcontour": [
           {
            "colorbar": {
             "outlinewidth": 0,
             "ticks": ""
            },
            "colorscale": [
             [
              0,
              "#0d0887"
             ],
             [
              0.1111111111111111,
              "#46039f"
             ],
             [
              0.2222222222222222,
              "#7201a8"
             ],
             [
              0.3333333333333333,
              "#9c179e"
             ],
             [
              0.4444444444444444,
              "#bd3786"
             ],
             [
              0.5555555555555556,
              "#d8576b"
             ],
             [
              0.6666666666666666,
              "#ed7953"
             ],
             [
              0.7777777777777778,
              "#fb9f3a"
             ],
             [
              0.8888888888888888,
              "#fdca26"
             ],
             [
              1,
              "#f0f921"
             ]
            ],
            "type": "histogram2dcontour"
           }
          ],
          "mesh3d": [
           {
            "colorbar": {
             "outlinewidth": 0,
             "ticks": ""
            },
            "type": "mesh3d"
           }
          ],
          "parcoords": [
           {
            "line": {
             "colorbar": {
              "outlinewidth": 0,
              "ticks": ""
             }
            },
            "type": "parcoords"
           }
          ],
          "pie": [
           {
            "automargin": true,
            "type": "pie"
           }
          ],
          "scatter": [
           {
            "marker": {
             "colorbar": {
              "outlinewidth": 0,
              "ticks": ""
             }
            },
            "type": "scatter"
           }
          ],
          "scatter3d": [
           {
            "line": {
             "colorbar": {
              "outlinewidth": 0,
              "ticks": ""
             }
            },
            "marker": {
             "colorbar": {
              "outlinewidth": 0,
              "ticks": ""
             }
            },
            "type": "scatter3d"
           }
          ],
          "scattercarpet": [
           {
            "marker": {
             "colorbar": {
              "outlinewidth": 0,
              "ticks": ""
             }
            },
            "type": "scattercarpet"
           }
          ],
          "scattergeo": [
           {
            "marker": {
             "colorbar": {
              "outlinewidth": 0,
              "ticks": ""
             }
            },
            "type": "scattergeo"
           }
          ],
          "scattergl": [
           {
            "marker": {
             "colorbar": {
              "outlinewidth": 0,
              "ticks": ""
             }
            },
            "type": "scattergl"
           }
          ],
          "scattermapbox": [
           {
            "marker": {
             "colorbar": {
              "outlinewidth": 0,
              "ticks": ""
             }
            },
            "type": "scattermapbox"
           }
          ],
          "scatterpolar": [
           {
            "marker": {
             "colorbar": {
              "outlinewidth": 0,
              "ticks": ""
             }
            },
            "type": "scatterpolar"
           }
          ],
          "scatterpolargl": [
           {
            "marker": {
             "colorbar": {
              "outlinewidth": 0,
              "ticks": ""
             }
            },
            "type": "scatterpolargl"
           }
          ],
          "scatterternary": [
           {
            "marker": {
             "colorbar": {
              "outlinewidth": 0,
              "ticks": ""
             }
            },
            "type": "scatterternary"
           }
          ],
          "surface": [
           {
            "colorbar": {
             "outlinewidth": 0,
             "ticks": ""
            },
            "colorscale": [
             [
              0,
              "#0d0887"
             ],
             [
              0.1111111111111111,
              "#46039f"
             ],
             [
              0.2222222222222222,
              "#7201a8"
             ],
             [
              0.3333333333333333,
              "#9c179e"
             ],
             [
              0.4444444444444444,
              "#bd3786"
             ],
             [
              0.5555555555555556,
              "#d8576b"
             ],
             [
              0.6666666666666666,
              "#ed7953"
             ],
             [
              0.7777777777777778,
              "#fb9f3a"
             ],
             [
              0.8888888888888888,
              "#fdca26"
             ],
             [
              1,
              "#f0f921"
             ]
            ],
            "type": "surface"
           }
          ],
          "table": [
           {
            "cells": {
             "fill": {
              "color": "#EBF0F8"
             },
             "line": {
              "color": "white"
             }
            },
            "header": {
             "fill": {
              "color": "#C8D4E3"
             },
             "line": {
              "color": "white"
             }
            },
            "type": "table"
           }
          ]
         },
         "layout": {
          "annotationdefaults": {
           "arrowcolor": "#2a3f5f",
           "arrowhead": 0,
           "arrowwidth": 1
          },
          "coloraxis": {
           "colorbar": {
            "outlinewidth": 0,
            "ticks": ""
           }
          },
          "colorscale": {
           "diverging": [
            [
             0,
             "#8e0152"
            ],
            [
             0.1,
             "#c51b7d"
            ],
            [
             0.2,
             "#de77ae"
            ],
            [
             0.3,
             "#f1b6da"
            ],
            [
             0.4,
             "#fde0ef"
            ],
            [
             0.5,
             "#f7f7f7"
            ],
            [
             0.6,
             "#e6f5d0"
            ],
            [
             0.7,
             "#b8e186"
            ],
            [
             0.8,
             "#7fbc41"
            ],
            [
             0.9,
             "#4d9221"
            ],
            [
             1,
             "#276419"
            ]
           ],
           "sequential": [
            [
             0,
             "#0d0887"
            ],
            [
             0.1111111111111111,
             "#46039f"
            ],
            [
             0.2222222222222222,
             "#7201a8"
            ],
            [
             0.3333333333333333,
             "#9c179e"
            ],
            [
             0.4444444444444444,
             "#bd3786"
            ],
            [
             0.5555555555555556,
             "#d8576b"
            ],
            [
             0.6666666666666666,
             "#ed7953"
            ],
            [
             0.7777777777777778,
             "#fb9f3a"
            ],
            [
             0.8888888888888888,
             "#fdca26"
            ],
            [
             1,
             "#f0f921"
            ]
           ],
           "sequentialminus": [
            [
             0,
             "#0d0887"
            ],
            [
             0.1111111111111111,
             "#46039f"
            ],
            [
             0.2222222222222222,
             "#7201a8"
            ],
            [
             0.3333333333333333,
             "#9c179e"
            ],
            [
             0.4444444444444444,
             "#bd3786"
            ],
            [
             0.5555555555555556,
             "#d8576b"
            ],
            [
             0.6666666666666666,
             "#ed7953"
            ],
            [
             0.7777777777777778,
             "#fb9f3a"
            ],
            [
             0.8888888888888888,
             "#fdca26"
            ],
            [
             1,
             "#f0f921"
            ]
           ]
          },
          "colorway": [
           "#636efa",
           "#EF553B",
           "#00cc96",
           "#ab63fa",
           "#FFA15A",
           "#19d3f3",
           "#FF6692",
           "#B6E880",
           "#FF97FF",
           "#FECB52"
          ],
          "font": {
           "color": "#2a3f5f"
          },
          "geo": {
           "bgcolor": "white",
           "lakecolor": "white",
           "landcolor": "#E5ECF6",
           "showlakes": true,
           "showland": true,
           "subunitcolor": "white"
          },
          "hoverlabel": {
           "align": "left"
          },
          "hovermode": "closest",
          "mapbox": {
           "style": "light"
          },
          "paper_bgcolor": "white",
          "plot_bgcolor": "#E5ECF6",
          "polar": {
           "angularaxis": {
            "gridcolor": "white",
            "linecolor": "white",
            "ticks": ""
           },
           "bgcolor": "#E5ECF6",
           "radialaxis": {
            "gridcolor": "white",
            "linecolor": "white",
            "ticks": ""
           }
          },
          "scene": {
           "xaxis": {
            "backgroundcolor": "#E5ECF6",
            "gridcolor": "white",
            "gridwidth": 2,
            "linecolor": "white",
            "showbackground": true,
            "ticks": "",
            "zerolinecolor": "white"
           },
           "yaxis": {
            "backgroundcolor": "#E5ECF6",
            "gridcolor": "white",
            "gridwidth": 2,
            "linecolor": "white",
            "showbackground": true,
            "ticks": "",
            "zerolinecolor": "white"
           },
           "zaxis": {
            "backgroundcolor": "#E5ECF6",
            "gridcolor": "white",
            "gridwidth": 2,
            "linecolor": "white",
            "showbackground": true,
            "ticks": "",
            "zerolinecolor": "white"
           }
          },
          "shapedefaults": {
           "line": {
            "color": "#2a3f5f"
           }
          },
          "ternary": {
           "aaxis": {
            "gridcolor": "white",
            "linecolor": "white",
            "ticks": ""
           },
           "baxis": {
            "gridcolor": "white",
            "linecolor": "white",
            "ticks": ""
           },
           "bgcolor": "#E5ECF6",
           "caxis": {
            "gridcolor": "white",
            "linecolor": "white",
            "ticks": ""
           }
          },
          "title": {
           "x": 0.05
          },
          "xaxis": {
           "automargin": true,
           "gridcolor": "white",
           "linecolor": "white",
           "ticks": "",
           "title": {
            "standoff": 15
           },
           "zerolinecolor": "white",
           "zerolinewidth": 2
          },
          "yaxis": {
           "automargin": true,
           "gridcolor": "white",
           "linecolor": "white",
           "ticks": "",
           "title": {
            "standoff": 15
           },
           "zerolinecolor": "white",
           "zerolinewidth": 2
          }
         }
        }
       }
      },
      "text/html": [
       "<div>                            <div id=\"c0a11cc6-7936-4017-9896-efe3db0e1f8d\" class=\"plotly-graph-div\" style=\"height:525px; width:100%;\"></div>            <script type=\"text/javascript\">                require([\"plotly\"], function(Plotly) {                    window.PLOTLYENV=window.PLOTLYENV || {};                                    if (document.getElementById(\"c0a11cc6-7936-4017-9896-efe3db0e1f8d\")) {                    Plotly.newPlot(                        \"c0a11cc6-7936-4017-9896-efe3db0e1f8d\",                        [{\"hoverinfo\": \"label+percent\", \"labels\": [\"Postive\", \"Neutral\", \"Negative\"], \"marker\": {\"colors\": [\"Green\", \"yellow\", \"Red\"], \"line\": {\"color\": \"#000000\", \"width\": 2}}, \"textfont\": {\"size\": 20}, \"textinfo\": \"value\", \"type\": \"pie\", \"values\": [284, 163, 53]}],                        {\"template\": {\"data\": {\"bar\": [{\"error_x\": {\"color\": \"#2a3f5f\"}, \"error_y\": {\"color\": \"#2a3f5f\"}, \"marker\": {\"line\": {\"color\": \"#E5ECF6\", \"width\": 0.5}}, \"type\": \"bar\"}], \"barpolar\": [{\"marker\": {\"line\": {\"color\": \"#E5ECF6\", \"width\": 0.5}}, \"type\": \"barpolar\"}], \"carpet\": [{\"aaxis\": {\"endlinecolor\": \"#2a3f5f\", \"gridcolor\": \"white\", \"linecolor\": \"white\", \"minorgridcolor\": \"white\", \"startlinecolor\": \"#2a3f5f\"}, \"baxis\": {\"endlinecolor\": \"#2a3f5f\", \"gridcolor\": \"white\", \"linecolor\": \"white\", \"minorgridcolor\": \"white\", \"startlinecolor\": \"#2a3f5f\"}, \"type\": \"carpet\"}], \"choropleth\": [{\"colorbar\": {\"outlinewidth\": 0, \"ticks\": \"\"}, \"type\": \"choropleth\"}], \"contour\": [{\"colorbar\": {\"outlinewidth\": 0, \"ticks\": \"\"}, \"colorscale\": [[0.0, \"#0d0887\"], [0.1111111111111111, \"#46039f\"], [0.2222222222222222, \"#7201a8\"], [0.3333333333333333, \"#9c179e\"], [0.4444444444444444, \"#bd3786\"], [0.5555555555555556, \"#d8576b\"], [0.6666666666666666, \"#ed7953\"], [0.7777777777777778, \"#fb9f3a\"], [0.8888888888888888, \"#fdca26\"], [1.0, \"#f0f921\"]], \"type\": \"contour\"}], \"contourcarpet\": [{\"colorbar\": {\"outlinewidth\": 0, \"ticks\": \"\"}, \"type\": \"contourcarpet\"}], \"heatmap\": [{\"colorbar\": {\"outlinewidth\": 0, \"ticks\": \"\"}, \"colorscale\": [[0.0, \"#0d0887\"], [0.1111111111111111, \"#46039f\"], [0.2222222222222222, \"#7201a8\"], [0.3333333333333333, \"#9c179e\"], [0.4444444444444444, \"#bd3786\"], [0.5555555555555556, \"#d8576b\"], [0.6666666666666666, \"#ed7953\"], [0.7777777777777778, \"#fb9f3a\"], [0.8888888888888888, \"#fdca26\"], [1.0, \"#f0f921\"]], \"type\": \"heatmap\"}], \"heatmapgl\": [{\"colorbar\": {\"outlinewidth\": 0, \"ticks\": \"\"}, \"colorscale\": [[0.0, \"#0d0887\"], [0.1111111111111111, \"#46039f\"], [0.2222222222222222, \"#7201a8\"], [0.3333333333333333, \"#9c179e\"], [0.4444444444444444, \"#bd3786\"], [0.5555555555555556, \"#d8576b\"], [0.6666666666666666, \"#ed7953\"], [0.7777777777777778, \"#fb9f3a\"], [0.8888888888888888, \"#fdca26\"], [1.0, \"#f0f921\"]], \"type\": \"heatmapgl\"}], \"histogram\": [{\"marker\": {\"colorbar\": {\"outlinewidth\": 0, \"ticks\": \"\"}}, \"type\": \"histogram\"}], \"histogram2d\": [{\"colorbar\": {\"outlinewidth\": 0, \"ticks\": \"\"}, \"colorscale\": [[0.0, \"#0d0887\"], [0.1111111111111111, \"#46039f\"], [0.2222222222222222, \"#7201a8\"], [0.3333333333333333, \"#9c179e\"], [0.4444444444444444, \"#bd3786\"], [0.5555555555555556, \"#d8576b\"], [0.6666666666666666, \"#ed7953\"], [0.7777777777777778, \"#fb9f3a\"], [0.8888888888888888, \"#fdca26\"], [1.0, \"#f0f921\"]], \"type\": \"histogram2d\"}], \"histogram2dcontour\": [{\"colorbar\": {\"outlinewidth\": 0, \"ticks\": \"\"}, \"colorscale\": [[0.0, \"#0d0887\"], [0.1111111111111111, \"#46039f\"], [0.2222222222222222, \"#7201a8\"], [0.3333333333333333, \"#9c179e\"], [0.4444444444444444, \"#bd3786\"], [0.5555555555555556, \"#d8576b\"], [0.6666666666666666, \"#ed7953\"], [0.7777777777777778, \"#fb9f3a\"], [0.8888888888888888, \"#fdca26\"], [1.0, \"#f0f921\"]], \"type\": \"histogram2dcontour\"}], \"mesh3d\": [{\"colorbar\": {\"outlinewidth\": 0, \"ticks\": \"\"}, \"type\": \"mesh3d\"}], \"parcoords\": [{\"line\": {\"colorbar\": {\"outlinewidth\": 0, \"ticks\": \"\"}}, \"type\": \"parcoords\"}], \"pie\": [{\"automargin\": true, \"type\": \"pie\"}], \"scatter\": [{\"marker\": {\"colorbar\": {\"outlinewidth\": 0, \"ticks\": \"\"}}, \"type\": \"scatter\"}], \"scatter3d\": [{\"line\": {\"colorbar\": {\"outlinewidth\": 0, \"ticks\": \"\"}}, \"marker\": {\"colorbar\": {\"outlinewidth\": 0, \"ticks\": \"\"}}, \"type\": \"scatter3d\"}], \"scattercarpet\": [{\"marker\": {\"colorbar\": {\"outlinewidth\": 0, \"ticks\": \"\"}}, \"type\": \"scattercarpet\"}], \"scattergeo\": [{\"marker\": {\"colorbar\": {\"outlinewidth\": 0, \"ticks\": \"\"}}, \"type\": \"scattergeo\"}], \"scattergl\": [{\"marker\": {\"colorbar\": {\"outlinewidth\": 0, \"ticks\": \"\"}}, \"type\": \"scattergl\"}], \"scattermapbox\": [{\"marker\": {\"colorbar\": {\"outlinewidth\": 0, \"ticks\": \"\"}}, \"type\": \"scattermapbox\"}], \"scatterpolar\": [{\"marker\": {\"colorbar\": {\"outlinewidth\": 0, \"ticks\": \"\"}}, \"type\": \"scatterpolar\"}], \"scatterpolargl\": [{\"marker\": {\"colorbar\": {\"outlinewidth\": 0, \"ticks\": \"\"}}, \"type\": \"scatterpolargl\"}], \"scatterternary\": [{\"marker\": {\"colorbar\": {\"outlinewidth\": 0, \"ticks\": \"\"}}, \"type\": \"scatterternary\"}], \"surface\": [{\"colorbar\": {\"outlinewidth\": 0, \"ticks\": \"\"}, \"colorscale\": [[0.0, \"#0d0887\"], [0.1111111111111111, \"#46039f\"], [0.2222222222222222, \"#7201a8\"], [0.3333333333333333, \"#9c179e\"], [0.4444444444444444, \"#bd3786\"], [0.5555555555555556, \"#d8576b\"], [0.6666666666666666, \"#ed7953\"], [0.7777777777777778, \"#fb9f3a\"], [0.8888888888888888, \"#fdca26\"], [1.0, \"#f0f921\"]], \"type\": \"surface\"}], \"table\": [{\"cells\": {\"fill\": {\"color\": \"#EBF0F8\"}, \"line\": {\"color\": \"white\"}}, \"header\": {\"fill\": {\"color\": \"#C8D4E3\"}, \"line\": {\"color\": \"white\"}}, \"type\": \"table\"}]}, \"layout\": {\"annotationdefaults\": {\"arrowcolor\": \"#2a3f5f\", \"arrowhead\": 0, \"arrowwidth\": 1}, \"coloraxis\": {\"colorbar\": {\"outlinewidth\": 0, \"ticks\": \"\"}}, \"colorscale\": {\"diverging\": [[0, \"#8e0152\"], [0.1, \"#c51b7d\"], [0.2, \"#de77ae\"], [0.3, \"#f1b6da\"], [0.4, \"#fde0ef\"], [0.5, \"#f7f7f7\"], [0.6, \"#e6f5d0\"], [0.7, \"#b8e186\"], [0.8, \"#7fbc41\"], [0.9, \"#4d9221\"], [1, \"#276419\"]], \"sequential\": [[0.0, \"#0d0887\"], [0.1111111111111111, \"#46039f\"], [0.2222222222222222, \"#7201a8\"], [0.3333333333333333, \"#9c179e\"], [0.4444444444444444, \"#bd3786\"], [0.5555555555555556, \"#d8576b\"], [0.6666666666666666, \"#ed7953\"], [0.7777777777777778, \"#fb9f3a\"], [0.8888888888888888, \"#fdca26\"], [1.0, \"#f0f921\"]], \"sequentialminus\": [[0.0, \"#0d0887\"], [0.1111111111111111, \"#46039f\"], [0.2222222222222222, \"#7201a8\"], [0.3333333333333333, \"#9c179e\"], [0.4444444444444444, \"#bd3786\"], [0.5555555555555556, \"#d8576b\"], [0.6666666666666666, \"#ed7953\"], [0.7777777777777778, \"#fb9f3a\"], [0.8888888888888888, \"#fdca26\"], [1.0, \"#f0f921\"]]}, \"colorway\": [\"#636efa\", \"#EF553B\", \"#00cc96\", \"#ab63fa\", \"#FFA15A\", \"#19d3f3\", \"#FF6692\", \"#B6E880\", \"#FF97FF\", \"#FECB52\"], \"font\": {\"color\": \"#2a3f5f\"}, \"geo\": {\"bgcolor\": \"white\", \"lakecolor\": \"white\", \"landcolor\": \"#E5ECF6\", \"showlakes\": true, \"showland\": true, \"subunitcolor\": \"white\"}, \"hoverlabel\": {\"align\": \"left\"}, \"hovermode\": \"closest\", \"mapbox\": {\"style\": \"light\"}, \"paper_bgcolor\": \"white\", \"plot_bgcolor\": \"#E5ECF6\", \"polar\": {\"angularaxis\": {\"gridcolor\": \"white\", \"linecolor\": \"white\", \"ticks\": \"\"}, \"bgcolor\": \"#E5ECF6\", \"radialaxis\": {\"gridcolor\": \"white\", \"linecolor\": \"white\", \"ticks\": \"\"}}, \"scene\": {\"xaxis\": {\"backgroundcolor\": \"#E5ECF6\", \"gridcolor\": \"white\", \"gridwidth\": 2, \"linecolor\": \"white\", \"showbackground\": true, \"ticks\": \"\", \"zerolinecolor\": \"white\"}, \"yaxis\": {\"backgroundcolor\": \"#E5ECF6\", \"gridcolor\": \"white\", \"gridwidth\": 2, \"linecolor\": \"white\", \"showbackground\": true, \"ticks\": \"\", \"zerolinecolor\": \"white\"}, \"zaxis\": {\"backgroundcolor\": \"#E5ECF6\", \"gridcolor\": \"white\", \"gridwidth\": 2, \"linecolor\": \"white\", \"showbackground\": true, \"ticks\": \"\", \"zerolinecolor\": \"white\"}}, \"shapedefaults\": {\"line\": {\"color\": \"#2a3f5f\"}}, \"ternary\": {\"aaxis\": {\"gridcolor\": \"white\", \"linecolor\": \"white\", \"ticks\": \"\"}, \"baxis\": {\"gridcolor\": \"white\", \"linecolor\": \"white\", \"ticks\": \"\"}, \"bgcolor\": \"#E5ECF6\", \"caxis\": {\"gridcolor\": \"white\", \"linecolor\": \"white\", \"ticks\": \"\"}}, \"title\": {\"x\": 0.05}, \"xaxis\": {\"automargin\": true, \"gridcolor\": \"white\", \"linecolor\": \"white\", \"ticks\": \"\", \"title\": {\"standoff\": 15}, \"zerolinecolor\": \"white\", \"zerolinewidth\": 2}, \"yaxis\": {\"automargin\": true, \"gridcolor\": \"white\", \"linecolor\": \"white\", \"ticks\": \"\", \"title\": {\"standoff\": 15}, \"zerolinecolor\": \"white\", \"zerolinewidth\": 2}}}},                        {\"responsive\": true}                    ).then(function(){\n",
       "                            \n",
       "var gd = document.getElementById('c0a11cc6-7936-4017-9896-efe3db0e1f8d');\n",
       "var x = new MutationObserver(function (mutations, observer) {{\n",
       "        var display = window.getComputedStyle(gd).display;\n",
       "        if (!display || display === 'none') {{\n",
       "            console.log([gd, 'removed!']);\n",
       "            Plotly.purge(gd);\n",
       "            observer.disconnect();\n",
       "        }}\n",
       "}});\n",
       "\n",
       "// Listen for the removal of the full notebook cells\n",
       "var notebookContainer = gd.closest('#notebook-container');\n",
       "if (notebookContainer) {{\n",
       "    x.observe(notebookContainer, {childList: true});\n",
       "}}\n",
       "\n",
       "// Listen for the clearing of the current output cell\n",
       "var outputEl = gd.closest('.output');\n",
       "if (outputEl) {{\n",
       "    x.observe(outputEl, {childList: true});\n",
       "}}\n",
       "\n",
       "                        })                };                });            </script>        </div>"
      ]
     },
     "metadata": {},
     "output_type": "display_data"
    }
   ],
   "source": [
    "sentiment_hour(df_apple1, 14)"
   ]
  },
  {
   "cell_type": "code",
   "execution_count": 32,
   "metadata": {
    "ExecuteTime": {
     "end_time": "2021-07-16T14:47:50.366786Z",
     "start_time": "2021-07-16T14:47:50.362163Z"
    }
   },
   "outputs": [
    {
     "data": {
      "text/plain": [
       " 1    284\n",
       " 0    163\n",
       "-1     53\n",
       "Name: Sentiment, dtype: int64"
      ]
     },
     "execution_count": 32,
     "metadata": {},
     "output_type": "execute_result"
    }
   ],
   "source": [
    "df_apple1[df_apple1['day']==14]['Sentiment'].value_counts()"
   ]
  },
  {
   "cell_type": "markdown",
   "metadata": {},
   "source": [
    "# Picking specific days"
   ]
  },
  {
   "cell_type": "code",
   "execution_count": 33,
   "metadata": {
    "ExecuteTime": {
     "end_time": "2021-07-16T14:47:50.370128Z",
     "start_time": "2021-07-16T14:47:50.368087Z"
    }
   },
   "outputs": [],
   "source": [
    "import datetime\n",
    "def aceptable_date(date):\n",
    "    if date == datetime.datetime(2021, 6, 19):\n",
    "        return ('Please choose weekday')\n",
    "    else:\n",
    "        return ('ok')\n"
   ]
  },
  {
   "cell_type": "code",
   "execution_count": 34,
   "metadata": {
    "ExecuteTime": {
     "end_time": "2021-07-16T14:47:50.373950Z",
     "start_time": "2021-07-16T14:47:50.371193Z"
    }
   },
   "outputs": [
    {
     "data": {
      "text/plain": [
       "'Please choose weekday'"
      ]
     },
     "execution_count": 34,
     "metadata": {},
     "output_type": "execute_result"
    }
   ],
   "source": [
    "aceptable_date(datetime.datetime(2021, 6, 19))"
   ]
  },
  {
   "cell_type": "code",
   "execution_count": 35,
   "metadata": {
    "ExecuteTime": {
     "end_time": "2021-07-16T14:47:50.383970Z",
     "start_time": "2021-07-16T14:47:50.374860Z"
    }
   },
   "outputs": [
    {
     "data": {
      "text/html": [
       "<div>\n",
       "<style scoped>\n",
       "    .dataframe tbody tr th:only-of-type {\n",
       "        vertical-align: middle;\n",
       "    }\n",
       "\n",
       "    .dataframe tbody tr th {\n",
       "        vertical-align: top;\n",
       "    }\n",
       "\n",
       "    .dataframe thead th {\n",
       "        text-align: right;\n",
       "    }\n",
       "</style>\n",
       "<table border=\"1\" class=\"dataframe\">\n",
       "  <thead>\n",
       "    <tr style=\"text-align: right;\">\n",
       "      <th></th>\n",
       "      <th>title</th>\n",
       "      <th>description</th>\n",
       "      <th>content</th>\n",
       "      <th>results</th>\n",
       "      <th>source2</th>\n",
       "      <th>hour</th>\n",
       "      <th>day</th>\n",
       "      <th>cont_joined</th>\n",
       "      <th>neg</th>\n",
       "      <th>neu</th>\n",
       "      <th>pos</th>\n",
       "      <th>comp</th>\n",
       "      <th>blob</th>\n",
       "      <th>comp_abs</th>\n",
       "      <th>blob_abs</th>\n",
       "      <th>c_b</th>\n",
       "      <th>Sentiment</th>\n",
       "    </tr>\n",
       "    <tr>\n",
       "      <th>publishedAt</th>\n",
       "      <th></th>\n",
       "      <th></th>\n",
       "      <th></th>\n",
       "      <th></th>\n",
       "      <th></th>\n",
       "      <th></th>\n",
       "      <th></th>\n",
       "      <th></th>\n",
       "      <th></th>\n",
       "      <th></th>\n",
       "      <th></th>\n",
       "      <th></th>\n",
       "      <th></th>\n",
       "      <th></th>\n",
       "      <th></th>\n",
       "      <th></th>\n",
       "      <th></th>\n",
       "    </tr>\n",
       "  </thead>\n",
       "  <tbody>\n",
       "    <tr>\n",
       "      <th>2021-06-14 09:00:00-04:00</th>\n",
       "      <td>Business / Arts Announces Annual Award Recipie...</td>\n",
       "      <td>TORONTO, June 14, 2021 (GLOBE NEWSWIRE) -- Bus...</td>\n",
       "      <td>TORONTO, June 14, 2021 (GLOBE NEWSWIRE) -- Bus...</td>\n",
       "      <td>25.0</td>\n",
       "      <td>GlobeNewswire</td>\n",
       "      <td>9.0</td>\n",
       "      <td>14.0</td>\n",
       "      <td>Business / Arts Announces Annual Award Recipie...</td>\n",
       "      <td>0.000</td>\n",
       "      <td>0.645</td>\n",
       "      <td>0.355</td>\n",
       "      <td>0.9382</td>\n",
       "      <td>0.200000</td>\n",
       "      <td>1</td>\n",
       "      <td>1</td>\n",
       "      <td>0.738200</td>\n",
       "      <td>1</td>\n",
       "    </tr>\n",
       "    <tr>\n",
       "      <th>2021-06-14 09:00:00-04:00</th>\n",
       "      <td>Video Games Don’t Have To Be So Violent, And E...</td>\n",
       "      <td>When the average person approaches an event li...</td>\n",
       "      <td>When the average person approaches an event li...</td>\n",
       "      <td>25.0</td>\n",
       "      <td>UPROXX</td>\n",
       "      <td>9.0</td>\n",
       "      <td>14.0</td>\n",
       "      <td>Video Games Don’t Have To Be So Violent, And E...</td>\n",
       "      <td>0.111</td>\n",
       "      <td>0.813</td>\n",
       "      <td>0.076</td>\n",
       "      <td>-0.4576</td>\n",
       "      <td>-0.180952</td>\n",
       "      <td>-1</td>\n",
       "      <td>-1</td>\n",
       "      <td>-0.276648</td>\n",
       "      <td>-1</td>\n",
       "    </tr>\n",
       "    <tr>\n",
       "      <th>2021-06-14 09:00:00-04:00</th>\n",
       "      <td>Apple TV 4K (2nd Generation)</td>\n",
       "      <td>Apple has broadened its media streaming horizo...</td>\n",
       "      <td>Apple has broadened its media streaming horizo...</td>\n",
       "      <td>25.0</td>\n",
       "      <td>PCMag</td>\n",
       "      <td>9.0</td>\n",
       "      <td>14.0</td>\n",
       "      <td>Apple TV 4K (2nd Generation); Apple has broade...</td>\n",
       "      <td>0.000</td>\n",
       "      <td>1.000</td>\n",
       "      <td>0.000</td>\n",
       "      <td>0.0000</td>\n",
       "      <td>-0.150000</td>\n",
       "      <td>0</td>\n",
       "      <td>-1</td>\n",
       "      <td>0.150000</td>\n",
       "      <td>0</td>\n",
       "    </tr>\n",
       "  </tbody>\n",
       "</table>\n",
       "</div>"
      ],
      "text/plain": [
       "                                                                       title  \\\n",
       "publishedAt                                                                    \n",
       "2021-06-14 09:00:00-04:00  Business / Arts Announces Annual Award Recipie...   \n",
       "2021-06-14 09:00:00-04:00  Video Games Don’t Have To Be So Violent, And E...   \n",
       "2021-06-14 09:00:00-04:00                       Apple TV 4K (2nd Generation)   \n",
       "\n",
       "                                                                 description  \\\n",
       "publishedAt                                                                    \n",
       "2021-06-14 09:00:00-04:00  TORONTO, June 14, 2021 (GLOBE NEWSWIRE) -- Bus...   \n",
       "2021-06-14 09:00:00-04:00  When the average person approaches an event li...   \n",
       "2021-06-14 09:00:00-04:00  Apple has broadened its media streaming horizo...   \n",
       "\n",
       "                                                                     content  \\\n",
       "publishedAt                                                                    \n",
       "2021-06-14 09:00:00-04:00  TORONTO, June 14, 2021 (GLOBE NEWSWIRE) -- Bus...   \n",
       "2021-06-14 09:00:00-04:00  When the average person approaches an event li...   \n",
       "2021-06-14 09:00:00-04:00  Apple has broadened its media streaming horizo...   \n",
       "\n",
       "                           results        source2  hour   day  \\\n",
       "publishedAt                                                     \n",
       "2021-06-14 09:00:00-04:00     25.0  GlobeNewswire   9.0  14.0   \n",
       "2021-06-14 09:00:00-04:00     25.0         UPROXX   9.0  14.0   \n",
       "2021-06-14 09:00:00-04:00     25.0          PCMag   9.0  14.0   \n",
       "\n",
       "                                                                 cont_joined  \\\n",
       "publishedAt                                                                    \n",
       "2021-06-14 09:00:00-04:00  Business / Arts Announces Annual Award Recipie...   \n",
       "2021-06-14 09:00:00-04:00  Video Games Don’t Have To Be So Violent, And E...   \n",
       "2021-06-14 09:00:00-04:00  Apple TV 4K (2nd Generation); Apple has broade...   \n",
       "\n",
       "                             neg    neu    pos    comp      blob  comp_abs  \\\n",
       "publishedAt                                                                  \n",
       "2021-06-14 09:00:00-04:00  0.000  0.645  0.355  0.9382  0.200000         1   \n",
       "2021-06-14 09:00:00-04:00  0.111  0.813  0.076 -0.4576 -0.180952        -1   \n",
       "2021-06-14 09:00:00-04:00  0.000  1.000  0.000  0.0000 -0.150000         0   \n",
       "\n",
       "                           blob_abs       c_b  Sentiment  \n",
       "publishedAt                                               \n",
       "2021-06-14 09:00:00-04:00         1  0.738200          1  \n",
       "2021-06-14 09:00:00-04:00        -1 -0.276648         -1  \n",
       "2021-06-14 09:00:00-04:00        -1  0.150000          0  "
      ]
     },
     "execution_count": 35,
     "metadata": {},
     "output_type": "execute_result"
    }
   ],
   "source": [
    "df_netflix.head(3)"
   ]
  },
  {
   "cell_type": "code",
   "execution_count": 36,
   "metadata": {
    "ExecuteTime": {
     "end_time": "2021-07-16T14:47:50.387371Z",
     "start_time": "2021-07-16T14:47:50.385810Z"
    }
   },
   "outputs": [],
   "source": [
    "day = datetime.datetime(2021, 6, 18)"
   ]
  },
  {
   "cell_type": "code",
   "execution_count": 37,
   "metadata": {
    "ExecuteTime": {
     "end_time": "2021-07-16T14:47:50.389620Z",
     "start_time": "2021-07-16T14:47:50.388164Z"
    }
   },
   "outputs": [],
   "source": [
    "day = day.day"
   ]
  },
  {
   "cell_type": "code",
   "execution_count": 38,
   "metadata": {
    "ExecuteTime": {
     "end_time": "2021-07-16T14:47:50.393174Z",
     "start_time": "2021-07-16T14:47:50.390440Z"
    }
   },
   "outputs": [
    {
     "data": {
      "text/plain": [
       "(200, 17)"
      ]
     },
     "execution_count": 38,
     "metadata": {},
     "output_type": "execute_result"
    }
   ],
   "source": [
    "df_netflix[df_netflix['day']==18].shape"
   ]
  },
  {
   "cell_type": "code",
   "execution_count": 39,
   "metadata": {
    "ExecuteTime": {
     "end_time": "2021-07-16T14:47:50.395253Z",
     "start_time": "2021-07-16T14:47:50.394004Z"
    }
   },
   "outputs": [],
   "source": [
    "# def show_day(df, day):\n",
    "#     if week = 'June 14th - June 19th'\n",
    "#         df = \n",
    "#     return df"
   ]
  },
  {
   "cell_type": "code",
   "execution_count": 40,
   "metadata": {
    "ExecuteTime": {
     "end_time": "2021-07-16T14:47:50.397234Z",
     "start_time": "2021-07-16T14:47:50.396019Z"
    }
   },
   "outputs": [],
   "source": [
    "# show_day(df_netflix, 18)"
   ]
  },
  {
   "cell_type": "code",
   "execution_count": 41,
   "metadata": {
    "ExecuteTime": {
     "end_time": "2021-07-16T14:47:50.400229Z",
     "start_time": "2021-07-16T14:47:50.398022Z"
    }
   },
   "outputs": [],
   "source": [
    "eighteen = df_netflix[df_netflix['day']==24]"
   ]
  },
  {
   "cell_type": "code",
   "execution_count": 42,
   "metadata": {
    "ExecuteTime": {
     "end_time": "2021-07-16T14:47:50.405561Z",
     "start_time": "2021-07-16T14:47:50.401049Z"
    }
   },
   "outputs": [
    {
     "data": {
      "text/html": [
       "<div>\n",
       "<style scoped>\n",
       "    .dataframe tbody tr th:only-of-type {\n",
       "        vertical-align: middle;\n",
       "    }\n",
       "\n",
       "    .dataframe tbody tr th {\n",
       "        vertical-align: top;\n",
       "    }\n",
       "\n",
       "    .dataframe thead th {\n",
       "        text-align: right;\n",
       "    }\n",
       "</style>\n",
       "<table border=\"1\" class=\"dataframe\">\n",
       "  <thead>\n",
       "    <tr style=\"text-align: right;\">\n",
       "      <th></th>\n",
       "      <th>title</th>\n",
       "      <th>description</th>\n",
       "      <th>content</th>\n",
       "      <th>results</th>\n",
       "      <th>Sentiment</th>\n",
       "    </tr>\n",
       "    <tr>\n",
       "      <th>publishedAt</th>\n",
       "      <th></th>\n",
       "      <th></th>\n",
       "      <th></th>\n",
       "      <th></th>\n",
       "      <th></th>\n",
       "    </tr>\n",
       "  </thead>\n",
       "  <tbody>\n",
       "  </tbody>\n",
       "</table>\n",
       "</div>"
      ],
      "text/plain": [
       "Empty DataFrame\n",
       "Columns: [title, description, content, results, Sentiment]\n",
       "Index: []"
      ]
     },
     "execution_count": 42,
     "metadata": {},
     "output_type": "execute_result"
    }
   ],
   "source": [
    "eighteen.iloc[:,[0,1,2,3,-1]]"
   ]
  },
  {
   "cell_type": "markdown",
   "metadata": {},
   "source": [
    "# Highlighting Specific Rows"
   ]
  },
  {
   "cell_type": "code",
   "execution_count": 43,
   "metadata": {
    "ExecuteTime": {
     "end_time": "2021-07-16T14:47:50.410985Z",
     "start_time": "2021-07-16T14:47:50.406546Z"
    }
   },
   "outputs": [],
   "source": [
    "#https://stackoverflow.com/questions/43596579/how-to-use-python-pandas-stylers-for-coloring-an-entire-row-based-on-a-given-col/43601040\n",
    "import pandas as pd\n",
    "import numpy as np\n",
    "\n",
    "np.random.seed(24)\n",
    "df = pd.DataFrame({'A': np.linspace(1, 10, 10)})\n",
    "\n",
    "df = pd.concat([df, pd.DataFrame(np.random.randn(10, 4), columns=list('BCDE'))],\n",
    "               axis=1)\n",
    "df.iloc[0, 2] = np.nan"
   ]
  },
  {
   "cell_type": "code",
   "execution_count": 44,
   "metadata": {
    "ExecuteTime": {
     "end_time": "2021-07-16T14:47:50.417059Z",
     "start_time": "2021-07-16T14:47:50.411823Z"
    }
   },
   "outputs": [
    {
     "data": {
      "text/html": [
       "<div>\n",
       "<style scoped>\n",
       "    .dataframe tbody tr th:only-of-type {\n",
       "        vertical-align: middle;\n",
       "    }\n",
       "\n",
       "    .dataframe tbody tr th {\n",
       "        vertical-align: top;\n",
       "    }\n",
       "\n",
       "    .dataframe thead th {\n",
       "        text-align: right;\n",
       "    }\n",
       "</style>\n",
       "<table border=\"1\" class=\"dataframe\">\n",
       "  <thead>\n",
       "    <tr style=\"text-align: right;\">\n",
       "      <th></th>\n",
       "      <th>A</th>\n",
       "      <th>B</th>\n",
       "      <th>C</th>\n",
       "      <th>D</th>\n",
       "      <th>E</th>\n",
       "    </tr>\n",
       "  </thead>\n",
       "  <tbody>\n",
       "    <tr>\n",
       "      <th>0</th>\n",
       "      <td>1.0</td>\n",
       "      <td>1.329212</td>\n",
       "      <td>NaN</td>\n",
       "      <td>-0.316280</td>\n",
       "      <td>-0.990810</td>\n",
       "    </tr>\n",
       "    <tr>\n",
       "      <th>1</th>\n",
       "      <td>2.0</td>\n",
       "      <td>-1.070816</td>\n",
       "      <td>-1.438713</td>\n",
       "      <td>0.564417</td>\n",
       "      <td>0.295722</td>\n",
       "    </tr>\n",
       "    <tr>\n",
       "      <th>2</th>\n",
       "      <td>3.0</td>\n",
       "      <td>-1.626404</td>\n",
       "      <td>0.219565</td>\n",
       "      <td>0.678805</td>\n",
       "      <td>1.889273</td>\n",
       "    </tr>\n",
       "    <tr>\n",
       "      <th>3</th>\n",
       "      <td>4.0</td>\n",
       "      <td>0.961538</td>\n",
       "      <td>0.104011</td>\n",
       "      <td>-0.481165</td>\n",
       "      <td>0.850229</td>\n",
       "    </tr>\n",
       "    <tr>\n",
       "      <th>4</th>\n",
       "      <td>5.0</td>\n",
       "      <td>1.453425</td>\n",
       "      <td>1.057737</td>\n",
       "      <td>0.165562</td>\n",
       "      <td>0.515018</td>\n",
       "    </tr>\n",
       "    <tr>\n",
       "      <th>5</th>\n",
       "      <td>6.0</td>\n",
       "      <td>-1.336936</td>\n",
       "      <td>0.562861</td>\n",
       "      <td>1.392855</td>\n",
       "      <td>-0.063328</td>\n",
       "    </tr>\n",
       "    <tr>\n",
       "      <th>6</th>\n",
       "      <td>7.0</td>\n",
       "      <td>0.121668</td>\n",
       "      <td>1.207603</td>\n",
       "      <td>-0.002040</td>\n",
       "      <td>1.627796</td>\n",
       "    </tr>\n",
       "    <tr>\n",
       "      <th>7</th>\n",
       "      <td>8.0</td>\n",
       "      <td>0.354493</td>\n",
       "      <td>1.037528</td>\n",
       "      <td>-0.385684</td>\n",
       "      <td>0.519818</td>\n",
       "    </tr>\n",
       "    <tr>\n",
       "      <th>8</th>\n",
       "      <td>9.0</td>\n",
       "      <td>1.686583</td>\n",
       "      <td>-1.325963</td>\n",
       "      <td>1.428984</td>\n",
       "      <td>-2.089354</td>\n",
       "    </tr>\n",
       "    <tr>\n",
       "      <th>9</th>\n",
       "      <td>10.0</td>\n",
       "      <td>-0.129820</td>\n",
       "      <td>0.631523</td>\n",
       "      <td>-0.586538</td>\n",
       "      <td>0.290720</td>\n",
       "    </tr>\n",
       "  </tbody>\n",
       "</table>\n",
       "</div>"
      ],
      "text/plain": [
       "      A         B         C         D         E\n",
       "0   1.0  1.329212       NaN -0.316280 -0.990810\n",
       "1   2.0 -1.070816 -1.438713  0.564417  0.295722\n",
       "2   3.0 -1.626404  0.219565  0.678805  1.889273\n",
       "3   4.0  0.961538  0.104011 -0.481165  0.850229\n",
       "4   5.0  1.453425  1.057737  0.165562  0.515018\n",
       "5   6.0 -1.336936  0.562861  1.392855 -0.063328\n",
       "6   7.0  0.121668  1.207603 -0.002040  1.627796\n",
       "7   8.0  0.354493  1.037528 -0.385684  0.519818\n",
       "8   9.0  1.686583 -1.325963  1.428984 -2.089354\n",
       "9  10.0 -0.129820  0.631523 -0.586538  0.290720"
      ]
     },
     "execution_count": 44,
     "metadata": {},
     "output_type": "execute_result"
    }
   ],
   "source": [
    "df"
   ]
  },
  {
   "cell_type": "code",
   "execution_count": 45,
   "metadata": {
    "ExecuteTime": {
     "end_time": "2021-07-16T14:47:50.610681Z",
     "start_time": "2021-07-16T14:47:50.418052Z"
    }
   },
   "outputs": [
    {
     "data": {
      "text/html": [
       "<style  type=\"text/css\" >\n",
       "#T_cb30d7a0_e644_11eb_875c_1e008a1ede39row0_col0,#T_cb30d7a0_e644_11eb_875c_1e008a1ede39row0_col1,#T_cb30d7a0_e644_11eb_875c_1e008a1ede39row0_col2,#T_cb30d7a0_e644_11eb_875c_1e008a1ede39row0_col3,#T_cb30d7a0_e644_11eb_875c_1e008a1ede39row0_col4,#T_cb30d7a0_e644_11eb_875c_1e008a1ede39row4_col0,#T_cb30d7a0_e644_11eb_875c_1e008a1ede39row4_col1,#T_cb30d7a0_e644_11eb_875c_1e008a1ede39row4_col2,#T_cb30d7a0_e644_11eb_875c_1e008a1ede39row4_col3,#T_cb30d7a0_e644_11eb_875c_1e008a1ede39row4_col4,#T_cb30d7a0_e644_11eb_875c_1e008a1ede39row6_col0,#T_cb30d7a0_e644_11eb_875c_1e008a1ede39row6_col1,#T_cb30d7a0_e644_11eb_875c_1e008a1ede39row6_col2,#T_cb30d7a0_e644_11eb_875c_1e008a1ede39row6_col3,#T_cb30d7a0_e644_11eb_875c_1e008a1ede39row6_col4,#T_cb30d7a0_e644_11eb_875c_1e008a1ede39row7_col0,#T_cb30d7a0_e644_11eb_875c_1e008a1ede39row7_col1,#T_cb30d7a0_e644_11eb_875c_1e008a1ede39row7_col2,#T_cb30d7a0_e644_11eb_875c_1e008a1ede39row7_col3,#T_cb30d7a0_e644_11eb_875c_1e008a1ede39row7_col4,#T_cb30d7a0_e644_11eb_875c_1e008a1ede39row8_col0,#T_cb30d7a0_e644_11eb_875c_1e008a1ede39row8_col1,#T_cb30d7a0_e644_11eb_875c_1e008a1ede39row8_col2,#T_cb30d7a0_e644_11eb_875c_1e008a1ede39row8_col3,#T_cb30d7a0_e644_11eb_875c_1e008a1ede39row8_col4{\n",
       "            background-color:  yellow;\n",
       "        }</style><table id=\"T_cb30d7a0_e644_11eb_875c_1e008a1ede39\" ><thead>    <tr>        <th class=\"blank level0\" ></th>        <th class=\"col_heading level0 col0\" >A</th>        <th class=\"col_heading level0 col1\" >B</th>        <th class=\"col_heading level0 col2\" >C</th>        <th class=\"col_heading level0 col3\" >D</th>        <th class=\"col_heading level0 col4\" >E</th>    </tr></thead><tbody>\n",
       "                <tr>\n",
       "                        <th id=\"T_cb30d7a0_e644_11eb_875c_1e008a1ede39level0_row0\" class=\"row_heading level0 row0\" >0</th>\n",
       "                        <td id=\"T_cb30d7a0_e644_11eb_875c_1e008a1ede39row0_col0\" class=\"data row0 col0\" >1.000000</td>\n",
       "                        <td id=\"T_cb30d7a0_e644_11eb_875c_1e008a1ede39row0_col1\" class=\"data row0 col1\" >1.329212</td>\n",
       "                        <td id=\"T_cb30d7a0_e644_11eb_875c_1e008a1ede39row0_col2\" class=\"data row0 col2\" >nan</td>\n",
       "                        <td id=\"T_cb30d7a0_e644_11eb_875c_1e008a1ede39row0_col3\" class=\"data row0 col3\" >-0.316280</td>\n",
       "                        <td id=\"T_cb30d7a0_e644_11eb_875c_1e008a1ede39row0_col4\" class=\"data row0 col4\" >-0.990810</td>\n",
       "            </tr>\n",
       "            <tr>\n",
       "                        <th id=\"T_cb30d7a0_e644_11eb_875c_1e008a1ede39level0_row1\" class=\"row_heading level0 row1\" >1</th>\n",
       "                        <td id=\"T_cb30d7a0_e644_11eb_875c_1e008a1ede39row1_col0\" class=\"data row1 col0\" >2.000000</td>\n",
       "                        <td id=\"T_cb30d7a0_e644_11eb_875c_1e008a1ede39row1_col1\" class=\"data row1 col1\" >-1.070816</td>\n",
       "                        <td id=\"T_cb30d7a0_e644_11eb_875c_1e008a1ede39row1_col2\" class=\"data row1 col2\" >-1.438713</td>\n",
       "                        <td id=\"T_cb30d7a0_e644_11eb_875c_1e008a1ede39row1_col3\" class=\"data row1 col3\" >0.564417</td>\n",
       "                        <td id=\"T_cb30d7a0_e644_11eb_875c_1e008a1ede39row1_col4\" class=\"data row1 col4\" >0.295722</td>\n",
       "            </tr>\n",
       "            <tr>\n",
       "                        <th id=\"T_cb30d7a0_e644_11eb_875c_1e008a1ede39level0_row2\" class=\"row_heading level0 row2\" >2</th>\n",
       "                        <td id=\"T_cb30d7a0_e644_11eb_875c_1e008a1ede39row2_col0\" class=\"data row2 col0\" >3.000000</td>\n",
       "                        <td id=\"T_cb30d7a0_e644_11eb_875c_1e008a1ede39row2_col1\" class=\"data row2 col1\" >-1.626404</td>\n",
       "                        <td id=\"T_cb30d7a0_e644_11eb_875c_1e008a1ede39row2_col2\" class=\"data row2 col2\" >0.219565</td>\n",
       "                        <td id=\"T_cb30d7a0_e644_11eb_875c_1e008a1ede39row2_col3\" class=\"data row2 col3\" >0.678805</td>\n",
       "                        <td id=\"T_cb30d7a0_e644_11eb_875c_1e008a1ede39row2_col4\" class=\"data row2 col4\" >1.889273</td>\n",
       "            </tr>\n",
       "            <tr>\n",
       "                        <th id=\"T_cb30d7a0_e644_11eb_875c_1e008a1ede39level0_row3\" class=\"row_heading level0 row3\" >3</th>\n",
       "                        <td id=\"T_cb30d7a0_e644_11eb_875c_1e008a1ede39row3_col0\" class=\"data row3 col0\" >4.000000</td>\n",
       "                        <td id=\"T_cb30d7a0_e644_11eb_875c_1e008a1ede39row3_col1\" class=\"data row3 col1\" >0.961538</td>\n",
       "                        <td id=\"T_cb30d7a0_e644_11eb_875c_1e008a1ede39row3_col2\" class=\"data row3 col2\" >0.104011</td>\n",
       "                        <td id=\"T_cb30d7a0_e644_11eb_875c_1e008a1ede39row3_col3\" class=\"data row3 col3\" >-0.481165</td>\n",
       "                        <td id=\"T_cb30d7a0_e644_11eb_875c_1e008a1ede39row3_col4\" class=\"data row3 col4\" >0.850229</td>\n",
       "            </tr>\n",
       "            <tr>\n",
       "                        <th id=\"T_cb30d7a0_e644_11eb_875c_1e008a1ede39level0_row4\" class=\"row_heading level0 row4\" >4</th>\n",
       "                        <td id=\"T_cb30d7a0_e644_11eb_875c_1e008a1ede39row4_col0\" class=\"data row4 col0\" >5.000000</td>\n",
       "                        <td id=\"T_cb30d7a0_e644_11eb_875c_1e008a1ede39row4_col1\" class=\"data row4 col1\" >1.453425</td>\n",
       "                        <td id=\"T_cb30d7a0_e644_11eb_875c_1e008a1ede39row4_col2\" class=\"data row4 col2\" >1.057737</td>\n",
       "                        <td id=\"T_cb30d7a0_e644_11eb_875c_1e008a1ede39row4_col3\" class=\"data row4 col3\" >0.165562</td>\n",
       "                        <td id=\"T_cb30d7a0_e644_11eb_875c_1e008a1ede39row4_col4\" class=\"data row4 col4\" >0.515018</td>\n",
       "            </tr>\n",
       "            <tr>\n",
       "                        <th id=\"T_cb30d7a0_e644_11eb_875c_1e008a1ede39level0_row5\" class=\"row_heading level0 row5\" >5</th>\n",
       "                        <td id=\"T_cb30d7a0_e644_11eb_875c_1e008a1ede39row5_col0\" class=\"data row5 col0\" >6.000000</td>\n",
       "                        <td id=\"T_cb30d7a0_e644_11eb_875c_1e008a1ede39row5_col1\" class=\"data row5 col1\" >-1.336936</td>\n",
       "                        <td id=\"T_cb30d7a0_e644_11eb_875c_1e008a1ede39row5_col2\" class=\"data row5 col2\" >0.562861</td>\n",
       "                        <td id=\"T_cb30d7a0_e644_11eb_875c_1e008a1ede39row5_col3\" class=\"data row5 col3\" >1.392855</td>\n",
       "                        <td id=\"T_cb30d7a0_e644_11eb_875c_1e008a1ede39row5_col4\" class=\"data row5 col4\" >-0.063328</td>\n",
       "            </tr>\n",
       "            <tr>\n",
       "                        <th id=\"T_cb30d7a0_e644_11eb_875c_1e008a1ede39level0_row6\" class=\"row_heading level0 row6\" >6</th>\n",
       "                        <td id=\"T_cb30d7a0_e644_11eb_875c_1e008a1ede39row6_col0\" class=\"data row6 col0\" >7.000000</td>\n",
       "                        <td id=\"T_cb30d7a0_e644_11eb_875c_1e008a1ede39row6_col1\" class=\"data row6 col1\" >0.121668</td>\n",
       "                        <td id=\"T_cb30d7a0_e644_11eb_875c_1e008a1ede39row6_col2\" class=\"data row6 col2\" >1.207603</td>\n",
       "                        <td id=\"T_cb30d7a0_e644_11eb_875c_1e008a1ede39row6_col3\" class=\"data row6 col3\" >-0.002040</td>\n",
       "                        <td id=\"T_cb30d7a0_e644_11eb_875c_1e008a1ede39row6_col4\" class=\"data row6 col4\" >1.627796</td>\n",
       "            </tr>\n",
       "            <tr>\n",
       "                        <th id=\"T_cb30d7a0_e644_11eb_875c_1e008a1ede39level0_row7\" class=\"row_heading level0 row7\" >7</th>\n",
       "                        <td id=\"T_cb30d7a0_e644_11eb_875c_1e008a1ede39row7_col0\" class=\"data row7 col0\" >8.000000</td>\n",
       "                        <td id=\"T_cb30d7a0_e644_11eb_875c_1e008a1ede39row7_col1\" class=\"data row7 col1\" >0.354493</td>\n",
       "                        <td id=\"T_cb30d7a0_e644_11eb_875c_1e008a1ede39row7_col2\" class=\"data row7 col2\" >1.037528</td>\n",
       "                        <td id=\"T_cb30d7a0_e644_11eb_875c_1e008a1ede39row7_col3\" class=\"data row7 col3\" >-0.385684</td>\n",
       "                        <td id=\"T_cb30d7a0_e644_11eb_875c_1e008a1ede39row7_col4\" class=\"data row7 col4\" >0.519818</td>\n",
       "            </tr>\n",
       "            <tr>\n",
       "                        <th id=\"T_cb30d7a0_e644_11eb_875c_1e008a1ede39level0_row8\" class=\"row_heading level0 row8\" >8</th>\n",
       "                        <td id=\"T_cb30d7a0_e644_11eb_875c_1e008a1ede39row8_col0\" class=\"data row8 col0\" >9.000000</td>\n",
       "                        <td id=\"T_cb30d7a0_e644_11eb_875c_1e008a1ede39row8_col1\" class=\"data row8 col1\" >1.686583</td>\n",
       "                        <td id=\"T_cb30d7a0_e644_11eb_875c_1e008a1ede39row8_col2\" class=\"data row8 col2\" >-1.325963</td>\n",
       "                        <td id=\"T_cb30d7a0_e644_11eb_875c_1e008a1ede39row8_col3\" class=\"data row8 col3\" >1.428984</td>\n",
       "                        <td id=\"T_cb30d7a0_e644_11eb_875c_1e008a1ede39row8_col4\" class=\"data row8 col4\" >-2.089354</td>\n",
       "            </tr>\n",
       "            <tr>\n",
       "                        <th id=\"T_cb30d7a0_e644_11eb_875c_1e008a1ede39level0_row9\" class=\"row_heading level0 row9\" >9</th>\n",
       "                        <td id=\"T_cb30d7a0_e644_11eb_875c_1e008a1ede39row9_col0\" class=\"data row9 col0\" >10.000000</td>\n",
       "                        <td id=\"T_cb30d7a0_e644_11eb_875c_1e008a1ede39row9_col1\" class=\"data row9 col1\" >-0.129820</td>\n",
       "                        <td id=\"T_cb30d7a0_e644_11eb_875c_1e008a1ede39row9_col2\" class=\"data row9 col2\" >0.631523</td>\n",
       "                        <td id=\"T_cb30d7a0_e644_11eb_875c_1e008a1ede39row9_col3\" class=\"data row9 col3\" >-0.586538</td>\n",
       "                        <td id=\"T_cb30d7a0_e644_11eb_875c_1e008a1ede39row9_col4\" class=\"data row9 col4\" >0.290720</td>\n",
       "            </tr>\n",
       "    </tbody></table>"
      ],
      "text/plain": [
       "<pandas.io.formats.style.Styler at 0x7fce487ab910>"
      ]
     },
     "execution_count": 45,
     "metadata": {},
     "output_type": "execute_result"
    }
   ],
   "source": [
    "def highlight_greaterthan(s, threshold, column):\n",
    "    is_max = pd.Series(data=False, index=s.index)\n",
    "    is_max[column] = s.loc[column] >= threshold\n",
    "    return ['background-color: yellow' if is_max.any() else '' for v in is_max]\n",
    "\n",
    "\n",
    "df.style.apply(highlight_greaterthan, threshold=1.0, column=['C', 'B'], axis=1)"
   ]
  },
  {
   "cell_type": "code",
   "execution_count": 46,
   "metadata": {
    "ExecuteTime": {
     "end_time": "2021-07-16T14:47:50.784630Z",
     "start_time": "2021-07-16T14:47:50.611616Z"
    }
   },
   "outputs": [
    {
     "data": {
      "text/plain": [
       "<AxesSubplot:ylabel='Frequency'>"
      ]
     },
     "execution_count": 46,
     "metadata": {},
     "output_type": "execute_result"
    },
    {
     "data": {
      "image/png": "[encoded data removed]",
      "text/plain": [
       "<Figure size 432x288 with 1 Axes>"
      ]
     },
     "metadata": {
      "needs_background": "light"
     },
     "output_type": "display_data"
    }
   ],
   "source": [
    "df_netflix['comp'].plot(kind='hist', bins=40)"
   ]
  },
  {
   "cell_type": "code",
   "execution_count": 47,
   "metadata": {
    "ExecuteTime": {
     "end_time": "2021-07-16T14:47:50.789971Z",
     "start_time": "2021-07-16T14:47:50.785612Z"
    }
   },
   "outputs": [
    {
     "data": {
      "text/plain": [
       "False    968\n",
       "True      66\n",
       "Name: comp, dtype: int64"
      ]
     },
     "execution_count": 47,
     "metadata": {},
     "output_type": "execute_result"
    }
   ],
   "source": [
    "(df_netflix['comp']>0.90).value_counts()"
   ]
  },
  {
   "cell_type": "code",
   "execution_count": 48,
   "metadata": {
    "ExecuteTime": {
     "end_time": "2021-07-16T14:47:50.794487Z",
     "start_time": "2021-07-16T14:47:50.790816Z"
    }
   },
   "outputs": [
    {
     "data": {
      "text/plain": [
       "False    975\n",
       "True      59\n",
       "Name: comp, dtype: int64"
      ]
     },
     "execution_count": 48,
     "metadata": {},
     "output_type": "execute_result"
    }
   ],
   "source": [
    "(df_netflix['comp']<-0.75).value_counts()"
   ]
  },
  {
   "cell_type": "code",
   "execution_count": 49,
   "metadata": {
    "ExecuteTime": {
     "end_time": "2021-07-16T14:47:50.797135Z",
     "start_time": "2021-07-16T14:47:50.795393Z"
    }
   },
   "outputs": [],
   "source": [
    "def highlight(s):\n",
    "    if s['comp'] > 0.2:\n",
    "        return 'background-color: yellow'\n",
    "    else:\n",
    "        return 'background-color: white'"
   ]
  },
  {
   "cell_type": "code",
   "execution_count": 50,
   "metadata": {
    "ExecuteTime": {
     "end_time": "2021-07-16T14:47:50.808100Z",
     "start_time": "2021-07-16T14:47:50.797971Z"
    }
   },
   "outputs": [
    {
     "data": {
      "text/plain": [
       "publishedAt\n",
       "2021-06-14 09:00:00-04:00    background-color: yellow\n",
       "2021-06-14 09:00:00-04:00     background-color: white\n",
       "2021-06-14 09:00:00-04:00     background-color: white\n",
       "2021-06-14 09:00:10-04:00     background-color: white\n",
       "2021-06-14 09:00:58-04:00    background-color: yellow\n",
       "                                       ...           \n",
       "2021-06-18 15:45:00-04:00     background-color: white\n",
       "2021-06-18 15:52:00-04:00     background-color: white\n",
       "2021-06-18 15:52:46-04:00    background-color: yellow\n",
       "2021-06-18 15:53:00-04:00     background-color: white\n",
       "2021-06-18 15:54:00-04:00    background-color: yellow\n",
       "Length: 1034, dtype: object"
      ]
     },
     "execution_count": 50,
     "metadata": {},
     "output_type": "execute_result"
    }
   ],
   "source": [
    "df_netflix.apply(highlight, axis=1)"
   ]
  },
  {
   "cell_type": "code",
   "execution_count": 51,
   "metadata": {
    "ExecuteTime": {
     "end_time": "2021-07-16T14:47:50.824861Z",
     "start_time": "2021-07-16T14:47:50.808995Z"
    }
   },
   "outputs": [
    {
     "data": {
      "text/html": [
       "<div>\n",
       "<style scoped>\n",
       "    .dataframe tbody tr th:only-of-type {\n",
       "        vertical-align: middle;\n",
       "    }\n",
       "\n",
       "    .dataframe tbody tr th {\n",
       "        vertical-align: top;\n",
       "    }\n",
       "\n",
       "    .dataframe thead th {\n",
       "        text-align: right;\n",
       "    }\n",
       "</style>\n",
       "<table border=\"1\" class=\"dataframe\">\n",
       "  <thead>\n",
       "    <tr style=\"text-align: right;\">\n",
       "      <th></th>\n",
       "      <th>title</th>\n",
       "      <th>description</th>\n",
       "      <th>content</th>\n",
       "      <th>results</th>\n",
       "      <th>source2</th>\n",
       "      <th>hour</th>\n",
       "      <th>day</th>\n",
       "      <th>cont_joined</th>\n",
       "      <th>neg</th>\n",
       "      <th>neu</th>\n",
       "      <th>pos</th>\n",
       "      <th>comp</th>\n",
       "      <th>blob</th>\n",
       "      <th>comp_abs</th>\n",
       "      <th>blob_abs</th>\n",
       "      <th>c_b</th>\n",
       "      <th>Sentiment</th>\n",
       "    </tr>\n",
       "    <tr>\n",
       "      <th>publishedAt</th>\n",
       "      <th></th>\n",
       "      <th></th>\n",
       "      <th></th>\n",
       "      <th></th>\n",
       "      <th></th>\n",
       "      <th></th>\n",
       "      <th></th>\n",
       "      <th></th>\n",
       "      <th></th>\n",
       "      <th></th>\n",
       "      <th></th>\n",
       "      <th></th>\n",
       "      <th></th>\n",
       "      <th></th>\n",
       "      <th></th>\n",
       "      <th></th>\n",
       "      <th></th>\n",
       "    </tr>\n",
       "  </thead>\n",
       "  <tbody>\n",
       "    <tr>\n",
       "      <th>2021-06-14 09:00:00-04:00</th>\n",
       "      <td>Business / Arts Announces Annual Award Recipie...</td>\n",
       "      <td>TORONTO, June 14, 2021 (GLOBE NEWSWIRE) -- Bus...</td>\n",
       "      <td>TORONTO, June 14, 2021 (GLOBE NEWSWIRE) -- Bus...</td>\n",
       "      <td>25.0</td>\n",
       "      <td>GlobeNewswire</td>\n",
       "      <td>9.0</td>\n",
       "      <td>14.0</td>\n",
       "      <td>Business / Arts Announces Annual Award Recipie...</td>\n",
       "      <td>0.000</td>\n",
       "      <td>0.645</td>\n",
       "      <td>0.355</td>\n",
       "      <td>0.9382</td>\n",
       "      <td>0.200000</td>\n",
       "      <td>1</td>\n",
       "      <td>1</td>\n",
       "      <td>0.738200</td>\n",
       "      <td>1</td>\n",
       "    </tr>\n",
       "    <tr>\n",
       "      <th>2021-06-14 09:00:00-04:00</th>\n",
       "      <td>Video Games Don’t Have To Be So Violent, And E...</td>\n",
       "      <td>When the average person approaches an event li...</td>\n",
       "      <td>When the average person approaches an event li...</td>\n",
       "      <td>25.0</td>\n",
       "      <td>UPROXX</td>\n",
       "      <td>9.0</td>\n",
       "      <td>14.0</td>\n",
       "      <td>Video Games Don’t Have To Be So Violent, And E...</td>\n",
       "      <td>0.111</td>\n",
       "      <td>0.813</td>\n",
       "      <td>0.076</td>\n",
       "      <td>-0.4576</td>\n",
       "      <td>-0.180952</td>\n",
       "      <td>-1</td>\n",
       "      <td>-1</td>\n",
       "      <td>-0.276648</td>\n",
       "      <td>-1</td>\n",
       "    </tr>\n",
       "    <tr>\n",
       "      <th>2021-06-14 09:00:00-04:00</th>\n",
       "      <td>Apple TV 4K (2nd Generation)</td>\n",
       "      <td>Apple has broadened its media streaming horizo...</td>\n",
       "      <td>Apple has broadened its media streaming horizo...</td>\n",
       "      <td>25.0</td>\n",
       "      <td>PCMag</td>\n",
       "      <td>9.0</td>\n",
       "      <td>14.0</td>\n",
       "      <td>Apple TV 4K (2nd Generation); Apple has broade...</td>\n",
       "      <td>0.000</td>\n",
       "      <td>1.000</td>\n",
       "      <td>0.000</td>\n",
       "      <td>0.0000</td>\n",
       "      <td>-0.150000</td>\n",
       "      <td>0</td>\n",
       "      <td>-1</td>\n",
       "      <td>0.150000</td>\n",
       "      <td>0</td>\n",
       "    </tr>\n",
       "    <tr>\n",
       "      <th>2021-06-14 09:00:10-04:00</th>\n",
       "      <td>‘Centaurworld’: Netflix Drops First Trailer Fo...</td>\n",
       "      <td>Netflix has dropped the first trailer for anim...</td>\n",
       "      <td>Netflix has dropped the first trailer for anim...</td>\n",
       "      <td>25.0</td>\n",
       "      <td>Deadline</td>\n",
       "      <td>9.0</td>\n",
       "      <td>14.0</td>\n",
       "      <td>‘Centaurworld’: Netflix Drops First Trailer Fo...</td>\n",
       "      <td>0.000</td>\n",
       "      <td>1.000</td>\n",
       "      <td>0.000</td>\n",
       "      <td>0.0000</td>\n",
       "      <td>0.125000</td>\n",
       "      <td>0</td>\n",
       "      <td>0</td>\n",
       "      <td>-0.125000</td>\n",
       "      <td>0</td>\n",
       "    </tr>\n",
       "    <tr>\n",
       "      <th>2021-06-14 09:00:58-04:00</th>\n",
       "      <td>‘Karma’s World’: Ludacris Talks Animated Netfl...</td>\n",
       "      <td>As part of its Kids and Family Sneak Peek at t...</td>\n",
       "      <td>As part of its Kids and Family Sneak Peek at t...</td>\n",
       "      <td>25.0</td>\n",
       "      <td>Deadline</td>\n",
       "      <td>9.0</td>\n",
       "      <td>14.0</td>\n",
       "      <td>‘Karma’s World’: Ludacris Talks Animated Netfl...</td>\n",
       "      <td>0.000</td>\n",
       "      <td>0.840</td>\n",
       "      <td>0.160</td>\n",
       "      <td>0.8126</td>\n",
       "      <td>0.090909</td>\n",
       "      <td>1</td>\n",
       "      <td>0</td>\n",
       "      <td>0.721691</td>\n",
       "      <td>1</td>\n",
       "    </tr>\n",
       "    <tr>\n",
       "      <th>...</th>\n",
       "      <td>...</td>\n",
       "      <td>...</td>\n",
       "      <td>...</td>\n",
       "      <td>...</td>\n",
       "      <td>...</td>\n",
       "      <td>...</td>\n",
       "      <td>...</td>\n",
       "      <td>...</td>\n",
       "      <td>...</td>\n",
       "      <td>...</td>\n",
       "      <td>...</td>\n",
       "      <td>...</td>\n",
       "      <td>...</td>\n",
       "      <td>...</td>\n",
       "      <td>...</td>\n",
       "      <td>...</td>\n",
       "      <td>...</td>\n",
       "    </tr>\n",
       "    <tr>\n",
       "      <th>2021-06-18 15:45:00-04:00</th>\n",
       "      <td>Gundam Hathaway Producer Teases 2nd Film, But ...</td>\n",
       "      <td>Mobile Suit Gundam Hathaway producer Naohiro O...</td>\n",
       "      <td>Mobile Suit Gundam Hathaway producer Naohiro O...</td>\n",
       "      <td>29.0</td>\n",
       "      <td>Anime News Network</td>\n",
       "      <td>15.0</td>\n",
       "      <td>18.0</td>\n",
       "      <td>Gundam Hathaway Producer Teases 2nd Film, But ...</td>\n",
       "      <td>0.078</td>\n",
       "      <td>0.867</td>\n",
       "      <td>0.055</td>\n",
       "      <td>-0.0258</td>\n",
       "      <td>0.002778</td>\n",
       "      <td>0</td>\n",
       "      <td>0</td>\n",
       "      <td>-0.028578</td>\n",
       "      <td>0</td>\n",
       "    </tr>\n",
       "    <tr>\n",
       "      <th>2021-06-18 15:52:00-04:00</th>\n",
       "      <td>Two Golden Globes Voters Resign, Calling Holly...</td>\n",
       "      <td>Two Golden Globes voters resigned in protest o...</td>\n",
       "      <td>Two Golden Globes voters resigned in protest o...</td>\n",
       "      <td>29.0</td>\n",
       "      <td>Jezebel</td>\n",
       "      <td>15.0</td>\n",
       "      <td>18.0</td>\n",
       "      <td>Two Golden Globes Voters Resign, Calling Holly...</td>\n",
       "      <td>0.176</td>\n",
       "      <td>0.824</td>\n",
       "      <td>0.000</td>\n",
       "      <td>-0.7269</td>\n",
       "      <td>0.036508</td>\n",
       "      <td>-1</td>\n",
       "      <td>0</td>\n",
       "      <td>-0.763408</td>\n",
       "      <td>-1</td>\n",
       "    </tr>\n",
       "    <tr>\n",
       "      <th>2021-06-18 15:52:46-04:00</th>\n",
       "      <td>Rurouni Kenshin, the decade’s best live-action...</td>\n",
       "      <td>Rurouni Kenshin is one of the most popular man...</td>\n",
       "      <td>Rurouni Kenshin is one of the most popular man...</td>\n",
       "      <td>29.0</td>\n",
       "      <td>Polygon</td>\n",
       "      <td>15.0</td>\n",
       "      <td>18.0</td>\n",
       "      <td>Rurouni Kenshin, the decade’s best live-action...</td>\n",
       "      <td>0.103</td>\n",
       "      <td>0.767</td>\n",
       "      <td>0.130</td>\n",
       "      <td>0.3597</td>\n",
       "      <td>0.366667</td>\n",
       "      <td>1</td>\n",
       "      <td>1</td>\n",
       "      <td>-0.006967</td>\n",
       "      <td>1</td>\n",
       "    </tr>\n",
       "    <tr>\n",
       "      <th>2021-06-18 15:53:00-04:00</th>\n",
       "      <td>Castlevania Advance Collection Pops Up On Aust...</td>\n",
       "      <td>If an Australian Classification Board rating i...</td>\n",
       "      <td>If an Australian Classification Board rating i...</td>\n",
       "      <td>29.0</td>\n",
       "      <td>GameSpot</td>\n",
       "      <td>15.0</td>\n",
       "      <td>18.0</td>\n",
       "      <td>Castlevania Advance Collection Pops Up On Aust...</td>\n",
       "      <td>0.000</td>\n",
       "      <td>1.000</td>\n",
       "      <td>0.000</td>\n",
       "      <td>0.0000</td>\n",
       "      <td>-0.065909</td>\n",
       "      <td>0</td>\n",
       "      <td>0</td>\n",
       "      <td>0.065909</td>\n",
       "      <td>0</td>\n",
       "    </tr>\n",
       "    <tr>\n",
       "      <th>2021-06-18 15:54:00-04:00</th>\n",
       "      <td>La Borinquena Caribbean Business</td>\n",
       "      <td>Edgardo Miranda-Rodríguez, creator of La Borin...</td>\n",
       "      <td>Edgardo Miranda-Rodríguez, creator of La Borin...</td>\n",
       "      <td>29.0</td>\n",
       "      <td>ComicBook</td>\n",
       "      <td>15.0</td>\n",
       "      <td>18.0</td>\n",
       "      <td>La Borinquena Caribbean Business; Edgardo Mira...</td>\n",
       "      <td>0.000</td>\n",
       "      <td>0.922</td>\n",
       "      <td>0.078</td>\n",
       "      <td>0.4215</td>\n",
       "      <td>0.000000</td>\n",
       "      <td>1</td>\n",
       "      <td>0</td>\n",
       "      <td>0.421500</td>\n",
       "      <td>1</td>\n",
       "    </tr>\n",
       "  </tbody>\n",
       "</table>\n",
       "<p>1034 rows × 17 columns</p>\n",
       "</div>"
      ],
      "text/plain": [
       "                                                                       title  \\\n",
       "publishedAt                                                                    \n",
       "2021-06-14 09:00:00-04:00  Business / Arts Announces Annual Award Recipie...   \n",
       "2021-06-14 09:00:00-04:00  Video Games Don’t Have To Be So Violent, And E...   \n",
       "2021-06-14 09:00:00-04:00                       Apple TV 4K (2nd Generation)   \n",
       "2021-06-14 09:00:10-04:00  ‘Centaurworld’: Netflix Drops First Trailer Fo...   \n",
       "2021-06-14 09:00:58-04:00  ‘Karma’s World’: Ludacris Talks Animated Netfl...   \n",
       "...                                                                      ...   \n",
       "2021-06-18 15:45:00-04:00  Gundam Hathaway Producer Teases 2nd Film, But ...   \n",
       "2021-06-18 15:52:00-04:00  Two Golden Globes Voters Resign, Calling Holly...   \n",
       "2021-06-18 15:52:46-04:00  Rurouni Kenshin, the decade’s best live-action...   \n",
       "2021-06-18 15:53:00-04:00  Castlevania Advance Collection Pops Up On Aust...   \n",
       "2021-06-18 15:54:00-04:00                   La Borinquena Caribbean Business   \n",
       "\n",
       "                                                                 description  \\\n",
       "publishedAt                                                                    \n",
       "2021-06-14 09:00:00-04:00  TORONTO, June 14, 2021 (GLOBE NEWSWIRE) -- Bus...   \n",
       "2021-06-14 09:00:00-04:00  When the average person approaches an event li...   \n",
       "2021-06-14 09:00:00-04:00  Apple has broadened its media streaming horizo...   \n",
       "2021-06-14 09:00:10-04:00  Netflix has dropped the first trailer for anim...   \n",
       "2021-06-14 09:00:58-04:00  As part of its Kids and Family Sneak Peek at t...   \n",
       "...                                                                      ...   \n",
       "2021-06-18 15:45:00-04:00  Mobile Suit Gundam Hathaway producer Naohiro O...   \n",
       "2021-06-18 15:52:00-04:00  Two Golden Globes voters resigned in protest o...   \n",
       "2021-06-18 15:52:46-04:00  Rurouni Kenshin is one of the most popular man...   \n",
       "2021-06-18 15:53:00-04:00  If an Australian Classification Board rating i...   \n",
       "2021-06-18 15:54:00-04:00  Edgardo Miranda-Rodríguez, creator of La Borin...   \n",
       "\n",
       "                                                                     content  \\\n",
       "publishedAt                                                                    \n",
       "2021-06-14 09:00:00-04:00  TORONTO, June 14, 2021 (GLOBE NEWSWIRE) -- Bus...   \n",
       "2021-06-14 09:00:00-04:00  When the average person approaches an event li...   \n",
       "2021-06-14 09:00:00-04:00  Apple has broadened its media streaming horizo...   \n",
       "2021-06-14 09:00:10-04:00  Netflix has dropped the first trailer for anim...   \n",
       "2021-06-14 09:00:58-04:00  As part of its Kids and Family Sneak Peek at t...   \n",
       "...                                                                      ...   \n",
       "2021-06-18 15:45:00-04:00  Mobile Suit Gundam Hathaway producer Naohiro O...   \n",
       "2021-06-18 15:52:00-04:00  Two Golden Globes voters resigned in protest o...   \n",
       "2021-06-18 15:52:46-04:00  Rurouni Kenshin is one of the most popular man...   \n",
       "2021-06-18 15:53:00-04:00  If an Australian Classification Board rating i...   \n",
       "2021-06-18 15:54:00-04:00  Edgardo Miranda-Rodríguez, creator of La Borin...   \n",
       "\n",
       "                           results             source2  hour   day  \\\n",
       "publishedAt                                                          \n",
       "2021-06-14 09:00:00-04:00     25.0       GlobeNewswire   9.0  14.0   \n",
       "2021-06-14 09:00:00-04:00     25.0              UPROXX   9.0  14.0   \n",
       "2021-06-14 09:00:00-04:00     25.0               PCMag   9.0  14.0   \n",
       "2021-06-14 09:00:10-04:00     25.0            Deadline   9.0  14.0   \n",
       "2021-06-14 09:00:58-04:00     25.0            Deadline   9.0  14.0   \n",
       "...                            ...                 ...   ...   ...   \n",
       "2021-06-18 15:45:00-04:00     29.0  Anime News Network  15.0  18.0   \n",
       "2021-06-18 15:52:00-04:00     29.0             Jezebel  15.0  18.0   \n",
       "2021-06-18 15:52:46-04:00     29.0             Polygon  15.0  18.0   \n",
       "2021-06-18 15:53:00-04:00     29.0            GameSpot  15.0  18.0   \n",
       "2021-06-18 15:54:00-04:00     29.0           ComicBook  15.0  18.0   \n",
       "\n",
       "                                                                 cont_joined  \\\n",
       "publishedAt                                                                    \n",
       "2021-06-14 09:00:00-04:00  Business / Arts Announces Annual Award Recipie...   \n",
       "2021-06-14 09:00:00-04:00  Video Games Don’t Have To Be So Violent, And E...   \n",
       "2021-06-14 09:00:00-04:00  Apple TV 4K (2nd Generation); Apple has broade...   \n",
       "2021-06-14 09:00:10-04:00  ‘Centaurworld’: Netflix Drops First Trailer Fo...   \n",
       "2021-06-14 09:00:58-04:00  ‘Karma’s World’: Ludacris Talks Animated Netfl...   \n",
       "...                                                                      ...   \n",
       "2021-06-18 15:45:00-04:00  Gundam Hathaway Producer Teases 2nd Film, But ...   \n",
       "2021-06-18 15:52:00-04:00  Two Golden Globes Voters Resign, Calling Holly...   \n",
       "2021-06-18 15:52:46-04:00  Rurouni Kenshin, the decade’s best live-action...   \n",
       "2021-06-18 15:53:00-04:00  Castlevania Advance Collection Pops Up On Aust...   \n",
       "2021-06-18 15:54:00-04:00  La Borinquena Caribbean Business; Edgardo Mira...   \n",
       "\n",
       "                             neg    neu    pos    comp      blob  comp_abs  \\\n",
       "publishedAt                                                                  \n",
       "2021-06-14 09:00:00-04:00  0.000  0.645  0.355  0.9382  0.200000         1   \n",
       "2021-06-14 09:00:00-04:00  0.111  0.813  0.076 -0.4576 -0.180952        -1   \n",
       "2021-06-14 09:00:00-04:00  0.000  1.000  0.000  0.0000 -0.150000         0   \n",
       "2021-06-14 09:00:10-04:00  0.000  1.000  0.000  0.0000  0.125000         0   \n",
       "2021-06-14 09:00:58-04:00  0.000  0.840  0.160  0.8126  0.090909         1   \n",
       "...                          ...    ...    ...     ...       ...       ...   \n",
       "2021-06-18 15:45:00-04:00  0.078  0.867  0.055 -0.0258  0.002778         0   \n",
       "2021-06-18 15:52:00-04:00  0.176  0.824  0.000 -0.7269  0.036508        -1   \n",
       "2021-06-18 15:52:46-04:00  0.103  0.767  0.130  0.3597  0.366667         1   \n",
       "2021-06-18 15:53:00-04:00  0.000  1.000  0.000  0.0000 -0.065909         0   \n",
       "2021-06-18 15:54:00-04:00  0.000  0.922  0.078  0.4215  0.000000         1   \n",
       "\n",
       "                           blob_abs       c_b  Sentiment  \n",
       "publishedAt                                               \n",
       "2021-06-14 09:00:00-04:00         1  0.738200          1  \n",
       "2021-06-14 09:00:00-04:00        -1 -0.276648         -1  \n",
       "2021-06-14 09:00:00-04:00        -1  0.150000          0  \n",
       "2021-06-14 09:00:10-04:00         0 -0.125000          0  \n",
       "2021-06-14 09:00:58-04:00         0  0.721691          1  \n",
       "...                             ...       ...        ...  \n",
       "2021-06-18 15:45:00-04:00         0 -0.028578          0  \n",
       "2021-06-18 15:52:00-04:00         0 -0.763408         -1  \n",
       "2021-06-18 15:52:46-04:00         1 -0.006967          1  \n",
       "2021-06-18 15:53:00-04:00         0  0.065909          0  \n",
       "2021-06-18 15:54:00-04:00         0  0.421500          1  \n",
       "\n",
       "[1034 rows x 17 columns]"
      ]
     },
     "execution_count": 51,
     "metadata": {},
     "output_type": "execute_result"
    }
   ],
   "source": [
    "df_netflix"
   ]
  },
  {
   "cell_type": "code",
   "execution_count": 52,
   "metadata": {
    "ExecuteTime": {
     "end_time": "2021-07-16T14:47:50.831273Z",
     "start_time": "2021-07-16T14:47:50.827791Z"
    }
   },
   "outputs": [],
   "source": [
    "df.dropna(inplace=True)"
   ]
  },
  {
   "cell_type": "code",
   "execution_count": 53,
   "metadata": {
    "ExecuteTime": {
     "end_time": "2021-07-16T14:47:50.834628Z",
     "start_time": "2021-07-16T14:47:50.832338Z"
    }
   },
   "outputs": [],
   "source": [
    "num = 7\n",
    "def highlight(s):\n",
    "\n",
    "    if s['comp'] > 0.90:\n",
    "        return ['background-color: green']*num\n",
    "    elif s['comp'] < -0.80:\n",
    "        return ['background-color: red']*num\n",
    "    else:\n",
    "        return ['background-color: white']*num"
   ]
  },
  {
   "cell_type": "code",
   "execution_count": 54,
   "metadata": {
    "ExecuteTime": {
     "end_time": "2021-07-16T14:47:50.851186Z",
     "start_time": "2021-07-16T14:47:50.835509Z"
    }
   },
   "outputs": [
    {
     "data": {
      "text/html": [
       "<div>\n",
       "<style scoped>\n",
       "    .dataframe tbody tr th:only-of-type {\n",
       "        vertical-align: middle;\n",
       "    }\n",
       "\n",
       "    .dataframe tbody tr th {\n",
       "        vertical-align: top;\n",
       "    }\n",
       "\n",
       "    .dataframe thead th {\n",
       "        text-align: right;\n",
       "    }\n",
       "</style>\n",
       "<table border=\"1\" class=\"dataframe\">\n",
       "  <thead>\n",
       "    <tr style=\"text-align: right;\">\n",
       "      <th></th>\n",
       "      <th>title</th>\n",
       "      <th>description</th>\n",
       "      <th>content</th>\n",
       "      <th>results</th>\n",
       "      <th>source2</th>\n",
       "      <th>hour</th>\n",
       "      <th>day</th>\n",
       "      <th>cont_joined</th>\n",
       "      <th>neg</th>\n",
       "      <th>neu</th>\n",
       "      <th>pos</th>\n",
       "      <th>comp</th>\n",
       "      <th>blob</th>\n",
       "      <th>comp_abs</th>\n",
       "      <th>blob_abs</th>\n",
       "      <th>c_b</th>\n",
       "      <th>Sentiment</th>\n",
       "    </tr>\n",
       "    <tr>\n",
       "      <th>publishedAt</th>\n",
       "      <th></th>\n",
       "      <th></th>\n",
       "      <th></th>\n",
       "      <th></th>\n",
       "      <th></th>\n",
       "      <th></th>\n",
       "      <th></th>\n",
       "      <th></th>\n",
       "      <th></th>\n",
       "      <th></th>\n",
       "      <th></th>\n",
       "      <th></th>\n",
       "      <th></th>\n",
       "      <th></th>\n",
       "      <th></th>\n",
       "      <th></th>\n",
       "      <th></th>\n",
       "    </tr>\n",
       "  </thead>\n",
       "  <tbody>\n",
       "    <tr>\n",
       "      <th>2021-06-14 09:00:00-04:00</th>\n",
       "      <td>Business / Arts Announces Annual Award Recipie...</td>\n",
       "      <td>TORONTO, June 14, 2021 (GLOBE NEWSWIRE) -- Bus...</td>\n",
       "      <td>TORONTO, June 14, 2021 (GLOBE NEWSWIRE) -- Bus...</td>\n",
       "      <td>25.0</td>\n",
       "      <td>GlobeNewswire</td>\n",
       "      <td>9.0</td>\n",
       "      <td>14.0</td>\n",
       "      <td>Business / Arts Announces Annual Award Recipie...</td>\n",
       "      <td>0.000</td>\n",
       "      <td>0.645</td>\n",
       "      <td>0.355</td>\n",
       "      <td>0.9382</td>\n",
       "      <td>0.200000</td>\n",
       "      <td>1</td>\n",
       "      <td>1</td>\n",
       "      <td>0.738200</td>\n",
       "      <td>1</td>\n",
       "    </tr>\n",
       "    <tr>\n",
       "      <th>2021-06-14 09:00:00-04:00</th>\n",
       "      <td>Video Games Don’t Have To Be So Violent, And E...</td>\n",
       "      <td>When the average person approaches an event li...</td>\n",
       "      <td>When the average person approaches an event li...</td>\n",
       "      <td>25.0</td>\n",
       "      <td>UPROXX</td>\n",
       "      <td>9.0</td>\n",
       "      <td>14.0</td>\n",
       "      <td>Video Games Don’t Have To Be So Violent, And E...</td>\n",
       "      <td>0.111</td>\n",
       "      <td>0.813</td>\n",
       "      <td>0.076</td>\n",
       "      <td>-0.4576</td>\n",
       "      <td>-0.180952</td>\n",
       "      <td>-1</td>\n",
       "      <td>-1</td>\n",
       "      <td>-0.276648</td>\n",
       "      <td>-1</td>\n",
       "    </tr>\n",
       "    <tr>\n",
       "      <th>2021-06-14 09:00:00-04:00</th>\n",
       "      <td>Apple TV 4K (2nd Generation)</td>\n",
       "      <td>Apple has broadened its media streaming horizo...</td>\n",
       "      <td>Apple has broadened its media streaming horizo...</td>\n",
       "      <td>25.0</td>\n",
       "      <td>PCMag</td>\n",
       "      <td>9.0</td>\n",
       "      <td>14.0</td>\n",
       "      <td>Apple TV 4K (2nd Generation); Apple has broade...</td>\n",
       "      <td>0.000</td>\n",
       "      <td>1.000</td>\n",
       "      <td>0.000</td>\n",
       "      <td>0.0000</td>\n",
       "      <td>-0.150000</td>\n",
       "      <td>0</td>\n",
       "      <td>-1</td>\n",
       "      <td>0.150000</td>\n",
       "      <td>0</td>\n",
       "    </tr>\n",
       "    <tr>\n",
       "      <th>2021-06-14 09:00:10-04:00</th>\n",
       "      <td>‘Centaurworld’: Netflix Drops First Trailer Fo...</td>\n",
       "      <td>Netflix has dropped the first trailer for anim...</td>\n",
       "      <td>Netflix has dropped the first trailer for anim...</td>\n",
       "      <td>25.0</td>\n",
       "      <td>Deadline</td>\n",
       "      <td>9.0</td>\n",
       "      <td>14.0</td>\n",
       "      <td>‘Centaurworld’: Netflix Drops First Trailer Fo...</td>\n",
       "      <td>0.000</td>\n",
       "      <td>1.000</td>\n",
       "      <td>0.000</td>\n",
       "      <td>0.0000</td>\n",
       "      <td>0.125000</td>\n",
       "      <td>0</td>\n",
       "      <td>0</td>\n",
       "      <td>-0.125000</td>\n",
       "      <td>0</td>\n",
       "    </tr>\n",
       "    <tr>\n",
       "      <th>2021-06-14 09:00:58-04:00</th>\n",
       "      <td>‘Karma’s World’: Ludacris Talks Animated Netfl...</td>\n",
       "      <td>As part of its Kids and Family Sneak Peek at t...</td>\n",
       "      <td>As part of its Kids and Family Sneak Peek at t...</td>\n",
       "      <td>25.0</td>\n",
       "      <td>Deadline</td>\n",
       "      <td>9.0</td>\n",
       "      <td>14.0</td>\n",
       "      <td>‘Karma’s World’: Ludacris Talks Animated Netfl...</td>\n",
       "      <td>0.000</td>\n",
       "      <td>0.840</td>\n",
       "      <td>0.160</td>\n",
       "      <td>0.8126</td>\n",
       "      <td>0.090909</td>\n",
       "      <td>1</td>\n",
       "      <td>0</td>\n",
       "      <td>0.721691</td>\n",
       "      <td>1</td>\n",
       "    </tr>\n",
       "    <tr>\n",
       "      <th>...</th>\n",
       "      <td>...</td>\n",
       "      <td>...</td>\n",
       "      <td>...</td>\n",
       "      <td>...</td>\n",
       "      <td>...</td>\n",
       "      <td>...</td>\n",
       "      <td>...</td>\n",
       "      <td>...</td>\n",
       "      <td>...</td>\n",
       "      <td>...</td>\n",
       "      <td>...</td>\n",
       "      <td>...</td>\n",
       "      <td>...</td>\n",
       "      <td>...</td>\n",
       "      <td>...</td>\n",
       "      <td>...</td>\n",
       "      <td>...</td>\n",
       "    </tr>\n",
       "    <tr>\n",
       "      <th>2021-06-18 15:45:00-04:00</th>\n",
       "      <td>Gundam Hathaway Producer Teases 2nd Film, But ...</td>\n",
       "      <td>Mobile Suit Gundam Hathaway producer Naohiro O...</td>\n",
       "      <td>Mobile Suit Gundam Hathaway producer Naohiro O...</td>\n",
       "      <td>29.0</td>\n",
       "      <td>Anime News Network</td>\n",
       "      <td>15.0</td>\n",
       "      <td>18.0</td>\n",
       "      <td>Gundam Hathaway Producer Teases 2nd Film, But ...</td>\n",
       "      <td>0.078</td>\n",
       "      <td>0.867</td>\n",
       "      <td>0.055</td>\n",
       "      <td>-0.0258</td>\n",
       "      <td>0.002778</td>\n",
       "      <td>0</td>\n",
       "      <td>0</td>\n",
       "      <td>-0.028578</td>\n",
       "      <td>0</td>\n",
       "    </tr>\n",
       "    <tr>\n",
       "      <th>2021-06-18 15:52:00-04:00</th>\n",
       "      <td>Two Golden Globes Voters Resign, Calling Holly...</td>\n",
       "      <td>Two Golden Globes voters resigned in protest o...</td>\n",
       "      <td>Two Golden Globes voters resigned in protest o...</td>\n",
       "      <td>29.0</td>\n",
       "      <td>Jezebel</td>\n",
       "      <td>15.0</td>\n",
       "      <td>18.0</td>\n",
       "      <td>Two Golden Globes Voters Resign, Calling Holly...</td>\n",
       "      <td>0.176</td>\n",
       "      <td>0.824</td>\n",
       "      <td>0.000</td>\n",
       "      <td>-0.7269</td>\n",
       "      <td>0.036508</td>\n",
       "      <td>-1</td>\n",
       "      <td>0</td>\n",
       "      <td>-0.763408</td>\n",
       "      <td>-1</td>\n",
       "    </tr>\n",
       "    <tr>\n",
       "      <th>2021-06-18 15:52:46-04:00</th>\n",
       "      <td>Rurouni Kenshin, the decade’s best live-action...</td>\n",
       "      <td>Rurouni Kenshin is one of the most popular man...</td>\n",
       "      <td>Rurouni Kenshin is one of the most popular man...</td>\n",
       "      <td>29.0</td>\n",
       "      <td>Polygon</td>\n",
       "      <td>15.0</td>\n",
       "      <td>18.0</td>\n",
       "      <td>Rurouni Kenshin, the decade’s best live-action...</td>\n",
       "      <td>0.103</td>\n",
       "      <td>0.767</td>\n",
       "      <td>0.130</td>\n",
       "      <td>0.3597</td>\n",
       "      <td>0.366667</td>\n",
       "      <td>1</td>\n",
       "      <td>1</td>\n",
       "      <td>-0.006967</td>\n",
       "      <td>1</td>\n",
       "    </tr>\n",
       "    <tr>\n",
       "      <th>2021-06-18 15:53:00-04:00</th>\n",
       "      <td>Castlevania Advance Collection Pops Up On Aust...</td>\n",
       "      <td>If an Australian Classification Board rating i...</td>\n",
       "      <td>If an Australian Classification Board rating i...</td>\n",
       "      <td>29.0</td>\n",
       "      <td>GameSpot</td>\n",
       "      <td>15.0</td>\n",
       "      <td>18.0</td>\n",
       "      <td>Castlevania Advance Collection Pops Up On Aust...</td>\n",
       "      <td>0.000</td>\n",
       "      <td>1.000</td>\n",
       "      <td>0.000</td>\n",
       "      <td>0.0000</td>\n",
       "      <td>-0.065909</td>\n",
       "      <td>0</td>\n",
       "      <td>0</td>\n",
       "      <td>0.065909</td>\n",
       "      <td>0</td>\n",
       "    </tr>\n",
       "    <tr>\n",
       "      <th>2021-06-18 15:54:00-04:00</th>\n",
       "      <td>La Borinquena Caribbean Business</td>\n",
       "      <td>Edgardo Miranda-Rodríguez, creator of La Borin...</td>\n",
       "      <td>Edgardo Miranda-Rodríguez, creator of La Borin...</td>\n",
       "      <td>29.0</td>\n",
       "      <td>ComicBook</td>\n",
       "      <td>15.0</td>\n",
       "      <td>18.0</td>\n",
       "      <td>La Borinquena Caribbean Business; Edgardo Mira...</td>\n",
       "      <td>0.000</td>\n",
       "      <td>0.922</td>\n",
       "      <td>0.078</td>\n",
       "      <td>0.4215</td>\n",
       "      <td>0.000000</td>\n",
       "      <td>1</td>\n",
       "      <td>0</td>\n",
       "      <td>0.421500</td>\n",
       "      <td>1</td>\n",
       "    </tr>\n",
       "  </tbody>\n",
       "</table>\n",
       "<p>1034 rows × 17 columns</p>\n",
       "</div>"
      ],
      "text/plain": [
       "                                                                       title  \\\n",
       "publishedAt                                                                    \n",
       "2021-06-14 09:00:00-04:00  Business / Arts Announces Annual Award Recipie...   \n",
       "2021-06-14 09:00:00-04:00  Video Games Don’t Have To Be So Violent, And E...   \n",
       "2021-06-14 09:00:00-04:00                       Apple TV 4K (2nd Generation)   \n",
       "2021-06-14 09:00:10-04:00  ‘Centaurworld’: Netflix Drops First Trailer Fo...   \n",
       "2021-06-14 09:00:58-04:00  ‘Karma’s World’: Ludacris Talks Animated Netfl...   \n",
       "...                                                                      ...   \n",
       "2021-06-18 15:45:00-04:00  Gundam Hathaway Producer Teases 2nd Film, But ...   \n",
       "2021-06-18 15:52:00-04:00  Two Golden Globes Voters Resign, Calling Holly...   \n",
       "2021-06-18 15:52:46-04:00  Rurouni Kenshin, the decade’s best live-action...   \n",
       "2021-06-18 15:53:00-04:00  Castlevania Advance Collection Pops Up On Aust...   \n",
       "2021-06-18 15:54:00-04:00                   La Borinquena Caribbean Business   \n",
       "\n",
       "                                                                 description  \\\n",
       "publishedAt                                                                    \n",
       "2021-06-14 09:00:00-04:00  TORONTO, June 14, 2021 (GLOBE NEWSWIRE) -- Bus...   \n",
       "2021-06-14 09:00:00-04:00  When the average person approaches an event li...   \n",
       "2021-06-14 09:00:00-04:00  Apple has broadened its media streaming horizo...   \n",
       "2021-06-14 09:00:10-04:00  Netflix has dropped the first trailer for anim...   \n",
       "2021-06-14 09:00:58-04:00  As part of its Kids and Family Sneak Peek at t...   \n",
       "...                                                                      ...   \n",
       "2021-06-18 15:45:00-04:00  Mobile Suit Gundam Hathaway producer Naohiro O...   \n",
       "2021-06-18 15:52:00-04:00  Two Golden Globes voters resigned in protest o...   \n",
       "2021-06-18 15:52:46-04:00  Rurouni Kenshin is one of the most popular man...   \n",
       "2021-06-18 15:53:00-04:00  If an Australian Classification Board rating i...   \n",
       "2021-06-18 15:54:00-04:00  Edgardo Miranda-Rodríguez, creator of La Borin...   \n",
       "\n",
       "                                                                     content  \\\n",
       "publishedAt                                                                    \n",
       "2021-06-14 09:00:00-04:00  TORONTO, June 14, 2021 (GLOBE NEWSWIRE) -- Bus...   \n",
       "2021-06-14 09:00:00-04:00  When the average person approaches an event li...   \n",
       "2021-06-14 09:00:00-04:00  Apple has broadened its media streaming horizo...   \n",
       "2021-06-14 09:00:10-04:00  Netflix has dropped the first trailer for anim...   \n",
       "2021-06-14 09:00:58-04:00  As part of its Kids and Family Sneak Peek at t...   \n",
       "...                                                                      ...   \n",
       "2021-06-18 15:45:00-04:00  Mobile Suit Gundam Hathaway producer Naohiro O...   \n",
       "2021-06-18 15:52:00-04:00  Two Golden Globes voters resigned in protest o...   \n",
       "2021-06-18 15:52:46-04:00  Rurouni Kenshin is one of the most popular man...   \n",
       "2021-06-18 15:53:00-04:00  If an Australian Classification Board rating i...   \n",
       "2021-06-18 15:54:00-04:00  Edgardo Miranda-Rodríguez, creator of La Borin...   \n",
       "\n",
       "                           results             source2  hour   day  \\\n",
       "publishedAt                                                          \n",
       "2021-06-14 09:00:00-04:00     25.0       GlobeNewswire   9.0  14.0   \n",
       "2021-06-14 09:00:00-04:00     25.0              UPROXX   9.0  14.0   \n",
       "2021-06-14 09:00:00-04:00     25.0               PCMag   9.0  14.0   \n",
       "2021-06-14 09:00:10-04:00     25.0            Deadline   9.0  14.0   \n",
       "2021-06-14 09:00:58-04:00     25.0            Deadline   9.0  14.0   \n",
       "...                            ...                 ...   ...   ...   \n",
       "2021-06-18 15:45:00-04:00     29.0  Anime News Network  15.0  18.0   \n",
       "2021-06-18 15:52:00-04:00     29.0             Jezebel  15.0  18.0   \n",
       "2021-06-18 15:52:46-04:00     29.0             Polygon  15.0  18.0   \n",
       "2021-06-18 15:53:00-04:00     29.0            GameSpot  15.0  18.0   \n",
       "2021-06-18 15:54:00-04:00     29.0           ComicBook  15.0  18.0   \n",
       "\n",
       "                                                                 cont_joined  \\\n",
       "publishedAt                                                                    \n",
       "2021-06-14 09:00:00-04:00  Business / Arts Announces Annual Award Recipie...   \n",
       "2021-06-14 09:00:00-04:00  Video Games Don’t Have To Be So Violent, And E...   \n",
       "2021-06-14 09:00:00-04:00  Apple TV 4K (2nd Generation); Apple has broade...   \n",
       "2021-06-14 09:00:10-04:00  ‘Centaurworld’: Netflix Drops First Trailer Fo...   \n",
       "2021-06-14 09:00:58-04:00  ‘Karma’s World’: Ludacris Talks Animated Netfl...   \n",
       "...                                                                      ...   \n",
       "2021-06-18 15:45:00-04:00  Gundam Hathaway Producer Teases 2nd Film, But ...   \n",
       "2021-06-18 15:52:00-04:00  Two Golden Globes Voters Resign, Calling Holly...   \n",
       "2021-06-18 15:52:46-04:00  Rurouni Kenshin, the decade’s best live-action...   \n",
       "2021-06-18 15:53:00-04:00  Castlevania Advance Collection Pops Up On Aust...   \n",
       "2021-06-18 15:54:00-04:00  La Borinquena Caribbean Business; Edgardo Mira...   \n",
       "\n",
       "                             neg    neu    pos    comp      blob  comp_abs  \\\n",
       "publishedAt                                                                  \n",
       "2021-06-14 09:00:00-04:00  0.000  0.645  0.355  0.9382  0.200000         1   \n",
       "2021-06-14 09:00:00-04:00  0.111  0.813  0.076 -0.4576 -0.180952        -1   \n",
       "2021-06-14 09:00:00-04:00  0.000  1.000  0.000  0.0000 -0.150000         0   \n",
       "2021-06-14 09:00:10-04:00  0.000  1.000  0.000  0.0000  0.125000         0   \n",
       "2021-06-14 09:00:58-04:00  0.000  0.840  0.160  0.8126  0.090909         1   \n",
       "...                          ...    ...    ...     ...       ...       ...   \n",
       "2021-06-18 15:45:00-04:00  0.078  0.867  0.055 -0.0258  0.002778         0   \n",
       "2021-06-18 15:52:00-04:00  0.176  0.824  0.000 -0.7269  0.036508        -1   \n",
       "2021-06-18 15:52:46-04:00  0.103  0.767  0.130  0.3597  0.366667         1   \n",
       "2021-06-18 15:53:00-04:00  0.000  1.000  0.000  0.0000 -0.065909         0   \n",
       "2021-06-18 15:54:00-04:00  0.000  0.922  0.078  0.4215  0.000000         1   \n",
       "\n",
       "                           blob_abs       c_b  Sentiment  \n",
       "publishedAt                                               \n",
       "2021-06-14 09:00:00-04:00         1  0.738200          1  \n",
       "2021-06-14 09:00:00-04:00        -1 -0.276648         -1  \n",
       "2021-06-14 09:00:00-04:00        -1  0.150000          0  \n",
       "2021-06-14 09:00:10-04:00         0 -0.125000          0  \n",
       "2021-06-14 09:00:58-04:00         0  0.721691          1  \n",
       "...                             ...       ...        ...  \n",
       "2021-06-18 15:45:00-04:00         0 -0.028578          0  \n",
       "2021-06-18 15:52:00-04:00         0 -0.763408         -1  \n",
       "2021-06-18 15:52:46-04:00         1 -0.006967          1  \n",
       "2021-06-18 15:53:00-04:00         0  0.065909          0  \n",
       "2021-06-18 15:54:00-04:00         0  0.421500          1  \n",
       "\n",
       "[1034 rows x 17 columns]"
      ]
     },
     "execution_count": 54,
     "metadata": {},
     "output_type": "execute_result"
    }
   ],
   "source": [
    "df_netflix"
   ]
  },
  {
   "cell_type": "code",
   "execution_count": 55,
   "metadata": {
    "ExecuteTime": {
     "end_time": "2021-07-16T14:47:50.854715Z",
     "start_time": "2021-07-16T14:47:50.852266Z"
    }
   },
   "outputs": [],
   "source": [
    "df_netflix = df_netflix.reset_index()"
   ]
  },
  {
   "cell_type": "code",
   "execution_count": 56,
   "metadata": {
    "ExecuteTime": {
     "end_time": "2021-07-16T14:47:50.857297Z",
     "start_time": "2021-07-16T14:47:50.855629Z"
    }
   },
   "outputs": [],
   "source": [
    "nstyled = df_netflix.style.apply(highlight, axis=1)"
   ]
  },
  {
   "cell_type": "code",
   "execution_count": null,
   "metadata": {
    "ExecuteTime": {
     "end_time": "2021-07-14T12:59:01.405212Z",
     "start_time": "2021-07-14T12:59:01.254967Z"
    }
   },
   "outputs": [],
   "source": []
  },
  {
   "cell_type": "code",
   "execution_count": null,
   "metadata": {
    "ExecuteTime": {
     "end_time": "2021-07-08T22:41:22.645720Z",
     "start_time": "2021-07-08T22:41:22.634162Z"
    }
   },
   "outputs": [],
   "source": []
  },
  {
   "cell_type": "code",
   "execution_count": 57,
   "metadata": {
    "ExecuteTime": {
     "end_time": "2021-07-16T14:47:50.877541Z",
     "start_time": "2021-07-16T14:47:50.858220Z"
    }
   },
   "outputs": [
    {
     "data": {
      "text/html": [
       "<div>\n",
       "<style scoped>\n",
       "    .dataframe tbody tr th:only-of-type {\n",
       "        vertical-align: middle;\n",
       "    }\n",
       "\n",
       "    .dataframe tbody tr th {\n",
       "        vertical-align: top;\n",
       "    }\n",
       "\n",
       "    .dataframe thead th {\n",
       "        text-align: right;\n",
       "    }\n",
       "</style>\n",
       "<table border=\"1\" class=\"dataframe\">\n",
       "  <thead>\n",
       "    <tr style=\"text-align: right;\">\n",
       "      <th></th>\n",
       "      <th>title</th>\n",
       "      <th>description</th>\n",
       "      <th>content</th>\n",
       "      <th>results</th>\n",
       "      <th>source2</th>\n",
       "      <th>hour</th>\n",
       "      <th>day</th>\n",
       "      <th>cont_joined</th>\n",
       "      <th>neg</th>\n",
       "      <th>neu</th>\n",
       "      <th>pos</th>\n",
       "      <th>comp</th>\n",
       "      <th>blob</th>\n",
       "      <th>comp_abs</th>\n",
       "      <th>blob_abs</th>\n",
       "      <th>c_b</th>\n",
       "      <th>Sentiment</th>\n",
       "    </tr>\n",
       "    <tr>\n",
       "      <th>publishedAt</th>\n",
       "      <th></th>\n",
       "      <th></th>\n",
       "      <th></th>\n",
       "      <th></th>\n",
       "      <th></th>\n",
       "      <th></th>\n",
       "      <th></th>\n",
       "      <th></th>\n",
       "      <th></th>\n",
       "      <th></th>\n",
       "      <th></th>\n",
       "      <th></th>\n",
       "      <th></th>\n",
       "      <th></th>\n",
       "      <th></th>\n",
       "      <th></th>\n",
       "      <th></th>\n",
       "    </tr>\n",
       "  </thead>\n",
       "  <tbody>\n",
       "    <tr>\n",
       "      <th>2021-06-14 14:00:30-04:00</th>\n",
       "      <td>‘Perfect Strangers’: Robin Thede &amp; London Hugh...</td>\n",
       "      <td>Perfect Strangers, the 1980s sitcom starring M...</td>\n",
       "      <td>Perfect Strangers, the 1980s sitcom starring M...</td>\n",
       "      <td>40.0</td>\n",
       "      <td>Deadline</td>\n",
       "      <td>14.0</td>\n",
       "      <td>14.0</td>\n",
       "      <td>‘Perfect Strangers’: Robin Thede &amp; London Hugh...</td>\n",
       "      <td>0.000</td>\n",
       "      <td>0.838</td>\n",
       "      <td>0.162</td>\n",
       "      <td>0.8271</td>\n",
       "      <td>0.666667</td>\n",
       "      <td>1</td>\n",
       "      <td>1</td>\n",
       "      <td>0.160433</td>\n",
       "      <td>1</td>\n",
       "    </tr>\n",
       "    <tr>\n",
       "      <th>2021-06-14 14:00:50-04:00</th>\n",
       "      <td>‘The Umbrella Academy’ VFX Supervisor Everett ...</td>\n",
       "      <td>For the second season of Netflix’sThe Umbrella...</td>\n",
       "      <td>For the second season of Netflix’sThe Umbrella...</td>\n",
       "      <td>40.0</td>\n",
       "      <td>Deadline</td>\n",
       "      <td>14.0</td>\n",
       "      <td>14.0</td>\n",
       "      <td>‘The Umbrella Academy’ VFX Supervisor Everett ...</td>\n",
       "      <td>0.000</td>\n",
       "      <td>0.968</td>\n",
       "      <td>0.032</td>\n",
       "      <td>0.1531</td>\n",
       "      <td>0.000000</td>\n",
       "      <td>0</td>\n",
       "      <td>0</td>\n",
       "      <td>0.153100</td>\n",
       "      <td>0</td>\n",
       "    </tr>\n",
       "    <tr>\n",
       "      <th>2021-06-14 14:00:54-04:00</th>\n",
       "      <td>Netflix’s ‘Élite Short Stories’ Packs More Dra...</td>\n",
       "      <td>Ever since it premiered on Netflix back in 201...</td>\n",
       "      <td>Ever since it premiered on Netflix back in 201...</td>\n",
       "      <td>40.0</td>\n",
       "      <td>Decider</td>\n",
       "      <td>14.0</td>\n",
       "      <td>14.0</td>\n",
       "      <td>Netflix’s ‘Élite Short Stories’ Packs More Dra...</td>\n",
       "      <td>0.191</td>\n",
       "      <td>0.696</td>\n",
       "      <td>0.113</td>\n",
       "      <td>-0.7003</td>\n",
       "      <td>0.234375</td>\n",
       "      <td>-1</td>\n",
       "      <td>1</td>\n",
       "      <td>-0.934675</td>\n",
       "      <td>-1</td>\n",
       "    </tr>\n",
       "    <tr>\n",
       "      <th>2021-06-14 14:00:56-04:00</th>\n",
       "      <td>Paramount+ is a Waste of Money and I Shouldn't...</td>\n",
       "      <td>ViacomCBSI did it. I purchased Paramount+ at t...</td>\n",
       "      <td>ViacomCBSI did it. I purchased Paramount+ at t...</td>\n",
       "      <td>40.0</td>\n",
       "      <td>Reviewgeek</td>\n",
       "      <td>14.0</td>\n",
       "      <td>14.0</td>\n",
       "      <td>Paramount+ is a Waste of Money and I Shouldn't...</td>\n",
       "      <td>0.060</td>\n",
       "      <td>0.851</td>\n",
       "      <td>0.089</td>\n",
       "      <td>0.3400</td>\n",
       "      <td>0.229464</td>\n",
       "      <td>1</td>\n",
       "      <td>1</td>\n",
       "      <td>0.110536</td>\n",
       "      <td>1</td>\n",
       "    </tr>\n",
       "    <tr>\n",
       "      <th>2021-06-14 14:08:14-04:00</th>\n",
       "      <td>Goldman Sachs says buy these 37 stocks that wi...</td>\n",
       "      <td>In the era of cryptocurrencies and meme stocks...</td>\n",
       "      <td>In the era of cryptocurrencies and meme stocks...</td>\n",
       "      <td>40.0</td>\n",
       "      <td>Business Insider</td>\n",
       "      <td>14.0</td>\n",
       "      <td>14.0</td>\n",
       "      <td>Goldman Sachs says buy these 37 stocks that wi...</td>\n",
       "      <td>0.034</td>\n",
       "      <td>0.833</td>\n",
       "      <td>0.132</td>\n",
       "      <td>0.7184</td>\n",
       "      <td>0.160417</td>\n",
       "      <td>1</td>\n",
       "      <td>1</td>\n",
       "      <td>0.557983</td>\n",
       "      <td>1</td>\n",
       "    </tr>\n",
       "    <tr>\n",
       "      <th>2021-06-14 14:11:00-04:00</th>\n",
       "      <td>Big Mouth spinoff Human Resources voice cast r...</td>\n",
       "      <td>Attention all of your Big Mouth fans out there...</td>\n",
       "      <td>Attention all of your Big Mouth fans out there...</td>\n",
       "      <td>40.0</td>\n",
       "      <td>JoBlo</td>\n",
       "      <td>14.0</td>\n",
       "      <td>14.0</td>\n",
       "      <td>Big Mouth spinoff Human Resources voice cast r...</td>\n",
       "      <td>0.000</td>\n",
       "      <td>0.938</td>\n",
       "      <td>0.062</td>\n",
       "      <td>0.3612</td>\n",
       "      <td>0.000000</td>\n",
       "      <td>1</td>\n",
       "      <td>0</td>\n",
       "      <td>0.361200</td>\n",
       "      <td>1</td>\n",
       "    </tr>\n",
       "    <tr>\n",
       "      <th>2021-06-14 14:13:03-04:00</th>\n",
       "      <td>Locksmith Animation Taps Simon Otto to Direct ...</td>\n",
       "      <td>Locksmith Animation has tapped Simon Otto to d...</td>\n",
       "      <td>Locksmith Animation has tapped Simon Otto to d...</td>\n",
       "      <td>40.0</td>\n",
       "      <td>Variety</td>\n",
       "      <td>14.0</td>\n",
       "      <td>14.0</td>\n",
       "      <td>Locksmith Animation Taps Simon Otto to Direct ...</td>\n",
       "      <td>0.000</td>\n",
       "      <td>1.000</td>\n",
       "      <td>0.000</td>\n",
       "      <td>0.0000</td>\n",
       "      <td>0.100000</td>\n",
       "      <td>0</td>\n",
       "      <td>0</td>\n",
       "      <td>-0.100000</td>\n",
       "      <td>0</td>\n",
       "    </tr>\n",
       "    <tr>\n",
       "      <th>2021-06-14 14:13:27-04:00</th>\n",
       "      <td>Naomi Watts &amp; Bobby Cannavale To Headline ‘The...</td>\n",
       "      <td>EXCLUSIVE: Naomi Watts and Bobby Cannavale are...</td>\n",
       "      <td>EXCLUSIVE: Naomi Watts and Bobby Cannavale are...</td>\n",
       "      <td>40.0</td>\n",
       "      <td>Deadline</td>\n",
       "      <td>14.0</td>\n",
       "      <td>14.0</td>\n",
       "      <td>Naomi Watts &amp; Bobby Cannavale To Headline ‘The...</td>\n",
       "      <td>0.084</td>\n",
       "      <td>0.866</td>\n",
       "      <td>0.050</td>\n",
       "      <td>-0.1449</td>\n",
       "      <td>0.014286</td>\n",
       "      <td>0</td>\n",
       "      <td>0</td>\n",
       "      <td>-0.159186</td>\n",
       "      <td>0</td>\n",
       "    </tr>\n",
       "    <tr>\n",
       "      <th>2021-06-14 14:15:00-04:00</th>\n",
       "      <td>Resident Evil: Infinite Darkness spreads openi...</td>\n",
       "      <td>While a live-action Resident Evil television s...</td>\n",
       "      <td>While a live-action Resident Evil television s...</td>\n",
       "      <td>40.0</td>\n",
       "      <td>JoBlo</td>\n",
       "      <td>14.0</td>\n",
       "      <td>14.0</td>\n",
       "      <td>Resident Evil: Infinite Darkness spreads openi...</td>\n",
       "      <td>0.307</td>\n",
       "      <td>0.693</td>\n",
       "      <td>0.000</td>\n",
       "      <td>-0.9476</td>\n",
       "      <td>-1.000000</td>\n",
       "      <td>-1</td>\n",
       "      <td>-1</td>\n",
       "      <td>0.052400</td>\n",
       "      <td>-1</td>\n",
       "    </tr>\n",
       "    <tr>\n",
       "      <th>2021-06-14 14:15:27-04:00</th>\n",
       "      <td>‘Underwater’ Actress Jessica Henwick Joins Ria...</td>\n",
       "      <td>Sweden is hardly known for genre films and has...</td>\n",
       "      <td>Sweden is hardly known for genre films and has...</td>\n",
       "      <td>40.0</td>\n",
       "      <td>Bloody Disgusting</td>\n",
       "      <td>14.0</td>\n",
       "      <td>14.0</td>\n",
       "      <td>‘Underwater’ Actress Jessica Henwick Joins Ria...</td>\n",
       "      <td>0.081</td>\n",
       "      <td>0.919</td>\n",
       "      <td>0.000</td>\n",
       "      <td>-0.5719</td>\n",
       "      <td>0.001190</td>\n",
       "      <td>-1</td>\n",
       "      <td>0</td>\n",
       "      <td>-0.573090</td>\n",
       "      <td>-1</td>\n",
       "    </tr>\n",
       "    <tr>\n",
       "      <th>2021-06-14 14:16:00-04:00</th>\n",
       "      <td>Netflix Announces Big Mouth Spinoff Human Reso...</td>\n",
       "      <td>Netflix has announced that Big Mouth, the stre...</td>\n",
       "      <td>Netflix has announced that Big Mouth, the stre...</td>\n",
       "      <td>40.0</td>\n",
       "      <td>GameSpot</td>\n",
       "      <td>14.0</td>\n",
       "      <td>14.0</td>\n",
       "      <td>Netflix Announces Big Mouth Spinoff Human Reso...</td>\n",
       "      <td>0.000</td>\n",
       "      <td>0.926</td>\n",
       "      <td>0.074</td>\n",
       "      <td>0.4215</td>\n",
       "      <td>0.150000</td>\n",
       "      <td>1</td>\n",
       "      <td>1</td>\n",
       "      <td>0.271500</td>\n",
       "      <td>1</td>\n",
       "    </tr>\n",
       "    <tr>\n",
       "      <th>2021-06-14 14:20:00-04:00</th>\n",
       "      <td>OneRepublic to Perform at Zappos Theater at Pl...</td>\n",
       "      <td>An artist presale is scheduled for Tuesday, Ju...</td>\n",
       "      <td>An artist presale is scheduled for Tuesday, Ju...</td>\n",
       "      <td>40.0</td>\n",
       "      <td>PRNewswire</td>\n",
       "      <td>14.0</td>\n",
       "      <td>14.0</td>\n",
       "      <td>OneRepublic to Perform at Zappos Theater at Pl...</td>\n",
       "      <td>0.000</td>\n",
       "      <td>0.777</td>\n",
       "      <td>0.223</td>\n",
       "      <td>0.9042</td>\n",
       "      <td>0.136364</td>\n",
       "      <td>1</td>\n",
       "      <td>0</td>\n",
       "      <td>0.767836</td>\n",
       "      <td>1</td>\n",
       "    </tr>\n",
       "    <tr>\n",
       "      <th>2021-06-14 14:20:22-04:00</th>\n",
       "      <td>Chrissy Teigen Breaks Social Media Silence Wit...</td>\n",
       "      <td>It's been over a month since Chrissy Teigen's ...</td>\n",
       "      <td>It's been over a month since Chrissy Teigen's ...</td>\n",
       "      <td>40.0</td>\n",
       "      <td>Radaronline</td>\n",
       "      <td>14.0</td>\n",
       "      <td>14.0</td>\n",
       "      <td>Chrissy Teigen Breaks Social Media Silence Wit...</td>\n",
       "      <td>0.041</td>\n",
       "      <td>0.959</td>\n",
       "      <td>0.000</td>\n",
       "      <td>-0.2382</td>\n",
       "      <td>-0.017778</td>\n",
       "      <td>0</td>\n",
       "      <td>0</td>\n",
       "      <td>-0.220422</td>\n",
       "      <td>0</td>\n",
       "    </tr>\n",
       "    <tr>\n",
       "      <th>2021-06-14 14:24:56-04:00</th>\n",
       "      <td>Payne, Giamatti Re-Team On “Holdovers”</td>\n",
       "      <td>“Sideways” director Alexander Payne and star P...</td>\n",
       "      <td>“Sideways” director Alexander Payne and star P...</td>\n",
       "      <td>40.0</td>\n",
       "      <td>Dark Horizons</td>\n",
       "      <td>14.0</td>\n",
       "      <td>14.0</td>\n",
       "      <td>Payne, Giamatti Re-Team On “Holdovers”; “Sidew...</td>\n",
       "      <td>0.075</td>\n",
       "      <td>0.801</td>\n",
       "      <td>0.124</td>\n",
       "      <td>0.2023</td>\n",
       "      <td>-0.200000</td>\n",
       "      <td>0</td>\n",
       "      <td>-1</td>\n",
       "      <td>0.402300</td>\n",
       "      <td>0</td>\n",
       "    </tr>\n",
       "    <tr>\n",
       "      <th>2021-06-14 14:27:11-04:00</th>\n",
       "      <td>2021 Annecy Animation Festival: Key Takes, fro...</td>\n",
       "      <td>The 2021 Annecy Intl. Animation Film Festival ...</td>\n",
       "      <td>The 2021 Annecy Intl. Animation Film Festival ...</td>\n",
       "      <td>40.0</td>\n",
       "      <td>Variety</td>\n",
       "      <td>14.0</td>\n",
       "      <td>14.0</td>\n",
       "      <td>2021 Annecy Animation Festival: Key Takes, fro...</td>\n",
       "      <td>0.019</td>\n",
       "      <td>0.767</td>\n",
       "      <td>0.214</td>\n",
       "      <td>0.9047</td>\n",
       "      <td>0.000000</td>\n",
       "      <td>1</td>\n",
       "      <td>0</td>\n",
       "      <td>0.904700</td>\n",
       "      <td>1</td>\n",
       "    </tr>\n",
       "    <tr>\n",
       "      <th>2021-06-14 14:27:43-04:00</th>\n",
       "      <td>regarder-the-conjuring-the-devil-made-me-do-it...</td>\n",
       "      <td># Regarder The Conjuring 3: The Devil Made Me ...</td>\n",
       "      <td># Regarder The Conjuring 3: The Devil Made Me ...</td>\n",
       "      <td>40.0</td>\n",
       "      <td>Pypi</td>\n",
       "      <td>14.0</td>\n",
       "      <td>14.0</td>\n",
       "      <td>regarder-the-conjuring-the-devil-made-me-do-it...</td>\n",
       "      <td>0.196</td>\n",
       "      <td>0.804</td>\n",
       "      <td>0.000</td>\n",
       "      <td>-0.6597</td>\n",
       "      <td>0.000000</td>\n",
       "      <td>-1</td>\n",
       "      <td>0</td>\n",
       "      <td>-0.659700</td>\n",
       "      <td>-1</td>\n",
       "    </tr>\n",
       "    <tr>\n",
       "      <th>2021-06-14 14:27:46-04:00</th>\n",
       "      <td>Quick News: Knives, 4K, Code 8, Immortal</td>\n",
       "      <td>Knives Out 2“Iron Fist” and “Love and Monsters...</td>\n",
       "      <td>Knives Out 2“Iron Fist” and “Love and Monsters...</td>\n",
       "      <td>40.0</td>\n",
       "      <td>Dark Horizons</td>\n",
       "      <td>14.0</td>\n",
       "      <td>14.0</td>\n",
       "      <td>Quick News: Knives, 4K, Code 8, Immortal; Kniv...</td>\n",
       "      <td>0.000</td>\n",
       "      <td>0.900</td>\n",
       "      <td>0.100</td>\n",
       "      <td>0.4939</td>\n",
       "      <td>0.444444</td>\n",
       "      <td>1</td>\n",
       "      <td>1</td>\n",
       "      <td>0.049456</td>\n",
       "      <td>1</td>\n",
       "    </tr>\n",
       "    <tr>\n",
       "      <th>2021-06-14 14:27:57-04:00</th>\n",
       "      <td>This NBC Sci-Fi Drama Is The Most Popular Show...</td>\n",
       "      <td>Manifest is the most popular show on Netflix, ...</td>\n",
       "      <td>Manifest is the most popular show on Netflix, ...</td>\n",
       "      <td>40.0</td>\n",
       "      <td>HuffPost</td>\n",
       "      <td>14.0</td>\n",
       "      <td>14.0</td>\n",
       "      <td>This NBC Sci-Fi Drama Is The Most Popular Show...</td>\n",
       "      <td>0.000</td>\n",
       "      <td>0.877</td>\n",
       "      <td>0.123</td>\n",
       "      <td>0.7340</td>\n",
       "      <td>0.322487</td>\n",
       "      <td>1</td>\n",
       "      <td>1</td>\n",
       "      <td>0.411513</td>\n",
       "      <td>1</td>\n",
       "    </tr>\n",
       "    <tr>\n",
       "      <th>2021-06-14 14:28:57-04:00</th>\n",
       "      <td>Chrissy Teigen apologizes for her 'horrible' t...</td>\n",
       "      <td>Chrissy Teigen would like to apologize for her...</td>\n",
       "      <td>Chrissy Teigen would like to apologize for her...</td>\n",
       "      <td>40.0</td>\n",
       "      <td>The Week Magazine</td>\n",
       "      <td>14.0</td>\n",
       "      <td>14.0</td>\n",
       "      <td>Chrissy Teigen apologizes for her 'horrible' t...</td>\n",
       "      <td>0.233</td>\n",
       "      <td>0.578</td>\n",
       "      <td>0.190</td>\n",
       "      <td>-0.6597</td>\n",
       "      <td>-0.812500</td>\n",
       "      <td>-1</td>\n",
       "      <td>-1</td>\n",
       "      <td>0.152800</td>\n",
       "      <td>-1</td>\n",
       "    </tr>\n",
       "    <tr>\n",
       "      <th>2021-06-14 14:30:34-04:00</th>\n",
       "      <td>Where to Watch ‘Kevin Can F*** Himself’</td>\n",
       "      <td>Say hello to a whole newAnnie Murphy. TheSchit...</td>\n",
       "      <td>Say hello to a whole newAnnie Murphy. TheSchit...</td>\n",
       "      <td>40.0</td>\n",
       "      <td>Decider</td>\n",
       "      <td>14.0</td>\n",
       "      <td>14.0</td>\n",
       "      <td>Where to Watch ‘Kevin Can F*** Himself’; Say h...</td>\n",
       "      <td>0.000</td>\n",
       "      <td>0.878</td>\n",
       "      <td>0.122</td>\n",
       "      <td>0.6124</td>\n",
       "      <td>0.333333</td>\n",
       "      <td>1</td>\n",
       "      <td>1</td>\n",
       "      <td>0.279067</td>\n",
       "      <td>1</td>\n",
       "    </tr>\n",
       "    <tr>\n",
       "      <th>2021-06-14 14:30:39-04:00</th>\n",
       "      <td>What Time Will ‘Workin’ Moms’ Season 5 Be On N...</td>\n",
       "      <td>It’s a terrific time for television. Earlier t...</td>\n",
       "      <td>It’s a terrific time for television. Earlier t...</td>\n",
       "      <td>40.0</td>\n",
       "      <td>Decider</td>\n",
       "      <td>14.0</td>\n",
       "      <td>14.0</td>\n",
       "      <td>What Time Will ‘Workin’ Moms’ Season 5 Be On N...</td>\n",
       "      <td>0.000</td>\n",
       "      <td>0.725</td>\n",
       "      <td>0.275</td>\n",
       "      <td>0.9168</td>\n",
       "      <td>0.473333</td>\n",
       "      <td>1</td>\n",
       "      <td>1</td>\n",
       "      <td>0.443467</td>\n",
       "      <td>1</td>\n",
       "    </tr>\n",
       "    <tr>\n",
       "      <th>2021-06-14 14:34:00-04:00</th>\n",
       "      <td>'She-Hulk' Season 1: Disney+ Release Date, Cas...</td>\n",
       "      <td>So far, the Disney+ TV series lineup for Marve...</td>\n",
       "      <td>So far, the Disney+ TV series lineup for Marve...</td>\n",
       "      <td>40.0</td>\n",
       "      <td>Elite Daily</td>\n",
       "      <td>14.0</td>\n",
       "      <td>14.0</td>\n",
       "      <td>'She-Hulk' Season 1: Disney+ Release Date, Cas...</td>\n",
       "      <td>0.000</td>\n",
       "      <td>0.839</td>\n",
       "      <td>0.161</td>\n",
       "      <td>0.7717</td>\n",
       "      <td>0.050000</td>\n",
       "      <td>1</td>\n",
       "      <td>0</td>\n",
       "      <td>0.721700</td>\n",
       "      <td>1</td>\n",
       "    </tr>\n",
       "    <tr>\n",
       "      <th>2021-06-14 14:37:22-04:00</th>\n",
       "      <td>Trailer: Andrew Garfield Is Out to Write the G...</td>\n",
       "      <td>Andrew Garfield is singing and dancing his way...</td>\n",
       "      <td>Andrew Garfield is singing and dancing his way...</td>\n",
       "      <td>40.0</td>\n",
       "      <td>Relevantmagazine</td>\n",
       "      <td>14.0</td>\n",
       "      <td>14.0</td>\n",
       "      <td>Trailer: Andrew Garfield Is Out to Write the G...</td>\n",
       "      <td>0.000</td>\n",
       "      <td>0.855</td>\n",
       "      <td>0.145</td>\n",
       "      <td>0.8168</td>\n",
       "      <td>0.243750</td>\n",
       "      <td>1</td>\n",
       "      <td>1</td>\n",
       "      <td>0.573050</td>\n",
       "      <td>1</td>\n",
       "    </tr>\n",
       "    <tr>\n",
       "      <th>2021-06-14 14:38:05-04:00</th>\n",
       "      <td>Ryan Murphy Turning Creepy Real Life Tale of “...</td>\n",
       "      <td>Back in 2015, you may recall, a creep who call...</td>\n",
       "      <td>Back in 2015, you may recall, a creep who call...</td>\n",
       "      <td>40.0</td>\n",
       "      <td>Bloody Disgusting</td>\n",
       "      <td>14.0</td>\n",
       "      <td>14.0</td>\n",
       "      <td>Ryan Murphy Turning Creepy Real Life Tale of “...</td>\n",
       "      <td>0.151</td>\n",
       "      <td>0.849</td>\n",
       "      <td>0.000</td>\n",
       "      <td>-0.8020</td>\n",
       "      <td>-0.174490</td>\n",
       "      <td>-1</td>\n",
       "      <td>-1</td>\n",
       "      <td>-0.627510</td>\n",
       "      <td>-1</td>\n",
       "    </tr>\n",
       "    <tr>\n",
       "      <th>2021-06-14 14:41:44-04:00</th>\n",
       "      <td>The Brooklyn Liberation March Showed Why the G...</td>\n",
       "      <td>As I marched with thousands of queer and trans...</td>\n",
       "      <td>As I marched with thousands of queer and trans...</td>\n",
       "      <td>40.0</td>\n",
       "      <td>Daily Beast</td>\n",
       "      <td>14.0</td>\n",
       "      <td>14.0</td>\n",
       "      <td>The Brooklyn Liberation March Showed Why the G...</td>\n",
       "      <td>0.000</td>\n",
       "      <td>0.873</td>\n",
       "      <td>0.127</td>\n",
       "      <td>0.7269</td>\n",
       "      <td>0.650000</td>\n",
       "      <td>1</td>\n",
       "      <td>1</td>\n",
       "      <td>0.076900</td>\n",
       "      <td>1</td>\n",
       "    </tr>\n",
       "    <tr>\n",
       "      <th>2021-06-14 14:42:00-04:00</th>\n",
       "      <td>The Matrix 4's Jessica Henwick Cast in Knives ...</td>\n",
       "      <td>Jessica Henwick is exiting The Matrix and ente...</td>\n",
       "      <td>Jessica Henwick is exiting The Matrix and ente...</td>\n",
       "      <td>40.0</td>\n",
       "      <td>ComicBook</td>\n",
       "      <td>14.0</td>\n",
       "      <td>14.0</td>\n",
       "      <td>The Matrix 4's Jessica Henwick Cast in Knives ...</td>\n",
       "      <td>0.000</td>\n",
       "      <td>1.000</td>\n",
       "      <td>0.000</td>\n",
       "      <td>0.0000</td>\n",
       "      <td>0.100000</td>\n",
       "      <td>0</td>\n",
       "      <td>0</td>\n",
       "      <td>-0.100000</td>\n",
       "      <td>0</td>\n",
       "    </tr>\n",
       "    <tr>\n",
       "      <th>2021-06-14 14:42:42-04:00</th>\n",
       "      <td>Artists Address Racial Inequality in \"Operatio...</td>\n",
       "      <td>Allouche Gallery is currently hosting a moment...</td>\n",
       "      <td>Allouche Gallery is currently hosting a moment...</td>\n",
       "      <td>40.0</td>\n",
       "      <td>HYPEBEAST</td>\n",
       "      <td>14.0</td>\n",
       "      <td>14.0</td>\n",
       "      <td>Artists Address Racial Inequality in \"Operatio...</td>\n",
       "      <td>0.000</td>\n",
       "      <td>0.942</td>\n",
       "      <td>0.058</td>\n",
       "      <td>0.2732</td>\n",
       "      <td>0.000000</td>\n",
       "      <td>0</td>\n",
       "      <td>0</td>\n",
       "      <td>0.273200</td>\n",
       "      <td>0</td>\n",
       "    </tr>\n",
       "    <tr>\n",
       "      <th>2021-06-14 14:44:57-04:00</th>\n",
       "      <td>Perfect Strangers Reboot, Starring Robin Thede...</td>\n",
       "      <td>A gender-flipped Perfect Strangers reboot is i...</td>\n",
       "      <td>A gender-flipped Perfect Strangers reboot is i...</td>\n",
       "      <td>40.0</td>\n",
       "      <td>TVLine</td>\n",
       "      <td>14.0</td>\n",
       "      <td>14.0</td>\n",
       "      <td>Perfect Strangers Reboot, Starring Robin Thede...</td>\n",
       "      <td>0.000</td>\n",
       "      <td>0.817</td>\n",
       "      <td>0.183</td>\n",
       "      <td>0.8555</td>\n",
       "      <td>0.611111</td>\n",
       "      <td>1</td>\n",
       "      <td>1</td>\n",
       "      <td>0.244389</td>\n",
       "      <td>1</td>\n",
       "    </tr>\n",
       "    <tr>\n",
       "      <th>2021-06-14 14:45:19-04:00</th>\n",
       "      <td>Lucifer bosses tease new character coming in s...</td>\n",
       "      <td>Lucifer season 6 might be the farewell season,...</td>\n",
       "      <td>Lucifer season 6 might be the farewell season,...</td>\n",
       "      <td>40.0</td>\n",
       "      <td>Winter is Coming</td>\n",
       "      <td>14.0</td>\n",
       "      <td>14.0</td>\n",
       "      <td>Lucifer bosses tease new character coming in s...</td>\n",
       "      <td>0.037</td>\n",
       "      <td>0.963</td>\n",
       "      <td>0.000</td>\n",
       "      <td>-0.1655</td>\n",
       "      <td>0.290909</td>\n",
       "      <td>0</td>\n",
       "      <td>1</td>\n",
       "      <td>-0.456409</td>\n",
       "      <td>0</td>\n",
       "    </tr>\n",
       "    <tr>\n",
       "      <th>2021-06-14 14:46:43-04:00</th>\n",
       "      <td>Early Amazon Prime Day sale knocks 4K Fire TVs...</td>\n",
       "      <td>The countdown is on for Amazon Prime Day, and ...</td>\n",
       "      <td>The countdown is on for Amazon Prime Day, and ...</td>\n",
       "      <td>40.0</td>\n",
       "      <td>TechRadar</td>\n",
       "      <td>14.0</td>\n",
       "      <td>14.0</td>\n",
       "      <td>Early Amazon Prime Day sale knocks 4K Fire TVs...</td>\n",
       "      <td>0.044</td>\n",
       "      <td>0.849</td>\n",
       "      <td>0.107</td>\n",
       "      <td>0.3400</td>\n",
       "      <td>0.146429</td>\n",
       "      <td>1</td>\n",
       "      <td>1</td>\n",
       "      <td>0.193571</td>\n",
       "      <td>1</td>\n",
       "    </tr>\n",
       "    <tr>\n",
       "      <th>2021-06-14 14:50:25-04:00</th>\n",
       "      <td>Kevin Hart Blasts Proponents of Cancel Culture...</td>\n",
       "      <td>Jeff Spicer/Getty ImagesComedian Kevin Hart sl...</td>\n",
       "      <td>Jeff Spicer/Getty ImagesComedian Kevin Hart sl...</td>\n",
       "      <td>40.0</td>\n",
       "      <td>Mediaite</td>\n",
       "      <td>14.0</td>\n",
       "      <td>14.0</td>\n",
       "      <td>Kevin Hart Blasts Proponents of Cancel Culture...</td>\n",
       "      <td>0.058</td>\n",
       "      <td>0.942</td>\n",
       "      <td>0.000</td>\n",
       "      <td>-0.3164</td>\n",
       "      <td>0.000000</td>\n",
       "      <td>-1</td>\n",
       "      <td>0</td>\n",
       "      <td>-0.316400</td>\n",
       "      <td>-1</td>\n",
       "    </tr>\n",
       "    <tr>\n",
       "      <th>2021-06-14 14:59:11-04:00</th>\n",
       "      <td>Jessica Henwick Reportedly Joins the Cast of K...</td>\n",
       "      <td>The cast ofKnives Out 2 continues to add some ...</td>\n",
       "      <td>The cast ofKnives Out 2 continues to add some ...</td>\n",
       "      <td>40.0</td>\n",
       "      <td>Bleeding Cool News</td>\n",
       "      <td>14.0</td>\n",
       "      <td>14.0</td>\n",
       "      <td>Jessica Henwick Reportedly Joins the Cast of K...</td>\n",
       "      <td>0.000</td>\n",
       "      <td>0.843</td>\n",
       "      <td>0.157</td>\n",
       "      <td>0.7778</td>\n",
       "      <td>1.000000</td>\n",
       "      <td>1</td>\n",
       "      <td>1</td>\n",
       "      <td>-0.222200</td>\n",
       "      <td>1</td>\n",
       "    </tr>\n",
       "    <tr>\n",
       "      <th>2021-06-14 14:59:26-04:00</th>\n",
       "      <td>Pirated Movies, TV Shows iOS App Climbs App St...</td>\n",
       "      <td>Disguised as Sudoku game, a free-to-play iOS a...</td>\n",
       "      <td>Disguised as Sudoku game, a free-to-play iOS a...</td>\n",
       "      <td>40.0</td>\n",
       "      <td>iPhone in Canada</td>\n",
       "      <td>14.0</td>\n",
       "      <td>14.0</td>\n",
       "      <td>Pirated Movies, TV Shows iOS App Climbs App St...</td>\n",
       "      <td>0.045</td>\n",
       "      <td>0.884</td>\n",
       "      <td>0.071</td>\n",
       "      <td>0.2960</td>\n",
       "      <td>-0.100000</td>\n",
       "      <td>0</td>\n",
       "      <td>0</td>\n",
       "      <td>0.396000</td>\n",
       "      <td>0</td>\n",
       "    </tr>\n",
       "  </tbody>\n",
       "</table>\n",
       "</div>"
      ],
      "text/plain": [
       "                                                                       title  \\\n",
       "publishedAt                                                                    \n",
       "2021-06-14 14:00:30-04:00  ‘Perfect Strangers’: Robin Thede & London Hugh...   \n",
       "2021-06-14 14:00:50-04:00  ‘The Umbrella Academy’ VFX Supervisor Everett ...   \n",
       "2021-06-14 14:00:54-04:00  Netflix’s ‘Élite Short Stories’ Packs More Dra...   \n",
       "2021-06-14 14:00:56-04:00  Paramount+ is a Waste of Money and I Shouldn't...   \n",
       "2021-06-14 14:08:14-04:00  Goldman Sachs says buy these 37 stocks that wi...   \n",
       "2021-06-14 14:11:00-04:00  Big Mouth spinoff Human Resources voice cast r...   \n",
       "2021-06-14 14:13:03-04:00  Locksmith Animation Taps Simon Otto to Direct ...   \n",
       "2021-06-14 14:13:27-04:00  Naomi Watts & Bobby Cannavale To Headline ‘The...   \n",
       "2021-06-14 14:15:00-04:00  Resident Evil: Infinite Darkness spreads openi...   \n",
       "2021-06-14 14:15:27-04:00  ‘Underwater’ Actress Jessica Henwick Joins Ria...   \n",
       "2021-06-14 14:16:00-04:00  Netflix Announces Big Mouth Spinoff Human Reso...   \n",
       "2021-06-14 14:20:00-04:00  OneRepublic to Perform at Zappos Theater at Pl...   \n",
       "2021-06-14 14:20:22-04:00  Chrissy Teigen Breaks Social Media Silence Wit...   \n",
       "2021-06-14 14:24:56-04:00             Payne, Giamatti Re-Team On “Holdovers”   \n",
       "2021-06-14 14:27:11-04:00  2021 Annecy Animation Festival: Key Takes, fro...   \n",
       "2021-06-14 14:27:43-04:00  regarder-the-conjuring-the-devil-made-me-do-it...   \n",
       "2021-06-14 14:27:46-04:00           Quick News: Knives, 4K, Code 8, Immortal   \n",
       "2021-06-14 14:27:57-04:00  This NBC Sci-Fi Drama Is The Most Popular Show...   \n",
       "2021-06-14 14:28:57-04:00  Chrissy Teigen apologizes for her 'horrible' t...   \n",
       "2021-06-14 14:30:34-04:00            Where to Watch ‘Kevin Can F*** Himself’   \n",
       "2021-06-14 14:30:39-04:00  What Time Will ‘Workin’ Moms’ Season 5 Be On N...   \n",
       "2021-06-14 14:34:00-04:00  'She-Hulk' Season 1: Disney+ Release Date, Cas...   \n",
       "2021-06-14 14:37:22-04:00  Trailer: Andrew Garfield Is Out to Write the G...   \n",
       "2021-06-14 14:38:05-04:00  Ryan Murphy Turning Creepy Real Life Tale of “...   \n",
       "2021-06-14 14:41:44-04:00  The Brooklyn Liberation March Showed Why the G...   \n",
       "2021-06-14 14:42:00-04:00  The Matrix 4's Jessica Henwick Cast in Knives ...   \n",
       "2021-06-14 14:42:42-04:00  Artists Address Racial Inequality in \"Operatio...   \n",
       "2021-06-14 14:44:57-04:00  Perfect Strangers Reboot, Starring Robin Thede...   \n",
       "2021-06-14 14:45:19-04:00  Lucifer bosses tease new character coming in s...   \n",
       "2021-06-14 14:46:43-04:00  Early Amazon Prime Day sale knocks 4K Fire TVs...   \n",
       "2021-06-14 14:50:25-04:00  Kevin Hart Blasts Proponents of Cancel Culture...   \n",
       "2021-06-14 14:59:11-04:00  Jessica Henwick Reportedly Joins the Cast of K...   \n",
       "2021-06-14 14:59:26-04:00  Pirated Movies, TV Shows iOS App Climbs App St...   \n",
       "\n",
       "                                                                 description  \\\n",
       "publishedAt                                                                    \n",
       "2021-06-14 14:00:30-04:00  Perfect Strangers, the 1980s sitcom starring M...   \n",
       "2021-06-14 14:00:50-04:00  For the second season of Netflix’sThe Umbrella...   \n",
       "2021-06-14 14:00:54-04:00  Ever since it premiered on Netflix back in 201...   \n",
       "2021-06-14 14:00:56-04:00  ViacomCBSI did it. I purchased Paramount+ at t...   \n",
       "2021-06-14 14:08:14-04:00  In the era of cryptocurrencies and meme stocks...   \n",
       "2021-06-14 14:11:00-04:00  Attention all of your Big Mouth fans out there...   \n",
       "2021-06-14 14:13:03-04:00  Locksmith Animation has tapped Simon Otto to d...   \n",
       "2021-06-14 14:13:27-04:00  EXCLUSIVE: Naomi Watts and Bobby Cannavale are...   \n",
       "2021-06-14 14:15:00-04:00  While a live-action Resident Evil television s...   \n",
       "2021-06-14 14:15:27-04:00  Sweden is hardly known for genre films and has...   \n",
       "2021-06-14 14:16:00-04:00  Netflix has announced that Big Mouth, the stre...   \n",
       "2021-06-14 14:20:00-04:00  An artist presale is scheduled for Tuesday, Ju...   \n",
       "2021-06-14 14:20:22-04:00  It's been over a month since Chrissy Teigen's ...   \n",
       "2021-06-14 14:24:56-04:00  “Sideways” director Alexander Payne and star P...   \n",
       "2021-06-14 14:27:11-04:00  The 2021 Annecy Intl. Animation Film Festival ...   \n",
       "2021-06-14 14:27:43-04:00  # Regarder The Conjuring 3: The Devil Made Me ...   \n",
       "2021-06-14 14:27:46-04:00  Knives Out 2“Iron Fist” and “Love and Monsters...   \n",
       "2021-06-14 14:27:57-04:00  Manifest is the most popular show on Netflix, ...   \n",
       "2021-06-14 14:28:57-04:00  Chrissy Teigen would like to apologize for her...   \n",
       "2021-06-14 14:30:34-04:00  Say hello to a whole newAnnie Murphy. TheSchit...   \n",
       "2021-06-14 14:30:39-04:00  It’s a terrific time for television. Earlier t...   \n",
       "2021-06-14 14:34:00-04:00  So far, the Disney+ TV series lineup for Marve...   \n",
       "2021-06-14 14:37:22-04:00  Andrew Garfield is singing and dancing his way...   \n",
       "2021-06-14 14:38:05-04:00  Back in 2015, you may recall, a creep who call...   \n",
       "2021-06-14 14:41:44-04:00  As I marched with thousands of queer and trans...   \n",
       "2021-06-14 14:42:00-04:00  Jessica Henwick is exiting The Matrix and ente...   \n",
       "2021-06-14 14:42:42-04:00  Allouche Gallery is currently hosting a moment...   \n",
       "2021-06-14 14:44:57-04:00  A gender-flipped Perfect Strangers reboot is i...   \n",
       "2021-06-14 14:45:19-04:00  Lucifer season 6 might be the farewell season,...   \n",
       "2021-06-14 14:46:43-04:00  The countdown is on for Amazon Prime Day, and ...   \n",
       "2021-06-14 14:50:25-04:00  Jeff Spicer/Getty ImagesComedian Kevin Hart sl...   \n",
       "2021-06-14 14:59:11-04:00  The cast ofKnives Out 2 continues to add some ...   \n",
       "2021-06-14 14:59:26-04:00  Disguised as Sudoku game, a free-to-play iOS a...   \n",
       "\n",
       "                                                                     content  \\\n",
       "publishedAt                                                                    \n",
       "2021-06-14 14:00:30-04:00  Perfect Strangers, the 1980s sitcom starring M...   \n",
       "2021-06-14 14:00:50-04:00  For the second season of Netflix’sThe Umbrella...   \n",
       "2021-06-14 14:00:54-04:00  Ever since it premiered on Netflix back in 201...   \n",
       "2021-06-14 14:00:56-04:00  ViacomCBSI did it. I purchased Paramount+ at t...   \n",
       "2021-06-14 14:08:14-04:00  In the era of cryptocurrencies and meme stocks...   \n",
       "2021-06-14 14:11:00-04:00  Attention all of your Big Mouth fans out there...   \n",
       "2021-06-14 14:13:03-04:00  Locksmith Animation has tapped Simon Otto to d...   \n",
       "2021-06-14 14:13:27-04:00  EXCLUSIVE: Naomi Watts and Bobby Cannavale are...   \n",
       "2021-06-14 14:15:00-04:00  While a live-action Resident Evil television s...   \n",
       "2021-06-14 14:15:27-04:00  Sweden is hardly known for genre films and has...   \n",
       "2021-06-14 14:16:00-04:00  Netflix has announced that Big Mouth, the stre...   \n",
       "2021-06-14 14:20:00-04:00  An artist presale is scheduled for Tuesday, Ju...   \n",
       "2021-06-14 14:20:22-04:00  It's been over a month since Chrissy Teigen's ...   \n",
       "2021-06-14 14:24:56-04:00  “Sideways” director Alexander Payne and star P...   \n",
       "2021-06-14 14:27:11-04:00  The 2021 Annecy Intl. Animation Film Festival ...   \n",
       "2021-06-14 14:27:43-04:00  # Regarder The Conjuring 3: The Devil Made Me ...   \n",
       "2021-06-14 14:27:46-04:00  Knives Out 2“Iron Fist” and “Love and Monsters...   \n",
       "2021-06-14 14:27:57-04:00  Manifest is the most popular show on Netflix, ...   \n",
       "2021-06-14 14:28:57-04:00  Chrissy Teigen would like to apologize for her...   \n",
       "2021-06-14 14:30:34-04:00  Say hello to a whole newAnnie Murphy. TheSchit...   \n",
       "2021-06-14 14:30:39-04:00  It’s a terrific time for television. Earlier t...   \n",
       "2021-06-14 14:34:00-04:00  So far, the Disney+ TV series lineup for Marve...   \n",
       "2021-06-14 14:37:22-04:00  Andrew Garfield is singing and dancing his way...   \n",
       "2021-06-14 14:38:05-04:00  Back in 2015, you may recall, a creep who call...   \n",
       "2021-06-14 14:41:44-04:00  As I marched with thousands of queer and trans...   \n",
       "2021-06-14 14:42:00-04:00  Jessica Henwick is exiting The Matrix and ente...   \n",
       "2021-06-14 14:42:42-04:00  Allouche Gallery is currently hosting a moment...   \n",
       "2021-06-14 14:44:57-04:00  A gender-flipped Perfect Strangers reboot is i...   \n",
       "2021-06-14 14:45:19-04:00  Lucifer season 6 might be the farewell season,...   \n",
       "2021-06-14 14:46:43-04:00  The countdown is on for Amazon Prime Day, and ...   \n",
       "2021-06-14 14:50:25-04:00  Jeff Spicer/Getty ImagesComedian Kevin Hart sl...   \n",
       "2021-06-14 14:59:11-04:00  The cast ofKnives Out 2 continues to add some ...   \n",
       "2021-06-14 14:59:26-04:00  Disguised as Sudoku game, a free-to-play iOS a...   \n",
       "\n",
       "                           results             source2  hour   day  \\\n",
       "publishedAt                                                          \n",
       "2021-06-14 14:00:30-04:00     40.0            Deadline  14.0  14.0   \n",
       "2021-06-14 14:00:50-04:00     40.0            Deadline  14.0  14.0   \n",
       "2021-06-14 14:00:54-04:00     40.0             Decider  14.0  14.0   \n",
       "2021-06-14 14:00:56-04:00     40.0          Reviewgeek  14.0  14.0   \n",
       "2021-06-14 14:08:14-04:00     40.0    Business Insider  14.0  14.0   \n",
       "2021-06-14 14:11:00-04:00     40.0               JoBlo  14.0  14.0   \n",
       "2021-06-14 14:13:03-04:00     40.0             Variety  14.0  14.0   \n",
       "2021-06-14 14:13:27-04:00     40.0            Deadline  14.0  14.0   \n",
       "2021-06-14 14:15:00-04:00     40.0               JoBlo  14.0  14.0   \n",
       "2021-06-14 14:15:27-04:00     40.0   Bloody Disgusting  14.0  14.0   \n",
       "2021-06-14 14:16:00-04:00     40.0            GameSpot  14.0  14.0   \n",
       "2021-06-14 14:20:00-04:00     40.0          PRNewswire  14.0  14.0   \n",
       "2021-06-14 14:20:22-04:00     40.0         Radaronline  14.0  14.0   \n",
       "2021-06-14 14:24:56-04:00     40.0       Dark Horizons  14.0  14.0   \n",
       "2021-06-14 14:27:11-04:00     40.0             Variety  14.0  14.0   \n",
       "2021-06-14 14:27:43-04:00     40.0                Pypi  14.0  14.0   \n",
       "2021-06-14 14:27:46-04:00     40.0       Dark Horizons  14.0  14.0   \n",
       "2021-06-14 14:27:57-04:00     40.0            HuffPost  14.0  14.0   \n",
       "2021-06-14 14:28:57-04:00     40.0   The Week Magazine  14.0  14.0   \n",
       "2021-06-14 14:30:34-04:00     40.0             Decider  14.0  14.0   \n",
       "2021-06-14 14:30:39-04:00     40.0             Decider  14.0  14.0   \n",
       "2021-06-14 14:34:00-04:00     40.0         Elite Daily  14.0  14.0   \n",
       "2021-06-14 14:37:22-04:00     40.0    Relevantmagazine  14.0  14.0   \n",
       "2021-06-14 14:38:05-04:00     40.0   Bloody Disgusting  14.0  14.0   \n",
       "2021-06-14 14:41:44-04:00     40.0         Daily Beast  14.0  14.0   \n",
       "2021-06-14 14:42:00-04:00     40.0           ComicBook  14.0  14.0   \n",
       "2021-06-14 14:42:42-04:00     40.0           HYPEBEAST  14.0  14.0   \n",
       "2021-06-14 14:44:57-04:00     40.0              TVLine  14.0  14.0   \n",
       "2021-06-14 14:45:19-04:00     40.0    Winter is Coming  14.0  14.0   \n",
       "2021-06-14 14:46:43-04:00     40.0           TechRadar  14.0  14.0   \n",
       "2021-06-14 14:50:25-04:00     40.0            Mediaite  14.0  14.0   \n",
       "2021-06-14 14:59:11-04:00     40.0  Bleeding Cool News  14.0  14.0   \n",
       "2021-06-14 14:59:26-04:00     40.0    iPhone in Canada  14.0  14.0   \n",
       "\n",
       "                                                                 cont_joined  \\\n",
       "publishedAt                                                                    \n",
       "2021-06-14 14:00:30-04:00  ‘Perfect Strangers’: Robin Thede & London Hugh...   \n",
       "2021-06-14 14:00:50-04:00  ‘The Umbrella Academy’ VFX Supervisor Everett ...   \n",
       "2021-06-14 14:00:54-04:00  Netflix’s ‘Élite Short Stories’ Packs More Dra...   \n",
       "2021-06-14 14:00:56-04:00  Paramount+ is a Waste of Money and I Shouldn't...   \n",
       "2021-06-14 14:08:14-04:00  Goldman Sachs says buy these 37 stocks that wi...   \n",
       "2021-06-14 14:11:00-04:00  Big Mouth spinoff Human Resources voice cast r...   \n",
       "2021-06-14 14:13:03-04:00  Locksmith Animation Taps Simon Otto to Direct ...   \n",
       "2021-06-14 14:13:27-04:00  Naomi Watts & Bobby Cannavale To Headline ‘The...   \n",
       "2021-06-14 14:15:00-04:00  Resident Evil: Infinite Darkness spreads openi...   \n",
       "2021-06-14 14:15:27-04:00  ‘Underwater’ Actress Jessica Henwick Joins Ria...   \n",
       "2021-06-14 14:16:00-04:00  Netflix Announces Big Mouth Spinoff Human Reso...   \n",
       "2021-06-14 14:20:00-04:00  OneRepublic to Perform at Zappos Theater at Pl...   \n",
       "2021-06-14 14:20:22-04:00  Chrissy Teigen Breaks Social Media Silence Wit...   \n",
       "2021-06-14 14:24:56-04:00  Payne, Giamatti Re-Team On “Holdovers”; “Sidew...   \n",
       "2021-06-14 14:27:11-04:00  2021 Annecy Animation Festival: Key Takes, fro...   \n",
       "2021-06-14 14:27:43-04:00  regarder-the-conjuring-the-devil-made-me-do-it...   \n",
       "2021-06-14 14:27:46-04:00  Quick News: Knives, 4K, Code 8, Immortal; Kniv...   \n",
       "2021-06-14 14:27:57-04:00  This NBC Sci-Fi Drama Is The Most Popular Show...   \n",
       "2021-06-14 14:28:57-04:00  Chrissy Teigen apologizes for her 'horrible' t...   \n",
       "2021-06-14 14:30:34-04:00  Where to Watch ‘Kevin Can F*** Himself’; Say h...   \n",
       "2021-06-14 14:30:39-04:00  What Time Will ‘Workin’ Moms’ Season 5 Be On N...   \n",
       "2021-06-14 14:34:00-04:00  'She-Hulk' Season 1: Disney+ Release Date, Cas...   \n",
       "2021-06-14 14:37:22-04:00  Trailer: Andrew Garfield Is Out to Write the G...   \n",
       "2021-06-14 14:38:05-04:00  Ryan Murphy Turning Creepy Real Life Tale of “...   \n",
       "2021-06-14 14:41:44-04:00  The Brooklyn Liberation March Showed Why the G...   \n",
       "2021-06-14 14:42:00-04:00  The Matrix 4's Jessica Henwick Cast in Knives ...   \n",
       "2021-06-14 14:42:42-04:00  Artists Address Racial Inequality in \"Operatio...   \n",
       "2021-06-14 14:44:57-04:00  Perfect Strangers Reboot, Starring Robin Thede...   \n",
       "2021-06-14 14:45:19-04:00  Lucifer bosses tease new character coming in s...   \n",
       "2021-06-14 14:46:43-04:00  Early Amazon Prime Day sale knocks 4K Fire TVs...   \n",
       "2021-06-14 14:50:25-04:00  Kevin Hart Blasts Proponents of Cancel Culture...   \n",
       "2021-06-14 14:59:11-04:00  Jessica Henwick Reportedly Joins the Cast of K...   \n",
       "2021-06-14 14:59:26-04:00  Pirated Movies, TV Shows iOS App Climbs App St...   \n",
       "\n",
       "                             neg    neu    pos    comp      blob  comp_abs  \\\n",
       "publishedAt                                                                  \n",
       "2021-06-14 14:00:30-04:00  0.000  0.838  0.162  0.8271  0.666667         1   \n",
       "2021-06-14 14:00:50-04:00  0.000  0.968  0.032  0.1531  0.000000         0   \n",
       "2021-06-14 14:00:54-04:00  0.191  0.696  0.113 -0.7003  0.234375        -1   \n",
       "2021-06-14 14:00:56-04:00  0.060  0.851  0.089  0.3400  0.229464         1   \n",
       "2021-06-14 14:08:14-04:00  0.034  0.833  0.132  0.7184  0.160417         1   \n",
       "2021-06-14 14:11:00-04:00  0.000  0.938  0.062  0.3612  0.000000         1   \n",
       "2021-06-14 14:13:03-04:00  0.000  1.000  0.000  0.0000  0.100000         0   \n",
       "2021-06-14 14:13:27-04:00  0.084  0.866  0.050 -0.1449  0.014286         0   \n",
       "2021-06-14 14:15:00-04:00  0.307  0.693  0.000 -0.9476 -1.000000        -1   \n",
       "2021-06-14 14:15:27-04:00  0.081  0.919  0.000 -0.5719  0.001190        -1   \n",
       "2021-06-14 14:16:00-04:00  0.000  0.926  0.074  0.4215  0.150000         1   \n",
       "2021-06-14 14:20:00-04:00  0.000  0.777  0.223  0.9042  0.136364         1   \n",
       "2021-06-14 14:20:22-04:00  0.041  0.959  0.000 -0.2382 -0.017778         0   \n",
       "2021-06-14 14:24:56-04:00  0.075  0.801  0.124  0.2023 -0.200000         0   \n",
       "2021-06-14 14:27:11-04:00  0.019  0.767  0.214  0.9047  0.000000         1   \n",
       "2021-06-14 14:27:43-04:00  0.196  0.804  0.000 -0.6597  0.000000        -1   \n",
       "2021-06-14 14:27:46-04:00  0.000  0.900  0.100  0.4939  0.444444         1   \n",
       "2021-06-14 14:27:57-04:00  0.000  0.877  0.123  0.7340  0.322487         1   \n",
       "2021-06-14 14:28:57-04:00  0.233  0.578  0.190 -0.6597 -0.812500        -1   \n",
       "2021-06-14 14:30:34-04:00  0.000  0.878  0.122  0.6124  0.333333         1   \n",
       "2021-06-14 14:30:39-04:00  0.000  0.725  0.275  0.9168  0.473333         1   \n",
       "2021-06-14 14:34:00-04:00  0.000  0.839  0.161  0.7717  0.050000         1   \n",
       "2021-06-14 14:37:22-04:00  0.000  0.855  0.145  0.8168  0.243750         1   \n",
       "2021-06-14 14:38:05-04:00  0.151  0.849  0.000 -0.8020 -0.174490        -1   \n",
       "2021-06-14 14:41:44-04:00  0.000  0.873  0.127  0.7269  0.650000         1   \n",
       "2021-06-14 14:42:00-04:00  0.000  1.000  0.000  0.0000  0.100000         0   \n",
       "2021-06-14 14:42:42-04:00  0.000  0.942  0.058  0.2732  0.000000         0   \n",
       "2021-06-14 14:44:57-04:00  0.000  0.817  0.183  0.8555  0.611111         1   \n",
       "2021-06-14 14:45:19-04:00  0.037  0.963  0.000 -0.1655  0.290909         0   \n",
       "2021-06-14 14:46:43-04:00  0.044  0.849  0.107  0.3400  0.146429         1   \n",
       "2021-06-14 14:50:25-04:00  0.058  0.942  0.000 -0.3164  0.000000        -1   \n",
       "2021-06-14 14:59:11-04:00  0.000  0.843  0.157  0.7778  1.000000         1   \n",
       "2021-06-14 14:59:26-04:00  0.045  0.884  0.071  0.2960 -0.100000         0   \n",
       "\n",
       "                           blob_abs       c_b  Sentiment  \n",
       "publishedAt                                               \n",
       "2021-06-14 14:00:30-04:00         1  0.160433          1  \n",
       "2021-06-14 14:00:50-04:00         0  0.153100          0  \n",
       "2021-06-14 14:00:54-04:00         1 -0.934675         -1  \n",
       "2021-06-14 14:00:56-04:00         1  0.110536          1  \n",
       "2021-06-14 14:08:14-04:00         1  0.557983          1  \n",
       "2021-06-14 14:11:00-04:00         0  0.361200          1  \n",
       "2021-06-14 14:13:03-04:00         0 -0.100000          0  \n",
       "2021-06-14 14:13:27-04:00         0 -0.159186          0  \n",
       "2021-06-14 14:15:00-04:00        -1  0.052400         -1  \n",
       "2021-06-14 14:15:27-04:00         0 -0.573090         -1  \n",
       "2021-06-14 14:16:00-04:00         1  0.271500          1  \n",
       "2021-06-14 14:20:00-04:00         0  0.767836          1  \n",
       "2021-06-14 14:20:22-04:00         0 -0.220422          0  \n",
       "2021-06-14 14:24:56-04:00        -1  0.402300          0  \n",
       "2021-06-14 14:27:11-04:00         0  0.904700          1  \n",
       "2021-06-14 14:27:43-04:00         0 -0.659700         -1  \n",
       "2021-06-14 14:27:46-04:00         1  0.049456          1  \n",
       "2021-06-14 14:27:57-04:00         1  0.411513          1  \n",
       "2021-06-14 14:28:57-04:00        -1  0.152800         -1  \n",
       "2021-06-14 14:30:34-04:00         1  0.279067          1  \n",
       "2021-06-14 14:30:39-04:00         1  0.443467          1  \n",
       "2021-06-14 14:34:00-04:00         0  0.721700          1  \n",
       "2021-06-14 14:37:22-04:00         1  0.573050          1  \n",
       "2021-06-14 14:38:05-04:00        -1 -0.627510         -1  \n",
       "2021-06-14 14:41:44-04:00         1  0.076900          1  \n",
       "2021-06-14 14:42:00-04:00         0 -0.100000          0  \n",
       "2021-06-14 14:42:42-04:00         0  0.273200          0  \n",
       "2021-06-14 14:44:57-04:00         1  0.244389          1  \n",
       "2021-06-14 14:45:19-04:00         1 -0.456409          0  \n",
       "2021-06-14 14:46:43-04:00         1  0.193571          1  \n",
       "2021-06-14 14:50:25-04:00         0 -0.316400         -1  \n",
       "2021-06-14 14:59:11-04:00         1 -0.222200          1  \n",
       "2021-06-14 14:59:26-04:00         0  0.396000          0  "
      ]
     },
     "execution_count": 57,
     "metadata": {},
     "output_type": "execute_result"
    }
   ],
   "source": [
    "df_hour"
   ]
  },
  {
   "cell_type": "code",
   "execution_count": null,
   "metadata": {
    "ExecuteTime": {
     "end_time": "2021-07-08T23:19:33.712725Z",
     "start_time": "2021-07-08T23:19:33.557302Z"
    }
   },
   "outputs": [],
   "source": []
  },
  {
   "cell_type": "code",
   "execution_count": 58,
   "metadata": {
    "ExecuteTime": {
     "end_time": "2021-07-16T14:47:50.880969Z",
     "start_time": "2021-07-16T14:47:50.878429Z"
    }
   },
   "outputs": [
    {
     "data": {
      "text/plain": [
       "0"
      ]
     },
     "execution_count": 58,
     "metadata": {},
     "output_type": "execute_result"
    }
   ],
   "source": [
    "df_hour.index.duplicated().sum()"
   ]
  },
  {
   "cell_type": "code",
   "execution_count": 59,
   "metadata": {
    "ExecuteTime": {
     "end_time": "2021-07-16T14:47:50.884205Z",
     "start_time": "2021-07-16T14:47:50.881850Z"
    }
   },
   "outputs": [],
   "source": [
    "def reset_index_version_remove_cols(df):\n",
    "    df = df.reset_index()\n",
    "    df.drop(columns=['description', 'content', 'results', 'hour', 'day', 'cont_joined', 'neg', 'neu',\n",
    "                    'pos', 'blob', 'comp_abs', 'blob_abs', 'c_b', 'index'], inplace=True)\n",
    "    df.rename(columns={'source2': 'source'}, inplace=True)\n",
    "    return df"
   ]
  },
  {
   "cell_type": "code",
   "execution_count": 60,
   "metadata": {
    "ExecuteTime": {
     "end_time": "2021-07-16T14:47:50.888507Z",
     "start_time": "2021-07-16T14:47:50.885218Z"
    }
   },
   "outputs": [],
   "source": [
    "df_netflix = reset_index_version_remove_cols(df_netflix)"
   ]
  },
  {
   "cell_type": "code",
   "execution_count": 61,
   "metadata": {
    "ExecuteTime": {
     "end_time": "2021-07-16T14:47:50.897332Z",
     "start_time": "2021-07-16T14:47:50.889418Z"
    }
   },
   "outputs": [
    {
     "data": {
      "text/html": [
       "<div>\n",
       "<style scoped>\n",
       "    .dataframe tbody tr th:only-of-type {\n",
       "        vertical-align: middle;\n",
       "    }\n",
       "\n",
       "    .dataframe tbody tr th {\n",
       "        vertical-align: top;\n",
       "    }\n",
       "\n",
       "    .dataframe thead th {\n",
       "        text-align: right;\n",
       "    }\n",
       "</style>\n",
       "<table border=\"1\" class=\"dataframe\">\n",
       "  <thead>\n",
       "    <tr style=\"text-align: right;\">\n",
       "      <th></th>\n",
       "      <th>publishedAt</th>\n",
       "      <th>title</th>\n",
       "      <th>source</th>\n",
       "      <th>comp</th>\n",
       "      <th>Sentiment</th>\n",
       "    </tr>\n",
       "  </thead>\n",
       "  <tbody>\n",
       "    <tr>\n",
       "      <th>0</th>\n",
       "      <td>2021-06-14 09:00:00-04:00</td>\n",
       "      <td>Business / Arts Announces Annual Award Recipie...</td>\n",
       "      <td>GlobeNewswire</td>\n",
       "      <td>0.9382</td>\n",
       "      <td>1</td>\n",
       "    </tr>\n",
       "    <tr>\n",
       "      <th>1</th>\n",
       "      <td>2021-06-14 09:00:00-04:00</td>\n",
       "      <td>Video Games Don’t Have To Be So Violent, And E...</td>\n",
       "      <td>UPROXX</td>\n",
       "      <td>-0.4576</td>\n",
       "      <td>-1</td>\n",
       "    </tr>\n",
       "    <tr>\n",
       "      <th>2</th>\n",
       "      <td>2021-06-14 09:00:00-04:00</td>\n",
       "      <td>Apple TV 4K (2nd Generation)</td>\n",
       "      <td>PCMag</td>\n",
       "      <td>0.0000</td>\n",
       "      <td>0</td>\n",
       "    </tr>\n",
       "    <tr>\n",
       "      <th>3</th>\n",
       "      <td>2021-06-14 09:00:10-04:00</td>\n",
       "      <td>‘Centaurworld’: Netflix Drops First Trailer Fo...</td>\n",
       "      <td>Deadline</td>\n",
       "      <td>0.0000</td>\n",
       "      <td>0</td>\n",
       "    </tr>\n",
       "    <tr>\n",
       "      <th>4</th>\n",
       "      <td>2021-06-14 09:00:58-04:00</td>\n",
       "      <td>‘Karma’s World’: Ludacris Talks Animated Netfl...</td>\n",
       "      <td>Deadline</td>\n",
       "      <td>0.8126</td>\n",
       "      <td>1</td>\n",
       "    </tr>\n",
       "    <tr>\n",
       "      <th>...</th>\n",
       "      <td>...</td>\n",
       "      <td>...</td>\n",
       "      <td>...</td>\n",
       "      <td>...</td>\n",
       "      <td>...</td>\n",
       "    </tr>\n",
       "    <tr>\n",
       "      <th>1029</th>\n",
       "      <td>2021-06-18 15:45:00-04:00</td>\n",
       "      <td>Gundam Hathaway Producer Teases 2nd Film, But ...</td>\n",
       "      <td>Anime News Network</td>\n",
       "      <td>-0.0258</td>\n",
       "      <td>0</td>\n",
       "    </tr>\n",
       "    <tr>\n",
       "      <th>1030</th>\n",
       "      <td>2021-06-18 15:52:00-04:00</td>\n",
       "      <td>Two Golden Globes Voters Resign, Calling Holly...</td>\n",
       "      <td>Jezebel</td>\n",
       "      <td>-0.7269</td>\n",
       "      <td>-1</td>\n",
       "    </tr>\n",
       "    <tr>\n",
       "      <th>1031</th>\n",
       "      <td>2021-06-18 15:52:46-04:00</td>\n",
       "      <td>Rurouni Kenshin, the decade’s best live-action...</td>\n",
       "      <td>Polygon</td>\n",
       "      <td>0.3597</td>\n",
       "      <td>1</td>\n",
       "    </tr>\n",
       "    <tr>\n",
       "      <th>1032</th>\n",
       "      <td>2021-06-18 15:53:00-04:00</td>\n",
       "      <td>Castlevania Advance Collection Pops Up On Aust...</td>\n",
       "      <td>GameSpot</td>\n",
       "      <td>0.0000</td>\n",
       "      <td>0</td>\n",
       "    </tr>\n",
       "    <tr>\n",
       "      <th>1033</th>\n",
       "      <td>2021-06-18 15:54:00-04:00</td>\n",
       "      <td>La Borinquena Caribbean Business</td>\n",
       "      <td>ComicBook</td>\n",
       "      <td>0.4215</td>\n",
       "      <td>1</td>\n",
       "    </tr>\n",
       "  </tbody>\n",
       "</table>\n",
       "<p>1034 rows × 5 columns</p>\n",
       "</div>"
      ],
      "text/plain": [
       "                   publishedAt  \\\n",
       "0    2021-06-14 09:00:00-04:00   \n",
       "1    2021-06-14 09:00:00-04:00   \n",
       "2    2021-06-14 09:00:00-04:00   \n",
       "3    2021-06-14 09:00:10-04:00   \n",
       "4    2021-06-14 09:00:58-04:00   \n",
       "...                        ...   \n",
       "1029 2021-06-18 15:45:00-04:00   \n",
       "1030 2021-06-18 15:52:00-04:00   \n",
       "1031 2021-06-18 15:52:46-04:00   \n",
       "1032 2021-06-18 15:53:00-04:00   \n",
       "1033 2021-06-18 15:54:00-04:00   \n",
       "\n",
       "                                                  title              source  \\\n",
       "0     Business / Arts Announces Annual Award Recipie...       GlobeNewswire   \n",
       "1     Video Games Don’t Have To Be So Violent, And E...              UPROXX   \n",
       "2                          Apple TV 4K (2nd Generation)               PCMag   \n",
       "3     ‘Centaurworld’: Netflix Drops First Trailer Fo...            Deadline   \n",
       "4     ‘Karma’s World’: Ludacris Talks Animated Netfl...            Deadline   \n",
       "...                                                 ...                 ...   \n",
       "1029  Gundam Hathaway Producer Teases 2nd Film, But ...  Anime News Network   \n",
       "1030  Two Golden Globes Voters Resign, Calling Holly...             Jezebel   \n",
       "1031  Rurouni Kenshin, the decade’s best live-action...             Polygon   \n",
       "1032  Castlevania Advance Collection Pops Up On Aust...            GameSpot   \n",
       "1033                   La Borinquena Caribbean Business           ComicBook   \n",
       "\n",
       "        comp  Sentiment  \n",
       "0     0.9382          1  \n",
       "1    -0.4576         -1  \n",
       "2     0.0000          0  \n",
       "3     0.0000          0  \n",
       "4     0.8126          1  \n",
       "...      ...        ...  \n",
       "1029 -0.0258          0  \n",
       "1030 -0.7269         -1  \n",
       "1031  0.3597          1  \n",
       "1032  0.0000          0  \n",
       "1033  0.4215          1  \n",
       "\n",
       "[1034 rows x 5 columns]"
      ]
     },
     "execution_count": 61,
     "metadata": {},
     "output_type": "execute_result"
    }
   ],
   "source": [
    "df_netflix"
   ]
  },
  {
   "cell_type": "markdown",
   "metadata": {},
   "source": [
    "# Plot Feature Importances"
   ]
  },
  {
   "cell_type": "code",
   "execution_count": 62,
   "metadata": {
    "ExecuteTime": {
     "end_time": "2021-07-16T14:47:51.652745Z",
     "start_time": "2021-07-16T14:47:50.898298Z"
    }
   },
   "outputs": [
    {
     "name": "stderr",
     "output_type": "stream",
     "text": [
      "/Users/ethankunin/opt/anaconda3/envs/learn-env/lib/python3.8/site-packages/sklearn/base.py:329: UserWarning:\n",
      "\n",
      "Trying to unpickle estimator TfidfTransformer from version 0.22.2.post1 when using version 0.23.2. This might lead to breaking code or invalid results. Use at your own risk.\n",
      "\n",
      "/Users/ethankunin/opt/anaconda3/envs/learn-env/lib/python3.8/site-packages/sklearn/base.py:329: UserWarning:\n",
      "\n",
      "Trying to unpickle estimator TfidfVectorizer from version 0.22.2.post1 when using version 0.23.2. This might lead to breaking code or invalid results. Use at your own risk.\n",
      "\n",
      "/Users/ethankunin/opt/anaconda3/envs/learn-env/lib/python3.8/site-packages/sklearn/base.py:329: UserWarning:\n",
      "\n",
      "Trying to unpickle estimator DecisionTreeClassifier from version 0.22.2.post1 when using version 0.23.2. This might lead to breaking code or invalid results. Use at your own risk.\n",
      "\n",
      "/Users/ethankunin/opt/anaconda3/envs/learn-env/lib/python3.8/site-packages/sklearn/base.py:329: UserWarning:\n",
      "\n",
      "Trying to unpickle estimator RandomForestClassifier from version 0.22.2.post1 when using version 0.23.2. This might lead to breaking code or invalid results. Use at your own risk.\n",
      "\n",
      "/Users/ethankunin/opt/anaconda3/envs/learn-env/lib/python3.8/site-packages/sklearn/base.py:329: UserWarning:\n",
      "\n",
      "Trying to unpickle estimator Pipeline from version 0.22.2.post1 when using version 0.23.2. This might lead to breaking code or invalid results. Use at your own risk.\n",
      "\n"
     ]
    }
   ],
   "source": [
    "import joblib\n",
    "apple1_be = joblib.load('grid_estimator_models/apple1_bp.pkl')"
   ]
  },
  {
   "cell_type": "code",
   "execution_count": 63,
   "metadata": {
    "ExecuteTime": {
     "end_time": "2021-07-16T14:47:51.659574Z",
     "start_time": "2021-07-16T14:47:51.653812Z"
    }
   },
   "outputs": [
    {
     "data": {
      "text/plain": [
       "TfidfVectorizer(input=<bound method RegexpTokenizer.tokenize of RegexpTokenizer(pattern=\"([a-zA-Z]+(?:'[a-z]+)?)\", gaps=False, discard_empty=True, flags=re.UNICODE|re.MULTILINE|re.DOTALL)>,\n",
       "                min_df=0.01, ngram_range=(1, 2), stop_words='english')"
      ]
     },
     "execution_count": 63,
     "metadata": {},
     "output_type": "execute_result"
    }
   ],
   "source": [
    "apple1_be.named_steps['text_pipe']"
   ]
  },
  {
   "cell_type": "code",
   "execution_count": 64,
   "metadata": {
    "ExecuteTime": {
     "end_time": "2021-07-16T14:47:51.662038Z",
     "start_time": "2021-07-16T14:47:51.660480Z"
    }
   },
   "outputs": [],
   "source": [
    "vect = apple1_be.named_steps['text_pipe']\n",
    "clf = apple1_be.named_steps['clf']"
   ]
  },
  {
   "cell_type": "code",
   "execution_count": 65,
   "metadata": {
    "ExecuteTime": {
     "end_time": "2021-07-16T14:47:51.665197Z",
     "start_time": "2021-07-16T14:47:51.662949Z"
    }
   },
   "outputs": [
    {
     "data": {
      "text/plain": [
       "RandomForestClassifier(class_weight='balanced', max_depth=200, n_jobs=-1)"
      ]
     },
     "execution_count": 65,
     "metadata": {},
     "output_type": "execute_result"
    }
   ],
   "source": [
    "clf"
   ]
  },
  {
   "cell_type": "code",
   "execution_count": 66,
   "metadata": {
    "ExecuteTime": {
     "end_time": "2021-07-16T14:47:51.696696Z",
     "start_time": "2021-07-16T14:47:51.666160Z"
    }
   },
   "outputs": [],
   "source": [
    "importance = pd.Series(clf.feature_importances_,\n",
    "                      index=vect.get_feature_names())"
   ]
  },
  {
   "cell_type": "code",
   "execution_count": 67,
   "metadata": {
    "ExecuteTime": {
     "end_time": "2021-07-16T14:47:51.714577Z",
     "start_time": "2021-07-16T14:47:51.708791Z"
    }
   },
   "outputs": [
    {
     "data": {
      "text/plain": [
       "000          0.001656\n",
       "10           0.004187\n",
       "11           0.001984\n",
       "12           0.002140\n",
       "13           0.000811\n",
       "               ...   \n",
       "years        0.007266\n",
       "york         0.002902\n",
       "york city    0.001136\n",
       "youre        0.001600\n",
       "youtube      0.000897\n",
       "Length: 425, dtype: float64"
      ]
     },
     "execution_count": 67,
     "metadata": {},
     "output_type": "execute_result"
    }
   ],
   "source": [
    "importance"
   ]
  },
  {
   "cell_type": "code",
   "execution_count": 68,
   "metadata": {
    "ExecuteTime": {
     "end_time": "2021-07-16T14:47:51.721042Z",
     "start_time": "2021-07-16T14:47:51.718291Z"
    }
   },
   "outputs": [],
   "source": [
    "importance=importance.sort_values(ascending=False).to_frame()"
   ]
  },
  {
   "cell_type": "code",
   "execution_count": 69,
   "metadata": {
    "ExecuteTime": {
     "end_time": "2021-07-16T14:47:51.735126Z",
     "start_time": "2021-07-16T14:47:51.722695Z"
    }
   },
   "outputs": [
    {
     "data": {
      "text/html": [
       "<div>\n",
       "<style scoped>\n",
       "    .dataframe tbody tr th:only-of-type {\n",
       "        vertical-align: middle;\n",
       "    }\n",
       "\n",
       "    .dataframe tbody tr th {\n",
       "        vertical-align: top;\n",
       "    }\n",
       "\n",
       "    .dataframe thead th {\n",
       "        text-align: right;\n",
       "    }\n",
       "</style>\n",
       "<table border=\"1\" class=\"dataframe\">\n",
       "  <thead>\n",
       "    <tr style=\"text-align: right;\">\n",
       "      <th></th>\n",
       "      <th>0</th>\n",
       "    </tr>\n",
       "  </thead>\n",
       "  <tbody>\n",
       "    <tr>\n",
       "      <th>apple</th>\n",
       "      <td>0.020411</td>\n",
       "    </tr>\n",
       "    <tr>\n",
       "      <th>best</th>\n",
       "      <td>0.018409</td>\n",
       "    </tr>\n",
       "    <tr>\n",
       "      <th>new</th>\n",
       "      <td>0.015893</td>\n",
       "    </tr>\n",
       "    <tr>\n",
       "      <th>like</th>\n",
       "      <td>0.011912</td>\n",
       "    </tr>\n",
       "    <tr>\n",
       "      <th>free</th>\n",
       "      <td>0.009049</td>\n",
       "    </tr>\n",
       "    <tr>\n",
       "      <th>...</th>\n",
       "      <td>...</td>\n",
       "    </tr>\n",
       "    <tr>\n",
       "      <th>cnet</th>\n",
       "      <td>0.000300</td>\n",
       "    </tr>\n",
       "    <tr>\n",
       "      <th>early prime</th>\n",
       "      <td>0.000286</td>\n",
       "    </tr>\n",
       "    <tr>\n",
       "      <th>rudd</th>\n",
       "      <td>0.000270</td>\n",
       "    </tr>\n",
       "    <tr>\n",
       "      <th>echo</th>\n",
       "      <td>0.000234</td>\n",
       "    </tr>\n",
       "    <tr>\n",
       "      <th>need know</th>\n",
       "      <td>0.000188</td>\n",
       "    </tr>\n",
       "  </tbody>\n",
       "</table>\n",
       "<p>425 rows × 1 columns</p>\n",
       "</div>"
      ],
      "text/plain": [
       "                    0\n",
       "apple        0.020411\n",
       "best         0.018409\n",
       "new          0.015893\n",
       "like         0.011912\n",
       "free         0.009049\n",
       "...               ...\n",
       "cnet         0.000300\n",
       "early prime  0.000286\n",
       "rudd         0.000270\n",
       "echo         0.000234\n",
       "need know    0.000188\n",
       "\n",
       "[425 rows x 1 columns]"
      ]
     },
     "execution_count": 69,
     "metadata": {},
     "output_type": "execute_result"
    }
   ],
   "source": [
    "importance"
   ]
  },
  {
   "cell_type": "code",
   "execution_count": 70,
   "metadata": {
    "ExecuteTime": {
     "end_time": "2021-07-16T14:47:51.741801Z",
     "start_time": "2021-07-16T14:47:51.738275Z"
    }
   },
   "outputs": [],
   "source": [
    "importance = importance.nlargest(30, columns=0)"
   ]
  },
  {
   "cell_type": "code",
   "execution_count": 71,
   "metadata": {
    "ExecuteTime": {
     "end_time": "2021-07-16T14:47:51.749351Z",
     "start_time": "2021-07-16T14:47:51.743966Z"
    }
   },
   "outputs": [
    {
     "data": {
      "text/html": [
       "<div>\n",
       "<style scoped>\n",
       "    .dataframe tbody tr th:only-of-type {\n",
       "        vertical-align: middle;\n",
       "    }\n",
       "\n",
       "    .dataframe tbody tr th {\n",
       "        vertical-align: top;\n",
       "    }\n",
       "\n",
       "    .dataframe thead th {\n",
       "        text-align: right;\n",
       "    }\n",
       "</style>\n",
       "<table border=\"1\" class=\"dataframe\">\n",
       "  <thead>\n",
       "    <tr style=\"text-align: right;\">\n",
       "      <th></th>\n",
       "      <th>0</th>\n",
       "    </tr>\n",
       "  </thead>\n",
       "  <tbody>\n",
       "    <tr>\n",
       "      <th>apple</th>\n",
       "      <td>0.020411</td>\n",
       "    </tr>\n",
       "    <tr>\n",
       "      <th>best</th>\n",
       "      <td>0.018409</td>\n",
       "    </tr>\n",
       "    <tr>\n",
       "      <th>new</th>\n",
       "      <td>0.015893</td>\n",
       "    </tr>\n",
       "    <tr>\n",
       "      <th>like</th>\n",
       "      <td>0.011912</td>\n",
       "    </tr>\n",
       "    <tr>\n",
       "      <th>free</th>\n",
       "      <td>0.009049</td>\n",
       "    </tr>\n",
       "    <tr>\n",
       "      <th>2021</th>\n",
       "      <td>0.008584</td>\n",
       "    </tr>\n",
       "    <tr>\n",
       "      <th>big</th>\n",
       "      <td>0.008257</td>\n",
       "    </tr>\n",
       "    <tr>\n",
       "      <th>day</th>\n",
       "      <td>0.008087</td>\n",
       "    </tr>\n",
       "    <tr>\n",
       "      <th>support</th>\n",
       "      <td>0.007534</td>\n",
       "    </tr>\n",
       "    <tr>\n",
       "      <th>years</th>\n",
       "      <td>0.007266</td>\n",
       "    </tr>\n",
       "    <tr>\n",
       "      <th>great</th>\n",
       "      <td>0.007090</td>\n",
       "    </tr>\n",
       "    <tr>\n",
       "      <th>tech</th>\n",
       "      <td>0.006676</td>\n",
       "    </tr>\n",
       "    <tr>\n",
       "      <th>amazon</th>\n",
       "      <td>0.006028</td>\n",
       "    </tr>\n",
       "    <tr>\n",
       "      <th>company</th>\n",
       "      <td>0.006017</td>\n",
       "    </tr>\n",
       "    <tr>\n",
       "      <th>pro</th>\n",
       "      <td>0.005994</td>\n",
       "    </tr>\n",
       "    <tr>\n",
       "      <th>series</th>\n",
       "      <td>0.005962</td>\n",
       "    </tr>\n",
       "    <tr>\n",
       "      <th>google</th>\n",
       "      <td>0.005902</td>\n",
       "    </tr>\n",
       "    <tr>\n",
       "      <th>podcast</th>\n",
       "      <td>0.005728</td>\n",
       "    </tr>\n",
       "    <tr>\n",
       "      <th>people</th>\n",
       "      <td>0.005672</td>\n",
       "    </tr>\n",
       "    <tr>\n",
       "      <th>year</th>\n",
       "      <td>0.005645</td>\n",
       "    </tr>\n",
       "    <tr>\n",
       "      <th>week</th>\n",
       "      <td>0.005608</td>\n",
       "    </tr>\n",
       "    <tr>\n",
       "      <th>time</th>\n",
       "      <td>0.005546</td>\n",
       "    </tr>\n",
       "    <tr>\n",
       "      <th>man</th>\n",
       "      <td>0.005470</td>\n",
       "    </tr>\n",
       "    <tr>\n",
       "      <th>coming</th>\n",
       "      <td>0.005402</td>\n",
       "    </tr>\n",
       "    <tr>\n",
       "      <th>markets</th>\n",
       "      <td>0.005391</td>\n",
       "    </tr>\n",
       "    <tr>\n",
       "      <th>june</th>\n",
       "      <td>0.005385</td>\n",
       "    </tr>\n",
       "    <tr>\n",
       "      <th>tv</th>\n",
       "      <td>0.005302</td>\n",
       "    </tr>\n",
       "    <tr>\n",
       "      <th>online</th>\n",
       "      <td>0.005246</td>\n",
       "    </tr>\n",
       "    <tr>\n",
       "      <th>today</th>\n",
       "      <td>0.005131</td>\n",
       "    </tr>\n",
       "    <tr>\n",
       "      <th>according</th>\n",
       "      <td>0.005036</td>\n",
       "    </tr>\n",
       "  </tbody>\n",
       "</table>\n",
       "</div>"
      ],
      "text/plain": [
       "                  0\n",
       "apple      0.020411\n",
       "best       0.018409\n",
       "new        0.015893\n",
       "like       0.011912\n",
       "free       0.009049\n",
       "2021       0.008584\n",
       "big        0.008257\n",
       "day        0.008087\n",
       "support    0.007534\n",
       "years      0.007266\n",
       "great      0.007090\n",
       "tech       0.006676\n",
       "amazon     0.006028\n",
       "company    0.006017\n",
       "pro        0.005994\n",
       "series     0.005962\n",
       "google     0.005902\n",
       "podcast    0.005728\n",
       "people     0.005672\n",
       "year       0.005645\n",
       "week       0.005608\n",
       "time       0.005546\n",
       "man        0.005470\n",
       "coming     0.005402\n",
       "markets    0.005391\n",
       "june       0.005385\n",
       "tv         0.005302\n",
       "online     0.005246\n",
       "today      0.005131\n",
       "according  0.005036"
      ]
     },
     "execution_count": 71,
     "metadata": {},
     "output_type": "execute_result"
    }
   ],
   "source": [
    "importance"
   ]
  },
  {
   "cell_type": "code",
   "execution_count": 72,
   "metadata": {
    "ExecuteTime": {
     "end_time": "2021-07-16T14:47:51.752771Z",
     "start_time": "2021-07-16T14:47:51.750506Z"
    }
   },
   "outputs": [],
   "source": [
    "importance=importance.sort_values(by=0, ascending=True)"
   ]
  },
  {
   "cell_type": "code",
   "execution_count": 73,
   "metadata": {
    "ExecuteTime": {
     "end_time": "2021-07-16T14:47:51.759088Z",
     "start_time": "2021-07-16T14:47:51.754062Z"
    }
   },
   "outputs": [
    {
     "data": {
      "text/html": [
       "<div>\n",
       "<style scoped>\n",
       "    .dataframe tbody tr th:only-of-type {\n",
       "        vertical-align: middle;\n",
       "    }\n",
       "\n",
       "    .dataframe tbody tr th {\n",
       "        vertical-align: top;\n",
       "    }\n",
       "\n",
       "    .dataframe thead th {\n",
       "        text-align: right;\n",
       "    }\n",
       "</style>\n",
       "<table border=\"1\" class=\"dataframe\">\n",
       "  <thead>\n",
       "    <tr style=\"text-align: right;\">\n",
       "      <th></th>\n",
       "      <th>0</th>\n",
       "    </tr>\n",
       "  </thead>\n",
       "  <tbody>\n",
       "    <tr>\n",
       "      <th>according</th>\n",
       "      <td>0.005036</td>\n",
       "    </tr>\n",
       "    <tr>\n",
       "      <th>today</th>\n",
       "      <td>0.005131</td>\n",
       "    </tr>\n",
       "    <tr>\n",
       "      <th>online</th>\n",
       "      <td>0.005246</td>\n",
       "    </tr>\n",
       "    <tr>\n",
       "      <th>tv</th>\n",
       "      <td>0.005302</td>\n",
       "    </tr>\n",
       "    <tr>\n",
       "      <th>june</th>\n",
       "      <td>0.005385</td>\n",
       "    </tr>\n",
       "    <tr>\n",
       "      <th>markets</th>\n",
       "      <td>0.005391</td>\n",
       "    </tr>\n",
       "    <tr>\n",
       "      <th>coming</th>\n",
       "      <td>0.005402</td>\n",
       "    </tr>\n",
       "    <tr>\n",
       "      <th>man</th>\n",
       "      <td>0.005470</td>\n",
       "    </tr>\n",
       "    <tr>\n",
       "      <th>time</th>\n",
       "      <td>0.005546</td>\n",
       "    </tr>\n",
       "    <tr>\n",
       "      <th>week</th>\n",
       "      <td>0.005608</td>\n",
       "    </tr>\n",
       "    <tr>\n",
       "      <th>year</th>\n",
       "      <td>0.005645</td>\n",
       "    </tr>\n",
       "    <tr>\n",
       "      <th>people</th>\n",
       "      <td>0.005672</td>\n",
       "    </tr>\n",
       "    <tr>\n",
       "      <th>podcast</th>\n",
       "      <td>0.005728</td>\n",
       "    </tr>\n",
       "    <tr>\n",
       "      <th>google</th>\n",
       "      <td>0.005902</td>\n",
       "    </tr>\n",
       "    <tr>\n",
       "      <th>series</th>\n",
       "      <td>0.005962</td>\n",
       "    </tr>\n",
       "    <tr>\n",
       "      <th>pro</th>\n",
       "      <td>0.005994</td>\n",
       "    </tr>\n",
       "    <tr>\n",
       "      <th>company</th>\n",
       "      <td>0.006017</td>\n",
       "    </tr>\n",
       "    <tr>\n",
       "      <th>amazon</th>\n",
       "      <td>0.006028</td>\n",
       "    </tr>\n",
       "    <tr>\n",
       "      <th>tech</th>\n",
       "      <td>0.006676</td>\n",
       "    </tr>\n",
       "    <tr>\n",
       "      <th>great</th>\n",
       "      <td>0.007090</td>\n",
       "    </tr>\n",
       "    <tr>\n",
       "      <th>years</th>\n",
       "      <td>0.007266</td>\n",
       "    </tr>\n",
       "    <tr>\n",
       "      <th>support</th>\n",
       "      <td>0.007534</td>\n",
       "    </tr>\n",
       "    <tr>\n",
       "      <th>day</th>\n",
       "      <td>0.008087</td>\n",
       "    </tr>\n",
       "    <tr>\n",
       "      <th>big</th>\n",
       "      <td>0.008257</td>\n",
       "    </tr>\n",
       "    <tr>\n",
       "      <th>2021</th>\n",
       "      <td>0.008584</td>\n",
       "    </tr>\n",
       "    <tr>\n",
       "      <th>free</th>\n",
       "      <td>0.009049</td>\n",
       "    </tr>\n",
       "    <tr>\n",
       "      <th>like</th>\n",
       "      <td>0.011912</td>\n",
       "    </tr>\n",
       "    <tr>\n",
       "      <th>new</th>\n",
       "      <td>0.015893</td>\n",
       "    </tr>\n",
       "    <tr>\n",
       "      <th>best</th>\n",
       "      <td>0.018409</td>\n",
       "    </tr>\n",
       "    <tr>\n",
       "      <th>apple</th>\n",
       "      <td>0.020411</td>\n",
       "    </tr>\n",
       "  </tbody>\n",
       "</table>\n",
       "</div>"
      ],
      "text/plain": [
       "                  0\n",
       "according  0.005036\n",
       "today      0.005131\n",
       "online     0.005246\n",
       "tv         0.005302\n",
       "june       0.005385\n",
       "markets    0.005391\n",
       "coming     0.005402\n",
       "man        0.005470\n",
       "time       0.005546\n",
       "week       0.005608\n",
       "year       0.005645\n",
       "people     0.005672\n",
       "podcast    0.005728\n",
       "google     0.005902\n",
       "series     0.005962\n",
       "pro        0.005994\n",
       "company    0.006017\n",
       "amazon     0.006028\n",
       "tech       0.006676\n",
       "great      0.007090\n",
       "years      0.007266\n",
       "support    0.007534\n",
       "day        0.008087\n",
       "big        0.008257\n",
       "2021       0.008584\n",
       "free       0.009049\n",
       "like       0.011912\n",
       "new        0.015893\n",
       "best       0.018409\n",
       "apple      0.020411"
      ]
     },
     "execution_count": 73,
     "metadata": {},
     "output_type": "execute_result"
    }
   ],
   "source": [
    "importance"
   ]
  },
  {
   "cell_type": "code",
   "execution_count": 74,
   "metadata": {
    "ExecuteTime": {
     "end_time": "2021-07-16T14:47:51.762878Z",
     "start_time": "2021-07-16T14:47:51.760375Z"
    }
   },
   "outputs": [],
   "source": [
    "importance.drop('apple', inplace=True)"
   ]
  },
  {
   "cell_type": "code",
   "execution_count": 75,
   "metadata": {
    "ExecuteTime": {
     "end_time": "2021-07-16T14:47:51.766689Z",
     "start_time": "2021-07-16T14:47:51.763972Z"
    }
   },
   "outputs": [],
   "source": [
    "importance.head()\n",
    "importance.rename(columns={0:'Sentiment Importance'}, inplace=True)"
   ]
  },
  {
   "cell_type": "code",
   "execution_count": 76,
   "metadata": {
    "ExecuteTime": {
     "end_time": "2021-07-16T14:47:51.847122Z",
     "start_time": "2021-07-16T14:47:51.767899Z"
    }
   },
   "outputs": [
    {
     "data": {
      "application/vnd.plotly.v1+json": {
       "config": {
        "plotlyServerURL": "https://plot.ly"
       },
       "data": [
        {
         "alignmentgroup": "True",
         "hovertemplate": "Sentiment Importance=%{x}<br>index=%{y}<extra></extra>",
         "legendgroup": "",
         "marker": {
          "color": "#636efa"
         },
         "name": "",
         "offsetgroup": "",
         "orientation": "h",
         "showlegend": false,
         "textposition": "auto",
         "type": "bar",
         "x": [
          0.005036395251095743,
          0.005130697827586355,
          0.005246265785635711,
          0.0053023228273120565,
          0.005384518905458907,
          0.005390723832282366,
          0.005402002281016642,
          0.005469624495192362,
          0.005546487164201617,
          0.005608061991512173,
          0.005645353868520447,
          0.005672419176063362,
          0.005727994793139965,
          0.005901948919058757,
          0.005961922247612567,
          0.0059939675050315906,
          0.0060167960266516935,
          0.006028195222528261,
          0.006676323422063662,
          0.007089875231881736,
          0.007265606325912773,
          0.007534137052093858,
          0.008086980439209425,
          0.00825733908788245,
          0.008584432896289284,
          0.009048933291431367,
          0.011912448770929725,
          0.0158932396032492,
          0.018409210664306577
         ],
         "xaxis": "x",
         "y": [
          "according",
          "today",
          "online",
          "tv",
          "june",
          "markets",
          "coming",
          "man",
          "time",
          "week",
          "year",
          "people",
          "podcast",
          "google",
          "series",
          "pro",
          "company",
          "amazon",
          "tech",
          "great",
          "years",
          "support",
          "day",
          "big",
          "2021",
          "free",
          "like",
          "new",
          "best"
         ],
         "yaxis": "y"
        }
       ],
       "layout": {
        "barmode": "relative",
        "legend": {
         "tracegroupgap": 0
        },
        "margin": {
         "t": 60
        },
        "template": {
         "data": {
          "bar": [
           {
            "error_x": {
             "color": "#2a3f5f"
            },
            "error_y": {
             "color": "#2a3f5f"
            },
            "marker": {
             "line": {
              "color": "#E5ECF6",
              "width": 0.5
             }
            },
            "type": "bar"
           }
          ],
          "barpolar": [
           {
            "marker": {
             "line": {
              "color": "#E5ECF6",
              "width": 0.5
             }
            },
            "type": "barpolar"
           }
          ],
          "carpet": [
           {
            "aaxis": {
             "endlinecolor": "#2a3f5f",
             "gridcolor": "white",
             "linecolor": "white",
             "minorgridcolor": "white",
             "startlinecolor": "#2a3f5f"
            },
            "baxis": {
             "endlinecolor": "#2a3f5f",
             "gridcolor": "white",
             "linecolor": "white",
             "minorgridcolor": "white",
             "startlinecolor": "#2a3f5f"
            },
            "type": "carpet"
           }
          ],
          "choropleth": [
           {
            "colorbar": {
             "outlinewidth": 0,
             "ticks": ""
            },
            "type": "choropleth"
           }
          ],
          "contour": [
           {
            "colorbar": {
             "outlinewidth": 0,
             "ticks": ""
            },
            "colorscale": [
             [
              0,
              "#0d0887"
             ],
             [
              0.1111111111111111,
              "#46039f"
             ],
             [
              0.2222222222222222,
              "#7201a8"
             ],
             [
              0.3333333333333333,
              "#9c179e"
             ],
             [
              0.4444444444444444,
              "#bd3786"
             ],
             [
              0.5555555555555556,
              "#d8576b"
             ],
             [
              0.6666666666666666,
              "#ed7953"
             ],
             [
              0.7777777777777778,
              "#fb9f3a"
             ],
             [
              0.8888888888888888,
              "#fdca26"
             ],
             [
              1,
              "#f0f921"
             ]
            ],
            "type": "contour"
           }
          ],
          "contourcarpet": [
           {
            "colorbar": {
             "outlinewidth": 0,
             "ticks": ""
            },
            "type": "contourcarpet"
           }
          ],
          "heatmap": [
           {
            "colorbar": {
             "outlinewidth": 0,
             "ticks": ""
            },
            "colorscale": [
             [
              0,
              "#0d0887"
             ],
             [
              0.1111111111111111,
              "#46039f"
             ],
             [
              0.2222222222222222,
              "#7201a8"
             ],
             [
              0.3333333333333333,
              "#9c179e"
             ],
             [
              0.4444444444444444,
              "#bd3786"
             ],
             [
              0.5555555555555556,
              "#d8576b"
             ],
             [
              0.6666666666666666,
              "#ed7953"
             ],
             [
              0.7777777777777778,
              "#fb9f3a"
             ],
             [
              0.8888888888888888,
              "#fdca26"
             ],
             [
              1,
              "#f0f921"
             ]
            ],
            "type": "heatmap"
           }
          ],
          "heatmapgl": [
           {
            "colorbar": {
             "outlinewidth": 0,
             "ticks": ""
            },
            "colorscale": [
             [
              0,
              "#0d0887"
             ],
             [
              0.1111111111111111,
              "#46039f"
             ],
             [
              0.2222222222222222,
              "#7201a8"
             ],
             [
              0.3333333333333333,
              "#9c179e"
             ],
             [
              0.4444444444444444,
              "#bd3786"
             ],
             [
              0.5555555555555556,
              "#d8576b"
             ],
             [
              0.6666666666666666,
              "#ed7953"
             ],
             [
              0.7777777777777778,
              "#fb9f3a"
             ],
             [
              0.8888888888888888,
              "#fdca26"
             ],
             [
              1,
              "#f0f921"
             ]
            ],
            "type": "heatmapgl"
           }
          ],
          "histogram": [
           {
            "marker": {
             "colorbar": {
              "outlinewidth": 0,
              "ticks": ""
             }
            },
            "type": "histogram"
           }
          ],
          "histogram2d": [
           {
            "colorbar": {
             "outlinewidth": 0,
             "ticks": ""
            },
            "colorscale": [
             [
              0,
              "#0d0887"
             ],
             [
              0.1111111111111111,
              "#46039f"
             ],
             [
              0.2222222222222222,
              "#7201a8"
             ],
             [
              0.3333333333333333,
              "#9c179e"
             ],
             [
              0.4444444444444444,
              "#bd3786"
             ],
             [
              0.5555555555555556,
              "#d8576b"
             ],
             [
              0.6666666666666666,
              "#ed7953"
             ],
             [
              0.7777777777777778,
              "#fb9f3a"
             ],
             [
              0.8888888888888888,
              "#fdca26"
             ],
             [
              1,
              "#f0f921"
             ]
            ],
            "type": "histogram2d"
           }
          ],
          "histogram2dcontour": [
           {
            "colorbar": {
             "outlinewidth": 0,
             "ticks": ""
            },
            "colorscale": [
             [
              0,
              "#0d0887"
             ],
             [
              0.1111111111111111,
              "#46039f"
             ],
             [
              0.2222222222222222,
              "#7201a8"
             ],
             [
              0.3333333333333333,
              "#9c179e"
             ],
             [
              0.4444444444444444,
              "#bd3786"
             ],
             [
              0.5555555555555556,
              "#d8576b"
             ],
             [
              0.6666666666666666,
              "#ed7953"
             ],
             [
              0.7777777777777778,
              "#fb9f3a"
             ],
             [
              0.8888888888888888,
              "#fdca26"
             ],
             [
              1,
              "#f0f921"
             ]
            ],
            "type": "histogram2dcontour"
           }
          ],
          "mesh3d": [
           {
            "colorbar": {
             "outlinewidth": 0,
             "ticks": ""
            },
            "type": "mesh3d"
           }
          ],
          "parcoords": [
           {
            "line": {
             "colorbar": {
              "outlinewidth": 0,
              "ticks": ""
             }
            },
            "type": "parcoords"
           }
          ],
          "pie": [
           {
            "automargin": true,
            "type": "pie"
           }
          ],
          "scatter": [
           {
            "marker": {
             "colorbar": {
              "outlinewidth": 0,
              "ticks": ""
             }
            },
            "type": "scatter"
           }
          ],
          "scatter3d": [
           {
            "line": {
             "colorbar": {
              "outlinewidth": 0,
              "ticks": ""
             }
            },
            "marker": {
             "colorbar": {
              "outlinewidth": 0,
              "ticks": ""
             }
            },
            "type": "scatter3d"
           }
          ],
          "scattercarpet": [
           {
            "marker": {
             "colorbar": {
              "outlinewidth": 0,
              "ticks": ""
             }
            },
            "type": "scattercarpet"
           }
          ],
          "scattergeo": [
           {
            "marker": {
             "colorbar": {
              "outlinewidth": 0,
              "ticks": ""
             }
            },
            "type": "scattergeo"
           }
          ],
          "scattergl": [
           {
            "marker": {
             "colorbar": {
              "outlinewidth": 0,
              "ticks": ""
             }
            },
            "type": "scattergl"
           }
          ],
          "scattermapbox": [
           {
            "marker": {
             "colorbar": {
              "outlinewidth": 0,
              "ticks": ""
             }
            },
            "type": "scattermapbox"
           }
          ],
          "scatterpolar": [
           {
            "marker": {
             "colorbar": {
              "outlinewidth": 0,
              "ticks": ""
             }
            },
            "type": "scatterpolar"
           }
          ],
          "scatterpolargl": [
           {
            "marker": {
             "colorbar": {
              "outlinewidth": 0,
              "ticks": ""
             }
            },
            "type": "scatterpolargl"
           }
          ],
          "scatterternary": [
           {
            "marker": {
             "colorbar": {
              "outlinewidth": 0,
              "ticks": ""
             }
            },
            "type": "scatterternary"
           }
          ],
          "surface": [
           {
            "colorbar": {
             "outlinewidth": 0,
             "ticks": ""
            },
            "colorscale": [
             [
              0,
              "#0d0887"
             ],
             [
              0.1111111111111111,
              "#46039f"
             ],
             [
              0.2222222222222222,
              "#7201a8"
             ],
             [
              0.3333333333333333,
              "#9c179e"
             ],
             [
              0.4444444444444444,
              "#bd3786"
             ],
             [
              0.5555555555555556,
              "#d8576b"
             ],
             [
              0.6666666666666666,
              "#ed7953"
             ],
             [
              0.7777777777777778,
              "#fb9f3a"
             ],
             [
              0.8888888888888888,
              "#fdca26"
             ],
             [
              1,
              "#f0f921"
             ]
            ],
            "type": "surface"
           }
          ],
          "table": [
           {
            "cells": {
             "fill": {
              "color": "#EBF0F8"
             },
             "line": {
              "color": "white"
             }
            },
            "header": {
             "fill": {
              "color": "#C8D4E3"
             },
             "line": {
              "color": "white"
             }
            },
            "type": "table"
           }
          ]
         },
         "layout": {
          "annotationdefaults": {
           "arrowcolor": "#2a3f5f",
           "arrowhead": 0,
           "arrowwidth": 1
          },
          "coloraxis": {
           "colorbar": {
            "outlinewidth": 0,
            "ticks": ""
           }
          },
          "colorscale": {
           "diverging": [
            [
             0,
             "#8e0152"
            ],
            [
             0.1,
             "#c51b7d"
            ],
            [
             0.2,
             "#de77ae"
            ],
            [
             0.3,
             "#f1b6da"
            ],
            [
             0.4,
             "#fde0ef"
            ],
            [
             0.5,
             "#f7f7f7"
            ],
            [
             0.6,
             "#e6f5d0"
            ],
            [
             0.7,
             "#b8e186"
            ],
            [
             0.8,
             "#7fbc41"
            ],
            [
             0.9,
             "#4d9221"
            ],
            [
             1,
             "#276419"
            ]
           ],
           "sequential": [
            [
             0,
             "#0d0887"
            ],
            [
             0.1111111111111111,
             "#46039f"
            ],
            [
             0.2222222222222222,
             "#7201a8"
            ],
            [
             0.3333333333333333,
             "#9c179e"
            ],
            [
             0.4444444444444444,
             "#bd3786"
            ],
            [
             0.5555555555555556,
             "#d8576b"
            ],
            [
             0.6666666666666666,
             "#ed7953"
            ],
            [
             0.7777777777777778,
             "#fb9f3a"
            ],
            [
             0.8888888888888888,
             "#fdca26"
            ],
            [
             1,
             "#f0f921"
            ]
           ],
           "sequentialminus": [
            [
             0,
             "#0d0887"
            ],
            [
             0.1111111111111111,
             "#46039f"
            ],
            [
             0.2222222222222222,
             "#7201a8"
            ],
            [
             0.3333333333333333,
             "#9c179e"
            ],
            [
             0.4444444444444444,
             "#bd3786"
            ],
            [
             0.5555555555555556,
             "#d8576b"
            ],
            [
             0.6666666666666666,
             "#ed7953"
            ],
            [
             0.7777777777777778,
             "#fb9f3a"
            ],
            [
             0.8888888888888888,
             "#fdca26"
            ],
            [
             1,
             "#f0f921"
            ]
           ]
          },
          "colorway": [
           "#636efa",
           "#EF553B",
           "#00cc96",
           "#ab63fa",
           "#FFA15A",
           "#19d3f3",
           "#FF6692",
           "#B6E880",
           "#FF97FF",
           "#FECB52"
          ],
          "font": {
           "color": "#2a3f5f"
          },
          "geo": {
           "bgcolor": "white",
           "lakecolor": "white",
           "landcolor": "#E5ECF6",
           "showlakes": true,
           "showland": true,
           "subunitcolor": "white"
          },
          "hoverlabel": {
           "align": "left"
          },
          "hovermode": "closest",
          "mapbox": {
           "style": "light"
          },
          "paper_bgcolor": "white",
          "plot_bgcolor": "#E5ECF6",
          "polar": {
           "angularaxis": {
            "gridcolor": "white",
            "linecolor": "white",
            "ticks": ""
           },
           "bgcolor": "#E5ECF6",
           "radialaxis": {
            "gridcolor": "white",
            "linecolor": "white",
            "ticks": ""
           }
          },
          "scene": {
           "xaxis": {
            "backgroundcolor": "#E5ECF6",
            "gridcolor": "white",
            "gridwidth": 2,
            "linecolor": "white",
            "showbackground": true,
            "ticks": "",
            "zerolinecolor": "white"
           },
           "yaxis": {
            "backgroundcolor": "#E5ECF6",
            "gridcolor": "white",
            "gridwidth": 2,
            "linecolor": "white",
            "showbackground": true,
            "ticks": "",
            "zerolinecolor": "white"
           },
           "zaxis": {
            "backgroundcolor": "#E5ECF6",
            "gridcolor": "white",
            "gridwidth": 2,
            "linecolor": "white",
            "showbackground": true,
            "ticks": "",
            "zerolinecolor": "white"
           }
          },
          "shapedefaults": {
           "line": {
            "color": "#2a3f5f"
           }
          },
          "ternary": {
           "aaxis": {
            "gridcolor": "white",
            "linecolor": "white",
            "ticks": ""
           },
           "baxis": {
            "gridcolor": "white",
            "linecolor": "white",
            "ticks": ""
           },
           "bgcolor": "#E5ECF6",
           "caxis": {
            "gridcolor": "white",
            "linecolor": "white",
            "ticks": ""
           }
          },
          "title": {
           "x": 0.05
          },
          "xaxis": {
           "automargin": true,
           "gridcolor": "white",
           "linecolor": "white",
           "ticks": "",
           "title": {
            "standoff": 15
           },
           "zerolinecolor": "white",
           "zerolinewidth": 2
          },
          "yaxis": {
           "automargin": true,
           "gridcolor": "white",
           "linecolor": "white",
           "ticks": "",
           "title": {
            "standoff": 15
           },
           "zerolinecolor": "white",
           "zerolinewidth": 2
          }
         }
        },
        "title": {
         "text": "Week of : Most Impactful Words for Driving Sentiment for ",
         "x": 0.5,
         "xanchor": "center",
         "y": 0.95
        },
        "xaxis": {
         "anchor": "y",
         "domain": [
          0,
          1
         ],
         "title": {
          "text": "Sentiment Importance"
         }
        },
        "yaxis": {
         "anchor": "x",
         "domain": [
          0,
          1
         ],
         "tickvals": [
          "according",
          "today",
          "online",
          "tv",
          "june",
          "markets",
          "coming",
          "man",
          "time",
          "week",
          "year",
          "people",
          "podcast",
          "google",
          "series",
          "pro",
          "company",
          "amazon",
          "tech",
          "great",
          "years",
          "support",
          "day",
          "big",
          "2021",
          "free",
          "like",
          "new",
          "best"
         ],
         "title": {
          "text": "Commmon Words"
         }
        }
       }
      },
      "text/html": [
       "<div>                            <div id=\"9050f08b-5c76-4f1b-9b87-d87a8cefdad3\" class=\"plotly-graph-div\" style=\"height:525px; width:100%;\"></div>            <script type=\"text/javascript\">                require([\"plotly\"], function(Plotly) {                    window.PLOTLYENV=window.PLOTLYENV || {};                                    if (document.getElementById(\"9050f08b-5c76-4f1b-9b87-d87a8cefdad3\")) {                    Plotly.newPlot(                        \"9050f08b-5c76-4f1b-9b87-d87a8cefdad3\",                        [{\"alignmentgroup\": \"True\", \"hovertemplate\": \"Sentiment Importance=%{x}<br>index=%{y}<extra></extra>\", \"legendgroup\": \"\", \"marker\": {\"color\": \"#636efa\"}, \"name\": \"\", \"offsetgroup\": \"\", \"orientation\": \"h\", \"showlegend\": false, \"textposition\": \"auto\", \"type\": \"bar\", \"x\": [0.005036395251095743, 0.005130697827586355, 0.005246265785635711, 0.0053023228273120565, 0.005384518905458907, 0.005390723832282366, 0.005402002281016642, 0.005469624495192362, 0.005546487164201617, 0.005608061991512173, 0.005645353868520447, 0.005672419176063362, 0.005727994793139965, 0.005901948919058757, 0.005961922247612567, 0.0059939675050315906, 0.0060167960266516935, 0.006028195222528261, 0.006676323422063662, 0.007089875231881736, 0.007265606325912773, 0.007534137052093858, 0.008086980439209425, 0.00825733908788245, 0.008584432896289284, 0.009048933291431367, 0.011912448770929725, 0.0158932396032492, 0.018409210664306577], \"xaxis\": \"x\", \"y\": [\"according\", \"today\", \"online\", \"tv\", \"june\", \"markets\", \"coming\", \"man\", \"time\", \"week\", \"year\", \"people\", \"podcast\", \"google\", \"series\", \"pro\", \"company\", \"amazon\", \"tech\", \"great\", \"years\", \"support\", \"day\", \"big\", \"2021\", \"free\", \"like\", \"new\", \"best\"], \"yaxis\": \"y\"}],                        {\"barmode\": \"relative\", \"legend\": {\"tracegroupgap\": 0}, \"margin\": {\"t\": 60}, \"template\": {\"data\": {\"bar\": [{\"error_x\": {\"color\": \"#2a3f5f\"}, \"error_y\": {\"color\": \"#2a3f5f\"}, \"marker\": {\"line\": {\"color\": \"#E5ECF6\", \"width\": 0.5}}, \"type\": \"bar\"}], \"barpolar\": [{\"marker\": {\"line\": {\"color\": \"#E5ECF6\", \"width\": 0.5}}, \"type\": \"barpolar\"}], \"carpet\": [{\"aaxis\": {\"endlinecolor\": \"#2a3f5f\", \"gridcolor\": \"white\", \"linecolor\": \"white\", \"minorgridcolor\": \"white\", \"startlinecolor\": \"#2a3f5f\"}, \"baxis\": {\"endlinecolor\": \"#2a3f5f\", \"gridcolor\": \"white\", \"linecolor\": \"white\", \"minorgridcolor\": \"white\", \"startlinecolor\": \"#2a3f5f\"}, \"type\": \"carpet\"}], \"choropleth\": [{\"colorbar\": {\"outlinewidth\": 0, \"ticks\": \"\"}, \"type\": \"choropleth\"}], \"contour\": [{\"colorbar\": {\"outlinewidth\": 0, \"ticks\": \"\"}, \"colorscale\": [[0.0, \"#0d0887\"], [0.1111111111111111, \"#46039f\"], [0.2222222222222222, \"#7201a8\"], [0.3333333333333333, \"#9c179e\"], [0.4444444444444444, \"#bd3786\"], [0.5555555555555556, \"#d8576b\"], [0.6666666666666666, \"#ed7953\"], [0.7777777777777778, \"#fb9f3a\"], [0.8888888888888888, \"#fdca26\"], [1.0, \"#f0f921\"]], \"type\": \"contour\"}], \"contourcarpet\": [{\"colorbar\": {\"outlinewidth\": 0, \"ticks\": \"\"}, \"type\": \"contourcarpet\"}], \"heatmap\": [{\"colorbar\": {\"outlinewidth\": 0, \"ticks\": \"\"}, \"colorscale\": [[0.0, \"#0d0887\"], [0.1111111111111111, \"#46039f\"], [0.2222222222222222, \"#7201a8\"], [0.3333333333333333, \"#9c179e\"], [0.4444444444444444, \"#bd3786\"], [0.5555555555555556, \"#d8576b\"], [0.6666666666666666, \"#ed7953\"], [0.7777777777777778, \"#fb9f3a\"], [0.8888888888888888, \"#fdca26\"], [1.0, \"#f0f921\"]], \"type\": \"heatmap\"}], \"heatmapgl\": [{\"colorbar\": {\"outlinewidth\": 0, \"ticks\": \"\"}, \"colorscale\": [[0.0, \"#0d0887\"], [0.1111111111111111, \"#46039f\"], [0.2222222222222222, \"#7201a8\"], [0.3333333333333333, \"#9c179e\"], [0.4444444444444444, \"#bd3786\"], [0.5555555555555556, \"#d8576b\"], [0.6666666666666666, \"#ed7953\"], [0.7777777777777778, \"#fb9f3a\"], [0.8888888888888888, \"#fdca26\"], [1.0, \"#f0f921\"]], \"type\": \"heatmapgl\"}], \"histogram\": [{\"marker\": {\"colorbar\": {\"outlinewidth\": 0, \"ticks\": \"\"}}, \"type\": \"histogram\"}], \"histogram2d\": [{\"colorbar\": {\"outlinewidth\": 0, \"ticks\": \"\"}, \"colorscale\": [[0.0, \"#0d0887\"], [0.1111111111111111, \"#46039f\"], [0.2222222222222222, \"#7201a8\"], [0.3333333333333333, \"#9c179e\"], [0.4444444444444444, \"#bd3786\"], [0.5555555555555556, \"#d8576b\"], [0.6666666666666666, \"#ed7953\"], [0.7777777777777778, \"#fb9f3a\"], [0.8888888888888888, \"#fdca26\"], [1.0, \"#f0f921\"]], \"type\": \"histogram2d\"}], \"histogram2dcontour\": [{\"colorbar\": {\"outlinewidth\": 0, \"ticks\": \"\"}, \"colorscale\": [[0.0, \"#0d0887\"], [0.1111111111111111, \"#46039f\"], [0.2222222222222222, \"#7201a8\"], [0.3333333333333333, \"#9c179e\"], [0.4444444444444444, \"#bd3786\"], [0.5555555555555556, \"#d8576b\"], [0.6666666666666666, \"#ed7953\"], [0.7777777777777778, \"#fb9f3a\"], [0.8888888888888888, \"#fdca26\"], [1.0, \"#f0f921\"]], \"type\": \"histogram2dcontour\"}], \"mesh3d\": [{\"colorbar\": {\"outlinewidth\": 0, \"ticks\": \"\"}, \"type\": \"mesh3d\"}], \"parcoords\": [{\"line\": {\"colorbar\": {\"outlinewidth\": 0, \"ticks\": \"\"}}, \"type\": \"parcoords\"}], \"pie\": [{\"automargin\": true, \"type\": \"pie\"}], \"scatter\": [{\"marker\": {\"colorbar\": {\"outlinewidth\": 0, \"ticks\": \"\"}}, \"type\": \"scatter\"}], \"scatter3d\": [{\"line\": {\"colorbar\": {\"outlinewidth\": 0, \"ticks\": \"\"}}, \"marker\": {\"colorbar\": {\"outlinewidth\": 0, \"ticks\": \"\"}}, \"type\": \"scatter3d\"}], \"scattercarpet\": [{\"marker\": {\"colorbar\": {\"outlinewidth\": 0, \"ticks\": \"\"}}, \"type\": \"scattercarpet\"}], \"scattergeo\": [{\"marker\": {\"colorbar\": {\"outlinewidth\": 0, \"ticks\": \"\"}}, \"type\": \"scattergeo\"}], \"scattergl\": [{\"marker\": {\"colorbar\": {\"outlinewidth\": 0, \"ticks\": \"\"}}, \"type\": \"scattergl\"}], \"scattermapbox\": [{\"marker\": {\"colorbar\": {\"outlinewidth\": 0, \"ticks\": \"\"}}, \"type\": \"scattermapbox\"}], \"scatterpolar\": [{\"marker\": {\"colorbar\": {\"outlinewidth\": 0, \"ticks\": \"\"}}, \"type\": \"scatterpolar\"}], \"scatterpolargl\": [{\"marker\": {\"colorbar\": {\"outlinewidth\": 0, \"ticks\": \"\"}}, \"type\": \"scatterpolargl\"}], \"scatterternary\": [{\"marker\": {\"colorbar\": {\"outlinewidth\": 0, \"ticks\": \"\"}}, \"type\": \"scatterternary\"}], \"surface\": [{\"colorbar\": {\"outlinewidth\": 0, \"ticks\": \"\"}, \"colorscale\": [[0.0, \"#0d0887\"], [0.1111111111111111, \"#46039f\"], [0.2222222222222222, \"#7201a8\"], [0.3333333333333333, \"#9c179e\"], [0.4444444444444444, \"#bd3786\"], [0.5555555555555556, \"#d8576b\"], [0.6666666666666666, \"#ed7953\"], [0.7777777777777778, \"#fb9f3a\"], [0.8888888888888888, \"#fdca26\"], [1.0, \"#f0f921\"]], \"type\": \"surface\"}], \"table\": [{\"cells\": {\"fill\": {\"color\": \"#EBF0F8\"}, \"line\": {\"color\": \"white\"}}, \"header\": {\"fill\": {\"color\": \"#C8D4E3\"}, \"line\": {\"color\": \"white\"}}, \"type\": \"table\"}]}, \"layout\": {\"annotationdefaults\": {\"arrowcolor\": \"#2a3f5f\", \"arrowhead\": 0, \"arrowwidth\": 1}, \"coloraxis\": {\"colorbar\": {\"outlinewidth\": 0, \"ticks\": \"\"}}, \"colorscale\": {\"diverging\": [[0, \"#8e0152\"], [0.1, \"#c51b7d\"], [0.2, \"#de77ae\"], [0.3, \"#f1b6da\"], [0.4, \"#fde0ef\"], [0.5, \"#f7f7f7\"], [0.6, \"#e6f5d0\"], [0.7, \"#b8e186\"], [0.8, \"#7fbc41\"], [0.9, \"#4d9221\"], [1, \"#276419\"]], \"sequential\": [[0.0, \"#0d0887\"], [0.1111111111111111, \"#46039f\"], [0.2222222222222222, \"#7201a8\"], [0.3333333333333333, \"#9c179e\"], [0.4444444444444444, \"#bd3786\"], [0.5555555555555556, \"#d8576b\"], [0.6666666666666666, \"#ed7953\"], [0.7777777777777778, \"#fb9f3a\"], [0.8888888888888888, \"#fdca26\"], [1.0, \"#f0f921\"]], \"sequentialminus\": [[0.0, \"#0d0887\"], [0.1111111111111111, \"#46039f\"], [0.2222222222222222, \"#7201a8\"], [0.3333333333333333, \"#9c179e\"], [0.4444444444444444, \"#bd3786\"], [0.5555555555555556, \"#d8576b\"], [0.6666666666666666, \"#ed7953\"], [0.7777777777777778, \"#fb9f3a\"], [0.8888888888888888, \"#fdca26\"], [1.0, \"#f0f921\"]]}, \"colorway\": [\"#636efa\", \"#EF553B\", \"#00cc96\", \"#ab63fa\", \"#FFA15A\", \"#19d3f3\", \"#FF6692\", \"#B6E880\", \"#FF97FF\", \"#FECB52\"], \"font\": {\"color\": \"#2a3f5f\"}, \"geo\": {\"bgcolor\": \"white\", \"lakecolor\": \"white\", \"landcolor\": \"#E5ECF6\", \"showlakes\": true, \"showland\": true, \"subunitcolor\": \"white\"}, \"hoverlabel\": {\"align\": \"left\"}, \"hovermode\": \"closest\", \"mapbox\": {\"style\": \"light\"}, \"paper_bgcolor\": \"white\", \"plot_bgcolor\": \"#E5ECF6\", \"polar\": {\"angularaxis\": {\"gridcolor\": \"white\", \"linecolor\": \"white\", \"ticks\": \"\"}, \"bgcolor\": \"#E5ECF6\", \"radialaxis\": {\"gridcolor\": \"white\", \"linecolor\": \"white\", \"ticks\": \"\"}}, \"scene\": {\"xaxis\": {\"backgroundcolor\": \"#E5ECF6\", \"gridcolor\": \"white\", \"gridwidth\": 2, \"linecolor\": \"white\", \"showbackground\": true, \"ticks\": \"\", \"zerolinecolor\": \"white\"}, \"yaxis\": {\"backgroundcolor\": \"#E5ECF6\", \"gridcolor\": \"white\", \"gridwidth\": 2, \"linecolor\": \"white\", \"showbackground\": true, \"ticks\": \"\", \"zerolinecolor\": \"white\"}, \"zaxis\": {\"backgroundcolor\": \"#E5ECF6\", \"gridcolor\": \"white\", \"gridwidth\": 2, \"linecolor\": \"white\", \"showbackground\": true, \"ticks\": \"\", \"zerolinecolor\": \"white\"}}, \"shapedefaults\": {\"line\": {\"color\": \"#2a3f5f\"}}, \"ternary\": {\"aaxis\": {\"gridcolor\": \"white\", \"linecolor\": \"white\", \"ticks\": \"\"}, \"baxis\": {\"gridcolor\": \"white\", \"linecolor\": \"white\", \"ticks\": \"\"}, \"bgcolor\": \"#E5ECF6\", \"caxis\": {\"gridcolor\": \"white\", \"linecolor\": \"white\", \"ticks\": \"\"}}, \"title\": {\"x\": 0.05}, \"xaxis\": {\"automargin\": true, \"gridcolor\": \"white\", \"linecolor\": \"white\", \"ticks\": \"\", \"title\": {\"standoff\": 15}, \"zerolinecolor\": \"white\", \"zerolinewidth\": 2}, \"yaxis\": {\"automargin\": true, \"gridcolor\": \"white\", \"linecolor\": \"white\", \"ticks\": \"\", \"title\": {\"standoff\": 15}, \"zerolinecolor\": \"white\", \"zerolinewidth\": 2}}}, \"title\": {\"text\": \"Week of : Most Impactful Words for Driving Sentiment for \", \"x\": 0.5, \"xanchor\": \"center\", \"y\": 0.95}, \"xaxis\": {\"anchor\": \"y\", \"domain\": [0.0, 1.0], \"title\": {\"text\": \"Sentiment Importance\"}}, \"yaxis\": {\"anchor\": \"x\", \"domain\": [0.0, 1.0], \"tickvals\": [\"according\", \"today\", \"online\", \"tv\", \"june\", \"markets\", \"coming\", \"man\", \"time\", \"week\", \"year\", \"people\", \"podcast\", \"google\", \"series\", \"pro\", \"company\", \"amazon\", \"tech\", \"great\", \"years\", \"support\", \"day\", \"big\", \"2021\", \"free\", \"like\", \"new\", \"best\"], \"title\": {\"text\": \"Commmon Words\"}}},                        {\"responsive\": true}                    ).then(function(){\n",
       "                            \n",
       "var gd = document.getElementById('9050f08b-5c76-4f1b-9b87-d87a8cefdad3');\n",
       "var x = new MutationObserver(function (mutations, observer) {{\n",
       "        var display = window.getComputedStyle(gd).display;\n",
       "        if (!display || display === 'none') {{\n",
       "            console.log([gd, 'removed!']);\n",
       "            Plotly.purge(gd);\n",
       "            observer.disconnect();\n",
       "        }}\n",
       "}});\n",
       "\n",
       "// Listen for the removal of the full notebook cells\n",
       "var notebookContainer = gd.closest('#notebook-container');\n",
       "if (notebookContainer) {{\n",
       "    x.observe(notebookContainer, {childList: true});\n",
       "}}\n",
       "\n",
       "// Listen for the clearing of the current output cell\n",
       "var outputEl = gd.closest('.output');\n",
       "if (outputEl) {{\n",
       "    x.observe(outputEl, {childList: true});\n",
       "}}\n",
       "\n",
       "                        })                };                });            </script>        </div>"
      ]
     },
     "metadata": {},
     "output_type": "display_data"
    }
   ],
   "source": [
    "fig = px.bar(importance, y=importance.index, x='Sentiment Importance', orientation='h')\n",
    "layout1 = go.Layout(\n",
    "title={\n",
    "        'text': f\"Week of : Most Impactful Words for Driving Sentiment for \",\n",
    "        'y':0.95,\n",
    "        'x':0.5,\n",
    "        'xanchor': 'center',\n",
    "        },\n",
    "yaxis=dict(\n",
    "           tickvals=importance.index,\n",
    "    title='Commmon Words',\n",
    "    ))\n",
    "fig.update_layout(layout1)\n",
    "fig.show()"
   ]
  },
  {
   "cell_type": "markdown",
   "metadata": {},
   "source": [
    "## Functionzie Plotly Fig"
   ]
  },
  {
   "cell_type": "code",
   "execution_count": 77,
   "metadata": {
    "ExecuteTime": {
     "end_time": "2021-07-16T14:47:51.853656Z",
     "start_time": "2021-07-16T14:47:51.848078Z"
    }
   },
   "outputs": [],
   "source": [
    "import joblib\n",
    "\n",
    "def feat_imp_fig(pkl_file, company, week):\n",
    "\n",
    "    # Load in pickle file\n",
    "    comp_be = pkl_file\n",
    "\n",
    "    # Create vector + clf\n",
    "    vect = comp_be.named_steps['text_pipe']\n",
    "    clf = comp_be.named_steps['clf']\n",
    "\n",
    "    # Feature Importance Series\n",
    "    importance = pd.Series(clf.feature_importances_,\n",
    "                          index=vect.get_feature_names())\n",
    "\n",
    "    importance=importance.sort_values(ascending=False).to_frame()\n",
    "    importance = importance.nlargest(30, columns=0)\n",
    "    importance=importance.sort_values(by=0, ascending=True)\n",
    "\n",
    "    # Remove company name\n",
    "    importance.drop(company, inplace=True)\n",
    "\n",
    "    # Rename column\n",
    "    importance.rename(columns={0:'Sentiment Importance'}, inplace=True)\n",
    "\n",
    "    # Create Plotly fig\n",
    "    fig = px.bar(importance, y=importance.index, x='Sentiment Importance', orientation='h')\n",
    "    layout1 = go.Layout(\n",
    "    title={\n",
    "        'text': f\"Week of {week}: Most Impactful Words for Driving Sentiment for {company.capitalize()}\",\n",
    "        'y':0.95,\n",
    "        'x':0.5,\n",
    "        'xanchor': 'center',\n",
    "        },\n",
    "    yaxis=dict(\n",
    "               tickvals=importance.index,\n",
    "        title='Commmon Words',\n",
    "        ))\n",
    "    fig.update_layout(layout1)\n",
    "    fig.show()"
   ]
  },
  {
   "cell_type": "markdown",
   "metadata": {},
   "source": [
    "## Testing Feature Importance"
   ]
  },
  {
   "cell_type": "code",
   "execution_count": 78,
   "metadata": {
    "ExecuteTime": {
     "end_time": "2021-07-16T14:47:51.855978Z",
     "start_time": "2021-07-16T14:47:51.854664Z"
    }
   },
   "outputs": [],
   "source": [
    "## Apple Week1 vs. Week2"
   ]
  },
  {
   "cell_type": "code",
   "execution_count": 107,
   "metadata": {
    "ExecuteTime": {
     "end_time": "2021-07-16T15:11:37.427501Z",
     "start_time": "2021-07-16T15:11:36.991035Z"
    }
   },
   "outputs": [
    {
     "name": "stderr",
     "output_type": "stream",
     "text": [
      "/Users/ethankunin/opt/anaconda3/envs/learn-env/lib/python3.8/site-packages/sklearn/base.py:329: UserWarning:\n",
      "\n",
      "Trying to unpickle estimator TfidfTransformer from version 0.22.2.post1 when using version 0.23.2. This might lead to breaking code or invalid results. Use at your own risk.\n",
      "\n",
      "/Users/ethankunin/opt/anaconda3/envs/learn-env/lib/python3.8/site-packages/sklearn/base.py:329: UserWarning:\n",
      "\n",
      "Trying to unpickle estimator TfidfVectorizer from version 0.22.2.post1 when using version 0.23.2. This might lead to breaking code or invalid results. Use at your own risk.\n",
      "\n",
      "/Users/ethankunin/opt/anaconda3/envs/learn-env/lib/python3.8/site-packages/sklearn/base.py:329: UserWarning:\n",
      "\n",
      "Trying to unpickle estimator DecisionTreeClassifier from version 0.22.2.post1 when using version 0.23.2. This might lead to breaking code or invalid results. Use at your own risk.\n",
      "\n",
      "/Users/ethankunin/opt/anaconda3/envs/learn-env/lib/python3.8/site-packages/sklearn/base.py:329: UserWarning:\n",
      "\n",
      "Trying to unpickle estimator RandomForestClassifier from version 0.22.2.post1 when using version 0.23.2. This might lead to breaking code or invalid results. Use at your own risk.\n",
      "\n",
      "/Users/ethankunin/opt/anaconda3/envs/learn-env/lib/python3.8/site-packages/sklearn/base.py:329: UserWarning:\n",
      "\n",
      "Trying to unpickle estimator Pipeline from version 0.22.2.post1 when using version 0.23.2. This might lead to breaking code or invalid results. Use at your own risk.\n",
      "\n",
      "/Users/ethankunin/opt/anaconda3/envs/learn-env/lib/python3.8/site-packages/sklearn/base.py:329: UserWarning:\n",
      "\n",
      "Trying to unpickle estimator GridSearchCV from version 0.22.2.post1 when using version 0.23.2. This might lead to breaking code or invalid results. Use at your own risk.\n",
      "\n"
     ]
    }
   ],
   "source": [
    "am1 = joblib.load('grid_estimator_models/am1_bp.pkl')\n"
   ]
  },
  {
   "cell_type": "code",
   "execution_count": 108,
   "metadata": {
    "ExecuteTime": {
     "end_time": "2021-07-16T15:11:47.522166Z",
     "start_time": "2021-07-16T15:11:47.390854Z"
    }
   },
   "outputs": [
    {
     "ename": "AttributeError",
     "evalue": "'GridSearchCV' object has no attribute 'named_steps'",
     "output_type": "error",
     "traceback": [
      "\u001b[0;31m---------------------------------------------------------------------------\u001b[0m",
      "\u001b[0;31mAttributeError\u001b[0m                            Traceback (most recent call last)",
      "\u001b[0;32m<ipython-input-108-8825f42a2ced>\u001b[0m in \u001b[0;36m<module>\u001b[0;34m\u001b[0m\n\u001b[0;32m----> 1\u001b[0;31m \u001b[0mfeat_imp_fig\u001b[0m\u001b[0;34m(\u001b[0m\u001b[0mam1\u001b[0m\u001b[0;34m,\u001b[0m \u001b[0;34m'netflix'\u001b[0m\u001b[0;34m,\u001b[0m \u001b[0;34m'wk1'\u001b[0m\u001b[0;34m)\u001b[0m\u001b[0;34m\u001b[0m\u001b[0;34m\u001b[0m\u001b[0m\n\u001b[0m",
      "\u001b[0;32m<ipython-input-77-b79af3cb1832>\u001b[0m in \u001b[0;36mfeat_imp_fig\u001b[0;34m(pkl_file, company, week)\u001b[0m\n\u001b[1;32m      7\u001b[0m \u001b[0;34m\u001b[0m\u001b[0m\n\u001b[1;32m      8\u001b[0m     \u001b[0;31m# Create vector + clf\u001b[0m\u001b[0;34m\u001b[0m\u001b[0;34m\u001b[0m\u001b[0;34m\u001b[0m\u001b[0m\n\u001b[0;32m----> 9\u001b[0;31m     \u001b[0mvect\u001b[0m \u001b[0;34m=\u001b[0m \u001b[0mcomp_be\u001b[0m\u001b[0;34m.\u001b[0m\u001b[0mnamed_steps\u001b[0m\u001b[0;34m[\u001b[0m\u001b[0;34m'text_pipe'\u001b[0m\u001b[0;34m]\u001b[0m\u001b[0;34m\u001b[0m\u001b[0;34m\u001b[0m\u001b[0m\n\u001b[0m\u001b[1;32m     10\u001b[0m     \u001b[0mclf\u001b[0m \u001b[0;34m=\u001b[0m \u001b[0mcomp_be\u001b[0m\u001b[0;34m.\u001b[0m\u001b[0mnamed_steps\u001b[0m\u001b[0;34m[\u001b[0m\u001b[0;34m'clf'\u001b[0m\u001b[0;34m]\u001b[0m\u001b[0;34m\u001b[0m\u001b[0;34m\u001b[0m\u001b[0m\n\u001b[1;32m     11\u001b[0m \u001b[0;34m\u001b[0m\u001b[0m\n",
      "\u001b[0;31mAttributeError\u001b[0m: 'GridSearchCV' object has no attribute 'named_steps'"
     ]
    }
   ],
   "source": [
    "feat_imp_fig(am1, 'netflix', 'wk1')"
   ]
  },
  {
   "cell_type": "code",
   "execution_count": null,
   "metadata": {
    "ExecuteTime": {
     "end_time": "2021-07-16T14:47:52.218683Z",
     "start_time": "2021-07-16T14:47:48.871Z"
    }
   },
   "outputs": [],
   "source": [
    "df_netflix[df_netflix['']]"
   ]
  },
  {
   "cell_type": "code",
   "execution_count": null,
   "metadata": {
    "ExecuteTime": {
     "end_time": "2021-07-16T14:47:52.219357Z",
     "start_time": "2021-07-16T14:47:48.872Z"
    }
   },
   "outputs": [],
   "source": [
    "ls"
   ]
  },
  {
   "cell_type": "code",
   "execution_count": null,
   "metadata": {
    "ExecuteTime": {
     "end_time": "2021-07-16T14:47:52.219944Z",
     "start_time": "2021-07-16T14:47:48.872Z"
    }
   },
   "outputs": [],
   "source": [
    "df = pd.read_csv('/Users/ethankunin/Documents/Flatiron/Captstone/Sentiment_Tracker/data/etl_df/df_etl_nflx1.csv')"
   ]
  },
  {
   "cell_type": "markdown",
   "metadata": {},
   "source": [
    "# Polarizing Articles"
   ]
  },
  {
   "cell_type": "code",
   "execution_count": null,
   "metadata": {
    "ExecuteTime": {
     "end_time": "2021-07-16T14:47:52.220496Z",
     "start_time": "2021-07-16T14:47:48.874Z"
    }
   },
   "outputs": [],
   "source": [
    "df = df[df['day']==14].copy()"
   ]
  },
  {
   "cell_type": "code",
   "execution_count": null,
   "metadata": {
    "ExecuteTime": {
     "end_time": "2021-07-16T14:47:52.221084Z",
     "start_time": "2021-07-16T14:47:48.874Z"
    }
   },
   "outputs": [],
   "source": [
    "df.drop(columns=['description', 'content', 'results', 'hour', 'day', 'cont_joined', 'neg',\n",
    "                'neu', 'pos', 'blob', 'blob_abs', 'c_b', 'comp_abs'], inplace=True)"
   ]
  },
  {
   "cell_type": "code",
   "execution_count": null,
   "metadata": {
    "ExecuteTime": {
     "end_time": "2021-07-16T14:47:52.221635Z",
     "start_time": "2021-07-16T14:47:48.876Z"
    }
   },
   "outputs": [],
   "source": [
    "df"
   ]
  },
  {
   "cell_type": "code",
   "execution_count": null,
   "metadata": {
    "ExecuteTime": {
     "end_time": "2021-07-16T14:47:52.222312Z",
     "start_time": "2021-07-16T14:47:48.877Z"
    }
   },
   "outputs": [],
   "source": [
    "def set_idx(df):\n",
    "    df['publishedAt'] = pd.to_datetime(df['publishedAt'])\n",
    "    df.set_index('publishedAt', inplace=True)\n",
    "    return df"
   ]
  },
  {
   "cell_type": "code",
   "execution_count": null,
   "metadata": {
    "ExecuteTime": {
     "end_time": "2021-07-16T14:47:52.222952Z",
     "start_time": "2021-07-16T14:47:48.878Z"
    }
   },
   "outputs": [],
   "source": [
    "df = set_idx(df)"
   ]
  },
  {
   "cell_type": "code",
   "execution_count": null,
   "metadata": {
    "ExecuteTime": {
     "end_time": "2021-07-16T14:47:52.223512Z",
     "start_time": "2021-07-16T14:47:48.879Z"
    }
   },
   "outputs": [],
   "source": [
    "df.rename(columns={'title':'Headline', 'source2':'Source'}, inplace=True)"
   ]
  },
  {
   "cell_type": "code",
   "execution_count": null,
   "metadata": {
    "ExecuteTime": {
     "end_time": "2021-07-16T14:47:52.224081Z",
     "start_time": "2021-07-16T14:47:48.880Z"
    }
   },
   "outputs": [],
   "source": [
    "df"
   ]
  },
  {
   "cell_type": "code",
   "execution_count": null,
   "metadata": {
    "ExecuteTime": {
     "end_time": "2021-07-16T14:47:52.224718Z",
     "start_time": "2021-07-16T14:47:48.882Z"
    }
   },
   "outputs": [],
   "source": [
    "df['comp'].quantile(0.90)"
   ]
  },
  {
   "cell_type": "code",
   "execution_count": null,
   "metadata": {
    "ExecuteTime": {
     "end_time": "2021-07-16T14:47:52.225299Z",
     "start_time": "2021-07-16T14:47:48.883Z"
    }
   },
   "outputs": [],
   "source": [
    "df['comp'].quantile(0.10)"
   ]
  },
  {
   "cell_type": "code",
   "execution_count": null,
   "metadata": {
    "ExecuteTime": {
     "end_time": "2021-07-16T14:47:52.225929Z",
     "start_time": "2021-07-16T14:47:48.883Z"
    }
   },
   "outputs": [],
   "source": [
    "df = df[(df['comp']>=df['comp'].quantile(0.90)) | (df['comp']<=df['comp'].quantile(0.10))].copy()"
   ]
  },
  {
   "cell_type": "code",
   "execution_count": null,
   "metadata": {
    "ExecuteTime": {
     "end_time": "2021-07-16T14:47:52.226486Z",
     "start_time": "2021-07-16T14:47:48.884Z"
    }
   },
   "outputs": [],
   "source": [
    "df.drop(columns=['comp', 'comp_abs'], inplace=True)"
   ]
  },
  {
   "cell_type": "code",
   "execution_count": null,
   "metadata": {
    "ExecuteTime": {
     "end_time": "2021-07-16T14:47:52.227181Z",
     "start_time": "2021-07-16T14:47:48.886Z"
    }
   },
   "outputs": [],
   "source": [
    "num = df.shape[1]\n",
    "def highlight_1(s):\n",
    "\n",
    "    if s['Sentiment'] > 0:\n",
    "        return ['background-color: mediumseagreen']*num\n",
    "    else:\n",
    "        return ['background-color: lightcoral']*num"
   ]
  },
  {
   "cell_type": "code",
   "execution_count": null,
   "metadata": {
    "ExecuteTime": {
     "end_time": "2021-07-16T14:47:52.227786Z",
     "start_time": "2021-07-16T14:47:48.887Z"
    }
   },
   "outputs": [],
   "source": [
    "df = df.reset_index()"
   ]
  },
  {
   "cell_type": "code",
   "execution_count": null,
   "metadata": {
    "ExecuteTime": {
     "end_time": "2021-07-16T14:47:52.228378Z",
     "start_time": "2021-07-16T14:47:48.890Z"
    }
   },
   "outputs": [],
   "source": [
    "df.style.apply(highlight_1, axis=1)"
   ]
  },
  {
   "cell_type": "code",
   "execution_count": null,
   "metadata": {
    "ExecuteTime": {
     "end_time": "2021-07-16T14:47:52.228982Z",
     "start_time": "2021-07-16T14:47:48.891Z"
    }
   },
   "outputs": [],
   "source": [
    "df.shape[1]"
   ]
  },
  {
   "cell_type": "markdown",
   "metadata": {},
   "source": [
    "## Functionize Polarizing Articles"
   ]
  },
  {
   "cell_type": "code",
   "execution_count": null,
   "metadata": {
    "ExecuteTime": {
     "end_time": "2021-07-16T14:47:52.229667Z",
     "start_time": "2021-07-16T14:47:48.893Z"
    }
   },
   "outputs": [],
   "source": [
    "def prep_for_color(df):\n",
    "    \n",
    "    # Drop duplicates\n",
    "    df.drop_duplicates(subset=['title', 'source2', 'publishedAt'], inplace=True)\n",
    "\n",
    "    # Drop unnecessary comments\n",
    "    df.drop(columns=['description', 'content', 'results', 'hour', 'day', 'cont_joined', 'neg',\n",
    "                    'neu', 'pos', 'blob', 'blob_abs', 'c_b', 'comp_abs'], inplace=True)\n",
    "\n",
    "    # Pull out most polarizing\n",
    "    df = df[(df['comp']>=df['comp'].quantile(0.90)) | (df['comp']<=df['comp'].quantile(0.10))].copy()\n",
    "\n",
    "    # Drop additional columns\n",
    "    df.drop(columns=['comp'], inplace=True)\n",
    "    \n",
    "    # Rename columns\n",
    "    df.rename(columns={'title':'Headline', 'source2':'Source'}, inplace=True)\n",
    "    \n",
    "    return df"
   ]
  },
  {
   "cell_type": "code",
   "execution_count": null,
   "metadata": {
    "ExecuteTime": {
     "end_time": "2021-07-16T14:47:52.230259Z",
     "start_time": "2021-07-16T14:47:48.894Z"
    }
   },
   "outputs": [],
   "source": [
    "df.head(3)"
   ]
  },
  {
   "cell_type": "code",
   "execution_count": null,
   "metadata": {
    "ExecuteTime": {
     "end_time": "2021-07-16T14:47:52.231277Z",
     "start_time": "2021-07-16T14:47:48.896Z"
    }
   },
   "outputs": [],
   "source": [
    "df = prep_for_color(df)"
   ]
  },
  {
   "cell_type": "code",
   "execution_count": null,
   "metadata": {
    "ExecuteTime": {
     "end_time": "2021-07-16T14:47:52.231958Z",
     "start_time": "2021-07-16T14:47:48.898Z"
    }
   },
   "outputs": [],
   "source": [
    "df"
   ]
  },
  {
   "cell_type": "code",
   "execution_count": null,
   "metadata": {
    "ExecuteTime": {
     "end_time": "2021-07-16T14:47:52.232631Z",
     "start_time": "2021-07-16T14:47:48.899Z"
    }
   },
   "outputs": [],
   "source": [
    "num = df.shape[1]\n",
    "def highlight_1(s):\n",
    "\n",
    "    if s['Sentiment'] > 0:\n",
    "        return ['background-color: mediumseagreen']*num\n",
    "    else:\n",
    "        return ['background-color: lightcoral']*num"
   ]
  },
  {
   "cell_type": "code",
   "execution_count": null,
   "metadata": {
    "ExecuteTime": {
     "end_time": "2021-07-16T14:47:52.233233Z",
     "start_time": "2021-07-16T14:47:48.900Z"
    }
   },
   "outputs": [],
   "source": [
    "df = df.style.apply(highlight_1, axis=1)"
   ]
  },
  {
   "cell_type": "code",
   "execution_count": null,
   "metadata": {
    "ExecuteTime": {
     "end_time": "2021-07-16T14:47:52.233895Z",
     "start_time": "2021-07-16T14:47:48.903Z"
    }
   },
   "outputs": [],
   "source": [
    "df"
   ]
  },
  {
   "cell_type": "code",
   "execution_count": null,
   "metadata": {
    "ExecuteTime": {
     "end_time": "2021-07-16T14:47:52.234552Z",
     "start_time": "2021-07-16T14:47:48.904Z"
    }
   },
   "outputs": [],
   "source": [
    "len(df)"
   ]
  },
  {
   "cell_type": "code",
   "execution_count": null,
   "metadata": {
    "ExecuteTime": {
     "end_time": "2021-07-16T14:47:52.235156Z",
     "start_time": "2021-07-16T14:47:48.905Z"
    }
   },
   "outputs": [],
   "source": [
    "df = pd.read_csv('/Users/ethankunin/Documents/Flatiron/Captstone/Sentiment_Tracker/data/etl_df/df_etl_apple1.csv')"
   ]
  },
  {
   "cell_type": "code",
   "execution_count": null,
   "metadata": {
    "ExecuteTime": {
     "end_time": "2021-07-16T14:47:52.235802Z",
     "start_time": "2021-07-16T14:47:48.906Z"
    }
   },
   "outputs": [],
   "source": [
    "df.drduplicated(subset=['title', 'source2', 'publishedAt']).sum()"
   ]
  },
  {
   "cell_type": "code",
   "execution_count": null,
   "metadata": {
    "ExecuteTime": {
     "end_time": "2021-07-16T14:47:52.236417Z",
     "start_time": "2021-07-16T14:47:48.907Z"
    }
   },
   "outputs": [],
   "source": [
    "len(df)"
   ]
  },
  {
   "cell_type": "code",
   "execution_count": null,
   "metadata": {
    "ExecuteTime": {
     "end_time": "2021-07-16T14:47:52.237090Z",
     "start_time": "2021-07-16T14:47:48.908Z"
    }
   },
   "outputs": [],
   "source": [
    "91/2388"
   ]
  },
  {
   "cell_type": "code",
   "execution_count": null,
   "metadata": {},
   "outputs": [],
   "source": []
  }
 ],
 "metadata": {
  "kernelspec": {
   "display_name": "learn-env",
   "language": "python",
   "name": "learn-env"
  },
  "language_info": {
   "codemirror_mode": {
    "name": "ipython",
    "version": 3
   },
   "file_extension": ".py",
   "mimetype": "text/x-python",
   "name": "python",
   "nbconvert_exporter": "python",
   "pygments_lexer": "ipython3",
   "version": "3.8.5"
  },
  "toc": {
   "base_numbering": 1,
   "nav_menu": {},
   "number_sections": true,
   "sideBar": true,
   "skip_h1_title": false,
   "title_cell": "Table of Contents",
   "title_sidebar": "Contents",
   "toc_cell": false,
   "toc_position": {
    "height": "calc(100% - 180px)",
    "left": "10px",
    "top": "150px",
    "width": "288px"
   },
   "toc_section_display": true,
   "toc_window_display": true
  }
 },
 "nbformat": 4,
 "nbformat_minor": 4
}
